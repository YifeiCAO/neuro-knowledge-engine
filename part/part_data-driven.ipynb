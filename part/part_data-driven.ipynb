{
 "cells": [
  {
   "cell_type": "markdown",
   "metadata": {},
   "source": [
    "# Document-level distances\n",
    "\n",
    "## Load the text and brain activation data"
   ]
  },
  {
   "cell_type": "code",
   "execution_count": 1,
   "metadata": {},
   "outputs": [],
   "source": [
    "import pandas as pd\n",
    "import numpy as np\n",
    "from collections import OrderedDict"
   ]
  },
  {
   "cell_type": "code",
   "execution_count": 2,
   "metadata": {},
   "outputs": [
    {
     "data": {
      "text/plain": [
       "0.2984103746007817"
      ]
     },
     "execution_count": 2,
     "metadata": {},
     "output_type": "execute_result"
    }
   ],
   "source": [
    "atlas_labels = pd.read_csv(\"../data/atlases/harvard-oxford.csv\")\n",
    "act_bin = pd.read_csv(\"../data/dcm_0mm_thres0.csv\", index_col=0) # Previously binarized\n",
    "act_bin = act_bin[atlas_labels[\"PREPROCESSED\"]]\n",
    "act_bin.mean().mean()"
   ]
  },
  {
   "cell_type": "code",
   "execution_count": 3,
   "metadata": {},
   "outputs": [],
   "source": [
    "def mean_thres(df):\n",
    "    col_mean = df.mean()\n",
    "    df_bin = np.empty((df.shape[0], df.shape[1]))\n",
    "    i = 0\n",
    "    for col, doc_mean in col_mean.iteritems():\n",
    "        df_bin[:,i] = 1 * (df[col] > doc_mean)\n",
    "        i += 1\n",
    "    df_bin = pd.DataFrame(df_bin, columns=df.columns, index=df.index)\n",
    "    return df_bin"
   ]
  },
  {
   "cell_type": "code",
   "execution_count": 4,
   "metadata": {},
   "outputs": [
    {
     "data": {
      "text/plain": [
       "0.019064029185168477"
      ]
     },
     "execution_count": 4,
     "metadata": {},
     "output_type": "execute_result"
    }
   ],
   "source": [
    "dtm = pd.read_csv(\"../data/dtm_190124.csv.gz\", compression=\"gzip\", index_col=0)\n",
    "dtm_bin = mean_thres(dtm)\n",
    "dtm_bin.mean().mean()"
   ]
  },
  {
   "cell_type": "markdown",
   "metadata": {},
   "source": [
    "## Load the brain systems"
   ]
  },
  {
   "cell_type": "code",
   "execution_count": 5,
   "metadata": {},
   "outputs": [],
   "source": [
    "dom_lists = pd.read_csv(\"../lists/lists/lists_k07_oplen.csv\", index_col=None)\n",
    "dom_circuits = pd.read_csv(\"../lists/circuits/circuits_k07.csv\", index_col=None)"
   ]
  },
  {
   "cell_type": "code",
   "execution_count": 6,
   "metadata": {},
   "outputs": [],
   "source": [
    "words = sorted(list(set(dom_lists[\"TOKEN\"])))\n",
    "structures = sorted(list(set(dom_circuits[\"STRUCTURE\"])))\n",
    "domains = list(OrderedDict.fromkeys(dom_lists[\"CLUSTER\"]))"
   ]
  },
  {
   "cell_type": "code",
   "execution_count": 7,
   "metadata": {},
   "outputs": [],
   "source": [
    "dom_systems = pd.DataFrame(0.0, index=words+structures, columns=domains)\n",
    "for dom in domains:\n",
    "    for word in dom_lists.loc[dom_lists[\"CLUSTER\"] == dom, \"TOKEN\"]:\n",
    "        dom_systems.loc[word, dom] = 1.0\n",
    "    for struct in dom_circuits.loc[dom_circuits[\"CLUSTER\"] == dom, \"STRUCTURE\"]:\n",
    "        dom_systems.loc[struct, dom] = 1.0"
   ]
  },
  {
   "cell_type": "markdown",
   "metadata": {},
   "source": [
    "## Assign documents to systems"
   ]
  },
  {
   "cell_type": "code",
   "execution_count": null,
   "metadata": {},
   "outputs": [],
   "source": [
    "from scipy.spatial.distance import dice, cdist"
   ]
  },
  {
   "cell_type": "code",
   "execution_count": null,
   "metadata": {},
   "outputs": [],
   "source": [
    "pmids = [pmid for pmid in dtm_bin.index if pmid in act_bin.index]\n",
    "len(pmids)"
   ]
  },
  {
   "cell_type": "code",
   "execution_count": 10,
   "metadata": {},
   "outputs": [],
   "source": [
    "dtm_words = dtm_bin.loc[pmids, words]\n",
    "act_structs = act_bin.loc[pmids, structures]"
   ]
  },
  {
   "cell_type": "code",
   "execution_count": 11,
   "metadata": {},
   "outputs": [
    {
     "data": {
      "text/html": [
       "<div>\n",
       "<style scoped>\n",
       "    .dataframe tbody tr th:only-of-type {\n",
       "        vertical-align: middle;\n",
       "    }\n",
       "\n",
       "    .dataframe tbody tr th {\n",
       "        vertical-align: top;\n",
       "    }\n",
       "\n",
       "    .dataframe thead th {\n",
       "        text-align: right;\n",
       "    }\n",
       "</style>\n",
       "<table border=\"1\" class=\"dataframe\">\n",
       "  <thead>\n",
       "    <tr style=\"text-align: right;\">\n",
       "      <th></th>\n",
       "      <th>action</th>\n",
       "      <th>anticipation</th>\n",
       "      <th>arousal</th>\n",
       "      <th>articulation</th>\n",
       "      <th>attention</th>\n",
       "      <th>audition</th>\n",
       "      <th>auditory_feedback</th>\n",
       "      <th>auditory_perception</th>\n",
       "      <th>autobiographical_memory</th>\n",
       "      <th>cognitive</th>\n",
       "      <th>...</th>\n",
       "      <th>right_superior_temporal_gyrus_posterior_division</th>\n",
       "      <th>right_supplementary_motor_cortex</th>\n",
       "      <th>right_supracalcarine_cortex</th>\n",
       "      <th>right_supramarginal_gyrus_anterior_division</th>\n",
       "      <th>right_supramarginal_gyrus_posterior_division</th>\n",
       "      <th>right_temporal_fusiform_cortex_anterior_division</th>\n",
       "      <th>right_temporal_fusiform_cortex_posterior_division</th>\n",
       "      <th>right_temporal_occipital_fusiform_cortex</th>\n",
       "      <th>right_temporal_pole</th>\n",
       "      <th>right_thalamus</th>\n",
       "    </tr>\n",
       "  </thead>\n",
       "  <tbody>\n",
       "    <tr>\n",
       "      <th>1402966</th>\n",
       "      <td>0.0</td>\n",
       "      <td>0.0</td>\n",
       "      <td>1.0</td>\n",
       "      <td>0.0</td>\n",
       "      <td>0.0</td>\n",
       "      <td>0.0</td>\n",
       "      <td>0.0</td>\n",
       "      <td>0.0</td>\n",
       "      <td>0.0</td>\n",
       "      <td>0.0</td>\n",
       "      <td>...</td>\n",
       "      <td>0</td>\n",
       "      <td>0</td>\n",
       "      <td>0</td>\n",
       "      <td>0</td>\n",
       "      <td>0</td>\n",
       "      <td>0</td>\n",
       "      <td>0</td>\n",
       "      <td>1</td>\n",
       "      <td>0</td>\n",
       "      <td>0</td>\n",
       "    </tr>\n",
       "    <tr>\n",
       "      <th>1410086</th>\n",
       "      <td>0.0</td>\n",
       "      <td>0.0</td>\n",
       "      <td>0.0</td>\n",
       "      <td>0.0</td>\n",
       "      <td>0.0</td>\n",
       "      <td>0.0</td>\n",
       "      <td>0.0</td>\n",
       "      <td>0.0</td>\n",
       "      <td>0.0</td>\n",
       "      <td>0.0</td>\n",
       "      <td>...</td>\n",
       "      <td>0</td>\n",
       "      <td>0</td>\n",
       "      <td>0</td>\n",
       "      <td>0</td>\n",
       "      <td>0</td>\n",
       "      <td>0</td>\n",
       "      <td>0</td>\n",
       "      <td>1</td>\n",
       "      <td>0</td>\n",
       "      <td>0</td>\n",
       "    </tr>\n",
       "    <tr>\n",
       "      <th>1448149</th>\n",
       "      <td>0.0</td>\n",
       "      <td>0.0</td>\n",
       "      <td>0.0</td>\n",
       "      <td>0.0</td>\n",
       "      <td>0.0</td>\n",
       "      <td>0.0</td>\n",
       "      <td>0.0</td>\n",
       "      <td>0.0</td>\n",
       "      <td>0.0</td>\n",
       "      <td>0.0</td>\n",
       "      <td>...</td>\n",
       "      <td>0</td>\n",
       "      <td>0</td>\n",
       "      <td>0</td>\n",
       "      <td>0</td>\n",
       "      <td>0</td>\n",
       "      <td>0</td>\n",
       "      <td>0</td>\n",
       "      <td>0</td>\n",
       "      <td>1</td>\n",
       "      <td>0</td>\n",
       "    </tr>\n",
       "    <tr>\n",
       "      <th>1486459</th>\n",
       "      <td>0.0</td>\n",
       "      <td>0.0</td>\n",
       "      <td>0.0</td>\n",
       "      <td>1.0</td>\n",
       "      <td>0.0</td>\n",
       "      <td>0.0</td>\n",
       "      <td>0.0</td>\n",
       "      <td>1.0</td>\n",
       "      <td>0.0</td>\n",
       "      <td>1.0</td>\n",
       "      <td>...</td>\n",
       "      <td>1</td>\n",
       "      <td>0</td>\n",
       "      <td>0</td>\n",
       "      <td>0</td>\n",
       "      <td>0</td>\n",
       "      <td>0</td>\n",
       "      <td>0</td>\n",
       "      <td>0</td>\n",
       "      <td>0</td>\n",
       "      <td>0</td>\n",
       "    </tr>\n",
       "    <tr>\n",
       "      <th>1486460</th>\n",
       "      <td>0.0</td>\n",
       "      <td>0.0</td>\n",
       "      <td>0.0</td>\n",
       "      <td>0.0</td>\n",
       "      <td>0.0</td>\n",
       "      <td>0.0</td>\n",
       "      <td>0.0</td>\n",
       "      <td>0.0</td>\n",
       "      <td>0.0</td>\n",
       "      <td>1.0</td>\n",
       "      <td>...</td>\n",
       "      <td>1</td>\n",
       "      <td>0</td>\n",
       "      <td>1</td>\n",
       "      <td>0</td>\n",
       "      <td>1</td>\n",
       "      <td>0</td>\n",
       "      <td>0</td>\n",
       "      <td>0</td>\n",
       "      <td>0</td>\n",
       "      <td>0</td>\n",
       "    </tr>\n",
       "  </tbody>\n",
       "</table>\n",
       "<p>5 rows × 223 columns</p>\n",
       "</div>"
      ],
      "text/plain": [
       "         action  anticipation  arousal  articulation  attention  audition  \\\n",
       "1402966     0.0           0.0      1.0           0.0        0.0       0.0   \n",
       "1410086     0.0           0.0      0.0           0.0        0.0       0.0   \n",
       "1448149     0.0           0.0      0.0           0.0        0.0       0.0   \n",
       "1486459     0.0           0.0      0.0           1.0        0.0       0.0   \n",
       "1486460     0.0           0.0      0.0           0.0        0.0       0.0   \n",
       "\n",
       "         auditory_feedback  auditory_perception  autobiographical_memory  \\\n",
       "1402966                0.0                  0.0                      0.0   \n",
       "1410086                0.0                  0.0                      0.0   \n",
       "1448149                0.0                  0.0                      0.0   \n",
       "1486459                0.0                  1.0                      0.0   \n",
       "1486460                0.0                  0.0                      0.0   \n",
       "\n",
       "         cognitive  ...  right_superior_temporal_gyrus_posterior_division  \\\n",
       "1402966        0.0  ...                                                 0   \n",
       "1410086        0.0  ...                                                 0   \n",
       "1448149        0.0  ...                                                 0   \n",
       "1486459        1.0  ...                                                 1   \n",
       "1486460        1.0  ...                                                 1   \n",
       "\n",
       "         right_supplementary_motor_cortex  right_supracalcarine_cortex  \\\n",
       "1402966                                 0                            0   \n",
       "1410086                                 0                            0   \n",
       "1448149                                 0                            0   \n",
       "1486459                                 0                            0   \n",
       "1486460                                 0                            1   \n",
       "\n",
       "         right_supramarginal_gyrus_anterior_division  \\\n",
       "1402966                                            0   \n",
       "1410086                                            0   \n",
       "1448149                                            0   \n",
       "1486459                                            0   \n",
       "1486460                                            0   \n",
       "\n",
       "         right_supramarginal_gyrus_posterior_division  \\\n",
       "1402966                                             0   \n",
       "1410086                                             0   \n",
       "1448149                                             0   \n",
       "1486459                                             0   \n",
       "1486460                                             1   \n",
       "\n",
       "         right_temporal_fusiform_cortex_anterior_division  \\\n",
       "1402966                                                 0   \n",
       "1410086                                                 0   \n",
       "1448149                                                 0   \n",
       "1486459                                                 0   \n",
       "1486460                                                 0   \n",
       "\n",
       "         right_temporal_fusiform_cortex_posterior_division  \\\n",
       "1402966                                                  0   \n",
       "1410086                                                  0   \n",
       "1448149                                                  0   \n",
       "1486459                                                  0   \n",
       "1486460                                                  0   \n",
       "\n",
       "         right_temporal_occipital_fusiform_cortex  right_temporal_pole  \\\n",
       "1402966                                         1                    0   \n",
       "1410086                                         1                    0   \n",
       "1448149                                         0                    1   \n",
       "1486459                                         0                    0   \n",
       "1486460                                         0                    0   \n",
       "\n",
       "         right_thalamus  \n",
       "1402966               0  \n",
       "1410086               0  \n",
       "1448149               0  \n",
       "1486459               0  \n",
       "1486460               0  \n",
       "\n",
       "[5 rows x 223 columns]"
      ]
     },
     "execution_count": 11,
     "metadata": {},
     "output_type": "execute_result"
    }
   ],
   "source": [
    "docs = dtm_words.copy()\n",
    "docs[structures] = act_structs.copy()\n",
    "docs.head()"
   ]
  },
  {
   "cell_type": "code",
   "execution_count": 12,
   "metadata": {},
   "outputs": [
    {
     "data": {
      "text/plain": [
       "(18155, 7)"
      ]
     },
     "execution_count": 12,
     "metadata": {},
     "output_type": "execute_result"
    }
   ],
   "source": [
    "dom_dists = cdist(docs.values, dom_systems.values.T, metric=\"dice\")\n",
    "dom_dists.shape"
   ]
  },
  {
   "cell_type": "code",
   "execution_count": 13,
   "metadata": {},
   "outputs": [],
   "source": [
    "doc2dom = {pmid: 0 for pmid in pmids}\n",
    "for i, pmid in enumerate(pmids):\n",
    "    doc2dom[pmid] = np.argmin(dom_dists[i,:]) + 1"
   ]
  },
  {
   "cell_type": "code",
   "execution_count": 14,
   "metadata": {},
   "outputs": [],
   "source": [
    "doc2dom_df = pd.Series(doc2dom)\n",
    "doc2dom_df.to_csv(\"data/doc2dom_kmeans_k07.csv\", header=False)"
   ]
  },
  {
   "cell_type": "code",
   "execution_count": 15,
   "metadata": {},
   "outputs": [],
   "source": [
    "doc2dom_df = pd.read_csv(\"data/doc2dom_kmeans_k07.csv\", header=None, index_col=0)\n",
    "doc2dom = {int(pmid): int(dom) for pmid, dom in doc2dom_df.iterrows()}"
   ]
  },
  {
   "cell_type": "markdown",
   "metadata": {},
   "source": [
    "## Plot document distances"
   ]
  },
  {
   "cell_type": "code",
   "execution_count": 16,
   "metadata": {},
   "outputs": [],
   "source": [
    "import matplotlib.pyplot as plt\n",
    "from matplotlib import cm, font_manager, rcParams\n",
    "from scipy.spatial.distance import dice, cdist\n",
    "import warnings \n",
    "warnings.simplefilter(\"ignore\", UserWarning)\n",
    "% matplotlib inline"
   ]
  },
  {
   "cell_type": "code",
   "execution_count": 17,
   "metadata": {},
   "outputs": [],
   "source": [
    "arial = \"../style/Arial Unicode.ttf\"\n",
    "rcParams[\"axes.linewidth\"] = 1"
   ]
  },
  {
   "cell_type": "code",
   "execution_count": null,
   "metadata": {},
   "outputs": [],
   "source": [
    "dists = cdist(docs.values, docs.values, metric=\"dice\")\n",
    "dists = pd.DataFrame(dists, index=pmids, columns=pmids)"
   ]
  },
  {
   "cell_type": "code",
   "execution_count": 18,
   "metadata": {},
   "outputs": [],
   "source": [
    "ordered_doms = [6, 3, 7, 5, 2, 1, 4]"
   ]
  },
  {
   "cell_type": "code",
   "execution_count": 19,
   "metadata": {},
   "outputs": [],
   "source": [
    "dom_pmids = []\n",
    "for dom in ordered_doms:\n",
    "    dom_pmids += [pmid for pmid, sys in doc2dom.items() if sys == dom]"
   ]
  },
  {
   "cell_type": "code",
   "execution_count": null,
   "metadata": {},
   "outputs": [],
   "source": [
    "dists = dists[dom_pmids].loc[dom_pmids]"
   ]
  },
  {
   "cell_type": "code",
   "execution_count": null,
   "metadata": {},
   "outputs": [],
   "source": [
    "transitions = []\n",
    "for i, pmid in enumerate(dom_pmids):\n",
    "    if doc2dom[dom_pmids[i-1]] != doc2dom[pmid]:\n",
    "        transitions.append(i)"
   ]
  },
  {
   "cell_type": "code",
   "execution_count": null,
   "metadata": {},
   "outputs": [],
   "source": [
    "fig = plt.figure(figsize=(10,10), frameon=False)\n",
    "ax = fig.add_axes([0,0,1,1])\n",
    "\n",
    "X = dists.values.astype(np.float)\n",
    "im = ax.matshow(X, cmap=cm.Greys_r, vmin=0, vmax=1, alpha=1) \n",
    "plt.xticks(transitions)\n",
    "plt.yticks(transitions)\n",
    "ax.set_xticklabels([])\n",
    "ax.set_yticklabels([])\n",
    "\n",
    "plt.tight_layout()\n",
    "plt.savefig(\"figures/dist_kmeans_k07.png\", dpi=250, bbox_inches=\"tight\")\n",
    "plt.show()"
   ]
  },
  {
   "cell_type": "markdown",
   "metadata": {},
   "source": [
    "## Compute distances ratios"
   ]
  },
  {
   "cell_type": "code",
   "execution_count": 20,
   "metadata": {},
   "outputs": [],
   "source": [
    "dom2name = {6: \"emotion\", 3: \"anticipation\", 1: \"meaning\", 4: \"language\", \n",
    "            2: \"manipulation\", 5: \"vision\", 7: \"cognition\"}"
   ]
  },
  {
   "cell_type": "code",
   "execution_count": 21,
   "metadata": {},
   "outputs": [],
   "source": [
    "dom_names = [dom2name[dom].title() for dom in ordered_doms]"
   ]
  },
  {
   "cell_type": "code",
   "execution_count": 22,
   "metadata": {},
   "outputs": [],
   "source": [
    "dom2docs = {dom: [] for dom in domains}\n",
    "for doc, dom in doc2dom.iteritems():\n",
    "    dom2docs[domains[dom-1]].append(doc)"
   ]
  },
  {
   "cell_type": "markdown",
   "metadata": {},
   "source": [
    "### Observed values"
   ]
  },
  {
   "cell_type": "code",
   "execution_count": 23,
   "metadata": {},
   "outputs": [
    {
     "name": "stdout",
     "output_type": "stream",
     "text": [
      "EMOTION     \t13224.854 / 18620.591 =  1.408\n",
      "ANTICIPATION\t7733.184 / 11950.894 =  1.545\n",
      "COGNITION   \t125792.875 / 131783.741 =  1.048\n",
      "VISION      \t130757.255 / 139523.517 =  1.067\n",
      "MANIPULATION\t220139.375 / 227045.284 =  1.031\n",
      "MEANING     \t15623.426 / 18816.568 =  1.204\n",
      "LANGUAGE    \t39277.819 / 46413.069 =  1.182\n",
      "\n",
      "TOTAL\t\t78935.541 / 84879.095 =  1.075\n"
     ]
    }
   ],
   "source": [
    "centroid = np.mean(docs).values\n",
    "dist_ints, dist_exts, dist_rats = [], [], []\n",
    "for dom in ordered_doms:\n",
    "    dom_pmids = dom2docs[dom]\n",
    "    dom_vecs = docs.loc[dom_pmids].values\n",
    "    dom_centroid = np.mean(dom_vecs, axis=0)\n",
    "    n_docs = dom_vecs.shape[0]\n",
    "    dist_int = np.sum([(dom_vecs[i,:] - dom_centroid) ** 2 for i in range(n_docs)])\n",
    "    dist_ext = np.sum([(dom_vecs[i,:] - centroid) ** 2 for i in range(n_docs)])\n",
    "    ratio = dist_ext / dist_int\n",
    "    dist_ints.append(dist_int)\n",
    "    dist_exts.append(dist_ext)\n",
    "    dist_rats.append(ratio)\n",
    "    print(\"{:12s}\\t{:4.3f} / {:6.3f} = {:6.3f}\".format(\n",
    "          dom2name[dom].upper(), dist_int, dist_ext, ratio))\n",
    "print(\"\")\n",
    "print(\"TOTAL\\t\\t{:4.3f} / {:6.3f} = {:6.3f}\".format(\n",
    "      np.mean(dist_ints), np.mean(dist_exts), np.mean(dist_exts) / np.mean(dist_ints)))"
   ]
  },
  {
   "cell_type": "code",
   "execution_count": 24,
   "metadata": {},
   "outputs": [
    {
     "data": {
      "text/html": [
       "<div>\n",
       "<style scoped>\n",
       "    .dataframe tbody tr th:only-of-type {\n",
       "        vertical-align: middle;\n",
       "    }\n",
       "\n",
       "    .dataframe tbody tr th {\n",
       "        vertical-align: top;\n",
       "    }\n",
       "\n",
       "    .dataframe thead th {\n",
       "        text-align: right;\n",
       "    }\n",
       "</style>\n",
       "<table border=\"1\" class=\"dataframe\">\n",
       "  <thead>\n",
       "    <tr style=\"text-align: right;\">\n",
       "      <th></th>\n",
       "      <th>OBSERVED</th>\n",
       "    </tr>\n",
       "  </thead>\n",
       "  <tbody>\n",
       "    <tr>\n",
       "      <th>Emotion</th>\n",
       "      <td>1.408000</td>\n",
       "    </tr>\n",
       "    <tr>\n",
       "      <th>Anticipation</th>\n",
       "      <td>1.545404</td>\n",
       "    </tr>\n",
       "    <tr>\n",
       "      <th>Cognition</th>\n",
       "      <td>1.047625</td>\n",
       "    </tr>\n",
       "    <tr>\n",
       "      <th>Vision</th>\n",
       "      <td>1.067042</td>\n",
       "    </tr>\n",
       "    <tr>\n",
       "      <th>Manipulation</th>\n",
       "      <td>1.031371</td>\n",
       "    </tr>\n",
       "    <tr>\n",
       "      <th>Meaning</th>\n",
       "      <td>1.204382</td>\n",
       "    </tr>\n",
       "    <tr>\n",
       "      <th>Language</th>\n",
       "      <td>1.181661</td>\n",
       "    </tr>\n",
       "  </tbody>\n",
       "</table>\n",
       "</div>"
      ],
      "text/plain": [
       "              OBSERVED\n",
       "Emotion       1.408000\n",
       "Anticipation  1.545404\n",
       "Cognition     1.047625\n",
       "Vision        1.067042\n",
       "Manipulation  1.031371\n",
       "Meaning       1.204382\n",
       "Language      1.181661"
      ]
     },
     "execution_count": 24,
     "metadata": {},
     "output_type": "execute_result"
    }
   ],
   "source": [
    "df = pd.DataFrame({\"OBSERVED\": dist_rats}, index=dom_names)\n",
    "df.head(7)"
   ]
  },
  {
   "cell_type": "markdown",
   "metadata": {},
   "source": [
    "### Bootstrap distributions"
   ]
  },
  {
   "cell_type": "code",
   "execution_count": 25,
   "metadata": {},
   "outputs": [],
   "source": [
    "n_iter = 10000"
   ]
  },
  {
   "cell_type": "code",
   "execution_count": null,
   "metadata": {},
   "outputs": [],
   "source": [
    "df_boot = np.empty((len(domains), n_iter))\n",
    "for n in range(n_iter):\n",
    "    boot = np.random.choice(docs.columns, size=len(docs.columns), replace=True)\n",
    "    centroid = np.mean(docs[boot]).values\n",
    "    for i, dom in enumerate(domains):\n",
    "        dom_pmids = dom2docs[dom]\n",
    "        dom_vecs = docs.loc[dom_pmids, boot].values\n",
    "        dom_centroid = np.mean(dom_vecs, axis=0).reshape(1,dom_vecs.shape[1])\n",
    "        n_docs = dom_vecs.shape[0]\n",
    "        dist_int = np.sum((dom_vecs - dom_centroid) ** 2)\n",
    "        dist_ext = np.sum((dom_vecs - centroid) ** 2)\n",
    "        df_boot[i,n] = dist_ext / dist_int\n",
    "    if n % int(n_iter / 10.0) == 0:\n",
    "        print(\"Processed {} iterations\".format(n))"
   ]
  },
  {
   "cell_type": "code",
   "execution_count": null,
   "metadata": {},
   "outputs": [],
   "source": [
    "df_boot = pd.DataFrame(df_boot, index=dom_names, columns=range(n_iter))\n",
    "df_boot = df_boot.fillna(0.0)\n",
    "df_boot.to_csv(\"data/mod_boot_kmeans_k07_{}iter.csv\".format(n_iter))"
   ]
  },
  {
   "cell_type": "markdown",
   "metadata": {},
   "source": [
    "### Null distributions"
   ]
  },
  {
   "cell_type": "code",
   "execution_count": null,
   "metadata": {},
   "outputs": [],
   "source": [
    "df_null = np.empty((len(domains), n_iter))\n",
    "for n in range(n_iter):\n",
    "    null = np.random.choice(range(docs.shape[1]), size=docs.shape[1], replace=False)\n",
    "    centroid = np.mean(docs)[null].values\n",
    "    for i, dom in enumerate(domains):\n",
    "        dom_pmids = dom2docs[dom]\n",
    "        dom_vecs = docs.loc[dom_pmids].values\n",
    "        dom_centroid = np.mean(dom_vecs, axis=0)[null]\n",
    "        n_docs = dom_vecs.shape[0]\n",
    "        dist_int = np.sum((dom_vecs - dom_centroid) ** 2)\n",
    "        dist_ext = np.sum((dom_vecs - centroid) ** 2)\n",
    "        df_null[i,n] = dist_ext / dist_int\n",
    "    if n % int(n_iter / 10.0) == 0:\n",
    "        print(\"Processed {} iterations\".format(n))"
   ]
  },
  {
   "cell_type": "code",
   "execution_count": null,
   "metadata": {},
   "outputs": [],
   "source": [
    "df_null = pd.DataFrame(df_null, index=dom_names, columns=range(n_iter))\n",
    "df_null.to_csv(\"data/mod_null_kmeans_k07_{}iter.csv\".format(n_iter))"
   ]
  },
  {
   "cell_type": "markdown",
   "metadata": {},
   "source": [
    "### Comparison tests"
   ]
  },
  {
   "cell_type": "code",
   "execution_count": 26,
   "metadata": {},
   "outputs": [],
   "source": [
    "from statsmodels.stats import multitest"
   ]
  },
  {
   "cell_type": "code",
   "execution_count": 27,
   "metadata": {},
   "outputs": [],
   "source": [
    "df_boot = pd.read_csv(\"data/mod_boot_kmeans_k07_{}iter.csv\".format(n_iter), index_col=0)\n",
    "df_null = pd.read_csv(\"data/mod_null_kmeans_k07_{}iter.csv\".format(n_iter), index_col=0)"
   ]
  },
  {
   "cell_type": "code",
   "execution_count": 28,
   "metadata": {},
   "outputs": [
    {
     "data": {
      "text/html": [
       "<div>\n",
       "<style scoped>\n",
       "    .dataframe tbody tr th:only-of-type {\n",
       "        vertical-align: middle;\n",
       "    }\n",
       "\n",
       "    .dataframe tbody tr th {\n",
       "        vertical-align: top;\n",
       "    }\n",
       "\n",
       "    .dataframe thead th {\n",
       "        text-align: right;\n",
       "    }\n",
       "</style>\n",
       "<table border=\"1\" class=\"dataframe\">\n",
       "  <thead>\n",
       "    <tr style=\"text-align: right;\">\n",
       "      <th></th>\n",
       "      <th>OBSERVED</th>\n",
       "      <th>P</th>\n",
       "      <th>P_COR</th>\n",
       "      <th>STARS</th>\n",
       "    </tr>\n",
       "  </thead>\n",
       "  <tbody>\n",
       "    <tr>\n",
       "      <th>Emotion</th>\n",
       "      <td>1.408000</td>\n",
       "      <td>0.0</td>\n",
       "      <td>0.0</td>\n",
       "      <td>***</td>\n",
       "    </tr>\n",
       "    <tr>\n",
       "      <th>Anticipation</th>\n",
       "      <td>1.545404</td>\n",
       "      <td>0.0</td>\n",
       "      <td>0.0</td>\n",
       "      <td>***</td>\n",
       "    </tr>\n",
       "    <tr>\n",
       "      <th>Cognition</th>\n",
       "      <td>1.047625</td>\n",
       "      <td>0.0</td>\n",
       "      <td>0.0</td>\n",
       "      <td>***</td>\n",
       "    </tr>\n",
       "    <tr>\n",
       "      <th>Vision</th>\n",
       "      <td>1.067042</td>\n",
       "      <td>0.0</td>\n",
       "      <td>0.0</td>\n",
       "      <td>***</td>\n",
       "    </tr>\n",
       "    <tr>\n",
       "      <th>Manipulation</th>\n",
       "      <td>1.031371</td>\n",
       "      <td>0.0</td>\n",
       "      <td>0.0</td>\n",
       "      <td>***</td>\n",
       "    </tr>\n",
       "    <tr>\n",
       "      <th>Meaning</th>\n",
       "      <td>1.204382</td>\n",
       "      <td>0.0</td>\n",
       "      <td>0.0</td>\n",
       "      <td>***</td>\n",
       "    </tr>\n",
       "    <tr>\n",
       "      <th>Language</th>\n",
       "      <td>1.181661</td>\n",
       "      <td>0.0</td>\n",
       "      <td>0.0</td>\n",
       "      <td>***</td>\n",
       "    </tr>\n",
       "  </tbody>\n",
       "</table>\n",
       "</div>"
      ],
      "text/plain": [
       "              OBSERVED    P  P_COR STARS\n",
       "Emotion       1.408000  0.0    0.0   ***\n",
       "Anticipation  1.545404  0.0    0.0   ***\n",
       "Cognition     1.047625  0.0    0.0   ***\n",
       "Vision        1.067042  0.0    0.0   ***\n",
       "Manipulation  1.031371  0.0    0.0   ***\n",
       "Meaning       1.204382  0.0    0.0   ***\n",
       "Language      1.181661  0.0    0.0   ***"
      ]
     },
     "execution_count": 28,
     "metadata": {},
     "output_type": "execute_result"
    }
   ],
   "source": [
    "pval = []\n",
    "for i, dom in enumerate(dom_names):   \n",
    "    dom_boot = df_boot.loc[dom].values\n",
    "    dom_null = df_null.loc[dom].values\n",
    "    p = np.sum(np.less(dom_boot, np.max(dom_null))) / float(n_iter)\n",
    "    pval.append(p)\n",
    "    df.loc[dom, \"P\"] = p\n",
    "df[\"P_COR\"] = multitest.multipletests(pval, method=\"fdr_bh\")[1]\n",
    "for i, dom in enumerate(dom_names):\n",
    "    for star, alpha in zip([\"*\", \"**\", \"***\"], [0.05, 0.01, 0.001]):\n",
    "        if df.loc[dom, \"P_COR\"] < alpha:\n",
    "            df.loc[dom, \"STARS\"] = star\n",
    "df = df.loc[dom_names, [\"OBSERVED\", \"P\", \"P_COR\", \"STARS\"]]\n",
    "df"
   ]
  },
  {
   "cell_type": "markdown",
   "metadata": {},
   "source": [
    "### Violin plots"
   ]
  },
  {
   "cell_type": "code",
   "execution_count": 29,
   "metadata": {},
   "outputs": [],
   "source": [
    "import matplotlib.pyplot as plt\n",
    "from matplotlib import cm, font_manager, rcParams\n",
    "import warnings \n",
    "warnings.simplefilter(\"ignore\", UserWarning)\n",
    "% matplotlib inline"
   ]
  },
  {
   "cell_type": "code",
   "execution_count": 30,
   "metadata": {},
   "outputs": [],
   "source": [
    "arial = \"../style/Arial Unicode.ttf\"\n",
    "prop = font_manager.FontProperties(fname=arial, size=20)\n",
    "prop_lg = font_manager.FontProperties(fname=arial, size=24)\n",
    "rcParams[\"axes.linewidth\"] = 1.5"
   ]
  },
  {
   "cell_type": "code",
   "execution_count": 31,
   "metadata": {},
   "outputs": [],
   "source": [
    "palette = [\"#7D74A3\", # Purple\n",
    "           \"#CE7D69\", # Red\n",
    "           \"#B07EB6\", # Magenta\n",
    "           \"#BA7E39\", # Orange\n",
    "           \"#77B58A\", # Green\n",
    "           \"#778AA3\", # Blue\n",
    "           \"#CEBE6D\"] # Yellow"
   ]
  },
  {
   "cell_type": "code",
   "execution_count": 38,
   "metadata": {},
   "outputs": [
    {
     "data": {
      "image/png": "[encoded data removed]",
      "text/plain": [
       "<Figure size 324x151.2 with 1 Axes>"
      ]
     },
     "metadata": {
      "needs_background": "light"
     },
     "output_type": "display_data"
    }
   ],
   "source": [
    "# Set up figure\n",
    "fig = plt.figure(figsize=(4.5, 2.1))\n",
    "ax = fig.add_axes([0,0,1,1])\n",
    "\n",
    "for i, dom in enumerate(ordered_doms):\n",
    "    name = dom2name[dom].title()\n",
    "    \n",
    "    # Null distribution\n",
    "    data = sorted(df_null.loc[name])\n",
    "    obs = np.mean(data)\n",
    "    plt.plot([i-0.37, i+0.37], [obs, obs], \n",
    "             c=\"#999999\", alpha=0.7, lw=2)\n",
    "    v = ax.violinplot(data, positions=[i], \n",
    "                      showmeans=False, showmedians=False, widths=0.85)\n",
    "    for pc in v[\"bodies\"]:\n",
    "        pc.set_facecolor(\"#d8d8d8\")\n",
    "        pc.set_edgecolor(\"#6d6d6d\")\n",
    "        pc.set_linewidth(1.25)\n",
    "        pc.set_alpha(0.5)\n",
    "    for line in [\"cmaxes\", \"cmins\", \"cbars\"]:\n",
    "        v[line].set_edgecolor(\"none\")\n",
    "        \n",
    "    # Bootstrap distribution\n",
    "    data = sorted(df_boot.loc[name])\n",
    "    obs = df.loc[name, \"OBSERVED\"]\n",
    "    plt.plot([i-0.37, i+0.38], [obs, obs], \n",
    "             c=palette[dom-1], alpha=1, lw=2)\n",
    "    v = ax.violinplot(data, positions=[i], \n",
    "                      showmeans=False, showmedians=False, widths=0.85)\n",
    "    for pc in v[\"bodies\"]:\n",
    "        pc.set_facecolor(palette[dom-1])\n",
    "        pc.set_edgecolor(palette[dom-1])\n",
    "        pc.set_linewidth(1.25)\n",
    "        pc.set_alpha(0.55)\n",
    "    for line in [\"cmaxes\", \"cmins\", \"cbars\"]:\n",
    "        v[line].set_edgecolor(\"none\")\n",
    "\n",
    "    # Comparison test\n",
    "    for alpha, dy in [(0.05, 0), (0.01, 0.06), (0.001, 0.12)]:\n",
    "        if df[\"P_COR\"][i] <= alpha:\n",
    "            plt.text(i-0.11, max(data) + dy, \"*\", fontproperties=prop_lg)\n",
    "        \n",
    "plt.plot([-1,len(ordered_doms)], [1, 1], \n",
    "         linestyle=\"dashed\", c=\"k\", alpha=1, linewidth=2)\n",
    "\n",
    "# Set plot parameters\n",
    "plt.xticks([])\n",
    "plt.yticks([1,1.25,1.5,1.75], fontproperties=prop)\n",
    "plt.xlim([-0.75, len(ordered_doms)-0.35])\n",
    "plt.ylim([0.85, 1.75])\n",
    "for side in [\"right\", \"top\", \"bottom\"]:\n",
    "    ax.spines[side].set_visible(False)\n",
    "ax.xaxis.set_tick_params(width=1.5, length=0)\n",
    "ax.yaxis.set_tick_params(width=1.5, length=7)\n",
    "\n",
    "# Export figure\n",
    "plt.savefig(\"figures/dist_ratios_kmeans_k07_{}iter.png\".format(n_iter), \n",
    "            dpi=250, bbox_inches=\"tight\")\n",
    "plt.show()"
   ]
  },
  {
   "cell_type": "code",
   "execution_count": null,
   "metadata": {},
   "outputs": [],
   "source": []
  }
 ],
 "metadata": {
  "kernelspec": {
   "display_name": "Python (RDoC)",
   "language": "python",
   "name": "rdoc"
  },
  "language_info": {
   "codemirror_mode": {
    "name": "ipython",
    "version": 2
   },
   "file_extension": ".py",
   "mimetype": "text/x-python",
   "name": "python",
   "nbconvert_exporter": "python",
   "pygments_lexer": "ipython2",
   "version": "2.7.15"
  }
 },
 "nbformat": 4,
 "nbformat_minor": 2
}
