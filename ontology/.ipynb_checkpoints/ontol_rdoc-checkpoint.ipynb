{
 "cells": [
  {
   "cell_type": "markdown",
   "metadata": {},
   "source": [
    "# Introduction\n",
    "\n",
    "This notebook translates the behaviors, self-report measures, and paradigms of each domain in the [RDoC](https://www.nimh.nih.gov/research-priorities/rdoc/constructs/rdoc-matrix.shtml) framework into the language of the human neuroimaging literature. The objective is to maximize semantic similarity between the centroid of seed terms from RDoC and the centroid of a new list of terms for mental functions. Seed terms were scraped from RDoC version 5 on January 24, 2019. The work flow is as follows:\n",
    "\n",
    "1. Compute the centroid of terms for mental functions for each domain in semantic space.\n",
    "2. Identify the most semantically similar terms to each domain centroid across list lengths.\n",
    "3. Select the word list length that maximizes semantic similarity to the domain centroid.\n",
    "\n",
    "Our vector space model for semantic content is [GloVe](https://github.com/stanfordnlp/GloVe), which was trained on 50,000 human neuroimaging articles. The parameters for the GloVe model were a minimum word count of 5, window size of 15, and embedding dimension of 100 over 500 iterations."
   ]
  },
  {
   "cell_type": "markdown",
   "metadata": {},
   "source": [
    "# Load the data"
   ]
  },
  {
   "cell_type": "code",
   "execution_count": 1,
   "metadata": {},
   "outputs": [],
   "source": [
    "import pandas as pd\n",
    "from collections import OrderedDict\n",
    "from utilities import *"
   ]
  },
  {
   "cell_type": "code",
   "execution_count": 2,
   "metadata": {},
   "outputs": [],
   "source": [
    "vsm_version = 190428 # Version of GloVe embeddings\n",
    "dtm_version = 190325 # Version of document-term matrix\n",
    "rdoc_version = 190124 # Version of RDoC matrix"
   ]
  },
  {
   "cell_type": "markdown",
   "metadata": {},
   "source": [
    "## Vector space model"
   ]
  },
  {
   "cell_type": "code",
   "execution_count": 3,
   "metadata": {},
   "outputs": [
    {
     "name": "stdout",
     "output_type": "stream",
     "text": [
      "Vocab N=350544, Embedding N=100\n"
     ]
    }
   ],
   "source": [
    "vsm = pd.read_csv(\"../data/text/glove_gen_n100_win15_min5_iter500_{}.txt\".format(vsm_version), \n",
    "                    index_col=0, header=None, sep=\" \")\n",
    "print(\"Vocab N={}, Embedding N={}\".format(vsm.shape[0], vsm.shape[1]))"
   ]
  },
  {
   "cell_type": "markdown",
   "metadata": {},
   "source": [
    "## Document-term matrix"
   ]
  },
  {
   "cell_type": "code",
   "execution_count": 4,
   "metadata": {},
   "outputs": [
    {
     "name": "stdout",
     "output_type": "stream",
     "text": [
      "Document N=18155, Term N=4107\n"
     ]
    }
   ],
   "source": [
    "dtm = load_doc_term_matrix(version=dtm_version, binarize=False)\n",
    "dtm = dtm.loc[:, (dtm != 0).any(axis=0)]\n",
    "print(\"Document N={}, Term N={}\".format(dtm.shape[0], dtm.shape[1]))"
   ]
  },
  {
   "cell_type": "markdown",
   "metadata": {},
   "source": [
    "## RDoC seed terms"
   ]
  },
  {
   "cell_type": "code",
   "execution_count": 5,
   "metadata": {},
   "outputs": [
    {
     "data": {
      "text/html": [
       "<div>\n",
       "<style scoped>\n",
       "    .dataframe tbody tr th:only-of-type {\n",
       "        vertical-align: middle;\n",
       "    }\n",
       "\n",
       "    .dataframe tbody tr th {\n",
       "        vertical-align: top;\n",
       "    }\n",
       "\n",
       "    .dataframe thead th {\n",
       "        text-align: right;\n",
       "    }\n",
       "</style>\n",
       "<table border=\"1\" class=\"dataframe\">\n",
       "  <thead>\n",
       "    <tr style=\"text-align: right;\">\n",
       "      <th></th>\n",
       "      <th>ORDER</th>\n",
       "      <th>DOMAIN</th>\n",
       "      <th>CONSTRUCT</th>\n",
       "      <th>UNIT</th>\n",
       "      <th>TOKEN</th>\n",
       "      <th>CONFIDENCE</th>\n",
       "    </tr>\n",
       "  </thead>\n",
       "  <tbody>\n",
       "    <tr>\n",
       "      <th>0</th>\n",
       "      <td>0</td>\n",
       "      <td>NEGATIVE_VALENCE</td>\n",
       "      <td>ACUTE_THREAT</td>\n",
       "      <td>CONSTRUCT</td>\n",
       "      <td>acute_threat</td>\n",
       "      <td>1</td>\n",
       "    </tr>\n",
       "    <tr>\n",
       "      <th>1</th>\n",
       "      <td>0</td>\n",
       "      <td>NEGATIVE_VALENCE</td>\n",
       "      <td>ACUTE_THREAT</td>\n",
       "      <td>CONSTRUCT</td>\n",
       "      <td>fear</td>\n",
       "      <td>1</td>\n",
       "    </tr>\n",
       "    <tr>\n",
       "      <th>2</th>\n",
       "      <td>0</td>\n",
       "      <td>NEGATIVE_VALENCE</td>\n",
       "      <td>ACUTE_THREAT</td>\n",
       "      <td>BEHAVIOR</td>\n",
       "      <td>analgesia</td>\n",
       "      <td>0</td>\n",
       "    </tr>\n",
       "    <tr>\n",
       "      <th>3</th>\n",
       "      <td>0</td>\n",
       "      <td>NEGATIVE_VALENCE</td>\n",
       "      <td>ACUTE_THREAT</td>\n",
       "      <td>BEHAVIOR</td>\n",
       "      <td>approach</td>\n",
       "      <td>0</td>\n",
       "    </tr>\n",
       "    <tr>\n",
       "      <th>4</th>\n",
       "      <td>0</td>\n",
       "      <td>NEGATIVE_VALENCE</td>\n",
       "      <td>ACUTE_THREAT</td>\n",
       "      <td>BEHAVIOR</td>\n",
       "      <td>avoidance</td>\n",
       "      <td>0</td>\n",
       "    </tr>\n",
       "  </tbody>\n",
       "</table>\n",
       "</div>"
      ],
      "text/plain": [
       "   ORDER            DOMAIN     CONSTRUCT       UNIT         TOKEN  CONFIDENCE\n",
       "0      0  NEGATIVE_VALENCE  ACUTE_THREAT  CONSTRUCT  acute_threat           1\n",
       "1      0  NEGATIVE_VALENCE  ACUTE_THREAT  CONSTRUCT          fear           1\n",
       "2      0  NEGATIVE_VALENCE  ACUTE_THREAT   BEHAVIOR     analgesia           0\n",
       "3      0  NEGATIVE_VALENCE  ACUTE_THREAT   BEHAVIOR      approach           0\n",
       "4      0  NEGATIVE_VALENCE  ACUTE_THREAT   BEHAVIOR     avoidance           0"
      ]
     },
     "execution_count": 5,
     "metadata": {},
     "output_type": "execute_result"
    }
   ],
   "source": [
    "seed_df = pd.read_csv(\"../lexicon/rdoc_{}/rdoc_seeds.csv\".format(rdoc_version), \n",
    "                      index_col=None, header=0)\n",
    "seed_df = seed_df.loc[seed_df[\"TOKEN\"].isin(vsm.index)]\n",
    "seed_df.head()"
   ]
  },
  {
   "cell_type": "code",
   "execution_count": 6,
   "metadata": {},
   "outputs": [],
   "source": [
    "doms = list(OrderedDict.fromkeys(seed_df[\"DOMAIN\"]))"
   ]
  },
  {
   "cell_type": "markdown",
   "metadata": {},
   "source": [
    "## Lexicon"
   ]
  },
  {
   "cell_type": "code",
   "execution_count": 7,
   "metadata": {},
   "outputs": [
    {
     "data": {
      "text/plain": [
       "1920"
      ]
     },
     "execution_count": 7,
     "metadata": {},
     "output_type": "execute_result"
    }
   ],
   "source": [
    "lexicon = set([tkn.strip() for tkn in open(\"../lexicon/lexicon_cogneuro.txt\", \"r\")])\n",
    "lexicon = sorted(list(lexicon.union(seed_df[\"TOKEN\"]).intersection(dtm.columns).intersection(vsm.index)))\n",
    "len(lexicon)"
   ]
  },
  {
   "cell_type": "markdown",
   "metadata": {},
   "source": [
    "# Generate term lists\n",
    "\n",
    "## 1. Load semantically similar terms"
   ]
  },
  {
   "cell_type": "code",
   "execution_count": 8,
   "metadata": {},
   "outputs": [],
   "source": [
    "import numpy as np\n",
    "np.random.seed(42)\n",
    "from scipy.spatial.distance import cdist"
   ]
  },
  {
   "cell_type": "code",
   "execution_count": 9,
   "metadata": {},
   "outputs": [],
   "source": [
    "def load_domain_lists(vsm, seed_df, n_thres=10, verbose=False):\n",
    "    \n",
    "    lists = pd.DataFrame()\n",
    "    labels = list(OrderedDict.fromkeys(seed_df[\"DOMAIN\"]))\n",
    "    for l, label in enumerate(labels):\n",
    "        dom_df = seed_df.loc[seed_df[\"DOMAIN\"] == label]\n",
    "        tokens = list(dom_df[\"TOKEN\"])\n",
    "        centroid = np.mean(vsm.loc[tokens]).values.reshape(1, -1)\n",
    "        dists = cdist(vsm.loc[lexicon], centroid, metric=\"cosine\")\n",
    "        dists = pd.Series(dists.reshape(-1), index=lexicon).sort_values()\n",
    "        dists = [(w, d) for w, d in dists.iteritems()][:n_thres]\n",
    "        \n",
    "        if verbose:\n",
    "            if len(dists) == 0:\n",
    "                print(\"No tokens assigned to {}\".format(label))\n",
    "            if len(dists) < n_thres:\n",
    "                print(\"{} tokens assigned to {}\".format(len(dists), label))\n",
    "        \n",
    "        for w, d in dists:\n",
    "            dic = {\"ORDER\": [l],\n",
    "                   \"DOMAIN\": [label],\n",
    "                   \"TOKEN\": [w],\n",
    "                   \"SOURCE\": [\"RDoC\" if w in tokens else \"Lexicon\"],\n",
    "                   \"DISTANCE\": [d]}\n",
    "            lists = lists.append(pd.DataFrame(dic))\n",
    "    \n",
    "    lists = lists[[\"ORDER\", \"DOMAIN\", \"TOKEN\", \"SOURCE\", \"DISTANCE\"]]\n",
    "    lists = lists.sort_values([\"ORDER\", \"DISTANCE\"])\n",
    "    return lists"
   ]
  },
  {
   "cell_type": "code",
   "execution_count": 10,
   "metadata": {},
   "outputs": [
    {
     "data": {
      "text/html": [
       "<div>\n",
       "<style scoped>\n",
       "    .dataframe tbody tr th:only-of-type {\n",
       "        vertical-align: middle;\n",
       "    }\n",
       "\n",
       "    .dataframe tbody tr th {\n",
       "        vertical-align: top;\n",
       "    }\n",
       "\n",
       "    .dataframe thead th {\n",
       "        text-align: right;\n",
       "    }\n",
       "</style>\n",
       "<table border=\"1\" class=\"dataframe\">\n",
       "  <thead>\n",
       "    <tr style=\"text-align: right;\">\n",
       "      <th></th>\n",
       "      <th>ORDER</th>\n",
       "      <th>DOMAIN</th>\n",
       "      <th>TOKEN</th>\n",
       "      <th>SOURCE</th>\n",
       "      <th>DISTANCE</th>\n",
       "    </tr>\n",
       "  </thead>\n",
       "  <tbody>\n",
       "    <tr>\n",
       "      <th>0</th>\n",
       "      <td>0</td>\n",
       "      <td>NEGATIVE_VALENCE</td>\n",
       "      <td>avoidance</td>\n",
       "      <td>RDoC</td>\n",
       "      <td>0.247320</td>\n",
       "    </tr>\n",
       "    <tr>\n",
       "      <th>0</th>\n",
       "      <td>0</td>\n",
       "      <td>NEGATIVE_VALENCE</td>\n",
       "      <td>threat</td>\n",
       "      <td>RDoC</td>\n",
       "      <td>0.280856</td>\n",
       "    </tr>\n",
       "    <tr>\n",
       "      <th>0</th>\n",
       "      <td>0</td>\n",
       "      <td>NEGATIVE_VALENCE</td>\n",
       "      <td>anxiety</td>\n",
       "      <td>RDoC</td>\n",
       "      <td>0.285993</td>\n",
       "    </tr>\n",
       "    <tr>\n",
       "      <th>0</th>\n",
       "      <td>0</td>\n",
       "      <td>NEGATIVE_VALENCE</td>\n",
       "      <td>aggression</td>\n",
       "      <td>RDoC</td>\n",
       "      <td>0.346222</td>\n",
       "    </tr>\n",
       "    <tr>\n",
       "      <th>0</th>\n",
       "      <td>0</td>\n",
       "      <td>NEGATIVE_VALENCE</td>\n",
       "      <td>rumination</td>\n",
       "      <td>RDoC</td>\n",
       "      <td>0.370330</td>\n",
       "    </tr>\n",
       "    <tr>\n",
       "      <th>0</th>\n",
       "      <td>0</td>\n",
       "      <td>NEGATIVE_VALENCE</td>\n",
       "      <td>worry</td>\n",
       "      <td>RDoC</td>\n",
       "      <td>0.373153</td>\n",
       "    </tr>\n",
       "    <tr>\n",
       "      <th>0</th>\n",
       "      <td>0</td>\n",
       "      <td>NEGATIVE_VALENCE</td>\n",
       "      <td>reactivity</td>\n",
       "      <td>Lexicon</td>\n",
       "      <td>0.375755</td>\n",
       "    </tr>\n",
       "    <tr>\n",
       "      <th>0</th>\n",
       "      <td>0</td>\n",
       "      <td>NEGATIVE_VALENCE</td>\n",
       "      <td>anger</td>\n",
       "      <td>Lexicon</td>\n",
       "      <td>0.380146</td>\n",
       "    </tr>\n",
       "    <tr>\n",
       "      <th>0</th>\n",
       "      <td>0</td>\n",
       "      <td>NEGATIVE_VALENCE</td>\n",
       "      <td>emotional_reactivity</td>\n",
       "      <td>Lexicon</td>\n",
       "      <td>0.385858</td>\n",
       "    </tr>\n",
       "    <tr>\n",
       "      <th>0</th>\n",
       "      <td>0</td>\n",
       "      <td>NEGATIVE_VALENCE</td>\n",
       "      <td>frustration</td>\n",
       "      <td>RDoC</td>\n",
       "      <td>0.393254</td>\n",
       "    </tr>\n",
       "    <tr>\n",
       "      <th>0</th>\n",
       "      <td>0</td>\n",
       "      <td>NEGATIVE_VALENCE</td>\n",
       "      <td>fear</td>\n",
       "      <td>RDoC</td>\n",
       "      <td>0.396223</td>\n",
       "    </tr>\n",
       "    <tr>\n",
       "      <th>0</th>\n",
       "      <td>0</td>\n",
       "      <td>NEGATIVE_VALENCE</td>\n",
       "      <td>irritability</td>\n",
       "      <td>Lexicon</td>\n",
       "      <td>0.429871</td>\n",
       "    </tr>\n",
       "    <tr>\n",
       "      <th>0</th>\n",
       "      <td>0</td>\n",
       "      <td>NEGATIVE_VALENCE</td>\n",
       "      <td>stress</td>\n",
       "      <td>Lexicon</td>\n",
       "      <td>0.443058</td>\n",
       "    </tr>\n",
       "    <tr>\n",
       "      <th>0</th>\n",
       "      <td>0</td>\n",
       "      <td>NEGATIVE_VALENCE</td>\n",
       "      <td>negative_emotion</td>\n",
       "      <td>Lexicon</td>\n",
       "      <td>0.444620</td>\n",
       "    </tr>\n",
       "    <tr>\n",
       "      <th>0</th>\n",
       "      <td>0</td>\n",
       "      <td>NEGATIVE_VALENCE</td>\n",
       "      <td>trait_anxiety</td>\n",
       "      <td>Lexicon</td>\n",
       "      <td>0.445401</td>\n",
       "    </tr>\n",
       "    <tr>\n",
       "      <th>0</th>\n",
       "      <td>0</td>\n",
       "      <td>NEGATIVE_VALENCE</td>\n",
       "      <td>anhedonia</td>\n",
       "      <td>RDoC</td>\n",
       "      <td>0.452482</td>\n",
       "    </tr>\n",
       "    <tr>\n",
       "      <th>0</th>\n",
       "      <td>0</td>\n",
       "      <td>NEGATIVE_VALENCE</td>\n",
       "      <td>selfesteem</td>\n",
       "      <td>Lexicon</td>\n",
       "      <td>0.465656</td>\n",
       "    </tr>\n",
       "    <tr>\n",
       "      <th>0</th>\n",
       "      <td>0</td>\n",
       "      <td>NEGATIVE_VALENCE</td>\n",
       "      <td>guilt</td>\n",
       "      <td>RDoC</td>\n",
       "      <td>0.466943</td>\n",
       "    </tr>\n",
       "    <tr>\n",
       "      <th>0</th>\n",
       "      <td>0</td>\n",
       "      <td>NEGATIVE_VALENCE</td>\n",
       "      <td>attentional_bias</td>\n",
       "      <td>RDoC</td>\n",
       "      <td>0.469432</td>\n",
       "    </tr>\n",
       "    <tr>\n",
       "      <th>0</th>\n",
       "      <td>0</td>\n",
       "      <td>NEGATIVE_VALENCE</td>\n",
       "      <td>mood</td>\n",
       "      <td>Lexicon</td>\n",
       "      <td>0.472677</td>\n",
       "    </tr>\n",
       "    <tr>\n",
       "      <th>0</th>\n",
       "      <td>0</td>\n",
       "      <td>NEGATIVE_VALENCE</td>\n",
       "      <td>temperament</td>\n",
       "      <td>Lexicon</td>\n",
       "      <td>0.477475</td>\n",
       "    </tr>\n",
       "    <tr>\n",
       "      <th>0</th>\n",
       "      <td>0</td>\n",
       "      <td>NEGATIVE_VALENCE</td>\n",
       "      <td>behavioral_inhibition</td>\n",
       "      <td>Lexicon</td>\n",
       "      <td>0.481220</td>\n",
       "    </tr>\n",
       "    <tr>\n",
       "      <th>0</th>\n",
       "      <td>0</td>\n",
       "      <td>NEGATIVE_VALENCE</td>\n",
       "      <td>induction</td>\n",
       "      <td>Lexicon</td>\n",
       "      <td>0.481385</td>\n",
       "    </tr>\n",
       "    <tr>\n",
       "      <th>0</th>\n",
       "      <td>0</td>\n",
       "      <td>NEGATIVE_VALENCE</td>\n",
       "      <td>neuroticism</td>\n",
       "      <td>Lexicon</td>\n",
       "      <td>0.482223</td>\n",
       "    </tr>\n",
       "    <tr>\n",
       "      <th>0</th>\n",
       "      <td>0</td>\n",
       "      <td>NEGATIVE_VALENCE</td>\n",
       "      <td>disgust</td>\n",
       "      <td>Lexicon</td>\n",
       "      <td>0.485241</td>\n",
       "    </tr>\n",
       "  </tbody>\n",
       "</table>\n",
       "</div>"
      ],
      "text/plain": [
       "   ORDER            DOMAIN                  TOKEN   SOURCE  DISTANCE\n",
       "0      0  NEGATIVE_VALENCE              avoidance     RDoC  0.247320\n",
       "0      0  NEGATIVE_VALENCE                 threat     RDoC  0.280856\n",
       "0      0  NEGATIVE_VALENCE                anxiety     RDoC  0.285993\n",
       "0      0  NEGATIVE_VALENCE             aggression     RDoC  0.346222\n",
       "0      0  NEGATIVE_VALENCE             rumination     RDoC  0.370330\n",
       "0      0  NEGATIVE_VALENCE                  worry     RDoC  0.373153\n",
       "0      0  NEGATIVE_VALENCE             reactivity  Lexicon  0.375755\n",
       "0      0  NEGATIVE_VALENCE                  anger  Lexicon  0.380146\n",
       "0      0  NEGATIVE_VALENCE   emotional_reactivity  Lexicon  0.385858\n",
       "0      0  NEGATIVE_VALENCE            frustration     RDoC  0.393254\n",
       "0      0  NEGATIVE_VALENCE                   fear     RDoC  0.396223\n",
       "0      0  NEGATIVE_VALENCE           irritability  Lexicon  0.429871\n",
       "0      0  NEGATIVE_VALENCE                 stress  Lexicon  0.443058\n",
       "0      0  NEGATIVE_VALENCE       negative_emotion  Lexicon  0.444620\n",
       "0      0  NEGATIVE_VALENCE          trait_anxiety  Lexicon  0.445401\n",
       "0      0  NEGATIVE_VALENCE              anhedonia     RDoC  0.452482\n",
       "0      0  NEGATIVE_VALENCE             selfesteem  Lexicon  0.465656\n",
       "0      0  NEGATIVE_VALENCE                  guilt     RDoC  0.466943\n",
       "0      0  NEGATIVE_VALENCE       attentional_bias     RDoC  0.469432\n",
       "0      0  NEGATIVE_VALENCE                   mood  Lexicon  0.472677\n",
       "0      0  NEGATIVE_VALENCE            temperament  Lexicon  0.477475\n",
       "0      0  NEGATIVE_VALENCE  behavioral_inhibition  Lexicon  0.481220\n",
       "0      0  NEGATIVE_VALENCE              induction  Lexicon  0.481385\n",
       "0      0  NEGATIVE_VALENCE            neuroticism  Lexicon  0.482223\n",
       "0      0  NEGATIVE_VALENCE                disgust  Lexicon  0.485241"
      ]
     },
     "execution_count": 10,
     "metadata": {},
     "output_type": "execute_result"
    }
   ],
   "source": [
    "list_len = 25\n",
    "lists = load_domain_lists(vsm, seed_df, n_thres=list_len)\n",
    "lists = lists.loc[lists[\"TOKEN\"].isin(dtm.columns)]\n",
    "lists.to_csv(\"lists/lists_rdoc.csv\", index=None)\n",
    "lists.head(25)"
   ]
  },
  {
   "cell_type": "markdown",
   "metadata": {},
   "source": [
    "## 2. Optimize length by RDoC similarity"
   ]
  },
  {
   "cell_type": "code",
   "execution_count": 11,
   "metadata": {},
   "outputs": [],
   "source": [
    "from scipy.spatial.distance import cosine"
   ]
  },
  {
   "cell_type": "code",
   "execution_count": 12,
   "metadata": {},
   "outputs": [],
   "source": [
    "list_lens = range(5, 26)"
   ]
  },
  {
   "cell_type": "code",
   "execution_count": 13,
   "metadata": {},
   "outputs": [
    {
     "data": {
      "text/html": [
       "<div>\n",
       "<style scoped>\n",
       "    .dataframe tbody tr th:only-of-type {\n",
       "        vertical-align: middle;\n",
       "    }\n",
       "\n",
       "    .dataframe tbody tr th {\n",
       "        vertical-align: top;\n",
       "    }\n",
       "\n",
       "    .dataframe thead th {\n",
       "        text-align: right;\n",
       "    }\n",
       "</style>\n",
       "<table border=\"1\" class=\"dataframe\">\n",
       "  <thead>\n",
       "    <tr style=\"text-align: right;\">\n",
       "      <th></th>\n",
       "      <th>5</th>\n",
       "      <th>6</th>\n",
       "      <th>7</th>\n",
       "      <th>8</th>\n",
       "      <th>9</th>\n",
       "      <th>10</th>\n",
       "      <th>11</th>\n",
       "      <th>12</th>\n",
       "      <th>13</th>\n",
       "      <th>14</th>\n",
       "      <th>...</th>\n",
       "      <th>17</th>\n",
       "      <th>18</th>\n",
       "      <th>19</th>\n",
       "      <th>20</th>\n",
       "      <th>21</th>\n",
       "      <th>22</th>\n",
       "      <th>23</th>\n",
       "      <th>24</th>\n",
       "      <th>25</th>\n",
       "      <th>OPTIMAL</th>\n",
       "    </tr>\n",
       "  </thead>\n",
       "  <tbody>\n",
       "    <tr>\n",
       "      <th>NEGATIVE_VALENCE</th>\n",
       "      <td>0.858447</td>\n",
       "      <td>0.865093</td>\n",
       "      <td>0.864968</td>\n",
       "      <td>0.864137</td>\n",
       "      <td>0.865782</td>\n",
       "      <td>0.879029</td>\n",
       "      <td>0.869418</td>\n",
       "      <td>0.875202</td>\n",
       "      <td>0.869547</td>\n",
       "      <td>0.862149</td>\n",
       "      <td>...</td>\n",
       "      <td>0.872389</td>\n",
       "      <td>0.873673</td>\n",
       "      <td>0.876706</td>\n",
       "      <td>0.868602</td>\n",
       "      <td>0.870568</td>\n",
       "      <td>0.873599</td>\n",
       "      <td>0.87237</td>\n",
       "      <td>0.868684</td>\n",
       "      <td>0.867633</td>\n",
       "      <td>10</td>\n",
       "    </tr>\n",
       "    <tr>\n",
       "      <th>POSITIVE_VALENCE</th>\n",
       "      <td>0.898419</td>\n",
       "      <td>0.894114</td>\n",
       "      <td>0.889696</td>\n",
       "      <td>0.897615</td>\n",
       "      <td>0.905151</td>\n",
       "      <td>0.905229</td>\n",
       "      <td>0.911379</td>\n",
       "      <td>0.909201</td>\n",
       "      <td>0.90806</td>\n",
       "      <td>0.901763</td>\n",
       "      <td>...</td>\n",
       "      <td>0.914301</td>\n",
       "      <td>0.922164</td>\n",
       "      <td>0.922385</td>\n",
       "      <td>0.92505</td>\n",
       "      <td>0.928542</td>\n",
       "      <td>0.929278</td>\n",
       "      <td>0.936108</td>\n",
       "      <td>0.936533</td>\n",
       "      <td>0.934004</td>\n",
       "      <td>24</td>\n",
       "    </tr>\n",
       "    <tr>\n",
       "      <th>COGNITIVE_SYSTEMS</th>\n",
       "      <td>0.817073</td>\n",
       "      <td>0.815189</td>\n",
       "      <td>0.822245</td>\n",
       "      <td>0.813716</td>\n",
       "      <td>0.827354</td>\n",
       "      <td>0.829461</td>\n",
       "      <td>0.831466</td>\n",
       "      <td>0.832339</td>\n",
       "      <td>0.833024</td>\n",
       "      <td>0.840196</td>\n",
       "      <td>...</td>\n",
       "      <td>0.85738</td>\n",
       "      <td>0.854074</td>\n",
       "      <td>0.858991</td>\n",
       "      <td>0.859902</td>\n",
       "      <td>0.861271</td>\n",
       "      <td>0.860082</td>\n",
       "      <td>0.86495</td>\n",
       "      <td>0.864359</td>\n",
       "      <td>0.869823</td>\n",
       "      <td>25</td>\n",
       "    </tr>\n",
       "    <tr>\n",
       "      <th>SOCIAL_PROCESSES</th>\n",
       "      <td>0.818991</td>\n",
       "      <td>0.826888</td>\n",
       "      <td>0.83563</td>\n",
       "      <td>0.842337</td>\n",
       "      <td>0.838425</td>\n",
       "      <td>0.849784</td>\n",
       "      <td>0.853777</td>\n",
       "      <td>0.851399</td>\n",
       "      <td>0.862</td>\n",
       "      <td>0.863071</td>\n",
       "      <td>...</td>\n",
       "      <td>0.857078</td>\n",
       "      <td>0.862755</td>\n",
       "      <td>0.873458</td>\n",
       "      <td>0.862501</td>\n",
       "      <td>0.870694</td>\n",
       "      <td>0.872998</td>\n",
       "      <td>0.87767</td>\n",
       "      <td>0.876539</td>\n",
       "      <td>0.878399</td>\n",
       "      <td>25</td>\n",
       "    </tr>\n",
       "    <tr>\n",
       "      <th>AROUSAL_REGULATION</th>\n",
       "      <td>0.836523</td>\n",
       "      <td>0.856207</td>\n",
       "      <td>0.862996</td>\n",
       "      <td>0.85398</td>\n",
       "      <td>0.855412</td>\n",
       "      <td>0.864617</td>\n",
       "      <td>0.86637</td>\n",
       "      <td>0.868041</td>\n",
       "      <td>0.876697</td>\n",
       "      <td>0.872356</td>\n",
       "      <td>...</td>\n",
       "      <td>0.891173</td>\n",
       "      <td>0.907722</td>\n",
       "      <td>0.911674</td>\n",
       "      <td>0.913034</td>\n",
       "      <td>0.917058</td>\n",
       "      <td>0.917632</td>\n",
       "      <td>0.9141</td>\n",
       "      <td>0.914344</td>\n",
       "      <td>0.917157</td>\n",
       "      <td>22</td>\n",
       "    </tr>\n",
       "  </tbody>\n",
       "</table>\n",
       "<p>5 rows × 22 columns</p>\n",
       "</div>"
      ],
      "text/plain": [
       "                           5         6         7         8         9  \\\n",
       "NEGATIVE_VALENCE    0.858447  0.865093  0.864968  0.864137  0.865782   \n",
       "POSITIVE_VALENCE    0.898419  0.894114  0.889696  0.897615  0.905151   \n",
       "COGNITIVE_SYSTEMS   0.817073  0.815189  0.822245  0.813716  0.827354   \n",
       "SOCIAL_PROCESSES    0.818991  0.826888   0.83563  0.842337  0.838425   \n",
       "AROUSAL_REGULATION  0.836523  0.856207  0.862996   0.85398  0.855412   \n",
       "\n",
       "                          10        11        12        13        14  ...  \\\n",
       "NEGATIVE_VALENCE    0.879029  0.869418  0.875202  0.869547  0.862149  ...   \n",
       "POSITIVE_VALENCE    0.905229  0.911379  0.909201   0.90806  0.901763  ...   \n",
       "COGNITIVE_SYSTEMS   0.829461  0.831466  0.832339  0.833024  0.840196  ...   \n",
       "SOCIAL_PROCESSES    0.849784  0.853777  0.851399     0.862  0.863071  ...   \n",
       "AROUSAL_REGULATION  0.864617   0.86637  0.868041  0.876697  0.872356  ...   \n",
       "\n",
       "                          17        18        19        20        21  \\\n",
       "NEGATIVE_VALENCE    0.872389  0.873673  0.876706  0.868602  0.870568   \n",
       "POSITIVE_VALENCE    0.914301  0.922164  0.922385   0.92505  0.928542   \n",
       "COGNITIVE_SYSTEMS    0.85738  0.854074  0.858991  0.859902  0.861271   \n",
       "SOCIAL_PROCESSES    0.857078  0.862755  0.873458  0.862501  0.870694   \n",
       "AROUSAL_REGULATION  0.891173  0.907722  0.911674  0.913034  0.917058   \n",
       "\n",
       "                          22        23        24        25 OPTIMAL  \n",
       "NEGATIVE_VALENCE    0.873599   0.87237  0.868684  0.867633      10  \n",
       "POSITIVE_VALENCE    0.929278  0.936108  0.936533  0.934004      24  \n",
       "COGNITIVE_SYSTEMS   0.860082   0.86495  0.864359  0.869823      25  \n",
       "SOCIAL_PROCESSES    0.872998   0.87767  0.876539  0.878399      25  \n",
       "AROUSAL_REGULATION  0.917632    0.9141  0.914344  0.917157      22  \n",
       "\n",
       "[5 rows x 22 columns]"
      ]
     },
     "execution_count": 13,
     "metadata": {},
     "output_type": "execute_result"
    }
   ],
   "source": [
    "ops = []\n",
    "df = pd.DataFrame(index=doms, columns=list_lens)\n",
    "for dom in doms:\n",
    "    seed_tkns = seed_df.loc[seed_df[\"DOMAIN\"] == dom, \"TOKEN\"]\n",
    "    seed_centroid = np.mean(vsm.loc[seed_tkns])\n",
    "    for list_len in list_lens:\n",
    "        len_tkns = lists.loc[lists[\"DOMAIN\"] == dom, \"TOKEN\"][:list_len]\n",
    "        len_centroid = np.mean(vsm.loc[len_tkns])\n",
    "        df.loc[dom, list_len] = 1 - cosine(seed_centroid, len_centroid)\n",
    "    sims = list(df.loc[dom])\n",
    "    idx = sims.index(max(sims))\n",
    "    ops.append(np.array(list_lens)[idx])\n",
    "df[\"OPTIMAL\"] = ops\n",
    "df.to_csv(\"data/df_rdoc_opsim.csv\")\n",
    "df.head()"
   ]
  },
  {
   "cell_type": "code",
   "execution_count": 14,
   "metadata": {},
   "outputs": [
    {
     "data": {
      "text/html": [
       "<div>\n",
       "<style scoped>\n",
       "    .dataframe tbody tr th:only-of-type {\n",
       "        vertical-align: middle;\n",
       "    }\n",
       "\n",
       "    .dataframe tbody tr th {\n",
       "        vertical-align: top;\n",
       "    }\n",
       "\n",
       "    .dataframe thead th {\n",
       "        text-align: right;\n",
       "    }\n",
       "</style>\n",
       "<table border=\"1\" class=\"dataframe\">\n",
       "  <thead>\n",
       "    <tr style=\"text-align: right;\">\n",
       "      <th></th>\n",
       "      <th>ORDER</th>\n",
       "      <th>DOMAIN</th>\n",
       "      <th>TOKEN</th>\n",
       "      <th>SOURCE</th>\n",
       "      <th>DISTANCE</th>\n",
       "    </tr>\n",
       "  </thead>\n",
       "  <tbody>\n",
       "    <tr>\n",
       "      <th>0</th>\n",
       "      <td>0</td>\n",
       "      <td>NEGATIVE_VALENCE</td>\n",
       "      <td>avoidance</td>\n",
       "      <td>RDoC</td>\n",
       "      <td>0.247320</td>\n",
       "    </tr>\n",
       "    <tr>\n",
       "      <th>0</th>\n",
       "      <td>0</td>\n",
       "      <td>NEGATIVE_VALENCE</td>\n",
       "      <td>threat</td>\n",
       "      <td>RDoC</td>\n",
       "      <td>0.280856</td>\n",
       "    </tr>\n",
       "    <tr>\n",
       "      <th>0</th>\n",
       "      <td>0</td>\n",
       "      <td>NEGATIVE_VALENCE</td>\n",
       "      <td>anxiety</td>\n",
       "      <td>RDoC</td>\n",
       "      <td>0.285993</td>\n",
       "    </tr>\n",
       "    <tr>\n",
       "      <th>0</th>\n",
       "      <td>0</td>\n",
       "      <td>NEGATIVE_VALENCE</td>\n",
       "      <td>aggression</td>\n",
       "      <td>RDoC</td>\n",
       "      <td>0.346222</td>\n",
       "    </tr>\n",
       "    <tr>\n",
       "      <th>0</th>\n",
       "      <td>0</td>\n",
       "      <td>NEGATIVE_VALENCE</td>\n",
       "      <td>rumination</td>\n",
       "      <td>RDoC</td>\n",
       "      <td>0.370330</td>\n",
       "    </tr>\n",
       "    <tr>\n",
       "      <th>0</th>\n",
       "      <td>0</td>\n",
       "      <td>NEGATIVE_VALENCE</td>\n",
       "      <td>worry</td>\n",
       "      <td>RDoC</td>\n",
       "      <td>0.373153</td>\n",
       "    </tr>\n",
       "    <tr>\n",
       "      <th>0</th>\n",
       "      <td>0</td>\n",
       "      <td>NEGATIVE_VALENCE</td>\n",
       "      <td>reactivity</td>\n",
       "      <td>Lexicon</td>\n",
       "      <td>0.375755</td>\n",
       "    </tr>\n",
       "    <tr>\n",
       "      <th>0</th>\n",
       "      <td>0</td>\n",
       "      <td>NEGATIVE_VALENCE</td>\n",
       "      <td>anger</td>\n",
       "      <td>Lexicon</td>\n",
       "      <td>0.380146</td>\n",
       "    </tr>\n",
       "    <tr>\n",
       "      <th>0</th>\n",
       "      <td>0</td>\n",
       "      <td>NEGATIVE_VALENCE</td>\n",
       "      <td>emotional_reactivity</td>\n",
       "      <td>Lexicon</td>\n",
       "      <td>0.385858</td>\n",
       "    </tr>\n",
       "    <tr>\n",
       "      <th>0</th>\n",
       "      <td>0</td>\n",
       "      <td>NEGATIVE_VALENCE</td>\n",
       "      <td>frustration</td>\n",
       "      <td>RDoC</td>\n",
       "      <td>0.393254</td>\n",
       "    </tr>\n",
       "  </tbody>\n",
       "</table>\n",
       "</div>"
      ],
      "text/plain": [
       "  ORDER            DOMAIN                 TOKEN   SOURCE  DISTANCE\n",
       "0     0  NEGATIVE_VALENCE             avoidance     RDoC  0.247320\n",
       "0     0  NEGATIVE_VALENCE                threat     RDoC  0.280856\n",
       "0     0  NEGATIVE_VALENCE               anxiety     RDoC  0.285993\n",
       "0     0  NEGATIVE_VALENCE            aggression     RDoC  0.346222\n",
       "0     0  NEGATIVE_VALENCE            rumination     RDoC  0.370330\n",
       "0     0  NEGATIVE_VALENCE                 worry     RDoC  0.373153\n",
       "0     0  NEGATIVE_VALENCE            reactivity  Lexicon  0.375755\n",
       "0     0  NEGATIVE_VALENCE                 anger  Lexicon  0.380146\n",
       "0     0  NEGATIVE_VALENCE  emotional_reactivity  Lexicon  0.385858\n",
       "0     0  NEGATIVE_VALENCE           frustration     RDoC  0.393254"
      ]
     },
     "execution_count": 14,
     "metadata": {},
     "output_type": "execute_result"
    }
   ],
   "source": [
    "columns = [\"ORDER\", \"DOMAIN\", \"TOKEN\", \"SOURCE\", \"DISTANCE\"]\n",
    "new = pd.DataFrame(columns=columns)\n",
    "for order, dom in enumerate(doms):\n",
    "    list_len = df.loc[dom, \"OPTIMAL\"]\n",
    "    dom_df = lists.loc[lists[\"DOMAIN\"] == dom][:list_len]\n",
    "    new = new.append(dom_df)\n",
    "new.to_csv(\"lists/lists_rdoc_opsim.csv\", index=None)\n",
    "new.head(10)"
   ]
  },
  {
   "cell_type": "markdown",
   "metadata": {},
   "source": [
    "# Assess similarity to seeds\n",
    "\n",
    "## Load the comparison data"
   ]
  },
  {
   "cell_type": "code",
   "execution_count": 15,
   "metadata": {},
   "outputs": [
    {
     "data": {
      "text/html": [
       "<div>\n",
       "<style scoped>\n",
       "    .dataframe tbody tr th:only-of-type {\n",
       "        vertical-align: middle;\n",
       "    }\n",
       "\n",
       "    .dataframe tbody tr th {\n",
       "        vertical-align: top;\n",
       "    }\n",
       "\n",
       "    .dataframe thead th {\n",
       "        text-align: right;\n",
       "    }\n",
       "</style>\n",
       "<table border=\"1\" class=\"dataframe\">\n",
       "  <thead>\n",
       "    <tr style=\"text-align: right;\">\n",
       "      <th></th>\n",
       "      <th>ORDER</th>\n",
       "      <th>DOMAIN</th>\n",
       "      <th>TOKEN</th>\n",
       "      <th>SOURCE</th>\n",
       "      <th>DISTANCE</th>\n",
       "    </tr>\n",
       "  </thead>\n",
       "  <tbody>\n",
       "    <tr>\n",
       "      <th>0</th>\n",
       "      <td>0</td>\n",
       "      <td>NEGATIVE_VALENCE</td>\n",
       "      <td>aggression</td>\n",
       "      <td>RDoC</td>\n",
       "      <td>0.661976</td>\n",
       "    </tr>\n",
       "    <tr>\n",
       "      <th>1</th>\n",
       "      <td>1</td>\n",
       "      <td>NEGATIVE_VALENCE</td>\n",
       "      <td>aggressive</td>\n",
       "      <td>Lexicon</td>\n",
       "      <td>0.603352</td>\n",
       "    </tr>\n",
       "    <tr>\n",
       "      <th>2</th>\n",
       "      <td>2</td>\n",
       "      <td>NEGATIVE_VALENCE</td>\n",
       "      <td>agitated</td>\n",
       "      <td>Lexicon</td>\n",
       "      <td>0.241564</td>\n",
       "    </tr>\n",
       "    <tr>\n",
       "      <th>3</th>\n",
       "      <td>3</td>\n",
       "      <td>NEGATIVE_VALENCE</td>\n",
       "      <td>anger</td>\n",
       "      <td>Lexicon</td>\n",
       "      <td>0.682997</td>\n",
       "    </tr>\n",
       "    <tr>\n",
       "      <th>4</th>\n",
       "      <td>4</td>\n",
       "      <td>NEGATIVE_VALENCE</td>\n",
       "      <td>angry</td>\n",
       "      <td>Lexicon</td>\n",
       "      <td>0.518701</td>\n",
       "    </tr>\n",
       "  </tbody>\n",
       "</table>\n",
       "</div>"
      ],
      "text/plain": [
       "   ORDER            DOMAIN       TOKEN   SOURCE  DISTANCE\n",
       "0      0  NEGATIVE_VALENCE  aggression     RDoC  0.661976\n",
       "1      1  NEGATIVE_VALENCE  aggressive  Lexicon  0.603352\n",
       "2      2  NEGATIVE_VALENCE    agitated  Lexicon  0.241564\n",
       "3      3  NEGATIVE_VALENCE       anger  Lexicon  0.682997\n",
       "4      4  NEGATIVE_VALENCE       angry  Lexicon  0.518701"
      ]
     },
     "execution_count": 15,
     "metadata": {},
     "output_type": "execute_result"
    }
   ],
   "source": [
    "mccoy = pd.read_csv(\"lists/lists_cqh.csv\", index_col=None)\n",
    "mccoy.head()"
   ]
  },
  {
   "cell_type": "markdown",
   "metadata": {},
   "source": [
    "## Compute similarity to seeds"
   ]
  },
  {
   "cell_type": "code",
   "execution_count": 16,
   "metadata": {},
   "outputs": [],
   "source": [
    "n_iter = 10000"
   ]
  },
  {
   "cell_type": "markdown",
   "metadata": {},
   "source": [
    "### Centroids"
   ]
  },
  {
   "cell_type": "code",
   "execution_count": 17,
   "metadata": {},
   "outputs": [],
   "source": [
    "seed_centroid = compute_centroid(seed_df, doms, vsm)\n",
    "new_centroid = compute_centroid(new, doms, vsm)\n",
    "mccoy_centroid = compute_centroid(mccoy, doms, vsm)"
   ]
  },
  {
   "cell_type": "markdown",
   "metadata": {},
   "source": [
    "### Bootstrap distributions"
   ]
  },
  {
   "cell_type": "code",
   "execution_count": 18,
   "metadata": {},
   "outputs": [],
   "source": [
    "new_sim_boot, mccoy_sim_boot = np.empty((len(doms), n_iter)), np.empty((len(doms)-1, n_iter))\n",
    "for n in range(n_iter):\n",
    "    \n",
    "    new_sim_boot[:,n] = 1.0 - compute_sims_sample(new_centroid, seed_centroid, vsm)\n",
    "    \n",
    "    # Ignore last domain for McCoy, which was added to RDoC after its publication \n",
    "    mccoy_sim_boot[:(len(doms)-1),n] = (1.0 - compute_sims_sample(mccoy_centroid, seed_centroid, vsm))[:(len(doms)-1)]"
   ]
  },
  {
   "cell_type": "markdown",
   "metadata": {},
   "source": [
    "### Null distributions"
   ]
  },
  {
   "cell_type": "code",
   "execution_count": 19,
   "metadata": {},
   "outputs": [],
   "source": [
    "new_sim_null, mccoy_sim_null = np.empty((len(doms), n_iter)), np.empty((len(doms), n_iter))\n",
    "for n in range(n_iter):\n",
    "    \n",
    "    new_sim_null[:,n] = 1.0 - compute_sims_shuffle(new_centroid, seed_centroid, vsm)\n",
    "    \n",
    "    # Ignore last domain for McCoy, which was added to RDoC after its publication \n",
    "    mccoy_sim_null[:len(doms)-1,n] = 1.0 - compute_sims_shuffle(mccoy_centroid, seed_centroid, vsm)[:len(doms)-1]"
   ]
  },
  {
   "cell_type": "markdown",
   "metadata": {},
   "source": [
    "### Observed values"
   ]
  },
  {
   "cell_type": "code",
   "execution_count": 20,
   "metadata": {},
   "outputs": [],
   "source": [
    "new_sim_obs = np.reshape(1.0 - compute_sims(new, seed_centroid, doms, vsm), (len(doms), 1))\n",
    "mccoy_sim_obs = np.reshape(1.0 - compute_sims(mccoy, seed_centroid, doms, vsm), (len(doms), 1))"
   ]
  },
  {
   "cell_type": "markdown",
   "metadata": {},
   "source": [
    "### Comparison tests\n",
    "\n",
    "Is similarity to RDoC seed centroids higher for the **new vs. McCoy** method?"
   ]
  },
  {
   "cell_type": "code",
   "execution_count": 21,
   "metadata": {},
   "outputs": [],
   "source": [
    "from statsmodels.stats.multitest import multipletests"
   ]
  },
  {
   "cell_type": "code",
   "execution_count": 22,
   "metadata": {},
   "outputs": [],
   "source": [
    "alphas = [0.01, 0.001, 0.0001]"
   ]
  },
  {
   "cell_type": "markdown",
   "metadata": {},
   "source": [
    "Is similarity to RDoC seed centroids higher for the **new vs. McCoy** method?"
   ]
  },
  {
   "cell_type": "code",
   "execution_count": 23,
   "metadata": {},
   "outputs": [
    {
     "name": "stdout",
     "output_type": "stream",
     "text": [
      "NEGATIVE_VALENCE       p=0.006900 *\n",
      "POSITIVE_VALENCE       p=0.000000 ***\n",
      "COGNITIVE_SYSTEMS      p=0.001625 *\n",
      "SOCIAL_PROCESSES       p=0.000000 ***\n",
      "AROUSAL_REGULATION     p=0.001625 *\n"
     ]
    }
   ],
   "source": [
    "pvals_dif = np.sum(np.less(new_sim_boot[:(len(doms)-1),:] - mccoy_sim_boot, 0.0), axis=1) / n_iter\n",
    "fdrs_dif = multipletests(pvals_dif, method=\"fdr_bh\")[1] # Benjamini-Hochberg\n",
    "report_significance(fdrs_dif, doms, alphas=alphas)"
   ]
  },
  {
   "cell_type": "markdown",
   "metadata": {},
   "source": [
    "Is similarity to RDoC seed centroids higher for the **new vs. null** method?"
   ]
  },
  {
   "cell_type": "code",
   "execution_count": 24,
   "metadata": {},
   "outputs": [
    {
     "name": "stdout",
     "output_type": "stream",
     "text": [
      "NEGATIVE_VALENCE       p=0.000000 ***\n",
      "POSITIVE_VALENCE       p=0.000000 ***\n",
      "COGNITIVE_SYSTEMS      p=0.000000 ***\n",
      "SOCIAL_PROCESSES       p=0.000000 ***\n",
      "AROUSAL_REGULATION     p=0.000000 ***\n",
      "SENSORIMOTOR_SYSTEMS   p=0.000000 ***\n"
     ]
    }
   ],
   "source": [
    "pvals_new = np.sum(np.less(new_sim_obs, new_sim_null), axis=1) / n_iter\n",
    "fdrs_new = multipletests(pvals_new, method=\"fdr_bh\")[1]\n",
    "report_significance(fdrs_new, doms, alphas=alphas)"
   ]
  },
  {
   "cell_type": "markdown",
   "metadata": {},
   "source": [
    "Is similarity to RDoC seed centroids higher for the **McCoy vs. null** method?"
   ]
  },
  {
   "cell_type": "code",
   "execution_count": 25,
   "metadata": {},
   "outputs": [
    {
     "name": "stdout",
     "output_type": "stream",
     "text": [
      "NEGATIVE_VALENCE       p=0.000000 ***\n",
      "POSITIVE_VALENCE       p=0.000000 ***\n",
      "COGNITIVE_SYSTEMS      p=0.000000 ***\n",
      "SOCIAL_PROCESSES       p=0.000000 ***\n",
      "AROUSAL_REGULATION     p=0.000000 ***\n"
     ]
    }
   ],
   "source": [
    "pvals_mccoy = np.sum(np.less(mccoy_sim_obs[:-1], mccoy_sim_null[:-1,:]), axis=1) / n_iter\n",
    "fdrs_mccoy = multipletests(pvals_mccoy, method=\"fdr_bh\")[1]\n",
    "report_significance(fdrs_mccoy, doms, alphas=alphas)"
   ]
  },
  {
   "cell_type": "markdown",
   "metadata": {},
   "source": [
    "### Null confidence interval\n",
    "\n",
    "What is the 95% confidence interval for the **null** distribution of the **new** method?"
   ]
  },
  {
   "cell_type": "code",
   "execution_count": 26,
   "metadata": {},
   "outputs": [],
   "source": [
    "interval = 0.95\n",
    "lower = [sorted(new_sim_null[i,:])[int(n_iter*(1.0-interval))] for i in range(len(doms))]\n",
    "upper = [sorted(new_sim_null[i,:])[int(n_iter*interval)] for i in range(len(doms))]"
   ]
  },
  {
   "cell_type": "markdown",
   "metadata": {},
   "source": [
    "## Plot results\n",
    "\n",
    "Comparison of new method vs. method of McCoy *et al.* in terms of similarity between the synonyms and RDoC seed terms. Statistics based on difference in means of bootstrap distributions for similarity."
   ]
  },
  {
   "cell_type": "code",
   "execution_count": 27,
   "metadata": {},
   "outputs": [],
   "source": [
    "import matplotlib.pyplot as plt\n",
    "from matplotlib import cm, font_manager, rcParams\n",
    "%matplotlib inline"
   ]
  },
  {
   "cell_type": "code",
   "execution_count": 28,
   "metadata": {},
   "outputs": [],
   "source": [
    "arial = \"../style/Arial Unicode.ttf\"\n",
    "prop_lg = font_manager.FontProperties(fname=arial, size=20)\n",
    "prop_xlg = font_manager.FontProperties(fname=arial, size=22)\n",
    "rcParams[\"axes.linewidth\"] = 1.5"
   ]
  },
  {
   "cell_type": "code",
   "execution_count": 79,
   "metadata": {},
   "outputs": [],
   "source": [
    "dom_names = [\"Negative Valence\", \"Positive Valence\", \"Cognitive Systems\", \n",
    "             \"Social Processes\", \"Arousal & Regulation\", \"Sensorimotor Systems\"]\n",
    "palette = [\"#7597D0\", \"#CE7D69\", \"#77B58A\", \"#7D74A3\", \"#CEBE6D\", \"#BA7E39\"]"
   ]
  },
  {
   "cell_type": "code",
   "execution_count": 80,
   "metadata": {},
   "outputs": [],
   "source": [
    "def plot_violin(boot, obs, labs, colors, fdrs=[], sig=False):\n",
    "    for i, lab in enumerate(labs):\n",
    "        data = sorted(boot[i,:])\n",
    "        v = ax.violinplot(data, positions=[i], widths=0.8, \n",
    "                          showmeans=False, showmedians=False)\n",
    "        for pc in v[\"bodies\"]:\n",
    "            pc.set_facecolor(colors[i])\n",
    "            pc.set_edgecolor(colors[i])\n",
    "            pc.set_linewidth(0.75)\n",
    "            pc.set_alpha(0.6)\n",
    "        for line in [\"cmaxes\", \"cmins\", \"cbars\"]:\n",
    "            v[line].set_edgecolor(\"none\")\n",
    "        plt.plot([i-0.355, i+0.36], [obs[i], obs[i]], \n",
    "                 c=colors[i], alpha=1, lw=2)\n",
    "        if sig and i < len(fdrs):\n",
    "            fdr = fdrs[i]\n",
    "            for alpha, y in zip(alphas, [0, 0.0425, 0.085]):\n",
    "                if fdr < alpha:\n",
    "                    plt.text(i-0.1325, max(data) + y, \"*\", \n",
    "                             fontproperties=prop_xlg)"
   ]
  },
  {
   "cell_type": "code",
   "execution_count": 81,
   "metadata": {},
   "outputs": [
    {
     "data": {
      "image/png": "[encoded data removed]",
      "text/plain": [
       "<Figure size 208.8x324 with 1 Axes>"
      ]
     },
     "metadata": {
      "needs_background": "light"
     },
     "output_type": "display_data"
    }
   ],
   "source": [
    "# Set up figure\n",
    "fig = plt.figure(figsize=(2.9, 4.5))\n",
    "ax = fig.add_axes([0,0,1,1])\n",
    "\n",
    "# Null distributions as line plots\n",
    "plt.plot(range(len(doms)), new_sim_null.mean(axis=1),\n",
    "         \"gray\", linestyle=\"dashed\", linewidth=2)\n",
    "plt.fill_between(range(len(doms)), lower, y2=upper, \n",
    "                 color=\"gray\", alpha=0.2)\n",
    "\n",
    "# Bootstrap distributions as violin plots\n",
    "plot_violin(mccoy_sim_boot, mccoy_sim_obs, doms[:-1], [\"k\"]*5), \n",
    "plot_violin(new_sim_boot, new_sim_obs, doms, palette, \n",
    "            fdrs=fdrs_dif, sig=True)\n",
    "        \n",
    "# Set plot parameters\n",
    "plt.xlim([-0.75, len(doms)-0.5])\n",
    "plt.ylim([-0.3, 1.1])\n",
    "for side in [\"right\", \"top\"]:\n",
    "    ax.spines[side].set_visible(False)\n",
    "ax.xaxis.set_tick_params(width=1.5, length=7)\n",
    "ax.yaxis.set_tick_params(width=1.5, length=7)\n",
    "ax.set_xticks(range(len(doms)))\n",
    "ax.set_xticklabels(dom_names, rotation=60, \n",
    "                   ha=\"right\", fontproperties=prop_lg)\n",
    "plt.yticks(fontproperties=prop_lg)\n",
    "\n",
    "# Export figure\n",
    "plt.savefig(\"figures/rdoc_seed_sim.png\", \n",
    "            dpi=250, bbox_inches=\"tight\")\n",
    "plt.show()"
   ]
  },
  {
   "cell_type": "markdown",
   "metadata": {},
   "source": [
    "# Visualize the term lists"
   ]
  },
  {
   "cell_type": "code",
   "execution_count": null,
   "metadata": {},
   "outputs": [],
   "source": [
    "plot_wordclouds()"
   ]
  },
  {
   "cell_type": "code",
   "execution_count": 108,
   "metadata": {},
   "outputs": [],
   "source": [
    "dtm_bin = load_doc_term_matrix(version=dtm_version, binarize=True)"
   ]
  },
  {
   "cell_type": "code",
   "execution_count": 113,
   "metadata": {
    "scrolled": false
   },
   "outputs": [
    {
     "name": "stdout",
     "output_type": "stream",
     "text": [
      "NEGATIVE_VALENCE\n"
     ]
    },
    {
     "data": {
      "image/png": "[encoded data removed]",
      "text/plain": [
       "<Figure size 144x720 with 1 Axes>"
      ]
     },
     "metadata": {
      "needs_background": "light"
     },
     "output_type": "display_data"
    },
    {
     "name": "stdout",
     "output_type": "stream",
     "text": [
      "POSITIVE_VALENCE\n"
     ]
    },
    {
     "data": {
      "image/png": "[encoded data removed]",
      "text/plain": [
       "<Figure size 144x720 with 1 Axes>"
      ]
     },
     "metadata": {
      "needs_background": "light"
     },
     "output_type": "display_data"
    },
    {
     "name": "stdout",
     "output_type": "stream",
     "text": [
      "COGNITIVE_SYSTEMS\n"
     ]
    },
    {
     "data": {
      "image/png": "[encoded data removed]",
      "text/plain": [
       "<Figure size 144x720 with 1 Axes>"
      ]
     },
     "metadata": {
      "needs_background": "light"
     },
     "output_type": "display_data"
    },
    {
     "name": "stdout",
     "output_type": "stream",
     "text": [
      "SOCIAL_PROCESSES\n"
     ]
    },
    {
     "data": {
      "image/png": "[encoded data removed]",
      "text/plain": [
       "<Figure size 144x720 with 1 Axes>"
      ]
     },
     "metadata": {
      "needs_background": "light"
     },
     "output_type": "display_data"
    },
    {
     "name": "stdout",
     "output_type": "stream",
     "text": [
      "AROUSAL_REGULATION\n"
     ]
    },
    {
     "data": {
      "image/png": "[encoded data removed]",
      "text/plain": [
       "<Figure size 144x720 with 1 Axes>"
      ]
     },
     "metadata": {
      "needs_background": "light"
     },
     "output_type": "display_data"
    },
    {
     "name": "stdout",
     "output_type": "stream",
     "text": [
      "SENSORIMOTOR_SYSTEMS\n"
     ]
    },
    {
     "data": {
      "image/png": "[encoded data removed]",
      "text/plain": [
       "<Figure size 144x720 with 1 Axes>"
      ]
     },
     "metadata": {
      "needs_background": "light"
     },
     "output_type": "display_data"
    }
   ],
   "source": [
    "def plot_wordclouds(framework, domains, dtm):\n",
    "    \n",
    "    from wordcloud import WordCloud\n",
    "    \n",
    "    for i, dom in enumerate(domains):\n",
    "        print(dom)\n",
    "        \n",
    "        def color_func(word, font_size, position, orientation, \n",
    "                       random_state=None, idx=0, **kwargs):\n",
    "            return palettes[framework][i]\n",
    "\n",
    "        tkns = new.loc[new[\"DOMAIN\"] == dom, \"TOKEN\"]\n",
    "        freq = dtm_bin[tkns].sum().values\n",
    "        tkns = [t.replace(\"_\", \" \") for t in tkns]\n",
    "\n",
    "        cloud = WordCloud(background_color=\"rgba(255, 255, 255, 0)\", mode=\"RGB\", \n",
    "                          max_font_size=100, prefer_horizontal=1, scale=20, margin=3,\n",
    "                          width=550, height=15*len(tkns)+500, font_path=arial, \n",
    "                          random_state=42).generate_from_frequencies(zip(tkns, freq))\n",
    "\n",
    "        fig = plt.figure(1, figsize=(2,10))\n",
    "        plt.axis(\"off\")\n",
    "        plt.imshow(cloud.recolor(color_func=color_func, random_state=42))\n",
    "        file_name = \"figures/lists/{}_wordcloud_{}.png\".format(framework, dom)\n",
    "        plt.savefig(file_name, \n",
    "                    dpi=800, bbox_inches=\"tight\")\n",
    "        remove_background(file_name)\n",
    "        plt.show()"
   ]
  },
  {
   "cell_type": "markdown",
   "metadata": {},
   "source": [
    "# Visualize the circuits"
   ]
  },
  {
   "cell_type": "code",
   "execution_count": null,
   "metadata": {},
   "outputs": [],
   "source": [
    "from sklearn.preprocessing import binarize"
   ]
  },
  {
   "cell_type": "markdown",
   "metadata": {},
   "source": [
    "## Compute PPMI-weighted links"
   ]
  },
  {
   "cell_type": "code",
   "execution_count": null,
   "metadata": {},
   "outputs": [],
   "source": [
    "act_bin = load_coordinates()\n",
    "print(\"Document N={}, Structure N={}\".format(act_bin.shape[0], act_bin.shape[1]))"
   ]
  },
  {
   "cell_type": "code",
   "execution_count": null,
   "metadata": {},
   "outputs": [],
   "source": [
    "dom_scores = score_lists(new, dtm_bin, label_var=\"DOMAIN\")"
   ]
  },
  {
   "cell_type": "code",
   "execution_count": null,
   "metadata": {},
   "outputs": [],
   "source": [
    "pmids = act_bin.index.intersection(dom_scores.index)\n",
    "len(pmids)"
   ]
  },
  {
   "cell_type": "code",
   "execution_count": null,
   "metadata": {},
   "outputs": [],
   "source": [
    "act_bin = act_bin.loc[pmids]\n",
    "dom_scores = dom_scores.loc[pmids]"
   ]
  },
  {
   "cell_type": "code",
   "execution_count": null,
   "metadata": {},
   "outputs": [],
   "source": [
    "dom_links = compute_cooccurrences(act_bin, dom_scores)"
   ]
  },
  {
   "cell_type": "code",
   "execution_count": null,
   "metadata": {},
   "outputs": [],
   "source": [
    "n_iter = 10000\n",
    "dom_links_null = compute_cooccurrences_null(act_bin, dom_scores, \n",
    "                                            n_iter=n_iter, verbose=True)"
   ]
  },
  {
   "cell_type": "code",
   "execution_count": null,
   "metadata": {},
   "outputs": [],
   "source": [
    "p = pd.DataFrame(index=act_bin.columns, columns=dom_scores.columns)\n",
    "for i, struct in enumerate(act_bin.columns):\n",
    "    for j, dom in enumerate(dom_scores.columns):\n",
    "        obs = dom_links.values[i,j]\n",
    "        null = dom_links_null[i,j,:]\n",
    "        p.loc[struct, dom] = np.sum(null > obs) / float(n_iter)"
   ]
  },
  {
   "cell_type": "code",
   "execution_count": null,
   "metadata": {},
   "outputs": [],
   "source": [
    "fdr = multipletests(p.values.ravel(), method=\"fdr_bh\")[1]\n",
    "fdr = pd.DataFrame(fdr.reshape(p.shape), \n",
    "                   index=act_bin.columns, columns=dom_scores.columns)"
   ]
  },
  {
   "cell_type": "code",
   "execution_count": null,
   "metadata": {},
   "outputs": [],
   "source": [
    "dom_links_thres = dom_links[fdr < 0.01]\n",
    "dom_links_thres = dom_links_thres.fillna(0.0)"
   ]
  },
  {
   "cell_type": "code",
   "execution_count": null,
   "metadata": {},
   "outputs": [],
   "source": [
    "dom_links_thres.to_csv(\"circuits/circuits_rdoc.csv\")"
   ]
  },
  {
   "cell_type": "markdown",
   "metadata": {},
   "source": [
    "## Map PPMI-weighted links"
   ]
  },
  {
   "cell_type": "code",
   "execution_count": null,
   "metadata": {},
   "outputs": [],
   "source": [
    "atlas = load_atlas()"
   ]
  },
  {
   "cell_type": "code",
   "execution_count": null,
   "metadata": {},
   "outputs": [],
   "source": [
    "purples = make_cmap([(1,1,1), (0.365,0,0.878)])\n",
    "yellows = make_cmap([(1,1,1), (0.937,0.749,0)])\n",
    "cmaps = [\"Blues\", \"Reds\", \"Greens\", purples, yellows, \"Oranges\"]"
   ]
  },
  {
   "cell_type": "code",
   "execution_count": null,
   "metadata": {
    "scrolled": false
   },
   "outputs": [],
   "source": [
    "map_plane(dom_links_thres, atlas, \"figures/circuits/rdoc\", suffix=\"_z\", \n",
    "      cmaps=cmaps, plane=\"z\", cbar=True, vmin=0.0, vmax=0.6,\n",
    "      verbose=True, print_fig=True, annotate=False)"
   ]
  },
  {
   "cell_type": "code",
   "execution_count": null,
   "metadata": {},
   "outputs": [],
   "source": [
    "for plane in [\"x\", \"y\"]:\n",
    "    map_plane(dom_links_thres, atlas, \"figures/circuits/rdoc\", suffix=\"_\"+plane, \n",
    "              cmaps=cmaps, plane=plane, cbar=True, vmin=0.0, vmax=0.6,\n",
    "              verbose=False, print_fig=False, annotate=True)"
   ]
  }
 ],
 "metadata": {
  "kernelspec": {
   "display_name": "Python (Ontol)",
   "language": "python",
   "name": "ontol"
  },
  "language_info": {
   "codemirror_mode": {
    "name": "ipython",
    "version": 3
   },
   "file_extension": ".py",
   "mimetype": "text/x-python",
   "name": "python",
   "nbconvert_exporter": "python",
   "pygments_lexer": "ipython3",
   "version": "3.6.8"
  }
 },
 "nbformat": 4,
 "nbformat_minor": 2
}
