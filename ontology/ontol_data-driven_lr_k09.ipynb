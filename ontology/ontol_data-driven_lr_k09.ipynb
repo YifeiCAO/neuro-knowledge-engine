{
 "cells": [
  {
   "cell_type": "markdown",
   "metadata": {},
   "source": [
    "# Introduction\n",
    "\n",
    "This notebook will take a data-driven approach to generating word lists for mental functions that are related to brain circuitry. The overall process is as follows:\n",
    "\n",
    "1. Cluster brain structures into circuits by PMI-weighted co-occurrences with mental function terms.\n",
    "2. Identify the mental function terms most highly associated to each circuit over a range of list lengths.\n",
    "3. Select the list length for each circuit that maximizes word-structure classification performance. \n",
    "4. Select the number of circuits that maximizes circuit-function classification performance."
   ]
  },
  {
   "cell_type": "markdown",
   "metadata": {},
   "source": [
    "# Load the data"
   ]
  },
  {
   "cell_type": "code",
   "execution_count": 1,
   "metadata": {},
   "outputs": [],
   "source": [
    "import numpy as np\n",
    "np.random.seed(42)\n",
    "\n",
    "import pandas as pd\n",
    "import sys\n",
    "sys.path.append(\"..\")\n",
    "import utilities, ontology"
   ]
  },
  {
   "cell_type": "code",
   "execution_count": 2,
   "metadata": {},
   "outputs": [],
   "source": [
    "suffix = \"lr\""
   ]
  },
  {
   "cell_type": "markdown",
   "metadata": {},
   "source": [
    "## Brain activation coordinates"
   ]
  },
  {
   "cell_type": "code",
   "execution_count": 3,
   "metadata": {},
   "outputs": [
    {
     "name": "stdout",
     "output_type": "stream",
     "text": [
      "Document N=18155, Structure N=118\n"
     ]
    }
   ],
   "source": [
    "act_bin = utilities.load_coordinates()\n",
    "print(\"Document N={}, Structure N={}\".format(\n",
    "      act_bin.shape[0], act_bin.shape[1]))"
   ]
  },
  {
   "cell_type": "markdown",
   "metadata": {},
   "source": [
    "## Terms for mental functions"
   ]
  },
  {
   "cell_type": "code",
   "execution_count": 4,
   "metadata": {},
   "outputs": [],
   "source": [
    "version = 190325\n",
    "dtm_bin = utilities.load_doc_term_matrix(version=version, binarize=True)"
   ]
  },
  {
   "cell_type": "code",
   "execution_count": 5,
   "metadata": {},
   "outputs": [
    {
     "data": {
      "text/plain": [
       "1683"
      ]
     },
     "execution_count": 5,
     "metadata": {},
     "output_type": "execute_result"
    }
   ],
   "source": [
    "lexicon = utilities.load_lexicon([\"cogneuro\"])\n",
    "lexicon = sorted(list(set(lexicon).intersection(dtm_bin.columns)))\n",
    "len(lexicon)"
   ]
  },
  {
   "cell_type": "code",
   "execution_count": 6,
   "metadata": {},
   "outputs": [
    {
     "name": "stdout",
     "output_type": "stream",
     "text": [
      "Document N=18155, Term N=1683\n"
     ]
    }
   ],
   "source": [
    "dtm_bin = dtm_bin[lexicon]\n",
    "print(\"Document N={}, Term N={}\".format(\n",
    "      dtm_bin.shape[0], dtm_bin.shape[1]))"
   ]
  },
  {
   "cell_type": "code",
   "execution_count": 7,
   "metadata": {},
   "outputs": [
    {
     "data": {
      "text/plain": [
       "4831488"
      ]
     },
     "execution_count": 7,
     "metadata": {},
     "output_type": "execute_result"
    }
   ],
   "source": [
    "# Total occurrences of terms in the lexicon\n",
    "dtm = utilities.load_doc_term_matrix(version=version, binarize=False)\n",
    "dtm = dtm[lexicon]\n",
    "np.sum(dtm.values)"
   ]
  },
  {
   "cell_type": "markdown",
   "metadata": {},
   "source": [
    "## Document splits"
   ]
  },
  {
   "cell_type": "code",
   "execution_count": 8,
   "metadata": {},
   "outputs": [
    {
     "name": "stdout",
     "output_type": "stream",
     "text": [
      "Training N=12708, Validation N=3631\n"
     ]
    }
   ],
   "source": [
    "train, val = [[int(pmid.strip()) \n",
    "               for pmid in open(\"../data/splits/{}.txt\".format(split))] \n",
    "                    for split in [\"train\", \"validation\"]]\n",
    "print(\"Training N={}, Validation N={}\".format(len(train), len(val)))"
   ]
  },
  {
   "cell_type": "markdown",
   "metadata": {},
   "source": [
    "# Link structures to functions\n",
    "\n",
    "Links are computed as PMI-weighted co-occurrences across the training set"
   ]
  },
  {
   "cell_type": "code",
   "execution_count": 9,
   "metadata": {},
   "outputs": [
    {
     "name": "stdout",
     "output_type": "stream",
     "text": [
      "Structure N=118, Term N=1634\n"
     ]
    }
   ],
   "source": [
    "stm = ontology.load_stm(act_bin.loc[train], dtm_bin.loc[train])\n",
    "print(\"Structure N={}, Term N={}\".format(stm.shape[0], stm.shape[1]))"
   ]
  },
  {
   "cell_type": "markdown",
   "metadata": {},
   "source": [
    "### Terms most strongly linked to the left amygdala"
   ]
  },
  {
   "cell_type": "code",
   "execution_count": 10,
   "metadata": {},
   "outputs": [
    {
     "data": {
      "text/plain": [
       "olfactory_stimulus_transduction      4.286718\n",
       "auditory_system_function             3.082745\n",
       "letter_naming_task                   2.900424\n",
       "eye_puff                             2.494958\n",
       "face_identification_task             2.440891\n",
       "pavlovian_conditioning_task          2.035426\n",
       "emotion_expression_identification    2.018034\n",
       "waisinformation                      2.018034\n",
       "social_norm_processing_task          1.984133\n",
       "offensive_aggression                 1.951343\n",
       "Name: left_amygdala, dtype: float64"
      ]
     },
     "execution_count": 10,
     "metadata": {},
     "output_type": "execute_result"
    }
   ],
   "source": [
    "stm.loc[\"left_amygdala\"].sort_values(ascending=False)[:10]"
   ]
  },
  {
   "cell_type": "markdown",
   "metadata": {},
   "source": [
    "### Structures most strongly linked to *face_identification_task*"
   ]
  },
  {
   "cell_type": "code",
   "execution_count": 11,
   "metadata": {},
   "outputs": [
    {
     "data": {
      "text/plain": [
       "right_parahippocampal_gyrus_anterior_division    2.540766\n",
       "left_frontal_medial_cortex                       2.467574\n",
       "right_amygdala                                   2.465049\n",
       "left_parahippocampal_gyrus_anterior_division     2.448795\n",
       "right_frontal_medial_cortex                      2.442356\n",
       "left_amygdala                                    2.440891\n",
       "right_hippocampus                                2.129478\n",
       "left_temporal_pole                               2.026462\n",
       "right_temporal_pole                              2.001289\n",
       "left_cingulate_gyrus_anterior_division           1.582475\n",
       "Name: face_identification_task, dtype: float64"
      ]
     },
     "execution_count": 11,
     "metadata": {},
     "output_type": "execute_result"
    }
   ],
   "source": [
    "stm[\"face_identification_task\"].sort_values(ascending=False)[:10]"
   ]
  },
  {
   "cell_type": "markdown",
   "metadata": {},
   "source": [
    "# Generate the ontology\n",
    "\n",
    "## 1. Cluster brain structures by functions"
   ]
  },
  {
   "cell_type": "code",
   "execution_count": 12,
   "metadata": {},
   "outputs": [],
   "source": [
    "import os\n",
    "from sklearn.cluster import KMeans\n",
    "from scipy.stats import pointbiserialr"
   ]
  },
  {
   "cell_type": "code",
   "execution_count": 13,
   "metadata": {},
   "outputs": [],
   "source": [
    "n_circuits = range(2, 51) # Range over which ROC-AUC becomes asymptotic\n",
    "list_lens = range(5, 51) # Same range as RDoC and the DSM"
   ]
  },
  {
   "cell_type": "code",
   "execution_count": 14,
   "metadata": {},
   "outputs": [],
   "source": [
    "for k in n_circuits:\n",
    "    circuit_file = \"circuits/circuits_k{:02d}.csv\".format(k)\n",
    "    if not os.path.isfile(circuit_file):\n",
    "        kmeans = KMeans(n_clusters=k, max_iter=1000, random_state=42)  \n",
    "        kmeans.fit(stm)\n",
    "        clust = pd.DataFrame({\"STRUCTURE\": act_bin.columns, \n",
    "                              \"CLUSTER\": [l+1 for l in list(kmeans.labels_)]})\n",
    "        clust = clust.sort_values([\"CLUSTER\", \"STRUCTURE\"])\n",
    "        clust.to_csv(circuit_file, index=None)"
   ]
  },
  {
   "cell_type": "markdown",
   "metadata": {},
   "source": [
    "## 2. Identify associated terms for mental functions"
   ]
  },
  {
   "cell_type": "code",
   "execution_count": 15,
   "metadata": {},
   "outputs": [],
   "source": [
    "for k in n_circuits:\n",
    "    circuit_file = \"circuits/circuits_k{:02d}.csv\".format(k)\n",
    "    clust = pd.read_csv(circuit_file, index_col=None)\n",
    "    list_file = \"lists/lists_k{:02d}.csv\".format(k)\n",
    "    if not os.path.isfile(list_file):\n",
    "        lists = pd.DataFrame()\n",
    "        for i in range(k):\n",
    "            structures = list(clust.loc[clust[\"CLUSTER\"] == i+1, \"STRUCTURE\"])\n",
    "            centroid = np.mean(act_bin.loc[train, structures], axis=1)\n",
    "            R = pd.Series([pointbiserialr(dtm_bin.loc[train, word], centroid)[0] \n",
    "                           for word in dtm_bin.columns], index=dtm_bin.columns)\n",
    "            R = R[R > 0].sort_values(ascending=False)[:max(list_lens)]\n",
    "            R = pd.DataFrame({\"CLUSTER\": [i+1 for l in range(max(list_lens))], \n",
    "                              \"TOKEN\": R.index, \"R\": R.values})\n",
    "            lists = lists.append(R)\n",
    "        lists.to_csv(list_file, index=None)"
   ]
  },
  {
   "cell_type": "markdown",
   "metadata": {},
   "source": [
    "## 3. Select number of words per domain\n",
    "\n",
    "Word list lengths were selected by mean ROC-AUC of forward and reverse classifiers for each circuit. The number of circuits will be selected across values of k using the lists of optimized length, this time training classifiers that use all the circuits at that k. All classifiers were optimized over a grid search for regularization strength, penalty, and intercept."
   ]
  },
  {
   "cell_type": "markdown",
   "metadata": {},
   "source": [
    "## 4. Select optimal number of domains\n",
    "\n",
    "### Circuit-level features"
   ]
  },
  {
   "cell_type": "code",
   "execution_count": 16,
   "metadata": {},
   "outputs": [],
   "source": [
    "import pickle\n",
    "from sklearn.preprocessing import binarize"
   ]
  },
  {
   "cell_type": "code",
   "execution_count": 17,
   "metadata": {},
   "outputs": [],
   "source": [
    "directions = [\"forward\", \"reverse\"]"
   ]
  },
  {
   "cell_type": "code",
   "execution_count": 18,
   "metadata": {},
   "outputs": [
    {
     "name": "stderr",
     "output_type": "stream",
     "text": [
      "/anaconda3/envs/ontol/lib/python3.6/site-packages/sklearn/base.py:306: UserWarning: Trying to unpickle estimator LogisticRegression from version 0.21.2 when using version 0.21.1. This might lead to breaking code or invalid results. Use at your own risk.\n",
      "  UserWarning)\n",
      "/anaconda3/envs/ontol/lib/python3.6/site-packages/sklearn/base.py:306: UserWarning: Trying to unpickle estimator LabelBinarizer from version 0.21.2 when using version 0.21.1. This might lead to breaking code or invalid results. Use at your own risk.\n",
      "  UserWarning)\n",
      "/anaconda3/envs/ontol/lib/python3.6/site-packages/sklearn/base.py:306: UserWarning: Trying to unpickle estimator OneVsRestClassifier from version 0.21.2 when using version 0.21.1. This might lead to breaking code or invalid results. Use at your own risk.\n",
      "  UserWarning)\n"
     ]
    }
   ],
   "source": [
    "fits = {}\n",
    "for d in directions:\n",
    "    fits[d] = {}\n",
    "    for k in n_circuits:\n",
    "        fit_file = \"logistic_regression/sherlock/fits/{}_k{:02d}_{}.p\".format(d, k, d)\n",
    "        fits[d][k] = pickle.load(open(fit_file, \"rb\"))"
   ]
  },
  {
   "cell_type": "code",
   "execution_count": 27,
   "metadata": {},
   "outputs": [],
   "source": [
    "features = {k: {} for k in n_circuits}\n",
    "for k in n_circuits:\n",
    "    domains = range(1, k+1)\n",
    "    lists, circuits = ontology.load_ontology(k, suffix=\"_\" + suffix)\n",
    "    function_features = pd.DataFrame(index=dtm_bin.index, columns=domains)\n",
    "    structure_features = pd.DataFrame(index=act_bin.index, columns=domains)\n",
    "    for i in domains:\n",
    "        functions = lists.loc[lists[\"CLUSTER\"] == i, \"TOKEN\"]\n",
    "        function_features[i] = dtm_bin[functions].sum(axis=1)\n",
    "        structures = circuits.loc[circuits[\"CLUSTER\"] == i, \"STRUCTURE\"]\n",
    "        structure_features[i] = act_bin[structures].sum(axis=1)\n",
    "    function_features = pd.DataFrame(utilities.doc_mean_thres(function_features), \n",
    "                                     index=dtm_bin.index, columns=domains)\n",
    "    structure_features = pd.DataFrame(binarize(structure_features), \n",
    "                                     index=act_bin.index, columns=domains)\n",
    "    features[k][\"function\"] = function_features\n",
    "    features[k][\"structure\"] = structure_features"
   ]
  },
  {
   "cell_type": "markdown",
   "metadata": {},
   "source": [
    "# Name the domains\n",
    "\n",
    "## Load the lists and circuits of the selected <i>k</i>"
   ]
  },
  {
   "cell_type": "code",
   "execution_count": 28,
   "metadata": {},
   "outputs": [],
   "source": [
    "op_k = 9"
   ]
  },
  {
   "cell_type": "code",
   "execution_count": 29,
   "metadata": {},
   "outputs": [],
   "source": [
    "lists, circuits = ontology.load_ontology(op_k, suffix=\"_\" + suffix)"
   ]
  },
  {
   "cell_type": "markdown",
   "metadata": {},
   "source": [
    "## Select the term with highest degree centrality\n",
    "\n",
    "Also ensure that names are unique across domains in the clustering solution"
   ]
  },
  {
   "cell_type": "code",
   "execution_count": 30,
   "metadata": {},
   "outputs": [
    {
     "data": {
      "text/plain": [
       "{1: 'HEARING',\n",
       " 2: 'REWARD',\n",
       " 3: 'VISION',\n",
       " 4: 'MANIPULATION',\n",
       " 5: 'MEMORY',\n",
       " 6: 'COGNITION',\n",
       " 7: 'LANGUAGE',\n",
       " 8: 'EXECUTION',\n",
       " 9: 'EPISODIC_MEMORY'}"
      ]
     },
     "execution_count": 30,
     "metadata": {},
     "output_type": "execute_result"
    }
   ],
   "source": [
    "k2name = ontology.name_domains(lists, dtm_bin)\n",
    "k2name"
   ]
  },
  {
   "cell_type": "markdown",
   "metadata": {},
   "source": [
    "## Sort by predetermined semantic ordering"
   ]
  },
  {
   "cell_type": "code",
   "execution_count": 31,
   "metadata": {},
   "outputs": [
    {
     "data": {
      "text/plain": [
       "['MEMORY',\n",
       " 'EPISODIC_MEMORY',\n",
       " 'REWARD',\n",
       " 'COGNITION',\n",
       " 'VISION',\n",
       " 'MANIPULATION',\n",
       " 'EXECUTION',\n",
       " 'HEARING',\n",
       " 'LANGUAGE']"
      ]
     },
     "execution_count": 31,
     "metadata": {},
     "output_type": "execute_result"
    }
   ],
   "source": [
    "order = [5,9,2,6,3,4,8,1,7]\n",
    "k2order = {k: order.index(k)+1 for k in range(1,op_k+1)}\n",
    "names = [k2name[k] for k in order]\n",
    "names"
   ]
  },
  {
   "cell_type": "markdown",
   "metadata": {},
   "source": [
    "## Export ontology with domain names\n",
    "\n",
    "### Function term lists"
   ]
  },
  {
   "cell_type": "code",
   "execution_count": 37,
   "metadata": {},
   "outputs": [
    {
     "data": {
      "text/html": [
       "<div>\n",
       "<style scoped>\n",
       "    .dataframe tbody tr th:only-of-type {\n",
       "        vertical-align: middle;\n",
       "    }\n",
       "\n",
       "    .dataframe tbody tr th {\n",
       "        vertical-align: top;\n",
       "    }\n",
       "\n",
       "    .dataframe thead th {\n",
       "        text-align: right;\n",
       "    }\n",
       "</style>\n",
       "<table border=\"1\" class=\"dataframe\">\n",
       "  <thead>\n",
       "    <tr style=\"text-align: right;\">\n",
       "      <th></th>\n",
       "      <th>ORDER</th>\n",
       "      <th>CLUSTER</th>\n",
       "      <th>DOMAIN</th>\n",
       "      <th>TOKEN</th>\n",
       "      <th>R</th>\n",
       "      <th>ROC_AUC</th>\n",
       "    </tr>\n",
       "  </thead>\n",
       "  <tbody>\n",
       "    <tr>\n",
       "      <th>52</th>\n",
       "      <td>1</td>\n",
       "      <td>5</td>\n",
       "      <td>MEMORY</td>\n",
       "      <td>memory</td>\n",
       "      <td>0.199402</td>\n",
       "      <td>0.656132</td>\n",
       "    </tr>\n",
       "    <tr>\n",
       "      <th>53</th>\n",
       "      <td>1</td>\n",
       "      <td>5</td>\n",
       "      <td>MEMORY</td>\n",
       "      <td>declarative_memory</td>\n",
       "      <td>0.175460</td>\n",
       "      <td>0.656132</td>\n",
       "    </tr>\n",
       "    <tr>\n",
       "      <th>54</th>\n",
       "      <td>1</td>\n",
       "      <td>5</td>\n",
       "      <td>MEMORY</td>\n",
       "      <td>episodic_memory</td>\n",
       "      <td>0.172781</td>\n",
       "      <td>0.656132</td>\n",
       "    </tr>\n",
       "    <tr>\n",
       "      <th>55</th>\n",
       "      <td>1</td>\n",
       "      <td>5</td>\n",
       "      <td>MEMORY</td>\n",
       "      <td>recognition_memory</td>\n",
       "      <td>0.162780</td>\n",
       "      <td>0.656132</td>\n",
       "    </tr>\n",
       "    <tr>\n",
       "      <th>56</th>\n",
       "      <td>1</td>\n",
       "      <td>5</td>\n",
       "      <td>MEMORY</td>\n",
       "      <td>emotion</td>\n",
       "      <td>0.160585</td>\n",
       "      <td>0.656132</td>\n",
       "    </tr>\n",
       "  </tbody>\n",
       "</table>\n",
       "</div>"
      ],
      "text/plain": [
       "    ORDER  CLUSTER  DOMAIN               TOKEN         R   ROC_AUC\n",
       "52      1        5  MEMORY              memory  0.199402  0.656132\n",
       "53      1        5  MEMORY  declarative_memory  0.175460  0.656132\n",
       "54      1        5  MEMORY     episodic_memory  0.172781  0.656132\n",
       "55      1        5  MEMORY  recognition_memory  0.162780  0.656132\n",
       "56      1        5  MEMORY             emotion  0.160585  0.656132"
      ]
     },
     "execution_count": 37,
     "metadata": {},
     "output_type": "execute_result"
    }
   ],
   "source": [
    "columns = [\"ORDER\", \"CLUSTER\", \"DOMAIN\", \"TOKEN\", \"R\", \"ROC_AUC\"]\n",
    "lists[\"ORDER\"] = [k2order[k] for k in lists[\"CLUSTER\"]]\n",
    "lists[\"DOMAIN\"] = [k2name[k] for k in lists[\"CLUSTER\"]]\n",
    "lists = lists.sort_values([\"ORDER\", \"R\"], ascending=[True, False])\n",
    "lists = lists[columns]\n",
    "lists.to_csv(\"lists/lists_data-driven_k09_\" + suffix + \".csv\", index=None)\n",
    "lists.head()"
   ]
  },
  {
   "cell_type": "markdown",
   "metadata": {},
   "source": [
    "### Brain circuits"
   ]
  },
  {
   "cell_type": "code",
   "execution_count": 33,
   "metadata": {},
   "outputs": [
    {
     "data": {
      "text/html": [
       "<div>\n",
       "<style scoped>\n",
       "    .dataframe tbody tr th:only-of-type {\n",
       "        vertical-align: middle;\n",
       "    }\n",
       "\n",
       "    .dataframe tbody tr th {\n",
       "        vertical-align: top;\n",
       "    }\n",
       "\n",
       "    .dataframe thead th {\n",
       "        text-align: right;\n",
       "    }\n",
       "</style>\n",
       "<table border=\"1\" class=\"dataframe\">\n",
       "  <thead>\n",
       "    <tr style=\"text-align: right;\">\n",
       "      <th></th>\n",
       "      <th>ORDER</th>\n",
       "      <th>CLUSTER</th>\n",
       "      <th>DOMAIN</th>\n",
       "      <th>STRUCTURE</th>\n",
       "    </tr>\n",
       "  </thead>\n",
       "  <tbody>\n",
       "    <tr>\n",
       "      <th>54</th>\n",
       "      <td>1</td>\n",
       "      <td>5</td>\n",
       "      <td>MEMORY</td>\n",
       "      <td>left_amygdala</td>\n",
       "    </tr>\n",
       "    <tr>\n",
       "      <th>55</th>\n",
       "      <td>1</td>\n",
       "      <td>5</td>\n",
       "      <td>MEMORY</td>\n",
       "      <td>left_hippocampus</td>\n",
       "    </tr>\n",
       "    <tr>\n",
       "      <th>56</th>\n",
       "      <td>1</td>\n",
       "      <td>5</td>\n",
       "      <td>MEMORY</td>\n",
       "      <td>left_parahippocampal_gyrus_anterior_division</td>\n",
       "    </tr>\n",
       "    <tr>\n",
       "      <th>57</th>\n",
       "      <td>1</td>\n",
       "      <td>5</td>\n",
       "      <td>MEMORY</td>\n",
       "      <td>left_parahippocampal_gyrus_posterior_division</td>\n",
       "    </tr>\n",
       "    <tr>\n",
       "      <th>58</th>\n",
       "      <td>1</td>\n",
       "      <td>5</td>\n",
       "      <td>MEMORY</td>\n",
       "      <td>left_temporal_fusiform_cortex_anterior_division</td>\n",
       "    </tr>\n",
       "  </tbody>\n",
       "</table>\n",
       "</div>"
      ],
      "text/plain": [
       "    ORDER  CLUSTER  DOMAIN                                        STRUCTURE\n",
       "54      1        5  MEMORY                                    left_amygdala\n",
       "55      1        5  MEMORY                                 left_hippocampus\n",
       "56      1        5  MEMORY     left_parahippocampal_gyrus_anterior_division\n",
       "57      1        5  MEMORY    left_parahippocampal_gyrus_posterior_division\n",
       "58      1        5  MEMORY  left_temporal_fusiform_cortex_anterior_division"
      ]
     },
     "execution_count": 33,
     "metadata": {},
     "output_type": "execute_result"
    }
   ],
   "source": [
    "columns = [\"ORDER\", \"CLUSTER\", \"DOMAIN\", \"STRUCTURE\"]\n",
    "circuits[\"ORDER\"] = [k2order[k] for k in circuits[\"CLUSTER\"]]\n",
    "circuits[\"DOMAIN\"] = [k2name[k] for k in circuits[\"CLUSTER\"]]\n",
    "circuits = circuits.sort_values([\"ORDER\", \"STRUCTURE\"])\n",
    "circuits = circuits[columns]\n",
    "circuits.head()"
   ]
  },
  {
   "cell_type": "code",
   "execution_count": 34,
   "metadata": {},
   "outputs": [
    {
     "data": {
      "text/html": [
       "<div>\n",
       "<style scoped>\n",
       "    .dataframe tbody tr th:only-of-type {\n",
       "        vertical-align: middle;\n",
       "    }\n",
       "\n",
       "    .dataframe tbody tr th {\n",
       "        vertical-align: top;\n",
       "    }\n",
       "\n",
       "    .dataframe thead th {\n",
       "        text-align: right;\n",
       "    }\n",
       "</style>\n",
       "<table border=\"1\" class=\"dataframe\">\n",
       "  <thead>\n",
       "    <tr style=\"text-align: right;\">\n",
       "      <th></th>\n",
       "      <th>MEMORY</th>\n",
       "      <th>EPISODIC_MEMORY</th>\n",
       "      <th>REWARD</th>\n",
       "      <th>COGNITION</th>\n",
       "      <th>VISION</th>\n",
       "      <th>MANIPULATION</th>\n",
       "      <th>EXECUTION</th>\n",
       "      <th>HEARING</th>\n",
       "      <th>LANGUAGE</th>\n",
       "    </tr>\n",
       "  </thead>\n",
       "  <tbody>\n",
       "    <tr>\n",
       "      <th>left_frontal_pole</th>\n",
       "      <td>0.0</td>\n",
       "      <td>0.0</td>\n",
       "      <td>0.0</td>\n",
       "      <td>1.0</td>\n",
       "      <td>0.0</td>\n",
       "      <td>0.0</td>\n",
       "      <td>0.0</td>\n",
       "      <td>0.0</td>\n",
       "      <td>0.0</td>\n",
       "    </tr>\n",
       "    <tr>\n",
       "      <th>left_insular_cortex</th>\n",
       "      <td>0.0</td>\n",
       "      <td>0.0</td>\n",
       "      <td>0.0</td>\n",
       "      <td>1.0</td>\n",
       "      <td>0.0</td>\n",
       "      <td>0.0</td>\n",
       "      <td>0.0</td>\n",
       "      <td>0.0</td>\n",
       "      <td>0.0</td>\n",
       "    </tr>\n",
       "    <tr>\n",
       "      <th>left_superior_frontal_gyrus</th>\n",
       "      <td>0.0</td>\n",
       "      <td>0.0</td>\n",
       "      <td>0.0</td>\n",
       "      <td>1.0</td>\n",
       "      <td>0.0</td>\n",
       "      <td>0.0</td>\n",
       "      <td>0.0</td>\n",
       "      <td>0.0</td>\n",
       "      <td>0.0</td>\n",
       "    </tr>\n",
       "    <tr>\n",
       "      <th>left_middle_frontal_gyrus</th>\n",
       "      <td>0.0</td>\n",
       "      <td>0.0</td>\n",
       "      <td>0.0</td>\n",
       "      <td>1.0</td>\n",
       "      <td>0.0</td>\n",
       "      <td>0.0</td>\n",
       "      <td>0.0</td>\n",
       "      <td>0.0</td>\n",
       "      <td>0.0</td>\n",
       "    </tr>\n",
       "    <tr>\n",
       "      <th>left_inferior_frontal_gyrus_pars_triangularis</th>\n",
       "      <td>0.0</td>\n",
       "      <td>0.0</td>\n",
       "      <td>0.0</td>\n",
       "      <td>1.0</td>\n",
       "      <td>0.0</td>\n",
       "      <td>0.0</td>\n",
       "      <td>0.0</td>\n",
       "      <td>0.0</td>\n",
       "      <td>0.0</td>\n",
       "    </tr>\n",
       "  </tbody>\n",
       "</table>\n",
       "</div>"
      ],
      "text/plain": [
       "                                               MEMORY  EPISODIC_MEMORY  \\\n",
       "left_frontal_pole                                 0.0              0.0   \n",
       "left_insular_cortex                               0.0              0.0   \n",
       "left_superior_frontal_gyrus                       0.0              0.0   \n",
       "left_middle_frontal_gyrus                         0.0              0.0   \n",
       "left_inferior_frontal_gyrus_pars_triangularis     0.0              0.0   \n",
       "\n",
       "                                               REWARD  COGNITION  VISION  \\\n",
       "left_frontal_pole                                 0.0        1.0     0.0   \n",
       "left_insular_cortex                               0.0        1.0     0.0   \n",
       "left_superior_frontal_gyrus                       0.0        1.0     0.0   \n",
       "left_middle_frontal_gyrus                         0.0        1.0     0.0   \n",
       "left_inferior_frontal_gyrus_pars_triangularis     0.0        1.0     0.0   \n",
       "\n",
       "                                               MANIPULATION  EXECUTION  \\\n",
       "left_frontal_pole                                       0.0        0.0   \n",
       "left_insular_cortex                                     0.0        0.0   \n",
       "left_superior_frontal_gyrus                             0.0        0.0   \n",
       "left_middle_frontal_gyrus                               0.0        0.0   \n",
       "left_inferior_frontal_gyrus_pars_triangularis           0.0        0.0   \n",
       "\n",
       "                                               HEARING  LANGUAGE  \n",
       "left_frontal_pole                                  0.0       0.0  \n",
       "left_insular_cortex                                0.0       0.0  \n",
       "left_superior_frontal_gyrus                        0.0       0.0  \n",
       "left_middle_frontal_gyrus                          0.0       0.0  \n",
       "left_inferior_frontal_gyrus_pars_triangularis      0.0       0.0  "
      ]
     },
     "execution_count": 34,
     "metadata": {},
     "output_type": "execute_result"
    }
   ],
   "source": [
    "circuit_mat = pd.DataFrame(0.0, index=act_bin.columns, columns=names)\n",
    "for name in names:\n",
    "    structures = circuits.loc[circuits[\"DOMAIN\"] == name, \"STRUCTURE\"]\n",
    "    for structure in structures:\n",
    "        circuit_mat.loc[structure, name] = 1.0\n",
    "circuit_mat.to_csv(\"circuits/clusters_data-driven_k09_\" + suffix + \".csv\")\n",
    "circuit_mat.head()"
   ]
  }
 ],
 "metadata": {
  "kernelspec": {
   "display_name": "Python [conda env:ontol]",
   "language": "python",
   "name": "conda-env-ontol-py"
  },
  "language_info": {
   "codemirror_mode": {
    "name": "ipython",
    "version": 3
   },
   "file_extension": ".py",
   "mimetype": "text/x-python",
   "name": "python",
   "nbconvert_exporter": "python",
   "pygments_lexer": "ipython3",
   "version": "3.6.8"
  }
 },
 "nbformat": 4,
 "nbformat_minor": 2
}
