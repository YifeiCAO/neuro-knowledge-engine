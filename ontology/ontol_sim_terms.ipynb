{
 "cells": [
  {
   "cell_type": "code",
   "execution_count": 1,
   "metadata": {},
   "outputs": [],
   "source": [
    "import pandas as pd\n",
    "import numpy as np\n",
    "np.random.seed(42)\n",
    "\n",
    "from collections import OrderedDict\n",
    "\n",
    "import sys\n",
    "sys.path.append(\"..\")\n",
    "import utilities, ontology"
   ]
  },
  {
   "cell_type": "markdown",
   "metadata": {},
   "source": [
    "# Load brain and text data"
   ]
  },
  {
   "cell_type": "code",
   "execution_count": 2,
   "metadata": {},
   "outputs": [
    {
     "name": "stdout",
     "output_type": "stream",
     "text": [
      "Document N=18155, Structure N=118\n"
     ]
    }
   ],
   "source": [
    "act_bin = utilities.load_coordinates().astype(float)\n",
    "print(\"Document N={}, Structure N={}\".format(act_bin.shape[0], act_bin.shape[1]))"
   ]
  },
  {
   "cell_type": "code",
   "execution_count": 3,
   "metadata": {},
   "outputs": [
    {
     "name": "stdout",
     "output_type": "stream",
     "text": [
      "Document N=18155, Term N=4107\n"
     ]
    }
   ],
   "source": [
    "version = 190325\n",
    "dtm_bin = utilities.load_doc_term_matrix(version=version, binarize=True)\n",
    "print(\"Document N={}, Term N={}\".format(dtm_bin.shape[0], dtm_bin.shape[1]))"
   ]
  },
  {
   "cell_type": "code",
   "execution_count": 4,
   "metadata": {},
   "outputs": [],
   "source": [
    "frameworks = [\"data-driven\", \"data-driven\", \"rdoc\", \"dsm\"]\n",
    "list_suffixes = [\"\", \"\", \"_opsim\", \"_opsim\"]\n",
    "circuit_suffixes = [\"_terms\", \"_lr\", \"\", \"\"]\n",
    "lists, circuits = {}, {}\n",
    "for fw, list_suffix, circuit_suffix in zip(frameworks, list_suffixes, circuit_suffixes):\n",
    "    lists[fw+circuit_suffix], circuits[fw+circuit_suffix] = utilities.load_framework(fw, suffix=list_suffix, clf=circuit_suffix)"
   ]
  },
  {
   "cell_type": "code",
   "execution_count": 5,
   "metadata": {},
   "outputs": [],
   "source": [
    "frameworks = [fw+circuit_suffix for fw, circuit_suffix in zip(frameworks, circuit_suffixes)]"
   ]
  },
  {
   "cell_type": "code",
   "execution_count": 6,
   "metadata": {},
   "outputs": [],
   "source": [
    "scores = {fw: utilities.score_lists(lists[fw], dtm_bin, label_var=\"DOMAIN\") for fw in frameworks}"
   ]
  },
  {
   "cell_type": "code",
   "execution_count": 7,
   "metadata": {},
   "outputs": [
    {
     "name": "stdout",
     "output_type": "stream",
     "text": [
      "Term N=349, Structure N=118\n"
     ]
    }
   ],
   "source": [
    "words = []\n",
    "for fw in frameworks:\n",
    "    words += list(lists[fw][\"TOKEN\"])\n",
    "words = sorted(list(set(words)))\n",
    "structures = list(act_bin.columns)\n",
    "print(\"Term N={}, Structure N={}\".format(len(words), len(structures)))"
   ]
  },
  {
   "cell_type": "code",
   "execution_count": 8,
   "metadata": {},
   "outputs": [],
   "source": [
    "domains = {fw: list(OrderedDict.fromkeys(lists[fw][\"DOMAIN\"])) for fw in frameworks}"
   ]
  },
  {
   "cell_type": "code",
   "execution_count": 9,
   "metadata": {},
   "outputs": [
    {
     "data": {
      "text/plain": [
       "18155"
      ]
     },
     "execution_count": 9,
     "metadata": {},
     "output_type": "execute_result"
    }
   ],
   "source": [
    "pmids = act_bin.index.intersection(scores[\"rdoc\"].index).intersection(scores[\"dsm\"].index)\n",
    "len(pmids)"
   ]
  },
  {
   "cell_type": "code",
   "execution_count": 10,
   "metadata": {},
   "outputs": [],
   "source": [
    "for fw in frameworks:\n",
    "    scores[fw] = scores[fw].loc[pmids]"
   ]
  },
  {
   "cell_type": "code",
   "execution_count": 11,
   "metadata": {},
   "outputs": [],
   "source": [
    "dtm_bin = dtm_bin.loc[pmids, words]\n",
    "act_bin = act_bin.loc[pmids, structures]"
   ]
  },
  {
   "cell_type": "markdown",
   "metadata": {},
   "source": [
    "# Load frameworks"
   ]
  },
  {
   "cell_type": "code",
   "execution_count": 12,
   "metadata": {},
   "outputs": [],
   "source": [
    "fw2names = {\n",
    "    \"data-driven_lr\": [\"Memory\", \"Reward\", \"Cognition\", \"Vision\", \"Manipulation\", \"Language\"],\n",
    "    \"data-driven_terms\": [\"Memory\", \"Emotion\", \"Inference\", \"Cognition\", \"Vision\", \"Language\"],\n",
    "    \"rdoc\": [\"Negative\", \"Positive\", \"Arousal & Reg.\", \"Social\", \"Cognitive\", \"Sensorimotor\"],\n",
    "    \"dsm\": [\"Depressive\", \"Anxiety\", \"Trauma & Stressor\", \"Obsess.-Compuls.\", \n",
    "            \"Disruptive\", \"Substance\", \"Developmental\", \"Psychotic\", \"Bipolar\"]\n",
    "}"
   ]
  },
  {
   "cell_type": "code",
   "execution_count": 13,
   "metadata": {},
   "outputs": [],
   "source": [
    "systems = {}\n",
    "for fw in frameworks:\n",
    "    fw_df = pd.DataFrame(0.0, index=words+structures, columns=domains[fw])\n",
    "    for dom in domains[fw]:\n",
    "        for word in lists[fw].loc[lists[fw][\"DOMAIN\"] == dom, \"TOKEN\"]:\n",
    "            fw_df.loc[word, dom] = 1.0\n",
    "        for struct in structures:\n",
    "            fw_df.loc[struct, dom] = circuits[fw].loc[struct, dom]\n",
    "    fw_df[fw_df > 0.0] = 1.0\n",
    "    fw_df.columns = fw2names[fw]\n",
    "    systems[fw] = fw_df"
   ]
  },
  {
   "cell_type": "code",
   "execution_count": 14,
   "metadata": {},
   "outputs": [],
   "source": [
    "domains = fw2names"
   ]
  },
  {
   "cell_type": "markdown",
   "metadata": {},
   "source": [
    "# Similarity of RDoC and data-driven terms\n",
    "\n",
    "## Observed values"
   ]
  },
  {
   "cell_type": "code",
   "execution_count": 15,
   "metadata": {},
   "outputs": [],
   "source": [
    "from scipy.spatial.distance import dice, cdist\n",
    "import matplotlib.pyplot as plt\n",
    "from matplotlib import font_manager, rcParams\n",
    "from style import style\n",
    "\n",
    "font_prop = font_manager.FontProperties(fname=style.font, size=20)\n",
    "rcParams[\"axes.linewidth\"] = 1.5\n",
    "\n",
    "%matplotlib inline"
   ]
  },
  {
   "cell_type": "code",
   "execution_count": 16,
   "metadata": {
    "scrolled": false
   },
   "outputs": [],
   "source": [
    "def compute_sim_obs(fw, fw_base=\"data-driven_terms\"):\n",
    "    sims = pd.DataFrame(index=domains[fw_base], columns=domains[fw])\n",
    "    for k in domains[fw_base]:\n",
    "        for r in domains[fw]:\n",
    "            sims.loc[k,r] = 1.0 - dice(systems[fw_base][k], systems[fw][r])\n",
    "    return sims"
   ]
  },
  {
   "cell_type": "code",
   "execution_count": 17,
   "metadata": {},
   "outputs": [
    {
     "data": {
      "text/html": [
       "<div>\n",
       "<style scoped>\n",
       "    .dataframe tbody tr th:only-of-type {\n",
       "        vertical-align: middle;\n",
       "    }\n",
       "\n",
       "    .dataframe tbody tr th {\n",
       "        vertical-align: top;\n",
       "    }\n",
       "\n",
       "    .dataframe thead th {\n",
       "        text-align: right;\n",
       "    }\n",
       "</style>\n",
       "<table border=\"1\" class=\"dataframe\">\n",
       "  <thead>\n",
       "    <tr style=\"text-align: right;\">\n",
       "      <th></th>\n",
       "      <th>Negative</th>\n",
       "      <th>Positive</th>\n",
       "      <th>Arousal &amp; Reg.</th>\n",
       "      <th>Social</th>\n",
       "      <th>Cognitive</th>\n",
       "      <th>Sensorimotor</th>\n",
       "    </tr>\n",
       "  </thead>\n",
       "  <tbody>\n",
       "    <tr>\n",
       "      <th>Memory</th>\n",
       "      <td>0.293103</td>\n",
       "      <td>0.036036</td>\n",
       "      <td>0.230088</td>\n",
       "      <td>0.319328</td>\n",
       "      <td>0.101695</td>\n",
       "      <td>0.0172414</td>\n",
       "    </tr>\n",
       "    <tr>\n",
       "      <th>Emotion</th>\n",
       "      <td>0.677165</td>\n",
       "      <td>0.540984</td>\n",
       "      <td>0.419355</td>\n",
       "      <td>0.276923</td>\n",
       "      <td>0.0155039</td>\n",
       "      <td>0</td>\n",
       "    </tr>\n",
       "    <tr>\n",
       "      <th>Inference</th>\n",
       "      <td>0.0754717</td>\n",
       "      <td>0.019802</td>\n",
       "      <td>0.0776699</td>\n",
       "      <td>0.256881</td>\n",
       "      <td>0.185185</td>\n",
       "      <td>0.150943</td>\n",
       "    </tr>\n",
       "    <tr>\n",
       "      <th>Cognition</th>\n",
       "      <td>0.178862</td>\n",
       "      <td>0.20339</td>\n",
       "      <td>0.0333333</td>\n",
       "      <td>0</td>\n",
       "      <td>0.576</td>\n",
       "      <td>0.422764</td>\n",
       "    </tr>\n",
       "    <tr>\n",
       "      <th>Vision</th>\n",
       "      <td>0.0152672</td>\n",
       "      <td>0</td>\n",
       "      <td>0.046875</td>\n",
       "      <td>0.134328</td>\n",
       "      <td>0.406015</td>\n",
       "      <td>0.519084</td>\n",
       "    </tr>\n",
       "    <tr>\n",
       "      <th>Language</th>\n",
       "      <td>0.135593</td>\n",
       "      <td>0.0176991</td>\n",
       "      <td>0.156522</td>\n",
       "      <td>0.297521</td>\n",
       "      <td>0.166667</td>\n",
       "      <td>0.169492</td>\n",
       "    </tr>\n",
       "  </tbody>\n",
       "</table>\n",
       "</div>"
      ],
      "text/plain": [
       "            Negative   Positive Arousal & Reg.    Social  Cognitive  \\\n",
       "Memory      0.293103   0.036036       0.230088  0.319328   0.101695   \n",
       "Emotion     0.677165   0.540984       0.419355  0.276923  0.0155039   \n",
       "Inference  0.0754717   0.019802      0.0776699  0.256881   0.185185   \n",
       "Cognition   0.178862    0.20339      0.0333333         0      0.576   \n",
       "Vision     0.0152672          0       0.046875  0.134328   0.406015   \n",
       "Language    0.135593  0.0176991       0.156522  0.297521   0.166667   \n",
       "\n",
       "          Sensorimotor  \n",
       "Memory       0.0172414  \n",
       "Emotion              0  \n",
       "Inference     0.150943  \n",
       "Cognition     0.422764  \n",
       "Vision        0.519084  \n",
       "Language      0.169492  "
      ]
     },
     "execution_count": 17,
     "metadata": {},
     "output_type": "execute_result"
    }
   ],
   "source": [
    "sims = compute_sim_obs(\"rdoc\")\n",
    "sims"
   ]
  },
  {
   "cell_type": "code",
   "execution_count": 18,
   "metadata": {},
   "outputs": [],
   "source": [
    "def plot_sims(sims, outfile, figsize=(2.8,2.8), plot_cbar=False):\n",
    "    \n",
    "    fig = plt.figure(figsize=figsize)\n",
    "    ax = fig.add_axes([0,0,1,1])\n",
    "    font_prop = font_manager.FontProperties(fname=style.font, size=20)\n",
    "\n",
    "    im = plt.imshow(sims.values.astype(float), cmap=plt.cm.gray)\n",
    "\n",
    "    plt.xticks(range(0,sims.shape[1]), fontproperties=font_prop, rotation=60, ha=\"right\")\n",
    "    plt.yticks(range(0,sims.shape[0]), fontproperties=font_prop)\n",
    "    ax.set_xticklabels(sims.columns)\n",
    "    ax.set_yticklabels(sims.index)\n",
    "    ax.xaxis.set_tick_params(width=1.5, length=7, top=False)\n",
    "    ax.yaxis.set_tick_params(width=1.5, length=7)\n",
    "    plt.clim(0, 1)\n",
    "\n",
    "    if plot_cbar:\n",
    "        cbar = plt.colorbar()\n",
    "        cbar.solids.set_edgecolor(\"face\")\n",
    "    \n",
    "    plt.savefig(outfile, dpi=250, bbox_inches=\"tight\")\n",
    "    plt.show()\n",
    "    plt.close()"
   ]
  },
  {
   "cell_type": "code",
   "execution_count": 19,
   "metadata": {},
   "outputs": [
    {
     "data": {
      "image/png": "[encoded data removed]",
      "text/plain": [
       "<Figure size 201.6x201.6 with 1 Axes>"
      ]
     },
     "metadata": {
      "needs_background": "light"
     },
     "output_type": "display_data"
    }
   ],
   "source": [
    "plot_sims(sims, \"figures/sim_dd-terms_rdoc.png\", plot_cbar=False)"
   ]
  },
  {
   "cell_type": "markdown",
   "metadata": {},
   "source": [
    "## Null distribution"
   ]
  },
  {
   "cell_type": "code",
   "execution_count": 20,
   "metadata": {},
   "outputs": [],
   "source": [
    "def compute_sim_null(fw, n_iter=10000, fw_base=\"data-driven_terms\"):\n",
    "    sims_null = np.empty((len(domains[fw_base]), len(domains[fw]), n_iter))\n",
    "    for n in range(n_iter):\n",
    "        null = np.random.choice(words+structures, \n",
    "                                size=len(words+structures), replace=False)\n",
    "        sims_null[:,:,n] = 1.0 - cdist(systems[fw_base].loc[null].values.T, \n",
    "                                       systems[fw].values.T, metric=\"dice\")\n",
    "        if n % (float(n_iter) / 10.0) == 0:\n",
    "            print(\"Iteration {}\".format(n))\n",
    "    return sims_null"
   ]
  },
  {
   "cell_type": "code",
   "execution_count": 21,
   "metadata": {},
   "outputs": [
    {
     "name": "stdout",
     "output_type": "stream",
     "text": [
      "Iteration 0\n",
      "Iteration 1000\n",
      "Iteration 2000\n",
      "Iteration 3000\n",
      "Iteration 4000\n",
      "Iteration 5000\n",
      "Iteration 6000\n",
      "Iteration 7000\n",
      "Iteration 8000\n",
      "Iteration 9000\n"
     ]
    }
   ],
   "source": [
    "sims_null = compute_sim_null(\"rdoc\")"
   ]
  },
  {
   "cell_type": "markdown",
   "metadata": {},
   "source": [
    "## False discovery rate"
   ]
  },
  {
   "cell_type": "code",
   "execution_count": 22,
   "metadata": {},
   "outputs": [],
   "source": [
    "from statsmodels.stats.multitest import multipletests"
   ]
  },
  {
   "cell_type": "code",
   "execution_count": 23,
   "metadata": {},
   "outputs": [],
   "source": [
    "def compute_sim_fdr(fw, sims, sims_null, fw_base=\"data-driven_terms\"):\n",
    "    n_iter = sims_null.shape[2]\n",
    "    pvals = pd.DataFrame(index=domains[fw_base], columns=domains[fw])\n",
    "    for i, k in enumerate(domains[fw_base]):\n",
    "        for j, r in enumerate(domains[fw]):\n",
    "            pvals.loc[k,r] = np.sum(sims_null[i,j,:] > sims.loc[k,r]) / float(n_iter)\n",
    "    fdrs = multipletests(pvals.values.ravel(), method=\"fdr_bh\")[1]\n",
    "    fdrs = np.reshape(fdrs, pvals.shape)\n",
    "    fdrs = pd.DataFrame(fdrs, index=domains[fw_base], columns=domains[fw])\n",
    "    return fdrs"
   ]
  },
  {
   "cell_type": "code",
   "execution_count": 24,
   "metadata": {},
   "outputs": [
    {
     "data": {
      "text/html": [
       "<div>\n",
       "<style scoped>\n",
       "    .dataframe tbody tr th:only-of-type {\n",
       "        vertical-align: middle;\n",
       "    }\n",
       "\n",
       "    .dataframe tbody tr th {\n",
       "        vertical-align: top;\n",
       "    }\n",
       "\n",
       "    .dataframe thead th {\n",
       "        text-align: right;\n",
       "    }\n",
       "</style>\n",
       "<table border=\"1\" class=\"dataframe\">\n",
       "  <thead>\n",
       "    <tr style=\"text-align: right;\">\n",
       "      <th></th>\n",
       "      <th>Negative</th>\n",
       "      <th>Positive</th>\n",
       "      <th>Arousal &amp; Reg.</th>\n",
       "      <th>Social</th>\n",
       "      <th>Cognitive</th>\n",
       "      <th>Sensorimotor</th>\n",
       "    </tr>\n",
       "  </thead>\n",
       "  <tbody>\n",
       "    <tr>\n",
       "      <th>Memory</th>\n",
       "      <td>0</td>\n",
       "      <td>1</td>\n",
       "      <td>0.0121846</td>\n",
       "      <td>0</td>\n",
       "      <td>1</td>\n",
       "      <td>1</td>\n",
       "    </tr>\n",
       "    <tr>\n",
       "      <th>Emotion</th>\n",
       "      <td>0</td>\n",
       "      <td>0</td>\n",
       "      <td>0</td>\n",
       "      <td>0.0006</td>\n",
       "      <td>1</td>\n",
       "      <td>1</td>\n",
       "    </tr>\n",
       "    <tr>\n",
       "      <th>Inference</th>\n",
       "      <td>1</td>\n",
       "      <td>1</td>\n",
       "      <td>1</td>\n",
       "      <td>0.0006</td>\n",
       "      <td>0.06768</td>\n",
       "      <td>0.228126</td>\n",
       "    </tr>\n",
       "    <tr>\n",
       "      <th>Cognition</th>\n",
       "      <td>0.204525</td>\n",
       "      <td>0.054</td>\n",
       "      <td>1</td>\n",
       "      <td>1</td>\n",
       "      <td>0</td>\n",
       "      <td>0</td>\n",
       "    </tr>\n",
       "    <tr>\n",
       "      <th>Vision</th>\n",
       "      <td>1</td>\n",
       "      <td>1</td>\n",
       "      <td>1</td>\n",
       "      <td>0.792655</td>\n",
       "      <td>0</td>\n",
       "      <td>0</td>\n",
       "    </tr>\n",
       "    <tr>\n",
       "      <th>Language</th>\n",
       "      <td>0.542229</td>\n",
       "      <td>1</td>\n",
       "      <td>0.25434</td>\n",
       "      <td>0</td>\n",
       "      <td>0.228126</td>\n",
       "      <td>0.228126</td>\n",
       "    </tr>\n",
       "  </tbody>\n",
       "</table>\n",
       "</div>"
      ],
      "text/plain": [
       "           Negative Positive Arousal & Reg.    Social Cognitive Sensorimotor\n",
       "Memory            0        1      0.0121846         0         1            1\n",
       "Emotion           0        0              0    0.0006         1            1\n",
       "Inference         1        1              1    0.0006   0.06768     0.228126\n",
       "Cognition  0.204525    0.054              1         1         0            0\n",
       "Vision            1        1              1  0.792655         0            0\n",
       "Language   0.542229        1        0.25434         0  0.228126     0.228126"
      ]
     },
     "execution_count": 24,
     "metadata": {},
     "output_type": "execute_result"
    }
   ],
   "source": [
    "fdrs = compute_sim_fdr(\"rdoc\", sims, sims_null)\n",
    "fdrs"
   ]
  },
  {
   "cell_type": "code",
   "execution_count": 25,
   "metadata": {},
   "outputs": [],
   "source": [
    "def compute_sim_star(fw, fdrs, fw_base=\"data-driven_terms\"):\n",
    "    stars = pd.DataFrame(\"\", index=domains[fw_base], columns=domains[fw])\n",
    "    for k in domains[fw_base]:\n",
    "        for r in domains[fw]:\n",
    "            fdr = fdrs.loc[k,r]\n",
    "            if fdr < 0.05:\n",
    "                stars.loc[k,r] = \"*\"\n",
    "            if fdr < 0.01:\n",
    "                stars.loc[k,r] = \"**\"\n",
    "            if fdr < 0.001:\n",
    "                stars.loc[k,r] = \"***\"\n",
    "    return stars"
   ]
  },
  {
   "cell_type": "code",
   "execution_count": 26,
   "metadata": {},
   "outputs": [
    {
     "data": {
      "text/html": [
       "<div>\n",
       "<style scoped>\n",
       "    .dataframe tbody tr th:only-of-type {\n",
       "        vertical-align: middle;\n",
       "    }\n",
       "\n",
       "    .dataframe tbody tr th {\n",
       "        vertical-align: top;\n",
       "    }\n",
       "\n",
       "    .dataframe thead th {\n",
       "        text-align: right;\n",
       "    }\n",
       "</style>\n",
       "<table border=\"1\" class=\"dataframe\">\n",
       "  <thead>\n",
       "    <tr style=\"text-align: right;\">\n",
       "      <th></th>\n",
       "      <th>Negative</th>\n",
       "      <th>Positive</th>\n",
       "      <th>Arousal &amp; Reg.</th>\n",
       "      <th>Social</th>\n",
       "      <th>Cognitive</th>\n",
       "      <th>Sensorimotor</th>\n",
       "    </tr>\n",
       "  </thead>\n",
       "  <tbody>\n",
       "    <tr>\n",
       "      <th>Memory</th>\n",
       "      <td>***</td>\n",
       "      <td></td>\n",
       "      <td>*</td>\n",
       "      <td>***</td>\n",
       "      <td></td>\n",
       "      <td></td>\n",
       "    </tr>\n",
       "    <tr>\n",
       "      <th>Emotion</th>\n",
       "      <td>***</td>\n",
       "      <td>***</td>\n",
       "      <td>***</td>\n",
       "      <td>***</td>\n",
       "      <td></td>\n",
       "      <td></td>\n",
       "    </tr>\n",
       "    <tr>\n",
       "      <th>Inference</th>\n",
       "      <td></td>\n",
       "      <td></td>\n",
       "      <td></td>\n",
       "      <td>***</td>\n",
       "      <td></td>\n",
       "      <td></td>\n",
       "    </tr>\n",
       "    <tr>\n",
       "      <th>Cognition</th>\n",
       "      <td></td>\n",
       "      <td></td>\n",
       "      <td></td>\n",
       "      <td></td>\n",
       "      <td>***</td>\n",
       "      <td>***</td>\n",
       "    </tr>\n",
       "    <tr>\n",
       "      <th>Vision</th>\n",
       "      <td></td>\n",
       "      <td></td>\n",
       "      <td></td>\n",
       "      <td></td>\n",
       "      <td>***</td>\n",
       "      <td>***</td>\n",
       "    </tr>\n",
       "    <tr>\n",
       "      <th>Language</th>\n",
       "      <td></td>\n",
       "      <td></td>\n",
       "      <td></td>\n",
       "      <td>***</td>\n",
       "      <td></td>\n",
       "      <td></td>\n",
       "    </tr>\n",
       "  </tbody>\n",
       "</table>\n",
       "</div>"
      ],
      "text/plain": [
       "          Negative Positive Arousal & Reg. Social Cognitive Sensorimotor\n",
       "Memory         ***                       *    ***                       \n",
       "Emotion        ***      ***            ***    ***                       \n",
       "Inference                                     ***                       \n",
       "Cognition                                               ***          ***\n",
       "Vision                                                  ***          ***\n",
       "Language                                      ***                       "
      ]
     },
     "execution_count": 26,
     "metadata": {},
     "output_type": "execute_result"
    }
   ],
   "source": [
    "stars = compute_sim_star(\"rdoc\", fdrs)\n",
    "stars"
   ]
  },
  {
   "cell_type": "markdown",
   "metadata": {},
   "source": [
    "## Weights for figure"
   ]
  },
  {
   "cell_type": "code",
   "execution_count": 27,
   "metadata": {},
   "outputs": [
    {
     "data": {
      "text/html": [
       "<div>\n",
       "<style scoped>\n",
       "    .dataframe tbody tr th:only-of-type {\n",
       "        vertical-align: middle;\n",
       "    }\n",
       "\n",
       "    .dataframe tbody tr th {\n",
       "        vertical-align: top;\n",
       "    }\n",
       "\n",
       "    .dataframe thead th {\n",
       "        text-align: right;\n",
       "    }\n",
       "</style>\n",
       "<table border=\"1\" class=\"dataframe\">\n",
       "  <thead>\n",
       "    <tr style=\"text-align: right;\">\n",
       "      <th></th>\n",
       "      <th>Negative</th>\n",
       "      <th>Positive</th>\n",
       "      <th>Arousal &amp; Reg.</th>\n",
       "      <th>Social</th>\n",
       "      <th>Cognitive</th>\n",
       "      <th>Sensorimotor</th>\n",
       "    </tr>\n",
       "  </thead>\n",
       "  <tbody>\n",
       "    <tr>\n",
       "      <th>Memory</th>\n",
       "      <td>14.6552</td>\n",
       "      <td>NaN</td>\n",
       "      <td>11.5044</td>\n",
       "      <td>15.9664</td>\n",
       "      <td>NaN</td>\n",
       "      <td>NaN</td>\n",
       "    </tr>\n",
       "    <tr>\n",
       "      <th>Emotion</th>\n",
       "      <td>33.8583</td>\n",
       "      <td>27.0492</td>\n",
       "      <td>20.9677</td>\n",
       "      <td>13.8462</td>\n",
       "      <td>NaN</td>\n",
       "      <td>NaN</td>\n",
       "    </tr>\n",
       "    <tr>\n",
       "      <th>Inference</th>\n",
       "      <td>NaN</td>\n",
       "      <td>NaN</td>\n",
       "      <td>NaN</td>\n",
       "      <td>12.844</td>\n",
       "      <td>NaN</td>\n",
       "      <td>NaN</td>\n",
       "    </tr>\n",
       "    <tr>\n",
       "      <th>Cognition</th>\n",
       "      <td>NaN</td>\n",
       "      <td>NaN</td>\n",
       "      <td>NaN</td>\n",
       "      <td>NaN</td>\n",
       "      <td>28.8</td>\n",
       "      <td>21.1382</td>\n",
       "    </tr>\n",
       "    <tr>\n",
       "      <th>Vision</th>\n",
       "      <td>NaN</td>\n",
       "      <td>NaN</td>\n",
       "      <td>NaN</td>\n",
       "      <td>NaN</td>\n",
       "      <td>20.3008</td>\n",
       "      <td>25.9542</td>\n",
       "    </tr>\n",
       "    <tr>\n",
       "      <th>Language</th>\n",
       "      <td>NaN</td>\n",
       "      <td>NaN</td>\n",
       "      <td>NaN</td>\n",
       "      <td>14.876</td>\n",
       "      <td>NaN</td>\n",
       "      <td>NaN</td>\n",
       "    </tr>\n",
       "  </tbody>\n",
       "</table>\n",
       "</div>"
      ],
      "text/plain": [
       "          Negative Positive Arousal & Reg.   Social Cognitive Sensorimotor\n",
       "Memory     14.6552      NaN        11.5044  15.9664       NaN          NaN\n",
       "Emotion    33.8583  27.0492        20.9677  13.8462       NaN          NaN\n",
       "Inference      NaN      NaN            NaN   12.844       NaN          NaN\n",
       "Cognition      NaN      NaN            NaN      NaN      28.8      21.1382\n",
       "Vision         NaN      NaN            NaN      NaN   20.3008      25.9542\n",
       "Language       NaN      NaN            NaN   14.876       NaN          NaN"
      ]
     },
     "execution_count": 27,
     "metadata": {},
     "output_type": "execute_result"
    }
   ],
   "source": [
    "sims[fdrs < 0.05] * 50"
   ]
  },
  {
   "cell_type": "markdown",
   "metadata": {},
   "source": [
    "# Similarity of RDoC and data-driven LR"
   ]
  },
  {
   "cell_type": "code",
   "execution_count": 28,
   "metadata": {},
   "outputs": [
    {
     "data": {
      "image/png": "[encoded data removed]",
      "text/plain": [
       "<Figure size 201.6x201.6 with 1 Axes>"
      ]
     },
     "metadata": {
      "needs_background": "light"
     },
     "output_type": "display_data"
    }
   ],
   "source": [
    "sims = compute_sim_obs(\"rdoc\", fw_base=\"data-driven_lr\")\n",
    "plot_sims(sims, \"figures/sim_dd-lr_rdoc.png\")"
   ]
  },
  {
   "cell_type": "markdown",
   "metadata": {},
   "source": [
    "# Similarity of DSM and data-driven terms\n",
    "\n",
    "## Observed values"
   ]
  },
  {
   "cell_type": "code",
   "execution_count": 29,
   "metadata": {},
   "outputs": [
    {
     "data": {
      "text/html": [
       "<div>\n",
       "<style scoped>\n",
       "    .dataframe tbody tr th:only-of-type {\n",
       "        vertical-align: middle;\n",
       "    }\n",
       "\n",
       "    .dataframe tbody tr th {\n",
       "        vertical-align: top;\n",
       "    }\n",
       "\n",
       "    .dataframe thead th {\n",
       "        text-align: right;\n",
       "    }\n",
       "</style>\n",
       "<table border=\"1\" class=\"dataframe\">\n",
       "  <thead>\n",
       "    <tr style=\"text-align: right;\">\n",
       "      <th></th>\n",
       "      <th>Depressive</th>\n",
       "      <th>Anxiety</th>\n",
       "      <th>Trauma &amp; Stressor</th>\n",
       "      <th>Obsess.-Compuls.</th>\n",
       "      <th>Disruptive</th>\n",
       "      <th>Substance</th>\n",
       "      <th>Developmental</th>\n",
       "      <th>Psychotic</th>\n",
       "      <th>Bipolar</th>\n",
       "    </tr>\n",
       "  </thead>\n",
       "  <tbody>\n",
       "    <tr>\n",
       "      <th>Memory</th>\n",
       "      <td>0.0769231</td>\n",
       "      <td>0.177215</td>\n",
       "      <td>0.219178</td>\n",
       "      <td>0</td>\n",
       "      <td>0</td>\n",
       "      <td>0</td>\n",
       "      <td>0.0747664</td>\n",
       "      <td>0</td>\n",
       "      <td>0.0833333</td>\n",
       "    </tr>\n",
       "    <tr>\n",
       "      <th>Emotion</th>\n",
       "      <td>0.0898876</td>\n",
       "      <td>0.244444</td>\n",
       "      <td>0.190476</td>\n",
       "      <td>0.146341</td>\n",
       "      <td>0.188235</td>\n",
       "      <td>0.0722892</td>\n",
       "      <td>0</td>\n",
       "      <td>0</td>\n",
       "      <td>0.144578</td>\n",
       "    </tr>\n",
       "    <tr>\n",
       "      <th>Inference</th>\n",
       "      <td>0</td>\n",
       "      <td>0.0289855</td>\n",
       "      <td>0</td>\n",
       "      <td>0</td>\n",
       "      <td>0</td>\n",
       "      <td>0</td>\n",
       "      <td>0.309278</td>\n",
       "      <td>0.181818</td>\n",
       "      <td>0</td>\n",
       "    </tr>\n",
       "    <tr>\n",
       "      <th>Cognition</th>\n",
       "      <td>0.0235294</td>\n",
       "      <td>0.0465116</td>\n",
       "      <td>0</td>\n",
       "      <td>0.102564</td>\n",
       "      <td>0.0740741</td>\n",
       "      <td>0.0506329</td>\n",
       "      <td>0.210526</td>\n",
       "      <td>0.168675</td>\n",
       "      <td>0.0759494</td>\n",
       "    </tr>\n",
       "    <tr>\n",
       "      <th>Vision</th>\n",
       "      <td>0</td>\n",
       "      <td>0</td>\n",
       "      <td>0</td>\n",
       "      <td>0.0232558</td>\n",
       "      <td>0</td>\n",
       "      <td>0.0229885</td>\n",
       "      <td>0.409836</td>\n",
       "      <td>0.10989</td>\n",
       "      <td>0</td>\n",
       "    </tr>\n",
       "    <tr>\n",
       "      <th>Language</th>\n",
       "      <td>0</td>\n",
       "      <td>0.0246914</td>\n",
       "      <td>0</td>\n",
       "      <td>0</td>\n",
       "      <td>0</td>\n",
       "      <td>0</td>\n",
       "      <td>0.330275</td>\n",
       "      <td>0.153846</td>\n",
       "      <td>0</td>\n",
       "    </tr>\n",
       "  </tbody>\n",
       "</table>\n",
       "</div>"
      ],
      "text/plain": [
       "          Depressive    Anxiety Trauma & Stressor Obsess.-Compuls. Disruptive  \\\n",
       "Memory     0.0769231   0.177215          0.219178                0          0   \n",
       "Emotion    0.0898876   0.244444          0.190476         0.146341   0.188235   \n",
       "Inference          0  0.0289855                 0                0          0   \n",
       "Cognition  0.0235294  0.0465116                 0         0.102564  0.0740741   \n",
       "Vision             0          0                 0        0.0232558          0   \n",
       "Language           0  0.0246914                 0                0          0   \n",
       "\n",
       "           Substance Developmental Psychotic    Bipolar  \n",
       "Memory             0     0.0747664         0  0.0833333  \n",
       "Emotion    0.0722892             0         0   0.144578  \n",
       "Inference          0      0.309278  0.181818          0  \n",
       "Cognition  0.0506329      0.210526  0.168675  0.0759494  \n",
       "Vision     0.0229885      0.409836   0.10989          0  \n",
       "Language           0      0.330275  0.153846          0  "
      ]
     },
     "execution_count": 29,
     "metadata": {},
     "output_type": "execute_result"
    }
   ],
   "source": [
    "sims = compute_sim_obs(\"dsm\")\n",
    "sims"
   ]
  },
  {
   "cell_type": "code",
   "execution_count": 30,
   "metadata": {},
   "outputs": [
    {
     "data": {
      "image/png": "[encoded data removed]",
      "text/plain": [
       "<Figure size 360x201.6 with 1 Axes>"
      ]
     },
     "metadata": {
      "needs_background": "light"
     },
     "output_type": "display_data"
    }
   ],
   "source": [
    "plot_sims(sims, \"figures/sim_dd-terms_dsm.png\", figsize=(5,2.8))"
   ]
  },
  {
   "cell_type": "markdown",
   "metadata": {},
   "source": [
    "## Null distribution"
   ]
  },
  {
   "cell_type": "code",
   "execution_count": 31,
   "metadata": {},
   "outputs": [
    {
     "name": "stdout",
     "output_type": "stream",
     "text": [
      "Iteration 0\n",
      "Iteration 1000\n",
      "Iteration 2000\n",
      "Iteration 3000\n",
      "Iteration 4000\n",
      "Iteration 5000\n",
      "Iteration 6000\n",
      "Iteration 7000\n",
      "Iteration 8000\n",
      "Iteration 9000\n"
     ]
    }
   ],
   "source": [
    "sims_null = compute_sim_null(\"dsm\")"
   ]
  },
  {
   "cell_type": "markdown",
   "metadata": {},
   "source": [
    "## False discovery rate"
   ]
  },
  {
   "cell_type": "code",
   "execution_count": 32,
   "metadata": {},
   "outputs": [
    {
     "data": {
      "text/html": [
       "<div>\n",
       "<style scoped>\n",
       "    .dataframe tbody tr th:only-of-type {\n",
       "        vertical-align: middle;\n",
       "    }\n",
       "\n",
       "    .dataframe tbody tr th {\n",
       "        vertical-align: top;\n",
       "    }\n",
       "\n",
       "    .dataframe thead th {\n",
       "        text-align: right;\n",
       "    }\n",
       "</style>\n",
       "<table border=\"1\" class=\"dataframe\">\n",
       "  <thead>\n",
       "    <tr style=\"text-align: right;\">\n",
       "      <th></th>\n",
       "      <th>Depressive</th>\n",
       "      <th>Anxiety</th>\n",
       "      <th>Trauma &amp; Stressor</th>\n",
       "      <th>Obsess.-Compuls.</th>\n",
       "      <th>Disruptive</th>\n",
       "      <th>Substance</th>\n",
       "      <th>Developmental</th>\n",
       "      <th>Psychotic</th>\n",
       "      <th>Bipolar</th>\n",
       "    </tr>\n",
       "  </thead>\n",
       "  <tbody>\n",
       "    <tr>\n",
       "      <th>Memory</th>\n",
       "      <td>0.559145</td>\n",
       "      <td>0.0063</td>\n",
       "      <td>0</td>\n",
       "      <td>0.990849</td>\n",
       "      <td>0.990849</td>\n",
       "      <td>0.990849</td>\n",
       "      <td>0.990849</td>\n",
       "      <td>0.990849</td>\n",
       "      <td>0.251894</td>\n",
       "    </tr>\n",
       "    <tr>\n",
       "      <th>Emotion</th>\n",
       "      <td>0.424543</td>\n",
       "      <td>0</td>\n",
       "      <td>0.0009</td>\n",
       "      <td>0.0054</td>\n",
       "      <td>0.00154286</td>\n",
       "      <td>0.383684</td>\n",
       "      <td>0.9998</td>\n",
       "      <td>0.990849</td>\n",
       "      <td>0.0063</td>\n",
       "    </tr>\n",
       "    <tr>\n",
       "      <th>Inference</th>\n",
       "      <td>0.990849</td>\n",
       "      <td>0.990849</td>\n",
       "      <td>0.990849</td>\n",
       "      <td>0.990849</td>\n",
       "      <td>0.990849</td>\n",
       "      <td>0.990849</td>\n",
       "      <td>0</td>\n",
       "      <td>0.0054</td>\n",
       "      <td>0.990849</td>\n",
       "    </tr>\n",
       "    <tr>\n",
       "      <th>Cognition</th>\n",
       "      <td>0.990849</td>\n",
       "      <td>0.990849</td>\n",
       "      <td>0.990849</td>\n",
       "      <td>0.08352</td>\n",
       "      <td>0.424543</td>\n",
       "      <td>0.714913</td>\n",
       "      <td>0.0378</td>\n",
       "      <td>0.0063</td>\n",
       "      <td>0.345</td>\n",
       "    </tr>\n",
       "    <tr>\n",
       "      <th>Vision</th>\n",
       "      <td>0.990849</td>\n",
       "      <td>0.990849</td>\n",
       "      <td>0.990849</td>\n",
       "      <td>0.990849</td>\n",
       "      <td>0.990849</td>\n",
       "      <td>0.990849</td>\n",
       "      <td>0</td>\n",
       "      <td>0.156938</td>\n",
       "      <td>0.990849</td>\n",
       "    </tr>\n",
       "    <tr>\n",
       "      <th>Language</th>\n",
       "      <td>0.990849</td>\n",
       "      <td>0.990849</td>\n",
       "      <td>0.990849</td>\n",
       "      <td>0.990849</td>\n",
       "      <td>0.990849</td>\n",
       "      <td>0.990849</td>\n",
       "      <td>0</td>\n",
       "      <td>0.0166154</td>\n",
       "      <td>0.990849</td>\n",
       "    </tr>\n",
       "  </tbody>\n",
       "</table>\n",
       "</div>"
      ],
      "text/plain": [
       "          Depressive   Anxiety Trauma & Stressor Obsess.-Compuls.  Disruptive  \\\n",
       "Memory      0.559145    0.0063                 0         0.990849    0.990849   \n",
       "Emotion     0.424543         0            0.0009           0.0054  0.00154286   \n",
       "Inference   0.990849  0.990849          0.990849         0.990849    0.990849   \n",
       "Cognition   0.990849  0.990849          0.990849          0.08352    0.424543   \n",
       "Vision      0.990849  0.990849          0.990849         0.990849    0.990849   \n",
       "Language    0.990849  0.990849          0.990849         0.990849    0.990849   \n",
       "\n",
       "          Substance Developmental  Psychotic   Bipolar  \n",
       "Memory     0.990849      0.990849   0.990849  0.251894  \n",
       "Emotion    0.383684        0.9998   0.990849    0.0063  \n",
       "Inference  0.990849             0     0.0054  0.990849  \n",
       "Cognition  0.714913        0.0378     0.0063     0.345  \n",
       "Vision     0.990849             0   0.156938  0.990849  \n",
       "Language   0.990849             0  0.0166154  0.990849  "
      ]
     },
     "execution_count": 32,
     "metadata": {},
     "output_type": "execute_result"
    }
   ],
   "source": [
    "fdrs = compute_sim_fdr(\"dsm\", sims, sims_null)\n",
    "fdrs"
   ]
  },
  {
   "cell_type": "code",
   "execution_count": 33,
   "metadata": {},
   "outputs": [
    {
     "data": {
      "text/html": [
       "<div>\n",
       "<style scoped>\n",
       "    .dataframe tbody tr th:only-of-type {\n",
       "        vertical-align: middle;\n",
       "    }\n",
       "\n",
       "    .dataframe tbody tr th {\n",
       "        vertical-align: top;\n",
       "    }\n",
       "\n",
       "    .dataframe thead th {\n",
       "        text-align: right;\n",
       "    }\n",
       "</style>\n",
       "<table border=\"1\" class=\"dataframe\">\n",
       "  <thead>\n",
       "    <tr style=\"text-align: right;\">\n",
       "      <th></th>\n",
       "      <th>Depressive</th>\n",
       "      <th>Anxiety</th>\n",
       "      <th>Trauma &amp; Stressor</th>\n",
       "      <th>Obsess.-Compuls.</th>\n",
       "      <th>Disruptive</th>\n",
       "      <th>Substance</th>\n",
       "      <th>Developmental</th>\n",
       "      <th>Psychotic</th>\n",
       "      <th>Bipolar</th>\n",
       "    </tr>\n",
       "  </thead>\n",
       "  <tbody>\n",
       "    <tr>\n",
       "      <th>Memory</th>\n",
       "      <td></td>\n",
       "      <td>**</td>\n",
       "      <td>***</td>\n",
       "      <td></td>\n",
       "      <td></td>\n",
       "      <td></td>\n",
       "      <td></td>\n",
       "      <td></td>\n",
       "      <td></td>\n",
       "    </tr>\n",
       "    <tr>\n",
       "      <th>Emotion</th>\n",
       "      <td></td>\n",
       "      <td>***</td>\n",
       "      <td>***</td>\n",
       "      <td>**</td>\n",
       "      <td>**</td>\n",
       "      <td></td>\n",
       "      <td></td>\n",
       "      <td></td>\n",
       "      <td>**</td>\n",
       "    </tr>\n",
       "    <tr>\n",
       "      <th>Inference</th>\n",
       "      <td></td>\n",
       "      <td></td>\n",
       "      <td></td>\n",
       "      <td></td>\n",
       "      <td></td>\n",
       "      <td></td>\n",
       "      <td>***</td>\n",
       "      <td>**</td>\n",
       "      <td></td>\n",
       "    </tr>\n",
       "    <tr>\n",
       "      <th>Cognition</th>\n",
       "      <td></td>\n",
       "      <td></td>\n",
       "      <td></td>\n",
       "      <td></td>\n",
       "      <td></td>\n",
       "      <td></td>\n",
       "      <td>*</td>\n",
       "      <td>**</td>\n",
       "      <td></td>\n",
       "    </tr>\n",
       "    <tr>\n",
       "      <th>Vision</th>\n",
       "      <td></td>\n",
       "      <td></td>\n",
       "      <td></td>\n",
       "      <td></td>\n",
       "      <td></td>\n",
       "      <td></td>\n",
       "      <td>***</td>\n",
       "      <td></td>\n",
       "      <td></td>\n",
       "    </tr>\n",
       "    <tr>\n",
       "      <th>Language</th>\n",
       "      <td></td>\n",
       "      <td></td>\n",
       "      <td></td>\n",
       "      <td></td>\n",
       "      <td></td>\n",
       "      <td></td>\n",
       "      <td>***</td>\n",
       "      <td>*</td>\n",
       "      <td></td>\n",
       "    </tr>\n",
       "  </tbody>\n",
       "</table>\n",
       "</div>"
      ],
      "text/plain": [
       "          Depressive Anxiety Trauma & Stressor Obsess.-Compuls. Disruptive  \\\n",
       "Memory                    **               ***                               \n",
       "Emotion                  ***               ***               **         **   \n",
       "Inference                                                                    \n",
       "Cognition                                                                    \n",
       "Vision                                                                       \n",
       "Language                                                                     \n",
       "\n",
       "          Substance Developmental Psychotic Bipolar  \n",
       "Memory                                               \n",
       "Emotion                                          **  \n",
       "Inference                     ***        **          \n",
       "Cognition                       *        **          \n",
       "Vision                        ***                    \n",
       "Language                      ***         *          "
      ]
     },
     "execution_count": 33,
     "metadata": {},
     "output_type": "execute_result"
    }
   ],
   "source": [
    "stars = compute_sim_star(\"dsm\", fdrs)\n",
    "stars"
   ]
  },
  {
   "cell_type": "markdown",
   "metadata": {},
   "source": [
    "## Weights for figure"
   ]
  },
  {
   "cell_type": "code",
   "execution_count": 34,
   "metadata": {},
   "outputs": [
    {
     "data": {
      "text/html": [
       "<div>\n",
       "<style scoped>\n",
       "    .dataframe tbody tr th:only-of-type {\n",
       "        vertical-align: middle;\n",
       "    }\n",
       "\n",
       "    .dataframe tbody tr th {\n",
       "        vertical-align: top;\n",
       "    }\n",
       "\n",
       "    .dataframe thead th {\n",
       "        text-align: right;\n",
       "    }\n",
       "</style>\n",
       "<table border=\"1\" class=\"dataframe\">\n",
       "  <thead>\n",
       "    <tr style=\"text-align: right;\">\n",
       "      <th></th>\n",
       "      <th>Depressive</th>\n",
       "      <th>Anxiety</th>\n",
       "      <th>Trauma &amp; Stressor</th>\n",
       "      <th>Obsess.-Compuls.</th>\n",
       "      <th>Disruptive</th>\n",
       "      <th>Substance</th>\n",
       "      <th>Developmental</th>\n",
       "      <th>Psychotic</th>\n",
       "      <th>Bipolar</th>\n",
       "    </tr>\n",
       "  </thead>\n",
       "  <tbody>\n",
       "    <tr>\n",
       "      <th>Memory</th>\n",
       "      <td>NaN</td>\n",
       "      <td>8.86076</td>\n",
       "      <td>10.9589</td>\n",
       "      <td>NaN</td>\n",
       "      <td>NaN</td>\n",
       "      <td>NaN</td>\n",
       "      <td>NaN</td>\n",
       "      <td>NaN</td>\n",
       "      <td>NaN</td>\n",
       "    </tr>\n",
       "    <tr>\n",
       "      <th>Emotion</th>\n",
       "      <td>NaN</td>\n",
       "      <td>12.2222</td>\n",
       "      <td>9.52381</td>\n",
       "      <td>7.31707</td>\n",
       "      <td>9.41176</td>\n",
       "      <td>NaN</td>\n",
       "      <td>NaN</td>\n",
       "      <td>NaN</td>\n",
       "      <td>7.22892</td>\n",
       "    </tr>\n",
       "    <tr>\n",
       "      <th>Inference</th>\n",
       "      <td>NaN</td>\n",
       "      <td>NaN</td>\n",
       "      <td>NaN</td>\n",
       "      <td>NaN</td>\n",
       "      <td>NaN</td>\n",
       "      <td>NaN</td>\n",
       "      <td>15.4639</td>\n",
       "      <td>9.09091</td>\n",
       "      <td>NaN</td>\n",
       "    </tr>\n",
       "    <tr>\n",
       "      <th>Cognition</th>\n",
       "      <td>NaN</td>\n",
       "      <td>NaN</td>\n",
       "      <td>NaN</td>\n",
       "      <td>NaN</td>\n",
       "      <td>NaN</td>\n",
       "      <td>NaN</td>\n",
       "      <td>10.5263</td>\n",
       "      <td>8.43373</td>\n",
       "      <td>NaN</td>\n",
       "    </tr>\n",
       "    <tr>\n",
       "      <th>Vision</th>\n",
       "      <td>NaN</td>\n",
       "      <td>NaN</td>\n",
       "      <td>NaN</td>\n",
       "      <td>NaN</td>\n",
       "      <td>NaN</td>\n",
       "      <td>NaN</td>\n",
       "      <td>20.4918</td>\n",
       "      <td>NaN</td>\n",
       "      <td>NaN</td>\n",
       "    </tr>\n",
       "    <tr>\n",
       "      <th>Language</th>\n",
       "      <td>NaN</td>\n",
       "      <td>NaN</td>\n",
       "      <td>NaN</td>\n",
       "      <td>NaN</td>\n",
       "      <td>NaN</td>\n",
       "      <td>NaN</td>\n",
       "      <td>16.5138</td>\n",
       "      <td>7.69231</td>\n",
       "      <td>NaN</td>\n",
       "    </tr>\n",
       "  </tbody>\n",
       "</table>\n",
       "</div>"
      ],
      "text/plain": [
       "          Depressive  Anxiety Trauma & Stressor Obsess.-Compuls. Disruptive  \\\n",
       "Memory           NaN  8.86076           10.9589              NaN        NaN   \n",
       "Emotion          NaN  12.2222           9.52381          7.31707    9.41176   \n",
       "Inference        NaN      NaN               NaN              NaN        NaN   \n",
       "Cognition        NaN      NaN               NaN              NaN        NaN   \n",
       "Vision           NaN      NaN               NaN              NaN        NaN   \n",
       "Language         NaN      NaN               NaN              NaN        NaN   \n",
       "\n",
       "          Substance Developmental Psychotic  Bipolar  \n",
       "Memory          NaN           NaN       NaN      NaN  \n",
       "Emotion         NaN           NaN       NaN  7.22892  \n",
       "Inference       NaN       15.4639   9.09091      NaN  \n",
       "Cognition       NaN       10.5263   8.43373      NaN  \n",
       "Vision          NaN       20.4918       NaN      NaN  \n",
       "Language        NaN       16.5138   7.69231      NaN  "
      ]
     },
     "execution_count": 34,
     "metadata": {},
     "output_type": "execute_result"
    }
   ],
   "source": [
    "sims[fdrs < 0.05] * 50"
   ]
  },
  {
   "cell_type": "markdown",
   "metadata": {},
   "source": [
    "# Similarity of DSM and data-driven LR"
   ]
  },
  {
   "cell_type": "code",
   "execution_count": 35,
   "metadata": {},
   "outputs": [
    {
     "data": {
      "image/png": "[encoded data removed]",
      "text/plain": [
       "<Figure size 360x201.6 with 1 Axes>"
      ]
     },
     "metadata": {
      "needs_background": "light"
     },
     "output_type": "display_data"
    }
   ],
   "source": [
    "sims = compute_sim_obs(\"dsm\", fw_base=\"data-driven_lr\")\n",
    "plot_sims(sims, \"figures/sim_dd-lr_dsm.png\", figsize=(5,2.8))"
   ]
  },
  {
   "cell_type": "markdown",
   "metadata": {},
   "source": [
    "# Similarity of data-driven system versions\n",
    "\n",
    "## Observed values"
   ]
  },
  {
   "cell_type": "code",
   "execution_count": 36,
   "metadata": {},
   "outputs": [
    {
     "data": {
      "text/html": [
       "<div>\n",
       "<style scoped>\n",
       "    .dataframe tbody tr th:only-of-type {\n",
       "        vertical-align: middle;\n",
       "    }\n",
       "\n",
       "    .dataframe tbody tr th {\n",
       "        vertical-align: top;\n",
       "    }\n",
       "\n",
       "    .dataframe thead th {\n",
       "        text-align: right;\n",
       "    }\n",
       "</style>\n",
       "<table border=\"1\" class=\"dataframe\">\n",
       "  <thead>\n",
       "    <tr style=\"text-align: right;\">\n",
       "      <th></th>\n",
       "      <th>Memory</th>\n",
       "      <th>Reward</th>\n",
       "      <th>Cognition</th>\n",
       "      <th>Vision</th>\n",
       "      <th>Manipulation</th>\n",
       "      <th>Language</th>\n",
       "    </tr>\n",
       "  </thead>\n",
       "  <tbody>\n",
       "    <tr>\n",
       "      <th>Memory</th>\n",
       "      <td>0.553191</td>\n",
       "      <td>0</td>\n",
       "      <td>0.1</td>\n",
       "      <td>0.42</td>\n",
       "      <td>0.039604</td>\n",
       "      <td>0.019802</td>\n",
       "    </tr>\n",
       "    <tr>\n",
       "      <th>Emotion</th>\n",
       "      <td>0.285714</td>\n",
       "      <td>0.417582</td>\n",
       "      <td>0.378378</td>\n",
       "      <td>0</td>\n",
       "      <td>0</td>\n",
       "      <td>0.0357143</td>\n",
       "    </tr>\n",
       "    <tr>\n",
       "      <th>Inference</th>\n",
       "      <td>0.047619</td>\n",
       "      <td>0</td>\n",
       "      <td>0.2</td>\n",
       "      <td>0.177778</td>\n",
       "      <td>0.10989</td>\n",
       "      <td>0.21978</td>\n",
       "    </tr>\n",
       "    <tr>\n",
       "      <th>Cognition</th>\n",
       "      <td>0</td>\n",
       "      <td>0.045977</td>\n",
       "      <td>0.373832</td>\n",
       "      <td>0.0186916</td>\n",
       "      <td>0.5</td>\n",
       "      <td>0</td>\n",
       "    </tr>\n",
       "    <tr>\n",
       "      <th>Vision</th>\n",
       "      <td>0</td>\n",
       "      <td>0</td>\n",
       "      <td>0</td>\n",
       "      <td>0.365217</td>\n",
       "      <td>0.517241</td>\n",
       "      <td>0.137931</td>\n",
       "    </tr>\n",
       "    <tr>\n",
       "      <th>Language</th>\n",
       "      <td>0.0416667</td>\n",
       "      <td>0</td>\n",
       "      <td>0.0784314</td>\n",
       "      <td>0.235294</td>\n",
       "      <td>0.0776699</td>\n",
       "      <td>0.543689</td>\n",
       "    </tr>\n",
       "  </tbody>\n",
       "</table>\n",
       "</div>"
      ],
      "text/plain": [
       "              Memory    Reward  Cognition     Vision Manipulation   Language\n",
       "Memory      0.553191         0        0.1       0.42     0.039604   0.019802\n",
       "Emotion     0.285714  0.417582   0.378378          0            0  0.0357143\n",
       "Inference   0.047619         0        0.2   0.177778      0.10989    0.21978\n",
       "Cognition          0  0.045977   0.373832  0.0186916          0.5          0\n",
       "Vision             0         0          0   0.365217     0.517241   0.137931\n",
       "Language   0.0416667         0  0.0784314   0.235294    0.0776699   0.543689"
      ]
     },
     "execution_count": 36,
     "metadata": {},
     "output_type": "execute_result"
    }
   ],
   "source": [
    "sims = compute_sim_obs(\"data-driven_lr\")\n",
    "sims"
   ]
  },
  {
   "cell_type": "markdown",
   "metadata": {},
   "source": [
    "## Null distribution"
   ]
  },
  {
   "cell_type": "code",
   "execution_count": 37,
   "metadata": {},
   "outputs": [
    {
     "name": "stdout",
     "output_type": "stream",
     "text": [
      "Iteration 0\n",
      "Iteration 1000\n",
      "Iteration 2000\n",
      "Iteration 3000\n",
      "Iteration 4000\n",
      "Iteration 5000\n",
      "Iteration 6000\n",
      "Iteration 7000\n",
      "Iteration 8000\n",
      "Iteration 9000\n"
     ]
    }
   ],
   "source": [
    "sims_null = compute_sim_null(\"data-driven_lr\")"
   ]
  },
  {
   "cell_type": "markdown",
   "metadata": {},
   "source": [
    "## False discovery rate"
   ]
  },
  {
   "cell_type": "code",
   "execution_count": 38,
   "metadata": {},
   "outputs": [
    {
     "data": {
      "text/html": [
       "<div>\n",
       "<style scoped>\n",
       "    .dataframe tbody tr th:only-of-type {\n",
       "        vertical-align: middle;\n",
       "    }\n",
       "\n",
       "    .dataframe tbody tr th {\n",
       "        vertical-align: top;\n",
       "    }\n",
       "\n",
       "    .dataframe thead th {\n",
       "        text-align: right;\n",
       "    }\n",
       "</style>\n",
       "<table border=\"1\" class=\"dataframe\">\n",
       "  <thead>\n",
       "    <tr style=\"text-align: right;\">\n",
       "      <th></th>\n",
       "      <th>Memory</th>\n",
       "      <th>Reward</th>\n",
       "      <th>Cognition</th>\n",
       "      <th>Vision</th>\n",
       "      <th>Manipulation</th>\n",
       "      <th>Language</th>\n",
       "    </tr>\n",
       "  </thead>\n",
       "  <tbody>\n",
       "    <tr>\n",
       "      <th>Memory</th>\n",
       "      <td>0</td>\n",
       "      <td>0.9995</td>\n",
       "      <td>0.905929</td>\n",
       "      <td>0</td>\n",
       "      <td>0.9995</td>\n",
       "      <td>0.9995</td>\n",
       "    </tr>\n",
       "    <tr>\n",
       "      <th>Emotion</th>\n",
       "      <td>0</td>\n",
       "      <td>0</td>\n",
       "      <td>0</td>\n",
       "      <td>0.9995</td>\n",
       "      <td>0.9995</td>\n",
       "      <td>0.9995</td>\n",
       "    </tr>\n",
       "    <tr>\n",
       "      <th>Inference</th>\n",
       "      <td>0.9995</td>\n",
       "      <td>0.9995</td>\n",
       "      <td>0.0138462</td>\n",
       "      <td>0.0493714</td>\n",
       "      <td>0.637875</td>\n",
       "      <td>0.0057</td>\n",
       "    </tr>\n",
       "    <tr>\n",
       "      <th>Cognition</th>\n",
       "      <td>0.9995</td>\n",
       "      <td>0.9995</td>\n",
       "      <td>0</td>\n",
       "      <td>0.9995</td>\n",
       "      <td>0</td>\n",
       "      <td>0.9995</td>\n",
       "    </tr>\n",
       "    <tr>\n",
       "      <th>Vision</th>\n",
       "      <td>0.9995</td>\n",
       "      <td>0.9995</td>\n",
       "      <td>0.9995</td>\n",
       "      <td>0</td>\n",
       "      <td>0</td>\n",
       "      <td>0.48696</td>\n",
       "    </tr>\n",
       "    <tr>\n",
       "      <th>Language</th>\n",
       "      <td>0.9995</td>\n",
       "      <td>0.9995</td>\n",
       "      <td>0.9995</td>\n",
       "      <td>0.00490909</td>\n",
       "      <td>0.9995</td>\n",
       "      <td>0</td>\n",
       "    </tr>\n",
       "  </tbody>\n",
       "</table>\n",
       "</div>"
      ],
      "text/plain": [
       "           Memory  Reward  Cognition      Vision Manipulation Language\n",
       "Memory          0  0.9995   0.905929           0       0.9995   0.9995\n",
       "Emotion         0       0          0      0.9995       0.9995   0.9995\n",
       "Inference  0.9995  0.9995  0.0138462   0.0493714     0.637875   0.0057\n",
       "Cognition  0.9995  0.9995          0      0.9995            0   0.9995\n",
       "Vision     0.9995  0.9995     0.9995           0            0  0.48696\n",
       "Language   0.9995  0.9995     0.9995  0.00490909       0.9995        0"
      ]
     },
     "execution_count": 38,
     "metadata": {},
     "output_type": "execute_result"
    }
   ],
   "source": [
    "fdrs = compute_sim_fdr(\"data-driven_lr\", sims, sims_null)\n",
    "fdrs"
   ]
  },
  {
   "cell_type": "code",
   "execution_count": 39,
   "metadata": {},
   "outputs": [
    {
     "data": {
      "text/html": [
       "<div>\n",
       "<style scoped>\n",
       "    .dataframe tbody tr th:only-of-type {\n",
       "        vertical-align: middle;\n",
       "    }\n",
       "\n",
       "    .dataframe tbody tr th {\n",
       "        vertical-align: top;\n",
       "    }\n",
       "\n",
       "    .dataframe thead th {\n",
       "        text-align: right;\n",
       "    }\n",
       "</style>\n",
       "<table border=\"1\" class=\"dataframe\">\n",
       "  <thead>\n",
       "    <tr style=\"text-align: right;\">\n",
       "      <th></th>\n",
       "      <th>Memory</th>\n",
       "      <th>Reward</th>\n",
       "      <th>Cognition</th>\n",
       "      <th>Vision</th>\n",
       "      <th>Manipulation</th>\n",
       "      <th>Language</th>\n",
       "    </tr>\n",
       "  </thead>\n",
       "  <tbody>\n",
       "    <tr>\n",
       "      <th>Memory</th>\n",
       "      <td>***</td>\n",
       "      <td></td>\n",
       "      <td></td>\n",
       "      <td>***</td>\n",
       "      <td></td>\n",
       "      <td></td>\n",
       "    </tr>\n",
       "    <tr>\n",
       "      <th>Emotion</th>\n",
       "      <td>***</td>\n",
       "      <td>***</td>\n",
       "      <td>***</td>\n",
       "      <td></td>\n",
       "      <td></td>\n",
       "      <td></td>\n",
       "    </tr>\n",
       "    <tr>\n",
       "      <th>Inference</th>\n",
       "      <td></td>\n",
       "      <td></td>\n",
       "      <td>*</td>\n",
       "      <td>*</td>\n",
       "      <td></td>\n",
       "      <td>**</td>\n",
       "    </tr>\n",
       "    <tr>\n",
       "      <th>Cognition</th>\n",
       "      <td></td>\n",
       "      <td></td>\n",
       "      <td>***</td>\n",
       "      <td></td>\n",
       "      <td>***</td>\n",
       "      <td></td>\n",
       "    </tr>\n",
       "    <tr>\n",
       "      <th>Vision</th>\n",
       "      <td></td>\n",
       "      <td></td>\n",
       "      <td></td>\n",
       "      <td>***</td>\n",
       "      <td>***</td>\n",
       "      <td></td>\n",
       "    </tr>\n",
       "    <tr>\n",
       "      <th>Language</th>\n",
       "      <td></td>\n",
       "      <td></td>\n",
       "      <td></td>\n",
       "      <td>**</td>\n",
       "      <td></td>\n",
       "      <td>***</td>\n",
       "    </tr>\n",
       "  </tbody>\n",
       "</table>\n",
       "</div>"
      ],
      "text/plain": [
       "          Memory Reward Cognition Vision Manipulation Language\n",
       "Memory       ***                     ***                      \n",
       "Emotion      ***    ***       ***                             \n",
       "Inference                       *      *                    **\n",
       "Cognition                     ***                 ***         \n",
       "Vision                               ***          ***         \n",
       "Language                              **                   ***"
      ]
     },
     "execution_count": 39,
     "metadata": {},
     "output_type": "execute_result"
    }
   ],
   "source": [
    "stars = compute_sim_star(\"data-driven_lr\", fdrs)\n",
    "stars"
   ]
  },
  {
   "cell_type": "markdown",
   "metadata": {},
   "source": [
    "## Weights for figure"
   ]
  },
  {
   "cell_type": "code",
   "execution_count": 40,
   "metadata": {},
   "outputs": [
    {
     "data": {
      "text/html": [
       "<div>\n",
       "<style scoped>\n",
       "    .dataframe tbody tr th:only-of-type {\n",
       "        vertical-align: middle;\n",
       "    }\n",
       "\n",
       "    .dataframe tbody tr th {\n",
       "        vertical-align: top;\n",
       "    }\n",
       "\n",
       "    .dataframe thead th {\n",
       "        text-align: right;\n",
       "    }\n",
       "</style>\n",
       "<table border=\"1\" class=\"dataframe\">\n",
       "  <thead>\n",
       "    <tr style=\"text-align: right;\">\n",
       "      <th></th>\n",
       "      <th>Memory</th>\n",
       "      <th>Reward</th>\n",
       "      <th>Cognition</th>\n",
       "      <th>Vision</th>\n",
       "      <th>Manipulation</th>\n",
       "      <th>Language</th>\n",
       "    </tr>\n",
       "  </thead>\n",
       "  <tbody>\n",
       "    <tr>\n",
       "      <th>Memory</th>\n",
       "      <td>27.6596</td>\n",
       "      <td>NaN</td>\n",
       "      <td>NaN</td>\n",
       "      <td>21</td>\n",
       "      <td>NaN</td>\n",
       "      <td>NaN</td>\n",
       "    </tr>\n",
       "    <tr>\n",
       "      <th>Emotion</th>\n",
       "      <td>14.2857</td>\n",
       "      <td>20.8791</td>\n",
       "      <td>18.9189</td>\n",
       "      <td>NaN</td>\n",
       "      <td>NaN</td>\n",
       "      <td>NaN</td>\n",
       "    </tr>\n",
       "    <tr>\n",
       "      <th>Inference</th>\n",
       "      <td>NaN</td>\n",
       "      <td>NaN</td>\n",
       "      <td>10</td>\n",
       "      <td>8.88889</td>\n",
       "      <td>NaN</td>\n",
       "      <td>10.989</td>\n",
       "    </tr>\n",
       "    <tr>\n",
       "      <th>Cognition</th>\n",
       "      <td>NaN</td>\n",
       "      <td>NaN</td>\n",
       "      <td>18.6916</td>\n",
       "      <td>NaN</td>\n",
       "      <td>25</td>\n",
       "      <td>NaN</td>\n",
       "    </tr>\n",
       "    <tr>\n",
       "      <th>Vision</th>\n",
       "      <td>NaN</td>\n",
       "      <td>NaN</td>\n",
       "      <td>NaN</td>\n",
       "      <td>18.2609</td>\n",
       "      <td>25.8621</td>\n",
       "      <td>NaN</td>\n",
       "    </tr>\n",
       "    <tr>\n",
       "      <th>Language</th>\n",
       "      <td>NaN</td>\n",
       "      <td>NaN</td>\n",
       "      <td>NaN</td>\n",
       "      <td>11.7647</td>\n",
       "      <td>NaN</td>\n",
       "      <td>27.1845</td>\n",
       "    </tr>\n",
       "  </tbody>\n",
       "</table>\n",
       "</div>"
      ],
      "text/plain": [
       "            Memory   Reward Cognition   Vision Manipulation Language\n",
       "Memory     27.6596      NaN       NaN       21          NaN      NaN\n",
       "Emotion    14.2857  20.8791   18.9189      NaN          NaN      NaN\n",
       "Inference      NaN      NaN        10  8.88889          NaN   10.989\n",
       "Cognition      NaN      NaN   18.6916      NaN           25      NaN\n",
       "Vision         NaN      NaN       NaN  18.2609      25.8621      NaN\n",
       "Language       NaN      NaN       NaN  11.7647          NaN  27.1845"
      ]
     },
     "execution_count": 40,
     "metadata": {},
     "output_type": "execute_result"
    }
   ],
   "source": [
    "sims[fdrs < 0.05] * 50"
   ]
  },
  {
   "cell_type": "markdown",
   "metadata": {},
   "source": [
    "# Compare RDoC similarity between data-driven versions"
   ]
  },
  {
   "cell_type": "code",
   "execution_count": 41,
   "metadata": {},
   "outputs": [],
   "source": [
    "sims_terms = compute_sim_obs(\"rdoc\", fw_base=\"data-driven_terms\")\n",
    "sims_lr = compute_sim_obs(\"rdoc\", fw_base=\"data-driven_lr\")\n",
    "sims = {\"lr\": sims_lr, \"terms\": sims_terms}"
   ]
  },
  {
   "cell_type": "code",
   "execution_count": 42,
   "metadata": {},
   "outputs": [],
   "source": [
    "# null_terms = compute_sim_null(\"rdoc\", fw_base=\"data-driven_terms\")\n",
    "# null_lr = compute_sim_null(\"rdoc\", fw_base=\"data-driven_lr\")"
   ]
  },
  {
   "cell_type": "code",
   "execution_count": 43,
   "metadata": {},
   "outputs": [],
   "source": [
    "def compute_sim_boot(fw, n_iter=10000, fw_base=\"data-driven_terms\"):\n",
    "    sims_boot = np.empty((len(domains[fw_base]), len(domains[fw]), n_iter))\n",
    "    for n in range(n_iter):\n",
    "        boot = np.random.choice(words+structures, \n",
    "                                size=len(words+structures), replace=True)\n",
    "        sims_boot[:,:,n] = 1.0 - cdist(systems[fw_base].loc[boot].values.T, \n",
    "                                       systems[fw].loc[boot].values.T, metric=\"dice\")\n",
    "        if n % (float(n_iter) / 10.0) == 0:\n",
    "            print(\"Iteration {}\".format(n))\n",
    "    return sims_boot"
   ]
  },
  {
   "cell_type": "code",
   "execution_count": 44,
   "metadata": {},
   "outputs": [
    {
     "name": "stdout",
     "output_type": "stream",
     "text": [
      "Iteration 0\n",
      "Iteration 1000\n",
      "Iteration 2000\n",
      "Iteration 3000\n",
      "Iteration 4000\n",
      "Iteration 5000\n",
      "Iteration 6000\n",
      "Iteration 7000\n",
      "Iteration 8000\n",
      "Iteration 9000\n",
      "Iteration 0\n",
      "Iteration 1000\n",
      "Iteration 2000\n",
      "Iteration 3000\n",
      "Iteration 4000\n",
      "Iteration 5000\n",
      "Iteration 6000\n",
      "Iteration 7000\n",
      "Iteration 8000\n",
      "Iteration 9000\n"
     ]
    }
   ],
   "source": [
    "boot_terms = compute_sim_boot(\"rdoc\", fw_base=\"data-driven_terms\")\n",
    "boot_lr = compute_sim_boot(\"rdoc\", fw_base=\"data-driven_lr\")"
   ]
  },
  {
   "cell_type": "code",
   "execution_count": 45,
   "metadata": {},
   "outputs": [],
   "source": [
    "mean_boot_terms = np.mean(np.mean(boot_terms, axis=0), axis=0)\n",
    "mean_boot_lr = np.mean(np.mean(boot_lr, axis=0), axis=0)\n",
    "boot = {\"lr\": list(mean_boot_lr), \"terms\": list(mean_boot_terms)}"
   ]
  },
  {
   "cell_type": "code",
   "execution_count": 46,
   "metadata": {},
   "outputs": [
    {
     "data": {
      "text/plain": [
       "0.0"
      ]
     },
     "execution_count": 46,
     "metadata": {},
     "output_type": "execute_result"
    }
   ],
   "source": [
    "n_iter = boot_terms.shape[2]\n",
    "pval_dif = np.sum(np.less(mean_boot_terms - mean_boot_lr, 0.0)) / n_iter\n",
    "pval_dif"
   ]
  },
  {
   "cell_type": "code",
   "execution_count": 47,
   "metadata": {},
   "outputs": [],
   "source": [
    "def plot_comparison(boot, sims, filename, path=\"\", n_iter=1000, print_fig=True, \n",
    "                    font=style.font, dx=0.38, ylim=[0,0.25], yticks=[0,0.0625,0.125,0.1875,0.25]):\n",
    "\n",
    "    font_lg = font_manager.FontProperties(fname=font, size=20)\n",
    "    rcParams[\"axes.linewidth\"] = 1.5\n",
    "\n",
    "    fig = plt.figure(figsize=(1.25, 4.25))\n",
    "    ax = fig.add_axes([0,0,1,1])\n",
    "\n",
    "    i = 0\n",
    "    labels = []\n",
    "    for fw, dist in boot.items():\n",
    "        labels.append(fw)\n",
    "        dist_avg = np.mean(dist, axis=0)\n",
    "        macro_avg = np.mean(np.mean(sims[fw], axis=0), axis=0)\n",
    "        plt.plot([i-dx, i+dx], [macro_avg, macro_avg], \n",
    "                 c=\"gray\", alpha=1, lw=2, zorder=-1)\n",
    "        v = ax.violinplot(sorted(dist), positions=[i], \n",
    "                          showmeans=False, showmedians=False, widths=0.85)\n",
    "        for pc in v[\"bodies\"]:\n",
    "            pc.set_facecolor(\"gray\")\n",
    "            pc.set_edgecolor(\"gray\")\n",
    "            pc.set_linewidth(2)\n",
    "            pc.set_alpha(0.5)\n",
    "        for line in [\"cmaxes\", \"cmins\", \"cbars\"]:\n",
    "            v[line].set_edgecolor(\"none\")\n",
    "        i += 1\n",
    "\n",
    "    ax.set_xticks(range(len(boot.keys())))\n",
    "    ax.set_xticklabels([], rotation=60, ha=\"right\")\n",
    "    plt.xticks(fontproperties=font_lg)\n",
    "    plt.yticks(yticks, fontproperties=font_lg)\n",
    "    plt.xlim([-0.75, len(boot.keys())-0.25])\n",
    "    plt.ylim(ylim)\n",
    "    \n",
    "    for side in [\"right\", \"top\"]:\n",
    "        ax.spines[side].set_visible(False)\n",
    "    ax.xaxis.set_tick_params(width=1.5, length=7)\n",
    "    ax.yaxis.set_tick_params(width=1.5, length=7)\n",
    "    \n",
    "    plt.savefig(\"{}figures/{}\".format(path, filename), dpi=250, bbox_inches=\"tight\")\n",
    "\n",
    "    if print_fig:\n",
    "        plt.show()\n",
    "    plt.close()"
   ]
  },
  {
   "cell_type": "code",
   "execution_count": 48,
   "metadata": {},
   "outputs": [
    {
     "data": {
      "image/png": "[encoded data removed]",
      "text/plain": [
       "<Figure size 90x306 with 1 Axes>"
      ]
     },
     "metadata": {
      "needs_background": "light"
     },
     "output_type": "display_data"
    }
   ],
   "source": [
    "plot_comparison(boot, sims, \"sim_dd_rdoc.png\")"
   ]
  },
  {
   "cell_type": "markdown",
   "metadata": {},
   "source": [
    "# Compare DSM similarity between data-driven versions"
   ]
  },
  {
   "cell_type": "code",
   "execution_count": 49,
   "metadata": {},
   "outputs": [],
   "source": [
    "sims_terms = compute_sim_obs(\"dsm\", fw_base=\"data-driven_terms\")\n",
    "sims_lr = compute_sim_obs(\"dsm\", fw_base=\"data-driven_lr\")\n",
    "sims = {\"lr\": sims_lr, \"terms\": sims_terms}"
   ]
  },
  {
   "cell_type": "code",
   "execution_count": 50,
   "metadata": {},
   "outputs": [],
   "source": [
    "# null_terms = compute_sim_null(\"dsm\", fw_base=\"data-driven_terms\")\n",
    "# null_lr = compute_sim_null(\"dsm\", fw_base=\"data-driven_lr\")"
   ]
  },
  {
   "cell_type": "code",
   "execution_count": 51,
   "metadata": {},
   "outputs": [
    {
     "name": "stdout",
     "output_type": "stream",
     "text": [
      "Iteration 0\n",
      "Iteration 1000\n",
      "Iteration 2000\n",
      "Iteration 3000\n",
      "Iteration 4000\n",
      "Iteration 5000\n",
      "Iteration 6000\n",
      "Iteration 7000\n",
      "Iteration 8000\n",
      "Iteration 9000\n",
      "Iteration 0\n",
      "Iteration 1000\n",
      "Iteration 2000\n",
      "Iteration 3000\n",
      "Iteration 4000\n",
      "Iteration 5000\n",
      "Iteration 6000\n",
      "Iteration 7000\n",
      "Iteration 8000\n",
      "Iteration 9000\n"
     ]
    }
   ],
   "source": [
    "boot_terms = compute_sim_boot(\"dsm\", fw_base=\"data-driven_terms\")\n",
    "boot_lr = compute_sim_boot(\"dsm\", fw_base=\"data-driven_lr\")"
   ]
  },
  {
   "cell_type": "code",
   "execution_count": 52,
   "metadata": {},
   "outputs": [],
   "source": [
    "mean_boot_terms = np.mean(np.mean(boot_terms, axis=0), axis=0)\n",
    "mean_boot_lr = np.mean(np.mean(boot_lr, axis=0), axis=0)\n",
    "boot = {\"lr\": list(mean_boot_lr), \"terms\": list(mean_boot_terms)}"
   ]
  },
  {
   "cell_type": "code",
   "execution_count": 53,
   "metadata": {},
   "outputs": [
    {
     "data": {
      "text/plain": [
       "0.058051587819821684"
      ]
     },
     "execution_count": 53,
     "metadata": {},
     "output_type": "execute_result"
    }
   ],
   "source": [
    "np.mean(np.mean(sims[\"lr\"], axis=0), axis=0)"
   ]
  },
  {
   "cell_type": "code",
   "execution_count": 54,
   "metadata": {},
   "outputs": [
    {
     "data": {
      "text/plain": [
       "0.07509252454800658"
      ]
     },
     "execution_count": 54,
     "metadata": {},
     "output_type": "execute_result"
    }
   ],
   "source": [
    "np.mean(np.mean(sims[\"terms\"], axis=0), axis=0)"
   ]
  },
  {
   "cell_type": "code",
   "execution_count": 55,
   "metadata": {},
   "outputs": [
    {
     "data": {
      "text/plain": [
       "0.0415"
      ]
     },
     "execution_count": 55,
     "metadata": {},
     "output_type": "execute_result"
    }
   ],
   "source": [
    "n_iter = boot_terms.shape[2]\n",
    "pval_dif = np.sum(np.less(mean_boot_terms - mean_boot_lr, 0.0)) / n_iter\n",
    "pval_dif"
   ]
  },
  {
   "cell_type": "code",
   "execution_count": 56,
   "metadata": {},
   "outputs": [
    {
     "data": {
      "image/png": "[encoded data removed]",
      "text/plain": [
       "<Figure size 90x306 with 1 Axes>"
      ]
     },
     "metadata": {
      "needs_background": "light"
     },
     "output_type": "display_data"
    }
   ],
   "source": [
    "plot_comparison(boot, sims, \"sim_dd_dsm.png\")"
   ]
  },
  {
   "cell_type": "code",
   "execution_count": null,
   "metadata": {},
   "outputs": [],
   "source": []
  }
 ],
 "metadata": {
  "kernelspec": {
   "display_name": "Python [conda env:ontol]",
   "language": "python",
   "name": "conda-env-ontol-py"
  },
  "language_info": {
   "codemirror_mode": {
    "name": "ipython",
    "version": 3
   },
   "file_extension": ".py",
   "mimetype": "text/x-python",
   "name": "python",
   "nbconvert_exporter": "python",
   "pygments_lexer": "ipython3",
   "version": "3.6.8"
  }
 },
 "nbformat": 4,
 "nbformat_minor": 2
}
