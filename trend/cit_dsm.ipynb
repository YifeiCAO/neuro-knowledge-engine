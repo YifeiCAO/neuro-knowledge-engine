{
 "cells": [
  {
   "cell_type": "code",
   "execution_count": 1,
   "metadata": {},
   "outputs": [],
   "source": [
    "import os\n",
    "import pandas as pd\n",
    "import numpy as np\n",
    "from collections import OrderedDict"
   ]
  },
  {
   "cell_type": "markdown",
   "metadata": {},
   "source": [
    "# Load the data"
   ]
  },
  {
   "cell_type": "code",
   "execution_count": 3,
   "metadata": {},
   "outputs": [],
   "source": [
    "dsm_lists = pd.read_csv(\"../lists/lists/lists_dsm_class_opsim.csv\", index_col=None)\n",
    "dsm_doms = list(OrderedDict.fromkeys(dsm_lists[\"CLASS\"]))"
   ]
  },
  {
   "cell_type": "code",
   "execution_count": 4,
   "metadata": {},
   "outputs": [
    {
     "data": {
      "text/html": [
       "<div>\n",
       "<style scoped>\n",
       "    .dataframe tbody tr th:only-of-type {\n",
       "        vertical-align: middle;\n",
       "    }\n",
       "\n",
       "    .dataframe tbody tr th {\n",
       "        vertical-align: top;\n",
       "    }\n",
       "\n",
       "    .dataframe thead th {\n",
       "        text-align: right;\n",
       "    }\n",
       "</style>\n",
       "<table border=\"1\" class=\"dataframe\">\n",
       "  <thead>\n",
       "    <tr style=\"text-align: right;\">\n",
       "      <th></th>\n",
       "      <th>PMID</th>\n",
       "      <th>DOI</th>\n",
       "      <th>KEY</th>\n",
       "      <th>SOURCE</th>\n",
       "      <th>AUTHORS</th>\n",
       "      <th>YEAR</th>\n",
       "      <th>MONTH</th>\n",
       "      <th>JOURNAL</th>\n",
       "      <th>TITLE</th>\n",
       "      <th>PAGES</th>\n",
       "      <th>VOLUME</th>\n",
       "      <th>ABSTRACT_URL</th>\n",
       "      <th>NUM_COORDINATES</th>\n",
       "      <th>MNI_COORDINATES</th>\n",
       "      <th>BRAINMAP_ID</th>\n",
       "      <th>BEHAVIORAL_DOMAIN</th>\n",
       "      <th>EXPERIMENT</th>\n",
       "      <th>DESCRIPTION</th>\n",
       "    </tr>\n",
       "  </thead>\n",
       "  <tbody>\n",
       "    <tr>\n",
       "      <th>0</th>\n",
       "      <td>1402966</td>\n",
       "      <td>NaN</td>\n",
       "      <td>Dolan R J, 1992</td>\n",
       "      <td>BrainMap</td>\n",
       "      <td>Dolan R J|Bench C J|Brown R G|Scott L C|Fristo...</td>\n",
       "      <td>1992.0</td>\n",
       "      <td>Sep</td>\n",
       "      <td>Journal of Neurology, Neurosurgery, and Psychi...</td>\n",
       "      <td>Regional cerebral blood flow abnormalities in ...</td>\n",
       "      <td>768-773</td>\n",
       "      <td>55</td>\n",
       "      <td>http://www.ncbi.nlm.nih.gov/entrez/query.fcgi?...</td>\n",
       "      <td>7.0</td>\n",
       "      <td>-7.66,51.87,-8.33;-5.51,56.46,-4.28;-5.48,58.9...</td>\n",
       "      <td>6030020.0</td>\n",
       "      <td>['Action.Rest', 'Action.Rest']</td>\n",
       "      <td>['Unimpaired &gt; Impaired', 'Impaired &gt; Unimpair...</td>\n",
       "      <td>Patients with depression who were cognitively ...</td>\n",
       "    </tr>\n",
       "  </tbody>\n",
       "</table>\n",
       "</div>"
      ],
      "text/plain": [
       "      PMID  DOI              KEY    SOURCE  \\\n",
       "0  1402966  NaN  Dolan R J, 1992  BrainMap   \n",
       "\n",
       "                                             AUTHORS    YEAR MONTH  \\\n",
       "0  Dolan R J|Bench C J|Brown R G|Scott L C|Fristo...  1992.0   Sep   \n",
       "\n",
       "                                             JOURNAL  \\\n",
       "0  Journal of Neurology, Neurosurgery, and Psychi...   \n",
       "\n",
       "                                               TITLE    PAGES VOLUME  \\\n",
       "0  Regional cerebral blood flow abnormalities in ...  768-773     55   \n",
       "\n",
       "                                        ABSTRACT_URL  NUM_COORDINATES  \\\n",
       "0  http://www.ncbi.nlm.nih.gov/entrez/query.fcgi?...              7.0   \n",
       "\n",
       "                                     MNI_COORDINATES  BRAINMAP_ID  \\\n",
       "0  -7.66,51.87,-8.33;-5.51,56.46,-4.28;-5.48,58.9...    6030020.0   \n",
       "\n",
       "                BEHAVIORAL_DOMAIN  \\\n",
       "0  ['Action.Rest', 'Action.Rest']   \n",
       "\n",
       "                                          EXPERIMENT  \\\n",
       "0  ['Unimpaired > Impaired', 'Impaired > Unimpair...   \n",
       "\n",
       "                                         DESCRIPTION  \n",
       "0  Patients with depression who were cognitively ...  "
      ]
     },
     "execution_count": 4,
     "metadata": {},
     "output_type": "execute_result"
    }
   ],
   "source": [
    "meta = pd.read_csv(\"../data/metadata_filt_180811.csv\", index_col=None)\n",
    "meta = meta.dropna(subset=[\"PMID\"])\n",
    "meta[\"PMID\"] = meta[\"PMID\"].astype(int)\n",
    "meta.head(1)"
   ]
  },
  {
   "cell_type": "code",
   "execution_count": 5,
   "metadata": {},
   "outputs": [
    {
     "name": "stdout",
     "output_type": "stream",
     "text": [
      "18155\n"
     ]
    }
   ],
   "source": [
    "cit = {}\n",
    "files = [file for file in os.listdir(\"data/dimensions\") if file.startswith(\"data_\")]\n",
    "for file in files:\n",
    "    df = pd.read_csv(\"data/dimensions/{}\".format(file), skiprows=1, header=0)\n",
    "    df = df.fillna(0)\n",
    "    df[\"PMID\"] = df[\"PMID\"].astype(int)\n",
    "    df = df[df[\"PMID\"].isin(meta[\"PMID\"])]\n",
    "    for i, row in df.iterrows():\n",
    "        cit[row[\"PMID\"]] = row[\"Times cited\"]\n",
    "print(len(cit.keys()))"
   ]
  },
  {
   "cell_type": "markdown",
   "metadata": {},
   "source": [
    "# Segment by occurrence of \"RDoC\""
   ]
  },
  {
   "cell_type": "code",
   "execution_count": 6,
   "metadata": {},
   "outputs": [],
   "source": [
    "dir = \"../../../nlp/corpus\"\n",
    "pmids_dsm = np.zeros(len(meta[\"PMID\"]))\n",
    "for i, pmid in enumerate(meta[\"PMID\"]):\n",
    "    infile = \"{}/{}.txt\".format(dir, pmid)\n",
    "    text = open(infile, \"r\").read().split()\n",
    "    if \"dsm\" in text:\n",
    "        pmids_dsm[i] = 1.0"
   ]
  },
  {
   "cell_type": "code",
   "execution_count": 8,
   "metadata": {},
   "outputs": [
    {
     "data": {
      "text/plain": [
       "524.0"
      ]
     },
     "execution_count": 8,
     "metadata": {},
     "output_type": "execute_result"
    }
   ],
   "source": [
    "sum(pmids_dsm)"
   ]
  },
  {
   "cell_type": "markdown",
   "metadata": {},
   "source": [
    "## Average citations within group"
   ]
  },
  {
   "cell_type": "code",
   "execution_count": 9,
   "metadata": {},
   "outputs": [],
   "source": [
    "cit_raw = np.zeros(len(meta[\"PMID\"]))\n",
    "for i, pmid in enumerate(meta[\"PMID\"]):\n",
    "    cit_raw[i] = cit[pmid]"
   ]
  },
  {
   "cell_type": "code",
   "execution_count": 10,
   "metadata": {},
   "outputs": [
    {
     "name": "stdout",
     "output_type": "stream",
     "text": [
      "DSM Did NOT Occur    65.3414 mean citations\n",
      "DSM Occurred         55.4084 mean citations\n"
     ]
    }
   ],
   "source": [
    "parts = [\"DSM Did NOT Occur\", \"DSM Occurred\"]\n",
    "for i, part in enumerate(parts):\n",
    "    print(\"{:20s} {:6.4f} mean citations\".format(part, \n",
    "          np.mean(cit_raw[pmids_dsm == i])))"
   ]
  },
  {
   "cell_type": "markdown",
   "metadata": {},
   "source": [
    "## Normalize by publication year"
   ]
  },
  {
   "cell_type": "code",
   "execution_count": 11,
   "metadata": {},
   "outputs": [],
   "source": [
    "yr = 2019.0 - meta[\"YEAR\"].astype(float).values\n",
    "cit_norm = cit_raw / yr"
   ]
  },
  {
   "cell_type": "code",
   "execution_count": 12,
   "metadata": {},
   "outputs": [
    {
     "name": "stdout",
     "output_type": "stream",
     "text": [
      "DSM Did NOT Occur    6.2729 mean citations\n",
      "DSM Occurred         6.2288 mean citations\n"
     ]
    }
   ],
   "source": [
    "for i, part in enumerate(parts):\n",
    "    print(\"{:20s} {:6.4f} mean citations\".format(part, \n",
    "          np.mean(cit_norm[pmids_dsm == i])))"
   ]
  },
  {
   "cell_type": "markdown",
   "metadata": {},
   "source": [
    "# Segment by RDoC domain "
   ]
  },
  {
   "cell_type": "code",
   "execution_count": 13,
   "metadata": {},
   "outputs": [],
   "source": [
    "doc2dom = pd.read_csv(\"../data/doc2dom_dsm_class.csv\", header=None, index_col=0)\n",
    "doc2dom = doc2dom.loc[meta[\"PMID\"]].values\n",
    "doc2dom = doc2dom - 1"
   ]
  },
  {
   "cell_type": "markdown",
   "metadata": {},
   "source": [
    "### Observed"
   ]
  },
  {
   "cell_type": "code",
   "execution_count": 14,
   "metadata": {},
   "outputs": [
    {
     "name": "stdout",
     "output_type": "stream",
     "text": [
      "DEVELOPMENTAL        5.9221\n",
      "PSYCHOTIC            4.9115\n",
      "BIPOLAR              6.2703\n",
      "DEPRESSIVE           6.0827\n",
      "ANXIETY              6.8075\n",
      "OBSESSIVE_COMPULSIVE 6.3463\n",
      "TRAUMA_STRESSOR      6.1336\n",
      "COGNITIVE            5.3718\n",
      "\n",
      "MEAN                 6.2716\n"
     ]
    }
   ],
   "source": [
    "cit_norm_dom = np.empty((len(dsm_doms)))\n",
    "for i, dom in enumerate(dsm_doms):\n",
    "    dom_mean = np.mean(cit_norm.reshape(-1,1)[doc2dom == i])\n",
    "    cit_norm_dom[i] = dom_mean\n",
    "    print(\"{:20s} {:6.4f}\".format(dom, dom_mean))\n",
    "print(\"\\n{:20s} {:6.4f}\".format(\"MEAN\", np.mean(cit_norm)))"
   ]
  },
  {
   "cell_type": "markdown",
   "metadata": {},
   "source": [
    "### Bootstrap"
   ]
  },
  {
   "cell_type": "code",
   "execution_count": 15,
   "metadata": {},
   "outputs": [
    {
     "name": "stdout",
     "output_type": "stream",
     "text": [
      "DEVELOPMENTAL        5.9205\n",
      "PSYCHOTIC            4.9162\n",
      "BIPOLAR              6.2694\n",
      "DEPRESSIVE           6.0855\n",
      "ANXIETY              6.8071\n",
      "OBSESSIVE_COMPULSIVE 6.3460\n",
      "TRAUMA_STRESSOR      6.1337\n",
      "COGNITIVE            5.3715\n",
      "\n",
      "MEAN                 6.2707\n"
     ]
    }
   ],
   "source": [
    "n_iter = 10000\n",
    "cit_norm_dom_boot = np.empty((len(dsm_doms)+1, n_iter))\n",
    "for n in range(n_iter):\n",
    "    for i, dom in enumerate(dsm_doms):\n",
    "        vals = cit_norm.reshape(-1,1)[doc2dom == i]\n",
    "        boot = np.random.choice(vals, size=len(vals), replace=True)\n",
    "        cit_norm_dom_boot[i,n] = np.mean(boot)\n",
    "    boot = np.random.choice(cit_norm, size=len(cit_norm), replace=True)\n",
    "    cit_norm_dom_boot[i+1,n] = np.mean(boot)\n",
    "for i, dom in enumerate(dsm_doms):\n",
    "    print(\"{:20s} {:6.4f}\".format(dom, np.mean(cit_norm_dom_boot[i,:])))\n",
    "print(\"\\n{:20s} {:6.4f}\".format(\"MEAN\", np.mean(cit_norm_dom_boot[-1,:])))"
   ]
  },
  {
   "cell_type": "markdown",
   "metadata": {},
   "source": [
    "### Comparison to mean"
   ]
  },
  {
   "cell_type": "code",
   "execution_count": 16,
   "metadata": {},
   "outputs": [],
   "source": [
    "from statsmodels.stats import multitest"
   ]
  },
  {
   "cell_type": "code",
   "execution_count": 17,
   "metadata": {},
   "outputs": [
    {
     "data": {
      "text/html": [
       "<div>\n",
       "<style scoped>\n",
       "    .dataframe tbody tr th:only-of-type {\n",
       "        vertical-align: middle;\n",
       "    }\n",
       "\n",
       "    .dataframe tbody tr th {\n",
       "        vertical-align: top;\n",
       "    }\n",
       "\n",
       "    .dataframe thead th {\n",
       "        text-align: right;\n",
       "    }\n",
       "</style>\n",
       "<table border=\"1\" class=\"dataframe\">\n",
       "  <thead>\n",
       "    <tr style=\"text-align: right;\">\n",
       "      <th></th>\n",
       "      <th>P</th>\n",
       "      <th>P_COR</th>\n",
       "      <th>STARS</th>\n",
       "    </tr>\n",
       "  </thead>\n",
       "  <tbody>\n",
       "    <tr>\n",
       "      <th>DEVELOPMENTAL</th>\n",
       "      <td>1.0000</td>\n",
       "      <td>1.0</td>\n",
       "      <td>NaN</td>\n",
       "    </tr>\n",
       "    <tr>\n",
       "      <th>PSYCHOTIC</th>\n",
       "      <td>1.0000</td>\n",
       "      <td>1.0</td>\n",
       "      <td>NaN</td>\n",
       "    </tr>\n",
       "    <tr>\n",
       "      <th>BIPOLAR</th>\n",
       "      <td>1.0000</td>\n",
       "      <td>1.0</td>\n",
       "      <td>NaN</td>\n",
       "    </tr>\n",
       "    <tr>\n",
       "      <th>DEPRESSIVE</th>\n",
       "      <td>1.0000</td>\n",
       "      <td>1.0</td>\n",
       "      <td>NaN</td>\n",
       "    </tr>\n",
       "    <tr>\n",
       "      <th>ANXIETY</th>\n",
       "      <td>0.0000</td>\n",
       "      <td>0.0</td>\n",
       "      <td>***</td>\n",
       "    </tr>\n",
       "    <tr>\n",
       "      <th>OBSESSIVE_COMPULSIVE</th>\n",
       "      <td>0.3486</td>\n",
       "      <td>1.0</td>\n",
       "      <td>NaN</td>\n",
       "    </tr>\n",
       "    <tr>\n",
       "      <th>TRAUMA_STRESSOR</th>\n",
       "      <td>1.0000</td>\n",
       "      <td>1.0</td>\n",
       "      <td>NaN</td>\n",
       "    </tr>\n",
       "    <tr>\n",
       "      <th>COGNITIVE</th>\n",
       "      <td>1.0000</td>\n",
       "      <td>1.0</td>\n",
       "      <td>NaN</td>\n",
       "    </tr>\n",
       "  </tbody>\n",
       "</table>\n",
       "</div>"
      ],
      "text/plain": [
       "                           P  P_COR STARS\n",
       "DEVELOPMENTAL         1.0000    1.0   NaN\n",
       "PSYCHOTIC             1.0000    1.0   NaN\n",
       "BIPOLAR               1.0000    1.0   NaN\n",
       "DEPRESSIVE            1.0000    1.0   NaN\n",
       "ANXIETY               0.0000    0.0   ***\n",
       "OBSESSIVE_COMPULSIVE  0.3486    1.0   NaN\n",
       "TRAUMA_STRESSOR       1.0000    1.0   NaN\n",
       "COGNITIVE             1.0000    1.0   NaN"
      ]
     },
     "execution_count": 17,
     "metadata": {},
     "output_type": "execute_result"
    }
   ],
   "source": [
    "pval = []\n",
    "df = pd.DataFrame()\n",
    "tot_mean = np.mean(cit_norm_dom_boot[-1,:])\n",
    "for i, dom in enumerate(dsm_doms):   \n",
    "    dom_mean = cit_norm_dom_boot[i,:]\n",
    "    if np.mean(dom_mean) > tot_mean:\n",
    "        p = np.sum(np.less(dom_mean, np.max(tot_mean))) / float(n_iter)\n",
    "    else:\n",
    "        p = 1 # np.sum(np.less(tot_mean, np.max(dom_mean))) / float(n_iter)\n",
    "    pval.append(p)\n",
    "    df.loc[dom, \"P\"] = p\n",
    "df[\"P_COR\"] = multitest.multipletests(pval, method=\"fdr_bh\")[1]\n",
    "for dom in dsm_doms:\n",
    "    for star, alpha in zip([\"*\", \"**\", \"***\"], [0.05, 0.01, 0.001]):\n",
    "        if df.loc[dom, \"P_COR\"] < alpha:\n",
    "            df.loc[dom, \"STARS\"] = star\n",
    "df = df.loc[dsm_doms, [\"P\", \"P_COR\", \"STARS\"]]\n",
    "df"
   ]
  },
  {
   "cell_type": "markdown",
   "metadata": {},
   "source": [
    "### Distribution plots"
   ]
  },
  {
   "cell_type": "code",
   "execution_count": 18,
   "metadata": {},
   "outputs": [],
   "source": [
    "import matplotlib.pyplot as plt\n",
    "from matplotlib import font_manager, rcParams\n",
    "import warnings\n",
    "warnings.simplefilter(\"ignore\", UserWarning)\n",
    "% matplotlib inline"
   ]
  },
  {
   "cell_type": "code",
   "execution_count": 19,
   "metadata": {},
   "outputs": [],
   "source": [
    "arial = \"../style/Arial Unicode.ttf\"\n",
    "prop_sm = font_manager.FontProperties(fname=arial, size=18)\n",
    "prop_md = font_manager.FontProperties(fname=arial, size=20)\n",
    "prop_lg = font_manager.FontProperties(fname=arial, size=24)\n",
    "rcParams[\"axes.linewidth\"] = 1.5"
   ]
  },
  {
   "cell_type": "code",
   "execution_count": 20,
   "metadata": {},
   "outputs": [],
   "source": [
    "dsm_palette = [\"#7D74A3\", # Purple\n",
    "               \"#D1E29E\", # Chartreuse\n",
    "               \"#BA7E39\", # Orange\n",
    "               \"#778AA3\", # Blue\n",
    "               \"#CE7D69\", # Red\n",
    "               \"#B07EB6\", # Magenta\n",
    "               \"#CEBE6D\", # Yellow\n",
    "               \"#77B58A\"] # Green"
   ]
  },
  {
   "cell_type": "code",
   "execution_count": 25,
   "metadata": {},
   "outputs": [
    {
     "data": {
      "image/png": "[encoded data removed]",
      "text/plain": [
       "<Figure size 241.2x216 with 1 Axes>"
      ]
     },
     "metadata": {
      "needs_background": "light"
     },
     "output_type": "display_data"
    }
   ],
   "source": [
    "# Set up figure\n",
    "fig = plt.figure(figsize=(3.35, 3))\n",
    "ax = fig.add_axes([0,0,1,1])\n",
    "\n",
    "# Mean as line plot\n",
    "xs = range(-1, len(dsm_doms)+1)\n",
    "data = sorted(list(cit_norm_dom_boot[-1,:]))\n",
    "plt.plot(xs, [np.mean(data)] * len(xs), \"gray\", \n",
    "         linestyle=\"dashed\", linewidth=2, zorder=-100)\n",
    "plt.fill_between(xs, \n",
    "                 data[int(n_iter*0.001)], y2=data[int(n_iter*0.999)], \n",
    "                 color=\"gray\", alpha=0.2, zorder=-100)\n",
    "\n",
    "# Violin plots\n",
    "for i, dom in enumerate(dsm_doms):\n",
    "    data = sorted(cit_norm_dom_boot[i,:])\n",
    "    obs = cit_norm_dom[i]\n",
    "    plt.plot([i-0.41, i+0.42], [obs, obs], \n",
    "             c=dsm_palette[i], alpha=1, lw=2)\n",
    "    v = ax.violinplot(data, positions=[i], showmeans=False, \n",
    "                      showmedians=False, widths=0.9)\n",
    "    for pc in v[\"bodies\"]:\n",
    "        pc.set_facecolor(dsm_palette[i])\n",
    "        pc.set_edgecolor(dsm_palette[i])\n",
    "        pc.set_linewidth(1.25)\n",
    "        pc.set_alpha(0.55)\n",
    "    for line in [\"cmaxes\", \"cmins\", \"cbars\"]:\n",
    "        v[line].set_edgecolor(\"none\")\n",
    "\n",
    "    # Comparison test\n",
    "    alphas = [0.05, 0.01, 0.001]\n",
    "    dys = [0.0, 0.45, 0.9]\n",
    "    for alpha, dy in zip(alphas, dys):\n",
    "        if df.loc[dom, \"P_COR\"] < alpha:\n",
    "            plt.text(i-0.175, max(data) + dy, \n",
    "                     \"*\", fontproperties=prop_lg)\n",
    "\n",
    "# Set plot parameters\n",
    "plt.xticks([])\n",
    "plt.yticks(range(2,14,2), fontproperties=prop_md)\n",
    "plt.xlim([-0.75, len(dsm_doms)-0.25])\n",
    "# plt.ylim([0, ymax[d]]) \n",
    "for side in [\"right\", \"top\"]:\n",
    "    ax.spines[side].set_visible(False)\n",
    "ax.xaxis.set_tick_params(width=1.5, length=7)\n",
    "ax.yaxis.set_tick_params(width=1.5, length=7)\n",
    "\n",
    "# Export figure\n",
    "plt.savefig(\"figures/cogneuro/dsm/citations_dsm_{}iter.png\".format(n_iter), \n",
    "            dpi=250, bbox_inches=\"tight\")\n",
    "plt.show()"
   ]
  }
 ],
 "metadata": {
  "kernelspec": {
   "display_name": "Python (RDoC)",
   "language": "python",
   "name": "rdoc"
  },
  "language_info": {
   "codemirror_mode": {
    "name": "ipython",
    "version": 2
   },
   "file_extension": ".py",
   "mimetype": "text/x-python",
   "name": "python",
   "nbconvert_exporter": "python",
   "pygments_lexer": "ipython2",
   "version": "2.7.15"
  }
 },
 "nbformat": 4,
 "nbformat_minor": 2
}
