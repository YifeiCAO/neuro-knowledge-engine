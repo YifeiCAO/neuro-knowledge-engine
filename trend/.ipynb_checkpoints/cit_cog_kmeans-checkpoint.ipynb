{
 "cells": [
  {
   "cell_type": "code",
   "execution_count": 1,
   "metadata": {},
   "outputs": [],
   "source": [
    "import os\n",
    "import pandas as pd\n",
    "import numpy as np\n",
    "from collections import OrderedDict"
   ]
  },
  {
   "cell_type": "markdown",
   "metadata": {},
   "source": [
    "# Load the data"
   ]
  },
  {
   "cell_type": "code",
   "execution_count": 17,
   "metadata": {},
   "outputs": [],
   "source": [
    "kmeans_lists = pd.read_csv(\"../lists/lists/lists_k07_oplen.csv\", index_col=None)\n",
    "kmeans_doms = [6, 3, 7, 5, 2, 1, 4]\n",
    "dom2name = {6: \"Emotion\", 3: \"Anticipation\", 1: \"Meaning\", 4: \"Language\", \n",
    "            2: \"Manipulation\", 5: \"Vision\", 7: \"Cognition\"}\n",
    "kmeans_names = [dom2name[dom] for dom in kmeans_doms]"
   ]
  },
  {
   "cell_type": "code",
   "execution_count": 5,
   "metadata": {},
   "outputs": [
    {
     "data": {
      "text/html": [
       "<div>\n",
       "<style scoped>\n",
       "    .dataframe tbody tr th:only-of-type {\n",
       "        vertical-align: middle;\n",
       "    }\n",
       "\n",
       "    .dataframe tbody tr th {\n",
       "        vertical-align: top;\n",
       "    }\n",
       "\n",
       "    .dataframe thead th {\n",
       "        text-align: right;\n",
       "    }\n",
       "</style>\n",
       "<table border=\"1\" class=\"dataframe\">\n",
       "  <thead>\n",
       "    <tr style=\"text-align: right;\">\n",
       "      <th></th>\n",
       "      <th>PMID</th>\n",
       "      <th>DOI</th>\n",
       "      <th>KEY</th>\n",
       "      <th>SOURCE</th>\n",
       "      <th>AUTHORS</th>\n",
       "      <th>YEAR</th>\n",
       "      <th>MONTH</th>\n",
       "      <th>JOURNAL</th>\n",
       "      <th>TITLE</th>\n",
       "      <th>PAGES</th>\n",
       "      <th>VOLUME</th>\n",
       "      <th>ABSTRACT_URL</th>\n",
       "      <th>NUM_COORDINATES</th>\n",
       "      <th>MNI_COORDINATES</th>\n",
       "      <th>BRAINMAP_ID</th>\n",
       "      <th>BEHAVIORAL_DOMAIN</th>\n",
       "      <th>EXPERIMENT</th>\n",
       "      <th>DESCRIPTION</th>\n",
       "    </tr>\n",
       "  </thead>\n",
       "  <tbody>\n",
       "    <tr>\n",
       "      <th>0</th>\n",
       "      <td>1402966</td>\n",
       "      <td>NaN</td>\n",
       "      <td>Dolan R J, 1992</td>\n",
       "      <td>BrainMap</td>\n",
       "      <td>Dolan R J|Bench C J|Brown R G|Scott L C|Fristo...</td>\n",
       "      <td>1992.0</td>\n",
       "      <td>Sep</td>\n",
       "      <td>Journal of Neurology, Neurosurgery, and Psychi...</td>\n",
       "      <td>Regional cerebral blood flow abnormalities in ...</td>\n",
       "      <td>768-773</td>\n",
       "      <td>55</td>\n",
       "      <td>http://www.ncbi.nlm.nih.gov/entrez/query.fcgi?...</td>\n",
       "      <td>7.0</td>\n",
       "      <td>-7.66,51.87,-8.33;-5.51,56.46,-4.28;-5.48,58.9...</td>\n",
       "      <td>6030020.0</td>\n",
       "      <td>['Action.Rest', 'Action.Rest']</td>\n",
       "      <td>['Unimpaired &gt; Impaired', 'Impaired &gt; Unimpair...</td>\n",
       "      <td>Patients with depression who were cognitively ...</td>\n",
       "    </tr>\n",
       "  </tbody>\n",
       "</table>\n",
       "</div>"
      ],
      "text/plain": [
       "      PMID  DOI              KEY    SOURCE  \\\n",
       "0  1402966  NaN  Dolan R J, 1992  BrainMap   \n",
       "\n",
       "                                             AUTHORS    YEAR MONTH  \\\n",
       "0  Dolan R J|Bench C J|Brown R G|Scott L C|Fristo...  1992.0   Sep   \n",
       "\n",
       "                                             JOURNAL  \\\n",
       "0  Journal of Neurology, Neurosurgery, and Psychi...   \n",
       "\n",
       "                                               TITLE    PAGES VOLUME  \\\n",
       "0  Regional cerebral blood flow abnormalities in ...  768-773     55   \n",
       "\n",
       "                                        ABSTRACT_URL  NUM_COORDINATES  \\\n",
       "0  http://www.ncbi.nlm.nih.gov/entrez/query.fcgi?...              7.0   \n",
       "\n",
       "                                     MNI_COORDINATES  BRAINMAP_ID  \\\n",
       "0  -7.66,51.87,-8.33;-5.51,56.46,-4.28;-5.48,58.9...    6030020.0   \n",
       "\n",
       "                BEHAVIORAL_DOMAIN  \\\n",
       "0  ['Action.Rest', 'Action.Rest']   \n",
       "\n",
       "                                          EXPERIMENT  \\\n",
       "0  ['Unimpaired > Impaired', 'Impaired > Unimpair...   \n",
       "\n",
       "                                         DESCRIPTION  \n",
       "0  Patients with depression who were cognitively ...  "
      ]
     },
     "execution_count": 5,
     "metadata": {},
     "output_type": "execute_result"
    }
   ],
   "source": [
    "meta = pd.read_csv(\"../data/metadata_filt_180811.csv\", index_col=None)\n",
    "meta = meta.dropna(subset=[\"PMID\"])\n",
    "meta[\"PMID\"] = meta[\"PMID\"].astype(int)\n",
    "meta.head(1)"
   ]
  },
  {
   "cell_type": "code",
   "execution_count": 6,
   "metadata": {},
   "outputs": [
    {
     "name": "stdout",
     "output_type": "stream",
     "text": [
      "18155\n"
     ]
    }
   ],
   "source": [
    "cit = {}\n",
    "files = [file for file in os.listdir(\"data/dimensions\") if file.startswith(\"data_\")]\n",
    "for file in files:\n",
    "    df = pd.read_csv(\"data/dimensions/{}\".format(file), skiprows=1, header=0)\n",
    "    df = df.fillna(0)\n",
    "    df[\"PMID\"] = df[\"PMID\"].astype(int)\n",
    "    df = df[df[\"PMID\"].isin(meta[\"PMID\"])]\n",
    "    for i, row in df.iterrows():\n",
    "        cit[row[\"PMID\"]] = row[\"Times cited\"]\n",
    "print(len(cit.keys()))"
   ]
  },
  {
   "cell_type": "markdown",
   "metadata": {},
   "source": [
    "# Normalize by publication year"
   ]
  },
  {
   "cell_type": "code",
   "execution_count": 7,
   "metadata": {},
   "outputs": [],
   "source": [
    "cit_raw = np.array([cit[pmid] for pmid in meta[\"PMID\"]])"
   ]
  },
  {
   "cell_type": "code",
   "execution_count": 8,
   "metadata": {},
   "outputs": [],
   "source": [
    "yr = 2019.0 - meta[\"YEAR\"].astype(float).values\n",
    "cit_norm = cit_raw / yr"
   ]
  },
  {
   "cell_type": "code",
   "execution_count": 10,
   "metadata": {},
   "outputs": [
    {
     "data": {
      "text/plain": [
       "6.27160214130563"
      ]
     },
     "execution_count": 10,
     "metadata": {},
     "output_type": "execute_result"
    }
   ],
   "source": [
    "np.mean(cit_norm)"
   ]
  },
  {
   "cell_type": "markdown",
   "metadata": {},
   "source": [
    "# Segment by *k*-means cluster "
   ]
  },
  {
   "cell_type": "code",
   "execution_count": 12,
   "metadata": {},
   "outputs": [],
   "source": [
    "doc2dom = pd.read_csv(\"../data/doc2dom_kmeans_k07.csv\", header=None, index_col=0)\n",
    "doc2dom = doc2dom.loc[meta[\"PMID\"]].values\n",
    "doc2dom = doc2dom - 1"
   ]
  },
  {
   "cell_type": "markdown",
   "metadata": {},
   "source": [
    "### Observed"
   ]
  },
  {
   "cell_type": "code",
   "execution_count": 22,
   "metadata": {},
   "outputs": [
    {
     "name": "stdout",
     "output_type": "stream",
     "text": [
      "Emotion         5.6975\n",
      "Anticipation    6.0476\n",
      "Cognition       6.8738\n",
      "Vision          5.5615\n",
      "Manipulation    6.0055\n",
      "Meaning         6.8656\n",
      "Language        7.0304\n",
      "\n",
      "MEAN 6.2716\n"
     ]
    }
   ],
   "source": [
    "cit_norm_dom = np.empty((len(kmeans_doms)))\n",
    "for i, dom in enumerate(kmeans_doms):\n",
    "    dom_mean = np.mean(cit_norm.reshape(-1,1)[doc2dom == i])\n",
    "    cit_norm_dom[i] = dom_mean\n",
    "    print(\"{:15s} {:6.4f}\".format(kmeans_names[i], dom_mean))\n",
    "print(\"\\n{} {:6.4f}\".format(\"MEAN\", np.mean(cit_norm)))"
   ]
  },
  {
   "cell_type": "markdown",
   "metadata": {},
   "source": [
    "### Bootstrap"
   ]
  },
  {
   "cell_type": "code",
   "execution_count": 32,
   "metadata": {},
   "outputs": [
    {
     "name": "stdout",
     "output_type": "stream",
     "text": [
      "6 5.6965\n",
      "3 6.0468\n",
      "7 6.8719\n",
      "5 5.5605\n",
      "2 6.0049\n",
      "1 6.8665\n",
      "4 7.0290\n",
      "\n",
      "MEAN 6.2721\n"
     ]
    }
   ],
   "source": [
    "n_iter = 10000\n",
    "cit_norm_dom_boot = np.empty((len(kmeans_doms)+1, n_iter))\n",
    "for n in range(n_iter):\n",
    "    for i, dom in enumerate(kmeans_doms):\n",
    "        vals = cit_norm.reshape(-1,1)[doc2dom == i]\n",
    "        boot = np.random.choice(vals, size=len(vals), replace=True)\n",
    "        cit_norm_dom_boot[i,n] = np.mean(boot)\n",
    "    boot = np.random.choice(cit_norm, size=len(cit_norm), replace=True)\n",
    "    cit_norm_dom_boot[i+1,n] = np.mean(boot)\n",
    "for i, dom in enumerate(kmeans_doms):\n",
    "    print(\"{} {:6.4f}\".format(dom, np.mean(cit_norm_dom_boot[i,:])))\n",
    "print(\"\\n{} {:6.4f}\".format(\"MEAN\", np.mean(cit_norm_dom_boot[-1,:])))"
   ]
  },
  {
   "cell_type": "markdown",
   "metadata": {},
   "source": [
    "### Comparison to mean"
   ]
  },
  {
   "cell_type": "code",
   "execution_count": 33,
   "metadata": {},
   "outputs": [],
   "source": [
    "from statsmodels.stats import multitest"
   ]
  },
  {
   "cell_type": "code",
   "execution_count": 35,
   "metadata": {},
   "outputs": [
    {
     "data": {
      "text/html": [
       "<div>\n",
       "<style scoped>\n",
       "    .dataframe tbody tr th:only-of-type {\n",
       "        vertical-align: middle;\n",
       "    }\n",
       "\n",
       "    .dataframe tbody tr th {\n",
       "        vertical-align: top;\n",
       "    }\n",
       "\n",
       "    .dataframe thead th {\n",
       "        text-align: right;\n",
       "    }\n",
       "</style>\n",
       "<table border=\"1\" class=\"dataframe\">\n",
       "  <thead>\n",
       "    <tr style=\"text-align: right;\">\n",
       "      <th></th>\n",
       "      <th>P</th>\n",
       "      <th>P_COR</th>\n",
       "      <th>STARS</th>\n",
       "    </tr>\n",
       "  </thead>\n",
       "  <tbody>\n",
       "    <tr>\n",
       "      <th>6</th>\n",
       "      <td>1.0000</td>\n",
       "      <td>1.0000</td>\n",
       "      <td>NaN</td>\n",
       "    </tr>\n",
       "    <tr>\n",
       "      <th>3</th>\n",
       "      <td>1.0000</td>\n",
       "      <td>1.0000</td>\n",
       "      <td>NaN</td>\n",
       "    </tr>\n",
       "    <tr>\n",
       "      <th>7</th>\n",
       "      <td>0.0471</td>\n",
       "      <td>0.1099</td>\n",
       "      <td>NaN</td>\n",
       "    </tr>\n",
       "    <tr>\n",
       "      <th>5</th>\n",
       "      <td>1.0000</td>\n",
       "      <td>1.0000</td>\n",
       "      <td>NaN</td>\n",
       "    </tr>\n",
       "    <tr>\n",
       "      <th>2</th>\n",
       "      <td>1.0000</td>\n",
       "      <td>1.0000</td>\n",
       "      <td>NaN</td>\n",
       "    </tr>\n",
       "    <tr>\n",
       "      <th>1</th>\n",
       "      <td>0.0374</td>\n",
       "      <td>0.1099</td>\n",
       "      <td>NaN</td>\n",
       "    </tr>\n",
       "    <tr>\n",
       "      <th>4</th>\n",
       "      <td>0.0000</td>\n",
       "      <td>0.0000</td>\n",
       "      <td>***</td>\n",
       "    </tr>\n",
       "  </tbody>\n",
       "</table>\n",
       "</div>"
      ],
      "text/plain": [
       "        P   P_COR STARS\n",
       "6  1.0000  1.0000   NaN\n",
       "3  1.0000  1.0000   NaN\n",
       "7  0.0471  0.1099   NaN\n",
       "5  1.0000  1.0000   NaN\n",
       "2  1.0000  1.0000   NaN\n",
       "1  0.0374  0.1099   NaN\n",
       "4  0.0000  0.0000   ***"
      ]
     },
     "execution_count": 35,
     "metadata": {},
     "output_type": "execute_result"
    }
   ],
   "source": [
    "pval = []\n",
    "df = pd.DataFrame()\n",
    "tot_mean = np.mean(cit_norm_dom_boot[-1,:])\n",
    "for i, dom in enumerate(kmeans_doms):   \n",
    "    dom_mean = cit_norm_dom_boot[i,:]\n",
    "    if np.mean(dom_mean) > tot_mean:\n",
    "        p = np.sum(np.less(dom_mean, np.max(tot_mean))) / float(n_iter)\n",
    "    else:\n",
    "        p = 1 # np.sum(np.less(tot_mean, np.max(dom_mean))) / float(n_iter)\n",
    "    pval.append(p)\n",
    "    df.loc[dom, \"P\"] = p\n",
    "df[\"P_COR\"] = multitest.multipletests(pval, method=\"fdr_bh\")[1]\n",
    "for dom in kmeans_doms:\n",
    "    for star, alpha in zip([\"*\", \"**\", \"***\"], [0.05, 0.01, 0.001]):\n",
    "        if df.loc[dom, \"P_COR\"] < alpha:\n",
    "            df.loc[dom, \"STARS\"] = star\n",
    "df = df.loc[kmeans_doms, [\"P\", \"P_COR\", \"STARS\"]]\n",
    "df"
   ]
  },
  {
   "cell_type": "markdown",
   "metadata": {},
   "source": [
    "### Distribution plots"
   ]
  },
  {
   "cell_type": "code",
   "execution_count": 36,
   "metadata": {},
   "outputs": [],
   "source": [
    "import matplotlib.pyplot as plt\n",
    "from matplotlib import font_manager, rcParams\n",
    "import warnings\n",
    "warnings.simplefilter(\"ignore\", UserWarning)\n",
    "% matplotlib inline"
   ]
  },
  {
   "cell_type": "code",
   "execution_count": 37,
   "metadata": {},
   "outputs": [],
   "source": [
    "arial = \"../style/Arial Unicode.ttf\"\n",
    "prop_sm = font_manager.FontProperties(fname=arial, size=18)\n",
    "prop_md = font_manager.FontProperties(fname=arial, size=20)\n",
    "prop_lg = font_manager.FontProperties(fname=arial, size=24)\n",
    "rcParams[\"axes.linewidth\"] = 1.5"
   ]
  },
  {
   "cell_type": "code",
   "execution_count": 41,
   "metadata": {},
   "outputs": [],
   "source": [
    "kmeans_palette = [\"#778AA3\", # Blue\n",
    "                  \"#B07EB6\", # Magenta\n",
    "                  \"#CEBE6D\", # Yellow\n",
    "                  \"#77B58A\", # Green\n",
    "                  \"#CE7D69\", # Red\n",
    "                  \"#7D74A3\", # Purple\n",
    "                  \"#BA7E39\"] # Orange"
   ]
  },
  {
   "cell_type": "code",
   "execution_count": 62,
   "metadata": {},
   "outputs": [
    {
     "data": {
      "image/png": "[encoded data removed]",
      "text/plain": [
       "<Figure size 208.8x216 with 1 Axes>"
      ]
     },
     "metadata": {
      "needs_background": "light"
     },
     "output_type": "display_data"
    }
   ],
   "source": [
    "# Set up figure\n",
    "fig = plt.figure(figsize=(2.9, 3))\n",
    "ax = fig.add_axes([0,0,1,1])\n",
    "\n",
    "# Mean as line plot\n",
    "xs = range(-1, len(kmeans_doms)+1)\n",
    "data = sorted(list(cit_norm_dom_boot[-1,:]))\n",
    "plt.plot(xs, [np.mean(data)] * len(xs), \"gray\", \n",
    "         linestyle=\"dashed\", linewidth=2, zorder=-100)\n",
    "plt.fill_between(xs, \n",
    "                 data[int(n_iter*0.001)], y2=data[int(n_iter*0.999)], \n",
    "                 color=\"gray\", alpha=0.2, zorder=-100)\n",
    "\n",
    "# Violin plots\n",
    "for i, dom in enumerate(kmeans_doms):\n",
    "    data = sorted(cit_norm_dom_boot[i,:])\n",
    "    obs = cit_norm_dom[i]\n",
    "    plt.plot([i-0.41, i+0.42], [obs, obs], \n",
    "             c=kmeans_palette[i], alpha=1, lw=2)\n",
    "    v = ax.violinplot(data, positions=[i], showmeans=False, \n",
    "                      showmedians=False, widths=0.9)\n",
    "    for pc in v[\"bodies\"]:\n",
    "        pc.set_facecolor(kmeans_palette[i])\n",
    "        pc.set_edgecolor(kmeans_palette[i])\n",
    "        pc.set_linewidth(1.25)\n",
    "        pc.set_alpha(0.55)\n",
    "    for line in [\"cmaxes\", \"cmins\", \"cbars\"]:\n",
    "        v[line].set_edgecolor(\"none\")\n",
    "\n",
    "    # Comparison test\n",
    "    alphas = [0.05, 0.01, 0.001]\n",
    "    dys = [0.0, 0.45, 0.9]\n",
    "    for alpha, dy in zip(alphas, dys):\n",
    "        if df.loc[dom, \"P_COR\"] < alpha:\n",
    "            plt.text(i-0.18, max(data) + dy, \n",
    "                     \"*\", fontproperties=prop_lg)\n",
    "\n",
    "# Set plot parameters\n",
    "plt.xticks([])\n",
    "plt.yticks(range(2,14,2), fontproperties=prop_md)\n",
    "plt.xlim([-0.75, len(kmeans_doms)-0.25])\n",
    "# plt.ylim([0, ymax[d]]) \n",
    "for side in [\"right\", \"top\"]:\n",
    "    ax.spines[side].set_visible(False)\n",
    "ax.xaxis.set_tick_params(width=1.5, length=7)\n",
    "ax.yaxis.set_tick_params(width=1.5, length=7)\n",
    "\n",
    "# Export figure\n",
    "plt.savefig(\"figures/cogneuro/kmeans/citations_kmeans_{}iter.png\".format(n_iter), \n",
    "            dpi=250, bbox_inches=\"tight\")\n",
    "plt.show()"
   ]
  },
  {
   "cell_type": "markdown",
   "metadata": {},
   "source": [
    "## Segment by both"
   ]
  },
  {
   "cell_type": "code",
   "execution_count": 97,
   "metadata": {},
   "outputs": [
    {
     "name": "stdout",
     "output_type": "stream",
     "text": [
      "---RDoC Did NOT Occur---\n",
      "\n",
      "NEGATIVE_VALENCE     6.4273\n",
      "POSITIVE_VALENCE     8.0289\n",
      "COGNITIVE_SYSTEMS    6.2195\n",
      "SOCIAL_PROCESSES     6.7618\n",
      "AROUSAL_REGULATION   4.7669\n",
      "SENSORIMOTOR_SYSTEMS 5.8233\n",
      "\n",
      "\n",
      "---RDoC Occurred---\n",
      "\n",
      "NEGATIVE_VALENCE     4.3214\n",
      "POSITIVE_VALENCE     4.8223\n",
      "COGNITIVE_SYSTEMS    4.4800\n",
      "SOCIAL_PROCESSES     4.0333\n",
      "AROUSAL_REGULATION      nan\n",
      "SENSORIMOTOR_SYSTEMS 3.0781\n",
      "\n",
      "\n"
     ]
    }
   ],
   "source": [
    "cit_norm_dom = {part: np.empty(len(rdoc_doms)) for part in parts}\n",
    "for i, part in enumerate(parts):\n",
    "    print(\"-\" * 3 + part + \"-\" * 3 + \"\\n\")\n",
    "    for j, dom in enumerate(rdoc_doms):\n",
    "        idx = np.logical_and(pmids_rdoc == i, doc2dom == j)\n",
    "        dom_mean = np.mean(cit_norm[idx])\n",
    "        cit_norm_dom[part][j] = dom_mean\n",
    "        print(\"{:20s} {:6.4f}\".format(dom, dom_mean))\n",
    "    print(\"\\n\")"
   ]
  }
 ],
 "metadata": {
  "kernelspec": {
   "display_name": "Python (RDoC)",
   "language": "python",
   "name": "rdoc"
  },
  "language_info": {
   "codemirror_mode": {
    "name": "ipython",
    "version": 2
   },
   "file_extension": ".py",
   "mimetype": "text/x-python",
   "name": "python",
   "nbconvert_exporter": "python",
   "pygments_lexer": "ipython2",
   "version": "2.7.15"
  }
 },
 "nbformat": 4,
 "nbformat_minor": 2
}
