{
 "cells": [
  {
   "cell_type": "code",
   "execution_count": 1,
   "metadata": {},
   "outputs": [],
   "source": [
    "import os\n",
    "import pandas as pd\n",
    "from CQHDimensionalPhenotyper import *"
   ]
  },
  {
   "cell_type": "markdown",
   "metadata": {},
   "source": [
    "# Score the corpus"
   ]
  },
  {
   "cell_type": "code",
   "execution_count": 6,
   "metadata": {},
   "outputs": [
    {
     "data": {
      "text/plain": [
       "(18155,)"
      ]
     },
     "execution_count": 6,
     "metadata": {},
     "output_type": "execute_result"
    }
   ],
   "source": [
    "pmids = pd.read_csv(\"../data/metadata_filt_180811.csv\", encoding=\"latin-1\", index_col=None)\n",
    "pmids = pmids[\"PMID\"].dropna().astype(int).values\n",
    "pmids.shape"
   ]
  },
  {
   "cell_type": "code",
   "execution_count": 7,
   "metadata": {},
   "outputs": [],
   "source": [
    "domains = [\"negative\", \"positive\", \"cognitive\", \"social\", \"arousal_regulatory\"]\n",
    "scores = {domain: [] for domain in domains}\n",
    "for pmid in pmids:\n",
    "    raw_text = open(\"../../../nlp/corpus/{}.txt\".format(pmid)).read()\n",
    "    results = count_document(raw_text)\n",
    "    results = reduce_counts(results)\n",
    "    for domain in domains:\n",
    "        scores[domain].append(results[domain])"
   ]
  },
  {
   "cell_type": "code",
   "execution_count": 9,
   "metadata": {},
   "outputs": [],
   "source": [
    "df = pd.DataFrame(scores, index=pmids)\n",
    "df.to_csv(\"lists/scores_cqh.csv\", columns=domains)"
   ]
  },
  {
   "cell_type": "markdown",
   "metadata": {},
   "source": [
    "# Format the word lists"
   ]
  },
  {
   "cell_type": "code",
   "execution_count": 12,
   "metadata": {},
   "outputs": [],
   "source": [
    "doms, tkns = [], []\n",
    "labels = [\"NEGATIVE_VALENCE\", \"POSITIVE_VALENCE\", \"COGNITIVE_SYSTEMS\", \"SOCIAL_PROCESSES\", \"AROUSAL_REGULATION\"]\n",
    "for i, domain in enumerate(domains):\n",
    "    dom_tkns = DOMAIN_TOKEN_MAP[domain]\n",
    "    tkns += dom_tkns\n",
    "    doms += [labels[i]] * len(dom_tkns)\n",
    "seed_df = pd.DataFrame({\"DOMAIN\": doms, \"TOKEN\": tkns})\n",
    "seed_df.to_csv(\"lists/lists_rdoc_cqh.csv\", index=None)"
   ]
  },
  {
   "cell_type": "code",
   "execution_count": null,
   "metadata": {},
   "outputs": [],
   "source": []
  }
 ],
 "metadata": {
  "kernelspec": {
   "display_name": "Python (RDoC)",
   "language": "python",
   "name": "rdoc"
  },
  "language_info": {
   "codemirror_mode": {
    "name": "ipython",
    "version": 2
   },
   "file_extension": ".py",
   "mimetype": "text/x-python",
   "name": "python",
   "nbconvert_exporter": "python",
   "pygments_lexer": "ipython2",
   "version": "2.7.15"
  }
 },
 "nbformat": 4,
 "nbformat_minor": 2
}
