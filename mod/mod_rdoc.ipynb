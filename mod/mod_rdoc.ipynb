{
 "cells": [
  {
   "cell_type": "markdown",
   "metadata": {},
   "source": [
    "# Document-level distances\n",
    "\n",
    "## Load the text and brain activation data"
   ]
  },
  {
   "cell_type": "code",
   "execution_count": 1,
   "metadata": {},
   "outputs": [],
   "source": [
    "import pandas as pd\n",
    "import numpy as np\n",
    "from sklearn.preprocessing import binarize\n",
    "from collections import OrderedDict"
   ]
  },
  {
   "cell_type": "code",
   "execution_count": 2,
   "metadata": {},
   "outputs": [
    {
     "data": {
      "text/plain": [
       "0.2984103746007817"
      ]
     },
     "execution_count": 2,
     "metadata": {},
     "output_type": "execute_result"
    }
   ],
   "source": [
    "atlas_labels = pd.read_csv(\"../data/atlases/harvard-oxford.csv\")\n",
    "act_bin = pd.read_csv(\"../data/dcm_0mm_thres0.csv\", index_col=0) # Previously binarized\n",
    "act_bin = act_bin[atlas_labels[\"PREPROCESSED\"]]\n",
    "act_bin.mean().mean()"
   ]
  },
  {
   "cell_type": "code",
   "execution_count": 3,
   "metadata": {},
   "outputs": [],
   "source": [
    "def mean_thres(df):\n",
    "    col_mean = df.mean()\n",
    "    df_bin = np.empty((df.shape[0], df.shape[1]))\n",
    "    i = 0\n",
    "    for col, doc_mean in col_mean.iteritems():\n",
    "        df_bin[:,i] = 1 * (df[col] > doc_mean)\n",
    "        i += 1\n",
    "    df_bin = pd.DataFrame(df_bin, columns=df.columns, index=df.index)\n",
    "    return df_bin"
   ]
  },
  {
   "cell_type": "code",
   "execution_count": 4,
   "metadata": {},
   "outputs": [
    {
     "data": {
      "text/plain": [
       "0.019064029185168477"
      ]
     },
     "execution_count": 4,
     "metadata": {},
     "output_type": "execute_result"
    }
   ],
   "source": [
    "dtm = pd.read_csv(\"../data/dtm_190124.csv.gz\", compression=\"gzip\", index_col=0)\n",
    "dtm_bin = mean_thres(dtm)\n",
    "dtm_bin.mean().mean()"
   ]
  },
  {
   "cell_type": "code",
   "execution_count": 5,
   "metadata": {},
   "outputs": [
    {
     "data": {
      "text/plain": [
       "18155"
      ]
     },
     "execution_count": 5,
     "metadata": {},
     "output_type": "execute_result"
    }
   ],
   "source": [
    "pmids = dtm_bin.index.intersection(act_bin.index)\n",
    "len(pmids)"
   ]
  },
  {
   "cell_type": "markdown",
   "metadata": {},
   "source": [
    "## Load the brain systems"
   ]
  },
  {
   "cell_type": "code",
   "execution_count": 6,
   "metadata": {},
   "outputs": [],
   "source": [
    "dom_lists = pd.read_csv(\"../lists/lists/lists_rdoc_domain_opsim.csv\", index_col=None)\n",
    "con_lists = pd.read_csv(\"../lists/lists/lists_rdoc_construct_opsim.csv\", index_col=None)"
   ]
  },
  {
   "cell_type": "code",
   "execution_count": 7,
   "metadata": {},
   "outputs": [],
   "source": [
    "words = sorted(list(set(dom_lists[\"TOKEN\"].append(con_lists[\"TOKEN\"]))))\n",
    "structures = sorted(list(act_bin.columns))\n",
    "domains = list(OrderedDict.fromkeys(dom_lists[\"DOMAIN\"]))\n",
    "constructs = list(OrderedDict.fromkeys(con_lists[\"CONSTRUCT\"]))"
   ]
  },
  {
   "cell_type": "code",
   "execution_count": 8,
   "metadata": {},
   "outputs": [],
   "source": [
    "dom_circuits = pd.read_csv(\"../lists/circuits/circuits_domain_rdoc.csv\", index_col=0)"
   ]
  },
  {
   "cell_type": "code",
   "execution_count": 9,
   "metadata": {},
   "outputs": [
    {
     "data": {
      "text/plain": [
       "(603, 6)"
      ]
     },
     "execution_count": 9,
     "metadata": {},
     "output_type": "execute_result"
    }
   ],
   "source": [
    "dom_systems = pd.DataFrame(0.0, index=words+structures, columns=domains)\n",
    "for dom in domains:\n",
    "    for word in dom_lists.loc[dom_lists[\"DOMAIN\"] == dom, \"TOKEN\"]:\n",
    "        dom_systems.loc[word, dom] = 1.0\n",
    "    for struct in structures:\n",
    "        dom_systems.loc[struct, dom] = dom_circuits.loc[struct, dom]\n",
    "dom_systems[dom_systems > 0.0] = 1.0\n",
    "dom_systems.shape"
   ]
  },
  {
   "cell_type": "markdown",
   "metadata": {},
   "source": [
    "## Assign documents to systems"
   ]
  },
  {
   "cell_type": "code",
   "execution_count": 10,
   "metadata": {},
   "outputs": [],
   "source": [
    "from scipy.spatial.distance import cdist"
   ]
  },
  {
   "cell_type": "code",
   "execution_count": 11,
   "metadata": {},
   "outputs": [],
   "source": [
    "dtm_words = dtm_bin.loc[pmids, words]\n",
    "act_structs = act_bin.loc[pmids, structures]"
   ]
  },
  {
   "cell_type": "code",
   "execution_count": 12,
   "metadata": {},
   "outputs": [
    {
     "data": {
      "text/plain": [
       "(18155, 603)"
      ]
     },
     "execution_count": 12,
     "metadata": {},
     "output_type": "execute_result"
    }
   ],
   "source": [
    "docs = dtm_words.copy()\n",
    "docs[structures] = act_structs.copy()\n",
    "docs.shape"
   ]
  },
  {
   "cell_type": "code",
   "execution_count": 13,
   "metadata": {},
   "outputs": [
    {
     "data": {
      "text/plain": [
       "(18155, 6)"
      ]
     },
     "execution_count": 13,
     "metadata": {},
     "output_type": "execute_result"
    }
   ],
   "source": [
    "dom_dists = cdist(docs.values, dom_systems.values.T, metric=\"dice\")\n",
    "dom_dists.shape"
   ]
  },
  {
   "cell_type": "code",
   "execution_count": 14,
   "metadata": {},
   "outputs": [],
   "source": [
    "doc2dom = {pmid: 0 for pmid in pmids}\n",
    "for i, pmid in enumerate(pmids):\n",
    "    doc2dom[pmid] = np.argmin(dom_dists[i,:]) + 1"
   ]
  },
  {
   "cell_type": "code",
   "execution_count": 15,
   "metadata": {},
   "outputs": [],
   "source": [
    "doc2dom_df = pd.Series(doc2dom)\n",
    "doc2dom_df.to_csv(\"data/doc2dom_rdoc_domain.csv\", header=False)"
   ]
  },
  {
   "cell_type": "markdown",
   "metadata": {},
   "source": [
    "## Plot document distances"
   ]
  },
  {
   "cell_type": "code",
   "execution_count": 16,
   "metadata": {},
   "outputs": [],
   "source": [
    "import matplotlib.pyplot as plt\n",
    "from matplotlib import cm, font_manager, rcParams\n",
    "import warnings\n",
    "warnings.simplefilter(\"ignore\", UserWarning)\n",
    "% matplotlib inline"
   ]
  },
  {
   "cell_type": "code",
   "execution_count": 17,
   "metadata": {},
   "outputs": [],
   "source": [
    "arial = \"../style/Arial Unicode.ttf\"\n",
    "rcParams[\"axes.linewidth\"] = 1"
   ]
  },
  {
   "cell_type": "code",
   "execution_count": 18,
   "metadata": {},
   "outputs": [],
   "source": [
    "dists = cdist(docs, docs, metric=\"dice\")\n",
    "dists = pd.DataFrame(dists, index=pmids, columns=pmids)"
   ]
  },
  {
   "cell_type": "code",
   "execution_count": 19,
   "metadata": {},
   "outputs": [],
   "source": [
    "ordered_doms = range(1, len(domains)+1)"
   ]
  },
  {
   "cell_type": "code",
   "execution_count": 20,
   "metadata": {},
   "outputs": [],
   "source": [
    "dom_pmids = []\n",
    "for dom in ordered_doms:\n",
    "    dom_pmids += [pmid for pmid, sys in doc2dom.items() if sys == dom]"
   ]
  },
  {
   "cell_type": "code",
   "execution_count": 21,
   "metadata": {},
   "outputs": [],
   "source": [
    "dists = dists[dom_pmids].loc[dom_pmids]"
   ]
  },
  {
   "cell_type": "code",
   "execution_count": 22,
   "metadata": {},
   "outputs": [],
   "source": [
    "transitions = []\n",
    "for i, pmid in enumerate(dom_pmids):\n",
    "    if doc2dom[dom_pmids[i-1]] != doc2dom[pmid]:\n",
    "        transitions.append(i)"
   ]
  },
  {
   "cell_type": "code",
   "execution_count": 24,
   "metadata": {},
   "outputs": [],
   "source": [
    "fig = plt.figure(figsize=(10,10), frameon=False)\n",
    "ax = fig.add_axes([0,0,1,1])\n",
    "\n",
    "X = dists.values.astype(np.float)\n",
    "im = ax.matshow(X, cmap=cm.Greys_r, vmin=0, vmax=1, alpha=1) \n",
    "plt.xticks(transitions)\n",
    "plt.yticks(transitions)\n",
    "ax.set_xticklabels([])\n",
    "ax.set_yticklabels([])\n",
    "\n",
    "plt.tight_layout()\n",
    "plt.savefig(\"figures/dist_rdoc_domain.png\", dpi=250, bbox_inches=\"tight\")\n",
    "plt.show()"
   ]
  },
  {
   "cell_type": "markdown",
   "metadata": {},
   "source": [
    "## Compute distance ratios"
   ]
  },
  {
   "cell_type": "code",
   "execution_count": 25,
   "metadata": {},
   "outputs": [],
   "source": [
    "dom2docs = {dom: [] for dom in domains}\n",
    "for doc, dom in doc2dom.iteritems():\n",
    "    dom2docs[domains[dom-1]].append(doc)"
   ]
  },
  {
   "cell_type": "code",
   "execution_count": 26,
   "metadata": {},
   "outputs": [
    {
     "name": "stdout",
     "output_type": "stream",
     "text": [
      "NEGATIVE_VALENCE       2339\n",
      "POSITIVE_VALENCE       1349\n",
      "COGNITIVE_SYSTEMS      7818\n",
      "SOCIAL_PROCESSES       1242\n",
      "AROUSAL_REGULATION     165\n",
      "SENSORIMOTOR_SYSTEMS   5242\n"
     ]
    }
   ],
   "source": [
    "for dom in domains:\n",
    "    print(\"{:22s} {}\".format(dom, len(dom2docs[dom])))"
   ]
  },
  {
   "cell_type": "code",
   "execution_count": 27,
   "metadata": {},
   "outputs": [
    {
     "name": "stdout",
     "output_type": "stream",
     "text": [
      "NEGATIVE_VALENCE\t 99679.919 / 106353.378 = 1.067\n",
      "POSITIVE_VALENCE\t 48570.787 /  56058.444 = 1.154\n",
      "COGNITIVE_SYSTEMS\t338148.309 / 345124.449 = 1.021\n",
      "SOCIAL_PROCESSES\t 54064.611 /  58409.495 = 1.080\n",
      "AROUSAL_REGULATION\t  3595.576 /   5280.581 = 1.469\n",
      "SENSORIMOTOR_SYSTEMS\t211285.886 / 219154.205 = 1.037\n",
      "\n",
      "TOTAL\t\t\t125890.848 / 131730.092 = 1.046\n"
     ]
    }
   ],
   "source": [
    "centroid = np.mean(docs).values\n",
    "dist_ints, dist_exts, dist_rats = [], [], []\n",
    "for dom in domains:\n",
    "    dom_pmids = dom2docs[dom]\n",
    "    dom_vecs = docs.loc[dom_pmids].values\n",
    "    dom_centroid = np.mean(dom_vecs, axis=0)\n",
    "    n_docs = dom_vecs.shape[0]\n",
    "    dist_int = np.sum((dom_vecs - dom_centroid) ** 2)\n",
    "    dist_ext = np.sum((dom_vecs - centroid) ** 2)\n",
    "    ratio = dist_ext / dist_int\n",
    "    dist_ints.append(dist_int)\n",
    "    dist_exts.append(dist_ext)\n",
    "    dist_rats.append(ratio)\n",
    "    print(\"{:10s}\\t{:10.3f} / {:10.3f} = {:4.3f}\".format(\n",
    "          dom, dist_int, dist_ext, ratio))\n",
    "print(\"\")\n",
    "print(\"TOTAL\\t\\t\\t{:10.3f} / {:10.3f} = {:4.3f}\".format(\n",
    "      np.mean(dist_ints), np.mean(dist_exts), np.mean(dist_exts) / np.mean(dist_ints)))"
   ]
  },
  {
   "cell_type": "code",
   "execution_count": 28,
   "metadata": {},
   "outputs": [
    {
     "data": {
      "text/html": [
       "<div>\n",
       "<style scoped>\n",
       "    .dataframe tbody tr th:only-of-type {\n",
       "        vertical-align: middle;\n",
       "    }\n",
       "\n",
       "    .dataframe tbody tr th {\n",
       "        vertical-align: top;\n",
       "    }\n",
       "\n",
       "    .dataframe thead th {\n",
       "        text-align: right;\n",
       "    }\n",
       "</style>\n",
       "<table border=\"1\" class=\"dataframe\">\n",
       "  <thead>\n",
       "    <tr style=\"text-align: right;\">\n",
       "      <th></th>\n",
       "      <th>OBSERVED</th>\n",
       "    </tr>\n",
       "  </thead>\n",
       "  <tbody>\n",
       "    <tr>\n",
       "      <th>NEGATIVE_VALENCE</th>\n",
       "      <td>1.066949</td>\n",
       "    </tr>\n",
       "    <tr>\n",
       "      <th>POSITIVE_VALENCE</th>\n",
       "      <td>1.154160</td>\n",
       "    </tr>\n",
       "    <tr>\n",
       "      <th>COGNITIVE_SYSTEMS</th>\n",
       "      <td>1.020630</td>\n",
       "    </tr>\n",
       "    <tr>\n",
       "      <th>SOCIAL_PROCESSES</th>\n",
       "      <td>1.080365</td>\n",
       "    </tr>\n",
       "    <tr>\n",
       "      <th>AROUSAL_REGULATION</th>\n",
       "      <td>1.468633</td>\n",
       "    </tr>\n",
       "    <tr>\n",
       "      <th>SENSORIMOTOR_SYSTEMS</th>\n",
       "      <td>1.037240</td>\n",
       "    </tr>\n",
       "  </tbody>\n",
       "</table>\n",
       "</div>"
      ],
      "text/plain": [
       "                      OBSERVED\n",
       "NEGATIVE_VALENCE      1.066949\n",
       "POSITIVE_VALENCE      1.154160\n",
       "COGNITIVE_SYSTEMS     1.020630\n",
       "SOCIAL_PROCESSES      1.080365\n",
       "AROUSAL_REGULATION    1.468633\n",
       "SENSORIMOTOR_SYSTEMS  1.037240"
      ]
     },
     "execution_count": 28,
     "metadata": {},
     "output_type": "execute_result"
    }
   ],
   "source": [
    "df = pd.DataFrame({\"OBSERVED\": dist_rats}, index=domains)\n",
    "df.head(6)"
   ]
  },
  {
   "cell_type": "markdown",
   "metadata": {},
   "source": [
    "### Bootstrap distributions"
   ]
  },
  {
   "cell_type": "code",
   "execution_count": 44,
   "metadata": {},
   "outputs": [],
   "source": [
    "n_iter = 10000"
   ]
  },
  {
   "cell_type": "code",
   "execution_count": 45,
   "metadata": {
    "scrolled": true
   },
   "outputs": [
    {
     "name": "stdout",
     "output_type": "stream",
     "text": [
      "Processed 0 iterations\n",
      "Processed 1000 iterations\n",
      "Processed 2000 iterations\n",
      "Processed 3000 iterations\n",
      "Processed 4000 iterations\n",
      "Processed 5000 iterations\n",
      "Processed 6000 iterations\n",
      "Processed 7000 iterations\n",
      "Processed 8000 iterations\n",
      "Processed 9000 iterations\n"
     ]
    }
   ],
   "source": [
    "df_boot = np.empty((len(domains), n_iter))\n",
    "for n in range(n_iter):\n",
    "    boot = np.random.choice(docs.columns, size=len(docs.columns), replace=True)\n",
    "    centroid = np.mean(docs[boot]).values\n",
    "    for i, dom in enumerate(domains):\n",
    "        dom_pmids = dom2docs[dom]\n",
    "        dom_vecs = docs.loc[dom_pmids, boot].values\n",
    "        dom_centroid = np.mean(dom_vecs, axis=0).reshape(1,dom_vecs.shape[1])\n",
    "        n_docs = dom_vecs.shape[0]\n",
    "        dist_int = np.sum((dom_vecs - dom_centroid) ** 2)\n",
    "        dist_ext = np.sum((dom_vecs - centroid) ** 2)\n",
    "        df_boot[i,n] = dist_ext / dist_int\n",
    "    if n % int(n_iter / 10.0) == 0:\n",
    "        print(\"Processed {} iterations\".format(n))"
   ]
  },
  {
   "cell_type": "code",
   "execution_count": 46,
   "metadata": {},
   "outputs": [],
   "source": [
    "df_boot = pd.DataFrame(df_boot, index=domains, columns=range(n_iter))\n",
    "df_boot = df_boot.fillna(0.0)\n",
    "df_boot.to_csv(\"data/mod_boot_rdoc_domain_{}iter.csv\".format(n_iter))"
   ]
  },
  {
   "cell_type": "markdown",
   "metadata": {},
   "source": [
    "### Null distributions"
   ]
  },
  {
   "cell_type": "code",
   "execution_count": 47,
   "metadata": {
    "scrolled": true
   },
   "outputs": [
    {
     "name": "stdout",
     "output_type": "stream",
     "text": [
      "Processed 0 iterations\n",
      "Processed 1000 iterations\n",
      "Processed 2000 iterations\n",
      "Processed 3000 iterations\n",
      "Processed 4000 iterations\n",
      "Processed 5000 iterations\n",
      "Processed 6000 iterations\n",
      "Processed 7000 iterations\n",
      "Processed 8000 iterations\n",
      "Processed 9000 iterations\n"
     ]
    }
   ],
   "source": [
    "df_null = np.empty((len(domains), n_iter))\n",
    "for n in range(n_iter):\n",
    "    null = np.random.choice(range(docs.shape[1]), size=docs.shape[1], replace=False)\n",
    "    centroid = np.mean(docs)[null].values\n",
    "    for i, dom in enumerate(domains):\n",
    "        dom_pmids = dom2docs[dom]\n",
    "        dom_vecs = docs.loc[dom_pmids].values\n",
    "        dom_centroid = np.mean(dom_vecs, axis=0)[null]\n",
    "        n_docs = dom_vecs.shape[0]\n",
    "        dist_int = np.sum((dom_vecs - dom_centroid) ** 2)\n",
    "        dist_ext = np.sum((dom_vecs - centroid) ** 2)\n",
    "        df_null[i,n] = dist_ext / dist_int\n",
    "    if n % int(n_iter / 10.0) == 0:\n",
    "        print(\"Processed {} iterations\".format(n))"
   ]
  },
  {
   "cell_type": "code",
   "execution_count": 48,
   "metadata": {},
   "outputs": [],
   "source": [
    "df_null = pd.DataFrame(df_null, index=domains, columns=range(n_iter))\n",
    "df_null.to_csv(\"data/mod_null_rdoc_domain_{}iter.csv\".format(n_iter))"
   ]
  },
  {
   "cell_type": "markdown",
   "metadata": {},
   "source": [
    "### Comparison tests"
   ]
  },
  {
   "cell_type": "code",
   "execution_count": 49,
   "metadata": {},
   "outputs": [],
   "source": [
    "from statsmodels.stats import multitest"
   ]
  },
  {
   "cell_type": "code",
   "execution_count": 50,
   "metadata": {},
   "outputs": [
    {
     "data": {
      "text/html": [
       "<div>\n",
       "<style scoped>\n",
       "    .dataframe tbody tr th:only-of-type {\n",
       "        vertical-align: middle;\n",
       "    }\n",
       "\n",
       "    .dataframe tbody tr th {\n",
       "        vertical-align: top;\n",
       "    }\n",
       "\n",
       "    .dataframe thead th {\n",
       "        text-align: right;\n",
       "    }\n",
       "</style>\n",
       "<table border=\"1\" class=\"dataframe\">\n",
       "  <thead>\n",
       "    <tr style=\"text-align: right;\">\n",
       "      <th></th>\n",
       "      <th>OBSERVED</th>\n",
       "      <th>P</th>\n",
       "      <th>P_COR</th>\n",
       "      <th>STARS</th>\n",
       "    </tr>\n",
       "  </thead>\n",
       "  <tbody>\n",
       "    <tr>\n",
       "      <th>NEGATIVE_VALENCE</th>\n",
       "      <td>1.066949</td>\n",
       "      <td>0.0000</td>\n",
       "      <td>0.00000</td>\n",
       "      <td>***</td>\n",
       "    </tr>\n",
       "    <tr>\n",
       "      <th>POSITIVE_VALENCE</th>\n",
       "      <td>1.154160</td>\n",
       "      <td>0.0003</td>\n",
       "      <td>0.00036</td>\n",
       "      <td>***</td>\n",
       "    </tr>\n",
       "    <tr>\n",
       "      <th>COGNITIVE_SYSTEMS</th>\n",
       "      <td>1.020630</td>\n",
       "      <td>0.0000</td>\n",
       "      <td>0.00000</td>\n",
       "      <td>***</td>\n",
       "    </tr>\n",
       "    <tr>\n",
       "      <th>SOCIAL_PROCESSES</th>\n",
       "      <td>1.080365</td>\n",
       "      <td>0.0000</td>\n",
       "      <td>0.00000</td>\n",
       "      <td>***</td>\n",
       "    </tr>\n",
       "    <tr>\n",
       "      <th>AROUSAL_REGULATION</th>\n",
       "      <td>1.468633</td>\n",
       "      <td>0.0562</td>\n",
       "      <td>0.05620</td>\n",
       "      <td>*</td>\n",
       "    </tr>\n",
       "    <tr>\n",
       "      <th>SENSORIMOTOR_SYSTEMS</th>\n",
       "      <td>1.037240</td>\n",
       "      <td>0.0000</td>\n",
       "      <td>0.00000</td>\n",
       "      <td>***</td>\n",
       "    </tr>\n",
       "  </tbody>\n",
       "</table>\n",
       "</div>"
      ],
      "text/plain": [
       "                      OBSERVED       P    P_COR STARS\n",
       "NEGATIVE_VALENCE      1.066949  0.0000  0.00000   ***\n",
       "POSITIVE_VALENCE      1.154160  0.0003  0.00036   ***\n",
       "COGNITIVE_SYSTEMS     1.020630  0.0000  0.00000   ***\n",
       "SOCIAL_PROCESSES      1.080365  0.0000  0.00000   ***\n",
       "AROUSAL_REGULATION    1.468633  0.0562  0.05620     *\n",
       "SENSORIMOTOR_SYSTEMS  1.037240  0.0000  0.00000   ***"
      ]
     },
     "execution_count": 50,
     "metadata": {},
     "output_type": "execute_result"
    }
   ],
   "source": [
    "pval = []\n",
    "for dom in domains:   \n",
    "    dom_boot = df_boot.loc[dom].values\n",
    "    dom_null = df_null.loc[dom].values\n",
    "    p = np.sum(np.less(dom_boot, np.max(dom_null))) / float(n_iter)\n",
    "    pval.append(p)\n",
    "    df.loc[dom, \"P\"] = p\n",
    "df[\"P_COR\"] = multitest.multipletests(pval, method=\"fdr_bh\")[1]\n",
    "for dom in domains:\n",
    "    for star, alpha in zip([\"*\", \"**\", \"***\"], [0.05, 0.01, 0.001]):\n",
    "        if df.loc[dom, \"P_COR\"] < alpha:\n",
    "            df.loc[dom, \"STARS\"] = star\n",
    "df = df.loc[domains, [\"OBSERVED\", \"P\", \"P_COR\", \"STARS\"]]\n",
    "df"
   ]
  },
  {
   "cell_type": "markdown",
   "metadata": {},
   "source": [
    "### Violin plots"
   ]
  },
  {
   "cell_type": "code",
   "execution_count": 51,
   "metadata": {},
   "outputs": [],
   "source": [
    "import matplotlib.pyplot as plt\n",
    "from matplotlib import cm, font_manager, rcParams\n",
    "import warnings\n",
    "warnings.simplefilter(\"ignore\", UserWarning)\n",
    "% matplotlib inline"
   ]
  },
  {
   "cell_type": "code",
   "execution_count": 52,
   "metadata": {},
   "outputs": [],
   "source": [
    "df_boot = pd.read_csv(\"data/mod_boot_rdoc_domain_{}iter.csv\".format(n_iter), index_col=0)\n",
    "df_null = pd.read_csv(\"data/mod_null_rdoc_domain_{}iter.csv\".format(n_iter), index_col=0)"
   ]
  },
  {
   "cell_type": "code",
   "execution_count": 53,
   "metadata": {},
   "outputs": [],
   "source": [
    "arial = \"../style/Arial Unicode.ttf\"\n",
    "prop = font_manager.FontProperties(fname=arial, size=20)\n",
    "prop_lg = font_manager.FontProperties(fname=arial, size=24)\n",
    "rcParams[\"axes.linewidth\"] = 1.5"
   ]
  },
  {
   "cell_type": "code",
   "execution_count": 54,
   "metadata": {},
   "outputs": [],
   "source": [
    "palette = [\"#778AA3\", \"#CE7D69\", \"#77B58A\", \"#7D74A3\", \"#CEBE6D\", \"#BA7E39\"]"
   ]
  },
  {
   "cell_type": "code",
   "execution_count": 73,
   "metadata": {},
   "outputs": [
    {
     "data": {
      "image/png": "[encoded data removed]",
      "text/plain": [
       "<Figure size 324x151.2 with 1 Axes>"
      ]
     },
     "metadata": {
      "needs_background": "light"
     },
     "output_type": "display_data"
    }
   ],
   "source": [
    "# Set up figure\n",
    "fig = plt.figure(figsize=(4.5, 2.1))\n",
    "ax = fig.add_axes([0,0,1,1])\n",
    "\n",
    "for i, dom in enumerate(domains):\n",
    "    \n",
    "    # Null distribution\n",
    "    data = sorted(df_null.iloc[i])\n",
    "    obs = np.mean(data)\n",
    "    plt.plot([i-0.39, i+0.39], [obs, obs], \n",
    "             c=\"#999999\", alpha=0.7, lw=2)\n",
    "    v = ax.violinplot(data, positions=[i], \n",
    "                      showmeans=False, showmedians=False, widths=0.85)\n",
    "    for pc in v[\"bodies\"]:\n",
    "        pc.set_facecolor(\"#d8d8d8\")\n",
    "        pc.set_edgecolor(\"#6d6d6d\")\n",
    "        pc.set_linewidth(1.25)\n",
    "        pc.set_alpha(0.5)\n",
    "    for line in [\"cmaxes\", \"cmins\", \"cbars\"]:\n",
    "        v[line].set_edgecolor(\"none\")\n",
    "\n",
    "    # Bootstrap distribution\n",
    "    data = sorted(df_boot.iloc[i])\n",
    "    obs = df[\"OBSERVED\"][i]\n",
    "    plt.plot([i-0.39, i+0.39], [obs, obs], \n",
    "             c=palette[i], alpha=1, lw=2)\n",
    "    v = ax.violinplot(data, positions=[i], \n",
    "                      showmeans=False, showmedians=False, widths=0.85)\n",
    "    for pc in v[\"bodies\"]:\n",
    "        pc.set_facecolor(palette[i])\n",
    "        pc.set_edgecolor(palette[i])\n",
    "        pc.set_linewidth(1.25)\n",
    "        pc.set_alpha(0.55)\n",
    "    for line in [\"cmaxes\", \"cmins\", \"cbars\"]:\n",
    "        v[line].set_edgecolor(\"none\")\n",
    "    \n",
    "    # Comparison test\n",
    "    for alpha, dy in [(0.05, 0), (0.01, 0.06), (0.001, 0.12)]:\n",
    "        if df.loc[dom, \"P_COR\"] <= alpha:\n",
    "            plt.text(i-0.095, max(data) + dy, \"*\", fontproperties=prop_lg)\n",
    "    \n",
    "plt.plot([-1,len(ordered_doms)], [1, 1], \n",
    "         linestyle=\"dashed\", c=\"k\", alpha=1, linewidth=2)\n",
    "\n",
    "# Set plot parameters\n",
    "plt.xticks([])\n",
    "plt.yticks([1,1.25,1.5,1.75], fontproperties=prop)\n",
    "plt.xlim([-0.75, len(ordered_doms)-0.35])\n",
    "plt.ylim([0.85, 1.75])\n",
    "for side in [\"right\", \"top\", \"bottom\"]:\n",
    "    ax.spines[side].set_visible(False)\n",
    "ax.xaxis.set_tick_params(width=1.5, length=0)\n",
    "ax.yaxis.set_tick_params(width=1.5, length=7)\n",
    "\n",
    "# Export figure\n",
    "plt.savefig(\"figures/dist_ratios_rdoc_domain_{}iter.png\".format(n_iter), dpi=250, bbox_inches=\"tight\")\n",
    "plt.show()"
   ]
  },
  {
   "cell_type": "code",
   "execution_count": null,
   "metadata": {},
   "outputs": [],
   "source": []
  }
 ],
 "metadata": {
  "kernelspec": {
   "display_name": "Python (RDoC)",
   "language": "python",
   "name": "rdoc"
  },
  "language_info": {
   "codemirror_mode": {
    "name": "ipython",
    "version": 2
   },
   "file_extension": ".py",
   "mimetype": "text/x-python",
   "name": "python",
   "nbconvert_exporter": "python",
   "pygments_lexer": "ipython2",
   "version": "2.7.15"
  }
 },
 "nbformat": 4,
 "nbformat_minor": 2
}
