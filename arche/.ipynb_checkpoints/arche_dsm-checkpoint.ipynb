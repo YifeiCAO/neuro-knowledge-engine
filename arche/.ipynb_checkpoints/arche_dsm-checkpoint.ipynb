{
 "cells": [
  {
   "cell_type": "markdown",
   "metadata": {},
   "source": [
    "# Similarity to system archetypes\n",
    "\n",
    "## Load the text and brain activation data"
   ]
  },
  {
   "cell_type": "code",
   "execution_count": 1,
   "metadata": {},
   "outputs": [],
   "source": [
    "import pandas as pd\n",
    "import numpy as np\n",
    "from sklearn.preprocessing import binarize\n",
    "from collections import OrderedDict"
   ]
  },
  {
   "cell_type": "code",
   "execution_count": 2,
   "metadata": {},
   "outputs": [
    {
     "data": {
      "text/plain": [
       "0.2984103746007817"
      ]
     },
     "execution_count": 2,
     "metadata": {},
     "output_type": "execute_result"
    }
   ],
   "source": [
    "atlas_labels = pd.read_csv(\"../data/atlases/harvard-oxford.csv\")\n",
    "act_bin = pd.read_csv(\"../data/dcm_0mm_thres0.csv\", index_col=0) # Previously binarized\n",
    "act_bin = act_bin[atlas_labels[\"PREPROCESSED\"]]\n",
    "act_bin.mean().mean()"
   ]
  },
  {
   "cell_type": "code",
   "execution_count": 3,
   "metadata": {},
   "outputs": [],
   "source": [
    "def mean_thres(df):\n",
    "    col_mean = df.mean()\n",
    "    df_bin = np.empty((df.shape[0], df.shape[1]))\n",
    "    i = 0\n",
    "    for col, doc_mean in col_mean.iteritems():\n",
    "        df_bin[:,i] = 1 * (df[col] > doc_mean)\n",
    "        i += 1\n",
    "    df_bin = pd.DataFrame(df_bin, columns=df.columns, index=df.index)\n",
    "    return df_bin"
   ]
  },
  {
   "cell_type": "code",
   "execution_count": 4,
   "metadata": {},
   "outputs": [
    {
     "data": {
      "text/plain": [
       "0.018405182706581442"
      ]
     },
     "execution_count": 4,
     "metadata": {},
     "output_type": "execute_result"
    }
   ],
   "source": [
    "dtm = pd.read_csv(\"../data/dtm_190325.csv.gz\", compression=\"gzip\", index_col=0)\n",
    "dtm_bin = mean_thres(dtm)\n",
    "dtm_bin.mean().mean()"
   ]
  },
  {
   "cell_type": "code",
   "execution_count": 5,
   "metadata": {},
   "outputs": [],
   "source": [
    "def score_lists(lists, dtm, label_var=\"LABEL\"):\n",
    "    dtm = pd.DataFrame(binarize(dtm, threshold=0), index=dtm.index, columns=dtm.columns)\n",
    "    labels = OrderedDict.fromkeys(lists[label_var])\n",
    "    list_counts = pd.DataFrame(index=dtm.index, columns=labels)\n",
    "    for label in list_counts.columns:\n",
    "        tkns = lists.loc[lists[label_var] == label, \"TOKEN\"]\n",
    "        tkns = [token for token in tkns if token in dtm.columns]\n",
    "        list_counts[label] = dtm[tkns].sum(axis=1)\n",
    "    list_scores = mean_thres(list_counts)\n",
    "    return list_scores"
   ]
  },
  {
   "cell_type": "code",
   "execution_count": 6,
   "metadata": {},
   "outputs": [],
   "source": [
    "dom_lists = pd.read_csv(\"../lists/lists/lists_dsm_class_opsim.csv\", index_col=None)"
   ]
  },
  {
   "cell_type": "code",
   "execution_count": 7,
   "metadata": {},
   "outputs": [],
   "source": [
    "words = sorted(list(set(dom_lists[\"TOKEN\"])))\n",
    "structures = sorted(list(act_bin.columns))\n",
    "domains = list(OrderedDict.fromkeys(dom_lists[\"CLASS\"]))"
   ]
  },
  {
   "cell_type": "code",
   "execution_count": 8,
   "metadata": {},
   "outputs": [],
   "source": [
    "dom_scores = score_lists(dom_lists, dtm_bin, label_var=\"CLASS\")"
   ]
  },
  {
   "cell_type": "markdown",
   "metadata": {},
   "source": [
    "## Load the brain systems"
   ]
  },
  {
   "cell_type": "code",
   "execution_count": 9,
   "metadata": {},
   "outputs": [],
   "source": [
    "from scipy.stats import pointbiserialr"
   ]
  },
  {
   "cell_type": "code",
   "execution_count": 10,
   "metadata": {},
   "outputs": [
    {
     "data": {
      "text/plain": [
       "18155"
      ]
     },
     "execution_count": 10,
     "metadata": {},
     "output_type": "execute_result"
    }
   ],
   "source": [
    "pmids = dom_scores.index.intersection(act_bin.index)\n",
    "len(pmids)"
   ]
  },
  {
   "cell_type": "code",
   "execution_count": 11,
   "metadata": {},
   "outputs": [],
   "source": [
    "dom_scores = dom_scores.loc[pmids]\n",
    "act_bin = act_bin.loc[pmids]"
   ]
  },
  {
   "cell_type": "code",
   "execution_count": 12,
   "metadata": {},
   "outputs": [],
   "source": [
    "dom_circuits = pd.DataFrame(0.0, index=structures, columns=domains)\n",
    "for dom in domains:\n",
    "    for struct in structures:\n",
    "        r, p = pointbiserialr(dom_scores[dom], act_bin[struct])\n",
    "        if r > 0 and p < 1e-2:\n",
    "            dom_circuits.loc[struct, dom] = 1.0"
   ]
  },
  {
   "cell_type": "code",
   "execution_count": 13,
   "metadata": {},
   "outputs": [],
   "source": [
    "dom_systems = pd.DataFrame(0.0, index=words+structures, columns=domains)\n",
    "for dom in domains:\n",
    "    for word in dom_lists.loc[dom_lists[\"CLASS\"] == dom, \"TOKEN\"]:\n",
    "        dom_systems.loc[word, dom] = 1.0\n",
    "    for struct in structures:\n",
    "        dom_systems.loc[struct, dom] = dom_circuits.loc[struct, dom]\n",
    "dom_systems[dom_systems > 0.0] = 1.0"
   ]
  },
  {
   "cell_type": "markdown",
   "metadata": {},
   "source": [
    "## Load document assignments"
   ]
  },
  {
   "cell_type": "code",
   "execution_count": 14,
   "metadata": {},
   "outputs": [],
   "source": [
    "dtm_words = dtm_bin.loc[pmids, words]\n",
    "act_structs = act_bin.loc[pmids, structures]"
   ]
  },
  {
   "cell_type": "code",
   "execution_count": 15,
   "metadata": {},
   "outputs": [
    {
     "data": {
      "text/html": [
       "<div>\n",
       "<style scoped>\n",
       "    .dataframe tbody tr th:only-of-type {\n",
       "        vertical-align: middle;\n",
       "    }\n",
       "\n",
       "    .dataframe tbody tr th {\n",
       "        vertical-align: top;\n",
       "    }\n",
       "\n",
       "    .dataframe thead th {\n",
       "        text-align: right;\n",
       "    }\n",
       "</style>\n",
       "<table border=\"1\" class=\"dataframe\">\n",
       "  <thead>\n",
       "    <tr style=\"text-align: right;\">\n",
       "      <th></th>\n",
       "      <th>acute_stress_disorder</th>\n",
       "      <th>adhd</th>\n",
       "      <th>adjustment_disorder</th>\n",
       "      <th>affective_disorder</th>\n",
       "      <th>agoraphobia</th>\n",
       "      <th>anxiety_disorder</th>\n",
       "      <th>asperger_disorder</th>\n",
       "      <th>attention_deficit_disorder</th>\n",
       "      <th>attention_deficit_hyperactivity_disorder</th>\n",
       "      <th>attention_deficithyperactivity_disorder</th>\n",
       "      <th>...</th>\n",
       "      <th>right_superior_temporal_gyrus_posterior_division</th>\n",
       "      <th>right_supplementary_motor_cortex</th>\n",
       "      <th>right_supracalcarine_cortex</th>\n",
       "      <th>right_supramarginal_gyrus_anterior_division</th>\n",
       "      <th>right_supramarginal_gyrus_posterior_division</th>\n",
       "      <th>right_temporal_fusiform_cortex_anterior_division</th>\n",
       "      <th>right_temporal_fusiform_cortex_posterior_division</th>\n",
       "      <th>right_temporal_occipital_fusiform_cortex</th>\n",
       "      <th>right_temporal_pole</th>\n",
       "      <th>right_thalamus</th>\n",
       "    </tr>\n",
       "  </thead>\n",
       "  <tbody>\n",
       "    <tr>\n",
       "      <th>10022492</th>\n",
       "      <td>0.0</td>\n",
       "      <td>0.0</td>\n",
       "      <td>0.0</td>\n",
       "      <td>0.0</td>\n",
       "      <td>0.0</td>\n",
       "      <td>0.0</td>\n",
       "      <td>0.0</td>\n",
       "      <td>0.0</td>\n",
       "      <td>0.0</td>\n",
       "      <td>0.0</td>\n",
       "      <td>...</td>\n",
       "      <td>0</td>\n",
       "      <td>1</td>\n",
       "      <td>0</td>\n",
       "      <td>1</td>\n",
       "      <td>0</td>\n",
       "      <td>0</td>\n",
       "      <td>0</td>\n",
       "      <td>0</td>\n",
       "      <td>0</td>\n",
       "      <td>1</td>\n",
       "    </tr>\n",
       "    <tr>\n",
       "      <th>10022494</th>\n",
       "      <td>0.0</td>\n",
       "      <td>0.0</td>\n",
       "      <td>0.0</td>\n",
       "      <td>0.0</td>\n",
       "      <td>0.0</td>\n",
       "      <td>0.0</td>\n",
       "      <td>0.0</td>\n",
       "      <td>0.0</td>\n",
       "      <td>0.0</td>\n",
       "      <td>0.0</td>\n",
       "      <td>...</td>\n",
       "      <td>1</td>\n",
       "      <td>1</td>\n",
       "      <td>1</td>\n",
       "      <td>1</td>\n",
       "      <td>0</td>\n",
       "      <td>0</td>\n",
       "      <td>0</td>\n",
       "      <td>1</td>\n",
       "      <td>0</td>\n",
       "      <td>0</td>\n",
       "    </tr>\n",
       "    <tr>\n",
       "      <th>10022496</th>\n",
       "      <td>0.0</td>\n",
       "      <td>0.0</td>\n",
       "      <td>0.0</td>\n",
       "      <td>0.0</td>\n",
       "      <td>0.0</td>\n",
       "      <td>0.0</td>\n",
       "      <td>0.0</td>\n",
       "      <td>0.0</td>\n",
       "      <td>0.0</td>\n",
       "      <td>0.0</td>\n",
       "      <td>...</td>\n",
       "      <td>1</td>\n",
       "      <td>0</td>\n",
       "      <td>0</td>\n",
       "      <td>0</td>\n",
       "      <td>1</td>\n",
       "      <td>0</td>\n",
       "      <td>0</td>\n",
       "      <td>0</td>\n",
       "      <td>0</td>\n",
       "      <td>0</td>\n",
       "    </tr>\n",
       "    <tr>\n",
       "      <th>10027301</th>\n",
       "      <td>0.0</td>\n",
       "      <td>0.0</td>\n",
       "      <td>0.0</td>\n",
       "      <td>0.0</td>\n",
       "      <td>0.0</td>\n",
       "      <td>0.0</td>\n",
       "      <td>0.0</td>\n",
       "      <td>0.0</td>\n",
       "      <td>0.0</td>\n",
       "      <td>0.0</td>\n",
       "      <td>...</td>\n",
       "      <td>0</td>\n",
       "      <td>0</td>\n",
       "      <td>0</td>\n",
       "      <td>0</td>\n",
       "      <td>0</td>\n",
       "      <td>0</td>\n",
       "      <td>0</td>\n",
       "      <td>1</td>\n",
       "      <td>0</td>\n",
       "      <td>0</td>\n",
       "    </tr>\n",
       "    <tr>\n",
       "      <th>10051677</th>\n",
       "      <td>0.0</td>\n",
       "      <td>0.0</td>\n",
       "      <td>0.0</td>\n",
       "      <td>0.0</td>\n",
       "      <td>0.0</td>\n",
       "      <td>0.0</td>\n",
       "      <td>0.0</td>\n",
       "      <td>0.0</td>\n",
       "      <td>0.0</td>\n",
       "      <td>0.0</td>\n",
       "      <td>...</td>\n",
       "      <td>0</td>\n",
       "      <td>0</td>\n",
       "      <td>0</td>\n",
       "      <td>0</td>\n",
       "      <td>1</td>\n",
       "      <td>0</td>\n",
       "      <td>1</td>\n",
       "      <td>0</td>\n",
       "      <td>1</td>\n",
       "      <td>1</td>\n",
       "    </tr>\n",
       "  </tbody>\n",
       "</table>\n",
       "<p>5 rows × 207 columns</p>\n",
       "</div>"
      ],
      "text/plain": [
       "          acute_stress_disorder  adhd  adjustment_disorder  \\\n",
       "10022492                    0.0   0.0                  0.0   \n",
       "10022494                    0.0   0.0                  0.0   \n",
       "10022496                    0.0   0.0                  0.0   \n",
       "10027301                    0.0   0.0                  0.0   \n",
       "10051677                    0.0   0.0                  0.0   \n",
       "\n",
       "          affective_disorder  agoraphobia  anxiety_disorder  \\\n",
       "10022492                 0.0          0.0               0.0   \n",
       "10022494                 0.0          0.0               0.0   \n",
       "10022496                 0.0          0.0               0.0   \n",
       "10027301                 0.0          0.0               0.0   \n",
       "10051677                 0.0          0.0               0.0   \n",
       "\n",
       "          asperger_disorder  attention_deficit_disorder  \\\n",
       "10022492                0.0                         0.0   \n",
       "10022494                0.0                         0.0   \n",
       "10022496                0.0                         0.0   \n",
       "10027301                0.0                         0.0   \n",
       "10051677                0.0                         0.0   \n",
       "\n",
       "          attention_deficit_hyperactivity_disorder  \\\n",
       "10022492                                       0.0   \n",
       "10022494                                       0.0   \n",
       "10022496                                       0.0   \n",
       "10027301                                       0.0   \n",
       "10051677                                       0.0   \n",
       "\n",
       "          attention_deficithyperactivity_disorder  ...  \\\n",
       "10022492                                      0.0  ...   \n",
       "10022494                                      0.0  ...   \n",
       "10022496                                      0.0  ...   \n",
       "10027301                                      0.0  ...   \n",
       "10051677                                      0.0  ...   \n",
       "\n",
       "          right_superior_temporal_gyrus_posterior_division  \\\n",
       "10022492                                                 0   \n",
       "10022494                                                 1   \n",
       "10022496                                                 1   \n",
       "10027301                                                 0   \n",
       "10051677                                                 0   \n",
       "\n",
       "          right_supplementary_motor_cortex  right_supracalcarine_cortex  \\\n",
       "10022492                                 1                            0   \n",
       "10022494                                 1                            1   \n",
       "10022496                                 0                            0   \n",
       "10027301                                 0                            0   \n",
       "10051677                                 0                            0   \n",
       "\n",
       "          right_supramarginal_gyrus_anterior_division  \\\n",
       "10022492                                            1   \n",
       "10022494                                            1   \n",
       "10022496                                            0   \n",
       "10027301                                            0   \n",
       "10051677                                            0   \n",
       "\n",
       "          right_supramarginal_gyrus_posterior_division  \\\n",
       "10022492                                             0   \n",
       "10022494                                             0   \n",
       "10022496                                             1   \n",
       "10027301                                             0   \n",
       "10051677                                             1   \n",
       "\n",
       "          right_temporal_fusiform_cortex_anterior_division  \\\n",
       "10022492                                                 0   \n",
       "10022494                                                 0   \n",
       "10022496                                                 0   \n",
       "10027301                                                 0   \n",
       "10051677                                                 0   \n",
       "\n",
       "          right_temporal_fusiform_cortex_posterior_division  \\\n",
       "10022492                                                  0   \n",
       "10022494                                                  0   \n",
       "10022496                                                  0   \n",
       "10027301                                                  0   \n",
       "10051677                                                  1   \n",
       "\n",
       "          right_temporal_occipital_fusiform_cortex  right_temporal_pole  \\\n",
       "10022492                                         0                    0   \n",
       "10022494                                         1                    0   \n",
       "10022496                                         0                    0   \n",
       "10027301                                         1                    0   \n",
       "10051677                                         0                    1   \n",
       "\n",
       "          right_thalamus  \n",
       "10022492               1  \n",
       "10022494               0  \n",
       "10022496               0  \n",
       "10027301               0  \n",
       "10051677               1  \n",
       "\n",
       "[5 rows x 207 columns]"
      ]
     },
     "execution_count": 15,
     "metadata": {},
     "output_type": "execute_result"
    }
   ],
   "source": [
    "docs = dtm_words.copy()\n",
    "docs[structures] = act_structs.copy()\n",
    "docs.head()"
   ]
  },
  {
   "cell_type": "code",
   "execution_count": 16,
   "metadata": {},
   "outputs": [],
   "source": [
    "doc2dom_df = pd.read_csv(\"../mod/data/doc2dom_dsm_class.csv\", header=None, index_col=0)\n",
    "doc2dom = {int(pmid): int(dom) for pmid, dom in doc2dom_df.iterrows()}"
   ]
  },
  {
   "cell_type": "code",
   "execution_count": 17,
   "metadata": {},
   "outputs": [],
   "source": [
    "dom2docs = {dom: [] for dom in domains}\n",
    "for doc, dom in doc2dom.iteritems():\n",
    "    dom2docs[domains[dom-1]].append(doc)"
   ]
  },
  {
   "cell_type": "markdown",
   "metadata": {},
   "source": [
    "## Compute similarity to archetype"
   ]
  },
  {
   "cell_type": "code",
   "execution_count": 18,
   "metadata": {},
   "outputs": [],
   "source": [
    "from scipy.spatial.distance import cdist"
   ]
  },
  {
   "cell_type": "code",
   "execution_count": 19,
   "metadata": {},
   "outputs": [],
   "source": [
    "sims = []\n",
    "for dom in domains:\n",
    "    dom_pmids = dom2docs[dom]\n",
    "    dom_vecs = docs.loc[dom_pmids].values\n",
    "    dom_arche = dom_systems[dom].values.reshape(1, dom_systems.shape[0])\n",
    "    dom_sims = 1.0 - np.mean(cdist(dom_vecs, dom_arche, metric=\"dice\"))\n",
    "    sims.append(dom_sims)"
   ]
  },
  {
   "cell_type": "code",
   "execution_count": 20,
   "metadata": {},
   "outputs": [
    {
     "data": {
      "text/html": [
       "<div>\n",
       "<style scoped>\n",
       "    .dataframe tbody tr th:only-of-type {\n",
       "        vertical-align: middle;\n",
       "    }\n",
       "\n",
       "    .dataframe tbody tr th {\n",
       "        vertical-align: top;\n",
       "    }\n",
       "\n",
       "    .dataframe thead th {\n",
       "        text-align: right;\n",
       "    }\n",
       "</style>\n",
       "<table border=\"1\" class=\"dataframe\">\n",
       "  <thead>\n",
       "    <tr style=\"text-align: right;\">\n",
       "      <th></th>\n",
       "      <th>OBSERVED</th>\n",
       "    </tr>\n",
       "  </thead>\n",
       "  <tbody>\n",
       "    <tr>\n",
       "      <th>DEVELOPMENTAL</th>\n",
       "      <td>0.089252</td>\n",
       "    </tr>\n",
       "    <tr>\n",
       "      <th>PSYCHOTIC</th>\n",
       "      <td>0.216208</td>\n",
       "    </tr>\n",
       "    <tr>\n",
       "      <th>BIPOLAR</th>\n",
       "      <td>0.117278</td>\n",
       "    </tr>\n",
       "    <tr>\n",
       "      <th>DEPRESSIVE</th>\n",
       "      <td>0.221289</td>\n",
       "    </tr>\n",
       "    <tr>\n",
       "      <th>ANXIETY</th>\n",
       "      <td>0.252961</td>\n",
       "    </tr>\n",
       "    <tr>\n",
       "      <th>OBSESSIVE_COMPULSIVE</th>\n",
       "      <td>0.156939</td>\n",
       "    </tr>\n",
       "    <tr>\n",
       "      <th>TRAUMA_STRESSOR</th>\n",
       "      <td>0.228655</td>\n",
       "    </tr>\n",
       "    <tr>\n",
       "      <th>COGNITIVE</th>\n",
       "      <td>0.040762</td>\n",
       "    </tr>\n",
       "  </tbody>\n",
       "</table>\n",
       "</div>"
      ],
      "text/plain": [
       "                      OBSERVED\n",
       "DEVELOPMENTAL         0.089252\n",
       "PSYCHOTIC             0.216208\n",
       "BIPOLAR               0.117278\n",
       "DEPRESSIVE            0.221289\n",
       "ANXIETY               0.252961\n",
       "OBSESSIVE_COMPULSIVE  0.156939\n",
       "TRAUMA_STRESSOR       0.228655\n",
       "COGNITIVE             0.040762"
      ]
     },
     "execution_count": 20,
     "metadata": {},
     "output_type": "execute_result"
    }
   ],
   "source": [
    "df = pd.DataFrame({\"OBSERVED\": sims}, index=domains)\n",
    "df.head(8)"
   ]
  },
  {
   "cell_type": "markdown",
   "metadata": {},
   "source": [
    "### Bootstrap distributions"
   ]
  },
  {
   "cell_type": "code",
   "execution_count": 21,
   "metadata": {},
   "outputs": [],
   "source": [
    "n_iter = 10000"
   ]
  },
  {
   "cell_type": "code",
   "execution_count": 23,
   "metadata": {},
   "outputs": [
    {
     "name": "stdout",
     "output_type": "stream",
     "text": [
      "Processed 1000 iterations\n",
      "Processed 2000 iterations\n",
      "Processed 3000 iterations\n",
      "Processed 4000 iterations\n",
      "Processed 5000 iterations\n",
      "Processed 6000 iterations\n",
      "Processed 7000 iterations\n",
      "Processed 8000 iterations\n",
      "Processed 9000 iterations\n"
     ]
    }
   ],
   "source": [
    "df_boot = np.zeros((len(domains), n_iter))\n",
    "for n in range(n_iter):\n",
    "    boot = np.random.choice(range(len(docs.columns)), size=len(docs.columns), replace=True)\n",
    "    for i, dom in enumerate(domains):\n",
    "        dom_pmids = dom2docs[dom]\n",
    "        dom_vecs = docs.loc[dom_pmids].values[:,boot]\n",
    "        dom_arche = dom_systems.values[boot,i].reshape(1, dom_systems.shape[0])\n",
    "        df_boot[i,n] = 1.0 - np.mean(cdist(dom_vecs, dom_arche, metric=\"dice\"))\n",
    "    if n % int(n_iter / 10.0) == 0:\n",
    "        print(\"Processed {} iterations\".format(n))"
   ]
  },
  {
   "cell_type": "code",
   "execution_count": 24,
   "metadata": {},
   "outputs": [],
   "source": [
    "df_boot = pd.DataFrame(df_boot, index=domains, columns=range(n_iter))\n",
    "df_boot = df_boot.fillna(0.0)\n",
    "df_boot.to_csv(\"data/arche_boot_dsm_class_{}iter.csv\".format(n_iter))"
   ]
  },
  {
   "cell_type": "markdown",
   "metadata": {},
   "source": [
    "### Null distributions"
   ]
  },
  {
   "cell_type": "code",
   "execution_count": 25,
   "metadata": {},
   "outputs": [
    {
     "name": "stdout",
     "output_type": "stream",
     "text": [
      "Processed 1000 iterations\n",
      "Processed 2000 iterations\n",
      "Processed 3000 iterations\n",
      "Processed 4000 iterations\n",
      "Processed 5000 iterations\n",
      "Processed 6000 iterations\n",
      "Processed 7000 iterations\n",
      "Processed 8000 iterations\n",
      "Processed 9000 iterations\n"
     ]
    }
   ],
   "source": [
    "df_null = np.zeros((len(domains), n_iter))\n",
    "for n in range(n_iter):\n",
    "    null = np.random.choice(range(len(docs.columns)), size=len(docs.columns), replace=False)\n",
    "    for i, dom in enumerate(domains):\n",
    "        dom_pmids = dom2docs[dom]\n",
    "        dom_vecs = docs.loc[dom_pmids].values\n",
    "        dom_arche = dom_systems.values[null,i].reshape(1, dom_systems.shape[0])\n",
    "        df_null[i,n] = 1.0 - np.mean(cdist(dom_vecs, dom_arche, metric=\"dice\"))\n",
    "    if n % int(n_iter / 10.0) == 0:\n",
    "        print(\"Processed {} iterations\".format(n))"
   ]
  },
  {
   "cell_type": "code",
   "execution_count": 26,
   "metadata": {},
   "outputs": [],
   "source": [
    "df_null = pd.DataFrame(df_null, index=domains, columns=range(n_iter))\n",
    "df_null.to_csv(\"data/arche_null_dsm_class_{}iter.csv\".format(n_iter))"
   ]
  },
  {
   "cell_type": "markdown",
   "metadata": {},
   "source": [
    "### Confidence intervals"
   ]
  },
  {
   "cell_type": "code",
   "execution_count": 22,
   "metadata": {},
   "outputs": [],
   "source": [
    "from statsmodels.stats import multitest"
   ]
  },
  {
   "cell_type": "code",
   "execution_count": 23,
   "metadata": {},
   "outputs": [],
   "source": [
    "df_boot = pd.read_csv(\"data/arche_boot_dsm_class_{}iter.csv\".format(n_iter), index_col=0)\n",
    "df_null = pd.read_csv(\"data/arche_null_dsm_class_{}iter.csv\".format(n_iter), index_col=0)"
   ]
  },
  {
   "cell_type": "code",
   "execution_count": 24,
   "metadata": {},
   "outputs": [
    {
     "name": "stderr",
     "output_type": "stream",
     "text": [
      "/Users/ehbeam/anaconda/envs/rdoc/lib/python2.7/site-packages/pandas/core/indexing.py:1494: FutureWarning: \n",
      "Passing list-likes to .loc or [] with any missing label will raise\n",
      "KeyError in the future, you can use .reindex() as an alternative.\n",
      "\n",
      "See the documentation here:\n",
      "https://pandas.pydata.org/pandas-docs/stable/indexing.html#deprecate-loc-reindex-listlike\n",
      "  return self._getitem_tuple(key)\n"
     ]
    },
    {
     "data": {
      "text/html": [
       "<div>\n",
       "<style scoped>\n",
       "    .dataframe tbody tr th:only-of-type {\n",
       "        vertical-align: middle;\n",
       "    }\n",
       "\n",
       "    .dataframe tbody tr th {\n",
       "        vertical-align: top;\n",
       "    }\n",
       "\n",
       "    .dataframe thead th {\n",
       "        text-align: right;\n",
       "    }\n",
       "</style>\n",
       "<table border=\"1\" class=\"dataframe\">\n",
       "  <thead>\n",
       "    <tr style=\"text-align: right;\">\n",
       "      <th></th>\n",
       "      <th>OBSERVED</th>\n",
       "      <th>P</th>\n",
       "      <th>P_COR</th>\n",
       "      <th>STARS</th>\n",
       "    </tr>\n",
       "  </thead>\n",
       "  <tbody>\n",
       "    <tr>\n",
       "      <th>DEVELOPMENTAL</th>\n",
       "      <td>0.089252</td>\n",
       "      <td>1.0000</td>\n",
       "      <td>1.000</td>\n",
       "      <td>NaN</td>\n",
       "    </tr>\n",
       "    <tr>\n",
       "      <th>PSYCHOTIC</th>\n",
       "      <td>0.216208</td>\n",
       "      <td>0.3722</td>\n",
       "      <td>1.000</td>\n",
       "      <td>NaN</td>\n",
       "    </tr>\n",
       "    <tr>\n",
       "      <th>BIPOLAR</th>\n",
       "      <td>0.117278</td>\n",
       "      <td>0.8555</td>\n",
       "      <td>1.000</td>\n",
       "      <td>NaN</td>\n",
       "    </tr>\n",
       "    <tr>\n",
       "      <th>DEPRESSIVE</th>\n",
       "      <td>0.221289</td>\n",
       "      <td>0.8170</td>\n",
       "      <td>1.000</td>\n",
       "      <td>NaN</td>\n",
       "    </tr>\n",
       "    <tr>\n",
       "      <th>ANXIETY</th>\n",
       "      <td>0.252961</td>\n",
       "      <td>0.0220</td>\n",
       "      <td>0.176</td>\n",
       "      <td>NaN</td>\n",
       "    </tr>\n",
       "    <tr>\n",
       "      <th>OBSESSIVE_COMPULSIVE</th>\n",
       "      <td>0.156939</td>\n",
       "      <td>0.7490</td>\n",
       "      <td>1.000</td>\n",
       "      <td>NaN</td>\n",
       "    </tr>\n",
       "    <tr>\n",
       "      <th>TRAUMA_STRESSOR</th>\n",
       "      <td>0.228655</td>\n",
       "      <td>0.4700</td>\n",
       "      <td>1.000</td>\n",
       "      <td>NaN</td>\n",
       "    </tr>\n",
       "    <tr>\n",
       "      <th>COGNITIVE</th>\n",
       "      <td>0.040762</td>\n",
       "      <td>1.0000</td>\n",
       "      <td>1.000</td>\n",
       "      <td>NaN</td>\n",
       "    </tr>\n",
       "  </tbody>\n",
       "</table>\n",
       "</div>"
      ],
      "text/plain": [
       "                      OBSERVED       P  P_COR  STARS\n",
       "DEVELOPMENTAL         0.089252  1.0000  1.000    NaN\n",
       "PSYCHOTIC             0.216208  0.3722  1.000    NaN\n",
       "BIPOLAR               0.117278  0.8555  1.000    NaN\n",
       "DEPRESSIVE            0.221289  0.8170  1.000    NaN\n",
       "ANXIETY               0.252961  0.0220  0.176    NaN\n",
       "OBSESSIVE_COMPULSIVE  0.156939  0.7490  1.000    NaN\n",
       "TRAUMA_STRESSOR       0.228655  0.4700  1.000    NaN\n",
       "COGNITIVE             0.040762  1.0000  1.000    NaN"
      ]
     },
     "execution_count": 24,
     "metadata": {},
     "output_type": "execute_result"
    }
   ],
   "source": [
    "pval = []\n",
    "for dom in domains:   \n",
    "    dom_boot = df_boot.loc[dom].values\n",
    "    dom_null = df_null.loc[dom].values\n",
    "    p = np.sum(np.less(dom_boot, np.max(dom_null))) / float(n_iter)\n",
    "    pval.append(p)\n",
    "    df.loc[dom, \"P\"] = p\n",
    "df[\"P_COR\"] = multitest.multipletests(pval, method=\"fdr_bh\")[1]\n",
    "for dom in domains:\n",
    "    for star, alpha in zip([\"*\", \"**\", \"***\"], [0.05, 0.01, 0.001]):\n",
    "        if df.loc[dom, \"P_COR\"] < alpha:\n",
    "            df.loc[dom, \"STARS\"] = star\n",
    "df = df.loc[domains, [\"OBSERVED\", \"P\", \"P_COR\", \"STARS\"]]\n",
    "df"
   ]
  },
  {
   "cell_type": "markdown",
   "metadata": {},
   "source": [
    "### Violin plots"
   ]
  },
  {
   "cell_type": "code",
   "execution_count": 25,
   "metadata": {},
   "outputs": [],
   "source": [
    "import matplotlib.pyplot as plt\n",
    "from matplotlib import cm, font_manager, rcParams\n",
    "import warnings\n",
    "warnings.simplefilter(\"ignore\", UserWarning)\n",
    "% matplotlib inline"
   ]
  },
  {
   "cell_type": "code",
   "execution_count": 26,
   "metadata": {},
   "outputs": [],
   "source": [
    "arial = \"../style/Arial Unicode.ttf\"\n",
    "prop = font_manager.FontProperties(fname=arial, size=20)\n",
    "prop_lg = font_manager.FontProperties(fname=arial, size=24)\n",
    "rcParams[\"axes.linewidth\"] = 1.5"
   ]
  },
  {
   "cell_type": "code",
   "execution_count": 27,
   "metadata": {},
   "outputs": [],
   "source": [
    "palette = [\"#7D74A3\", # Purple\n",
    "           \"#D1E29E\", # Chartreuse\n",
    "           \"#BA7E39\", # Orange\n",
    "           \"#778AA3\", # Blue\n",
    "           \"#CE7D69\", # Red\n",
    "           \"#B07EB6\", # Magenta\n",
    "           \"#CEBE6D\", # Yellow\n",
    "           \"#77B58A\"] # Green"
   ]
  },
  {
   "cell_type": "code",
   "execution_count": 31,
   "metadata": {},
   "outputs": [
    {
     "data": {
      "image/png": "[encoded data removed]",
      "text/plain": [
       "<Figure size 324x151.2 with 1 Axes>"
      ]
     },
     "metadata": {
      "needs_background": "light"
     },
     "output_type": "display_data"
    }
   ],
   "source": [
    "# Set up figure\n",
    "fig = plt.figure(figsize=(4.5, 2.1))\n",
    "ax = fig.add_axes([0,0,1,1])\n",
    "\n",
    "for i, dom in enumerate(domains):\n",
    "    \n",
    "    # Null distribution\n",
    "    data = sorted(df_null.loc[dom])\n",
    "    obs = np.mean(data)\n",
    "    plt.plot([i-0.37, i+0.38], [obs, obs], \n",
    "             c=\"#999999\", alpha=0.7, lw=2)\n",
    "    v = ax.violinplot(data, positions=[i], \n",
    "                      showmeans=False, showmedians=False, widths=0.85)\n",
    "    for pc in v[\"bodies\"]:\n",
    "        pc.set_facecolor(\"#d8d8d8\")\n",
    "        pc.set_edgecolor(\"#6d6d6d\")\n",
    "        pc.set_linewidth(1.25)\n",
    "        pc.set_alpha(0.5)\n",
    "    for line in [\"cmaxes\", \"cmins\", \"cbars\"]:\n",
    "        v[line].set_edgecolor(\"none\")\n",
    "\n",
    "    # Bootstrap distribution\n",
    "    data = sorted(df_boot.loc[dom])\n",
    "    obs = df[\"OBSERVED\"][i]\n",
    "    plt.plot([i-0.38, i+0.39], [obs, obs], \n",
    "             c=palette[i], alpha=1, lw=2)\n",
    "    v = ax.violinplot(data, positions=[i], \n",
    "                      showmeans=False, showmedians=False, widths=0.85)\n",
    "    for pc in v[\"bodies\"]:\n",
    "        pc.set_facecolor(palette[i])\n",
    "        pc.set_edgecolor(palette[i])\n",
    "        pc.set_linewidth(1.25)\n",
    "        pc.set_alpha(0.55)\n",
    "    for line in [\"cmaxes\", \"cmins\", \"cbars\"]:\n",
    "        v[line].set_edgecolor(\"none\")\n",
    "        \n",
    "    # Comparison test\n",
    "    for alpha, dy in [(0.05, 0), (0.01, 0.045), (0.001, 0.09)]:\n",
    "        if df.loc[dom, \"P_COR\"] <= alpha:\n",
    "            plt.text(i-0.125, max(data) + dy, \"*\", fontproperties=prop_lg)\n",
    "    \n",
    "plt.plot([-1,len(domains)], [0, 0], \n",
    "         linestyle=\"dashed\", c=\"k\", alpha=1, linewidth=2)\n",
    "\n",
    "# Set plot parameters\n",
    "plt.xticks(range(len(domains)), [\"\"]*len(domains))\n",
    "plt.yticks([0, 0.25, 0.5], fontproperties=prop)\n",
    "plt.xlim([-0.75, len(domains)-0.35])\n",
    "plt.ylim([-0.1, 0.6])\n",
    "for side in [\"right\", \"top\"]:\n",
    "    ax.spines[side].set_visible(False)\n",
    "ax.xaxis.set_tick_params(width=1.5, length=7)\n",
    "ax.yaxis.set_tick_params(width=1.5, length=7)\n",
    "\n",
    "# Export figure\n",
    "plt.savefig(\"figures/arche_sims_dsm_class_{}iter.png\".format(n_iter), \n",
    "            dpi=250, bbox_inches=\"tight\")\n",
    "plt.show()"
   ]
  },
  {
   "cell_type": "code",
   "execution_count": null,
   "metadata": {},
   "outputs": [],
   "source": []
  }
 ],
 "metadata": {
  "kernelspec": {
   "display_name": "Python (RDoC)",
   "language": "python",
   "name": "rdoc"
  },
  "language_info": {
   "codemirror_mode": {
    "name": "ipython",
    "version": 2
   },
   "file_extension": ".py",
   "mimetype": "text/x-python",
   "name": "python",
   "nbconvert_exporter": "python",
   "pygments_lexer": "ipython2",
   "version": "2.7.15"
  }
 },
 "nbformat": 4,
 "nbformat_minor": 2
}
