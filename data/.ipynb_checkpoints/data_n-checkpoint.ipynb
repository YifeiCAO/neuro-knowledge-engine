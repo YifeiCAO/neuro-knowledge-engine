{
 "cells": [
  {
   "cell_type": "code",
   "execution_count": 1,
   "metadata": {},
   "outputs": [],
   "source": [
    "import os\n",
    "import pandas as pd"
   ]
  },
  {
   "cell_type": "markdown",
   "metadata": {},
   "source": [
    "# CogNeuro PMIDs"
   ]
  },
  {
   "cell_type": "code",
   "execution_count": 2,
   "metadata": {},
   "outputs": [
    {
     "data": {
      "text/plain": [
       "18155"
      ]
     },
     "execution_count": 2,
     "metadata": {},
     "output_type": "execute_result"
    }
   ],
   "source": [
    "meta = pd.read_csv(\"metadata.csv\", \n",
    "                   index_col=None, header=0, encoding=\"latin1\")\n",
    "pmids = meta[\"PMID\"].dropna().astype(int)\n",
    "len(pmids)"
   ]
  },
  {
   "cell_type": "markdown",
   "metadata": {},
   "source": [
    "# Number of words"
   ]
  },
  {
   "cell_type": "code",
   "execution_count": 3,
   "metadata": {},
   "outputs": [
    {
     "data": {
      "text/plain": [
       "128170267"
      ]
     },
     "execution_count": 3,
     "metadata": {},
     "output_type": "execute_result"
    }
   ],
   "source": [
    "word_count = 0\n",
    "for pmid in pmids:\n",
    "    file = \"../../nlp/corpus/{}.txt\".format(pmid)\n",
    "    words = open(file, \"r\").read().replace(\"_\", \" \").split()\n",
    "    word_count += len(words)\n",
    "word_count"
   ]
  },
  {
   "cell_type": "markdown",
   "metadata": {},
   "source": [
    "# Number of terms"
   ]
  },
  {
   "cell_type": "code",
   "execution_count": 4,
   "metadata": {},
   "outputs": [
    {
     "data": {
      "text/plain": [
       "7135512"
      ]
     },
     "execution_count": 4,
     "metadata": {},
     "output_type": "execute_result"
    }
   ],
   "source": [
    "dtm = pd.read_csv(\"text/dtm_190124.csv.gz\", index_col=0, header=0)\n",
    "dtm = dtm.loc[:, (dtm != 0).any(axis=0)]\n",
    "dtm.sum().sum()"
   ]
  },
  {
   "cell_type": "code",
   "execution_count": 5,
   "metadata": {},
   "outputs": [
    {
     "data": {
      "text/plain": [
       "(18155, 2123)"
      ]
     },
     "execution_count": 5,
     "metadata": {},
     "output_type": "execute_result"
    }
   ],
   "source": [
    "dtm.shape"
   ]
  },
  {
   "cell_type": "code",
   "execution_count": 6,
   "metadata": {
    "scrolled": false
   },
   "outputs": [
    {
     "name": "stdout",
     "output_type": "stream",
     "text": [
      "activation           546885\n",
      "response             345360\n",
      "control              251634\n",
      "visual               174852\n",
      "word                 149807\n",
      "motor                136495\n",
      "face                 128325\n",
      "performance          120680\n",
      "memory               104348\n",
      "cognitive            96273\n"
     ]
    }
   ],
   "source": [
    "for word, val in dtm.sum().sort_values(ascending=False)[:10].iteritems():\n",
    "    print(\"{:20s} {}\".format(word, val))"
   ]
  },
  {
   "cell_type": "markdown",
   "metadata": {},
   "source": [
    "# Number of coordinates"
   ]
  },
  {
   "cell_type": "code",
   "execution_count": 7,
   "metadata": {},
   "outputs": [
    {
     "data": {
      "text/plain": [
       "605292"
      ]
     },
     "execution_count": 7,
     "metadata": {},
     "output_type": "execute_result"
    }
   ],
   "source": [
    "coord_count = 0\n",
    "for pmid in pmids:\n",
    "    file = \"../../cogneuro/coordinates/0mm/{}.txt\".format(pmid)\n",
    "    if os.path.exists(file):\n",
    "        coords = open(file, \"r\").readlines()\n",
    "        coord_count += len(coords)\n",
    "coord_count"
   ]
  },
  {
   "cell_type": "markdown",
   "metadata": {},
   "source": [
    "# Number of structures"
   ]
  },
  {
   "cell_type": "code",
   "execution_count": 8,
   "metadata": {},
   "outputs": [
    {
     "data": {
      "text/plain": [
       "2636325"
      ]
     },
     "execution_count": 8,
     "metadata": {},
     "output_type": "execute_result"
    }
   ],
   "source": [
    "struct_count = 0\n",
    "for pmid in pmids:\n",
    "    file = \"../../cogneuro/coordinates/0mm/{}.txt\".format(pmid)\n",
    "    if os.path.exists(file):\n",
    "        structs = open(file, \"r\").read().replace(\",\", \"\\n\").split(\"\\n\")\n",
    "        struct_count += len(structs)\n",
    "struct_count"
   ]
  }
 ],
 "metadata": {
  "kernelspec": {
   "display_name": "Python (Ontol)",
   "language": "python",
   "name": "ontol"
  },
  "language_info": {
   "codemirror_mode": {
    "name": "ipython",
    "version": 3
   },
   "file_extension": ".py",
   "mimetype": "text/x-python",
   "name": "python",
   "nbconvert_exporter": "python",
   "pygments_lexer": "ipython3",
   "version": "3.6.8"
  }
 },
 "nbformat": 4,
 "nbformat_minor": 2
}
