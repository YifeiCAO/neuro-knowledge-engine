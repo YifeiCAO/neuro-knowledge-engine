{
 "cells": [
  {
   "cell_type": "code",
   "execution_count": 1,
   "metadata": {},
   "outputs": [],
   "source": [
    "import os, re\n",
    "import pandas as pd\n",
    "import numpy as np\n",
    "import xml.etree.ElementTree as ET"
   ]
  },
  {
   "cell_type": "markdown",
   "metadata": {},
   "source": [
    "# Corpus with Coordinates"
   ]
  },
  {
   "cell_type": "code",
   "execution_count": 2,
   "metadata": {},
   "outputs": [
    {
     "data": {
      "text/html": [
       "<div>\n",
       "<style scoped>\n",
       "    .dataframe tbody tr th:only-of-type {\n",
       "        vertical-align: middle;\n",
       "    }\n",
       "\n",
       "    .dataframe tbody tr th {\n",
       "        vertical-align: top;\n",
       "    }\n",
       "\n",
       "    .dataframe thead th {\n",
       "        text-align: right;\n",
       "    }\n",
       "</style>\n",
       "<table border=\"1\" class=\"dataframe\">\n",
       "  <thead>\n",
       "    <tr style=\"text-align: right;\">\n",
       "      <th></th>\n",
       "      <th>PMID</th>\n",
       "      <th>DOI</th>\n",
       "      <th>KEY</th>\n",
       "      <th>SOURCE</th>\n",
       "      <th>AUTHORS</th>\n",
       "      <th>YEAR</th>\n",
       "      <th>MONTH</th>\n",
       "      <th>JOURNAL</th>\n",
       "      <th>TITLE</th>\n",
       "      <th>PAGES</th>\n",
       "      <th>VOLUME</th>\n",
       "      <th>ABSTRACT_URL</th>\n",
       "      <th>NUM_COORDINATES</th>\n",
       "      <th>MNI_COORDINATES</th>\n",
       "      <th>BRAINMAP_ID</th>\n",
       "      <th>BEHAVIORAL_DOMAIN</th>\n",
       "      <th>EXPERIMENT</th>\n",
       "      <th>DESCRIPTION</th>\n",
       "    </tr>\n",
       "  </thead>\n",
       "  <tbody>\n",
       "    <tr>\n",
       "      <th>0</th>\n",
       "      <td>1402966</td>\n",
       "      <td>NaN</td>\n",
       "      <td>Dolan R J, 1992</td>\n",
       "      <td>BrainMap</td>\n",
       "      <td>Dolan R J|Bench C J|Brown R G|Scott L C|Fristo...</td>\n",
       "      <td>1992.0</td>\n",
       "      <td>Sep</td>\n",
       "      <td>Journal of Neurology, Neurosurgery, and Psychi...</td>\n",
       "      <td>Regional cerebral blood flow abnormalities in ...</td>\n",
       "      <td>768-773</td>\n",
       "      <td>55</td>\n",
       "      <td>http://www.ncbi.nlm.nih.gov/entrez/query.fcgi?...</td>\n",
       "      <td>7.0</td>\n",
       "      <td>-7.66,51.87,-8.33;-5.51,56.46,-4.28;-5.48,58.9...</td>\n",
       "      <td>6030020.0</td>\n",
       "      <td>['Action.Rest', 'Action.Rest']</td>\n",
       "      <td>['Unimpaired &gt; Impaired', 'Impaired &gt; Unimpair...</td>\n",
       "      <td>Patients with depression who were cognitively ...</td>\n",
       "    </tr>\n",
       "  </tbody>\n",
       "</table>\n",
       "</div>"
      ],
      "text/plain": [
       "      PMID  DOI              KEY    SOURCE  \\\n",
       "0  1402966  NaN  Dolan R J, 1992  BrainMap   \n",
       "\n",
       "                                             AUTHORS    YEAR MONTH  \\\n",
       "0  Dolan R J|Bench C J|Brown R G|Scott L C|Fristo...  1992.0   Sep   \n",
       "\n",
       "                                             JOURNAL  \\\n",
       "0  Journal of Neurology, Neurosurgery, and Psychi...   \n",
       "\n",
       "                                               TITLE    PAGES VOLUME  \\\n",
       "0  Regional cerebral blood flow abnormalities in ...  768-773     55   \n",
       "\n",
       "                                        ABSTRACT_URL  NUM_COORDINATES  \\\n",
       "0  http://www.ncbi.nlm.nih.gov/entrez/query.fcgi?...              7.0   \n",
       "\n",
       "                                     MNI_COORDINATES  BRAINMAP_ID  \\\n",
       "0  -7.66,51.87,-8.33;-5.51,56.46,-4.28;-5.48,58.9...    6030020.0   \n",
       "\n",
       "                BEHAVIORAL_DOMAIN  \\\n",
       "0  ['Action.Rest', 'Action.Rest']   \n",
       "\n",
       "                                          EXPERIMENT  \\\n",
       "0  ['Unimpaired > Impaired', 'Impaired > Unimpair...   \n",
       "\n",
       "                                         DESCRIPTION  \n",
       "0  Patients with depression who were cognitively ...  "
      ]
     },
     "execution_count": 2,
     "metadata": {},
     "output_type": "execute_result"
    }
   ],
   "source": [
    "meta = pd.read_csv(\"metadata_filt_180811.csv\", index_col=None)\n",
    "meta = meta.dropna(subset=[\"PMID\"])\n",
    "meta[\"PMID\"] = meta[\"PMID\"].astype(int)\n",
    "meta.head(1)"
   ]
  },
  {
   "cell_type": "code",
   "execution_count": 3,
   "metadata": {},
   "outputs": [
    {
     "data": {
      "text/plain": [
       "18155"
      ]
     },
     "execution_count": 3,
     "metadata": {},
     "output_type": "execute_result"
    }
   ],
   "source": [
    "# All with coordinates\n",
    "coord = set(meta[\"PMID\"])\n",
    "len(coord)"
   ]
  },
  {
   "cell_type": "code",
   "execution_count": 4,
   "metadata": {},
   "outputs": [
    {
     "data": {
      "text/plain": [
       "12676"
      ]
     },
     "execution_count": 4,
     "metadata": {},
     "output_type": "execute_result"
    }
   ],
   "source": [
    "# Neurosynth\n",
    "ns = set(meta.loc[meta[\"SOURCE\"] == \"Neurosynth\", \"PMID\"])\n",
    "len(ns)"
   ]
  },
  {
   "cell_type": "code",
   "execution_count": 5,
   "metadata": {},
   "outputs": [
    {
     "data": {
      "text/plain": [
       "3346"
      ]
     },
     "execution_count": 5,
     "metadata": {},
     "output_type": "execute_result"
    }
   ],
   "source": [
    "# BrainMap\n",
    "bm = set(meta.loc[meta[\"SOURCE\"] == \"BrainMap\", \"PMID\"])\n",
    "len(bm)"
   ]
  },
  {
   "cell_type": "code",
   "execution_count": 6,
   "metadata": {},
   "outputs": [
    {
     "data": {
      "text/plain": [
       "2133"
      ]
     },
     "execution_count": 6,
     "metadata": {},
     "output_type": "execute_result"
    }
   ],
   "source": [
    "# ACE\n",
    "ace = set(meta.loc[meta[\"SOURCE\"] == \"ACE\", \"PMID\"])\n",
    "len(ace)"
   ]
  },
  {
   "cell_type": "code",
   "execution_count": 7,
   "metadata": {},
   "outputs": [
    {
     "data": {
      "text/plain": [
       "True"
      ]
     },
     "execution_count": 7,
     "metadata": {},
     "output_type": "execute_result"
    }
   ],
   "source": [
    "len(ns) + len(bm) + len(ace) == len(coord)"
   ]
  },
  {
   "cell_type": "markdown",
   "metadata": {},
   "source": [
    "# PubMed Corpus - General"
   ]
  },
  {
   "cell_type": "code",
   "execution_count": 8,
   "metadata": {},
   "outputs": [
    {
     "data": {
      "text/plain": [
       "50000"
      ]
     },
     "execution_count": 8,
     "metadata": {},
     "output_type": "execute_result"
    }
   ],
   "source": [
    "gen = set([int(file.replace(\".txt\", \"\")) for file in os.listdir(\"../../../nlp/corpus\") if not file.startswith(\".\")])\n",
    "len(gen)"
   ]
  },
  {
   "cell_type": "code",
   "execution_count": 9,
   "metadata": {},
   "outputs": [
    {
     "data": {
      "text/plain": [
       "44988"
      ]
     },
     "execution_count": 9,
     "metadata": {},
     "output_type": "execute_result"
    }
   ],
   "source": [
    "gen_pm = [int(pmid.strip()) for pmid in open(\"../../../pubmed/query_180731/pmids.txt\").readlines()]\n",
    "gen_pm = set(gen_pm).intersection(gen)\n",
    "len(gen_pm)"
   ]
  },
  {
   "cell_type": "code",
   "execution_count": 10,
   "metadata": {},
   "outputs": [
    {
     "data": {
      "text/plain": [
       "9138"
      ]
     },
     "execution_count": 10,
     "metadata": {},
     "output_type": "execute_result"
    }
   ],
   "source": [
    "# In Neurosynth and PubMed\n",
    "len(gen_pm.intersection(ns))"
   ]
  },
  {
   "cell_type": "code",
   "execution_count": 11,
   "metadata": {},
   "outputs": [
    {
     "data": {
      "text/plain": [
       "3538"
      ]
     },
     "execution_count": 11,
     "metadata": {},
     "output_type": "execute_result"
    }
   ],
   "source": [
    "# In Neurosynth but not PubMed\n",
    "len(ns.difference(gen_pm))"
   ]
  },
  {
   "cell_type": "code",
   "execution_count": 12,
   "metadata": {},
   "outputs": [
    {
     "data": {
      "text/plain": [
       "2471"
      ]
     },
     "execution_count": 12,
     "metadata": {},
     "output_type": "execute_result"
    }
   ],
   "source": [
    "# In BrainMap and PubMed\n",
    "len(gen_pm.intersection(bm))"
   ]
  },
  {
   "cell_type": "code",
   "execution_count": 13,
   "metadata": {},
   "outputs": [
    {
     "data": {
      "text/plain": [
       "875"
      ]
     },
     "execution_count": 13,
     "metadata": {},
     "output_type": "execute_result"
    }
   ],
   "source": [
    "# In BrainMap but not PubMed\n",
    "len(bm.difference(gen_pm))"
   ]
  },
  {
   "cell_type": "code",
   "execution_count": 14,
   "metadata": {},
   "outputs": [
    {
     "data": {
      "text/plain": [
       "1555"
      ]
     },
     "execution_count": 14,
     "metadata": {},
     "output_type": "execute_result"
    }
   ],
   "source": [
    "# In ACE and PubMed\n",
    "len(gen_pm.intersection(ace))"
   ]
  },
  {
   "cell_type": "code",
   "execution_count": 15,
   "metadata": {},
   "outputs": [
    {
     "data": {
      "text/plain": [
       "578"
      ]
     },
     "execution_count": 15,
     "metadata": {},
     "output_type": "execute_result"
    }
   ],
   "source": [
    "# In ACE but not PubMed\n",
    "len(ace.difference(gen_pm))"
   ]
  },
  {
   "cell_type": "code",
   "execution_count": 16,
   "metadata": {},
   "outputs": [
    {
     "data": {
      "text/plain": [
       "31824"
      ]
     },
     "execution_count": 16,
     "metadata": {},
     "output_type": "execute_result"
    }
   ],
   "source": [
    "# Just in PubMed\n",
    "len(gen_pm.difference(coord))"
   ]
  },
  {
   "cell_type": "markdown",
   "metadata": {},
   "source": [
    "# PubMed Corpus - Psychiatric"
   ]
  },
  {
   "cell_type": "code",
   "execution_count": 17,
   "metadata": {},
   "outputs": [
    {
     "data": {
      "text/plain": [
       "42000"
      ]
     },
     "execution_count": 17,
     "metadata": {},
     "output_type": "execute_result"
    }
   ],
   "source": [
    "psy = set([int(file.replace(\".txt\", \"\")) for file in os.listdir(\"../../../dsm/corpus\") if not file.startswith(\".\")])\n",
    "len(psy)"
   ]
  },
  {
   "cell_type": "code",
   "execution_count": 18,
   "metadata": {},
   "outputs": [
    {
     "data": {
      "text/plain": [
       "29884"
      ]
     },
     "execution_count": 18,
     "metadata": {},
     "output_type": "execute_result"
    }
   ],
   "source": [
    "psy_pm = [int(pmid.strip()) for pmid in open(\"../../../dsm/query_190214/pmids.txt\").readlines()]\n",
    "psy_pm = set(psy_pm).intersection(psy)\n",
    "len(psy_pm)"
   ]
  },
  {
   "cell_type": "code",
   "execution_count": 19,
   "metadata": {},
   "outputs": [
    {
     "data": {
      "text/plain": [
       "3794"
      ]
     },
     "execution_count": 19,
     "metadata": {},
     "output_type": "execute_result"
    }
   ],
   "source": [
    "# In Neurosynth and PubMed\n",
    "len(psy_pm.intersection(ns))"
   ]
  },
  {
   "cell_type": "code",
   "execution_count": 20,
   "metadata": {},
   "outputs": [
    {
     "data": {
      "text/plain": [
       "8882"
      ]
     },
     "execution_count": 20,
     "metadata": {},
     "output_type": "execute_result"
    }
   ],
   "source": [
    "# In Neurosynth but not PubMed\n",
    "len(ns.difference(psy_pm))"
   ]
  },
  {
   "cell_type": "code",
   "execution_count": 21,
   "metadata": {},
   "outputs": [
    {
     "data": {
      "text/plain": [
       "1156"
      ]
     },
     "execution_count": 21,
     "metadata": {},
     "output_type": "execute_result"
    }
   ],
   "source": [
    "# In BrainMap and PubMed\n",
    "len(psy_pm.intersection(bm))"
   ]
  },
  {
   "cell_type": "code",
   "execution_count": 22,
   "metadata": {},
   "outputs": [
    {
     "data": {
      "text/plain": [
       "2190"
      ]
     },
     "execution_count": 22,
     "metadata": {},
     "output_type": "execute_result"
    }
   ],
   "source": [
    "# In BrainMap but not PubMed\n",
    "len(bm.difference(psy_pm))"
   ]
  },
  {
   "cell_type": "code",
   "execution_count": 23,
   "metadata": {},
   "outputs": [
    {
     "data": {
      "text/plain": [
       "1089"
      ]
     },
     "execution_count": 23,
     "metadata": {},
     "output_type": "execute_result"
    }
   ],
   "source": [
    "# In ACE and PubMEd\n",
    "len(psy_pm.intersection(ace))"
   ]
  },
  {
   "cell_type": "code",
   "execution_count": 24,
   "metadata": {},
   "outputs": [
    {
     "data": {
      "text/plain": [
       "1044"
      ]
     },
     "execution_count": 24,
     "metadata": {},
     "output_type": "execute_result"
    }
   ],
   "source": [
    "# In ACE but not PubMEd\n",
    "len(ace.difference(psy_pm))"
   ]
  },
  {
   "cell_type": "code",
   "execution_count": 25,
   "metadata": {},
   "outputs": [
    {
     "data": {
      "text/plain": [
       "23845"
      ]
     },
     "execution_count": 25,
     "metadata": {},
     "output_type": "execute_result"
    }
   ],
   "source": [
    "# Just from PubMed\n",
    "len(psy_pm.difference(coord))"
   ]
  },
  {
   "cell_type": "markdown",
   "metadata": {},
   "source": [
    "## Key word occurrences\n",
    "\n",
    "### Compute observed and bootstrap"
   ]
  },
  {
   "cell_type": "code",
   "execution_count": 28,
   "metadata": {},
   "outputs": [],
   "source": [
    "years = range(1997, 2018)"
   ]
  },
  {
   "cell_type": "code",
   "execution_count": 29,
   "metadata": {},
   "outputs": [
    {
     "name": "stdout",
     "output_type": "stream",
     "text": [
      "0 articles missing year info\n"
     ]
    }
   ],
   "source": [
    "pmid2year = {}\n",
    "record_dir = \"../../../dsm/query_190214/records\"\n",
    "missing = []\n",
    "for file in os.listdir(record_dir):\n",
    "    pmid = int(file.replace(\".xml\", \"\"))\n",
    "    tree = ET.parse(\"{}/{}\".format(record_dir, file))\n",
    "    root = tree.getroot()\n",
    "    try:\n",
    "        year = root.find(\"MedlineCitation\").find(\"Article\").find(\"Journal\").find(\"JournalIssue\").find(\"PubDate\").find(\"Year\").text\n",
    "        pmid2year[pmid] = int(year)\n",
    "    except:\n",
    "        try:\n",
    "            date = root.find(\"MedlineCitation\").find(\"Article\").find(\"Journal\").find(\"JournalIssue\").find(\"PubDate\").find(\"MedlineDate\").text\n",
    "            year = re.search(r\"\\b(19|20)\\d{2}\\b\", date).group(0)\n",
    "            pmid2year[pmid] = int(year)\n",
    "        except:\n",
    "            print(\"Missing PMID {}\".format(pmid))\n",
    "            missing.append(pmid)\n",
    "print(\"{} articles missing year info\".format(len(missing)))"
   ]
  },
  {
   "cell_type": "code",
   "execution_count": 30,
   "metadata": {},
   "outputs": [],
   "source": [
    "rdoc_freq, dsm_freq, ml_freq = {}, {}, {}\n",
    "for year in years:\n",
    "    rdoc_freq[year], dsm_freq[year], ml_freq[year] = 0.0, 0.0, 0.0\n",
    "    pmids = psy.intersection(set([int(pmid) for pmid, yr in pmid2year.items() if yr == year]))\n",
    "    for pmid in pmids:\n",
    "        infile = \"../../../dsm/corpus/{}.txt\".format(int(pmid))\n",
    "        words = open(infile, \"r\").read().replace(\"machine learning\", \"machine_learning\").split()\n",
    "        if \"rdoc\" in words:\n",
    "            rdoc_freq[year] += 1.0\n",
    "        if \"dsm\" in words:\n",
    "            dsm_freq[year] += 1.0\n",
    "        if \"machine_learning\" in words:\n",
    "            ml_freq[year] += 1.0\n",
    "    for freq in [rdoc_freq, dsm_freq, ml_freq]:\n",
    "        freq[year] /= len(pmids)"
   ]
  },
  {
   "cell_type": "code",
   "execution_count": 31,
   "metadata": {
    "scrolled": true
   },
   "outputs": [
    {
     "name": "stdout",
     "output_type": "stream",
     "text": [
      "--------------- 1997 ---------------\n",
      "Iteration 0\n",
      "Iteration 500\n",
      "Iteration 1000\n",
      "Iteration 1500\n",
      "Iteration 2000\n",
      "Iteration 2500\n",
      "Iteration 3000\n",
      "Iteration 3500\n",
      "Iteration 4000\n",
      "Iteration 4500\n",
      "--------------- 1998 ---------------\n",
      "Iteration 0\n",
      "Iteration 500\n",
      "Iteration 1000\n",
      "Iteration 1500\n",
      "Iteration 2000\n",
      "Iteration 2500\n",
      "Iteration 3000\n",
      "Iteration 3500\n",
      "Iteration 4000\n",
      "Iteration 4500\n",
      "--------------- 1999 ---------------\n",
      "Iteration 0\n",
      "Iteration 500\n",
      "Iteration 1000\n",
      "Iteration 1500\n",
      "Iteration 2000\n",
      "Iteration 2500\n",
      "Iteration 3000\n",
      "Iteration 3500\n",
      "Iteration 4000\n",
      "Iteration 4500\n",
      "--------------- 2000 ---------------\n",
      "Iteration 0\n",
      "Iteration 500\n",
      "Iteration 1000\n",
      "Iteration 1500\n",
      "Iteration 2000\n",
      "Iteration 2500\n",
      "Iteration 3000\n",
      "Iteration 3500\n",
      "Iteration 4000\n",
      "Iteration 4500\n",
      "--------------- 2001 ---------------\n",
      "Iteration 0\n",
      "Iteration 500\n",
      "Iteration 1000\n",
      "Iteration 1500\n",
      "Iteration 2000\n",
      "Iteration 2500\n",
      "Iteration 3000\n",
      "Iteration 3500\n",
      "Iteration 4000\n",
      "Iteration 4500\n",
      "--------------- 2002 ---------------\n",
      "Iteration 0\n",
      "Iteration 500\n",
      "Iteration 1000\n",
      "Iteration 1500\n",
      "Iteration 2000\n",
      "Iteration 2500\n",
      "Iteration 3000\n",
      "Iteration 3500\n",
      "Iteration 4000\n",
      "Iteration 4500\n",
      "--------------- 2003 ---------------\n",
      "Iteration 0\n",
      "Iteration 500\n",
      "Iteration 1000\n",
      "Iteration 1500\n",
      "Iteration 2000\n",
      "Iteration 2500\n",
      "Iteration 3000\n",
      "Iteration 3500\n",
      "Iteration 4000\n",
      "Iteration 4500\n",
      "--------------- 2004 ---------------\n",
      "Iteration 0\n",
      "Iteration 500\n",
      "Iteration 1000\n",
      "Iteration 1500\n",
      "Iteration 2000\n",
      "Iteration 2500\n",
      "Iteration 3000\n",
      "Iteration 3500\n",
      "Iteration 4000\n",
      "Iteration 4500\n",
      "--------------- 2005 ---------------\n",
      "Iteration 0\n",
      "Iteration 500\n",
      "Iteration 1000\n",
      "Iteration 1500\n",
      "Iteration 2000\n",
      "Iteration 2500\n",
      "Iteration 3000\n",
      "Iteration 3500\n",
      "Iteration 4000\n",
      "Iteration 4500\n",
      "--------------- 2006 ---------------\n",
      "Iteration 0\n",
      "Iteration 500\n",
      "Iteration 1000\n",
      "Iteration 1500\n",
      "Iteration 2000\n",
      "Iteration 2500\n",
      "Iteration 3000\n",
      "Iteration 3500\n",
      "Iteration 4000\n",
      "Iteration 4500\n",
      "--------------- 2007 ---------------\n",
      "Iteration 0\n",
      "Iteration 500\n",
      "Iteration 1000\n",
      "Iteration 1500\n",
      "Iteration 2000\n",
      "Iteration 2500\n",
      "Iteration 3000\n",
      "Iteration 3500\n",
      "Iteration 4000\n",
      "Iteration 4500\n",
      "--------------- 2008 ---------------\n",
      "Iteration 0\n",
      "Iteration 500\n",
      "Iteration 1000\n",
      "Iteration 1500\n",
      "Iteration 2000\n",
      "Iteration 2500\n",
      "Iteration 3000\n",
      "Iteration 3500\n",
      "Iteration 4000\n",
      "Iteration 4500\n",
      "--------------- 2009 ---------------\n",
      "Iteration 0\n",
      "Iteration 500\n",
      "Iteration 1000\n",
      "Iteration 1500\n",
      "Iteration 2000\n",
      "Iteration 2500\n",
      "Iteration 3000\n",
      "Iteration 3500\n",
      "Iteration 4000\n",
      "Iteration 4500\n",
      "--------------- 2010 ---------------\n",
      "Iteration 0\n",
      "Iteration 500\n",
      "Iteration 1000\n",
      "Iteration 1500\n",
      "Iteration 2000\n",
      "Iteration 2500\n",
      "Iteration 3000\n",
      "Iteration 3500\n",
      "Iteration 4000\n",
      "Iteration 4500\n",
      "--------------- 2011 ---------------\n",
      "Iteration 0\n",
      "Iteration 500\n",
      "Iteration 1000\n",
      "Iteration 1500\n",
      "Iteration 2000\n",
      "Iteration 2500\n",
      "Iteration 3000\n",
      "Iteration 3500\n",
      "Iteration 4000\n",
      "Iteration 4500\n",
      "--------------- 2012 ---------------\n",
      "Iteration 0\n",
      "Iteration 500\n",
      "Iteration 1000\n",
      "Iteration 1500\n",
      "Iteration 2000\n",
      "Iteration 2500\n",
      "Iteration 3000\n",
      "Iteration 3500\n",
      "Iteration 4000\n",
      "Iteration 4500\n",
      "--------------- 2013 ---------------\n",
      "Iteration 0\n",
      "Iteration 500\n",
      "Iteration 1000\n",
      "Iteration 1500\n",
      "Iteration 2000\n",
      "Iteration 2500\n",
      "Iteration 3000\n",
      "Iteration 3500\n",
      "Iteration 4000\n",
      "Iteration 4500\n",
      "--------------- 2014 ---------------\n",
      "Iteration 0\n",
      "Iteration 500\n",
      "Iteration 1000\n",
      "Iteration 1500\n",
      "Iteration 2000\n",
      "Iteration 2500\n",
      "Iteration 3000\n",
      "Iteration 3500\n",
      "Iteration 4000\n",
      "Iteration 4500\n",
      "--------------- 2015 ---------------\n",
      "Iteration 0\n",
      "Iteration 500\n",
      "Iteration 1000\n",
      "Iteration 1500\n",
      "Iteration 2000\n",
      "Iteration 2500\n",
      "Iteration 3000\n",
      "Iteration 3500\n",
      "Iteration 4000\n",
      "Iteration 4500\n",
      "--------------- 2016 ---------------\n",
      "Iteration 0\n",
      "Iteration 500\n",
      "Iteration 1000\n",
      "Iteration 1500\n",
      "Iteration 2000\n",
      "Iteration 2500\n",
      "Iteration 3000\n",
      "Iteration 3500\n",
      "Iteration 4000\n",
      "Iteration 4500\n",
      "--------------- 2017 ---------------\n",
      "Iteration 0\n",
      "Iteration 500\n",
      "Iteration 1000\n",
      "Iteration 1500\n",
      "Iteration 2000\n",
      "Iteration 2500\n",
      "Iteration 3000\n",
      "Iteration 3500\n",
      "Iteration 4000\n",
      "Iteration 4500\n"
     ]
    }
   ],
   "source": [
    "n_iter = 5000\n",
    "np.random.seed(42)\n",
    "rdoc_freq_boot, dsm_freq_boot, ml_freq_boot = {}, {}, {}\n",
    "for year in years:\n",
    "    print(\"--------------- {} ---------------\".format(year))\n",
    "    rdoc_freq_boot[year], dsm_freq_boot[year], ml_freq_boot[year] = [0.0]*n_iter, [0.0]*n_iter, [0.0]*n_iter\n",
    "    pmids = psy.intersection(set([int(pmid) for pmid, yr in pmid2year.items() if yr == year]))\n",
    "    for i in range(n_iter):\n",
    "        if i in range(0, n_iter+1, int(n_iter/10.0)):\n",
    "            print(\"Iteration {}\".format(i))\n",
    "        pmid_sample = np.random.choice(list(pmids), size=len(pmids), replace=True)\n",
    "        for pmid in pmid_sample:\n",
    "            infile = \"../../../dsm/corpus/{}.txt\".format(int(pmid))\n",
    "            words = open(infile, \"r\").read().replace(\"machine learning\", \"machine_learning\").split()\n",
    "            if \"rdoc\" in words:\n",
    "                rdoc_freq_boot[year][i] += 1.0\n",
    "            if \"dsm\" in words:\n",
    "                dsm_freq_boot[year][i] += 1.0\n",
    "            if \"machine_learning\" in words:\n",
    "                ml_freq_boot[year][i] += 1.0\n",
    "        for freq in [rdoc_freq_boot, dsm_freq_boot, ml_freq_boot]:\n",
    "            freq[year][i] /= len(pmids)"
   ]
  },
  {
   "cell_type": "markdown",
   "metadata": {},
   "source": [
    "## Make line plot"
   ]
  },
  {
   "cell_type": "code",
   "execution_count": 2,
   "metadata": {},
   "outputs": [],
   "source": [
    "import matplotlib.pyplot as plt\n",
    "from matplotlib import font_manager\n",
    "from matplotlib import rcParams\n",
    "%matplotlib inline"
   ]
  },
  {
   "cell_type": "code",
   "execution_count": 3,
   "metadata": {},
   "outputs": [],
   "source": [
    "arial = \"../style/Arial Unicode.ttf\"\n",
    "prop_md = font_manager.FontProperties(fname=arial, size=16)\n",
    "prop_lg = font_manager.FontProperties(fname=arial, size=20)\n",
    "prop_xlg = font_manager.FontProperties(fname=arial, size=26)\n",
    "rcParams[\"axes.linewidth\"] = 1.5"
   ]
  },
  {
   "cell_type": "code",
   "execution_count": 39,
   "metadata": {
    "scrolled": false
   },
   "outputs": [
    {
     "data": {
      "image/png": "[encoded data removed]",
      "text/plain": [
       "<Figure size 360x324 with 1 Axes>"
      ]
     },
     "metadata": {
      "needs_background": "light"
     },
     "output_type": "display_data"
    }
   ],
   "source": [
    "fig = plt.figure(figsize=(5, 4.5))\n",
    "ax = fig.add_axes([0,0,1,1])\n",
    "\n",
    "labels = [\"DSM\", \"RDoC\", \"Machine Learning\"]\n",
    "lty = [\"dotted\", \"dashed\", \"solid\"]\n",
    "boots = [dsm_freq_boot, rdoc_freq_boot, ml_freq_boot]\n",
    "\n",
    "for i, freq in enumerate([dsm_freq, rdoc_freq, ml_freq]):\n",
    "    plt.plot(years, [freq[y] for y in years], label=labels[i],\n",
    "            linestyle=lty[i], linewidth=2, color=\"black\")\n",
    "    lower_i = [sorted(boots[i][year])[int(n_iter*.05)] for year in years]\n",
    "    upper_i = [sorted(boots[i][year])[int(n_iter*.95)] for year in years]\n",
    "    plt.fill_between(years, y1=lower_i, y2=upper_i, \n",
    "                     color=\"gray\", alpha=0.2)\n",
    "    \n",
    "plt.xticks(fontproperties=prop_lg)\n",
    "plt.yticks(fontproperties=prop_lg)\n",
    "\n",
    "ax.xaxis.set_tick_params(width=2, length=5)\n",
    "ax.yaxis.set_tick_params(width=2, length=5)\n",
    "\n",
    "ax.set_xticks(range(2000, 2020, 5))\n",
    "plt.ylim([-0.003,0.132])\n",
    "\n",
    "plt.xlabel(\"Year\", fontproperties=prop_xlg)\n",
    "plt.ylabel(\"Proportion of articles\", fontproperties=prop_xlg)\n",
    "\n",
    "ax.xaxis.set_label_coords(0.5, -0.12)\n",
    "ax.yaxis.set_label_coords(-0.165, 0.5)\n",
    "\n",
    "ax.spines[\"right\"].set_visible(False)\n",
    "ax.spines[\"top\"].set_visible(False)\n",
    "\n",
    "ax.legend(loc=\"upper left\", prop=prop_lg, edgecolor=\"none\", \n",
    "          handletextpad=0.5, borderpad=0.55, bbox_to_anchor=(0, 1.075))\n",
    "\n",
    "plt.savefig(\"figures/psy_words_by_year.png\", \n",
    "            dpi=250, bbox_inches=\"tight\")\n",
    "plt.show()"
   ]
  },
  {
   "cell_type": "markdown",
   "metadata": {},
   "source": [
    "# Corpus \"diameters\""
   ]
  },
  {
   "cell_type": "code",
   "execution_count": 27,
   "metadata": {},
   "outputs": [],
   "source": [
    "from math import pi"
   ]
  },
  {
   "cell_type": "code",
   "execution_count": 60,
   "metadata": {},
   "outputs": [
    {
     "name": "stdout",
     "output_type": "stream",
     "text": [
      "Neurosynth                2.541\t(n = 12676)\n",
      "BrainMap                  1.305\t(n = 3346)\n",
      "ACE                       1.042\t(n = 2133)\n",
      "PubMed (General)          4.787\t(n = 44988)\n",
      "PubMed (Psychiatric)      3.901\t(n = 29884)\n"
     ]
    }
   ],
   "source": [
    "labels = [\"Neurosynth\", \"BrainMap\", \"ACE\", \"PubMed (General)\", \"PubMed (Psychiatric)\"]\n",
    "corpora = [ns, bm, ace, gen_pm, psy_pm]\n",
    "scalar = 2500.0\n",
    "for label, corpus in zip(labels, corpora):\n",
    "    area = len(corpus) / scalar\n",
    "    diameter = 2 * (area / pi) ** 0.5\n",
    "    print(\"{:22s} {:8.3f}\\t(n = {})\".format(label, diameter, len(corpus)))"
   ]
  },
  {
   "cell_type": "code",
   "execution_count": null,
   "metadata": {},
   "outputs": [],
   "source": []
  }
 ],
 "metadata": {
  "kernelspec": {
   "display_name": "Python 2",
   "language": "python",
   "name": "python2"
  },
  "language_info": {
   "codemirror_mode": {
    "name": "ipython",
    "version": 2
   },
   "file_extension": ".py",
   "mimetype": "text/x-python",
   "name": "python",
   "nbconvert_exporter": "python",
   "pygments_lexer": "ipython2",
   "version": "2.7.15"
  }
 },
 "nbformat": 4,
 "nbformat_minor": 2
}
