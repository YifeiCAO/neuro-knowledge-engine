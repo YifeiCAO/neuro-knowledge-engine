{
 "cells": [
  {
   "cell_type": "code",
   "execution_count": 1,
   "metadata": {},
   "outputs": [],
   "source": [
    "import pandas as pd\n",
    "import numpy as np\n",
    "import matplotlib.pyplot as plt\n",
    "%matplotlib inline"
   ]
  },
  {
   "cell_type": "markdown",
   "metadata": {},
   "source": [
    "# Load the data\n",
    "\n",
    "## Meta-data for the full article corpus"
   ]
  },
  {
   "cell_type": "code",
   "execution_count": 2,
   "metadata": {},
   "outputs": [
    {
     "name": "stdout",
     "output_type": "stream",
     "text": [
      "The corpus has 18155 articles\n"
     ]
    },
    {
     "data": {
      "text/html": [
       "<div>\n",
       "<style scoped>\n",
       "    .dataframe tbody tr th:only-of-type {\n",
       "        vertical-align: middle;\n",
       "    }\n",
       "\n",
       "    .dataframe tbody tr th {\n",
       "        vertical-align: top;\n",
       "    }\n",
       "\n",
       "    .dataframe thead th {\n",
       "        text-align: right;\n",
       "    }\n",
       "</style>\n",
       "<table border=\"1\" class=\"dataframe\">\n",
       "  <thead>\n",
       "    <tr style=\"text-align: right;\">\n",
       "      <th></th>\n",
       "      <th>PMID</th>\n",
       "      <th>DOI</th>\n",
       "      <th>KEY</th>\n",
       "      <th>SOURCE</th>\n",
       "      <th>AUTHORS</th>\n",
       "      <th>YEAR</th>\n",
       "      <th>MONTH</th>\n",
       "      <th>JOURNAL</th>\n",
       "      <th>TITLE</th>\n",
       "      <th>PAGES</th>\n",
       "      <th>VOLUME</th>\n",
       "      <th>ABSTRACT_URL</th>\n",
       "      <th>NUM_COORDINATES</th>\n",
       "      <th>MNI_COORDINATES</th>\n",
       "      <th>BRAINMAP_ID</th>\n",
       "      <th>BEHAVIORAL_DOMAIN</th>\n",
       "      <th>EXPERIMENT</th>\n",
       "      <th>DESCRIPTION</th>\n",
       "    </tr>\n",
       "  </thead>\n",
       "  <tbody>\n",
       "    <tr>\n",
       "      <th>0</th>\n",
       "      <td>1402966</td>\n",
       "      <td>NaN</td>\n",
       "      <td>Dolan R J, 1992</td>\n",
       "      <td>BrainMap</td>\n",
       "      <td>Dolan R J|Bench C J|Brown R G|Scott L C|Fristo...</td>\n",
       "      <td>1992.0</td>\n",
       "      <td>Sep</td>\n",
       "      <td>Journal of Neurology, Neurosurgery, and Psychi...</td>\n",
       "      <td>Regional cerebral blood flow abnormalities in ...</td>\n",
       "      <td>768-773</td>\n",
       "      <td>55</td>\n",
       "      <td>http://www.ncbi.nlm.nih.gov/entrez/query.fcgi?...</td>\n",
       "      <td>7.0</td>\n",
       "      <td>-7.66,51.87,-8.33;-5.51,56.46,-4.28;-5.48,58.9...</td>\n",
       "      <td>6030020.0</td>\n",
       "      <td>['Action.Rest', 'Action.Rest']</td>\n",
       "      <td>['Unimpaired &gt; Impaired', 'Impaired &gt; Unimpair...</td>\n",
       "      <td>Patients with depression who were cognitively ...</td>\n",
       "    </tr>\n",
       "    <tr>\n",
       "      <th>1</th>\n",
       "      <td>1410086</td>\n",
       "      <td>NaN</td>\n",
       "      <td>Bench C J, 1992</td>\n",
       "      <td>BrainMap</td>\n",
       "      <td>Bench C J|Friston K J|Brown R G|Scott L C|Frac...</td>\n",
       "      <td>1992.0</td>\n",
       "      <td>Aug</td>\n",
       "      <td>Psychological Medicine</td>\n",
       "      <td>The anatomy of melancholia - focal abnormaliti...</td>\n",
       "      <td>607-615</td>\n",
       "      <td>22</td>\n",
       "      <td>http://www.ncbi.nlm.nih.gov/entrez/query.fcgi?...</td>\n",
       "      <td>10.0</td>\n",
       "      <td>-13.68,29.54,33.76;-15.76,23.53,38.75;-39.5,38...</td>\n",
       "      <td>6030018.0</td>\n",
       "      <td>['Action.Rest', 'Action.Rest', 'Action.Rest']</td>\n",
       "      <td>['Normals &gt; Depressed', 'Unimpaired &gt; Impaired...</td>\n",
       "      <td>Patients with depression and normal subjects u...</td>\n",
       "    </tr>\n",
       "    <tr>\n",
       "      <th>2</th>\n",
       "      <td>1448149</td>\n",
       "      <td>10.1038/360339a0</td>\n",
       "      <td>Zatorre R J, 1992</td>\n",
       "      <td>BrainMap</td>\n",
       "      <td>Zatorre R J|Jones-Gotman M|Evans A C|Meyer E</td>\n",
       "      <td>1992.0</td>\n",
       "      <td>Nov</td>\n",
       "      <td>Nature</td>\n",
       "      <td>Functional localization and lateralization of ...</td>\n",
       "      <td>339-340</td>\n",
       "      <td>360</td>\n",
       "      <td>http://www.ncbi.nlm.nih.gov/entrez/query.fcgi?...</td>\n",
       "      <td>6.0</td>\n",
       "      <td>-21.56,5.58,-27.71;22.3,6.36,-21.58;18.98,41.4...</td>\n",
       "      <td>8110311.0</td>\n",
       "      <td>['Perception.Olfaction']</td>\n",
       "      <td>['Odor vs. Odorless']</td>\n",
       "      <td>Subjects underwent 2 conditions in which they ...</td>\n",
       "    </tr>\n",
       "  </tbody>\n",
       "</table>\n",
       "</div>"
      ],
      "text/plain": [
       "      PMID               DOI                KEY    SOURCE  \\\n",
       "0  1402966               NaN    Dolan R J, 1992  BrainMap   \n",
       "1  1410086               NaN    Bench C J, 1992  BrainMap   \n",
       "2  1448149  10.1038/360339a0  Zatorre R J, 1992  BrainMap   \n",
       "\n",
       "                                             AUTHORS    YEAR MONTH  \\\n",
       "0  Dolan R J|Bench C J|Brown R G|Scott L C|Fristo...  1992.0   Sep   \n",
       "1  Bench C J|Friston K J|Brown R G|Scott L C|Frac...  1992.0   Aug   \n",
       "2       Zatorre R J|Jones-Gotman M|Evans A C|Meyer E  1992.0   Nov   \n",
       "\n",
       "                                             JOURNAL  \\\n",
       "0  Journal of Neurology, Neurosurgery, and Psychi...   \n",
       "1                             Psychological Medicine   \n",
       "2                                             Nature   \n",
       "\n",
       "                                               TITLE    PAGES VOLUME  \\\n",
       "0  Regional cerebral blood flow abnormalities in ...  768-773     55   \n",
       "1  The anatomy of melancholia - focal abnormaliti...  607-615     22   \n",
       "2  Functional localization and lateralization of ...  339-340    360   \n",
       "\n",
       "                                        ABSTRACT_URL  NUM_COORDINATES  \\\n",
       "0  http://www.ncbi.nlm.nih.gov/entrez/query.fcgi?...              7.0   \n",
       "1  http://www.ncbi.nlm.nih.gov/entrez/query.fcgi?...             10.0   \n",
       "2  http://www.ncbi.nlm.nih.gov/entrez/query.fcgi?...              6.0   \n",
       "\n",
       "                                     MNI_COORDINATES  BRAINMAP_ID  \\\n",
       "0  -7.66,51.87,-8.33;-5.51,56.46,-4.28;-5.48,58.9...    6030020.0   \n",
       "1  -13.68,29.54,33.76;-15.76,23.53,38.75;-39.5,38...    6030018.0   \n",
       "2  -21.56,5.58,-27.71;22.3,6.36,-21.58;18.98,41.4...    8110311.0   \n",
       "\n",
       "                               BEHAVIORAL_DOMAIN  \\\n",
       "0                 ['Action.Rest', 'Action.Rest']   \n",
       "1  ['Action.Rest', 'Action.Rest', 'Action.Rest']   \n",
       "2                       ['Perception.Olfaction']   \n",
       "\n",
       "                                          EXPERIMENT  \\\n",
       "0  ['Unimpaired > Impaired', 'Impaired > Unimpair...   \n",
       "1  ['Normals > Depressed', 'Unimpaired > Impaired...   \n",
       "2                              ['Odor vs. Odorless']   \n",
       "\n",
       "                                         DESCRIPTION  \n",
       "0  Patients with depression who were cognitively ...  \n",
       "1  Patients with depression and normal subjects u...  \n",
       "2  Subjects underwent 2 conditions in which they ...  "
      ]
     },
     "execution_count": 2,
     "metadata": {},
     "output_type": "execute_result"
    }
   ],
   "source": [
    "df = pd.read_csv(\"metadata.csv\", encoding=\"latin-1\")\n",
    "df = df.dropna(subset=[\"PMID\"])\n",
    "df[\"PMID\"] = df[\"PMID\"].astype(int)\n",
    "print(\"The corpus has {} articles\".format(len(df)))\n",
    "df.head(3)"
   ]
  },
  {
   "cell_type": "markdown",
   "metadata": {},
   "source": [
    "## Subset with manually curated study and sample information"
   ]
  },
  {
   "cell_type": "code",
   "execution_count": 3,
   "metadata": {},
   "outputs": [
    {
     "name": "stdout",
     "output_type": "stream",
     "text": [
      "The subset has 250 articles\n"
     ]
    },
    {
     "data": {
      "text/html": [
       "<div>\n",
       "<style scoped>\n",
       "    .dataframe tbody tr th:only-of-type {\n",
       "        vertical-align: middle;\n",
       "    }\n",
       "\n",
       "    .dataframe tbody tr th {\n",
       "        vertical-align: top;\n",
       "    }\n",
       "\n",
       "    .dataframe thead th {\n",
       "        text-align: right;\n",
       "    }\n",
       "</style>\n",
       "<table border=\"1\" class=\"dataframe\">\n",
       "  <thead>\n",
       "    <tr style=\"text-align: right;\">\n",
       "      <th></th>\n",
       "      <th>PMID</th>\n",
       "      <th>MODALITY</th>\n",
       "      <th>MODALITY_CATEGORY</th>\n",
       "      <th>AGE_MIN</th>\n",
       "      <th>AGE_MAX</th>\n",
       "      <th>AGE_MEAN</th>\n",
       "      <th>AGE_SD</th>\n",
       "      <th>N_FEMALE</th>\n",
       "      <th>N_MALE</th>\n",
       "      <th>N</th>\n",
       "    </tr>\n",
       "  </thead>\n",
       "  <tbody>\n",
       "    <tr>\n",
       "      <th>0</th>\n",
       "      <td>27894900</td>\n",
       "      <td>fMRI</td>\n",
       "      <td>Functional MRI</td>\n",
       "      <td>18.0</td>\n",
       "      <td>28.0</td>\n",
       "      <td>21.9</td>\n",
       "      <td>NaN</td>\n",
       "      <td>11.0</td>\n",
       "      <td>6.0</td>\n",
       "      <td>17.0</td>\n",
       "    </tr>\n",
       "    <tr>\n",
       "      <th>1</th>\n",
       "      <td>22922525</td>\n",
       "      <td>fMRI</td>\n",
       "      <td>Functional MRI</td>\n",
       "      <td>NaN</td>\n",
       "      <td>NaN</td>\n",
       "      <td>33.2</td>\n",
       "      <td>6.10</td>\n",
       "      <td>12.0</td>\n",
       "      <td>15.0</td>\n",
       "      <td>27.0</td>\n",
       "    </tr>\n",
       "    <tr>\n",
       "      <th>2</th>\n",
       "      <td>17336346</td>\n",
       "      <td>fMRI</td>\n",
       "      <td>Functional MRI</td>\n",
       "      <td>NaN</td>\n",
       "      <td>NaN</td>\n",
       "      <td>25.7</td>\n",
       "      <td>10.15</td>\n",
       "      <td>NaN</td>\n",
       "      <td>NaN</td>\n",
       "      <td>20.0</td>\n",
       "    </tr>\n",
       "    <tr>\n",
       "      <th>3</th>\n",
       "      <td>19433790</td>\n",
       "      <td>fMRI</td>\n",
       "      <td>Functional MRI</td>\n",
       "      <td>19.0</td>\n",
       "      <td>29.0</td>\n",
       "      <td>22.0</td>\n",
       "      <td>NaN</td>\n",
       "      <td>10.0</td>\n",
       "      <td>5.0</td>\n",
       "      <td>15.0</td>\n",
       "    </tr>\n",
       "    <tr>\n",
       "      <th>4</th>\n",
       "      <td>12433382</td>\n",
       "      <td>fMRI</td>\n",
       "      <td>Functional MRI</td>\n",
       "      <td>20.0</td>\n",
       "      <td>36.0</td>\n",
       "      <td>NaN</td>\n",
       "      <td>NaN</td>\n",
       "      <td>6.0</td>\n",
       "      <td>9.0</td>\n",
       "      <td>15.0</td>\n",
       "    </tr>\n",
       "  </tbody>\n",
       "</table>\n",
       "</div>"
      ],
      "text/plain": [
       "       PMID MODALITY MODALITY_CATEGORY  AGE_MIN  AGE_MAX  AGE_MEAN  AGE_SD  \\\n",
       "0  27894900     fMRI    Functional MRI     18.0     28.0      21.9     NaN   \n",
       "1  22922525     fMRI    Functional MRI      NaN      NaN      33.2    6.10   \n",
       "2  17336346     fMRI    Functional MRI      NaN      NaN      25.7   10.15   \n",
       "3  19433790     fMRI    Functional MRI     19.0     29.0      22.0     NaN   \n",
       "4  12433382     fMRI    Functional MRI     20.0     36.0       NaN     NaN   \n",
       "\n",
       "   N_FEMALE  N_MALE     N  \n",
       "0      11.0     6.0  17.0  \n",
       "1      12.0    15.0  27.0  \n",
       "2       NaN     NaN  20.0  \n",
       "3      10.0     5.0  15.0  \n",
       "4       6.0     9.0  15.0  "
      ]
     },
     "execution_count": 3,
     "metadata": {},
     "output_type": "execute_result"
    }
   ],
   "source": [
    "sub = pd.read_csv(\"sample_ehb.csv\", encoding=\"latin-1\")\n",
    "sub = sub[:250]\n",
    "print(\"The subset has {} articles\".format(len(sub)))\n",
    "sub.head()"
   ]
  },
  {
   "cell_type": "markdown",
   "metadata": {},
   "source": [
    "# Set the plotting parameters"
   ]
  },
  {
   "cell_type": "code",
   "execution_count": 4,
   "metadata": {},
   "outputs": [],
   "source": [
    "import sys\n",
    "sys.path.append(\"..\")\n",
    "from style.style import *\n",
    "\n",
    "from matplotlib import font_manager, rcParams"
   ]
  },
  {
   "cell_type": "code",
   "execution_count": 5,
   "metadata": {},
   "outputs": [],
   "source": [
    "font_prop = font_manager.FontProperties(fname=font, size=18)\n",
    "rcParams[\"axes.linewidth\"] = 1.5"
   ]
  },
  {
   "cell_type": "code",
   "execution_count": 6,
   "metadata": {},
   "outputs": [],
   "source": [
    "def plot_ordinal_bar(x, y, filename, height=1.8, width=4.5, xlim=[]):\n",
    "    \n",
    "    fig = plt.figure(figsize=(width, height))\n",
    "    ax = fig.add_axes([0,0,1,1])\n",
    "\n",
    "    plt.bar(x, y, color=\"gray\", edgecolor=\"black\", alpha=0.65, width=1)\n",
    "    \n",
    "    if len(xlim) == 2:\n",
    "        plt.xlim(xlim)\n",
    "\n",
    "    plt.xticks(fontproperties=font_manager.FontProperties(fname=font, size=16))\n",
    "    plt.yticks(fontproperties=font_manager.FontProperties(fname=font, size=16))\n",
    "\n",
    "    ax.xaxis.set_tick_params(width=1.5, length=7)\n",
    "    ax.yaxis.set_tick_params(width=1.5, length=7)\n",
    "\n",
    "    for side in [\"right\", \"top\"]:\n",
    "        ax.spines[side].set_visible(False)\n",
    "\n",
    "    plt.savefig(\"figures/{}.png\".format(filename), dpi=250, bbox_inches=\"tight\")\n",
    "    plt.show()"
   ]
  },
  {
   "cell_type": "code",
   "execution_count": 7,
   "metadata": {},
   "outputs": [],
   "source": [
    "def plot_categorical_bar(x, y, filename, height=1.8, width=4.5, xlabsize=13):\n",
    "    \n",
    "    fig = plt.figure(figsize=(width, height))\n",
    "    ax = fig.add_axes([0,0,1,1])\n",
    "\n",
    "    plt.bar(x, y, color=\"gray\", edgecolor=\"black\", alpha=0.65, width=1)\n",
    "\n",
    "    plt.xticks(fontproperties=font_manager.FontProperties(fname=font, size=xlabsize))\n",
    "    plt.yticks(fontproperties=font_manager.FontProperties(fname=font, size=16))\n",
    "    \n",
    "    ax.set_xticklabels(x, rotation=55, ha=\"right\")\n",
    "    ax.xaxis.set_tick_params(width=1.5, length=7)\n",
    "    ax.yaxis.set_tick_params(width=1.5, length=7)\n",
    "\n",
    "    for side in [\"right\", \"top\"]:\n",
    "        ax.spines[side].set_visible(False)\n",
    "\n",
    "    plt.savefig(\"figures/{}.png\".format(filename), dpi=250, bbox_inches=\"tight\")\n",
    "    plt.show()"
   ]
  },
  {
   "cell_type": "code",
   "execution_count": 8,
   "metadata": {},
   "outputs": [],
   "source": [
    "def plot_hist(y, filename, width=4.5, barwidth=1):\n",
    "    \n",
    "    fig = plt.figure(figsize=(width, 1.8))\n",
    "    ax = fig.add_axes([0,0,1,1])\n",
    "\n",
    "    plt.hist(y, color=\"gray\", edgecolor=\"black\", alpha=0.65, width=barwidth)\n",
    "\n",
    "    plt.xticks(fontproperties=font_manager.FontProperties(fname=font, size=16))\n",
    "    plt.yticks(fontproperties=font_manager.FontProperties(fname=font, size=16))\n",
    "\n",
    "    ax.xaxis.set_tick_params(width=1.5, length=7)\n",
    "    ax.yaxis.set_tick_params(width=1.5, length=7)\n",
    "\n",
    "    for side in [\"right\", \"top\"]:\n",
    "        ax.spines[side].set_visible(False)\n",
    "\n",
    "    plt.savefig(\"figures/{}.png\".format(filename), dpi=250, bbox_inches=\"tight\")\n",
    "    plt.show()"
   ]
  },
  {
   "cell_type": "markdown",
   "metadata": {},
   "source": [
    "# Plot full cohort information\n",
    "\n",
    "## Publication year"
   ]
  },
  {
   "cell_type": "code",
   "execution_count": 9,
   "metadata": {},
   "outputs": [],
   "source": [
    "df[\"YEAR\"] = df[\"YEAR\"].astype(int)"
   ]
  },
  {
   "cell_type": "code",
   "execution_count": 10,
   "metadata": {},
   "outputs": [],
   "source": [
    "years = sorted(list(set(df[\"YEAR\"])))\n",
    "n_per_year = [sum(df[\"YEAR\"] == yr) for yr in years]"
   ]
  },
  {
   "cell_type": "code",
   "execution_count": 11,
   "metadata": {},
   "outputs": [
    {
     "data": {
      "image/png": "[encoded data removed]",
      "text/plain": [
       "<Figure size 306x115.2 with 1 Axes>"
      ]
     },
     "metadata": {
      "needs_background": "light"
     },
     "output_type": "display_data"
    }
   ],
   "source": [
    "plot_ordinal_bar(years, n_per_year, \"publication_year\", xlim=[1985,2019], height=1.6, width=4.25)"
   ]
  },
  {
   "cell_type": "markdown",
   "metadata": {},
   "source": [
    "## Journal"
   ]
  },
  {
   "cell_type": "code",
   "execution_count": 12,
   "metadata": {},
   "outputs": [],
   "source": [
    "df[\"JOURNAL\"] = [j.strip().title() for j in df[\"JOURNAL\"]]"
   ]
  },
  {
   "cell_type": "code",
   "execution_count": 13,
   "metadata": {},
   "outputs": [
    {
     "data": {
      "text/plain": [
       "Neuroimage                                                                            3161\n",
       "Human Brain Mapping                                                                   1289\n",
       "Plos One                                                                              1034\n",
       "The Journal Of Neuroscience : The Official Journal Of The Society For Neuroscience     878\n",
       "Neuropsychologia                                                                       810\n",
       "Cerebral Cortex (New York, N.Y. : 1991)                                                731\n",
       "Journal Of Cognitive Neuroscience                                                      647\n",
       "Frontiers In Human Neuroscience                                                        483\n",
       "Social Cognitive And Affective Neuroscience                                            440\n",
       "Brain Research                                                                         391\n",
       "Biological Psychiatry                                                                  375\n",
       "Psychiatry Research                                                                    330\n",
       "Neuroscience Letters                                                                   275\n",
       "Cortex; A Journal Devoted To The Study Of The Nervous System And Behavior              243\n",
       "Brain And Language                                                                     239\n",
       "dtype: int64"
      ]
     },
     "execution_count": 13,
     "metadata": {},
     "output_type": "execute_result"
    }
   ],
   "source": [
    "journals = list(set(df[\"JOURNAL\"]))\n",
    "n_per_journal = [sum(df[\"JOURNAL\"] == j) for j in journals]\n",
    "j_ser = pd.Series(n_per_journal, index=journals).sort_values(ascending=False)[:15]\n",
    "j_ser"
   ]
  },
  {
   "cell_type": "code",
   "execution_count": 14,
   "metadata": {},
   "outputs": [
    {
     "data": {
      "text/plain": [
       "NeuroImage                  3161\n",
       "Human Brain Mapping         1289\n",
       "PloS One                    1034\n",
       "Journal of Neuro.            878\n",
       "Neuropsychologia             810\n",
       "Cerebral Cortex              731\n",
       "Journal of Cog. Neuro.       647\n",
       "Frontiers in Hum. Neuro.     483\n",
       "SCAN                         440\n",
       "Brain Research               391\n",
       "Biological Psychiatry        375\n",
       "Psychiatry Research          330\n",
       "Neuroscience Letters         275\n",
       "Cortex                       243\n",
       "Brain & Language             239\n",
       "dtype: int64"
      ]
     },
     "execution_count": 14,
     "metadata": {},
     "output_type": "execute_result"
    }
   ],
   "source": [
    "names = {\"Neuroimage\": \"NeuroImage\",\n",
    "         \"Human Brain Mapping\": \"Human Brain Mapping\",\n",
    "         \"Plos One\": \"PloS One\",\n",
    "         \"The Journal Of Neuroscience : The Official Journal Of The Society For Neuroscience\": \"Journal of Neuro.\",\n",
    "         \"Neuropsychologia\": \"Neuropsychologia\",\n",
    "         \"Cerebral Cortex (New York, N.Y. : 1991)\": \"Cerebral Cortex\",\n",
    "         \"Journal Of Cognitive Neuroscience\": \"Journal of Cog. Neuro.\",\n",
    "         \"Frontiers In Human Neuroscience\": \"Frontiers in Hum. Neuro.\",\n",
    "         \"Social Cognitive And Affective Neuroscience\": \"SCAN\",\n",
    "         \"Brain Research\": \"Brain Research\",\n",
    "         \"Biological Psychiatry\": \"Biological Psychiatry\",\n",
    "         \"Psychiatry Research\": \"Psychiatry Research\",\n",
    "         \"Neuroscience Letters\": \"Neuroscience Letters\",\n",
    "         \"Cortex; A Journal Devoted To The Study Of The Nervous System And Behavior\": \"Cortex\",\n",
    "         \"Brain And Language\": \"Brain & Language\"}\n",
    "j_ser.index = [names[j] for j in j_ser.index]\n",
    "j_ser"
   ]
  },
  {
   "cell_type": "code",
   "execution_count": 15,
   "metadata": {},
   "outputs": [
    {
     "data": {
      "image/png": "[encoded data removed]",
      "text/plain": [
       "<Figure size 306x115.2 with 1 Axes>"
      ]
     },
     "metadata": {
      "needs_background": "light"
     },
     "output_type": "display_data"
    }
   ],
   "source": [
    "plot_categorical_bar(j_ser.index, j_ser.values, \"journal\", xlabsize=15, height=1.6, width=4.25)"
   ]
  },
  {
   "cell_type": "markdown",
   "metadata": {},
   "source": [
    "# Plot subset information\n",
    "\n",
    "## Imaging modality"
   ]
  },
  {
   "cell_type": "code",
   "execution_count": 32,
   "metadata": {},
   "outputs": [],
   "source": [
    "# sub[\"MODALITY\"] = [m if m in [\"fMRI\", \"PET\"] else \"Other\" for m in sub[\"MODALITY\"]]\n",
    "# mod = [\"fMRI\", \"Other\", \"PET\"]\n",
    "mod = [\"Functional MRI\", \"Structural MRI\", \"PET\", \"Other\"]\n",
    "n_per_mod = [sum(sub[\"MODALITY_CATEGORY\"] == m) for m in mod]"
   ]
  },
  {
   "cell_type": "code",
   "execution_count": 50,
   "metadata": {},
   "outputs": [
    {
     "data": {
      "image/png": "[encoded data removed]",
      "text/plain": [
       "<Figure size 108x136.8 with 1 Axes>"
      ]
     },
     "metadata": {
      "needs_background": "light"
     },
     "output_type": "display_data"
    }
   ],
   "source": [
    "plot_categorical_bar(mod, n_per_mod, \"modality\", height=1.9, width=1.5, xlabsize=17)"
   ]
  },
  {
   "cell_type": "markdown",
   "metadata": {},
   "source": [
    "## Number of subjects"
   ]
  },
  {
   "cell_type": "code",
   "execution_count": 18,
   "metadata": {},
   "outputs": [
    {
     "data": {
      "image/png": "[encoded data removed]",
      "text/plain": [
       "<Figure size 324x129.6 with 1 Axes>"
      ]
     },
     "metadata": {
      "needs_background": "light"
     },
     "output_type": "display_data"
    }
   ],
   "source": [
    "plot_hist(sub[\"N\"].values, \"n_subjects\")"
   ]
  },
  {
   "cell_type": "code",
   "execution_count": 19,
   "metadata": {},
   "outputs": [
    {
     "data": {
      "text/plain": [
       "43.348"
      ]
     },
     "execution_count": 19,
     "metadata": {},
     "output_type": "execute_result"
    }
   ],
   "source": [
    "np.mean(sub[\"N\"])"
   ]
  },
  {
   "cell_type": "code",
   "execution_count": 20,
   "metadata": {},
   "outputs": [
    {
     "data": {
      "text/plain": [
       "88.27363647205208"
      ]
     },
     "execution_count": 20,
     "metadata": {},
     "output_type": "execute_result"
    }
   ],
   "source": [
    "np.std(sub[\"N\"])"
   ]
  },
  {
   "cell_type": "markdown",
   "metadata": {},
   "source": [
    "## Gender"
   ]
  },
  {
   "cell_type": "code",
   "execution_count": 21,
   "metadata": {},
   "outputs": [
    {
     "data": {
      "text/plain": [
       "18.864406779661017"
      ]
     },
     "execution_count": 21,
     "metadata": {},
     "output_type": "execute_result"
    }
   ],
   "source": [
    "np.mean(sub[\"N_FEMALE\"])"
   ]
  },
  {
   "cell_type": "code",
   "execution_count": 22,
   "metadata": {},
   "outputs": [
    {
     "data": {
      "text/plain": [
       "28.63517312506294"
      ]
     },
     "execution_count": 22,
     "metadata": {},
     "output_type": "execute_result"
    }
   ],
   "source": [
    "np.std(sub[\"N_FEMALE\"])"
   ]
  },
  {
   "cell_type": "code",
   "execution_count": 23,
   "metadata": {},
   "outputs": [
    {
     "data": {
      "text/plain": [
       "19.258474576271187"
      ]
     },
     "execution_count": 23,
     "metadata": {},
     "output_type": "execute_result"
    }
   ],
   "source": [
    "np.mean(sub[\"N_MALE\"])"
   ]
  },
  {
   "cell_type": "code",
   "execution_count": 24,
   "metadata": {},
   "outputs": [
    {
     "data": {
      "text/plain": [
       "31.429045257670108"
      ]
     },
     "execution_count": 24,
     "metadata": {},
     "output_type": "execute_result"
    }
   ],
   "source": [
    "np.std(sub[\"N_MALE\"])"
   ]
  },
  {
   "cell_type": "markdown",
   "metadata": {},
   "source": [
    "## Age"
   ]
  },
  {
   "cell_type": "code",
   "execution_count": 25,
   "metadata": {},
   "outputs": [
    {
     "data": {
      "text/plain": [
       "30.245108024708333"
      ]
     },
     "execution_count": 25,
     "metadata": {},
     "output_type": "execute_result"
    }
   ],
   "source": [
    "np.mean(sub[\"AGE_MEAN\"])"
   ]
  },
  {
   "cell_type": "code",
   "execution_count": 26,
   "metadata": {},
   "outputs": [
    {
     "data": {
      "text/plain": [
       "13.34773807130704"
      ]
     },
     "execution_count": 26,
     "metadata": {},
     "output_type": "execute_result"
    }
   ],
   "source": [
    "np.std(sub[\"AGE_MEAN\"])"
   ]
  },
  {
   "cell_type": "code",
   "execution_count": 27,
   "metadata": {},
   "outputs": [
    {
     "name": "stderr",
     "output_type": "stream",
     "text": [
      "/anaconda3/envs/ontol/lib/python3.6/site-packages/numpy/lib/histograms.py:824: RuntimeWarning: invalid value encountered in greater_equal\n",
      "  keep = (tmp_a >= first_edge)\n",
      "/anaconda3/envs/ontol/lib/python3.6/site-packages/numpy/lib/histograms.py:825: RuntimeWarning: invalid value encountered in less_equal\n",
      "  keep &= (tmp_a <= last_edge)\n"
     ]
    },
    {
     "data": {
      "image/png": "[encoded data removed]",
      "text/plain": [
       "<Figure size 162x129.6 with 1 Axes>"
      ]
     },
     "metadata": {
      "needs_background": "light"
     },
     "output_type": "display_data"
    }
   ],
   "source": [
    "plot_hist(sub[\"AGE_MEAN\"].values, \"age_mean\", barwidth=6.6, width=2.25)"
   ]
  },
  {
   "cell_type": "code",
   "execution_count": 28,
   "metadata": {},
   "outputs": [
    {
     "data": {
      "text/plain": [
       "20.856047619050003"
      ]
     },
     "execution_count": 28,
     "metadata": {},
     "output_type": "execute_result"
    }
   ],
   "source": [
    "np.mean(sub[\"AGE_MIN\"])"
   ]
  },
  {
   "cell_type": "code",
   "execution_count": 29,
   "metadata": {},
   "outputs": [
    {
     "data": {
      "text/plain": [
       "9.5402648176726"
      ]
     },
     "execution_count": 29,
     "metadata": {},
     "output_type": "execute_result"
    }
   ],
   "source": [
    "np.std(sub[\"AGE_MIN\"])"
   ]
  },
  {
   "cell_type": "code",
   "execution_count": 30,
   "metadata": {},
   "outputs": [
    {
     "data": {
      "text/plain": [
       "40.61983091787681"
      ]
     },
     "execution_count": 30,
     "metadata": {},
     "output_type": "execute_result"
    }
   ],
   "source": [
    "np.mean(sub[\"AGE_MAX\"])"
   ]
  },
  {
   "cell_type": "code",
   "execution_count": 31,
   "metadata": {},
   "outputs": [
    {
     "data": {
      "text/plain": [
       "17.94620014289056"
      ]
     },
     "execution_count": 31,
     "metadata": {},
     "output_type": "execute_result"
    }
   ],
   "source": [
    "np.std(sub[\"AGE_MAX\"])"
   ]
  },
  {
   "cell_type": "code",
   "execution_count": null,
   "metadata": {},
   "outputs": [],
   "source": []
  }
 ],
 "metadata": {
  "kernelspec": {
   "display_name": "Python [conda env:ontol] *",
   "language": "python",
   "name": "conda-env-ontol-py"
  },
  "language_info": {
   "codemirror_mode": {
    "name": "ipython",
    "version": 3
   },
   "file_extension": ".py",
   "mimetype": "text/x-python",
   "name": "python",
   "nbconvert_exporter": "python",
   "pygments_lexer": "ipython3",
   "version": "3.6.8"
  }
 },
 "nbformat": 4,
 "nbformat_minor": 2
}
