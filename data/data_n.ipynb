{
 "cells": [
  {
   "cell_type": "code",
   "execution_count": 1,
   "metadata": {},
   "outputs": [],
   "source": [
    "import os\n",
    "import pandas as pd"
   ]
  },
  {
   "cell_type": "markdown",
   "metadata": {},
   "source": [
    "# CogNeuro PMIDs"
   ]
  },
  {
   "cell_type": "code",
   "execution_count": 2,
   "metadata": {},
   "outputs": [
    {
     "data": {
      "text/plain": [
       "18155"
      ]
     },
     "execution_count": 2,
     "metadata": {},
     "output_type": "execute_result"
    }
   ],
   "source": [
    "meta = pd.read_csv(\"metadata_filt_180811.csv\", \n",
    "                   index_col=None, header=0, encoding=\"latin-1\")\n",
    "pmids = meta[\"PMID\"].dropna().astype(int)\n",
    "len(pmids)"
   ]
  },
  {
   "cell_type": "markdown",
   "metadata": {},
   "source": [
    "# Number of words"
   ]
  },
  {
   "cell_type": "code",
   "execution_count": 3,
   "metadata": {},
   "outputs": [
    {
     "data": {
      "text/plain": [
       "128170267"
      ]
     },
     "execution_count": 3,
     "metadata": {},
     "output_type": "execute_result"
    }
   ],
   "source": [
    "word_count = 0\n",
    "for pmid in pmids:\n",
    "    file = \"../../../nlp/corpus/{}.txt\".format(pmid)\n",
    "    words = open(file, \"r\").read().replace(\"_\", \" \").split()\n",
    "    word_count += len(words)\n",
    "word_count"
   ]
  },
  {
   "cell_type": "markdown",
   "metadata": {},
   "source": [
    "# Number of tokens"
   ]
  },
  {
   "cell_type": "code",
   "execution_count": 16,
   "metadata": {},
   "outputs": [
    {
     "data": {
      "text/plain": [
       "7135512"
      ]
     },
     "execution_count": 16,
     "metadata": {},
     "output_type": "execute_result"
    }
   ],
   "source": [
    "dtm = pd.read_csv(\"dtm_190124.csv.gz\", index_col=0, header=0)\n",
    "dtm = dtm.loc[:, (dtm != 0).any(axis=0)]\n",
    "dtm.sum().sum()"
   ]
  },
  {
   "cell_type": "code",
   "execution_count": 17,
   "metadata": {},
   "outputs": [
    {
     "data": {
      "text/plain": [
       "(18155, 2123)"
      ]
     },
     "execution_count": 17,
     "metadata": {},
     "output_type": "execute_result"
    }
   ],
   "source": [
    "dtm.shape"
   ]
  },
  {
   "cell_type": "code",
   "execution_count": 15,
   "metadata": {
    "scrolled": false
   },
   "outputs": [
    {
     "name": "stdout",
     "output_type": "stream",
     "text": [
      "activation           546885\n",
      "response             345360\n",
      "control              251634\n",
      "visual               174852\n",
      "word                 149807\n",
      "motor                136495\n",
      "face                 128325\n",
      "performance          120680\n",
      "memory               104348\n",
      "cognitive            96273\n",
      "movement             95544\n",
      "attention            84622\n",
      "target               82854\n",
      "action               80133\n",
      "spatial              77630\n",
      "pain                 77156\n",
      "auditory             76698\n",
      "representation       72875\n",
      "language             71154\n",
      "hand                 69584\n",
      "emotion              68157\n",
      "reward               65737\n",
      "association          65728\n",
      "learning             64118\n",
      "encoding             60711\n",
      "sequence             60514\n",
      "picture              57961\n",
      "motion               53746\n",
      "working_memory       53514\n",
      "retrieval            53029\n",
      "approach             52548\n",
      "reading              49872\n",
      "speech               46934\n",
      "context              44732\n",
      "point                39174\n",
      "perception           39087\n",
      "recognition          37635\n",
      "color                36173\n",
      "decision             36045\n",
      "rest                 35726\n",
      "dynamic              33271\n",
      "cognition            32561\n",
      "judgment             32116\n",
      "risk                 31557\n",
      "feedback             31494\n",
      "letter               31427\n",
      "repetition           29814\n",
      "observation          29782\n",
      "reaction_time        29190\n",
      "others               28863\n",
      "focus                28828\n",
      "integration          28041\n",
      "strategy             28034\n",
      "probability          26943\n",
      "selection            26781\n",
      "loss                 26584\n",
      "eye                  26565\n",
      "anxiety              26484\n",
      "valence              25882\n",
      "fear                 25387\n",
      "noise                25267\n",
      "inhibition           25198\n",
      "somatosensory        25101\n",
      "shape                25013\n",
      "knowledge            24451\n",
      "delay                24118\n",
      "cognitive_control    23911\n",
      "thought              23414\n",
      "detection            22459\n",
      "rule                 22453\n",
      "self                 20996\n",
      "food                 20944\n",
      "imagery              20615\n",
      "strength             20448\n",
      "interference         19629\n",
      "sensorimotor         19425\n",
      "discrimination       18534\n",
      "goal                 18420\n",
      "monitoring           18358\n",
      "facial_expression    18354\n",
      "fixation             18270\n",
      "arousal              17789\n",
      "stress               17439\n",
      "soc                  17083\n",
      "manipulation         16864\n",
      "physical             16787\n",
      "meaning              16780\n",
      "saccade              16349\n",
      "suppression          16245\n",
      "adaptation           16160\n",
      "facial               16097\n",
      "anticipation         15714\n",
      "inference            15712\n",
      "search               15670\n",
      "salience             15425\n",
      "music                15162\n",
      "mood                 15136\n",
      "tone                 15118\n",
      "execution            15072\n",
      "empathy              14924\n",
      "recall               14895\n",
      "familiarity          14862\n",
      "naming               14628\n",
      "localization         14543\n",
      "sleep                14153\n",
      "vision               14046\n",
      "insight              13727\n",
      "response_inhibition  13557\n",
      "maintenance          13548\n",
      "priming              13302\n",
      "preparation          12960\n",
      "tms                  12390\n",
      "response_time        12318\n",
      "concept              12294\n",
      "threat               12100\n",
      "episodic_memory      11975\n",
      "estimation           11833\n",
      "name                 11743\n",
      "detect               11528\n",
      "preference           11264\n",
      "intention            10973\n",
      "eye_movement         10881\n",
      "decision_making      10841\n",
      "gaze                 10470\n",
      "planning             10430\n",
      "executive_function   10428\n",
      "switching            10264\n",
      "skill                10159\n",
      "resource             10037\n",
      "personality          10006\n",
      "syllable             10002\n",
      "emotion_regulation   9894\n",
      "digit                9535\n",
      "reasoning            9482\n",
      "taste                9433\n",
      "hearing              9403\n",
      "capacity             9377\n",
      "effort               9256\n",
      "reactivity           9225\n",
      "cognitive_function   9204\n",
      "cognitive_process    9113\n",
      "psychosis            9043\n",
      "belief               8908\n",
      "extinction           8801\n",
      "addiction            8652\n",
      "disgust              8624\n",
      "arm                  8592\n",
      "theory_mind          8543\n",
      "semantic_processing  8468\n",
      "social_cognition     8311\n",
      "delayed              8299\n",
      "intelligence         8286\n",
      "uncertainty          8220\n",
      "read                 8177\n",
      "olfactory            8123\n",
      "overt                8041\n",
      "rhythm               8026\n",
      "identification       7985\n",
      "generate             7974\n",
      "crossmodal           7943\n",
      "imitation            7873\n",
      "impulsivity          7853\n",
      "calculation          7839\n",
      "smoking              7726\n",
      "odor                 7647\n",
      "communication        7639\n",
      "button_press         7524\n",
      "listening            7462\n",
      "dsmiv                7384\n",
      "coordination         7349\n",
      "competition          7345\n",
      "stroop               7338\n",
      "spatial_attention    7297\n",
      "mental_state         7164\n",
      "multimodal           7087\n",
      "writing              7043\n",
      "inhibitory_control   6976\n",
      "selfreferential      6842\n",
      "recognition_memory   6658\n",
      "brief                6626\n",
      "expectancy           6416\n",
      "thinking             6353\n",
      "consciousness        6287\n",
      "selective_attention  6253\n",
      "prediction_error     6247\n",
      "symbol               6181\n",
      "anger                6162\n",
      "pseudowords          6124\n",
      "simon                6106\n",
      "categorization       6096\n",
      "motor_control        6075\n",
      "dyslexia             6043\n",
      "covert               6007\n",
      "repeat               5998\n",
      "acupuncture          5971\n",
      "multisensory         5954\n",
      "grasping             5909\n",
      "move                 5838\n",
      "language_processing  5784\n",
      "capture              5676\n"
     ]
    }
   ],
   "source": [
    "for word, val in dtm.sum().sort_values(ascending=False)[:200].iteritems():\n",
    "    print(\"{:20s} {}\".format(word, val))"
   ]
  },
  {
   "cell_type": "markdown",
   "metadata": {},
   "source": [
    "# Number of coordinates"
   ]
  },
  {
   "cell_type": "code",
   "execution_count": 11,
   "metadata": {},
   "outputs": [
    {
     "name": "stdout",
     "output_type": "stream",
     "text": [
      "No coordinates for 20677377\n"
     ]
    },
    {
     "data": {
      "text/plain": [
       "605292"
      ]
     },
     "execution_count": 11,
     "metadata": {},
     "output_type": "execute_result"
    }
   ],
   "source": [
    "coord_count = 0\n",
    "for pmid in pmids:\n",
    "    file = \"../../../cogneuro/coordinates/0mm/{}.txt\".format(pmid)\n",
    "    if os.path.exists(file):\n",
    "        coords = open(file, \"r\").readlines()\n",
    "        coord_count += len(coords)\n",
    "    else:\n",
    "        print(\"No coordinates for {}\".format(pmid))\n",
    "coord_count"
   ]
  },
  {
   "cell_type": "markdown",
   "metadata": {},
   "source": [
    "# Number of structures"
   ]
  },
  {
   "cell_type": "code",
   "execution_count": 14,
   "metadata": {},
   "outputs": [
    {
     "name": "stdout",
     "output_type": "stream",
     "text": [
      "No coordinates for 20677377\n"
     ]
    },
    {
     "data": {
      "text/plain": [
       "2636325"
      ]
     },
     "execution_count": 14,
     "metadata": {},
     "output_type": "execute_result"
    }
   ],
   "source": [
    "struct_count = 0\n",
    "for pmid in pmids:\n",
    "    file = \"../../../cogneuro/coordinates/0mm/{}.txt\".format(pmid)\n",
    "    if os.path.exists(file):\n",
    "        structs = open(file, \"r\").read().replace(\",\", \"\\n\").split(\"\\n\")\n",
    "        struct_count += len(structs)\n",
    "    else:\n",
    "        print(\"No coordinates for {}\".format(pmid))\n",
    "struct_count"
   ]
  },
  {
   "cell_type": "code",
   "execution_count": null,
   "metadata": {},
   "outputs": [],
   "source": []
  }
 ],
 "metadata": {
  "kernelspec": {
   "display_name": "Python (RDoC)",
   "language": "python",
   "name": "rdoc"
  },
  "language_info": {
   "codemirror_mode": {
    "name": "ipython",
    "version": 2
   },
   "file_extension": ".py",
   "mimetype": "text/x-python",
   "name": "python",
   "nbconvert_exporter": "python",
   "pygments_lexer": "ipython2",
   "version": "2.7.15"
  }
 },
 "nbformat": 4,
 "nbformat_minor": 2
}
