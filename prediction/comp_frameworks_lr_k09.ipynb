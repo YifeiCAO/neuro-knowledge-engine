{
 "cells": [
  {
   "cell_type": "markdown",
   "metadata": {},
   "source": [
    "# Introduction\n",
    "\n",
    "This notebook compares the test set performance of classifiers using term list scores based on the data-driven, RDoC, and DSM frameworks.\n",
    "\n",
    "# Load the data"
   ]
  },
  {
   "cell_type": "code",
   "execution_count": 1,
   "metadata": {},
   "outputs": [],
   "source": [
    "import pandas as pd\n",
    "import numpy as np\n",
    "np.random.seed(42)\n",
    "\n",
    "import sys\n",
    "sys.path.append(\"..\")\n",
    "import utilities, evaluation\n",
    "from style import style \n",
    "\n",
    "%matplotlib inline"
   ]
  },
  {
   "cell_type": "markdown",
   "metadata": {},
   "source": [
    "## Input parameters"
   ]
  },
  {
   "cell_type": "code",
   "execution_count": 2,
   "metadata": {},
   "outputs": [],
   "source": [
    "clf = \"lr\"\n",
    "n_iter = 1000 # Number of iterations for bootstrap distributions"
   ]
  },
  {
   "cell_type": "code",
   "execution_count": 3,
   "metadata": {},
   "outputs": [],
   "source": [
    "frameworks = [\"data-driven_k09\", \"data-driven\", \"rdoc\", \"dsm\"]\n",
    "names = {\"data-driven_k09\": \"\", \"data-driven\": \"\", \"rdoc\": \"\", \"dsm\": \"\"}\n",
    "metrics = [\"rocauc\", \"f1\"]\n",
    "directions = [\"forward\", \"reverse\"]"
   ]
  },
  {
   "cell_type": "markdown",
   "metadata": {},
   "source": [
    "## Bootstrap distributions"
   ]
  },
  {
   "cell_type": "code",
   "execution_count": 4,
   "metadata": {},
   "outputs": [],
   "source": [
    "obs, boot, null = {}, {}, {}\n",
    "for fw in frameworks:\n",
    "    obs[fw], boot[fw], null[fw] = {\"name\": names[fw]}, {\"name\": names[fw]}, {\"name\": names[fw]}\n",
    "    for m in metrics:\n",
    "        obs[fw][m], boot[fw][m], null[fw][m] = {}, {}, {}\n",
    "        for d in directions:\n",
    "            boot_file = \"logistic_regression/data/{}_boot_{}_{}_{}iter.csv\".format(m, fw, d, n_iter)\n",
    "            boot[fw][m][d] = pd.read_csv(boot_file, index_col=0, header=0)\n",
    "            null_file = \"logistic_regression/data/{}_null_{}_{}_{}iter.csv\".format(m, fw, d, n_iter)\n",
    "            null[fw][m][d] = pd.read_csv(null_file, index_col=0, header=0)\n",
    "            obs_file = \"logistic_regression/data/{}_obs_{}_{}.csv\".format(m, fw, d)\n",
    "            obs[fw][m][d] = pd.read_csv(obs_file, index_col=0, header=None)"
   ]
  },
  {
   "cell_type": "markdown",
   "metadata": {},
   "source": [
    "# Perform comparison tests\n",
    "\n",
    "Is the mean of fw<sub>i</sub> greater than the mean of fw<sub>j</sub>?"
   ]
  },
  {
   "cell_type": "code",
   "execution_count": 5,
   "metadata": {},
   "outputs": [],
   "source": [
    "from statsmodels.stats.multitest import multipletests"
   ]
  },
  {
   "cell_type": "code",
   "execution_count": 6,
   "metadata": {},
   "outputs": [],
   "source": [
    "fdr, sig = {}, {}\n",
    "for metric in metrics:\n",
    "    fdr[metric], sig[metric] = {}, {}\n",
    "    for direction in directions:\n",
    "        \n",
    "        p = np.empty((len(frameworks), len(frameworks)))\n",
    "        for i, fw_i in enumerate(frameworks):\n",
    "            for j, fw_j in enumerate(frameworks):\n",
    "                boot_i = np.mean(boot[fw_i][metric][direction], axis=0)\n",
    "                boot_j = np.mean(boot[fw_j][metric][direction], axis=0)\n",
    "                p[i,j] = np.sum((boot_i - boot_j) <= 0.0) / float(n_iter)\n",
    "        \n",
    "        fdr_md = multipletests(p.ravel(), method=\"fdr_bh\")[1].reshape(p.shape)\n",
    "        fdr_md = pd.DataFrame(fdr_md, index=frameworks, columns=frameworks)\n",
    "        fdr[metric][direction] = fdr_md"
   ]
  },
  {
   "cell_type": "markdown",
   "metadata": {},
   "source": [
    "# Plot evaluation metrics"
   ]
  },
  {
   "cell_type": "code",
   "execution_count": 7,
   "metadata": {},
   "outputs": [],
   "source": [
    "def plot_framework_comparison(metric, direction, boot, n_iter=1000,\n",
    "                              dx=0.38, ylim=[0.4,0.65], yticks=[], font=style.font):\n",
    "    \n",
    "    import matplotlib.pyplot as plt\n",
    "    from matplotlib import font_manager, rcParams\n",
    "\n",
    "    font_prop = font_manager.FontProperties(fname=font, size=18)\n",
    "    rcParams[\"axes.linewidth\"] = 1.5\n",
    "    \n",
    "    fig = plt.figure(figsize=(1.6,2.1))#plt.figure(figsize=(2.6,3.2))\n",
    "    ax = fig.add_axes([0,0,1,1])\n",
    "\n",
    "    i = 0\n",
    "    labels = []\n",
    "    for fw, dist in boot.items():\n",
    "        labels.append(dist[\"name\"])\n",
    "        dist = dist[metric][direction]\n",
    "        dist_avg = np.mean(dist, axis=0)\n",
    "        macro_avg = np.mean(dist_avg)\n",
    "        plt.plot([i-dx, i+dx], [macro_avg, macro_avg], \n",
    "                 c=\"gray\", alpha=1, lw=2, zorder=-1)\n",
    "        v = ax.violinplot(sorted(dist_avg), positions=[i], \n",
    "                          showmeans=False, showmedians=False, widths=0.85)\n",
    "        for pc in v[\"bodies\"]:\n",
    "            pc.set_facecolor(\"gray\")\n",
    "            pc.set_edgecolor(\"gray\")\n",
    "            pc.set_linewidth(2)\n",
    "            pc.set_alpha(0.5)\n",
    "        for line in [\"cmaxes\", \"cmins\", \"cbars\"]:\n",
    "            v[line].set_edgecolor(\"none\")\n",
    "        i += 1\n",
    "\n",
    "    ax.set_xticks(range(len(boot.keys())))\n",
    "    ax.set_xticklabels(labels, rotation=60, ha=\"right\")\n",
    "    plt.xticks(fontproperties=font_prop)\n",
    "    plt.yticks(yticks, fontproperties=font_prop)\n",
    "    plt.xlim([-0.75, len(boot.keys())-0.25])\n",
    "    plt.ylim(ylim)\n",
    "    for side in [\"right\", \"top\"]:\n",
    "        ax.spines[side].set_visible(False)\n",
    "    ax.xaxis.set_tick_params(width=1.5, length=7)\n",
    "    ax.yaxis.set_tick_params(width=1.5, length=7)\n",
    "    plt.savefig(\"logistic_regression/figures/{}_{}_{}iter_k09.png\".format(metric, direction, n_iter), \n",
    "                dpi=250, bbox_inches=\"tight\")\n",
    "    plt.show()"
   ]
  },
  {
   "cell_type": "markdown",
   "metadata": {},
   "source": [
    "## ROC-AUC"
   ]
  },
  {
   "cell_type": "code",
   "execution_count": 8,
   "metadata": {
    "scrolled": false
   },
   "outputs": [
    {
     "name": "stdout",
     "output_type": "stream",
     "text": [
      "----------------------------------------\n",
      "\t\tFORWARD\n",
      "----------------------------------------\n",
      "                 data-driven_k09  data-driven  rdoc  dsm\n",
      "data-driven_k09              1.0     0.021333   0.0  0.0\n",
      "data-driven                  1.0     1.000000   0.0  0.0\n",
      "rdoc                         1.0     1.000000   1.0  0.0\n",
      "dsm                          1.0     1.000000   1.0  1.0\n",
      "\n"
     ]
    },
    {
     "data": {
      "image/png": "[encoded data removed]",
      "text/plain": [
       "<Figure size 115.2x151.2 with 1 Axes>"
      ]
     },
     "metadata": {
      "needs_background": "light"
     },
     "output_type": "display_data"
    },
    {
     "name": "stdout",
     "output_type": "stream",
     "text": [
      "----------------------------------------\n",
      "\t\tREVERSE\n",
      "----------------------------------------\n",
      "                 data-driven_k09  data-driven  rdoc    dsm\n",
      "data-driven_k09         1.000000          1.0   0.0  0.000\n",
      "data-driven             0.085333          1.0   0.0  0.000\n",
      "rdoc                    1.000000          1.0   1.0  0.016\n",
      "dsm                     1.000000          1.0   1.0  1.000\n",
      "\n"
     ]
    },
    {
     "data": {
      "image/png": "[encoded data removed]",
      "text/plain": [
       "<Figure size 115.2x151.2 with 1 Axes>"
      ]
     },
     "metadata": {
      "needs_background": "light"
     },
     "output_type": "display_data"
    }
   ],
   "source": [
    "metric = \"rocauc\"\n",
    "for direction in directions:\n",
    "    print(\"-\"*40 + \"\\n\\t\\t\" + direction.upper() + \"\\n\" + \"-\"*40)\n",
    "    print(fdr[metric][direction])\n",
    "    print(\"\")\n",
    "    plot_framework_comparison(metric, direction, boot, n_iter=n_iter, \n",
    "                              ylim=[0.4,0.8], \n",
    "                              yticks=[0.4,0.5,0.6,0.7,0.8])"
   ]
  },
  {
   "cell_type": "markdown",
   "metadata": {},
   "source": [
    "## F1 score"
   ]
  },
  {
   "cell_type": "code",
   "execution_count": 9,
   "metadata": {},
   "outputs": [
    {
     "name": "stdout",
     "output_type": "stream",
     "text": [
      "----------------------------------------\n",
      "\t\tFORWARD\n",
      "----------------------------------------\n",
      "                 data-driven_k09  data-driven  rdoc  dsm\n",
      "data-driven_k09              1.0          0.0   0.0  0.0\n",
      "data-driven                  1.0          1.0   0.0  0.0\n",
      "rdoc                         1.0          1.0   1.0  0.0\n",
      "dsm                          1.0          1.0   1.0  1.0\n",
      "\n"
     ]
    },
    {
     "data": {
      "image/png": "[encoded data removed]",
      "text/plain": [
       "<Figure size 115.2x151.2 with 1 Axes>"
      ]
     },
     "metadata": {
      "needs_background": "light"
     },
     "output_type": "display_data"
    },
    {
     "name": "stdout",
     "output_type": "stream",
     "text": [
      "----------------------------------------\n",
      "\t\tREVERSE\n",
      "----------------------------------------\n",
      "                 data-driven_k09  data-driven  rdoc  dsm\n",
      "data-driven_k09            1.000          1.0   0.0  0.0\n",
      "data-driven                0.152          1.0   0.0  0.0\n",
      "rdoc                       1.000          1.0   1.0  0.0\n",
      "dsm                        1.000          1.0   1.0  1.0\n",
      "\n"
     ]
    },
    {
     "data": {
      "image/png": "[encoded data removed]",
      "text/plain": [
       "<Figure size 115.2x151.2 with 1 Axes>"
      ]
     },
     "metadata": {
      "needs_background": "light"
     },
     "output_type": "display_data"
    }
   ],
   "source": [
    "metric = \"f1\"\n",
    "for direction in directions:\n",
    "    print(\"-\"*40 + \"\\n\\t\\t\" + direction.upper() + \"\\n\" + \"-\"*40)\n",
    "    print(fdr[metric][direction])\n",
    "    print(\"\")\n",
    "    plot_framework_comparison(metric, direction, boot, n_iter=n_iter, \n",
    "                              ylim=[0.3,0.7], yticks=[0.3,0.4,0.5,0.6,0.7])"
   ]
  },
  {
   "cell_type": "code",
   "execution_count": null,
   "metadata": {},
   "outputs": [],
   "source": []
  }
 ],
 "metadata": {
  "kernelspec": {
   "display_name": "Python [conda env:ontol]",
   "language": "python",
   "name": "conda-env-ontol-py"
  },
  "language_info": {
   "codemirror_mode": {
    "name": "ipython",
    "version": 3
   },
   "file_extension": ".py",
   "mimetype": "text/x-python",
   "name": "python",
   "nbconvert_exporter": "python",
   "pygments_lexer": "ipython3",
   "version": "3.6.8"
  }
 },
 "nbformat": 4,
 "nbformat_minor": 2
}
