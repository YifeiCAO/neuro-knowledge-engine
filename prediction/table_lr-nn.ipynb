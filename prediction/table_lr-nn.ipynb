{
 "cells": [
  {
   "cell_type": "code",
   "execution_count": 1,
   "metadata": {},
   "outputs": [],
   "source": [
    "import pandas as pd"
   ]
  },
  {
   "cell_type": "code",
   "execution_count": 2,
   "metadata": {},
   "outputs": [],
   "source": [
    "metrics = [\"f1\", \"rocauc\"]\n",
    "frameworks = [\"data-driven\", \"rdoc\", \"dsm\"]"
   ]
  },
  {
   "cell_type": "markdown",
   "metadata": {},
   "source": [
    "# Forward inference"
   ]
  },
  {
   "cell_type": "code",
   "execution_count": 3,
   "metadata": {},
   "outputs": [],
   "source": [
    "for metric in metrics:\n",
    "    df = pd.DataFrame()\n",
    "    for framework in frameworks:\n",
    "        df[\"LR\"] = pd.read_csv(\"logistic_regression/data/{}_obs_{}_forward.csv\".format(metric, framework), header=None, index_col=0)[1]\n",
    "        df[\"NN\"] = pd.read_csv(\"neural_network/data/{}_obs_{}_forward.csv\".format(metric, framework), header=None, index_col=0)[1]\n",
    "        ci = pd.read_csv(\"data/{}_lr-nn_{}_forward.csv\".format(metric, framework), header=0, index_col=None).round(decimals=2)\n",
    "        df[\"CI (99.9%)\"] = [\"{:4.2f} to {:4.2f}\".format(ci[\"CI_LOWER\"][i], ci[\"CI_UPPER\"][i]) for i in range(len(ci))]\n",
    "        df[\"LR\"] = [\"{:4.2f}\".format(v) for v in df[\"LR\"]]\n",
    "        df[\"NN\"] = [\"{:4.2f}\".format(v) for v in df[\"NN\"]]\n",
    "        df.to_csv(\"data/{}_lr-nn_ci_{}_forward.csv\".format(metric, framework), columns=[\"LR\", \"NN\", \"CI (99.9%)\"])"
   ]
  },
  {
   "cell_type": "markdown",
   "metadata": {},
   "source": [
    "# Reverse inference"
   ]
  },
  {
   "cell_type": "code",
   "execution_count": 4,
   "metadata": {},
   "outputs": [],
   "source": [
    "for metric in metrics:\n",
    "    for framework in frameworks:\n",
    "        df = pd.DataFrame()\n",
    "        df[\"LR\"] = pd.read_csv(\"logistic_regression/data/{}_obs_{}_reverse.csv\".format(metric, framework), header=None, index_col=0)[1]\n",
    "        df_nn = pd.read_csv(\"neural_network/data/{}_obs_{}_reverse.csv\".format(metric, framework), header=None, index_col=0)[1]\n",
    "        df_nn.index = df.index\n",
    "        df[\"NN\"] = df_nn\n",
    "        df = df.round(decimals=2)\n",
    "        ci = pd.read_csv(\"data/{}_lr-nn_{}_reverse.csv\".format(metric, framework), header=0, index_col=None).round(decimals=2)\n",
    "        df[\"CI (99.9%)\"] = [\"{:4.2f} to {:4.2f}\".format(ci[\"CI_LOWER\"][i], ci[\"CI_UPPER\"][i]) for i in range(len(ci))]\n",
    "        df[\"LR\"] = [\"{:4.2f}\".format(v) for v in df[\"LR\"]]\n",
    "        df[\"NN\"] = [\"{:4.2f}\".format(v) for v in df[\"NN\"]]\n",
    "        df.to_csv(\"data/{}_lr-nn_ci_{}_reverse.csv\".format(metric, framework), columns=[\"LR\", \"NN\", \"CI (99.9%)\"])"
   ]
  },
  {
   "cell_type": "code",
   "execution_count": null,
   "metadata": {},
   "outputs": [],
   "source": []
  }
 ],
 "metadata": {
  "kernelspec": {
   "display_name": "Python (Ontol)",
   "language": "python",
   "name": "ontol"
  },
  "language_info": {
   "codemirror_mode": {
    "name": "ipython",
    "version": 3
   },
   "file_extension": ".py",
   "mimetype": "text/x-python",
   "name": "python",
   "nbconvert_exporter": "python",
   "pygments_lexer": "ipython3",
   "version": "3.6.8"
  }
 },
 "nbformat": 4,
 "nbformat_minor": 2
}
