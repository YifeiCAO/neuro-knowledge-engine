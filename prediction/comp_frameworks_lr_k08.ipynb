{
 "cells": [
  {
   "cell_type": "markdown",
   "metadata": {},
   "source": [
    "# Introduction\n",
    "\n",
    "This notebook compares the test set performance of classifiers using term list scores based on the data-driven, RDoC, and DSM frameworks.\n",
    "\n",
    "# Load the data"
   ]
  },
  {
   "cell_type": "code",
   "execution_count": 1,
   "metadata": {},
   "outputs": [],
   "source": [
    "import pandas as pd\n",
    "import numpy as np\n",
    "np.random.seed(42)\n",
    "\n",
    "import sys\n",
    "sys.path.append(\"..\")\n",
    "import utilities, evaluation\n",
    "from style import style \n",
    "\n",
    "%matplotlib inline"
   ]
  },
  {
   "cell_type": "markdown",
   "metadata": {},
   "source": [
    "## Input parameters"
   ]
  },
  {
   "cell_type": "code",
   "execution_count": 2,
   "metadata": {},
   "outputs": [],
   "source": [
    "clf = \"lr\"\n",
    "n_iter = 1000 # Number of iterations for bootstrap distributions\n",
    "k = 8"
   ]
  },
  {
   "cell_type": "code",
   "execution_count": 3,
   "metadata": {},
   "outputs": [],
   "source": [
    "frameworks = [\"data-driven_k08\", \"data-driven\", \"rdoc\", \"dsm\"]\n",
    "names = {\"data-driven_k08\": \"\", \"data-driven\": \"\", \"rdoc\": \"\", \"dsm\": \"\"}\n",
    "metrics = [\"rocauc\", \"f1\"]\n",
    "directions = [\"forward\", \"reverse\"]"
   ]
  },
  {
   "cell_type": "markdown",
   "metadata": {},
   "source": [
    "## Logistic regression data"
   ]
  },
  {
   "cell_type": "code",
   "execution_count": 4,
   "metadata": {},
   "outputs": [],
   "source": [
    "obs, boot, null = {}, {}, {}\n",
    "for fw in frameworks:\n",
    "    obs[fw], boot[fw], null[fw] = {\"name\": names[fw]}, {\"name\": names[fw]}, {\"name\": names[fw]}\n",
    "    for m in metrics:\n",
    "        obs[fw][m], boot[fw][m], null[fw][m] = {}, {}, {}\n",
    "        for d in directions:\n",
    "            boot_file = \"logistic_regression/data/{}_boot_{}_{}_{}iter.csv\".format(m, fw, d, n_iter)\n",
    "            boot[fw][m][d] = pd.read_csv(boot_file, index_col=0, header=0)\n",
    "            null_file = \"logistic_regression/data/{}_null_{}_{}_{}iter.csv\".format(m, fw, d, n_iter)\n",
    "            null[fw][m][d] = pd.read_csv(null_file, index_col=0, header=0)\n",
    "            obs_file = \"logistic_regression/data/{}_obs_{}_{}.csv\".format(m, fw, d)\n",
    "            obs[fw][m][d] = pd.read_csv(obs_file, index_col=0, header=None)"
   ]
  },
  {
   "cell_type": "code",
   "execution_count": 5,
   "metadata": {},
   "outputs": [
    {
     "data": {
      "text/plain": [
       "1    0.613922\n",
       "dtype: float64"
      ]
     },
     "execution_count": 5,
     "metadata": {},
     "output_type": "execute_result"
    }
   ],
   "source": [
    "obs[\"data-driven_k08\"][\"rocauc\"][\"forward\"].mean()"
   ]
  },
  {
   "cell_type": "code",
   "execution_count": 6,
   "metadata": {},
   "outputs": [
    {
     "data": {
      "text/plain": [
       "1    0.704319\n",
       "dtype: float64"
      ]
     },
     "execution_count": 6,
     "metadata": {},
     "output_type": "execute_result"
    }
   ],
   "source": [
    "obs[\"data-driven_k08\"][\"rocauc\"][\"reverse\"].mean()"
   ]
  },
  {
   "cell_type": "markdown",
   "metadata": {},
   "source": [
    "# Perform comparison tests\n",
    "\n",
    "Is the mean of fw<sub>i</sub> greater than the mean of fw<sub>j</sub>?"
   ]
  },
  {
   "cell_type": "code",
   "execution_count": 7,
   "metadata": {},
   "outputs": [],
   "source": [
    "from statsmodels.stats.multitest import multipletests"
   ]
  },
  {
   "cell_type": "code",
   "execution_count": 8,
   "metadata": {},
   "outputs": [],
   "source": [
    "fdr, sig = {}, {}\n",
    "for metric in metrics:\n",
    "    fdr[metric], sig[metric] = {}, {}\n",
    "    for direction in directions:\n",
    "        \n",
    "        p = np.empty((len(frameworks), len(frameworks)))\n",
    "        for i, fw_i in enumerate(frameworks):\n",
    "            for j, fw_j in enumerate(frameworks):\n",
    "                boot_i = np.mean(boot[fw_i][metric][direction], axis=0)\n",
    "                boot_j = np.mean(boot[fw_j][metric][direction], axis=0)\n",
    "                p[i,j] = np.sum((boot_i - boot_j) <= 0.0) / float(n_iter)\n",
    "        \n",
    "        fdr_md = multipletests(p.ravel(), method=\"fdr_bh\")[1].reshape(p.shape)\n",
    "        fdr_md = pd.DataFrame(fdr_md, index=frameworks, columns=frameworks)\n",
    "        fdr[metric][direction] = fdr_md"
   ]
  },
  {
   "cell_type": "code",
   "execution_count": 9,
   "metadata": {},
   "outputs": [],
   "source": [
    "interval = 0.999\n",
    "tail = (1.0 - interval) / 2.0 # Two-sided test\n",
    "idx_lower = int(n_iter * tail)\n",
    "idx_upper = int(n_iter * (1.0 - tail))\n",
    "\n",
    "CI = {}\n",
    "for metric in metrics:\n",
    "    CI[metric] = {}\n",
    "    for direction in directions:\n",
    "        \n",
    "        CI[metric][direction] = pd.DataFrame(\"\", index=frameworks, columns=frameworks)\n",
    "        for i, fw_i in enumerate(frameworks):\n",
    "            for j, fw_j in enumerate(frameworks):\n",
    "                boot_i = np.mean(boot[fw_i][metric][direction], axis=0)\n",
    "                boot_j = np.mean(boot[fw_j][metric][direction], axis=0)\n",
    "                boot_dif = np.sort(boot_i - boot_j)\n",
    "                CI_lower = boot_dif[idx_lower]\n",
    "                CI_upper = boot_dif[idx_upper]\n",
    "                CI_sig = \"\"\n",
    "                if (CI_lower > 0 and CI_upper > 0) or (CI_lower < 0 and CI_upper < 0):\n",
    "                    CI_sig = \"*\"\n",
    "                CI[metric][direction].loc[fw_i,fw_j] = \"{:.3f}, {:.3f} {}\".format(CI_lower, CI_upper, CI_sig)"
   ]
  },
  {
   "cell_type": "markdown",
   "metadata": {},
   "source": [
    "# Plot evaluation metrics"
   ]
  },
  {
   "cell_type": "code",
   "execution_count": 10,
   "metadata": {},
   "outputs": [],
   "source": [
    "def plot_framework_comparison(metric, direction, boot, k, n_iter=1000,\n",
    "                              dx=0.38, ylim=[0.4,0.65], yticks=[], font=style.font):\n",
    "    \n",
    "    import matplotlib.pyplot as plt\n",
    "    from matplotlib import font_manager, rcParams\n",
    "\n",
    "    font_prop = font_manager.FontProperties(fname=font, size=18)\n",
    "    rcParams[\"axes.linewidth\"] = 1.5\n",
    "    \n",
    "    fig = plt.figure(figsize=(1.6,2.1))#plt.figure(figsize=(2.6,3.2))\n",
    "    ax = fig.add_axes([0,0,1,1])\n",
    "\n",
    "    i = 0\n",
    "    labels = []\n",
    "    for fw, dist in boot.items():\n",
    "        labels.append(dist[\"name\"])\n",
    "        dist = dist[metric][direction]\n",
    "        dist_avg = np.mean(dist, axis=0)\n",
    "        macro_avg = np.mean(dist_avg)\n",
    "        plt.plot([i-dx, i+dx], [macro_avg, macro_avg], \n",
    "                 c=\"gray\", alpha=1, lw=2, zorder=-1)\n",
    "        v = ax.violinplot(sorted(dist_avg), positions=[i], \n",
    "                          showmeans=False, showmedians=False, widths=0.85)\n",
    "        for pc in v[\"bodies\"]:\n",
    "            pc.set_facecolor(\"gray\")\n",
    "            pc.set_edgecolor(\"gray\")\n",
    "            pc.set_linewidth(2)\n",
    "            pc.set_alpha(0.5)\n",
    "        for line in [\"cmaxes\", \"cmins\", \"cbars\"]:\n",
    "            v[line].set_edgecolor(\"none\")\n",
    "        i += 1\n",
    "\n",
    "    ax.set_xticks(range(len(boot.keys())))\n",
    "    ax.set_xticklabels(labels, rotation=60, ha=\"right\")\n",
    "    plt.xticks(fontproperties=font_prop)\n",
    "    plt.yticks(yticks, fontproperties=font_prop)\n",
    "    plt.xlim([-0.75, len(boot.keys())-0.25])\n",
    "    plt.ylim(ylim)\n",
    "    for side in [\"right\", \"top\"]:\n",
    "        ax.spines[side].set_visible(False)\n",
    "    ax.xaxis.set_tick_params(width=1.5, length=7)\n",
    "    ax.yaxis.set_tick_params(width=1.5, length=7)\n",
    "    plt.savefig(\"logistic_regression/figures/{}_{}_{}iter_k{:02d}.png\".format(metric, direction, n_iter, k), \n",
    "                dpi=250, bbox_inches=\"tight\")\n",
    "    plt.show()"
   ]
  },
  {
   "cell_type": "markdown",
   "metadata": {},
   "source": [
    "## ROC-AUC"
   ]
  },
  {
   "cell_type": "code",
   "execution_count": 11,
   "metadata": {
    "scrolled": false
   },
   "outputs": [
    {
     "name": "stdout",
     "output_type": "stream",
     "text": [
      "----------------------------------------\n",
      "\t\tFORWARD\n",
      "----------------------------------------\n",
      "                  data-driven_k08       data-driven              rdoc  \\\n",
      "data-driven_k08     0.000, 0.000     -0.003, 0.014     0.026, 0.054 *   \n",
      "data-driven        -0.014, 0.003      0.000, 0.000     0.020, 0.049 *   \n",
      "rdoc             -0.054, -0.026 *  -0.049, -0.020 *     0.000, 0.000    \n",
      "dsm              -0.094, -0.061 *  -0.091, -0.055 *  -0.058, -0.024 *   \n",
      "\n",
      "                            dsm  \n",
      "data-driven_k08  0.061, 0.094 *  \n",
      "data-driven      0.055, 0.091 *  \n",
      "rdoc             0.024, 0.058 *  \n",
      "dsm               0.000, 0.000   \n",
      "\n"
     ]
    },
    {
     "data": {
      "image/png": "[encoded data removed]",
      "text/plain": [
       "<Figure size 115.2x151.2 with 1 Axes>"
      ]
     },
     "metadata": {
      "needs_background": "light"
     },
     "output_type": "display_data"
    },
    {
     "name": "stdout",
     "output_type": "stream",
     "text": [
      "----------------------------------------\n",
      "\t\tREVERSE\n",
      "----------------------------------------\n",
      "                  data-driven_k08       data-driven            rdoc  \\\n",
      "data-driven_k08     0.000, 0.000     -0.017, 0.006   0.012, 0.064 *   \n",
      "data-driven        -0.006, 0.017      0.000, 0.000   0.019, 0.073 *   \n",
      "rdoc             -0.064, -0.012 *  -0.073, -0.019 *   0.000, 0.000    \n",
      "dsm              -0.109, -0.031 *  -0.111, -0.032 *  -0.070, 0.010    \n",
      "\n",
      "                            dsm  \n",
      "data-driven_k08  0.031, 0.109 *  \n",
      "data-driven      0.032, 0.111 *  \n",
      "rdoc             -0.010, 0.070   \n",
      "dsm               0.000, 0.000   \n",
      "\n"
     ]
    },
    {
     "data": {
      "image/png": "[encoded data removed]",
      "text/plain": [
       "<Figure size 115.2x151.2 with 1 Axes>"
      ]
     },
     "metadata": {
      "needs_background": "light"
     },
     "output_type": "display_data"
    }
   ],
   "source": [
    "metric = \"rocauc\"\n",
    "for direction in directions:\n",
    "    print(\"-\"*40 + \"\\n\\t\\t\" + direction.upper() + \"\\n\" + \"-\"*40)\n",
    "    print(CI[metric][direction])\n",
    "    print(\"\")\n",
    "    plot_framework_comparison(metric, direction, boot, k, n_iter=n_iter, \n",
    "                              ylim=[0.4,0.8], \n",
    "                              yticks=[0.4,0.5,0.6,0.7,0.8])"
   ]
  },
  {
   "cell_type": "markdown",
   "metadata": {},
   "source": [
    "## F1 score"
   ]
  },
  {
   "cell_type": "code",
   "execution_count": 12,
   "metadata": {},
   "outputs": [
    {
     "name": "stdout",
     "output_type": "stream",
     "text": [
      "----------------------------------------\n",
      "\t\tFORWARD\n",
      "----------------------------------------\n",
      "                  data-driven_k08       data-driven              rdoc  \\\n",
      "data-driven_k08     0.000, 0.000     0.003, 0.011 *    0.020, 0.030 *   \n",
      "data-driven      -0.011, -0.003 *     0.000, 0.000     0.015, 0.022 *   \n",
      "rdoc             -0.030, -0.020 *  -0.022, -0.015 *     0.000, 0.000    \n",
      "dsm              -0.058, -0.048 *  -0.051, -0.042 *  -0.031, -0.024 *   \n",
      "\n",
      "                            dsm  \n",
      "data-driven_k08  0.048, 0.058 *  \n",
      "data-driven      0.042, 0.051 *  \n",
      "rdoc             0.024, 0.031 *  \n",
      "dsm               0.000, 0.000   \n",
      "\n"
     ]
    },
    {
     "data": {
      "image/png": "[encoded data removed]",
      "text/plain": [
       "<Figure size 115.2x151.2 with 1 Axes>"
      ]
     },
     "metadata": {
      "needs_background": "light"
     },
     "output_type": "display_data"
    },
    {
     "name": "stdout",
     "output_type": "stream",
     "text": [
      "----------------------------------------\n",
      "\t\tREVERSE\n",
      "----------------------------------------\n",
      "                  data-driven_k08       data-driven              rdoc  \\\n",
      "data-driven_k08     0.000, 0.000     -0.024, 0.005     0.036, 0.078 *   \n",
      "data-driven        -0.005, 0.024      0.000, 0.000     0.040, 0.083 *   \n",
      "rdoc             -0.078, -0.036 *  -0.083, -0.040 *     0.000, 0.000    \n",
      "dsm              -0.149, -0.118 *  -0.164, -0.126 *  -0.096, -0.063 *   \n",
      "\n",
      "                            dsm  \n",
      "data-driven_k08  0.118, 0.149 *  \n",
      "data-driven      0.126, 0.164 *  \n",
      "rdoc             0.063, 0.096 *  \n",
      "dsm               0.000, 0.000   \n",
      "\n"
     ]
    },
    {
     "data": {
      "image/png": "[encoded data removed]",
      "text/plain": [
       "<Figure size 115.2x151.2 with 1 Axes>"
      ]
     },
     "metadata": {
      "needs_background": "light"
     },
     "output_type": "display_data"
    }
   ],
   "source": [
    "metric = \"f1\"\n",
    "for direction in directions:\n",
    "    print(\"-\"*40 + \"\\n\\t\\t\" + direction.upper() + \"\\n\" + \"-\"*40)\n",
    "    print(CI[metric][direction])\n",
    "    print(\"\")\n",
    "    plot_framework_comparison(metric, direction, boot, k, n_iter=n_iter, \n",
    "                              ylim=[0.3,0.7], yticks=[0.3,0.4,0.5,0.6,0.7])"
   ]
  },
  {
   "cell_type": "code",
   "execution_count": null,
   "metadata": {},
   "outputs": [],
   "source": []
  }
 ],
 "metadata": {
  "kernelspec": {
   "display_name": "Python [conda env:ontol]",
   "language": "python",
   "name": "conda-env-ontol-py"
  },
  "language_info": {
   "codemirror_mode": {
    "name": "ipython",
    "version": 3
   },
   "file_extension": ".py",
   "mimetype": "text/x-python",
   "name": "python",
   "nbconvert_exporter": "python",
   "pygments_lexer": "ipython3",
   "version": "3.6.8"
  }
 },
 "nbformat": 4,
 "nbformat_minor": 2
}
