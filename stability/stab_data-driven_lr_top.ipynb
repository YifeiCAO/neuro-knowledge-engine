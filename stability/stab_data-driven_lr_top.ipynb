{
 "cells": [
  {
   "cell_type": "markdown",
   "metadata": {},
   "source": [
    "# Introduction\n",
    "\n",
    "For each brain structure, we'll plot how similar its assigned mental functions are from cluster to cluster. \n",
    "\n",
    "# Load the data"
   ]
  },
  {
   "cell_type": "code",
   "execution_count": 1,
   "metadata": {},
   "outputs": [],
   "source": [
    "import pandas as pd\n",
    "import numpy as np\n",
    "np.random.seed(42)\n",
    "\n",
    "import sys\n",
    "sys.path.append(\"..\")\n",
    "from ontology import ontology\n",
    "from style import style"
   ]
  },
  {
   "cell_type": "code",
   "execution_count": 2,
   "metadata": {},
   "outputs": [],
   "source": [
    "framework = \"data-driven\" \n",
    "version = 190325 # Document-term matrix version\n",
    "suffix = \"_oplen\" # Suffix for term lists\n",
    "clf = \"_lr\" # Suffix for data-driven classifiers\n",
    "n_iter = 10 # Iterations for bootstrap and null\n",
    "n = 5 # Number of top terms to include"
   ]
  },
  {
   "cell_type": "markdown",
   "metadata": {},
   "source": [
    "## Cluster solutions"
   ]
  },
  {
   "cell_type": "code",
   "execution_count": 3,
   "metadata": {},
   "outputs": [],
   "source": [
    "clusters = range(2,26)"
   ]
  },
  {
   "cell_type": "markdown",
   "metadata": {},
   "source": [
    "## Words and circuits"
   ]
  },
  {
   "cell_type": "code",
   "execution_count": 4,
   "metadata": {},
   "outputs": [],
   "source": [
    "solutions = {}\n",
    "for k in clusters:\n",
    "    lists, circuits = ontology.load_ontology(k, suffix=\"_logreg\", path=\"../ontology/\")\n",
    "    solutions[k] = {\"lists\": lists, \"circuits\": circuits}"
   ]
  },
  {
   "cell_type": "code",
   "execution_count": 5,
   "metadata": {},
   "outputs": [
    {
     "data": {
      "text/html": [
       "<div>\n",
       "<style scoped>\n",
       "    .dataframe tbody tr th:only-of-type {\n",
       "        vertical-align: middle;\n",
       "    }\n",
       "\n",
       "    .dataframe tbody tr th {\n",
       "        vertical-align: top;\n",
       "    }\n",
       "\n",
       "    .dataframe thead th {\n",
       "        text-align: right;\n",
       "    }\n",
       "</style>\n",
       "<table border=\"1\" class=\"dataframe\">\n",
       "  <thead>\n",
       "    <tr style=\"text-align: right;\">\n",
       "      <th></th>\n",
       "      <th>STRUCTURE</th>\n",
       "      <th>CLUSTER</th>\n",
       "      <th>DOMAIN</th>\n",
       "      <th>TITLE</th>\n",
       "    </tr>\n",
       "  </thead>\n",
       "  <tbody>\n",
       "    <tr>\n",
       "      <th>0</th>\n",
       "      <td>left_accumbens</td>\n",
       "      <td>1</td>\n",
       "      <td>AROUSAL</td>\n",
       "      <td>Arousal</td>\n",
       "    </tr>\n",
       "    <tr>\n",
       "      <th>1</th>\n",
       "      <td>left_amygdala</td>\n",
       "      <td>1</td>\n",
       "      <td>AROUSAL</td>\n",
       "      <td>Arousal</td>\n",
       "    </tr>\n",
       "    <tr>\n",
       "      <th>2</th>\n",
       "      <td>left_brainstem</td>\n",
       "      <td>1</td>\n",
       "      <td>AROUSAL</td>\n",
       "      <td>Arousal</td>\n",
       "    </tr>\n",
       "    <tr>\n",
       "      <th>3</th>\n",
       "      <td>left_caudate</td>\n",
       "      <td>1</td>\n",
       "      <td>AROUSAL</td>\n",
       "      <td>Arousal</td>\n",
       "    </tr>\n",
       "    <tr>\n",
       "      <th>4</th>\n",
       "      <td>left_frontal_medial_cortex</td>\n",
       "      <td>1</td>\n",
       "      <td>AROUSAL</td>\n",
       "      <td>Arousal</td>\n",
       "    </tr>\n",
       "  </tbody>\n",
       "</table>\n",
       "</div>"
      ],
      "text/plain": [
       "                    STRUCTURE  CLUSTER   DOMAIN    TITLE\n",
       "0              left_accumbens        1  AROUSAL  Arousal\n",
       "1               left_amygdala        1  AROUSAL  Arousal\n",
       "2              left_brainstem        1  AROUSAL  Arousal\n",
       "3                left_caudate        1  AROUSAL  Arousal\n",
       "4  left_frontal_medial_cortex        1  AROUSAL  Arousal"
      ]
     },
     "execution_count": 5,
     "metadata": {},
     "output_type": "execute_result"
    }
   ],
   "source": [
    "solutions[clusters[0]][\"circuits\"].head()"
   ]
  },
  {
   "cell_type": "code",
   "execution_count": 6,
   "metadata": {},
   "outputs": [
    {
     "data": {
      "text/html": [
       "<div>\n",
       "<style scoped>\n",
       "    .dataframe tbody tr th:only-of-type {\n",
       "        vertical-align: middle;\n",
       "    }\n",
       "\n",
       "    .dataframe tbody tr th {\n",
       "        vertical-align: top;\n",
       "    }\n",
       "\n",
       "    .dataframe thead th {\n",
       "        text-align: right;\n",
       "    }\n",
       "</style>\n",
       "<table border=\"1\" class=\"dataframe\">\n",
       "  <thead>\n",
       "    <tr style=\"text-align: right;\">\n",
       "      <th></th>\n",
       "      <th>CLUSTER</th>\n",
       "      <th>TOKEN</th>\n",
       "      <th>R</th>\n",
       "      <th>ROC_AUC</th>\n",
       "      <th>DOMAIN</th>\n",
       "      <th>TITLE</th>\n",
       "    </tr>\n",
       "  </thead>\n",
       "  <tbody>\n",
       "    <tr>\n",
       "      <th>0</th>\n",
       "      <td>1</td>\n",
       "      <td>reward</td>\n",
       "      <td>0.174514</td>\n",
       "      <td>0.654638</td>\n",
       "      <td>AROUSAL</td>\n",
       "      <td>Arousal</td>\n",
       "    </tr>\n",
       "    <tr>\n",
       "      <th>1</th>\n",
       "      <td>1</td>\n",
       "      <td>valence</td>\n",
       "      <td>0.153667</td>\n",
       "      <td>0.654638</td>\n",
       "      <td>AROUSAL</td>\n",
       "      <td>Arousal</td>\n",
       "    </tr>\n",
       "    <tr>\n",
       "      <th>2</th>\n",
       "      <td>1</td>\n",
       "      <td>emotion</td>\n",
       "      <td>0.143888</td>\n",
       "      <td>0.654638</td>\n",
       "      <td>AROUSAL</td>\n",
       "      <td>Arousal</td>\n",
       "    </tr>\n",
       "    <tr>\n",
       "      <th>3</th>\n",
       "      <td>1</td>\n",
       "      <td>arousal</td>\n",
       "      <td>0.142250</td>\n",
       "      <td>0.654638</td>\n",
       "      <td>AROUSAL</td>\n",
       "      <td>Arousal</td>\n",
       "    </tr>\n",
       "    <tr>\n",
       "      <th>4</th>\n",
       "      <td>1</td>\n",
       "      <td>memory</td>\n",
       "      <td>0.140675</td>\n",
       "      <td>0.654638</td>\n",
       "      <td>AROUSAL</td>\n",
       "      <td>Arousal</td>\n",
       "    </tr>\n",
       "  </tbody>\n",
       "</table>\n",
       "</div>"
      ],
      "text/plain": [
       "   CLUSTER    TOKEN         R   ROC_AUC   DOMAIN    TITLE\n",
       "0        1   reward  0.174514  0.654638  AROUSAL  Arousal\n",
       "1        1  valence  0.153667  0.654638  AROUSAL  Arousal\n",
       "2        1  emotion  0.143888  0.654638  AROUSAL  Arousal\n",
       "3        1  arousal  0.142250  0.654638  AROUSAL  Arousal\n",
       "4        1   memory  0.140675  0.654638  AROUSAL  Arousal"
      ]
     },
     "execution_count": 6,
     "metadata": {},
     "output_type": "execute_result"
    }
   ],
   "source": [
    "solutions[clusters[0]][\"lists\"].head()"
   ]
  },
  {
   "cell_type": "markdown",
   "metadata": {},
   "source": [
    "# Compute proportions of overlapping terms"
   ]
  },
  {
   "cell_type": "code",
   "execution_count": 7,
   "metadata": {},
   "outputs": [],
   "source": [
    "import numpy as np\n",
    "from scipy.spatial.distance import cdist, dice"
   ]
  },
  {
   "cell_type": "code",
   "execution_count": 8,
   "metadata": {},
   "outputs": [],
   "source": [
    "structures = sorted(list(solutions[clusters[0]][\"circuits\"][\"STRUCTURE\"]))"
   ]
  },
  {
   "cell_type": "code",
   "execution_count": 9,
   "metadata": {},
   "outputs": [],
   "source": [
    "sims_by_struct = {}\n",
    "for struct in structures:\n",
    "    domains_by_k, domain_terms_by_k, all_terms_by_k = {}, {}, {}\n",
    "    for k in clusters:\n",
    "\n",
    "        circuits = solutions[k][\"circuits\"]\n",
    "        lists = solutions[k][\"lists\"]\n",
    "\n",
    "        domain = circuits.loc[circuits[\"STRUCTURE\"] == struct, \"CLUSTER\"].values[0]\n",
    "        domains_by_k[k] = domain\n",
    "\n",
    "        domain_terms = list(lists.loc[lists[\"CLUSTER\"] == domain, \"TOKEN\"])[:n]\n",
    "        domain_terms_by_k[k] = domain_terms\n",
    "\n",
    "        terms = set(lists[\"TOKEN\"])  \n",
    "        all_terms_by_k[k] = terms\n",
    "\n",
    "    sims = []\n",
    "    for ki in clusters[:-1]:\n",
    "\n",
    "        kj = ki + 1\n",
    "\n",
    "        domain_term_intersection = set(domain_terms_by_k[ki]).intersection(set(domain_terms_by_k[kj]))\n",
    "        sim = len(domain_term_intersection) / n\n",
    "        sims.append(sim)\n",
    "    \n",
    "    sims_by_struct[struct] = sims"
   ]
  },
  {
   "cell_type": "markdown",
   "metadata": {},
   "source": [
    "# Plot Dice similarities"
   ]
  },
  {
   "cell_type": "code",
   "execution_count": 10,
   "metadata": {},
   "outputs": [],
   "source": [
    "import matplotlib.pyplot as plt\n",
    "from matplotlib import font_manager, rcParams"
   ]
  },
  {
   "cell_type": "code",
   "execution_count": 11,
   "metadata": {},
   "outputs": [],
   "source": [
    "font_prop_ax = font_manager.FontProperties(fname=style.font, size=14)\n",
    "font_prop_label = font_manager.FontProperties(fname=style.font, size=18)\n",
    "font_prop_title = font_manager.FontProperties(fname=style.font, size=20)\n",
    "rcParams[\"axes.linewidth\"] = 1.5"
   ]
  },
  {
   "cell_type": "code",
   "execution_count": 12,
   "metadata": {},
   "outputs": [],
   "source": [
    "struct_label_df = pd.read_csv(\"../data/brain/labels.csv\")\n",
    "struct2label = {row[\"PREPROCESSED\"]: row[\"ABBREVIATION\"] \n",
    "                for i, row in struct_label_df.iterrows()}"
   ]
  },
  {
   "cell_type": "markdown",
   "metadata": {},
   "source": [
    "## Grouped by hemisphere"
   ]
  },
  {
   "cell_type": "code",
   "execution_count": 13,
   "metadata": {},
   "outputs": [],
   "source": [
    "left_structs = [struct for struct in structures if struct.startswith(\"left\")]\n",
    "right_structs = [struct for struct in structures if struct.startswith(\"right\")]"
   ]
  },
  {
   "cell_type": "code",
   "execution_count": 14,
   "metadata": {
    "scrolled": false
   },
   "outputs": [],
   "source": [
    "path = \"\"\n",
    "\n",
    "for hemi, structs in zip([\"left\", \"right\"], [left_structs, right_structs]):\n",
    "\n",
    "    fig, axs = plt.subplots(len(structs), 1, figsize=(14, 50), sharex=True, sharey=True)\n",
    "    fig.subplots_adjust(hspace=1, wspace=1)\n",
    "    axs = axs.ravel()\n",
    "\n",
    "    for i, struct in enumerate(structs):\n",
    "\n",
    "        sims = sims_by_struct[struct]\n",
    "\n",
    "        axs[i].plot(range(len(sims)), sims, \"gray\", \n",
    "                 linestyle=\"solid\", linewidth=3)\n",
    "\n",
    "        title = struct2label[struct].replace(\" (L)\", \"\").replace(\" (R)\", \"\")\n",
    "        axs[i].set_ylabel(title, rotation=0, ha=\"left\", fontproperties=font_prop_title)\n",
    "        axs[i].yaxis.set_label_coords(1.02, 0.2)\n",
    "\n",
    "        axs[i].set_xlim([0, len(sims)-1])\n",
    "        axs[i].set_ylim([0, 1.2])\n",
    "        \n",
    "        axs[i].xaxis.set_tick_params(width=1.5, length=7)\n",
    "        axs[i].yaxis.set_tick_params(width=1.5, length=7)\n",
    "        \n",
    "        axs[i].set_xticks(range(len(sims)))\n",
    "        axs[i].set_xticklabels([])\n",
    "        axs[i].set_yticks([0, 0.5, 1])\n",
    "        axs[i].set_yticklabels([0, \"\", 1], fontproperties=font_prop_ax)\n",
    "        \n",
    "        for side in [\"right\", \"top\"]:\n",
    "            axs[i].spines[side].set_visible(False)\n",
    "\n",
    "    axs[i].set_xticklabels(clusters, fontproperties=font_prop_ax)\n",
    "    axs[i].set_xlabel(\"Cluster $k_i$\", fontproperties=font_prop_label, labelpad=15)\n",
    "    fig.text(0.075, 0.5, \"Proportion of top {} terms that intersect\".format(n), \n",
    "             fontproperties=font_prop_label, va=\"center\", rotation=\"vertical\")\n",
    "\n",
    "    plt.savefig(\"{}figures/hemispheres/stability_{}_top{}.png\".format(path, hemi, n), \n",
    "                dpi=250, bbox_inches=\"tight\")\n",
    "    plt.close()"
   ]
  },
  {
   "cell_type": "markdown",
   "metadata": {},
   "source": [
    "## Grouped by data-driven domain (<i>k</i>=6)"
   ]
  },
  {
   "cell_type": "code",
   "execution_count": 15,
   "metadata": {},
   "outputs": [
    {
     "data": {
      "text/plain": [
       "['left_cuneal_cortex',\n",
       " 'left_inferior_temporal_gyrus_posterior_division',\n",
       " 'left_inferior_temporal_gyrus_temporooccipital_part',\n",
       " 'left_intracalcarine_cortex',\n",
       " 'left_lateral_occipital_cortex_inferior_division',\n",
       " 'left_lingual_gyrus',\n",
       " 'left_middle_temporal_gyrus_temporooccipital_part',\n",
       " 'left_occipital_fusiform_gyrus',\n",
       " 'left_occipital_pole',\n",
       " 'left_supracalcarine_cortex',\n",
       " 'left_temporal_fusiform_cortex_posterior_division',\n",
       " 'left_temporal_occipital_fusiform_cortex',\n",
       " 'right_cuneal_cortex',\n",
       " 'right_inferior_temporal_gyrus_temporooccipital_part',\n",
       " 'right_intracalcarine_cortex',\n",
       " 'right_lateral_occipital_cortex_inferior_division',\n",
       " 'right_lingual_gyrus',\n",
       " 'right_middle_temporal_gyrus_temporooccipital_part',\n",
       " 'right_occipital_fusiform_gyrus',\n",
       " 'right_occipital_pole',\n",
       " 'right_supracalcarine_cortex',\n",
       " 'right_temporal_occipital_fusiform_cortex']"
      ]
     },
     "execution_count": 15,
     "metadata": {},
     "output_type": "execute_result"
    }
   ],
   "source": [
    "dd_circuit = solutions[6][\"circuits\"]\n",
    "dd_structs = [list(dd_circuit.loc[dd_circuit[\"CLUSTER\"] == i, \"STRUCTURE\"]) for i in range(1,7)]\n",
    "dd_structs[0]"
   ]
  },
  {
   "cell_type": "code",
   "execution_count": 16,
   "metadata": {},
   "outputs": [
    {
     "data": {
      "text/plain": [
       "['VISION', 'LANGUAGE', 'MANIPULATION', 'REWARD', 'COGNITION', 'MEMORY']"
      ]
     },
     "execution_count": 16,
     "metadata": {},
     "output_type": "execute_result"
    }
   ],
   "source": [
    "dd_lists = pd.read_csv(\"../ontology/lists/lists_data-driven_lr.csv\", index_col=None)\n",
    "dd_domains = [dd_lists.loc[dd_lists[\"CLUSTER\"] == i, \"DOMAIN\"].values[0] for i in range(1,7)]\n",
    "dd_domains"
   ]
  },
  {
   "cell_type": "code",
   "execution_count": 17,
   "metadata": {},
   "outputs": [],
   "source": [
    "path = \"\"\n",
    "c = style.c\n",
    "colors = [c[\"purple\"], c[\"gold\"], c[\"green\"], c[\"vermillion\"], c[\"yellow\"], c[\"blue\"]]\n",
    "\n",
    "for d_i, domain, structs in zip(range(6), dd_domains, dd_structs):\n",
    "\n",
    "    fig, axs = plt.subplots(len(structs), 1, figsize=(14, 1.14*len(structs)), \n",
    "                            sharex=True, sharey=True)\n",
    "    fig.subplots_adjust(hspace=1, wspace=1)\n",
    "    axs = axs.ravel()\n",
    "\n",
    "    for i, struct in enumerate(structs):\n",
    "\n",
    "        sims = sims_by_struct[struct]\n",
    "\n",
    "        axs[i].plot(range(len(sims)), sims, color=colors[d_i], \n",
    "                 linestyle=\"solid\", linewidth=3)\n",
    "\n",
    "        title = struct2label[struct]\n",
    "        axs[i].set_ylabel(title, rotation=0, ha=\"left\", fontproperties=font_prop_title)\n",
    "        axs[i].yaxis.set_label_coords(1.02, 0.2)\n",
    "\n",
    "        axs[i].set_xlim([0, len(sims)-1])\n",
    "        axs[i].set_ylim([0, 1.2])\n",
    "        \n",
    "        axs[i].xaxis.set_tick_params(width=1.5, length=7)\n",
    "        axs[i].yaxis.set_tick_params(width=1.5, length=7)\n",
    "        \n",
    "        axs[i].set_xticks(range(len(sims)))\n",
    "        axs[i].set_xticklabels([])\n",
    "        axs[i].set_yticks([0, 0.5, 1])\n",
    "        axs[i].set_yticklabels([0, \"\", 1], fontproperties=font_prop_ax)\n",
    "        \n",
    "        for side in [\"right\", \"top\"]:\n",
    "            axs[i].spines[side].set_visible(False)\n",
    "\n",
    "    axs[i].set_xticklabels(clusters, fontproperties=font_prop_ax)\n",
    "    axs[i].set_xlabel(\"Cluster $k_i$\", fontproperties=font_prop_label, labelpad=15)\n",
    "    fig.text(0.075, 0.5, \"Proportion of top {} terms that intersect\".format(n), \n",
    "             fontproperties=font_prop_label, va=\"center\", rotation=\"vertical\")\n",
    "\n",
    "    plt.savefig(\"{}figures/domains/stability_{}_top{}.png\".format(path, domain, n), \n",
    "                dpi=250, bbox_inches=\"tight\")\n",
    "    plt.close()"
   ]
  },
  {
   "cell_type": "code",
   "execution_count": null,
   "metadata": {},
   "outputs": [],
   "source": []
  }
 ],
 "metadata": {
  "kernelspec": {
   "display_name": "Python [conda env:ontol] *",
   "language": "python",
   "name": "conda-env-ontol-py"
  },
  "language_info": {
   "codemirror_mode": {
    "name": "ipython",
    "version": 3
   },
   "file_extension": ".py",
   "mimetype": "text/x-python",
   "name": "python",
   "nbconvert_exporter": "python",
   "pygments_lexer": "ipython3",
   "version": "3.6.8"
  }
 },
 "nbformat": 4,
 "nbformat_minor": 2
}
