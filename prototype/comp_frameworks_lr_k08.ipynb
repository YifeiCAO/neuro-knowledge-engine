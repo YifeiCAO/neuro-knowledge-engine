{
 "cells": [
  {
   "cell_type": "markdown",
   "metadata": {},
   "source": [
    "# Introduction\n",
    "\n",
    "This notebook compares the test set performance of classifiers using term list scores based on the data-driven, RDoC, and DSM frameworks.\n",
    "\n",
    "# Load the data"
   ]
  },
  {
   "cell_type": "code",
   "execution_count": 1,
   "metadata": {},
   "outputs": [],
   "source": [
    "import pandas as pd\n",
    "import numpy as np\n",
    "np.random.seed(42)\n",
    "\n",
    "import sys\n",
    "sys.path.append(\"..\")\n",
    "import utilities"
   ]
  },
  {
   "cell_type": "markdown",
   "metadata": {},
   "source": [
    "## Input parameters"
   ]
  },
  {
   "cell_type": "code",
   "execution_count": 2,
   "metadata": {},
   "outputs": [],
   "source": [
    "metric = \"proto\" # Variable being compared between frameworks\n",
    "n_iter = 1000 # Number of iterations for bootstrap distributions\n",
    "frameworks = [\"data-driven_k08\", \"data-driven\", \"rdoc\", \"dsm\"]\n",
    "clfs = [\"_lr\", \"_lr\", \"\", \"\"]\n",
    "list_suffixes = [\"\", \"\", \"_opsim\", \"_opsim\"]\n",
    "splits = [\"discovery\", \"replication\"]\n",
    "suffix = \"lr\""
   ]
  },
  {
   "cell_type": "markdown",
   "metadata": {},
   "source": [
    "## Framework contents"
   ]
  },
  {
   "cell_type": "code",
   "execution_count": 3,
   "metadata": {},
   "outputs": [],
   "source": [
    "lists, circuits = {}, {}\n",
    "for fw, clf, list_suffix in zip(frameworks, clfs, list_suffixes):\n",
    "    lists[fw], circuits[fw] = utilities.load_framework(fw, suffix=list_suffix, clf=clf)"
   ]
  },
  {
   "cell_type": "markdown",
   "metadata": {},
   "source": [
    "## Observed values"
   ]
  },
  {
   "cell_type": "code",
   "execution_count": 4,
   "metadata": {},
   "outputs": [],
   "source": [
    "obs = {}\n",
    "for fw, clf in zip(frameworks, clfs):\n",
    "    obs[fw] = pd.read_csv(\"data/{}_obs_{}{}.csv\".format(metric, fw, clf), index_col=0, header=0)"
   ]
  },
  {
   "cell_type": "code",
   "execution_count": 5,
   "metadata": {},
   "outputs": [
    {
     "data": {
      "text/plain": [
       "0.3793466556438507"
      ]
     },
     "execution_count": 5,
     "metadata": {},
     "output_type": "execute_result"
    }
   ],
   "source": [
    "obs[\"data-driven_k08\"].loc[obs[\"data-driven_k08\"][\"SPLIT\"] == \"discovery\"][\"OBSERVED\"].mean()"
   ]
  },
  {
   "cell_type": "code",
   "execution_count": 6,
   "metadata": {},
   "outputs": [
    {
     "data": {
      "text/plain": [
       "0.37830888744984"
      ]
     },
     "execution_count": 6,
     "metadata": {},
     "output_type": "execute_result"
    }
   ],
   "source": [
    "obs[\"data-driven_k08\"].loc[obs[\"data-driven_k08\"][\"SPLIT\"] == \"replication\"][\"OBSERVED\"].mean()"
   ]
  },
  {
   "cell_type": "markdown",
   "metadata": {},
   "source": [
    "## Bootstrap distributions"
   ]
  },
  {
   "cell_type": "code",
   "execution_count": 7,
   "metadata": {},
   "outputs": [],
   "source": [
    "boot, mean = {}, {}\n",
    "for split in splits:\n",
    "    boot[split], mean[split] = {}, {}\n",
    "    for fw, clf in zip(frameworks, clfs):\n",
    "        boot[split][fw] = pd.read_csv(\"data/{}_boot_{}{}_{}_{}iter.csv\".format(metric, fw, clf, split, n_iter), \n",
    "                                      index_col=0, header=0)\n",
    "        mean[split][fw] = pd.read_csv(\"data/{}_mean_{}{}_{}.csv\".format(metric, fw, clf, split), \n",
    "                                      index_col=0, header=0)"
   ]
  },
  {
   "cell_type": "markdown",
   "metadata": {},
   "source": [
    "# Perform comparison tests\n",
    "\n",
    "Is the mean of fw<sub>i</sub> greater than the mean of fw<sub>j</sub>?"
   ]
  },
  {
   "cell_type": "code",
   "execution_count": 8,
   "metadata": {},
   "outputs": [],
   "source": [
    "from statsmodels.stats.multitest import multipletests"
   ]
  },
  {
   "cell_type": "code",
   "execution_count": 9,
   "metadata": {},
   "outputs": [
    {
     "name": "stdout",
     "output_type": "stream",
     "text": [
      "-----------------------------------------------------------------\n",
      "DISCOVERY\n",
      "-----------------------------------------------------------------\n",
      "                  data-driven_k08       data-driven              rdoc  \\\n",
      "data-driven_k08     0.000, 0.000     -0.041, 0.042     -0.023, 0.057    \n",
      "data-driven        -0.042, 0.041      0.000, 0.000     -0.023, 0.050    \n",
      "rdoc               -0.057, 0.023     -0.050, 0.023      0.000, 0.000    \n",
      "dsm              -0.176, -0.051 *  -0.176, -0.055 *  -0.157, -0.043 *   \n",
      "\n",
      "                            dsm  \n",
      "data-driven_k08  0.051, 0.176 *  \n",
      "data-driven      0.055, 0.176 *  \n",
      "rdoc             0.043, 0.157 *  \n",
      "dsm               0.000, 0.000   \n",
      "\n",
      "-----------------------------------------------------------------\n",
      "REPLICATION\n",
      "-----------------------------------------------------------------\n",
      "                  data-driven_k08       data-driven              rdoc  \\\n",
      "data-driven_k08     0.000, 0.000     -0.033, 0.037     -0.025, 0.057    \n",
      "data-driven        -0.037, 0.033      0.000, 0.000     -0.029, 0.050    \n",
      "rdoc               -0.057, 0.025     -0.050, 0.029      0.000, 0.000    \n",
      "dsm              -0.182, -0.052 *  -0.179, -0.051 *  -0.157, -0.012 *   \n",
      "\n",
      "                            dsm  \n",
      "data-driven_k08  0.052, 0.182 *  \n",
      "data-driven      0.051, 0.179 *  \n",
      "rdoc             0.012, 0.157 *  \n",
      "dsm               0.000, 0.000   \n",
      "\n"
     ]
    }
   ],
   "source": [
    "interval = 0.999\n",
    "tail = (1.0 - interval) / 2.0 # Two-sided test\n",
    "idx_lower = int(n_iter * tail)\n",
    "idx_upper = int(n_iter * (1.0 - tail))\n",
    "\n",
    "CI = {}\n",
    "for split in splits:\n",
    "    CI[split] = {}\n",
    "    CI[split] = pd.DataFrame(\"\", index=frameworks, columns=frameworks)\n",
    "    for i, fw_i in enumerate(frameworks):\n",
    "        for j, fw_j in enumerate(frameworks):\n",
    "            boot_i = np.mean(boot[split][fw_i], axis=0)\n",
    "            boot_j = np.mean(boot[split][fw_j], axis=0)\n",
    "            boot_dif = np.sort(boot_i - boot_j)\n",
    "            CI_lower = boot_dif[idx_lower]\n",
    "            CI_upper = boot_dif[idx_upper]\n",
    "            CI_sig = \"\"\n",
    "            if (CI_lower > 0 and CI_upper > 0) or (CI_lower < 0 and CI_upper < 0):\n",
    "                CI_sig = \"*\"\n",
    "            CI[split].loc[fw_i,fw_j] = \"{:.3f}, {:.3f} {}\".format(CI_lower, CI_upper, CI_sig)\n",
    "    \n",
    "    print(\"-\" * 65 + \"\\n\" + split.upper() + \"\\n\" + \"-\" * 65)\n",
    "    print(CI[split])\n",
    "    print(\"\")"
   ]
  },
  {
   "cell_type": "markdown",
   "metadata": {},
   "source": [
    "# Plot evaluation metrics"
   ]
  },
  {
   "cell_type": "code",
   "execution_count": 10,
   "metadata": {},
   "outputs": [],
   "source": [
    "%matplotlib inline"
   ]
  },
  {
   "cell_type": "code",
   "execution_count": 11,
   "metadata": {
    "scrolled": false
   },
   "outputs": [
    {
     "data": {
      "image/png": "[encoded data removed]",
      "text/plain": [
       "<Figure size 86.4x151.2 with 1 Axes>"
      ]
     },
     "metadata": {
      "needs_background": "light"
     },
     "output_type": "display_data"
    },
    {
     "data": {
      "image/png": "[encoded data removed]",
      "text/plain": [
       "<Figure size 86.4x151.2 with 1 Axes>"
      ]
     },
     "metadata": {
      "needs_background": "light"
     },
     "output_type": "display_data"
    }
   ],
   "source": [
    "for split in splits:\n",
    "    utilities.plot_framework_comparison(boot[split], obs, mean[split], metric=metric, w=1.2,\n",
    "                                        n_iter=n_iter, suffix=\"k08_\" + suffix + \"_\" + split, \n",
    "                                        ylim=[-0.25,1], yticks=[-0.25,0,0.25,0.5,0.75,1])"
   ]
  },
  {
   "cell_type": "code",
   "execution_count": null,
   "metadata": {},
   "outputs": [],
   "source": []
  }
 ],
 "metadata": {
  "kernelspec": {
   "display_name": "Python [conda env:ontol]",
   "language": "python",
   "name": "conda-env-ontol-py"
  },
  "language_info": {
   "codemirror_mode": {
    "name": "ipython",
    "version": 3
   },
   "file_extension": ".py",
   "mimetype": "text/x-python",
   "name": "python",
   "nbconvert_exporter": "python",
   "pygments_lexer": "ipython3",
   "version": "3.6.8"
  }
 },
 "nbformat": 4,
 "nbformat_minor": 2
}
