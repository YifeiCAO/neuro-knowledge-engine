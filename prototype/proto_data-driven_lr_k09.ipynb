{
 "cells": [
  {
   "cell_type": "markdown",
   "metadata": {},
   "source": [
    "# Introduction\n",
    "\n",
    "In a prior notebook, documents were partitioned by assigning them to the domain with the highest Dice similarity of their term and structure occurrences. The occurrences of terms and structures in each domain is what we refer to as the domain \"archetype.\" Here, we'll assess whether the observed similarity between documents and the archetype is greater than expected by chance. This would indicate that information in the framework generalizes well to individual documents.\n",
    "\n",
    "# Load the data"
   ]
  },
  {
   "cell_type": "code",
   "execution_count": 1,
   "metadata": {},
   "outputs": [],
   "source": [
    "import pandas as pd\n",
    "import numpy as np\n",
    "\n",
    "import sys\n",
    "sys.path.append(\"..\")\n",
    "import utilities\n",
    "from style import style"
   ]
  },
  {
   "cell_type": "code",
   "execution_count": 2,
   "metadata": {},
   "outputs": [],
   "source": [
    "framework = \"data-driven_k09\" \n",
    "version = 190325 # Document-term matrix version\n",
    "suffix = \"\" # Suffix for term lists\n",
    "clf = \"_lr\" # Classifier used to generate the framework\n",
    "n_iter = 1000 # Iterations for null distribution\n",
    "dx = [0.38, 0.38, 0.37, 0.39, 0.37, 0.38, 0.32, 0.34, 0.37] # Nudges for plotted means\n",
    "ds = 0.11 # Nudges for plotted stars\n",
    "alpha = 0.001 # Significance level for statistical comparisons"
   ]
  },
  {
   "cell_type": "markdown",
   "metadata": {},
   "source": [
    "## Brain activation coordinates"
   ]
  },
  {
   "cell_type": "code",
   "execution_count": 3,
   "metadata": {},
   "outputs": [
    {
     "name": "stdout",
     "output_type": "stream",
     "text": [
      "Document N=18155, Structure N=118\n"
     ]
    }
   ],
   "source": [
    "act_bin = utilities.load_coordinates()\n",
    "print(\"Document N={}, Structure N={}\".format(\n",
    "      act_bin.shape[0], act_bin.shape[1]))"
   ]
  },
  {
   "cell_type": "markdown",
   "metadata": {},
   "source": [
    "## Document-term matrix"
   ]
  },
  {
   "cell_type": "code",
   "execution_count": 4,
   "metadata": {},
   "outputs": [
    {
     "name": "stdout",
     "output_type": "stream",
     "text": [
      "Document N=18155, Term N=4107\n"
     ]
    }
   ],
   "source": [
    "dtm_bin = utilities.load_doc_term_matrix(version=version, binarize=True)\n",
    "print(\"Document N={}, Term N={}\".format(\n",
    "      dtm_bin.shape[0], dtm_bin.shape[1]))"
   ]
  },
  {
   "cell_type": "markdown",
   "metadata": {},
   "source": [
    "## Domain archetypes"
   ]
  },
  {
   "cell_type": "code",
   "execution_count": 5,
   "metadata": {},
   "outputs": [],
   "source": [
    "from collections import OrderedDict"
   ]
  },
  {
   "cell_type": "code",
   "execution_count": 6,
   "metadata": {},
   "outputs": [],
   "source": [
    "lists, circuits = utilities.load_framework(framework, suffix=suffix, clf=clf)"
   ]
  },
  {
   "cell_type": "code",
   "execution_count": 7,
   "metadata": {},
   "outputs": [],
   "source": [
    "words = sorted(list(set(lists[\"TOKEN\"])))\n",
    "structures = sorted(list(set(act_bin.columns)))\n",
    "domains = list(OrderedDict.fromkeys(lists[\"DOMAIN\"]))"
   ]
  },
  {
   "cell_type": "code",
   "execution_count": 8,
   "metadata": {},
   "outputs": [
    {
     "name": "stdout",
     "output_type": "stream",
     "text": [
      "Term & Structure N=224, Domain N=9\n"
     ]
    }
   ],
   "source": [
    "archetypes = pd.DataFrame(0.0, index=words+structures, columns=domains)\n",
    "for dom in domains:\n",
    "    for word in lists.loc[lists[\"DOMAIN\"] == dom, \"TOKEN\"]:\n",
    "        archetypes.loc[word, dom] = 1.0\n",
    "    for struct in structures:\n",
    "        archetypes.loc[struct, dom] = circuits.loc[struct, dom]\n",
    "archetypes[archetypes > 0.0] = 1.0\n",
    "print(\"Term & Structure N={}, Domain N={}\".format(\n",
    "      archetypes.shape[0], archetypes.shape[1]))"
   ]
  },
  {
   "cell_type": "markdown",
   "metadata": {},
   "source": [
    "## Document structure-term vectors"
   ]
  },
  {
   "cell_type": "code",
   "execution_count": 9,
   "metadata": {},
   "outputs": [
    {
     "data": {
      "text/plain": [
       "18155"
      ]
     },
     "execution_count": 9,
     "metadata": {},
     "output_type": "execute_result"
    }
   ],
   "source": [
    "pmids = dtm_bin.index.intersection(act_bin.index)\n",
    "len(pmids)"
   ]
  },
  {
   "cell_type": "code",
   "execution_count": 10,
   "metadata": {},
   "outputs": [],
   "source": [
    "dtm_words = dtm_bin.loc[pmids, words]\n",
    "act_structs = act_bin.loc[pmids, structures]"
   ]
  },
  {
   "cell_type": "code",
   "execution_count": 11,
   "metadata": {},
   "outputs": [
    {
     "data": {
      "text/html": [
       "<div>\n",
       "<style scoped>\n",
       "    .dataframe tbody tr th:only-of-type {\n",
       "        vertical-align: middle;\n",
       "    }\n",
       "\n",
       "    .dataframe tbody tr th {\n",
       "        vertical-align: top;\n",
       "    }\n",
       "\n",
       "    .dataframe thead th {\n",
       "        text-align: right;\n",
       "    }\n",
       "</style>\n",
       "<table border=\"1\" class=\"dataframe\">\n",
       "  <thead>\n",
       "    <tr style=\"text-align: right;\">\n",
       "      <th></th>\n",
       "      <th>action</th>\n",
       "      <th>anticipation</th>\n",
       "      <th>arousal</th>\n",
       "      <th>attention</th>\n",
       "      <th>auditory_perception</th>\n",
       "      <th>autobiographical_memory</th>\n",
       "      <th>cognition</th>\n",
       "      <th>cognitive</th>\n",
       "      <th>cognitive_control</th>\n",
       "      <th>cognitive_process</th>\n",
       "      <th>...</th>\n",
       "      <th>right_superior_temporal_gyrus_posterior_division</th>\n",
       "      <th>right_supplementary_motor_cortex</th>\n",
       "      <th>right_supracalcarine_cortex</th>\n",
       "      <th>right_supramarginal_gyrus_anterior_division</th>\n",
       "      <th>right_supramarginal_gyrus_posterior_division</th>\n",
       "      <th>right_temporal_fusiform_cortex_anterior_division</th>\n",
       "      <th>right_temporal_fusiform_cortex_posterior_division</th>\n",
       "      <th>right_temporal_occipital_fusiform_cortex</th>\n",
       "      <th>right_temporal_pole</th>\n",
       "      <th>right_thalamus</th>\n",
       "    </tr>\n",
       "  </thead>\n",
       "  <tbody>\n",
       "    <tr>\n",
       "      <th>10022492</th>\n",
       "      <td>0.0</td>\n",
       "      <td>1.0</td>\n",
       "      <td>0.0</td>\n",
       "      <td>0.0</td>\n",
       "      <td>0.0</td>\n",
       "      <td>0.0</td>\n",
       "      <td>0.0</td>\n",
       "      <td>1.0</td>\n",
       "      <td>0.0</td>\n",
       "      <td>0.0</td>\n",
       "      <td>...</td>\n",
       "      <td>0</td>\n",
       "      <td>1</td>\n",
       "      <td>0</td>\n",
       "      <td>1</td>\n",
       "      <td>0</td>\n",
       "      <td>0</td>\n",
       "      <td>0</td>\n",
       "      <td>0</td>\n",
       "      <td>0</td>\n",
       "      <td>1</td>\n",
       "    </tr>\n",
       "    <tr>\n",
       "      <th>10022494</th>\n",
       "      <td>0.0</td>\n",
       "      <td>0.0</td>\n",
       "      <td>0.0</td>\n",
       "      <td>0.0</td>\n",
       "      <td>0.0</td>\n",
       "      <td>0.0</td>\n",
       "      <td>0.0</td>\n",
       "      <td>0.0</td>\n",
       "      <td>0.0</td>\n",
       "      <td>1.0</td>\n",
       "      <td>...</td>\n",
       "      <td>1</td>\n",
       "      <td>1</td>\n",
       "      <td>1</td>\n",
       "      <td>1</td>\n",
       "      <td>0</td>\n",
       "      <td>0</td>\n",
       "      <td>0</td>\n",
       "      <td>1</td>\n",
       "      <td>0</td>\n",
       "      <td>0</td>\n",
       "    </tr>\n",
       "    <tr>\n",
       "      <th>10022496</th>\n",
       "      <td>0.0</td>\n",
       "      <td>1.0</td>\n",
       "      <td>0.0</td>\n",
       "      <td>0.0</td>\n",
       "      <td>0.0</td>\n",
       "      <td>0.0</td>\n",
       "      <td>0.0</td>\n",
       "      <td>0.0</td>\n",
       "      <td>0.0</td>\n",
       "      <td>0.0</td>\n",
       "      <td>...</td>\n",
       "      <td>1</td>\n",
       "      <td>0</td>\n",
       "      <td>0</td>\n",
       "      <td>0</td>\n",
       "      <td>1</td>\n",
       "      <td>0</td>\n",
       "      <td>0</td>\n",
       "      <td>0</td>\n",
       "      <td>0</td>\n",
       "      <td>0</td>\n",
       "    </tr>\n",
       "    <tr>\n",
       "      <th>10027301</th>\n",
       "      <td>0.0</td>\n",
       "      <td>0.0</td>\n",
       "      <td>0.0</td>\n",
       "      <td>0.0</td>\n",
       "      <td>0.0</td>\n",
       "      <td>0.0</td>\n",
       "      <td>1.0</td>\n",
       "      <td>0.0</td>\n",
       "      <td>0.0</td>\n",
       "      <td>0.0</td>\n",
       "      <td>...</td>\n",
       "      <td>0</td>\n",
       "      <td>0</td>\n",
       "      <td>0</td>\n",
       "      <td>0</td>\n",
       "      <td>0</td>\n",
       "      <td>0</td>\n",
       "      <td>0</td>\n",
       "      <td>1</td>\n",
       "      <td>0</td>\n",
       "      <td>0</td>\n",
       "    </tr>\n",
       "    <tr>\n",
       "      <th>10051677</th>\n",
       "      <td>0.0</td>\n",
       "      <td>0.0</td>\n",
       "      <td>1.0</td>\n",
       "      <td>0.0</td>\n",
       "      <td>0.0</td>\n",
       "      <td>0.0</td>\n",
       "      <td>0.0</td>\n",
       "      <td>0.0</td>\n",
       "      <td>0.0</td>\n",
       "      <td>0.0</td>\n",
       "      <td>...</td>\n",
       "      <td>0</td>\n",
       "      <td>0</td>\n",
       "      <td>0</td>\n",
       "      <td>0</td>\n",
       "      <td>1</td>\n",
       "      <td>0</td>\n",
       "      <td>1</td>\n",
       "      <td>0</td>\n",
       "      <td>1</td>\n",
       "      <td>1</td>\n",
       "    </tr>\n",
       "  </tbody>\n",
       "</table>\n",
       "<p>5 rows × 224 columns</p>\n",
       "</div>"
      ],
      "text/plain": [
       "          action  anticipation  arousal  attention  auditory_perception  \\\n",
       "10022492     0.0           1.0      0.0        0.0                  0.0   \n",
       "10022494     0.0           0.0      0.0        0.0                  0.0   \n",
       "10022496     0.0           1.0      0.0        0.0                  0.0   \n",
       "10027301     0.0           0.0      0.0        0.0                  0.0   \n",
       "10051677     0.0           0.0      1.0        0.0                  0.0   \n",
       "\n",
       "          autobiographical_memory  cognition  cognitive  cognitive_control  \\\n",
       "10022492                      0.0        0.0        1.0                0.0   \n",
       "10022494                      0.0        0.0        0.0                0.0   \n",
       "10022496                      0.0        0.0        0.0                0.0   \n",
       "10027301                      0.0        1.0        0.0                0.0   \n",
       "10051677                      0.0        0.0        0.0                0.0   \n",
       "\n",
       "          cognitive_process  ...  \\\n",
       "10022492                0.0  ...   \n",
       "10022494                1.0  ...   \n",
       "10022496                0.0  ...   \n",
       "10027301                0.0  ...   \n",
       "10051677                0.0  ...   \n",
       "\n",
       "          right_superior_temporal_gyrus_posterior_division  \\\n",
       "10022492                                                 0   \n",
       "10022494                                                 1   \n",
       "10022496                                                 1   \n",
       "10027301                                                 0   \n",
       "10051677                                                 0   \n",
       "\n",
       "          right_supplementary_motor_cortex  right_supracalcarine_cortex  \\\n",
       "10022492                                 1                            0   \n",
       "10022494                                 1                            1   \n",
       "10022496                                 0                            0   \n",
       "10027301                                 0                            0   \n",
       "10051677                                 0                            0   \n",
       "\n",
       "          right_supramarginal_gyrus_anterior_division  \\\n",
       "10022492                                            1   \n",
       "10022494                                            1   \n",
       "10022496                                            0   \n",
       "10027301                                            0   \n",
       "10051677                                            0   \n",
       "\n",
       "          right_supramarginal_gyrus_posterior_division  \\\n",
       "10022492                                             0   \n",
       "10022494                                             0   \n",
       "10022496                                             1   \n",
       "10027301                                             0   \n",
       "10051677                                             1   \n",
       "\n",
       "          right_temporal_fusiform_cortex_anterior_division  \\\n",
       "10022492                                                 0   \n",
       "10022494                                                 0   \n",
       "10022496                                                 0   \n",
       "10027301                                                 0   \n",
       "10051677                                                 0   \n",
       "\n",
       "          right_temporal_fusiform_cortex_posterior_division  \\\n",
       "10022492                                                  0   \n",
       "10022494                                                  0   \n",
       "10022496                                                  0   \n",
       "10027301                                                  0   \n",
       "10051677                                                  1   \n",
       "\n",
       "          right_temporal_occipital_fusiform_cortex  right_temporal_pole  \\\n",
       "10022492                                         0                    0   \n",
       "10022494                                         1                    0   \n",
       "10022496                                         0                    0   \n",
       "10027301                                         1                    0   \n",
       "10051677                                         0                    1   \n",
       "\n",
       "          right_thalamus  \n",
       "10022492               1  \n",
       "10022494               0  \n",
       "10022496               0  \n",
       "10027301               0  \n",
       "10051677               1  \n",
       "\n",
       "[5 rows x 224 columns]"
      ]
     },
     "execution_count": 11,
     "metadata": {},
     "output_type": "execute_result"
    }
   ],
   "source": [
    "docs = dtm_words.copy()\n",
    "docs[structures] = act_structs.copy()\n",
    "docs.head()"
   ]
  },
  {
   "cell_type": "markdown",
   "metadata": {},
   "source": [
    "## Document splits"
   ]
  },
  {
   "cell_type": "code",
   "execution_count": 12,
   "metadata": {},
   "outputs": [
    {
     "name": "stdout",
     "output_type": "stream",
     "text": [
      "Discovery    N=12708\n",
      "Replication  N=5447\n"
     ]
    }
   ],
   "source": [
    "splits = {}\n",
    "splits[\"discovery\"] = [int(pmid.strip()) for pmid in open(\"../data/splits/train.txt\")]\n",
    "splits[\"replication\"] = [int(pmid.strip()) for pmid in open(\"../data/splits/validation.txt\")]\n",
    "splits[\"replication\"] += [int(pmid.strip()) for pmid in open(\"../data/splits/test.txt\")]\n",
    "for split, pmids in splits.items():\n",
    "    print(\"{:12s} N={}\".format(split.title(), len(pmids)))"
   ]
  },
  {
   "cell_type": "markdown",
   "metadata": {},
   "source": [
    "## Document assignments"
   ]
  },
  {
   "cell_type": "code",
   "execution_count": 13,
   "metadata": {},
   "outputs": [],
   "source": [
    "doc2dom_df = pd.read_csv(\"../partition/data/doc2dom_{}{}.csv\".format(framework, clf), \n",
    "                         header=None, index_col=0)\n",
    "doc2dom = {int(pmid): str(dom.values[0]) for pmid, dom in doc2dom_df.iterrows()}"
   ]
  },
  {
   "cell_type": "code",
   "execution_count": 14,
   "metadata": {},
   "outputs": [],
   "source": [
    "dom2docs = {dom: {split: [] for split in [\"discovery\", \"replication\"]} for dom in domains}\n",
    "for doc, dom in doc2dom.items():\n",
    "    for split, split_pmids in splits.items():\n",
    "        if doc in splits[split]:\n",
    "            dom2docs[dom][split].append(doc)"
   ]
  },
  {
   "cell_type": "markdown",
   "metadata": {},
   "source": [
    "# Compute similarity to archetype"
   ]
  },
  {
   "cell_type": "code",
   "execution_count": 15,
   "metadata": {},
   "outputs": [],
   "source": [
    "from scipy.spatial.distance import cdist"
   ]
  },
  {
   "cell_type": "markdown",
   "metadata": {},
   "source": [
    "## Observed values"
   ]
  },
  {
   "cell_type": "code",
   "execution_count": 16,
   "metadata": {},
   "outputs": [
    {
     "data": {
      "text/html": [
       "<div>\n",
       "<style scoped>\n",
       "    .dataframe tbody tr th:only-of-type {\n",
       "        vertical-align: middle;\n",
       "    }\n",
       "\n",
       "    .dataframe tbody tr th {\n",
       "        vertical-align: top;\n",
       "    }\n",
       "\n",
       "    .dataframe thead th {\n",
       "        text-align: right;\n",
       "    }\n",
       "</style>\n",
       "<table border=\"1\" class=\"dataframe\">\n",
       "  <thead>\n",
       "    <tr style=\"text-align: right;\">\n",
       "      <th></th>\n",
       "      <th>PMID</th>\n",
       "      <th>SPLIT</th>\n",
       "      <th>DOMAIN</th>\n",
       "      <th>OBSERVED</th>\n",
       "    </tr>\n",
       "  </thead>\n",
       "  <tbody>\n",
       "    <tr>\n",
       "      <th>0</th>\n",
       "      <td>8656296</td>\n",
       "      <td>discovery</td>\n",
       "      <td>MEMORY</td>\n",
       "      <td>0.290909</td>\n",
       "    </tr>\n",
       "    <tr>\n",
       "      <th>1</th>\n",
       "      <td>8893004</td>\n",
       "      <td>discovery</td>\n",
       "      <td>MEMORY</td>\n",
       "      <td>0.262295</td>\n",
       "    </tr>\n",
       "    <tr>\n",
       "      <th>2</th>\n",
       "      <td>9108115</td>\n",
       "      <td>discovery</td>\n",
       "      <td>MEMORY</td>\n",
       "      <td>0.325581</td>\n",
       "    </tr>\n",
       "    <tr>\n",
       "      <th>3</th>\n",
       "      <td>9228523</td>\n",
       "      <td>discovery</td>\n",
       "      <td>MEMORY</td>\n",
       "      <td>0.365854</td>\n",
       "    </tr>\n",
       "    <tr>\n",
       "      <th>4</th>\n",
       "      <td>9412517</td>\n",
       "      <td>discovery</td>\n",
       "      <td>MEMORY</td>\n",
       "      <td>0.528302</td>\n",
       "    </tr>\n",
       "  </tbody>\n",
       "</table>\n",
       "</div>"
      ],
      "text/plain": [
       "      PMID      SPLIT  DOMAIN  OBSERVED\n",
       "0  8656296  discovery  MEMORY  0.290909\n",
       "1  8893004  discovery  MEMORY  0.262295\n",
       "2  9108115  discovery  MEMORY  0.325581\n",
       "3  9228523  discovery  MEMORY  0.365854\n",
       "4  9412517  discovery  MEMORY  0.528302"
      ]
     },
     "execution_count": 16,
     "metadata": {},
     "output_type": "execute_result"
    }
   ],
   "source": [
    "pmid_list, split_list, dom_list, obs_list  = [], [], [], []\n",
    "\n",
    "for split, split_pmids in splits.items():\n",
    "    split_list += [split] * len(split_pmids)\n",
    "    \n",
    "    for dom in domains:\n",
    "        dom_pmids = dom2docs[dom][split]\n",
    "        dom_vecs = docs.loc[dom_pmids].values\n",
    "        dom_arche = archetypes[dom].values.reshape(1, archetypes.shape[0])\n",
    "        dom_sims = 1.0 - cdist(dom_vecs, dom_arche, metric=\"dice\")\n",
    "        \n",
    "        pmid_list += dom_pmids\n",
    "        dom_list += [dom] * len(dom_sims)\n",
    "        obs_list += list(dom_sims[:,0])\n",
    "\n",
    "df_obs = pd.DataFrame({\"PMID\": pmid_list, \"SPLIT\": split_list, \n",
    "                       \"DOMAIN\": dom_list, \"OBSERVED\": obs_list})\n",
    "df_obs.to_csv(\"data/arche_obs_{}{}.csv\".format(framework, clf))  \n",
    "df_obs.head()"
   ]
  },
  {
   "cell_type": "markdown",
   "metadata": {},
   "source": [
    "## Null distributions"
   ]
  },
  {
   "cell_type": "code",
   "execution_count": 17,
   "metadata": {},
   "outputs": [],
   "source": [
    "import os"
   ]
  },
  {
   "cell_type": "code",
   "execution_count": 18,
   "metadata": {},
   "outputs": [
    {
     "name": "stdout",
     "output_type": "stream",
     "text": [
      "Processing discovery split (N=12708 documents)\n",
      "Processing replication split (N=5447 documents)\n"
     ]
    }
   ],
   "source": [
    "df_null = {}\n",
    "for split, split_pmids in splits.items():\n",
    "    \n",
    "    print(\"Processing {} split (N={} documents)\".format(split, len(split_pmids)))\n",
    "    \n",
    "    file_null = \"data/arche_null_{}{}_{}_{}iter.csv\".format(framework, clf, split, n_iter)\n",
    "    if not os.path.isfile(file_null):\n",
    "        \n",
    "        df_null[split] = np.zeros((len(domains), n_iter))\n",
    "        for n in range(n_iter):\n",
    "            null = np.random.choice(range(len(docs.columns)), \n",
    "                                    size=len(docs.columns), replace=False)\n",
    "            for i, dom in enumerate(domains):\n",
    "                dom_pmids = dom2docs[dom][split]\n",
    "                dom_vecs = docs.loc[dom_pmids].values\n",
    "                dom_arche = archetypes.values[null,i].reshape(1, archetypes.shape[0])\n",
    "                df_null[split][i,n] = 1.0 - np.mean(cdist(dom_vecs, dom_arche, metric=\"dice\"))\n",
    "            if n % int(n_iter / 10.0) == 0:\n",
    "                print(\"----- Processed {} iterations\".format(n))\n",
    "                \n",
    "        df_null[split] = pd.DataFrame(df_null[split], index=domains, columns=range(n_iter))\n",
    "        df_null[split].to_csv(file_null)\n",
    "        print(\"\")\n",
    "    \n",
    "    else:\n",
    "        df_null[split] = pd.read_csv(file_null, index_col=0, header=0)"
   ]
  },
  {
   "cell_type": "markdown",
   "metadata": {},
   "source": [
    "## Interleave splits to facilitate plotting"
   ]
  },
  {
   "cell_type": "code",
   "execution_count": 19,
   "metadata": {},
   "outputs": [
    {
     "data": {
      "text/html": [
       "<div>\n",
       "<style scoped>\n",
       "    .dataframe tbody tr th:only-of-type {\n",
       "        vertical-align: middle;\n",
       "    }\n",
       "\n",
       "    .dataframe tbody tr th {\n",
       "        vertical-align: top;\n",
       "    }\n",
       "\n",
       "    .dataframe thead th {\n",
       "        text-align: right;\n",
       "    }\n",
       "</style>\n",
       "<table border=\"1\" class=\"dataframe\">\n",
       "  <thead>\n",
       "    <tr style=\"text-align: right;\">\n",
       "      <th></th>\n",
       "      <th>0</th>\n",
       "      <th>1</th>\n",
       "      <th>10</th>\n",
       "      <th>100</th>\n",
       "      <th>101</th>\n",
       "      <th>102</th>\n",
       "      <th>103</th>\n",
       "      <th>104</th>\n",
       "      <th>105</th>\n",
       "      <th>106</th>\n",
       "      <th>...</th>\n",
       "      <th>990</th>\n",
       "      <th>991</th>\n",
       "      <th>992</th>\n",
       "      <th>993</th>\n",
       "      <th>994</th>\n",
       "      <th>995</th>\n",
       "      <th>996</th>\n",
       "      <th>997</th>\n",
       "      <th>998</th>\n",
       "      <th>999</th>\n",
       "    </tr>\n",
       "  </thead>\n",
       "  <tbody>\n",
       "    <tr>\n",
       "      <th>MEMORY_discovery</th>\n",
       "      <td>0.127180</td>\n",
       "      <td>0.136716</td>\n",
       "      <td>0.121656</td>\n",
       "      <td>0.112348</td>\n",
       "      <td>0.151517</td>\n",
       "      <td>0.141115</td>\n",
       "      <td>0.168610</td>\n",
       "      <td>0.114809</td>\n",
       "      <td>0.102996</td>\n",
       "      <td>0.146268</td>\n",
       "      <td>...</td>\n",
       "      <td>0.142824</td>\n",
       "      <td>0.133582</td>\n",
       "      <td>0.144258</td>\n",
       "      <td>0.189761</td>\n",
       "      <td>0.157322</td>\n",
       "      <td>0.132589</td>\n",
       "      <td>0.111851</td>\n",
       "      <td>0.138249</td>\n",
       "      <td>0.151667</td>\n",
       "      <td>0.164733</td>\n",
       "    </tr>\n",
       "    <tr>\n",
       "      <th>MEMORY_replication</th>\n",
       "      <td>0.141677</td>\n",
       "      <td>0.129492</td>\n",
       "      <td>0.138512</td>\n",
       "      <td>0.140737</td>\n",
       "      <td>0.128850</td>\n",
       "      <td>0.133924</td>\n",
       "      <td>0.153504</td>\n",
       "      <td>0.130816</td>\n",
       "      <td>0.122545</td>\n",
       "      <td>0.134365</td>\n",
       "      <td>...</td>\n",
       "      <td>0.108372</td>\n",
       "      <td>0.141355</td>\n",
       "      <td>0.155784</td>\n",
       "      <td>0.143342</td>\n",
       "      <td>0.169294</td>\n",
       "      <td>0.155288</td>\n",
       "      <td>0.131798</td>\n",
       "      <td>0.178853</td>\n",
       "      <td>0.151848</td>\n",
       "      <td>0.129008</td>\n",
       "    </tr>\n",
       "    <tr>\n",
       "      <th>EPISODIC_MEMORY_discovery</th>\n",
       "      <td>0.099676</td>\n",
       "      <td>0.149374</td>\n",
       "      <td>0.153240</td>\n",
       "      <td>0.145315</td>\n",
       "      <td>0.102663</td>\n",
       "      <td>0.141395</td>\n",
       "      <td>0.125562</td>\n",
       "      <td>0.147896</td>\n",
       "      <td>0.134973</td>\n",
       "      <td>0.144336</td>\n",
       "      <td>...</td>\n",
       "      <td>0.150736</td>\n",
       "      <td>0.125501</td>\n",
       "      <td>0.096848</td>\n",
       "      <td>0.099398</td>\n",
       "      <td>0.120377</td>\n",
       "      <td>0.138232</td>\n",
       "      <td>0.130499</td>\n",
       "      <td>0.148706</td>\n",
       "      <td>0.191219</td>\n",
       "      <td>0.157840</td>\n",
       "    </tr>\n",
       "    <tr>\n",
       "      <th>EPISODIC_MEMORY_replication</th>\n",
       "      <td>0.140209</td>\n",
       "      <td>0.121104</td>\n",
       "      <td>0.150814</td>\n",
       "      <td>0.139754</td>\n",
       "      <td>0.114543</td>\n",
       "      <td>0.113927</td>\n",
       "      <td>0.137537</td>\n",
       "      <td>0.147416</td>\n",
       "      <td>0.123621</td>\n",
       "      <td>0.114142</td>\n",
       "      <td>...</td>\n",
       "      <td>0.110866</td>\n",
       "      <td>0.107254</td>\n",
       "      <td>0.125524</td>\n",
       "      <td>0.110408</td>\n",
       "      <td>0.135466</td>\n",
       "      <td>0.137666</td>\n",
       "      <td>0.120287</td>\n",
       "      <td>0.143588</td>\n",
       "      <td>0.186040</td>\n",
       "      <td>0.182686</td>\n",
       "    </tr>\n",
       "    <tr>\n",
       "      <th>REWARD_discovery</th>\n",
       "      <td>0.087849</td>\n",
       "      <td>0.085433</td>\n",
       "      <td>0.091402</td>\n",
       "      <td>0.097668</td>\n",
       "      <td>0.092254</td>\n",
       "      <td>0.099601</td>\n",
       "      <td>0.083722</td>\n",
       "      <td>0.111010</td>\n",
       "      <td>0.065819</td>\n",
       "      <td>0.073623</td>\n",
       "      <td>...</td>\n",
       "      <td>0.080315</td>\n",
       "      <td>0.085909</td>\n",
       "      <td>0.060730</td>\n",
       "      <td>0.063964</td>\n",
       "      <td>0.077585</td>\n",
       "      <td>0.110592</td>\n",
       "      <td>0.128003</td>\n",
       "      <td>0.114752</td>\n",
       "      <td>0.103719</td>\n",
       "      <td>0.075293</td>\n",
       "    </tr>\n",
       "  </tbody>\n",
       "</table>\n",
       "<p>5 rows × 1000 columns</p>\n",
       "</div>"
      ],
      "text/plain": [
       "                                    0         1        10       100       101  \\\n",
       "MEMORY_discovery             0.127180  0.136716  0.121656  0.112348  0.151517   \n",
       "MEMORY_replication           0.141677  0.129492  0.138512  0.140737  0.128850   \n",
       "EPISODIC_MEMORY_discovery    0.099676  0.149374  0.153240  0.145315  0.102663   \n",
       "EPISODIC_MEMORY_replication  0.140209  0.121104  0.150814  0.139754  0.114543   \n",
       "REWARD_discovery             0.087849  0.085433  0.091402  0.097668  0.092254   \n",
       "\n",
       "                                  102       103       104       105       106  \\\n",
       "MEMORY_discovery             0.141115  0.168610  0.114809  0.102996  0.146268   \n",
       "MEMORY_replication           0.133924  0.153504  0.130816  0.122545  0.134365   \n",
       "EPISODIC_MEMORY_discovery    0.141395  0.125562  0.147896  0.134973  0.144336   \n",
       "EPISODIC_MEMORY_replication  0.113927  0.137537  0.147416  0.123621  0.114142   \n",
       "REWARD_discovery             0.099601  0.083722  0.111010  0.065819  0.073623   \n",
       "\n",
       "                             ...       990       991       992       993  \\\n",
       "MEMORY_discovery             ...  0.142824  0.133582  0.144258  0.189761   \n",
       "MEMORY_replication           ...  0.108372  0.141355  0.155784  0.143342   \n",
       "EPISODIC_MEMORY_discovery    ...  0.150736  0.125501  0.096848  0.099398   \n",
       "EPISODIC_MEMORY_replication  ...  0.110866  0.107254  0.125524  0.110408   \n",
       "REWARD_discovery             ...  0.080315  0.085909  0.060730  0.063964   \n",
       "\n",
       "                                  994       995       996       997       998  \\\n",
       "MEMORY_discovery             0.157322  0.132589  0.111851  0.138249  0.151667   \n",
       "MEMORY_replication           0.169294  0.155288  0.131798  0.178853  0.151848   \n",
       "EPISODIC_MEMORY_discovery    0.120377  0.138232  0.130499  0.148706  0.191219   \n",
       "EPISODIC_MEMORY_replication  0.135466  0.137666  0.120287  0.143588  0.186040   \n",
       "REWARD_discovery             0.077585  0.110592  0.128003  0.114752  0.103719   \n",
       "\n",
       "                                  999  \n",
       "MEMORY_discovery             0.164733  \n",
       "MEMORY_replication           0.129008  \n",
       "EPISODIC_MEMORY_discovery    0.157840  \n",
       "EPISODIC_MEMORY_replication  0.182686  \n",
       "REWARD_discovery             0.075293  \n",
       "\n",
       "[5 rows x 1000 columns]"
      ]
     },
     "execution_count": 19,
     "metadata": {},
     "output_type": "execute_result"
    }
   ],
   "source": [
    "df_null_interleaved = pd.DataFrame()\n",
    "null_idx = []\n",
    "for dom in domains:\n",
    "    for split in [\"discovery\", \"replication\"]:\n",
    "        df_null_interleaved = df_null_interleaved.append(df_null[split].loc[dom])\n",
    "        null_idx.append(dom + \"_\" + split)\n",
    "df_null_interleaved.index = null_idx\n",
    "df_null_interleaved.head()"
   ]
  },
  {
   "cell_type": "markdown",
   "metadata": {},
   "source": [
    "## Bootstrap distributions"
   ]
  },
  {
   "cell_type": "code",
   "execution_count": 20,
   "metadata": {},
   "outputs": [
    {
     "name": "stdout",
     "output_type": "stream",
     "text": [
      "Processing discovery split (N=12708 documents)\n",
      "Processing replication split (N=5447 documents)\n"
     ]
    }
   ],
   "source": [
    "df_boot = {}\n",
    "for split, split_pmids in splits.items():\n",
    "    \n",
    "    print(\"Processing {} split (N={} documents)\".format(split, len(split_pmids)))\n",
    "    \n",
    "    file_boot = \"data/arche_boot_{}{}_{}_{}iter.csv\".format(framework, clf, split, n_iter)\n",
    "    if not os.path.isfile(file_boot):\n",
    "        \n",
    "        df_boot[split] = np.zeros((len(domains), n_iter))\n",
    "        for n in range(n_iter):\n",
    "            boot = np.random.choice(range(len(docs.columns)), \n",
    "                                    size=len(docs.columns), replace=True)\n",
    "            for i, dom in enumerate(domains):\n",
    "                dom_pmids = dom2docs[dom][split]\n",
    "                dom_vecs = docs.loc[dom_pmids].values[:,boot]\n",
    "                dom_arche = archetypes.values[boot,i].reshape(1, archetypes.shape[0])\n",
    "                df_boot[split][i,n] = 1.0 - np.mean(cdist(dom_vecs, dom_arche, metric=\"dice\"))\n",
    "            if n % int(n_iter / 10.0) == 0:\n",
    "                print(\"----- Processed {} iterations\".format(n))\n",
    "        \n",
    "        df_boot[split] = pd.DataFrame(df_boot[split], index=domains, columns=range(n_iter))\n",
    "        df_boot[split].to_csv(file_boot)\n",
    "        print(\"\")\n",
    "    \n",
    "    else:\n",
    "        df_boot[split] = pd.read_csv(file_boot, index_col=0, header=0)"
   ]
  },
  {
   "cell_type": "markdown",
   "metadata": {},
   "source": [
    "# Perform significance testing"
   ]
  },
  {
   "cell_type": "code",
   "execution_count": 21,
   "metadata": {},
   "outputs": [],
   "source": [
    "from statsmodels.stats import multitest"
   ]
  },
  {
   "cell_type": "code",
   "execution_count": 22,
   "metadata": {},
   "outputs": [
    {
     "name": "stdout",
     "output_type": "stream",
     "text": [
      "-----------------------------------------------------------------\n",
      "DISCOVERY\n",
      "-----------------------------------------------------------------\n",
      "                 OBSERVED    P  FDR STARS\n",
      "MEMORY           0.334063  0.0  0.0     *\n",
      "EPISODIC_MEMORY  0.339303  0.0  0.0     *\n",
      "REWARD           0.322129  0.0  0.0     *\n",
      "COGNITION        0.372507  0.0  0.0     *\n",
      "VISION           0.367827  0.0  0.0     *\n",
      "MANIPULATION     0.375790  0.0  0.0     *\n",
      "EXECUTION        0.308130  0.0  0.0     *\n",
      "HEARING          0.374409  0.0  0.0     *\n",
      "LANGUAGE         0.376413  0.0  0.0     *\n",
      "\n",
      "-----------------------------------------------------------------\n",
      "REPLICATION\n",
      "-----------------------------------------------------------------\n",
      "                 OBSERVED    P  FDR STARS\n",
      "MEMORY           0.341150  0.0  0.0     *\n",
      "EPISODIC_MEMORY  0.338489  0.0  0.0     *\n",
      "REWARD           0.315354  0.0  0.0     *\n",
      "COGNITION        0.372229  0.0  0.0     *\n",
      "VISION           0.367184  0.0  0.0     *\n",
      "MANIPULATION     0.373729  0.0  0.0     *\n",
      "EXECUTION        0.345019  0.0  0.0     *\n",
      "HEARING          0.374220  0.0  0.0     *\n",
      "LANGUAGE         0.372122  0.0  0.0     *\n",
      "\n"
     ]
    }
   ],
   "source": [
    "df_stat = {}\n",
    "\n",
    "for split, split_pmids in splits.items():\n",
    "    \n",
    "    df_stat[split] = pd.DataFrame(index=domains)\n",
    "    \n",
    "    pval = []\n",
    "    for dom in domains:   \n",
    "        dom_obs = df_obs.loc[(df_obs[\"SPLIT\"] == split) & (df_obs[\"DOMAIN\"] == dom), \"OBSERVED\"].mean()\n",
    "        df_stat[split].loc[dom, \"OBSERVED\"] = dom_obs\n",
    "        \n",
    "        dom_null = df_null[split].loc[dom].values\n",
    "        p = np.sum(dom_null >= dom_obs) / float(n_iter)\n",
    "        pval.append(p)\n",
    "        df_stat[split].loc[dom, \"P\"] = p\n",
    "    \n",
    "    df_stat[split][\"FDR\"] = multitest.multipletests(pval, method=\"fdr_bh\")[1]\n",
    "    \n",
    "    for dom in domains:\n",
    "        if df_stat[split].loc[dom, \"FDR\"] < alpha:\n",
    "            df_stat[split].loc[dom, \"STARS\"] = \"*\"\n",
    "        else:\n",
    "            df_stat[split].loc[dom, \"STARS\"] = \"\"\n",
    "    \n",
    "    df_stat[split] = df_stat[split].loc[domains, [\"OBSERVED\", \"P\", \"FDR\", \"STARS\"]]\n",
    "    df_stat[split].to_csv(\"data/arche_mean_{}{}_{}.csv\".format(framework, clf, split))\n",
    "    \n",
    "    print(\"-\" * 65 + \"\\n\" + split.upper() + \"\\n\" + \"-\" * 65)\n",
    "    print(df_stat[split])\n",
    "    print(\"\")"
   ]
  },
  {
   "cell_type": "markdown",
   "metadata": {},
   "source": [
    "# Plot results"
   ]
  },
  {
   "cell_type": "code",
   "execution_count": 23,
   "metadata": {},
   "outputs": [],
   "source": [
    "%matplotlib inline"
   ]
  },
  {
   "cell_type": "code",
   "execution_count": 24,
   "metadata": {},
   "outputs": [],
   "source": [
    "palette = style.palettes[\"data-driven\"] + style.palettes[\"dsm\"]"
   ]
  },
  {
   "cell_type": "code",
   "execution_count": 25,
   "metadata": {},
   "outputs": [
    {
     "data": {
      "image/png": "[encoded data removed]",
      "text/plain": [
       "<Figure size 252x151.2 with 1 Axes>"
      ]
     },
     "metadata": {},
     "output_type": "display_data"
    }
   ],
   "source": [
    "utilities.plot_split_violins(framework, domains, df_obs, df_null_interleaved, df_stat, \n",
    "                             palette, metric=\"arche\", dx=dx, figsize=(3.5, 2.1),\n",
    "                             ylim=[-0.25,1], yticks=[-0.25,0,0.25,0.5,0.75,1], \n",
    "                             interval=0.999, alphas=[0], suffix=clf)"
   ]
  },
  {
   "cell_type": "code",
   "execution_count": null,
   "metadata": {},
   "outputs": [],
   "source": []
  }
 ],
 "metadata": {
  "kernelspec": {
   "display_name": "Python [conda env:ontol]",
   "language": "python",
   "name": "conda-env-ontol-py"
  },
  "language_info": {
   "codemirror_mode": {
    "name": "ipython",
    "version": 3
   },
   "file_extension": ".py",
   "mimetype": "text/x-python",
   "name": "python",
   "nbconvert_exporter": "python",
   "pygments_lexer": "ipython3",
   "version": "3.6.8"
  }
 },
 "nbformat": 4,
 "nbformat_minor": 2
}
