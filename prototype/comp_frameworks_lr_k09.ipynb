{
 "cells": [
  {
   "cell_type": "markdown",
   "metadata": {},
   "source": [
    "# Introduction\n",
    "\n",
    "This notebook compares the test set performance of classifiers using term list scores based on the data-driven, RDoC, and DSM frameworks.\n",
    "\n",
    "# Load the data"
   ]
  },
  {
   "cell_type": "code",
   "execution_count": 1,
   "metadata": {},
   "outputs": [],
   "source": [
    "import pandas as pd\n",
    "import numpy as np\n",
    "np.random.seed(42)\n",
    "\n",
    "import sys\n",
    "sys.path.append(\"..\")\n",
    "import utilities"
   ]
  },
  {
   "cell_type": "markdown",
   "metadata": {},
   "source": [
    "## Input parameters"
   ]
  },
  {
   "cell_type": "code",
   "execution_count": 2,
   "metadata": {},
   "outputs": [],
   "source": [
    "metric = \"arche\" # Variable being compared between frameworks\n",
    "n_iter = 1000 # Number of iterations for bootstrap distributions\n",
    "frameworks = [\"data-driven_k09\", \"data-driven\", \"rdoc\", \"dsm\"]\n",
    "clfs = [\"_lr\", \"_lr\", \"\", \"\"]\n",
    "list_suffixes = [\"\", \"\", \"_opsim\", \"_opsim\"]\n",
    "splits = [\"discovery\", \"replication\"]\n",
    "suffix = \"lr\""
   ]
  },
  {
   "cell_type": "markdown",
   "metadata": {},
   "source": [
    "## Framework contents"
   ]
  },
  {
   "cell_type": "code",
   "execution_count": 3,
   "metadata": {},
   "outputs": [],
   "source": [
    "lists, circuits = {}, {}\n",
    "for fw, clf, list_suffix in zip(frameworks, clfs, list_suffixes):\n",
    "    lists[fw], circuits[fw] = utilities.load_framework(fw, suffix=list_suffix, clf=clf)"
   ]
  },
  {
   "cell_type": "markdown",
   "metadata": {},
   "source": [
    "## Observed values"
   ]
  },
  {
   "cell_type": "code",
   "execution_count": 4,
   "metadata": {},
   "outputs": [],
   "source": [
    "obs = {}\n",
    "for fw, clf in zip(frameworks, clfs):\n",
    "    obs[fw] = pd.read_csv(\"data/{}_obs_{}{}.csv\".format(metric, fw, clf), index_col=0, header=0)"
   ]
  },
  {
   "cell_type": "markdown",
   "metadata": {},
   "source": [
    "## Bootstrap distributions"
   ]
  },
  {
   "cell_type": "code",
   "execution_count": 5,
   "metadata": {},
   "outputs": [],
   "source": [
    "boot, mean = {}, {}\n",
    "for split in splits:\n",
    "    boot[split], mean[split] = {}, {}\n",
    "    for fw, clf in zip(frameworks, clfs):\n",
    "        boot[split][fw] = pd.read_csv(\"data/{}_boot_{}{}_{}_{}iter.csv\".format(metric, fw, clf, split, n_iter), \n",
    "                                      index_col=0, header=0)\n",
    "        mean[split][fw] = pd.read_csv(\"data/{}_mean_{}{}_{}.csv\".format(metric, fw, clf, split), \n",
    "                                      index_col=0, header=0)"
   ]
  },
  {
   "cell_type": "markdown",
   "metadata": {},
   "source": [
    "# Perform comparison tests\n",
    "\n",
    "Is the mean of fw<sub>i</sub> greater than the mean of fw<sub>j</sub>?"
   ]
  },
  {
   "cell_type": "code",
   "execution_count": 6,
   "metadata": {},
   "outputs": [],
   "source": [
    "from statsmodels.stats.multitest import multipletests"
   ]
  },
  {
   "cell_type": "code",
   "execution_count": 7,
   "metadata": {},
   "outputs": [
    {
     "name": "stdout",
     "output_type": "stream",
     "text": [
      "-----------------------------------------------------------------\n",
      "DISCOVERY\n",
      "-----------------------------------------------------------------\n",
      "                 data-driven_k09  data-driven      rdoc  dsm\n",
      "data-driven_k09            1.000          1.0  0.845333  0.0\n",
      "data-driven                0.416          1.0  0.232000  0.0\n",
      "rdoc                       1.000          1.0  1.000000  0.0\n",
      "dsm                        1.000          1.0  1.000000  1.0\n",
      "\n",
      "-----------------------------------------------------------------\n",
      "REPLICATION\n",
      "-----------------------------------------------------------------\n",
      "                 data-driven_k09  data-driven      rdoc  dsm\n",
      "data-driven_k09           1.0000          1.0  0.778667  0.0\n",
      "data-driven               0.4704          1.0  0.236000  0.0\n",
      "rdoc                      1.0000          1.0  1.000000  0.0\n",
      "dsm                       1.0000          1.0  1.000000  1.0\n",
      "\n"
     ]
    }
   ],
   "source": [
    "p, fdr = {}, {}\n",
    "for split in splits:\n",
    "    p[split] = np.empty((len(frameworks), len(frameworks)))\n",
    "    for i, fw_i in enumerate(frameworks):\n",
    "        for j, fw_j in enumerate(frameworks):\n",
    "            boot_i = np.mean(boot[split][fw_i], axis=0)\n",
    "            boot_j = np.mean(boot[split][fw_j], axis=0)\n",
    "            p[split][i,j] = np.sum((boot_i - boot_j) <= 0.0) / float(n_iter)\n",
    "\n",
    "    fdr[split] = multipletests(p[split].ravel(), method=\"fdr_bh\")[1].reshape(p[split].shape)\n",
    "    fdr[split] = pd.DataFrame(fdr[split], index=frameworks, columns=frameworks)\n",
    "    \n",
    "    print(\"-\" * 65 + \"\\n\" + split.upper() + \"\\n\" + \"-\" * 65)\n",
    "    print(fdr[split])\n",
    "    print(\"\")"
   ]
  },
  {
   "cell_type": "markdown",
   "metadata": {},
   "source": [
    "# Plot evaluation metrics"
   ]
  },
  {
   "cell_type": "code",
   "execution_count": 8,
   "metadata": {},
   "outputs": [],
   "source": [
    "%matplotlib inline"
   ]
  },
  {
   "cell_type": "code",
   "execution_count": 10,
   "metadata": {
    "scrolled": false
   },
   "outputs": [
    {
     "data": {
      "image/png": "[encoded data removed]",
      "text/plain": [
       "<Figure size 86.4x151.2 with 1 Axes>"
      ]
     },
     "metadata": {
      "needs_background": "light"
     },
     "output_type": "display_data"
    },
    {
     "data": {
      "image/png": "[encoded data removed]",
      "text/plain": [
       "<Figure size 86.4x151.2 with 1 Axes>"
      ]
     },
     "metadata": {
      "needs_background": "light"
     },
     "output_type": "display_data"
    }
   ],
   "source": [
    "for split in splits:\n",
    "    utilities.plot_framework_comparison(boot[split], obs, mean[split], metric=metric, w=1.2,\n",
    "                                        n_iter=n_iter, suffix=\"k09_\" + suffix + \"_\" + split, \n",
    "                                        ylim=[-0.25,1], yticks=[-0.25,0,0.25,0.5,0.75,1])"
   ]
  },
  {
   "cell_type": "code",
   "execution_count": null,
   "metadata": {},
   "outputs": [],
   "source": []
  }
 ],
 "metadata": {
  "kernelspec": {
   "display_name": "Python [conda env:ontol]",
   "language": "python",
   "name": "conda-env-ontol-py"
  },
  "language_info": {
   "codemirror_mode": {
    "name": "ipython",
    "version": 3
   },
   "file_extension": ".py",
   "mimetype": "text/x-python",
   "name": "python",
   "nbconvert_exporter": "python",
   "pygments_lexer": "ipython3",
   "version": "3.6.8"
  }
 },
 "nbformat": 4,
 "nbformat_minor": 2
}
