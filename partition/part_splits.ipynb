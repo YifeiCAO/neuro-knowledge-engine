{
 "cells": [
  {
   "cell_type": "markdown",
   "metadata": {},
   "source": [
    "# Introduction\n",
    "\n",
    "This notebook will assign documents to domains in the data-driven ontology with the highest Dice similarity of their brain structures and mental function terms.\n",
    "\n",
    "# Load the data"
   ]
  },
  {
   "cell_type": "code",
   "execution_count": 1,
   "metadata": {},
   "outputs": [],
   "source": [
    "import pandas as pd\n",
    "import numpy as np\n",
    "import sys\n",
    "sys.path.append(\"..\")\n",
    "import utilities, partition\n",
    "from ontology import ontology"
   ]
  },
  {
   "cell_type": "markdown",
   "metadata": {},
   "source": [
    "## Brain activation coordinates"
   ]
  },
  {
   "cell_type": "code",
   "execution_count": 2,
   "metadata": {},
   "outputs": [
    {
     "name": "stdout",
     "output_type": "stream",
     "text": [
      "Document N=18155, Structure N=118\n"
     ]
    }
   ],
   "source": [
    "act_bin = utilities.load_coordinates()\n",
    "print(\"Document N={}, Structure N={}\".format(\n",
    "      act_bin.shape[0], act_bin.shape[1]))"
   ]
  },
  {
   "cell_type": "markdown",
   "metadata": {},
   "source": [
    "## Document-term matrix"
   ]
  },
  {
   "cell_type": "code",
   "execution_count": 3,
   "metadata": {},
   "outputs": [
    {
     "name": "stdout",
     "output_type": "stream",
     "text": [
      "Document N=18155, Term N=4107\n"
     ]
    }
   ],
   "source": [
    "dtm_bin = utilities.load_doc_term_matrix(version=190325, binarize=True)\n",
    "print(\"Document N={}, Term N={}\".format(\n",
    "      dtm_bin.shape[0], dtm_bin.shape[1]))"
   ]
  },
  {
   "cell_type": "markdown",
   "metadata": {},
   "source": [
    "## Document splits"
   ]
  },
  {
   "cell_type": "code",
   "execution_count": 4,
   "metadata": {},
   "outputs": [
    {
     "name": "stdout",
     "output_type": "stream",
     "text": [
      "Train        N=12708\n",
      "Validation   N=3631\n",
      "Test         N=1816\n"
     ]
    }
   ],
   "source": [
    "splits = {}\n",
    "splits[\"train\"] = [int(pmid.strip()) for pmid in open(\"../data/splits/train.txt\")]\n",
    "splits[\"validation\"] = [int(pmid.strip()) for pmid in open(\"../data/splits/validation.txt\")]\n",
    "splits[\"test\"] = [int(pmid.strip()) for pmid in open(\"../data/splits/test.txt\")]\n",
    "for split, split_pmids in splits.items():\n",
    "    print(\"{:12s} N={}\".format(split.title(), len(split_pmids)))"
   ]
  },
  {
   "cell_type": "code",
   "execution_count": 5,
   "metadata": {},
   "outputs": [],
   "source": [
    "doc2split = {}\n",
    "for split, split_pmids in splits.items():\n",
    "    for pmid in split_pmids:\n",
    "        doc2split[pmid] = split"
   ]
  },
  {
   "cell_type": "markdown",
   "metadata": {},
   "source": [
    "# Compute document distances"
   ]
  },
  {
   "cell_type": "code",
   "execution_count": 6,
   "metadata": {},
   "outputs": [],
   "source": [
    "from scipy.spatial.distance import cdist"
   ]
  },
  {
   "cell_type": "code",
   "execution_count": 7,
   "metadata": {},
   "outputs": [
    {
     "data": {
      "text/plain": [
       "291"
      ]
     },
     "execution_count": 7,
     "metadata": {},
     "output_type": "execute_result"
    }
   ],
   "source": [
    "words = []\n",
    "for k in range(2, 51):\n",
    "    lists, circuits = ontology.load_ontology(k, path=\"../ontology/\", suffix=\"_logreg\")\n",
    "    words += list(set(lists[\"TOKEN\"]))\n",
    "words = sorted(list(set(words)))\n",
    "len(words)"
   ]
  },
  {
   "cell_type": "code",
   "execution_count": 8,
   "metadata": {},
   "outputs": [],
   "source": [
    "pmids = sorted(list(dtm_bin.index.intersection(act_bin.index)))\n",
    "structures = sorted(list(set(act_bin.columns)))\n",
    "act_structs = act_bin.loc[pmids, structures]\n",
    "dtm_words = dtm_bin.loc[pmids, words]"
   ]
  },
  {
   "cell_type": "code",
   "execution_count": 9,
   "metadata": {},
   "outputs": [
    {
     "data": {
      "text/html": [
       "<div>\n",
       "<style scoped>\n",
       "    .dataframe tbody tr th:only-of-type {\n",
       "        vertical-align: middle;\n",
       "    }\n",
       "\n",
       "    .dataframe tbody tr th {\n",
       "        vertical-align: top;\n",
       "    }\n",
       "\n",
       "    .dataframe thead th {\n",
       "        text-align: right;\n",
       "    }\n",
       "</style>\n",
       "<table border=\"1\" class=\"dataframe\">\n",
       "  <thead>\n",
       "    <tr style=\"text-align: right;\">\n",
       "      <th></th>\n",
       "      <th>action</th>\n",
       "      <th>addiction</th>\n",
       "      <th>affective_picture</th>\n",
       "      <th>air_hunger</th>\n",
       "      <th>anger</th>\n",
       "      <th>anhedonia</th>\n",
       "      <th>anticipation</th>\n",
       "      <th>anxiety</th>\n",
       "      <th>arm</th>\n",
       "      <th>arousal</th>\n",
       "      <th>...</th>\n",
       "      <th>right_superior_temporal_gyrus_posterior_division</th>\n",
       "      <th>right_supplementary_motor_cortex</th>\n",
       "      <th>right_supracalcarine_cortex</th>\n",
       "      <th>right_supramarginal_gyrus_anterior_division</th>\n",
       "      <th>right_supramarginal_gyrus_posterior_division</th>\n",
       "      <th>right_temporal_fusiform_cortex_anterior_division</th>\n",
       "      <th>right_temporal_fusiform_cortex_posterior_division</th>\n",
       "      <th>right_temporal_occipital_fusiform_cortex</th>\n",
       "      <th>right_temporal_pole</th>\n",
       "      <th>right_thalamus</th>\n",
       "    </tr>\n",
       "  </thead>\n",
       "  <tbody>\n",
       "    <tr>\n",
       "      <th>1402966</th>\n",
       "      <td>0.0</td>\n",
       "      <td>0.0</td>\n",
       "      <td>0.0</td>\n",
       "      <td>0.0</td>\n",
       "      <td>0.0</td>\n",
       "      <td>0.0</td>\n",
       "      <td>0.0</td>\n",
       "      <td>0.0</td>\n",
       "      <td>0.0</td>\n",
       "      <td>1.0</td>\n",
       "      <td>...</td>\n",
       "      <td>0</td>\n",
       "      <td>0</td>\n",
       "      <td>0</td>\n",
       "      <td>0</td>\n",
       "      <td>0</td>\n",
       "      <td>0</td>\n",
       "      <td>0</td>\n",
       "      <td>1</td>\n",
       "      <td>0</td>\n",
       "      <td>0</td>\n",
       "    </tr>\n",
       "    <tr>\n",
       "      <th>1410086</th>\n",
       "      <td>0.0</td>\n",
       "      <td>0.0</td>\n",
       "      <td>0.0</td>\n",
       "      <td>0.0</td>\n",
       "      <td>0.0</td>\n",
       "      <td>0.0</td>\n",
       "      <td>0.0</td>\n",
       "      <td>0.0</td>\n",
       "      <td>0.0</td>\n",
       "      <td>0.0</td>\n",
       "      <td>...</td>\n",
       "      <td>0</td>\n",
       "      <td>0</td>\n",
       "      <td>0</td>\n",
       "      <td>0</td>\n",
       "      <td>0</td>\n",
       "      <td>0</td>\n",
       "      <td>0</td>\n",
       "      <td>1</td>\n",
       "      <td>0</td>\n",
       "      <td>0</td>\n",
       "    </tr>\n",
       "    <tr>\n",
       "      <th>1448149</th>\n",
       "      <td>0.0</td>\n",
       "      <td>0.0</td>\n",
       "      <td>0.0</td>\n",
       "      <td>0.0</td>\n",
       "      <td>0.0</td>\n",
       "      <td>0.0</td>\n",
       "      <td>0.0</td>\n",
       "      <td>0.0</td>\n",
       "      <td>0.0</td>\n",
       "      <td>0.0</td>\n",
       "      <td>...</td>\n",
       "      <td>0</td>\n",
       "      <td>0</td>\n",
       "      <td>0</td>\n",
       "      <td>0</td>\n",
       "      <td>0</td>\n",
       "      <td>0</td>\n",
       "      <td>0</td>\n",
       "      <td>0</td>\n",
       "      <td>1</td>\n",
       "      <td>0</td>\n",
       "    </tr>\n",
       "    <tr>\n",
       "      <th>1486459</th>\n",
       "      <td>0.0</td>\n",
       "      <td>0.0</td>\n",
       "      <td>0.0</td>\n",
       "      <td>0.0</td>\n",
       "      <td>0.0</td>\n",
       "      <td>0.0</td>\n",
       "      <td>0.0</td>\n",
       "      <td>0.0</td>\n",
       "      <td>0.0</td>\n",
       "      <td>0.0</td>\n",
       "      <td>...</td>\n",
       "      <td>1</td>\n",
       "      <td>0</td>\n",
       "      <td>0</td>\n",
       "      <td>0</td>\n",
       "      <td>0</td>\n",
       "      <td>0</td>\n",
       "      <td>0</td>\n",
       "      <td>0</td>\n",
       "      <td>0</td>\n",
       "      <td>0</td>\n",
       "    </tr>\n",
       "    <tr>\n",
       "      <th>1486460</th>\n",
       "      <td>0.0</td>\n",
       "      <td>0.0</td>\n",
       "      <td>0.0</td>\n",
       "      <td>0.0</td>\n",
       "      <td>0.0</td>\n",
       "      <td>0.0</td>\n",
       "      <td>0.0</td>\n",
       "      <td>0.0</td>\n",
       "      <td>0.0</td>\n",
       "      <td>0.0</td>\n",
       "      <td>...</td>\n",
       "      <td>1</td>\n",
       "      <td>0</td>\n",
       "      <td>1</td>\n",
       "      <td>0</td>\n",
       "      <td>1</td>\n",
       "      <td>0</td>\n",
       "      <td>0</td>\n",
       "      <td>0</td>\n",
       "      <td>0</td>\n",
       "      <td>0</td>\n",
       "    </tr>\n",
       "  </tbody>\n",
       "</table>\n",
       "<p>5 rows × 409 columns</p>\n",
       "</div>"
      ],
      "text/plain": [
       "         action  addiction  affective_picture  air_hunger  anger  anhedonia  \\\n",
       "1402966     0.0        0.0                0.0         0.0    0.0        0.0   \n",
       "1410086     0.0        0.0                0.0         0.0    0.0        0.0   \n",
       "1448149     0.0        0.0                0.0         0.0    0.0        0.0   \n",
       "1486459     0.0        0.0                0.0         0.0    0.0        0.0   \n",
       "1486460     0.0        0.0                0.0         0.0    0.0        0.0   \n",
       "\n",
       "         anticipation  anxiety  arm  arousal  ...  \\\n",
       "1402966           0.0      0.0  0.0      1.0  ...   \n",
       "1410086           0.0      0.0  0.0      0.0  ...   \n",
       "1448149           0.0      0.0  0.0      0.0  ...   \n",
       "1486459           0.0      0.0  0.0      0.0  ...   \n",
       "1486460           0.0      0.0  0.0      0.0  ...   \n",
       "\n",
       "         right_superior_temporal_gyrus_posterior_division  \\\n",
       "1402966                                                 0   \n",
       "1410086                                                 0   \n",
       "1448149                                                 0   \n",
       "1486459                                                 1   \n",
       "1486460                                                 1   \n",
       "\n",
       "         right_supplementary_motor_cortex  right_supracalcarine_cortex  \\\n",
       "1402966                                 0                            0   \n",
       "1410086                                 0                            0   \n",
       "1448149                                 0                            0   \n",
       "1486459                                 0                            0   \n",
       "1486460                                 0                            1   \n",
       "\n",
       "         right_supramarginal_gyrus_anterior_division  \\\n",
       "1402966                                            0   \n",
       "1410086                                            0   \n",
       "1448149                                            0   \n",
       "1486459                                            0   \n",
       "1486460                                            0   \n",
       "\n",
       "         right_supramarginal_gyrus_posterior_division  \\\n",
       "1402966                                             0   \n",
       "1410086                                             0   \n",
       "1448149                                             0   \n",
       "1486459                                             0   \n",
       "1486460                                             1   \n",
       "\n",
       "         right_temporal_fusiform_cortex_anterior_division  \\\n",
       "1402966                                                 0   \n",
       "1410086                                                 0   \n",
       "1448149                                                 0   \n",
       "1486459                                                 0   \n",
       "1486460                                                 0   \n",
       "\n",
       "         right_temporal_fusiform_cortex_posterior_division  \\\n",
       "1402966                                                  0   \n",
       "1410086                                                  0   \n",
       "1448149                                                  0   \n",
       "1486459                                                  0   \n",
       "1486460                                                  0   \n",
       "\n",
       "         right_temporal_occipital_fusiform_cortex  right_temporal_pole  \\\n",
       "1402966                                         1                    0   \n",
       "1410086                                         1                    0   \n",
       "1448149                                         0                    1   \n",
       "1486459                                         0                    0   \n",
       "1486460                                         0                    0   \n",
       "\n",
       "         right_thalamus  \n",
       "1402966               0  \n",
       "1410086               0  \n",
       "1448149               0  \n",
       "1486459               0  \n",
       "1486460               0  \n",
       "\n",
       "[5 rows x 409 columns]"
      ]
     },
     "execution_count": 9,
     "metadata": {},
     "output_type": "execute_result"
    }
   ],
   "source": [
    "docs = dtm_words.copy()\n",
    "docs[structures] = act_structs.copy()\n",
    "docs.head()"
   ]
  },
  {
   "cell_type": "code",
   "execution_count": 10,
   "metadata": {},
   "outputs": [],
   "source": [
    "doc_dists = cdist(docs, docs, metric=\"dice\")\n",
    "doc_dists = pd.DataFrame(doc_dists, index=pmids, columns=pmids)"
   ]
  },
  {
   "cell_type": "code",
   "execution_count": 11,
   "metadata": {},
   "outputs": [],
   "source": [
    "ordered_pmids = []\n",
    "for split, split_pmids in splits.items():\n",
    "    ordered_pmids += sorted(split_pmids)\n",
    "doc_dists = doc_dists[ordered_pmids].loc[ordered_pmids]"
   ]
  },
  {
   "cell_type": "code",
   "execution_count": 12,
   "metadata": {},
   "outputs": [],
   "source": [
    "transitions = []\n",
    "for i, pmid in enumerate(ordered_pmids):\n",
    "    if doc2split[ordered_pmids[i-1]] != doc2split[pmid]:\n",
    "        transitions.append(i)"
   ]
  },
  {
   "cell_type": "markdown",
   "metadata": {},
   "source": [
    "# Plot document distances"
   ]
  },
  {
   "cell_type": "code",
   "execution_count": 13,
   "metadata": {},
   "outputs": [],
   "source": [
    "import matplotlib.pyplot as plt\n",
    "from matplotlib import cm, font_manager, rcParams\n",
    "\n",
    "%matplotlib inline"
   ]
  },
  {
   "cell_type": "code",
   "execution_count": 14,
   "metadata": {},
   "outputs": [],
   "source": [
    "linewidth=1.5\n",
    "rcParams[\"axes.linewidth\"] = linewidth"
   ]
  },
  {
   "cell_type": "code",
   "execution_count": 15,
   "metadata": {},
   "outputs": [],
   "source": [
    "t1, t2 = transitions[1], transitions[2]\n",
    "doc_dists_filtered = doc_dists.values.copy()\n",
    "doc_dists_filtered[:t1,t1:] = np.nan\n",
    "doc_dists_filtered[t1:,:t1] = np.nan\n",
    "doc_dists_filtered[t1:t2,t2:] = np.nan\n",
    "doc_dists_filtered[t2:,t1:t2] = np.nan"
   ]
  },
  {
   "cell_type": "code",
   "execution_count": 16,
   "metadata": {},
   "outputs": [
    {
     "data": {
      "text/plain": [
       "<Figure size 216x216 with 0 Axes>"
      ]
     },
     "metadata": {},
     "output_type": "display_data"
    },
    {
     "data": {
      "image/png": "[encoded data removed]",
      "text/plain": [
       "<Figure size 288x288 with 2 Axes>"
      ]
     },
     "metadata": {
      "needs_background": "light"
     },
     "output_type": "display_data"
    }
   ],
   "source": [
    "fig = plt.figure(figsize=(3,3))\n",
    "\n",
    "X = doc_dists_filtered.astype(np.float)\n",
    "im = plt.matshow(X, cmap=cm.Greys_r, vmin=0, vmax=1, alpha=1) \n",
    "\n",
    "cbar = plt.colorbar()\n",
    "cbar.solids.set_edgecolor(\"face\")\n",
    "    \n",
    "plt.xticks(transitions, labels=[])\n",
    "plt.yticks(transitions, labels=[])\n",
    "plt.tick_params(width=linewidth, length=7)\n",
    "\n",
    "plt.savefig(\"figures/partition_splits.png\", dpi=250, bbox_inches=\"tight\")\n",
    "plt.show()\n",
    "plt.close()"
   ]
  },
  {
   "cell_type": "code",
   "execution_count": null,
   "metadata": {},
   "outputs": [],
   "source": []
  }
 ],
 "metadata": {
  "kernelspec": {
   "display_name": "Python [conda env:ontol]",
   "language": "python",
   "name": "conda-env-ontol-py"
  },
  "language_info": {
   "codemirror_mode": {
    "name": "ipython",
    "version": 3
   },
   "file_extension": ".py",
   "mimetype": "text/x-python",
   "name": "python",
   "nbconvert_exporter": "python",
   "pygments_lexer": "ipython3",
   "version": "3.6.8"
  }
 },
 "nbformat": 4,
 "nbformat_minor": 2
}
