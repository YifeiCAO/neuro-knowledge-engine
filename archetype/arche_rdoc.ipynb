{
 "cells": [
  {
   "cell_type": "markdown",
   "metadata": {},
   "source": [
    "# Introduction\n",
    "\n",
    "In a prior notebook, documents were partitioned by assigning them to the domain with the highest Dice similarity of their term and structure occurrences. The occurrences of terms and structures in each domain is what we refer to as the domain \"archetype.\" Here, we'll assess whether the observed similarity between documents and the archetype is greater than expected by chance. This would indicate that information in the framework generalizes well to individual documents.\n",
    "\n",
    "# Load the data"
   ]
  },
  {
   "cell_type": "code",
   "execution_count": 1,
   "metadata": {},
   "outputs": [],
   "source": [
    "import sys\n",
    "sys.path.append(\"..\")\n",
    "import utilities, archetype\n",
    "import pandas as pd\n",
    "import numpy as np"
   ]
  },
  {
   "cell_type": "code",
   "execution_count": 2,
   "metadata": {},
   "outputs": [],
   "source": [
    "framework = \"rdoc\" \n",
    "version = 190325 # Document-term matrix version\n",
    "suffix = \"_opsim\" # Suffix for term lists\n",
    "n_iter = 1000 # Iterations for null distribution\n",
    "dx = [0.31, 0.39, 0.36, 0.39, 0.38, 0.37] # Nudges for plotted means\n",
    "ds = 0.09 # Nudges for plotted stars\n",
    "alpha = 0.001 # Significance level for statistical comparisons"
   ]
  },
  {
   "cell_type": "markdown",
   "metadata": {},
   "source": [
    "## Brain activation coordinates"
   ]
  },
  {
   "cell_type": "code",
   "execution_count": 3,
   "metadata": {},
   "outputs": [
    {
     "name": "stdout",
     "output_type": "stream",
     "text": [
      "Document N=18155, Structure N=114\n"
     ]
    }
   ],
   "source": [
    "act_bin = utilities.load_coordinates()\n",
    "print(\"Document N={}, Structure N={}\".format(\n",
    "      act_bin.shape[0], act_bin.shape[1]))"
   ]
  },
  {
   "cell_type": "markdown",
   "metadata": {},
   "source": [
    "## Document-term matrix"
   ]
  },
  {
   "cell_type": "code",
   "execution_count": 4,
   "metadata": {},
   "outputs": [
    {
     "name": "stdout",
     "output_type": "stream",
     "text": [
      "Document N=18155, Term N=4107\n"
     ]
    }
   ],
   "source": [
    "dtm_bin = utilities.load_doc_term_matrix(version=version, binarize=True)\n",
    "print(\"Document N={}, Term N={}\".format(\n",
    "      dtm_bin.shape[0], dtm_bin.shape[1]))"
   ]
  },
  {
   "cell_type": "markdown",
   "metadata": {},
   "source": [
    "## Domain archetypes"
   ]
  },
  {
   "cell_type": "code",
   "execution_count": 5,
   "metadata": {},
   "outputs": [],
   "source": [
    "from collections import OrderedDict"
   ]
  },
  {
   "cell_type": "code",
   "execution_count": 6,
   "metadata": {},
   "outputs": [],
   "source": [
    "lists, circuits = utilities.load_framework(framework, suffix=suffix)"
   ]
  },
  {
   "cell_type": "code",
   "execution_count": 7,
   "metadata": {},
   "outputs": [],
   "source": [
    "words = sorted(list(set(lists[\"TOKEN\"])))\n",
    "structures = sorted(list(set(act_bin.columns)))\n",
    "domains = list(OrderedDict.fromkeys(lists[\"DOMAIN\"]))"
   ]
  },
  {
   "cell_type": "code",
   "execution_count": 8,
   "metadata": {},
   "outputs": [
    {
     "name": "stdout",
     "output_type": "stream",
     "text": [
      "Term & Structure N=240, Domain N=6\n"
     ]
    }
   ],
   "source": [
    "archetypes = pd.DataFrame(0.0, index=words+structures, columns=domains)\n",
    "for dom in domains:\n",
    "    for word in lists.loc[lists[\"DOMAIN\"] == dom, \"TOKEN\"]:\n",
    "        archetypes.loc[word, dom] = 1.0\n",
    "    for struct in structures:\n",
    "        archetypes.loc[struct, dom] = circuits.loc[struct, dom]\n",
    "archetypes[archetypes > 0.0] = 1.0\n",
    "print(\"Term & Structure N={}, Domain N={}\".format(\n",
    "      archetypes.shape[0], archetypes.shape[1]))"
   ]
  },
  {
   "cell_type": "markdown",
   "metadata": {},
   "source": [
    "## Document structure-term vectors"
   ]
  },
  {
   "cell_type": "code",
   "execution_count": 9,
   "metadata": {},
   "outputs": [
    {
     "data": {
      "text/plain": [
       "18155"
      ]
     },
     "execution_count": 9,
     "metadata": {},
     "output_type": "execute_result"
    }
   ],
   "source": [
    "pmids = dtm_bin.index.intersection(act_bin.index)\n",
    "len(pmids)"
   ]
  },
  {
   "cell_type": "code",
   "execution_count": 10,
   "metadata": {},
   "outputs": [],
   "source": [
    "dtm_words = dtm_bin.loc[pmids, words]\n",
    "act_structs = act_bin.loc[pmids, structures]"
   ]
  },
  {
   "cell_type": "code",
   "execution_count": 11,
   "metadata": {},
   "outputs": [
    {
     "data": {
      "text/html": [
       "<div>\n",
       "<style scoped>\n",
       "    .dataframe tbody tr th:only-of-type {\n",
       "        vertical-align: middle;\n",
       "    }\n",
       "\n",
       "    .dataframe tbody tr th {\n",
       "        vertical-align: top;\n",
       "    }\n",
       "\n",
       "    .dataframe thead th {\n",
       "        text-align: right;\n",
       "    }\n",
       "</style>\n",
       "<table border=\"1\" class=\"dataframe\">\n",
       "  <thead>\n",
       "    <tr style=\"text-align: right;\">\n",
       "      <th></th>\n",
       "      <th>action</th>\n",
       "      <th>affective_state</th>\n",
       "      <th>aggression</th>\n",
       "      <th>alertness</th>\n",
       "      <th>alexithymia</th>\n",
       "      <th>anger</th>\n",
       "      <th>anticipation</th>\n",
       "      <th>anxiety</th>\n",
       "      <th>arousal</th>\n",
       "      <th>attachment</th>\n",
       "      <th>...</th>\n",
       "      <th>right_superior_temporal_gyrus_posterior_division</th>\n",
       "      <th>right_supplementary_motor_cortex</th>\n",
       "      <th>right_supracalcarine_cortex</th>\n",
       "      <th>right_supramarginal_gyrus_anterior_division</th>\n",
       "      <th>right_supramarginal_gyrus_posterior_division</th>\n",
       "      <th>right_temporal_fusiform_cortex_anterior_division</th>\n",
       "      <th>right_temporal_fusiform_cortex_posterior_division</th>\n",
       "      <th>right_temporal_occipital_fusiform_cortex</th>\n",
       "      <th>right_temporal_pole</th>\n",
       "      <th>right_thalamus</th>\n",
       "    </tr>\n",
       "  </thead>\n",
       "  <tbody>\n",
       "    <tr>\n",
       "      <th>10022492</th>\n",
       "      <td>0.0</td>\n",
       "      <td>0.0</td>\n",
       "      <td>0.0</td>\n",
       "      <td>0.0</td>\n",
       "      <td>0.0</td>\n",
       "      <td>0.0</td>\n",
       "      <td>1.0</td>\n",
       "      <td>0.0</td>\n",
       "      <td>0.0</td>\n",
       "      <td>0.0</td>\n",
       "      <td>...</td>\n",
       "      <td>0</td>\n",
       "      <td>1</td>\n",
       "      <td>0</td>\n",
       "      <td>1</td>\n",
       "      <td>0</td>\n",
       "      <td>0</td>\n",
       "      <td>0</td>\n",
       "      <td>0</td>\n",
       "      <td>0</td>\n",
       "      <td>1</td>\n",
       "    </tr>\n",
       "    <tr>\n",
       "      <th>10022494</th>\n",
       "      <td>0.0</td>\n",
       "      <td>0.0</td>\n",
       "      <td>0.0</td>\n",
       "      <td>0.0</td>\n",
       "      <td>0.0</td>\n",
       "      <td>0.0</td>\n",
       "      <td>0.0</td>\n",
       "      <td>0.0</td>\n",
       "      <td>0.0</td>\n",
       "      <td>0.0</td>\n",
       "      <td>...</td>\n",
       "      <td>1</td>\n",
       "      <td>1</td>\n",
       "      <td>1</td>\n",
       "      <td>1</td>\n",
       "      <td>0</td>\n",
       "      <td>0</td>\n",
       "      <td>0</td>\n",
       "      <td>1</td>\n",
       "      <td>0</td>\n",
       "      <td>0</td>\n",
       "    </tr>\n",
       "    <tr>\n",
       "      <th>10022496</th>\n",
       "      <td>0.0</td>\n",
       "      <td>0.0</td>\n",
       "      <td>0.0</td>\n",
       "      <td>0.0</td>\n",
       "      <td>0.0</td>\n",
       "      <td>0.0</td>\n",
       "      <td>1.0</td>\n",
       "      <td>0.0</td>\n",
       "      <td>0.0</td>\n",
       "      <td>0.0</td>\n",
       "      <td>...</td>\n",
       "      <td>1</td>\n",
       "      <td>0</td>\n",
       "      <td>0</td>\n",
       "      <td>0</td>\n",
       "      <td>1</td>\n",
       "      <td>0</td>\n",
       "      <td>0</td>\n",
       "      <td>0</td>\n",
       "      <td>0</td>\n",
       "      <td>0</td>\n",
       "    </tr>\n",
       "    <tr>\n",
       "      <th>10027301</th>\n",
       "      <td>0.0</td>\n",
       "      <td>0.0</td>\n",
       "      <td>0.0</td>\n",
       "      <td>0.0</td>\n",
       "      <td>0.0</td>\n",
       "      <td>0.0</td>\n",
       "      <td>0.0</td>\n",
       "      <td>0.0</td>\n",
       "      <td>0.0</td>\n",
       "      <td>0.0</td>\n",
       "      <td>...</td>\n",
       "      <td>0</td>\n",
       "      <td>0</td>\n",
       "      <td>0</td>\n",
       "      <td>0</td>\n",
       "      <td>0</td>\n",
       "      <td>0</td>\n",
       "      <td>0</td>\n",
       "      <td>1</td>\n",
       "      <td>0</td>\n",
       "      <td>0</td>\n",
       "    </tr>\n",
       "    <tr>\n",
       "      <th>10051677</th>\n",
       "      <td>0.0</td>\n",
       "      <td>0.0</td>\n",
       "      <td>0.0</td>\n",
       "      <td>0.0</td>\n",
       "      <td>0.0</td>\n",
       "      <td>0.0</td>\n",
       "      <td>0.0</td>\n",
       "      <td>0.0</td>\n",
       "      <td>1.0</td>\n",
       "      <td>0.0</td>\n",
       "      <td>...</td>\n",
       "      <td>0</td>\n",
       "      <td>0</td>\n",
       "      <td>0</td>\n",
       "      <td>0</td>\n",
       "      <td>1</td>\n",
       "      <td>0</td>\n",
       "      <td>1</td>\n",
       "      <td>0</td>\n",
       "      <td>1</td>\n",
       "      <td>1</td>\n",
       "    </tr>\n",
       "  </tbody>\n",
       "</table>\n",
       "<p>5 rows × 240 columns</p>\n",
       "</div>"
      ],
      "text/plain": [
       "          action  affective_state  aggression  alertness  alexithymia  anger  \\\n",
       "10022492     0.0              0.0         0.0        0.0          0.0    0.0   \n",
       "10022494     0.0              0.0         0.0        0.0          0.0    0.0   \n",
       "10022496     0.0              0.0         0.0        0.0          0.0    0.0   \n",
       "10027301     0.0              0.0         0.0        0.0          0.0    0.0   \n",
       "10051677     0.0              0.0         0.0        0.0          0.0    0.0   \n",
       "\n",
       "          anticipation  anxiety  arousal  attachment  ...  \\\n",
       "10022492           1.0      0.0      0.0         0.0  ...   \n",
       "10022494           0.0      0.0      0.0         0.0  ...   \n",
       "10022496           1.0      0.0      0.0         0.0  ...   \n",
       "10027301           0.0      0.0      0.0         0.0  ...   \n",
       "10051677           0.0      0.0      1.0         0.0  ...   \n",
       "\n",
       "          right_superior_temporal_gyrus_posterior_division  \\\n",
       "10022492                                                 0   \n",
       "10022494                                                 1   \n",
       "10022496                                                 1   \n",
       "10027301                                                 0   \n",
       "10051677                                                 0   \n",
       "\n",
       "          right_supplementary_motor_cortex  right_supracalcarine_cortex  \\\n",
       "10022492                                 1                            0   \n",
       "10022494                                 1                            1   \n",
       "10022496                                 0                            0   \n",
       "10027301                                 0                            0   \n",
       "10051677                                 0                            0   \n",
       "\n",
       "          right_supramarginal_gyrus_anterior_division  \\\n",
       "10022492                                            1   \n",
       "10022494                                            1   \n",
       "10022496                                            0   \n",
       "10027301                                            0   \n",
       "10051677                                            0   \n",
       "\n",
       "          right_supramarginal_gyrus_posterior_division  \\\n",
       "10022492                                             0   \n",
       "10022494                                             0   \n",
       "10022496                                             1   \n",
       "10027301                                             0   \n",
       "10051677                                             1   \n",
       "\n",
       "          right_temporal_fusiform_cortex_anterior_division  \\\n",
       "10022492                                                 0   \n",
       "10022494                                                 0   \n",
       "10022496                                                 0   \n",
       "10027301                                                 0   \n",
       "10051677                                                 0   \n",
       "\n",
       "          right_temporal_fusiform_cortex_posterior_division  \\\n",
       "10022492                                                  0   \n",
       "10022494                                                  0   \n",
       "10022496                                                  0   \n",
       "10027301                                                  0   \n",
       "10051677                                                  1   \n",
       "\n",
       "          right_temporal_occipital_fusiform_cortex  right_temporal_pole  \\\n",
       "10022492                                         0                    0   \n",
       "10022494                                         1                    0   \n",
       "10022496                                         0                    0   \n",
       "10027301                                         1                    0   \n",
       "10051677                                         0                    1   \n",
       "\n",
       "          right_thalamus  \n",
       "10022492               1  \n",
       "10022494               0  \n",
       "10022496               0  \n",
       "10027301               0  \n",
       "10051677               1  \n",
       "\n",
       "[5 rows x 240 columns]"
      ]
     },
     "execution_count": 11,
     "metadata": {},
     "output_type": "execute_result"
    }
   ],
   "source": [
    "docs = dtm_words.copy()\n",
    "docs[structures] = act_structs.copy()\n",
    "docs.head()"
   ]
  },
  {
   "cell_type": "markdown",
   "metadata": {},
   "source": [
    "## Document assignments"
   ]
  },
  {
   "cell_type": "code",
   "execution_count": 12,
   "metadata": {},
   "outputs": [],
   "source": [
    "doc2dom_df = pd.read_csv(\"../partition/data/doc2dom_{}.csv\".format(framework), \n",
    "                         header=None, index_col=0)\n",
    "doc2dom = {int(pmid): int(dom) for pmid, dom in doc2dom_df.iterrows()}"
   ]
  },
  {
   "cell_type": "code",
   "execution_count": 13,
   "metadata": {},
   "outputs": [],
   "source": [
    "dom2docs = {dom: [] for dom in domains}\n",
    "for doc, dom in doc2dom.items():\n",
    "    dom2docs[domains[dom-1]].append(doc)"
   ]
  },
  {
   "cell_type": "markdown",
   "metadata": {},
   "source": [
    "# Compute similarity to archetype"
   ]
  },
  {
   "cell_type": "code",
   "execution_count": 14,
   "metadata": {},
   "outputs": [],
   "source": [
    "from scipy.spatial.distance import cdist"
   ]
  },
  {
   "cell_type": "markdown",
   "metadata": {},
   "source": [
    "## Observed values"
   ]
  },
  {
   "cell_type": "code",
   "execution_count": 15,
   "metadata": {},
   "outputs": [
    {
     "data": {
      "text/html": [
       "<div>\n",
       "<style scoped>\n",
       "    .dataframe tbody tr th:only-of-type {\n",
       "        vertical-align: middle;\n",
       "    }\n",
       "\n",
       "    .dataframe tbody tr th {\n",
       "        vertical-align: top;\n",
       "    }\n",
       "\n",
       "    .dataframe thead th {\n",
       "        text-align: right;\n",
       "    }\n",
       "</style>\n",
       "<table border=\"1\" class=\"dataframe\">\n",
       "  <thead>\n",
       "    <tr style=\"text-align: right;\">\n",
       "      <th></th>\n",
       "      <th>OBSERVED</th>\n",
       "    </tr>\n",
       "  </thead>\n",
       "  <tbody>\n",
       "    <tr>\n",
       "      <th>NEGATIVE_VALENCE</th>\n",
       "      <td>0.358943</td>\n",
       "    </tr>\n",
       "    <tr>\n",
       "      <th>POSITIVE_VALENCE</th>\n",
       "      <td>0.329384</td>\n",
       "    </tr>\n",
       "    <tr>\n",
       "      <th>COGNITIVE_SYSTEMS</th>\n",
       "      <td>0.412186</td>\n",
       "    </tr>\n",
       "    <tr>\n",
       "      <th>SOCIAL_PROCESSES</th>\n",
       "      <td>0.325895</td>\n",
       "    </tr>\n",
       "    <tr>\n",
       "      <th>AROUSAL_REGULATION</th>\n",
       "      <td>0.242134</td>\n",
       "    </tr>\n",
       "    <tr>\n",
       "      <th>SENSORIMOTOR_SYSTEMS</th>\n",
       "      <td>0.415347</td>\n",
       "    </tr>\n",
       "  </tbody>\n",
       "</table>\n",
       "</div>"
      ],
      "text/plain": [
       "                      OBSERVED\n",
       "NEGATIVE_VALENCE      0.358943\n",
       "POSITIVE_VALENCE      0.329384\n",
       "COGNITIVE_SYSTEMS     0.412186\n",
       "SOCIAL_PROCESSES      0.325895\n",
       "AROUSAL_REGULATION    0.242134\n",
       "SENSORIMOTOR_SYSTEMS  0.415347"
      ]
     },
     "execution_count": 15,
     "metadata": {},
     "output_type": "execute_result"
    }
   ],
   "source": [
    "df_obs = pd.DataFrame(index=domains, columns=pmids)\n",
    "for dom in domains:\n",
    "    dom_pmids = dom2docs[dom]\n",
    "    dom_vecs = docs.loc[dom_pmids].values\n",
    "    dom_arche = archetypes[dom].values.reshape(1, archetypes.shape[0])\n",
    "    dom_sims = 1.0 - cdist(dom_vecs, dom_arche, metric=\"dice\")\n",
    "    df_obs.loc[dom, dom_pmids] = dom_sims[:,0]\n",
    "df = pd.DataFrame({\"OBSERVED\": df_obs.mean(axis=1)}, index=domains)\n",
    "df.to_csv(\"data/arche_obs_{}.csv\".format(framework))\n",
    "df.head(8)"
   ]
  },
  {
   "cell_type": "markdown",
   "metadata": {},
   "source": [
    "## Null distributions"
   ]
  },
  {
   "cell_type": "code",
   "execution_count": 16,
   "metadata": {},
   "outputs": [],
   "source": [
    "import os"
   ]
  },
  {
   "cell_type": "code",
   "execution_count": 17,
   "metadata": {},
   "outputs": [],
   "source": [
    "file_null = \"data/arche_null_{}_{}iter.csv\".format(framework, n_iter)\n",
    "if not os.path.isfile(file_null):\n",
    "    df_null = np.zeros((len(domains), n_iter))\n",
    "    for n in range(n_iter):\n",
    "        null = np.random.choice(range(len(docs.columns)), \n",
    "                                size=len(docs.columns), replace=False)\n",
    "        for i, dom in enumerate(domains):\n",
    "            dom_pmids = dom2docs[dom]\n",
    "            dom_vecs = docs.loc[dom_pmids].values\n",
    "            dom_arche = archetypes.values[null,i].reshape(1, archetypes.shape[0])\n",
    "            df_null[i,n] = 1.0 - np.mean(cdist(dom_vecs, dom_arche, metric=\"dice\"))\n",
    "        if n % int(n_iter / 10.0) == 0:\n",
    "            print(\"Processed {} iterations\".format(n))\n",
    "    df_null = pd.DataFrame(df_null, index=domains, columns=range(n_iter))\n",
    "    df_null.to_csv(file_null)\n",
    "else:\n",
    "    df_null = pd.read_csv(file_null, index_col=0, header=0)"
   ]
  },
  {
   "cell_type": "markdown",
   "metadata": {},
   "source": [
    "## Bootstrap distributions"
   ]
  },
  {
   "cell_type": "code",
   "execution_count": 18,
   "metadata": {},
   "outputs": [],
   "source": [
    "file_boot = \"data/arche_boot_{}_{}iter.csv\".format(framework, n_iter)\n",
    "if not os.path.isfile(file_boot):\n",
    "    df_boot = np.zeros((len(domains), n_iter))\n",
    "    for n in range(n_iter):\n",
    "        boot = np.random.choice(range(len(docs.columns)), \n",
    "                                size=len(docs.columns), replace=True)\n",
    "        for i, dom in enumerate(domains):\n",
    "            dom_pmids = dom2docs[dom]\n",
    "            dom_vecs = docs.loc[dom_pmids].values[:,boot]\n",
    "            dom_arche = archetypes.values[boot,i].reshape(1, archetypes.shape[0])\n",
    "            df_boot[i,n] = 1.0 - np.mean(cdist(dom_vecs, dom_arche, metric=\"dice\"))\n",
    "        if n % int(n_iter / 10.0) == 0:\n",
    "            print(\"Processed {} iterations\".format(n))\n",
    "    df_boot = pd.DataFrame(df_boot, index=domains, columns=range(n_iter))\n",
    "    df_boot.to_csv(file_boot)\n",
    "else:\n",
    "    df_boot = pd.read_csv(file_boot, index_col=0, header=0)"
   ]
  },
  {
   "cell_type": "markdown",
   "metadata": {},
   "source": [
    "# Perform significance testing"
   ]
  },
  {
   "cell_type": "code",
   "execution_count": 19,
   "metadata": {},
   "outputs": [],
   "source": [
    "from statsmodels.stats import multitest"
   ]
  },
  {
   "cell_type": "code",
   "execution_count": 20,
   "metadata": {},
   "outputs": [
    {
     "data": {
      "text/html": [
       "<div>\n",
       "<style scoped>\n",
       "    .dataframe tbody tr th:only-of-type {\n",
       "        vertical-align: middle;\n",
       "    }\n",
       "\n",
       "    .dataframe tbody tr th {\n",
       "        vertical-align: top;\n",
       "    }\n",
       "\n",
       "    .dataframe thead th {\n",
       "        text-align: right;\n",
       "    }\n",
       "</style>\n",
       "<table border=\"1\" class=\"dataframe\">\n",
       "  <thead>\n",
       "    <tr style=\"text-align: right;\">\n",
       "      <th></th>\n",
       "      <th>OBSERVED</th>\n",
       "      <th>P</th>\n",
       "      <th>FDR</th>\n",
       "      <th>STARS</th>\n",
       "    </tr>\n",
       "  </thead>\n",
       "  <tbody>\n",
       "    <tr>\n",
       "      <th>NEGATIVE_VALENCE</th>\n",
       "      <td>0.358943</td>\n",
       "      <td>0.0</td>\n",
       "      <td>0.0</td>\n",
       "      <td>*</td>\n",
       "    </tr>\n",
       "    <tr>\n",
       "      <th>POSITIVE_VALENCE</th>\n",
       "      <td>0.329384</td>\n",
       "      <td>0.0</td>\n",
       "      <td>0.0</td>\n",
       "      <td>*</td>\n",
       "    </tr>\n",
       "    <tr>\n",
       "      <th>COGNITIVE_SYSTEMS</th>\n",
       "      <td>0.412186</td>\n",
       "      <td>0.0</td>\n",
       "      <td>0.0</td>\n",
       "      <td>*</td>\n",
       "    </tr>\n",
       "    <tr>\n",
       "      <th>SOCIAL_PROCESSES</th>\n",
       "      <td>0.325895</td>\n",
       "      <td>0.0</td>\n",
       "      <td>0.0</td>\n",
       "      <td>*</td>\n",
       "    </tr>\n",
       "    <tr>\n",
       "      <th>AROUSAL_REGULATION</th>\n",
       "      <td>0.242134</td>\n",
       "      <td>0.0</td>\n",
       "      <td>0.0</td>\n",
       "      <td>*</td>\n",
       "    </tr>\n",
       "    <tr>\n",
       "      <th>SENSORIMOTOR_SYSTEMS</th>\n",
       "      <td>0.415347</td>\n",
       "      <td>0.0</td>\n",
       "      <td>0.0</td>\n",
       "      <td>*</td>\n",
       "    </tr>\n",
       "  </tbody>\n",
       "</table>\n",
       "</div>"
      ],
      "text/plain": [
       "                      OBSERVED    P  FDR STARS\n",
       "NEGATIVE_VALENCE      0.358943  0.0  0.0     *\n",
       "POSITIVE_VALENCE      0.329384  0.0  0.0     *\n",
       "COGNITIVE_SYSTEMS     0.412186  0.0  0.0     *\n",
       "SOCIAL_PROCESSES      0.325895  0.0  0.0     *\n",
       "AROUSAL_REGULATION    0.242134  0.0  0.0     *\n",
       "SENSORIMOTOR_SYSTEMS  0.415347  0.0  0.0     *"
      ]
     },
     "execution_count": 20,
     "metadata": {},
     "output_type": "execute_result"
    }
   ],
   "source": [
    "pval = []\n",
    "for dom in domains:   \n",
    "    dom_null = df_null.loc[dom].values\n",
    "    dom_obs = float(df.loc[dom, \"OBSERVED\"])\n",
    "    p = np.sum(dom_null >= dom_obs) / float(n_iter)\n",
    "    pval.append(p)\n",
    "    df.loc[dom, \"P\"] = p\n",
    "df[\"FDR\"] = multitest.multipletests(pval, method=\"fdr_bh\")[1]\n",
    "for dom in domains:\n",
    "    if df.loc[dom, \"FDR\"] < alpha:\n",
    "        df.loc[dom, \"STARS\"] = \"*\"\n",
    "    else:\n",
    "        df.loc[dom, \"STARS\"] = \"\"\n",
    "df = df.loc[domains, [\"OBSERVED\", \"P\", \"FDR\", \"STARS\"]]\n",
    "df"
   ]
  },
  {
   "cell_type": "markdown",
   "metadata": {},
   "source": [
    "# Plot results"
   ]
  },
  {
   "cell_type": "code",
   "execution_count": 21,
   "metadata": {},
   "outputs": [],
   "source": [
    "%matplotlib inline"
   ]
  },
  {
   "cell_type": "code",
   "execution_count": 22,
   "metadata": {},
   "outputs": [],
   "source": [
    "palette = utilities.palettes[framework]"
   ]
  },
  {
   "cell_type": "code",
   "execution_count": 23,
   "metadata": {},
   "outputs": [
    {
     "data": {
      "image/png": "[encoded data removed]",
      "text/plain": [
       "<Figure size 324x151.2 with 1 Axes>"
      ]
     },
     "metadata": {
      "needs_background": "light"
     },
     "output_type": "display_data"
    }
   ],
   "source": [
    "archetype.plot_violins(framework, domains, df, df_null, df_obs, palette, \n",
    "                       dx=dx, ds=ds, alphas=[0], interval=0.999,\n",
    "                       ylim=[-0.25,0.75], yticks=[-0.25,0,0.25,0.5,0.75])"
   ]
  },
  {
   "cell_type": "code",
   "execution_count": null,
   "metadata": {},
   "outputs": [],
   "source": []
  }
 ],
 "metadata": {
  "kernelspec": {
   "display_name": "Python (Ontol)",
   "language": "python",
   "name": "ontol"
  },
  "language_info": {
   "codemirror_mode": {
    "name": "ipython",
    "version": 3
   },
   "file_extension": ".py",
   "mimetype": "text/x-python",
   "name": "python",
   "nbconvert_exporter": "python",
   "pygments_lexer": "ipython3",
   "version": "3.6.8"
  }
 },
 "nbformat": 4,
 "nbformat_minor": 2
}
