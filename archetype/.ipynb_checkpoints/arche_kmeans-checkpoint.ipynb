{
 "cells": [
  {
   "cell_type": "markdown",
   "metadata": {},
   "source": [
    "# Similarity to system archetypes\n",
    "\n",
    "## Load the text and brain activation data"
   ]
  },
  {
   "cell_type": "code",
   "execution_count": 1,
   "metadata": {},
   "outputs": [],
   "source": [
    "import pandas as pd\n",
    "import numpy as np\n",
    "from collections import OrderedDict"
   ]
  },
  {
   "cell_type": "code",
   "execution_count": 2,
   "metadata": {},
   "outputs": [
    {
     "data": {
      "text/plain": [
       "0.2984103746007817"
      ]
     },
     "execution_count": 2,
     "metadata": {},
     "output_type": "execute_result"
    }
   ],
   "source": [
    "atlas_labels = pd.read_csv(\"../data/atlases/harvard-oxford.csv\")\n",
    "act_bin = pd.read_csv(\"../data/dcm_0mm_thres0.csv\", index_col=0) # Previously binarized\n",
    "act_bin = act_bin[atlas_labels[\"PREPROCESSED\"]]\n",
    "act_bin.mean().mean()"
   ]
  },
  {
   "cell_type": "code",
   "execution_count": 3,
   "metadata": {},
   "outputs": [],
   "source": [
    "def mean_thres(df):\n",
    "    col_mean = df.mean()\n",
    "    df_bin = np.empty((df.shape[0], df.shape[1]))\n",
    "    i = 0\n",
    "    for col, doc_mean in col_mean.iteritems():\n",
    "        df_bin[:,i] = 1 * (df[col] > doc_mean)\n",
    "        i += 1\n",
    "    df_bin = pd.DataFrame(df_bin, columns=df.columns, index=df.index)\n",
    "    return df_bin"
   ]
  },
  {
   "cell_type": "code",
   "execution_count": 4,
   "metadata": {},
   "outputs": [
    {
     "data": {
      "text/plain": [
       "0.019064029185168477"
      ]
     },
     "execution_count": 4,
     "metadata": {},
     "output_type": "execute_result"
    }
   ],
   "source": [
    "dtm = pd.read_csv(\"../data/dtm_190124.csv.gz\", compression=\"gzip\", index_col=0)\n",
    "dtm_bin = mean_thres(dtm)\n",
    "dtm_bin.mean().mean()"
   ]
  },
  {
   "cell_type": "markdown",
   "metadata": {},
   "source": [
    "## Load the brain systems"
   ]
  },
  {
   "cell_type": "code",
   "execution_count": 5,
   "metadata": {},
   "outputs": [],
   "source": [
    "dom_lists = pd.read_csv(\"../lists/lists/lists_k07_oplen.csv\", index_col=None)\n",
    "dom_circuits = pd.read_csv(\"../lists/circuits/circuits_k07.csv\", index_col=None)"
   ]
  },
  {
   "cell_type": "code",
   "execution_count": 6,
   "metadata": {},
   "outputs": [],
   "source": [
    "words = sorted(list(set(dom_lists[\"TOKEN\"])))\n",
    "structures = sorted(list(set(dom_circuits[\"STRUCTURE\"])))\n",
    "domains = list(OrderedDict.fromkeys(dom_lists[\"CLUSTER\"]))"
   ]
  },
  {
   "cell_type": "code",
   "execution_count": 7,
   "metadata": {},
   "outputs": [],
   "source": [
    "dom_systems = pd.DataFrame(0.0, index=words+structures, columns=domains)\n",
    "for dom in domains:\n",
    "    for word in dom_lists.loc[dom_lists[\"CLUSTER\"] == dom, \"TOKEN\"]:\n",
    "        dom_systems.loc[word, dom] = 1.0\n",
    "    for struct in dom_circuits.loc[dom_circuits[\"CLUSTER\"] == dom, \"STRUCTURE\"]:\n",
    "        dom_systems.loc[struct, dom] = 1.0"
   ]
  },
  {
   "cell_type": "markdown",
   "metadata": {},
   "source": [
    "## Load document assignments"
   ]
  },
  {
   "cell_type": "code",
   "execution_count": 8,
   "metadata": {},
   "outputs": [
    {
     "data": {
      "text/plain": [
       "18155"
      ]
     },
     "execution_count": 8,
     "metadata": {},
     "output_type": "execute_result"
    }
   ],
   "source": [
    "pmids = dtm_bin.index.intersection(act_bin.index)\n",
    "len(pmids)"
   ]
  },
  {
   "cell_type": "code",
   "execution_count": 9,
   "metadata": {},
   "outputs": [],
   "source": [
    "dtm_words = dtm_bin.loc[pmids, words]\n",
    "act_structs = act_bin.loc[pmids, structures]"
   ]
  },
  {
   "cell_type": "code",
   "execution_count": 10,
   "metadata": {},
   "outputs": [
    {
     "data": {
      "text/html": [
       "<div>\n",
       "<style scoped>\n",
       "    .dataframe tbody tr th:only-of-type {\n",
       "        vertical-align: middle;\n",
       "    }\n",
       "\n",
       "    .dataframe tbody tr th {\n",
       "        vertical-align: top;\n",
       "    }\n",
       "\n",
       "    .dataframe thead th {\n",
       "        text-align: right;\n",
       "    }\n",
       "</style>\n",
       "<table border=\"1\" class=\"dataframe\">\n",
       "  <thead>\n",
       "    <tr style=\"text-align: right;\">\n",
       "      <th></th>\n",
       "      <th>action</th>\n",
       "      <th>anticipation</th>\n",
       "      <th>arousal</th>\n",
       "      <th>articulation</th>\n",
       "      <th>attention</th>\n",
       "      <th>audition</th>\n",
       "      <th>auditory_feedback</th>\n",
       "      <th>auditory_perception</th>\n",
       "      <th>autobiographical_memory</th>\n",
       "      <th>cognitive</th>\n",
       "      <th>...</th>\n",
       "      <th>right_superior_temporal_gyrus_posterior_division</th>\n",
       "      <th>right_supplementary_motor_cortex</th>\n",
       "      <th>right_supracalcarine_cortex</th>\n",
       "      <th>right_supramarginal_gyrus_anterior_division</th>\n",
       "      <th>right_supramarginal_gyrus_posterior_division</th>\n",
       "      <th>right_temporal_fusiform_cortex_anterior_division</th>\n",
       "      <th>right_temporal_fusiform_cortex_posterior_division</th>\n",
       "      <th>right_temporal_occipital_fusiform_cortex</th>\n",
       "      <th>right_temporal_pole</th>\n",
       "      <th>right_thalamus</th>\n",
       "    </tr>\n",
       "  </thead>\n",
       "  <tbody>\n",
       "    <tr>\n",
       "      <th>1402966</th>\n",
       "      <td>0.0</td>\n",
       "      <td>0.0</td>\n",
       "      <td>1.0</td>\n",
       "      <td>0.0</td>\n",
       "      <td>0.0</td>\n",
       "      <td>0.0</td>\n",
       "      <td>0.0</td>\n",
       "      <td>0.0</td>\n",
       "      <td>0.0</td>\n",
       "      <td>0.0</td>\n",
       "      <td>...</td>\n",
       "      <td>0</td>\n",
       "      <td>0</td>\n",
       "      <td>0</td>\n",
       "      <td>0</td>\n",
       "      <td>0</td>\n",
       "      <td>0</td>\n",
       "      <td>0</td>\n",
       "      <td>1</td>\n",
       "      <td>0</td>\n",
       "      <td>0</td>\n",
       "    </tr>\n",
       "    <tr>\n",
       "      <th>1410086</th>\n",
       "      <td>0.0</td>\n",
       "      <td>0.0</td>\n",
       "      <td>0.0</td>\n",
       "      <td>0.0</td>\n",
       "      <td>0.0</td>\n",
       "      <td>0.0</td>\n",
       "      <td>0.0</td>\n",
       "      <td>0.0</td>\n",
       "      <td>0.0</td>\n",
       "      <td>0.0</td>\n",
       "      <td>...</td>\n",
       "      <td>0</td>\n",
       "      <td>0</td>\n",
       "      <td>0</td>\n",
       "      <td>0</td>\n",
       "      <td>0</td>\n",
       "      <td>0</td>\n",
       "      <td>0</td>\n",
       "      <td>1</td>\n",
       "      <td>0</td>\n",
       "      <td>0</td>\n",
       "    </tr>\n",
       "    <tr>\n",
       "      <th>1448149</th>\n",
       "      <td>0.0</td>\n",
       "      <td>0.0</td>\n",
       "      <td>0.0</td>\n",
       "      <td>0.0</td>\n",
       "      <td>0.0</td>\n",
       "      <td>0.0</td>\n",
       "      <td>0.0</td>\n",
       "      <td>0.0</td>\n",
       "      <td>0.0</td>\n",
       "      <td>0.0</td>\n",
       "      <td>...</td>\n",
       "      <td>0</td>\n",
       "      <td>0</td>\n",
       "      <td>0</td>\n",
       "      <td>0</td>\n",
       "      <td>0</td>\n",
       "      <td>0</td>\n",
       "      <td>0</td>\n",
       "      <td>0</td>\n",
       "      <td>1</td>\n",
       "      <td>0</td>\n",
       "    </tr>\n",
       "    <tr>\n",
       "      <th>1486459</th>\n",
       "      <td>0.0</td>\n",
       "      <td>0.0</td>\n",
       "      <td>0.0</td>\n",
       "      <td>1.0</td>\n",
       "      <td>0.0</td>\n",
       "      <td>0.0</td>\n",
       "      <td>0.0</td>\n",
       "      <td>1.0</td>\n",
       "      <td>0.0</td>\n",
       "      <td>1.0</td>\n",
       "      <td>...</td>\n",
       "      <td>1</td>\n",
       "      <td>0</td>\n",
       "      <td>0</td>\n",
       "      <td>0</td>\n",
       "      <td>0</td>\n",
       "      <td>0</td>\n",
       "      <td>0</td>\n",
       "      <td>0</td>\n",
       "      <td>0</td>\n",
       "      <td>0</td>\n",
       "    </tr>\n",
       "    <tr>\n",
       "      <th>1486460</th>\n",
       "      <td>0.0</td>\n",
       "      <td>0.0</td>\n",
       "      <td>0.0</td>\n",
       "      <td>0.0</td>\n",
       "      <td>0.0</td>\n",
       "      <td>0.0</td>\n",
       "      <td>0.0</td>\n",
       "      <td>0.0</td>\n",
       "      <td>0.0</td>\n",
       "      <td>1.0</td>\n",
       "      <td>...</td>\n",
       "      <td>1</td>\n",
       "      <td>0</td>\n",
       "      <td>1</td>\n",
       "      <td>0</td>\n",
       "      <td>1</td>\n",
       "      <td>0</td>\n",
       "      <td>0</td>\n",
       "      <td>0</td>\n",
       "      <td>0</td>\n",
       "      <td>0</td>\n",
       "    </tr>\n",
       "  </tbody>\n",
       "</table>\n",
       "<p>5 rows × 223 columns</p>\n",
       "</div>"
      ],
      "text/plain": [
       "         action  anticipation  arousal  articulation  attention  audition  \\\n",
       "1402966     0.0           0.0      1.0           0.0        0.0       0.0   \n",
       "1410086     0.0           0.0      0.0           0.0        0.0       0.0   \n",
       "1448149     0.0           0.0      0.0           0.0        0.0       0.0   \n",
       "1486459     0.0           0.0      0.0           1.0        0.0       0.0   \n",
       "1486460     0.0           0.0      0.0           0.0        0.0       0.0   \n",
       "\n",
       "         auditory_feedback  auditory_perception  autobiographical_memory  \\\n",
       "1402966                0.0                  0.0                      0.0   \n",
       "1410086                0.0                  0.0                      0.0   \n",
       "1448149                0.0                  0.0                      0.0   \n",
       "1486459                0.0                  1.0                      0.0   \n",
       "1486460                0.0                  0.0                      0.0   \n",
       "\n",
       "         cognitive  ...  right_superior_temporal_gyrus_posterior_division  \\\n",
       "1402966        0.0  ...                                                 0   \n",
       "1410086        0.0  ...                                                 0   \n",
       "1448149        0.0  ...                                                 0   \n",
       "1486459        1.0  ...                                                 1   \n",
       "1486460        1.0  ...                                                 1   \n",
       "\n",
       "         right_supplementary_motor_cortex  right_supracalcarine_cortex  \\\n",
       "1402966                                 0                            0   \n",
       "1410086                                 0                            0   \n",
       "1448149                                 0                            0   \n",
       "1486459                                 0                            0   \n",
       "1486460                                 0                            1   \n",
       "\n",
       "         right_supramarginal_gyrus_anterior_division  \\\n",
       "1402966                                            0   \n",
       "1410086                                            0   \n",
       "1448149                                            0   \n",
       "1486459                                            0   \n",
       "1486460                                            0   \n",
       "\n",
       "         right_supramarginal_gyrus_posterior_division  \\\n",
       "1402966                                             0   \n",
       "1410086                                             0   \n",
       "1448149                                             0   \n",
       "1486459                                             0   \n",
       "1486460                                             1   \n",
       "\n",
       "         right_temporal_fusiform_cortex_anterior_division  \\\n",
       "1402966                                                 0   \n",
       "1410086                                                 0   \n",
       "1448149                                                 0   \n",
       "1486459                                                 0   \n",
       "1486460                                                 0   \n",
       "\n",
       "         right_temporal_fusiform_cortex_posterior_division  \\\n",
       "1402966                                                  0   \n",
       "1410086                                                  0   \n",
       "1448149                                                  0   \n",
       "1486459                                                  0   \n",
       "1486460                                                  0   \n",
       "\n",
       "         right_temporal_occipital_fusiform_cortex  right_temporal_pole  \\\n",
       "1402966                                         1                    0   \n",
       "1410086                                         1                    0   \n",
       "1448149                                         0                    1   \n",
       "1486459                                         0                    0   \n",
       "1486460                                         0                    0   \n",
       "\n",
       "         right_thalamus  \n",
       "1402966               0  \n",
       "1410086               0  \n",
       "1448149               0  \n",
       "1486459               0  \n",
       "1486460               0  \n",
       "\n",
       "[5 rows x 223 columns]"
      ]
     },
     "execution_count": 10,
     "metadata": {},
     "output_type": "execute_result"
    }
   ],
   "source": [
    "docs = dtm_words.copy()\n",
    "docs[structures] = act_structs.copy()\n",
    "docs.head()"
   ]
  },
  {
   "cell_type": "code",
   "execution_count": 12,
   "metadata": {},
   "outputs": [],
   "source": [
    "doc2dom_df = pd.read_csv(\"../mod/data/doc2dom_kmeans_k07.csv\", header=None, index_col=0)\n",
    "doc2dom = {int(pmid): int(dom) for pmid, dom in doc2dom_df.iterrows()}"
   ]
  },
  {
   "cell_type": "code",
   "execution_count": 13,
   "metadata": {},
   "outputs": [],
   "source": [
    "dom2docs = {dom: [] for dom in domains}\n",
    "for doc, dom in doc2dom.iteritems():\n",
    "    dom2docs[domains[dom-1]].append(doc)"
   ]
  },
  {
   "cell_type": "markdown",
   "metadata": {},
   "source": [
    "## Compute similarity to archetype"
   ]
  },
  {
   "cell_type": "code",
   "execution_count": 14,
   "metadata": {},
   "outputs": [],
   "source": [
    "from scipy.spatial.distance import cdist"
   ]
  },
  {
   "cell_type": "code",
   "execution_count": 41,
   "metadata": {},
   "outputs": [],
   "source": [
    "ordered_doms = [6, 3, 7, 5, 2, 1, 4]\n",
    "dom2name = {6: \"emotion\", 3: \"anticipation\", 1: \"meaning\", 4: \"language\", \n",
    "            2: \"manipulation\", 5: \"vision\", 7: \"cognition\"}\n",
    "dom_names = [dom2name[dom].title() for dom in ordered_doms]"
   ]
  },
  {
   "cell_type": "code",
   "execution_count": 42,
   "metadata": {},
   "outputs": [],
   "source": [
    "sims = []\n",
    "for dom in domains:\n",
    "    dom_pmids = dom2docs[dom]\n",
    "    dom_vecs = docs.loc[dom_pmids].values\n",
    "    dom_arche = dom_systems[dom].values.reshape(1, dom_systems.shape[0])\n",
    "    dom_sims = 1.0 - np.mean(cdist(dom_vecs, dom_arche, metric=\"dice\"))\n",
    "    sims.append(dom_sims)"
   ]
  },
  {
   "cell_type": "code",
   "execution_count": 43,
   "metadata": {},
   "outputs": [
    {
     "data": {
      "text/html": [
       "<div>\n",
       "<style scoped>\n",
       "    .dataframe tbody tr th:only-of-type {\n",
       "        vertical-align: middle;\n",
       "    }\n",
       "\n",
       "    .dataframe tbody tr th {\n",
       "        vertical-align: top;\n",
       "    }\n",
       "\n",
       "    .dataframe thead th {\n",
       "        text-align: right;\n",
       "    }\n",
       "</style>\n",
       "<table border=\"1\" class=\"dataframe\">\n",
       "  <thead>\n",
       "    <tr style=\"text-align: right;\">\n",
       "      <th></th>\n",
       "      <th>OBSERVED</th>\n",
       "    </tr>\n",
       "  </thead>\n",
       "  <tbody>\n",
       "    <tr>\n",
       "      <th>1</th>\n",
       "      <td>0.321592</td>\n",
       "    </tr>\n",
       "    <tr>\n",
       "      <th>2</th>\n",
       "      <td>0.391094</td>\n",
       "    </tr>\n",
       "    <tr>\n",
       "      <th>3</th>\n",
       "      <td>0.345430</td>\n",
       "    </tr>\n",
       "    <tr>\n",
       "      <th>4</th>\n",
       "      <td>0.385302</td>\n",
       "    </tr>\n",
       "    <tr>\n",
       "      <th>5</th>\n",
       "      <td>0.376049</td>\n",
       "    </tr>\n",
       "    <tr>\n",
       "      <th>6</th>\n",
       "      <td>0.331661</td>\n",
       "    </tr>\n",
       "    <tr>\n",
       "      <th>7</th>\n",
       "      <td>0.332479</td>\n",
       "    </tr>\n",
       "  </tbody>\n",
       "</table>\n",
       "</div>"
      ],
      "text/plain": [
       "   OBSERVED\n",
       "1  0.321592\n",
       "2  0.391094\n",
       "3  0.345430\n",
       "4  0.385302\n",
       "5  0.376049\n",
       "6  0.331661\n",
       "7  0.332479"
      ]
     },
     "execution_count": 43,
     "metadata": {},
     "output_type": "execute_result"
    }
   ],
   "source": [
    "df = pd.DataFrame({\"OBSERVED\": sims}, index=domains)\n",
    "df.head(8)"
   ]
  },
  {
   "cell_type": "markdown",
   "metadata": {},
   "source": [
    "### Bootstrap distributions"
   ]
  },
  {
   "cell_type": "code",
   "execution_count": 18,
   "metadata": {},
   "outputs": [],
   "source": [
    "n_iter = 10000"
   ]
  },
  {
   "cell_type": "code",
   "execution_count": 20,
   "metadata": {},
   "outputs": [
    {
     "name": "stdout",
     "output_type": "stream",
     "text": [
      "Processed 1000 iterations\n",
      "Processed 2000 iterations\n",
      "Processed 3000 iterations\n",
      "Processed 4000 iterations\n",
      "Processed 5000 iterations\n",
      "Processed 6000 iterations\n",
      "Processed 7000 iterations\n",
      "Processed 8000 iterations\n",
      "Processed 9000 iterations\n"
     ]
    }
   ],
   "source": [
    "df_boot = np.zeros((len(domains), n_iter))\n",
    "for n in range(n_iter):\n",
    "    boot = np.random.choice(range(len(docs.columns)), size=len(docs.columns), replace=True)\n",
    "    for i, dom in enumerate(domains):\n",
    "        dom_pmids = dom2docs[dom]\n",
    "        dom_vecs = docs.loc[dom_pmids].values[:,boot]\n",
    "        dom_arche = dom_systems.values[boot,i].reshape(1, dom_systems.shape[0])\n",
    "        df_boot[i,n] = 1.0 - np.mean(cdist(dom_vecs, dom_arche, metric=\"dice\"))\n",
    "    if n % int(n_iter / 10.0) == 0:\n",
    "        print(\"Processed {} iterations\".format(n))"
   ]
  },
  {
   "cell_type": "code",
   "execution_count": 21,
   "metadata": {},
   "outputs": [],
   "source": [
    "df_boot = pd.DataFrame(df_boot, index=domains, columns=range(n_iter))\n",
    "df_boot = df_boot.fillna(0.0)\n",
    "df_boot = df_boot.loc[ordered_doms]\n",
    "df_boot.index = dom_names\n",
    "df_boot.to_csv(\"data/arche_boot_kmeans_k07_{}iter.csv\".format(n_iter))"
   ]
  },
  {
   "cell_type": "markdown",
   "metadata": {},
   "source": [
    "### Null distributions"
   ]
  },
  {
   "cell_type": "code",
   "execution_count": 22,
   "metadata": {},
   "outputs": [
    {
     "name": "stdout",
     "output_type": "stream",
     "text": [
      "Processed 1000 iterations\n",
      "Processed 2000 iterations\n",
      "Processed 3000 iterations\n",
      "Processed 4000 iterations\n",
      "Processed 5000 iterations\n",
      "Processed 6000 iterations\n",
      "Processed 7000 iterations\n",
      "Processed 8000 iterations\n",
      "Processed 9000 iterations\n"
     ]
    }
   ],
   "source": [
    "df_null = np.zeros((len(domains), n_iter))\n",
    "for n in range(n_iter):\n",
    "    null = np.random.choice(range(len(docs.columns)), size=len(docs.columns), replace=False)\n",
    "    for i, dom in enumerate(domains):\n",
    "        dom_pmids = dom2docs[dom]\n",
    "        dom_vecs = docs.loc[dom_pmids].values\n",
    "        dom_arche = dom_systems.values[null,i].reshape(1, dom_systems.shape[0])\n",
    "        df_null[i,n] = 1.0 - np.mean(cdist(dom_vecs, dom_arche, metric=\"dice\"))\n",
    "    if n in counts:\n",
    "        print(\"Processed {} iterations\".format(n))"
   ]
  },
  {
   "cell_type": "code",
   "execution_count": 23,
   "metadata": {},
   "outputs": [],
   "source": [
    "df_null = pd.DataFrame(df_null, index=domains, columns=range(n_iter))\n",
    "df_null = df_null.loc[ordered_doms]\n",
    "df_null.index = dom_names\n",
    "df_null.to_csv(\"data/arche_null_kmeans_k07_{}iter.csv\".format(n_iter))"
   ]
  },
  {
   "cell_type": "markdown",
   "metadata": {},
   "source": [
    "### Confidence intervals"
   ]
  },
  {
   "cell_type": "code",
   "execution_count": 19,
   "metadata": {},
   "outputs": [],
   "source": [
    "from statsmodels.stats import multitest"
   ]
  },
  {
   "cell_type": "code",
   "execution_count": 20,
   "metadata": {},
   "outputs": [],
   "source": [
    "df_boot = pd.read_csv(\"data/arche_boot_kmeans_k07_{}iter.csv\".format(n_iter), index_col=0)\n",
    "df_null = pd.read_csv(\"data/arche_null_kmeans_k07_{}iter.csv\".format(n_iter), index_col=0)"
   ]
  },
  {
   "cell_type": "code",
   "execution_count": 49,
   "metadata": {},
   "outputs": [],
   "source": [
    "df = df.loc[ordered_doms]\n",
    "df.index = dom_names"
   ]
  },
  {
   "cell_type": "code",
   "execution_count": 50,
   "metadata": {},
   "outputs": [
    {
     "data": {
      "text/html": [
       "<div>\n",
       "<style scoped>\n",
       "    .dataframe tbody tr th:only-of-type {\n",
       "        vertical-align: middle;\n",
       "    }\n",
       "\n",
       "    .dataframe tbody tr th {\n",
       "        vertical-align: top;\n",
       "    }\n",
       "\n",
       "    .dataframe thead th {\n",
       "        text-align: right;\n",
       "    }\n",
       "</style>\n",
       "<table border=\"1\" class=\"dataframe\">\n",
       "  <thead>\n",
       "    <tr style=\"text-align: right;\">\n",
       "      <th></th>\n",
       "      <th>OBSERVED</th>\n",
       "      <th>P</th>\n",
       "      <th>P_COR</th>\n",
       "      <th>STARS</th>\n",
       "    </tr>\n",
       "  </thead>\n",
       "  <tbody>\n",
       "    <tr>\n",
       "      <th>Emotion</th>\n",
       "      <td>0.331661</td>\n",
       "      <td>0.0018</td>\n",
       "      <td>0.003850</td>\n",
       "      <td>**</td>\n",
       "    </tr>\n",
       "    <tr>\n",
       "      <th>Anticipation</th>\n",
       "      <td>0.345430</td>\n",
       "      <td>0.0015</td>\n",
       "      <td>0.003850</td>\n",
       "      <td>**</td>\n",
       "    </tr>\n",
       "    <tr>\n",
       "      <th>Cognition</th>\n",
       "      <td>0.332479</td>\n",
       "      <td>0.0057</td>\n",
       "      <td>0.005700</td>\n",
       "      <td>**</td>\n",
       "    </tr>\n",
       "    <tr>\n",
       "      <th>Vision</th>\n",
       "      <td>0.376049</td>\n",
       "      <td>0.0043</td>\n",
       "      <td>0.005017</td>\n",
       "      <td>**</td>\n",
       "    </tr>\n",
       "    <tr>\n",
       "      <th>Manipulation</th>\n",
       "      <td>0.391094</td>\n",
       "      <td>0.0030</td>\n",
       "      <td>0.004200</td>\n",
       "      <td>**</td>\n",
       "    </tr>\n",
       "    <tr>\n",
       "      <th>Meaning</th>\n",
       "      <td>0.321592</td>\n",
       "      <td>0.0022</td>\n",
       "      <td>0.003850</td>\n",
       "      <td>**</td>\n",
       "    </tr>\n",
       "    <tr>\n",
       "      <th>Language</th>\n",
       "      <td>0.385302</td>\n",
       "      <td>0.0007</td>\n",
       "      <td>0.003850</td>\n",
       "      <td>**</td>\n",
       "    </tr>\n",
       "  </tbody>\n",
       "</table>\n",
       "</div>"
      ],
      "text/plain": [
       "              OBSERVED       P     P_COR STARS\n",
       "Emotion       0.331661  0.0018  0.003850    **\n",
       "Anticipation  0.345430  0.0015  0.003850    **\n",
       "Cognition     0.332479  0.0057  0.005700    **\n",
       "Vision        0.376049  0.0043  0.005017    **\n",
       "Manipulation  0.391094  0.0030  0.004200    **\n",
       "Meaning       0.321592  0.0022  0.003850    **\n",
       "Language      0.385302  0.0007  0.003850    **"
      ]
     },
     "execution_count": 50,
     "metadata": {},
     "output_type": "execute_result"
    }
   ],
   "source": [
    "pval = []\n",
    "for dom in dom_names:   \n",
    "    dom_boot = df_boot.loc[dom].values\n",
    "    dom_null = df_null.loc[dom].values\n",
    "    p = np.sum(np.less(dom_boot, np.max(dom_null))) / float(n_iter)\n",
    "    pval.append(p)\n",
    "    df.loc[dom, \"P\"] = p\n",
    "df[\"P_COR\"] = multitest.multipletests(pval, method=\"fdr_bh\")[1]\n",
    "for dom in dom_names:\n",
    "    for star, alpha in zip([\"*\", \"**\", \"***\"], [0.05, 0.01, 0.001]):\n",
    "        if df.loc[dom, \"P_COR\"] < alpha:\n",
    "            df.loc[dom, \"STARS\"] = star\n",
    "df = df.loc[dom_names, [\"OBSERVED\", \"P\", \"P_COR\", \"STARS\"]]\n",
    "df"
   ]
  },
  {
   "cell_type": "markdown",
   "metadata": {},
   "source": [
    "### Violin plots"
   ]
  },
  {
   "cell_type": "code",
   "execution_count": 37,
   "metadata": {},
   "outputs": [],
   "source": [
    "import matplotlib.pyplot as plt\n",
    "from matplotlib import cm, font_manager, rcParams\n",
    "import warnings\n",
    "warnings.simplefilter(\"ignore\", UserWarning)\n",
    "% matplotlib inline"
   ]
  },
  {
   "cell_type": "code",
   "execution_count": 38,
   "metadata": {},
   "outputs": [],
   "source": [
    "arial = \"../style/Arial Unicode.ttf\"\n",
    "prop = font_manager.FontProperties(fname=arial, size=20)\n",
    "prop_lg = font_manager.FontProperties(fname=arial, size=24)\n",
    "rcParams[\"axes.linewidth\"] = 1.5"
   ]
  },
  {
   "cell_type": "code",
   "execution_count": 52,
   "metadata": {},
   "outputs": [],
   "source": [
    "palette = {\"Meaning\": \"#7D74A3\", # Purple\n",
    "           \"Manipulation\": \"#CE7D69\", # Red\n",
    "           \"Anticipation\": \"#B07EB6\", # Magenta\n",
    "           \"Language\": \"#BA7E39\", # Orange\n",
    "           \"Vision\": \"#77B58A\", # Green\n",
    "           \"Emotion\": \"#778AA3\", # Blue\n",
    "           \"Cognition\": \"#CEBE6D\"} # Yellow"
   ]
  },
  {
   "cell_type": "code",
   "execution_count": 55,
   "metadata": {},
   "outputs": [
    {
     "data": {
      "image/png": "[encoded data removed]",
      "text/plain": [
       "<Figure size 324x151.2 with 1 Axes>"
      ]
     },
     "metadata": {
      "needs_background": "light"
     },
     "output_type": "display_data"
    }
   ],
   "source": [
    "# Set up figure\n",
    "fig = plt.figure(figsize=(4.5, 2.1))\n",
    "ax = fig.add_axes([0,0,1,1])\n",
    "\n",
    "for i, dom in enumerate(dom_names):\n",
    "    \n",
    "    # Null distribution\n",
    "    data = sorted(df_null.loc[dom])\n",
    "    obs = np.mean(data)\n",
    "    plt.plot([i-0.36, i+0.37], [obs, obs], \n",
    "             c=\"#999999\", alpha=0.7, lw=2)\n",
    "    v = ax.violinplot(data, positions=[i], \n",
    "                      showmeans=False, showmedians=False, widths=0.85)\n",
    "    for pc in v[\"bodies\"]:\n",
    "        pc.set_facecolor(\"#d8d8d8\")\n",
    "        pc.set_edgecolor(\"#6d6d6d\")\n",
    "        pc.set_linewidth(1.25)\n",
    "        pc.set_alpha(0.5)\n",
    "    for line in [\"cmaxes\", \"cmins\", \"cbars\"]:\n",
    "        v[line].set_edgecolor(\"none\")\n",
    "        \n",
    "    # Bootstrap distribution\n",
    "    data = sorted(df_boot.loc[dom])\n",
    "    obs = df.loc[dom, \"OBSERVED\"]\n",
    "    v = ax.violinplot(data, positions=[i], \n",
    "                      showmeans=False, showmedians=False, widths=0.85)\n",
    "    for pc in v[\"bodies\"]:\n",
    "        pc.set_facecolor(palette[dom])\n",
    "        pc.set_edgecolor(palette[dom])\n",
    "        pc.set_linewidth(1.25)\n",
    "        pc.set_alpha(0.55)\n",
    "    for line in [\"cmaxes\", \"cmins\", \"cbars\"]:\n",
    "        v[line].set_edgecolor(\"none\")\n",
    "    plt.plot([i-0.365, i+0.38], [obs, obs], \n",
    "             c=palette[dom], alpha=1, lw=2)\n",
    "    \n",
    "    # Comparison test\n",
    "    for alpha, dy in [(0.05, 0), (0.01, 0.045), (0.001, 0.09)]:\n",
    "        if df[\"P_COR\"][i] <= alpha:\n",
    "            plt.text(i-0.115, max(data) + dy, \"*\", fontproperties=prop_lg)\n",
    "\n",
    "plt.plot([-1,len(domains)], [0, 0], \n",
    "         linestyle=\"dashed\", c=\"k\", alpha=1, linewidth=2)\n",
    "\n",
    "# Set plot parameters\n",
    "plt.xticks(range(len(domains)), [\"\"]*len(domains))\n",
    "plt.yticks([0, 0.25, 0.5], fontproperties=prop)\n",
    "plt.xlim([-0.75, len(domains)-0.35])\n",
    "plt.ylim([-0.1, 0.6])\n",
    "for side in [\"right\", \"top\"]:\n",
    "    ax.spines[side].set_visible(False)\n",
    "ax.xaxis.set_tick_params(width=1.5, length=7)\n",
    "ax.yaxis.set_tick_params(width=1.5, length=7)\n",
    "\n",
    "# Export figure\n",
    "plt.savefig(\"figures/arche_sims_kmeans_k07_{}iter.png\".format(n_iter), \n",
    "            dpi=250, bbox_inches=\"tight\")\n",
    "plt.show()"
   ]
  },
  {
   "cell_type": "code",
   "execution_count": null,
   "metadata": {},
   "outputs": [],
   "source": []
  }
 ],
 "metadata": {
  "kernelspec": {
   "display_name": "Python (RDoC)",
   "language": "python",
   "name": "rdoc"
  },
  "language_info": {
   "codemirror_mode": {
    "name": "ipython",
    "version": 2
   },
   "file_extension": ".py",
   "mimetype": "text/x-python",
   "name": "python",
   "nbconvert_exporter": "python",
   "pygments_lexer": "ipython2",
   "version": "2.7.15"
  }
 },
 "nbformat": 4,
 "nbformat_minor": 2
}
