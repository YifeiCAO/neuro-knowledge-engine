{
 "cells": [
  {
   "cell_type": "markdown",
   "metadata": {},
   "source": [
    "# Introduction\n",
    "\n",
    "In a prior notebook, documents were partitioned by assigning them to the domain with the highest Dice similarity of their term and structure occurrences. The occurrences of terms and structures in each domain is what we refer to as the domain \"archetype.\" Here, we'll assess whether the observed similarity between documents and the archetype is greater than expected by chance. This would indicate that information in the framework generalizes well to individual documents.\n",
    "\n",
    "# Load the data"
   ]
  },
  {
   "cell_type": "code",
   "execution_count": 1,
   "metadata": {},
   "outputs": [],
   "source": [
    "import pandas as pd\n",
    "import numpy as np\n",
    "\n",
    "import sys\n",
    "sys.path.append(\"..\")\n",
    "import utilities\n",
    "from style import style"
   ]
  },
  {
   "cell_type": "code",
   "execution_count": 2,
   "metadata": {},
   "outputs": [],
   "source": [
    "framework = \"dsm\" \n",
    "version = 190325 # Document-term matrix version\n",
    "suffix = \"_opsim\" # Suffix for term lists\n",
    "clf = \"\" # Classifier used to generate the framework\n",
    "n_iter = 1000 # Iterations for null distribution\n",
    "dx = [0.37, 0.37, 0.31, 0.37, 0.34, 0.37, 0.35, 0.35, 0.34] # Nudges for plotted means\n",
    "alpha = 0.001 # Significance level for statistical comparisons"
   ]
  },
  {
   "cell_type": "markdown",
   "metadata": {},
   "source": [
    "## Brain activation coordinates"
   ]
  },
  {
   "cell_type": "code",
   "execution_count": 3,
   "metadata": {},
   "outputs": [
    {
     "name": "stdout",
     "output_type": "stream",
     "text": [
      "Document N=18155, Structure N=118\n"
     ]
    }
   ],
   "source": [
    "act_bin = utilities.load_coordinates()\n",
    "print(\"Document N={}, Structure N={}\".format(\n",
    "      act_bin.shape[0], act_bin.shape[1]))"
   ]
  },
  {
   "cell_type": "markdown",
   "metadata": {},
   "source": [
    "## Document-term matrix"
   ]
  },
  {
   "cell_type": "code",
   "execution_count": 4,
   "metadata": {},
   "outputs": [
    {
     "name": "stdout",
     "output_type": "stream",
     "text": [
      "Document N=18155, Term N=4107\n"
     ]
    }
   ],
   "source": [
    "dtm_bin = utilities.load_doc_term_matrix(version=version, binarize=True)\n",
    "print(\"Document N={}, Term N={}\".format(\n",
    "      dtm_bin.shape[0], dtm_bin.shape[1]))"
   ]
  },
  {
   "cell_type": "markdown",
   "metadata": {},
   "source": [
    "## Domain archetypes"
   ]
  },
  {
   "cell_type": "code",
   "execution_count": 5,
   "metadata": {},
   "outputs": [],
   "source": [
    "from collections import OrderedDict"
   ]
  },
  {
   "cell_type": "code",
   "execution_count": 6,
   "metadata": {},
   "outputs": [],
   "source": [
    "lists, circuits = utilities.load_framework(framework, suffix=suffix, clf=clf)"
   ]
  },
  {
   "cell_type": "code",
   "execution_count": 7,
   "metadata": {},
   "outputs": [],
   "source": [
    "words = sorted(list(set(lists[\"TOKEN\"])))\n",
    "structures = sorted(list(set(act_bin.columns)))\n",
    "domains = list(OrderedDict.fromkeys(lists[\"DOMAIN\"]))"
   ]
  },
  {
   "cell_type": "code",
   "execution_count": 8,
   "metadata": {},
   "outputs": [
    {
     "name": "stdout",
     "output_type": "stream",
     "text": [
      "Term & Structure N=200, Domain N=9\n"
     ]
    }
   ],
   "source": [
    "archetypes = pd.DataFrame(0.0, index=words+structures, columns=domains)\n",
    "for dom in domains:\n",
    "    for word in lists.loc[lists[\"DOMAIN\"] == dom, \"TOKEN\"]:\n",
    "        archetypes.loc[word, dom] = 1.0\n",
    "    for struct in structures:\n",
    "        archetypes.loc[struct, dom] = circuits.loc[struct, dom]\n",
    "archetypes[archetypes > 0.0] = 1.0\n",
    "print(\"Term & Structure N={}, Domain N={}\".format(\n",
    "      archetypes.shape[0], archetypes.shape[1]))"
   ]
  },
  {
   "cell_type": "markdown",
   "metadata": {},
   "source": [
    "## Document structure-term vectors"
   ]
  },
  {
   "cell_type": "code",
   "execution_count": 9,
   "metadata": {},
   "outputs": [
    {
     "data": {
      "text/plain": [
       "18155"
      ]
     },
     "execution_count": 9,
     "metadata": {},
     "output_type": "execute_result"
    }
   ],
   "source": [
    "pmids = dtm_bin.index.intersection(act_bin.index)\n",
    "len(pmids)"
   ]
  },
  {
   "cell_type": "code",
   "execution_count": 10,
   "metadata": {},
   "outputs": [],
   "source": [
    "dtm_words = dtm_bin.loc[pmids, words]\n",
    "act_structs = act_bin.loc[pmids, structures]"
   ]
  },
  {
   "cell_type": "code",
   "execution_count": 11,
   "metadata": {},
   "outputs": [
    {
     "data": {
      "text/html": [
       "<div>\n",
       "<style scoped>\n",
       "    .dataframe tbody tr th:only-of-type {\n",
       "        vertical-align: middle;\n",
       "    }\n",
       "\n",
       "    .dataframe tbody tr th {\n",
       "        vertical-align: top;\n",
       "    }\n",
       "\n",
       "    .dataframe thead th {\n",
       "        text-align: right;\n",
       "    }\n",
       "</style>\n",
       "<table border=\"1\" class=\"dataframe\">\n",
       "  <thead>\n",
       "    <tr style=\"text-align: right;\">\n",
       "      <th></th>\n",
       "      <th>acute_stress_disorder</th>\n",
       "      <th>adhd</th>\n",
       "      <th>adjustment_disorder</th>\n",
       "      <th>agoraphobia</th>\n",
       "      <th>alcohol_abuse</th>\n",
       "      <th>alcohol_use_disorder</th>\n",
       "      <th>alcohol_withdrawal</th>\n",
       "      <th>anxiety_disorder</th>\n",
       "      <th>aspergers_syndrome</th>\n",
       "      <th>attention_deficit_hyperactivity_disorder</th>\n",
       "      <th>...</th>\n",
       "      <th>right_superior_temporal_gyrus_posterior_division</th>\n",
       "      <th>right_supplementary_motor_cortex</th>\n",
       "      <th>right_supracalcarine_cortex</th>\n",
       "      <th>right_supramarginal_gyrus_anterior_division</th>\n",
       "      <th>right_supramarginal_gyrus_posterior_division</th>\n",
       "      <th>right_temporal_fusiform_cortex_anterior_division</th>\n",
       "      <th>right_temporal_fusiform_cortex_posterior_division</th>\n",
       "      <th>right_temporal_occipital_fusiform_cortex</th>\n",
       "      <th>right_temporal_pole</th>\n",
       "      <th>right_thalamus</th>\n",
       "    </tr>\n",
       "  </thead>\n",
       "  <tbody>\n",
       "    <tr>\n",
       "      <th>10022492</th>\n",
       "      <td>0.0</td>\n",
       "      <td>0.0</td>\n",
       "      <td>0.0</td>\n",
       "      <td>0.0</td>\n",
       "      <td>0.0</td>\n",
       "      <td>0.0</td>\n",
       "      <td>0.0</td>\n",
       "      <td>0.0</td>\n",
       "      <td>0.0</td>\n",
       "      <td>0.0</td>\n",
       "      <td>...</td>\n",
       "      <td>0</td>\n",
       "      <td>1</td>\n",
       "      <td>0</td>\n",
       "      <td>1</td>\n",
       "      <td>0</td>\n",
       "      <td>0</td>\n",
       "      <td>0</td>\n",
       "      <td>0</td>\n",
       "      <td>0</td>\n",
       "      <td>1</td>\n",
       "    </tr>\n",
       "    <tr>\n",
       "      <th>10022494</th>\n",
       "      <td>0.0</td>\n",
       "      <td>0.0</td>\n",
       "      <td>0.0</td>\n",
       "      <td>0.0</td>\n",
       "      <td>0.0</td>\n",
       "      <td>0.0</td>\n",
       "      <td>0.0</td>\n",
       "      <td>0.0</td>\n",
       "      <td>0.0</td>\n",
       "      <td>0.0</td>\n",
       "      <td>...</td>\n",
       "      <td>1</td>\n",
       "      <td>1</td>\n",
       "      <td>1</td>\n",
       "      <td>1</td>\n",
       "      <td>0</td>\n",
       "      <td>0</td>\n",
       "      <td>0</td>\n",
       "      <td>1</td>\n",
       "      <td>0</td>\n",
       "      <td>0</td>\n",
       "    </tr>\n",
       "    <tr>\n",
       "      <th>10022496</th>\n",
       "      <td>0.0</td>\n",
       "      <td>0.0</td>\n",
       "      <td>0.0</td>\n",
       "      <td>0.0</td>\n",
       "      <td>0.0</td>\n",
       "      <td>0.0</td>\n",
       "      <td>0.0</td>\n",
       "      <td>0.0</td>\n",
       "      <td>0.0</td>\n",
       "      <td>0.0</td>\n",
       "      <td>...</td>\n",
       "      <td>1</td>\n",
       "      <td>0</td>\n",
       "      <td>0</td>\n",
       "      <td>0</td>\n",
       "      <td>1</td>\n",
       "      <td>0</td>\n",
       "      <td>0</td>\n",
       "      <td>0</td>\n",
       "      <td>0</td>\n",
       "      <td>0</td>\n",
       "    </tr>\n",
       "    <tr>\n",
       "      <th>10027301</th>\n",
       "      <td>0.0</td>\n",
       "      <td>0.0</td>\n",
       "      <td>0.0</td>\n",
       "      <td>0.0</td>\n",
       "      <td>0.0</td>\n",
       "      <td>0.0</td>\n",
       "      <td>0.0</td>\n",
       "      <td>0.0</td>\n",
       "      <td>0.0</td>\n",
       "      <td>0.0</td>\n",
       "      <td>...</td>\n",
       "      <td>0</td>\n",
       "      <td>0</td>\n",
       "      <td>0</td>\n",
       "      <td>0</td>\n",
       "      <td>0</td>\n",
       "      <td>0</td>\n",
       "      <td>0</td>\n",
       "      <td>1</td>\n",
       "      <td>0</td>\n",
       "      <td>0</td>\n",
       "    </tr>\n",
       "    <tr>\n",
       "      <th>10051677</th>\n",
       "      <td>0.0</td>\n",
       "      <td>0.0</td>\n",
       "      <td>0.0</td>\n",
       "      <td>0.0</td>\n",
       "      <td>0.0</td>\n",
       "      <td>0.0</td>\n",
       "      <td>0.0</td>\n",
       "      <td>0.0</td>\n",
       "      <td>0.0</td>\n",
       "      <td>0.0</td>\n",
       "      <td>...</td>\n",
       "      <td>0</td>\n",
       "      <td>0</td>\n",
       "      <td>0</td>\n",
       "      <td>0</td>\n",
       "      <td>1</td>\n",
       "      <td>0</td>\n",
       "      <td>1</td>\n",
       "      <td>0</td>\n",
       "      <td>1</td>\n",
       "      <td>1</td>\n",
       "    </tr>\n",
       "  </tbody>\n",
       "</table>\n",
       "<p>5 rows × 200 columns</p>\n",
       "</div>"
      ],
      "text/plain": [
       "          acute_stress_disorder  adhd  adjustment_disorder  agoraphobia  \\\n",
       "10022492                    0.0   0.0                  0.0          0.0   \n",
       "10022494                    0.0   0.0                  0.0          0.0   \n",
       "10022496                    0.0   0.0                  0.0          0.0   \n",
       "10027301                    0.0   0.0                  0.0          0.0   \n",
       "10051677                    0.0   0.0                  0.0          0.0   \n",
       "\n",
       "          alcohol_abuse  alcohol_use_disorder  alcohol_withdrawal  \\\n",
       "10022492            0.0                   0.0                 0.0   \n",
       "10022494            0.0                   0.0                 0.0   \n",
       "10022496            0.0                   0.0                 0.0   \n",
       "10027301            0.0                   0.0                 0.0   \n",
       "10051677            0.0                   0.0                 0.0   \n",
       "\n",
       "          anxiety_disorder  aspergers_syndrome  \\\n",
       "10022492               0.0                 0.0   \n",
       "10022494               0.0                 0.0   \n",
       "10022496               0.0                 0.0   \n",
       "10027301               0.0                 0.0   \n",
       "10051677               0.0                 0.0   \n",
       "\n",
       "          attention_deficit_hyperactivity_disorder  ...  \\\n",
       "10022492                                       0.0  ...   \n",
       "10022494                                       0.0  ...   \n",
       "10022496                                       0.0  ...   \n",
       "10027301                                       0.0  ...   \n",
       "10051677                                       0.0  ...   \n",
       "\n",
       "          right_superior_temporal_gyrus_posterior_division  \\\n",
       "10022492                                                 0   \n",
       "10022494                                                 1   \n",
       "10022496                                                 1   \n",
       "10027301                                                 0   \n",
       "10051677                                                 0   \n",
       "\n",
       "          right_supplementary_motor_cortex  right_supracalcarine_cortex  \\\n",
       "10022492                                 1                            0   \n",
       "10022494                                 1                            1   \n",
       "10022496                                 0                            0   \n",
       "10027301                                 0                            0   \n",
       "10051677                                 0                            0   \n",
       "\n",
       "          right_supramarginal_gyrus_anterior_division  \\\n",
       "10022492                                            1   \n",
       "10022494                                            1   \n",
       "10022496                                            0   \n",
       "10027301                                            0   \n",
       "10051677                                            0   \n",
       "\n",
       "          right_supramarginal_gyrus_posterior_division  \\\n",
       "10022492                                             0   \n",
       "10022494                                             0   \n",
       "10022496                                             1   \n",
       "10027301                                             0   \n",
       "10051677                                             1   \n",
       "\n",
       "          right_temporal_fusiform_cortex_anterior_division  \\\n",
       "10022492                                                 0   \n",
       "10022494                                                 0   \n",
       "10022496                                                 0   \n",
       "10027301                                                 0   \n",
       "10051677                                                 0   \n",
       "\n",
       "          right_temporal_fusiform_cortex_posterior_division  \\\n",
       "10022492                                                  0   \n",
       "10022494                                                  0   \n",
       "10022496                                                  0   \n",
       "10027301                                                  0   \n",
       "10051677                                                  1   \n",
       "\n",
       "          right_temporal_occipital_fusiform_cortex  right_temporal_pole  \\\n",
       "10022492                                         0                    0   \n",
       "10022494                                         1                    0   \n",
       "10022496                                         0                    0   \n",
       "10027301                                         1                    0   \n",
       "10051677                                         0                    1   \n",
       "\n",
       "          right_thalamus  \n",
       "10022492               1  \n",
       "10022494               0  \n",
       "10022496               0  \n",
       "10027301               0  \n",
       "10051677               1  \n",
       "\n",
       "[5 rows x 200 columns]"
      ]
     },
     "execution_count": 11,
     "metadata": {},
     "output_type": "execute_result"
    }
   ],
   "source": [
    "docs = dtm_words.copy()\n",
    "docs[structures] = act_structs.copy()\n",
    "docs.head()"
   ]
  },
  {
   "cell_type": "markdown",
   "metadata": {},
   "source": [
    "## Document splits"
   ]
  },
  {
   "cell_type": "code",
   "execution_count": 12,
   "metadata": {},
   "outputs": [
    {
     "name": "stdout",
     "output_type": "stream",
     "text": [
      "Discovery    N=12708\n",
      "Replication  N=5447\n"
     ]
    }
   ],
   "source": [
    "splits = {}\n",
    "splits[\"discovery\"] = [int(pmid.strip()) for pmid in open(\"../data/splits/train.txt\")]\n",
    "splits[\"replication\"] = [int(pmid.strip()) for pmid in open(\"../data/splits/validation.txt\")]\n",
    "splits[\"replication\"] += [int(pmid.strip()) for pmid in open(\"../data/splits/test.txt\")]\n",
    "for split, pmids in splits.items():\n",
    "    print(\"{:12s} N={}\".format(split.title(), len(pmids)))"
   ]
  },
  {
   "cell_type": "markdown",
   "metadata": {},
   "source": [
    "## Document assignments"
   ]
  },
  {
   "cell_type": "code",
   "execution_count": 13,
   "metadata": {},
   "outputs": [],
   "source": [
    "doc2dom_df = pd.read_csv(\"../partition/data/doc2dom_{}{}.csv\".format(framework, clf), \n",
    "                         header=None, index_col=0)\n",
    "doc2dom = {int(pmid): str(dom.values[0]) for pmid, dom in doc2dom_df.iterrows()}"
   ]
  },
  {
   "cell_type": "code",
   "execution_count": 14,
   "metadata": {},
   "outputs": [],
   "source": [
    "dom2docs = {dom: {split: [] for split in [\"discovery\", \"replication\"]} for dom in domains}\n",
    "for doc, dom in doc2dom.items():\n",
    "    for split, split_pmids in splits.items():\n",
    "        if doc in splits[split]:\n",
    "            dom2docs[dom][split].append(doc)"
   ]
  },
  {
   "cell_type": "markdown",
   "metadata": {},
   "source": [
    "# Compute similarity to archetype"
   ]
  },
  {
   "cell_type": "code",
   "execution_count": 15,
   "metadata": {},
   "outputs": [],
   "source": [
    "from scipy.spatial.distance import cdist"
   ]
  },
  {
   "cell_type": "markdown",
   "metadata": {},
   "source": [
    "## Observed values"
   ]
  },
  {
   "cell_type": "code",
   "execution_count": 16,
   "metadata": {},
   "outputs": [
    {
     "data": {
      "text/html": [
       "<div>\n",
       "<style scoped>\n",
       "    .dataframe tbody tr th:only-of-type {\n",
       "        vertical-align: middle;\n",
       "    }\n",
       "\n",
       "    .dataframe tbody tr th {\n",
       "        vertical-align: top;\n",
       "    }\n",
       "\n",
       "    .dataframe thead th {\n",
       "        text-align: right;\n",
       "    }\n",
       "</style>\n",
       "<table border=\"1\" class=\"dataframe\">\n",
       "  <thead>\n",
       "    <tr style=\"text-align: right;\">\n",
       "      <th></th>\n",
       "      <th>PMID</th>\n",
       "      <th>SPLIT</th>\n",
       "      <th>DOMAIN</th>\n",
       "      <th>OBSERVED</th>\n",
       "    </tr>\n",
       "  </thead>\n",
       "  <tbody>\n",
       "    <tr>\n",
       "      <th>0</th>\n",
       "      <td>10327898</td>\n",
       "      <td>discovery</td>\n",
       "      <td>DEPRESSIVE</td>\n",
       "      <td>0.233333</td>\n",
       "    </tr>\n",
       "    <tr>\n",
       "      <th>1</th>\n",
       "      <td>10327899</td>\n",
       "      <td>discovery</td>\n",
       "      <td>DEPRESSIVE</td>\n",
       "      <td>0.244898</td>\n",
       "    </tr>\n",
       "    <tr>\n",
       "      <th>2</th>\n",
       "      <td>10459395</td>\n",
       "      <td>discovery</td>\n",
       "      <td>DEPRESSIVE</td>\n",
       "      <td>0.186047</td>\n",
       "    </tr>\n",
       "    <tr>\n",
       "      <th>3</th>\n",
       "      <td>10651872</td>\n",
       "      <td>discovery</td>\n",
       "      <td>DEPRESSIVE</td>\n",
       "      <td>0.095238</td>\n",
       "    </tr>\n",
       "    <tr>\n",
       "      <th>4</th>\n",
       "      <td>10974961</td>\n",
       "      <td>discovery</td>\n",
       "      <td>DEPRESSIVE</td>\n",
       "      <td>0.437500</td>\n",
       "    </tr>\n",
       "  </tbody>\n",
       "</table>\n",
       "</div>"
      ],
      "text/plain": [
       "       PMID      SPLIT      DOMAIN  OBSERVED\n",
       "0  10327898  discovery  DEPRESSIVE  0.233333\n",
       "1  10327899  discovery  DEPRESSIVE  0.244898\n",
       "2  10459395  discovery  DEPRESSIVE  0.186047\n",
       "3  10651872  discovery  DEPRESSIVE  0.095238\n",
       "4  10974961  discovery  DEPRESSIVE  0.437500"
      ]
     },
     "execution_count": 16,
     "metadata": {},
     "output_type": "execute_result"
    }
   ],
   "source": [
    "pmid_list, split_list, dom_list, obs_list  = [], [], [], []\n",
    "\n",
    "for split, split_pmids in splits.items():\n",
    "    split_list += [split] * len(split_pmids)\n",
    "    \n",
    "    for dom in domains:\n",
    "        dom_pmids = dom2docs[dom][split]\n",
    "        dom_vecs = docs.loc[dom_pmids].values\n",
    "        dom_arche = archetypes[dom].values.reshape(1, archetypes.shape[0])\n",
    "        dom_sims = 1.0 - cdist(dom_vecs, dom_arche, metric=\"dice\")\n",
    "        \n",
    "        pmid_list += dom_pmids\n",
    "        dom_list += [dom] * len(dom_sims)\n",
    "        obs_list += list(dom_sims[:,0])\n",
    "\n",
    "df_obs = pd.DataFrame({\"PMID\": pmid_list, \"SPLIT\": split_list, \n",
    "                       \"DOMAIN\": dom_list, \"OBSERVED\": obs_list})\n",
    "df_obs.to_csv(\"data/arche_obs_{}{}.csv\".format(framework, clf))  \n",
    "df_obs.head()"
   ]
  },
  {
   "cell_type": "markdown",
   "metadata": {},
   "source": [
    "## Null distributions"
   ]
  },
  {
   "cell_type": "code",
   "execution_count": 17,
   "metadata": {},
   "outputs": [],
   "source": [
    "import os"
   ]
  },
  {
   "cell_type": "code",
   "execution_count": 18,
   "metadata": {},
   "outputs": [
    {
     "name": "stdout",
     "output_type": "stream",
     "text": [
      "Processing discovery split (N=12708 documents)\n",
      "Processing replication split (N=5447 documents)\n"
     ]
    }
   ],
   "source": [
    "df_null = {}\n",
    "for split, split_pmids in splits.items():\n",
    "    \n",
    "    print(\"Processing {} split (N={} documents)\".format(split, len(split_pmids)))\n",
    "    \n",
    "    file_null = \"data/arche_null_{}{}_{}_{}iter.csv\".format(framework, clf, split, n_iter)\n",
    "    if not os.path.isfile(file_null):\n",
    "        \n",
    "        df_null[split] = np.zeros((len(domains), n_iter))\n",
    "        for n in range(n_iter):\n",
    "            null = np.random.choice(range(len(docs.columns)), \n",
    "                                    size=len(docs.columns), replace=False)\n",
    "            for i, dom in enumerate(domains):\n",
    "                dom_pmids = dom2docs[dom][split]\n",
    "                dom_vecs = docs.loc[dom_pmids].values\n",
    "                dom_arche = archetypes.values[null,i].reshape(1, archetypes.shape[0])\n",
    "                df_null[split][i,n] = 1.0 - np.mean(cdist(dom_vecs, dom_arche, metric=\"dice\"))\n",
    "            if n % int(n_iter / 10.0) == 0:\n",
    "                print(\"----- Processed {} iterations\".format(n))\n",
    "                \n",
    "        df_null[split] = pd.DataFrame(df_null[split], index=domains, columns=range(n_iter))\n",
    "        df_null[split].to_csv(file_null)\n",
    "        print(\"\")\n",
    "    \n",
    "    else:\n",
    "        df_null[split] = pd.read_csv(file_null, index_col=0, header=0)"
   ]
  },
  {
   "cell_type": "markdown",
   "metadata": {},
   "source": [
    "## Interleave splits to facilitate plotting"
   ]
  },
  {
   "cell_type": "code",
   "execution_count": 19,
   "metadata": {},
   "outputs": [
    {
     "data": {
      "text/html": [
       "<div>\n",
       "<style scoped>\n",
       "    .dataframe tbody tr th:only-of-type {\n",
       "        vertical-align: middle;\n",
       "    }\n",
       "\n",
       "    .dataframe tbody tr th {\n",
       "        vertical-align: top;\n",
       "    }\n",
       "\n",
       "    .dataframe thead th {\n",
       "        text-align: right;\n",
       "    }\n",
       "</style>\n",
       "<table border=\"1\" class=\"dataframe\">\n",
       "  <thead>\n",
       "    <tr style=\"text-align: right;\">\n",
       "      <th></th>\n",
       "      <th>0</th>\n",
       "      <th>1</th>\n",
       "      <th>10</th>\n",
       "      <th>100</th>\n",
       "      <th>101</th>\n",
       "      <th>102</th>\n",
       "      <th>103</th>\n",
       "      <th>104</th>\n",
       "      <th>105</th>\n",
       "      <th>106</th>\n",
       "      <th>...</th>\n",
       "      <th>990</th>\n",
       "      <th>991</th>\n",
       "      <th>992</th>\n",
       "      <th>993</th>\n",
       "      <th>994</th>\n",
       "      <th>995</th>\n",
       "      <th>996</th>\n",
       "      <th>997</th>\n",
       "      <th>998</th>\n",
       "      <th>999</th>\n",
       "    </tr>\n",
       "  </thead>\n",
       "  <tbody>\n",
       "    <tr>\n",
       "      <th>DEPRESSIVE_discovery</th>\n",
       "      <td>0.087392</td>\n",
       "      <td>0.090019</td>\n",
       "      <td>0.084713</td>\n",
       "      <td>0.069871</td>\n",
       "      <td>0.090235</td>\n",
       "      <td>0.100957</td>\n",
       "      <td>0.088378</td>\n",
       "      <td>0.128570</td>\n",
       "      <td>0.071775</td>\n",
       "      <td>0.101024</td>\n",
       "      <td>...</td>\n",
       "      <td>0.143742</td>\n",
       "      <td>0.069787</td>\n",
       "      <td>0.064169</td>\n",
       "      <td>0.091321</td>\n",
       "      <td>0.066961</td>\n",
       "      <td>0.099880</td>\n",
       "      <td>0.081311</td>\n",
       "      <td>0.064979</td>\n",
       "      <td>0.108195</td>\n",
       "      <td>0.095059</td>\n",
       "    </tr>\n",
       "    <tr>\n",
       "      <th>DEPRESSIVE_replication</th>\n",
       "      <td>0.076693</td>\n",
       "      <td>0.102358</td>\n",
       "      <td>0.075633</td>\n",
       "      <td>0.077567</td>\n",
       "      <td>0.104562</td>\n",
       "      <td>0.120119</td>\n",
       "      <td>0.112411</td>\n",
       "      <td>0.080539</td>\n",
       "      <td>0.112253</td>\n",
       "      <td>0.119461</td>\n",
       "      <td>...</td>\n",
       "      <td>0.097480</td>\n",
       "      <td>0.058802</td>\n",
       "      <td>0.127961</td>\n",
       "      <td>0.075227</td>\n",
       "      <td>0.069091</td>\n",
       "      <td>0.100817</td>\n",
       "      <td>0.090822</td>\n",
       "      <td>0.086181</td>\n",
       "      <td>0.092377</td>\n",
       "      <td>0.106180</td>\n",
       "    </tr>\n",
       "    <tr>\n",
       "      <th>ANXIETY_discovery</th>\n",
       "      <td>0.104182</td>\n",
       "      <td>0.115655</td>\n",
       "      <td>0.138759</td>\n",
       "      <td>0.146916</td>\n",
       "      <td>0.110617</td>\n",
       "      <td>0.088854</td>\n",
       "      <td>0.086595</td>\n",
       "      <td>0.095755</td>\n",
       "      <td>0.085674</td>\n",
       "      <td>0.086208</td>\n",
       "      <td>...</td>\n",
       "      <td>0.115653</td>\n",
       "      <td>0.120809</td>\n",
       "      <td>0.096481</td>\n",
       "      <td>0.122165</td>\n",
       "      <td>0.109602</td>\n",
       "      <td>0.122179</td>\n",
       "      <td>0.095038</td>\n",
       "      <td>0.155609</td>\n",
       "      <td>0.127202</td>\n",
       "      <td>0.069281</td>\n",
       "    </tr>\n",
       "    <tr>\n",
       "      <th>ANXIETY_replication</th>\n",
       "      <td>0.091106</td>\n",
       "      <td>0.121219</td>\n",
       "      <td>0.107036</td>\n",
       "      <td>0.127267</td>\n",
       "      <td>0.097537</td>\n",
       "      <td>0.096262</td>\n",
       "      <td>0.109881</td>\n",
       "      <td>0.090058</td>\n",
       "      <td>0.139855</td>\n",
       "      <td>0.118374</td>\n",
       "      <td>...</td>\n",
       "      <td>0.162778</td>\n",
       "      <td>0.099366</td>\n",
       "      <td>0.127969</td>\n",
       "      <td>0.094110</td>\n",
       "      <td>0.149567</td>\n",
       "      <td>0.140847</td>\n",
       "      <td>0.098744</td>\n",
       "      <td>0.089651</td>\n",
       "      <td>0.093818</td>\n",
       "      <td>0.142346</td>\n",
       "    </tr>\n",
       "    <tr>\n",
       "      <th>TRAUMA_STRESSOR_discovery</th>\n",
       "      <td>0.075988</td>\n",
       "      <td>0.056565</td>\n",
       "      <td>0.075696</td>\n",
       "      <td>0.054962</td>\n",
       "      <td>0.099456</td>\n",
       "      <td>0.084426</td>\n",
       "      <td>0.061579</td>\n",
       "      <td>0.062763</td>\n",
       "      <td>0.062325</td>\n",
       "      <td>0.061231</td>\n",
       "      <td>...</td>\n",
       "      <td>0.072772</td>\n",
       "      <td>0.084681</td>\n",
       "      <td>0.109778</td>\n",
       "      <td>0.062979</td>\n",
       "      <td>0.078067</td>\n",
       "      <td>0.087965</td>\n",
       "      <td>0.055057</td>\n",
       "      <td>0.127461</td>\n",
       "      <td>0.061882</td>\n",
       "      <td>0.053874</td>\n",
       "    </tr>\n",
       "  </tbody>\n",
       "</table>\n",
       "<p>5 rows × 1000 columns</p>\n",
       "</div>"
      ],
      "text/plain": [
       "                                  0         1        10       100       101  \\\n",
       "DEPRESSIVE_discovery       0.087392  0.090019  0.084713  0.069871  0.090235   \n",
       "DEPRESSIVE_replication     0.076693  0.102358  0.075633  0.077567  0.104562   \n",
       "ANXIETY_discovery          0.104182  0.115655  0.138759  0.146916  0.110617   \n",
       "ANXIETY_replication        0.091106  0.121219  0.107036  0.127267  0.097537   \n",
       "TRAUMA_STRESSOR_discovery  0.075988  0.056565  0.075696  0.054962  0.099456   \n",
       "\n",
       "                                102       103       104       105       106  \\\n",
       "DEPRESSIVE_discovery       0.100957  0.088378  0.128570  0.071775  0.101024   \n",
       "DEPRESSIVE_replication     0.120119  0.112411  0.080539  0.112253  0.119461   \n",
       "ANXIETY_discovery          0.088854  0.086595  0.095755  0.085674  0.086208   \n",
       "ANXIETY_replication        0.096262  0.109881  0.090058  0.139855  0.118374   \n",
       "TRAUMA_STRESSOR_discovery  0.084426  0.061579  0.062763  0.062325  0.061231   \n",
       "\n",
       "                           ...       990       991       992       993  \\\n",
       "DEPRESSIVE_discovery       ...  0.143742  0.069787  0.064169  0.091321   \n",
       "DEPRESSIVE_replication     ...  0.097480  0.058802  0.127961  0.075227   \n",
       "ANXIETY_discovery          ...  0.115653  0.120809  0.096481  0.122165   \n",
       "ANXIETY_replication        ...  0.162778  0.099366  0.127969  0.094110   \n",
       "TRAUMA_STRESSOR_discovery  ...  0.072772  0.084681  0.109778  0.062979   \n",
       "\n",
       "                                994       995       996       997       998  \\\n",
       "DEPRESSIVE_discovery       0.066961  0.099880  0.081311  0.064979  0.108195   \n",
       "DEPRESSIVE_replication     0.069091  0.100817  0.090822  0.086181  0.092377   \n",
       "ANXIETY_discovery          0.109602  0.122179  0.095038  0.155609  0.127202   \n",
       "ANXIETY_replication        0.149567  0.140847  0.098744  0.089651  0.093818   \n",
       "TRAUMA_STRESSOR_discovery  0.078067  0.087965  0.055057  0.127461  0.061882   \n",
       "\n",
       "                                999  \n",
       "DEPRESSIVE_discovery       0.095059  \n",
       "DEPRESSIVE_replication     0.106180  \n",
       "ANXIETY_discovery          0.069281  \n",
       "ANXIETY_replication        0.142346  \n",
       "TRAUMA_STRESSOR_discovery  0.053874  \n",
       "\n",
       "[5 rows x 1000 columns]"
      ]
     },
     "execution_count": 19,
     "metadata": {},
     "output_type": "execute_result"
    }
   ],
   "source": [
    "df_null_interleaved = pd.DataFrame()\n",
    "null_idx = []\n",
    "for dom in domains:\n",
    "    for split in [\"discovery\", \"replication\"]:\n",
    "        df_null_interleaved = df_null_interleaved.append(df_null[split].loc[dom])\n",
    "        null_idx.append(dom + \"_\" + split)\n",
    "df_null_interleaved.index = null_idx\n",
    "df_null_interleaved.head()"
   ]
  },
  {
   "cell_type": "markdown",
   "metadata": {},
   "source": [
    "## Bootstrap distributions"
   ]
  },
  {
   "cell_type": "code",
   "execution_count": 20,
   "metadata": {},
   "outputs": [
    {
     "name": "stdout",
     "output_type": "stream",
     "text": [
      "Processing discovery split (N=12708 documents)\n",
      "Processing replication split (N=5447 documents)\n"
     ]
    }
   ],
   "source": [
    "df_boot = {}\n",
    "for split, split_pmids in splits.items():\n",
    "    \n",
    "    print(\"Processing {} split (N={} documents)\".format(split, len(split_pmids)))\n",
    "    \n",
    "    file_boot = \"data/arche_boot_{}{}_{}_{}iter.csv\".format(framework, clf, split, n_iter)\n",
    "    if not os.path.isfile(file_boot):\n",
    "        \n",
    "        df_boot[split] = np.zeros((len(domains), n_iter))\n",
    "        for n in range(n_iter):\n",
    "            boot = np.random.choice(range(len(docs.columns)), \n",
    "                                    size=len(docs.columns), replace=True)\n",
    "            for i, dom in enumerate(domains):\n",
    "                dom_pmids = dom2docs[dom][split]\n",
    "                dom_vecs = docs.loc[dom_pmids].values[:,boot]\n",
    "                dom_arche = archetypes.values[boot,i].reshape(1, archetypes.shape[0])\n",
    "                df_boot[split][i,n] = 1.0 - np.mean(cdist(dom_vecs, dom_arche, metric=\"dice\"))\n",
    "            if n % int(n_iter / 10.0) == 0:\n",
    "                print(\"----- Processed {} iterations\".format(n))\n",
    "        \n",
    "        df_boot[split] = pd.DataFrame(df_boot[split], index=domains, columns=range(n_iter))\n",
    "        df_boot[split].to_csv(file_boot)\n",
    "        print(\"\")\n",
    "    \n",
    "    else:\n",
    "        df_boot[split] = pd.read_csv(file_boot, index_col=0, header=0)"
   ]
  },
  {
   "cell_type": "markdown",
   "metadata": {},
   "source": [
    "# Perform significance testing"
   ]
  },
  {
   "cell_type": "code",
   "execution_count": 21,
   "metadata": {},
   "outputs": [],
   "source": [
    "from statsmodels.stats import multitest"
   ]
  },
  {
   "cell_type": "code",
   "execution_count": 22,
   "metadata": {},
   "outputs": [
    {
     "name": "stdout",
     "output_type": "stream",
     "text": [
      "-----------------------------------------------------------------\n",
      "DISCOVERY\n",
      "-----------------------------------------------------------------\n",
      "                      OBSERVED    P  FDR STARS\n",
      "DEPRESSIVE            0.275163  0.0  0.0     *\n",
      "ANXIETY               0.277979  0.0  0.0     *\n",
      "TRAUMA_STRESSOR       0.291771  0.0  0.0     *\n",
      "OBSESSIVE_COMPULSIVE  0.199777  0.0  0.0     *\n",
      "DISRUPTIVE            0.258369  0.0  0.0     *\n",
      "SUBSTANCE             0.221352  0.0  0.0     *\n",
      "DEVELOPMENTAL         0.342707  0.0  0.0     *\n",
      "PSYCHOTIC             0.249162  0.0  0.0     *\n",
      "BIPOLAR               0.198779  0.0  0.0     *\n",
      "\n",
      "-----------------------------------------------------------------\n",
      "REPLICATION\n",
      "-----------------------------------------------------------------\n",
      "                      OBSERVED    P  FDR STARS\n",
      "DEPRESSIVE            0.276098  0.0  0.0     *\n",
      "ANXIETY               0.275135  0.0  0.0     *\n",
      "TRAUMA_STRESSOR       0.308598  0.0  0.0     *\n",
      "OBSESSIVE_COMPULSIVE  0.207428  0.0  0.0     *\n",
      "DISRUPTIVE            0.250761  0.0  0.0     *\n",
      "SUBSTANCE             0.215318  0.0  0.0     *\n",
      "DEVELOPMENTAL         0.342634  0.0  0.0     *\n",
      "PSYCHOTIC             0.247155  0.0  0.0     *\n",
      "BIPOLAR               0.191250  0.0  0.0     *\n",
      "\n"
     ]
    }
   ],
   "source": [
    "df_stat = {}\n",
    "\n",
    "for split, split_pmids in splits.items():\n",
    "    \n",
    "    df_stat[split] = pd.DataFrame(index=domains)\n",
    "    \n",
    "    pval = []\n",
    "    for dom in domains:   \n",
    "        dom_obs = df_obs.loc[(df_obs[\"SPLIT\"] == split) & (df_obs[\"DOMAIN\"] == dom), \"OBSERVED\"].mean()\n",
    "        df_stat[split].loc[dom, \"OBSERVED\"] = dom_obs\n",
    "        \n",
    "        dom_null = df_null[split].loc[dom].values\n",
    "        p = np.sum(dom_null >= dom_obs) / float(n_iter)\n",
    "        pval.append(p)\n",
    "        df_stat[split].loc[dom, \"P\"] = p\n",
    "    \n",
    "    df_stat[split][\"FDR\"] = multitest.multipletests(pval, method=\"fdr_bh\")[1]\n",
    "    \n",
    "    for dom in domains:\n",
    "        if df_stat[split].loc[dom, \"FDR\"] < alpha:\n",
    "            df_stat[split].loc[dom, \"STARS\"] = \"*\"\n",
    "        else:\n",
    "            df_stat[split].loc[dom, \"STARS\"] = \"\"\n",
    "    \n",
    "    df_stat[split] = df_stat[split].loc[domains, [\"OBSERVED\", \"P\", \"FDR\", \"STARS\"]]\n",
    "    df_stat[split].to_csv(\"data/arche_mean_{}{}_{}.csv\".format(framework, clf, split))\n",
    "    \n",
    "    print(\"-\" * 65 + \"\\n\" + split.upper() + \"\\n\" + \"-\" * 65)\n",
    "    print(df_stat[split])\n",
    "    print(\"\")"
   ]
  },
  {
   "cell_type": "code",
   "execution_count": 23,
   "metadata": {},
   "outputs": [
    {
     "data": {
      "text/plain": [
       "DEPRESSIVE              0.098283\n",
       "ANXIETY                 0.118144\n",
       "TRAUMA_STRESSOR         0.080807\n",
       "OBSESSIVE_COMPULSIVE    0.066385\n",
       "DISRUPTIVE              0.081606\n",
       "SUBSTANCE               0.057859\n",
       "DEVELOPMENTAL           0.221229\n",
       "PSYCHOTIC               0.089351\n",
       "BIPOLAR                 0.062698\n",
       "dtype: float64"
      ]
     },
     "execution_count": 23,
     "metadata": {},
     "output_type": "execute_result"
    }
   ],
   "source": [
    "df_null[\"discovery\"].mean(axis=1)"
   ]
  },
  {
   "cell_type": "markdown",
   "metadata": {},
   "source": [
    "# Plot results"
   ]
  },
  {
   "cell_type": "code",
   "execution_count": 24,
   "metadata": {},
   "outputs": [],
   "source": [
    "%matplotlib inline"
   ]
  },
  {
   "cell_type": "code",
   "execution_count": 25,
   "metadata": {},
   "outputs": [
    {
     "data": {
      "image/png": "[encoded data removed]",
      "text/plain": [
       "<Figure size 324x151.2 with 1 Axes>"
      ]
     },
     "metadata": {},
     "output_type": "display_data"
    }
   ],
   "source": [
    "utilities.plot_split_violins(framework, domains, df_obs, df_null_interleaved, df_stat, \n",
    "                             style.palettes[framework], metric=\"arche\", dx=dx,  \n",
    "                             ylim=[-0.25,1], yticks=[-0.25,0,0.25,0.5,0.75,1], \n",
    "                             interval=0.999, alphas=[0], suffix=clf)"
   ]
  }
 ],
 "metadata": {
  "kernelspec": {
   "display_name": "Python [conda env:ontol] *",
   "language": "python",
   "name": "conda-env-ontol-py"
  },
  "language_info": {
   "codemirror_mode": {
    "name": "ipython",
    "version": 3
   },
   "file_extension": ".py",
   "mimetype": "text/x-python",
   "name": "python",
   "nbconvert_exporter": "python",
   "pygments_lexer": "ipython3",
   "version": "3.6.8"
  }
 },
 "nbformat": 4,
 "nbformat_minor": 2
}
