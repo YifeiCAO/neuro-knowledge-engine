{
 "cells": [
  {
   "cell_type": "markdown",
   "metadata": {},
   "source": [
    "# Introduction\n",
    "\n",
    "This notebook compares the test set performance of classifiers using term list scores based on the data-driven, RDoC, and DSM frameworks.\n",
    "\n",
    "# Load the data"
   ]
  },
  {
   "cell_type": "code",
   "execution_count": 1,
   "metadata": {},
   "outputs": [],
   "source": [
    "import sys\n",
    "sys.path.append(\"..\")\n",
    "import utilities, archetype\n",
    "import pandas as pd\n",
    "import numpy as np\n",
    "np.random.seed(42)"
   ]
  },
  {
   "cell_type": "markdown",
   "metadata": {},
   "source": [
    "## Input parameters"
   ]
  },
  {
   "cell_type": "code",
   "execution_count": 2,
   "metadata": {},
   "outputs": [],
   "source": [
    "n_iter = 1000 # Number of iterations for bootstrap distributions\n",
    "frameworks = [\"data-driven\", \"rdoc\", \"dsm\"]"
   ]
  },
  {
   "cell_type": "markdown",
   "metadata": {},
   "source": [
    "## Framework contents"
   ]
  },
  {
   "cell_type": "code",
   "execution_count": 3,
   "metadata": {},
   "outputs": [],
   "source": [
    "lists, circuits = {}, {}\n",
    "for fw in frameworks:\n",
    "    lists[fw], circuits[fw] = utilities.load_framework(fw, utilities.suffix[fw])"
   ]
  },
  {
   "cell_type": "code",
   "execution_count": 4,
   "metadata": {},
   "outputs": [],
   "source": [
    "domains = {fw: circuits[fw].columns for fw in frameworks}"
   ]
  },
  {
   "cell_type": "markdown",
   "metadata": {},
   "source": [
    "## Bootstrap distributions"
   ]
  },
  {
   "cell_type": "code",
   "execution_count": 5,
   "metadata": {},
   "outputs": [],
   "source": [
    "boot, obs = {}, {}\n",
    "for fw in frameworks:\n",
    "    boot[fw], obs[fw] = {}, {}\n",
    "    boot[fw] = pd.read_csv(\"data/arche_boot_{}_{}iter.csv\".format(fw, n_iter), \n",
    "                           index_col=0, header=0)\n",
    "    obs[fw] = pd.read_csv(\"data/arche_obs_{}.csv\".format(fw), \n",
    "                           index_col=0, header=0)"
   ]
  },
  {
   "cell_type": "markdown",
   "metadata": {},
   "source": [
    "# Perform comparison tests\n",
    "\n",
    "Is the mean of fw<sub>i</sub> greater than the mean of fw<sub>j</sub>?"
   ]
  },
  {
   "cell_type": "code",
   "execution_count": 6,
   "metadata": {},
   "outputs": [],
   "source": [
    "from statsmodels.stats.multitest import multipletests"
   ]
  },
  {
   "cell_type": "code",
   "execution_count": 7,
   "metadata": {},
   "outputs": [
    {
     "data": {
      "text/html": [
       "<div>\n",
       "<style scoped>\n",
       "    .dataframe tbody tr th:only-of-type {\n",
       "        vertical-align: middle;\n",
       "    }\n",
       "\n",
       "    .dataframe tbody tr th {\n",
       "        vertical-align: top;\n",
       "    }\n",
       "\n",
       "    .dataframe thead th {\n",
       "        text-align: right;\n",
       "    }\n",
       "</style>\n",
       "<table border=\"1\" class=\"dataframe\">\n",
       "  <thead>\n",
       "    <tr style=\"text-align: right;\">\n",
       "      <th></th>\n",
       "      <th>data-driven</th>\n",
       "      <th>rdoc</th>\n",
       "      <th>dsm</th>\n",
       "    </tr>\n",
       "  </thead>\n",
       "  <tbody>\n",
       "    <tr>\n",
       "      <th>data-driven</th>\n",
       "      <td>1.0</td>\n",
       "      <td>0.054</td>\n",
       "      <td>0.0</td>\n",
       "    </tr>\n",
       "    <tr>\n",
       "      <th>rdoc</th>\n",
       "      <td>1.0</td>\n",
       "      <td>1.000</td>\n",
       "      <td>0.0</td>\n",
       "    </tr>\n",
       "    <tr>\n",
       "      <th>dsm</th>\n",
       "      <td>1.0</td>\n",
       "      <td>1.000</td>\n",
       "      <td>1.0</td>\n",
       "    </tr>\n",
       "  </tbody>\n",
       "</table>\n",
       "</div>"
      ],
      "text/plain": [
       "             data-driven   rdoc  dsm\n",
       "data-driven          1.0  0.054  0.0\n",
       "rdoc                 1.0  1.000  0.0\n",
       "dsm                  1.0  1.000  1.0"
      ]
     },
     "execution_count": 7,
     "metadata": {},
     "output_type": "execute_result"
    }
   ],
   "source": [
    "p = np.empty((len(frameworks), len(frameworks)))\n",
    "for i, fw_i in enumerate(frameworks):\n",
    "    for j, fw_j in enumerate(frameworks):\n",
    "        boot_i = np.mean(boot[fw_i], axis=0)\n",
    "        boot_j = np.mean(boot[fw_j], axis=0)\n",
    "        p[i,j] = np.sum((boot_i - boot_j) <= 0.0) / float(n_iter)\n",
    "\n",
    "fdr = multipletests(p.ravel(), method=\"fdr_bh\")[1].reshape(p.shape)\n",
    "fdr = pd.DataFrame(fdr, index=frameworks, columns=frameworks)\n",
    "fdr"
   ]
  },
  {
   "cell_type": "markdown",
   "metadata": {},
   "source": [
    "# Plot evaluation metrics"
   ]
  },
  {
   "cell_type": "code",
   "execution_count": 8,
   "metadata": {},
   "outputs": [],
   "source": [
    "%matplotlib inline"
   ]
  },
  {
   "cell_type": "code",
   "execution_count": 9,
   "metadata": {
    "scrolled": false
   },
   "outputs": [
    {
     "data": {
      "image/png": "[encoded data removed]",
      "text/plain": [
       "<Figure size 151.2x151.2 with 1 Axes>"
      ]
     },
     "metadata": {
      "needs_background": "light"
     },
     "output_type": "display_data"
    }
   ],
   "source": [
    "archetype.plot_framework_comparison(boot, obs, n_iter=n_iter, \n",
    "                                    ylim=[-0.25,0.75], yticks=[-0.25,0,0.25,0.5,0.75])"
   ]
  },
  {
   "cell_type": "code",
   "execution_count": null,
   "metadata": {},
   "outputs": [],
   "source": []
  }
 ],
 "metadata": {
  "kernelspec": {
   "display_name": "Python (Ontol)",
   "language": "python",
   "name": "ontol"
  },
  "language_info": {
   "codemirror_mode": {
    "name": "ipython",
    "version": 3
   },
   "file_extension": ".py",
   "mimetype": "text/x-python",
   "name": "python",
   "nbconvert_exporter": "python",
   "pygments_lexer": "ipython3",
   "version": "3.6.8"
  }
 },
 "nbformat": 4,
 "nbformat_minor": 2
}
