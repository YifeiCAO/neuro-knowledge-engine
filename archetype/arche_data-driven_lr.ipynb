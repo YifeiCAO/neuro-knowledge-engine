{
 "cells": [
  {
   "cell_type": "markdown",
   "metadata": {},
   "source": [
    "# Introduction\n",
    "\n",
    "In a prior notebook, documents were partitioned by assigning them to the domain with the highest Dice similarity of their term and structure occurrences. The occurrences of terms and structures in each domain is what we refer to as the domain \"archetype.\" Here, we'll assess whether the observed similarity between documents and the archetype is greater than expected by chance. This would indicate that information in the framework generalizes well to individual documents.\n",
    "\n",
    "# Load the data"
   ]
  },
  {
   "cell_type": "code",
   "execution_count": 1,
   "metadata": {},
   "outputs": [],
   "source": [
    "import pandas as pd\n",
    "import numpy as np\n",
    "\n",
    "import sys\n",
    "sys.path.append(\"..\")\n",
    "import utilities\n",
    "from style import style"
   ]
  },
  {
   "cell_type": "code",
   "execution_count": 2,
   "metadata": {},
   "outputs": [],
   "source": [
    "framework = \"data-driven\" \n",
    "version = 190325 # Document-term matrix version\n",
    "suffix = \"\" # Suffix for term lists\n",
    "clf = \"_lr\" # Classifier used to generate the framework\n",
    "n_iter = 1000 # Iterations for null distribution\n",
    "dx = [0.39, 0.39, 0.37, 0.39, 0.39, 0.38] # Nudges for plotted means\n",
    "ds = 0.11 # Nudges for plotted stars\n",
    "alpha = 0.001 # Significance level for statistical comparisons"
   ]
  },
  {
   "cell_type": "markdown",
   "metadata": {},
   "source": [
    "## Brain activation coordinates"
   ]
  },
  {
   "cell_type": "code",
   "execution_count": 3,
   "metadata": {},
   "outputs": [
    {
     "name": "stdout",
     "output_type": "stream",
     "text": [
      "Document N=18155, Structure N=118\n"
     ]
    }
   ],
   "source": [
    "act_bin = utilities.load_coordinates()\n",
    "print(\"Document N={}, Structure N={}\".format(\n",
    "      act_bin.shape[0], act_bin.shape[1]))"
   ]
  },
  {
   "cell_type": "markdown",
   "metadata": {},
   "source": [
    "## Document-term matrix"
   ]
  },
  {
   "cell_type": "code",
   "execution_count": 4,
   "metadata": {},
   "outputs": [
    {
     "name": "stdout",
     "output_type": "stream",
     "text": [
      "Document N=18155, Term N=4107\n"
     ]
    }
   ],
   "source": [
    "dtm_bin = utilities.load_doc_term_matrix(version=version, binarize=True)\n",
    "print(\"Document N={}, Term N={}\".format(\n",
    "      dtm_bin.shape[0], dtm_bin.shape[1]))"
   ]
  },
  {
   "cell_type": "markdown",
   "metadata": {},
   "source": [
    "## Domain archetypes"
   ]
  },
  {
   "cell_type": "code",
   "execution_count": 5,
   "metadata": {},
   "outputs": [],
   "source": [
    "from collections import OrderedDict"
   ]
  },
  {
   "cell_type": "code",
   "execution_count": 6,
   "metadata": {},
   "outputs": [],
   "source": [
    "lists, circuits = utilities.load_framework(framework, suffix=suffix, clf=clf)"
   ]
  },
  {
   "cell_type": "code",
   "execution_count": 7,
   "metadata": {},
   "outputs": [],
   "source": [
    "words = sorted(list(set(lists[\"TOKEN\"])))\n",
    "structures = sorted(list(set(act_bin.columns)))\n",
    "domains = list(OrderedDict.fromkeys(lists[\"DOMAIN\"]))"
   ]
  },
  {
   "cell_type": "code",
   "execution_count": 8,
   "metadata": {},
   "outputs": [
    {
     "name": "stdout",
     "output_type": "stream",
     "text": [
      "Term & Structure N=208, Domain N=6\n"
     ]
    }
   ],
   "source": [
    "archetypes = pd.DataFrame(0.0, index=words+structures, columns=domains)\n",
    "for dom in domains:\n",
    "    for word in lists.loc[lists[\"DOMAIN\"] == dom, \"TOKEN\"]:\n",
    "        archetypes.loc[word, dom] = 1.0\n",
    "    for struct in structures:\n",
    "        archetypes.loc[struct, dom] = circuits.loc[struct, dom]\n",
    "archetypes[archetypes > 0.0] = 1.0\n",
    "print(\"Term & Structure N={}, Domain N={}\".format(\n",
    "      archetypes.shape[0], archetypes.shape[1]))"
   ]
  },
  {
   "cell_type": "markdown",
   "metadata": {},
   "source": [
    "## Document structure-term vectors"
   ]
  },
  {
   "cell_type": "code",
   "execution_count": 9,
   "metadata": {},
   "outputs": [
    {
     "data": {
      "text/plain": [
       "18155"
      ]
     },
     "execution_count": 9,
     "metadata": {},
     "output_type": "execute_result"
    }
   ],
   "source": [
    "pmids = dtm_bin.index.intersection(act_bin.index)\n",
    "len(pmids)"
   ]
  },
  {
   "cell_type": "code",
   "execution_count": 10,
   "metadata": {},
   "outputs": [],
   "source": [
    "dtm_words = dtm_bin.loc[pmids, words]\n",
    "act_structs = act_bin.loc[pmids, structures]"
   ]
  },
  {
   "cell_type": "code",
   "execution_count": 11,
   "metadata": {},
   "outputs": [
    {
     "data": {
      "text/html": [
       "<div>\n",
       "<style scoped>\n",
       "    .dataframe tbody tr th:only-of-type {\n",
       "        vertical-align: middle;\n",
       "    }\n",
       "\n",
       "    .dataframe tbody tr th {\n",
       "        vertical-align: top;\n",
       "    }\n",
       "\n",
       "    .dataframe thead th {\n",
       "        text-align: right;\n",
       "    }\n",
       "</style>\n",
       "<table border=\"1\" class=\"dataframe\">\n",
       "  <thead>\n",
       "    <tr style=\"text-align: right;\">\n",
       "      <th></th>\n",
       "      <th>action</th>\n",
       "      <th>anticipation</th>\n",
       "      <th>arousal</th>\n",
       "      <th>articulation</th>\n",
       "      <th>attention</th>\n",
       "      <th>audition</th>\n",
       "      <th>auditory_perception</th>\n",
       "      <th>autobiographical_memory</th>\n",
       "      <th>cognitive</th>\n",
       "      <th>cognitive_control</th>\n",
       "      <th>...</th>\n",
       "      <th>right_superior_temporal_gyrus_posterior_division</th>\n",
       "      <th>right_supplementary_motor_cortex</th>\n",
       "      <th>right_supracalcarine_cortex</th>\n",
       "      <th>right_supramarginal_gyrus_anterior_division</th>\n",
       "      <th>right_supramarginal_gyrus_posterior_division</th>\n",
       "      <th>right_temporal_fusiform_cortex_anterior_division</th>\n",
       "      <th>right_temporal_fusiform_cortex_posterior_division</th>\n",
       "      <th>right_temporal_occipital_fusiform_cortex</th>\n",
       "      <th>right_temporal_pole</th>\n",
       "      <th>right_thalamus</th>\n",
       "    </tr>\n",
       "  </thead>\n",
       "  <tbody>\n",
       "    <tr>\n",
       "      <th>10022492</th>\n",
       "      <td>0.0</td>\n",
       "      <td>1.0</td>\n",
       "      <td>0.0</td>\n",
       "      <td>0.0</td>\n",
       "      <td>0.0</td>\n",
       "      <td>0.0</td>\n",
       "      <td>0.0</td>\n",
       "      <td>0.0</td>\n",
       "      <td>1.0</td>\n",
       "      <td>0.0</td>\n",
       "      <td>...</td>\n",
       "      <td>0</td>\n",
       "      <td>1</td>\n",
       "      <td>0</td>\n",
       "      <td>1</td>\n",
       "      <td>0</td>\n",
       "      <td>0</td>\n",
       "      <td>0</td>\n",
       "      <td>0</td>\n",
       "      <td>0</td>\n",
       "      <td>1</td>\n",
       "    </tr>\n",
       "    <tr>\n",
       "      <th>10022494</th>\n",
       "      <td>0.0</td>\n",
       "      <td>0.0</td>\n",
       "      <td>0.0</td>\n",
       "      <td>0.0</td>\n",
       "      <td>0.0</td>\n",
       "      <td>0.0</td>\n",
       "      <td>0.0</td>\n",
       "      <td>0.0</td>\n",
       "      <td>0.0</td>\n",
       "      <td>0.0</td>\n",
       "      <td>...</td>\n",
       "      <td>1</td>\n",
       "      <td>1</td>\n",
       "      <td>1</td>\n",
       "      <td>1</td>\n",
       "      <td>0</td>\n",
       "      <td>0</td>\n",
       "      <td>0</td>\n",
       "      <td>1</td>\n",
       "      <td>0</td>\n",
       "      <td>0</td>\n",
       "    </tr>\n",
       "    <tr>\n",
       "      <th>10022496</th>\n",
       "      <td>0.0</td>\n",
       "      <td>1.0</td>\n",
       "      <td>0.0</td>\n",
       "      <td>0.0</td>\n",
       "      <td>0.0</td>\n",
       "      <td>1.0</td>\n",
       "      <td>0.0</td>\n",
       "      <td>0.0</td>\n",
       "      <td>0.0</td>\n",
       "      <td>0.0</td>\n",
       "      <td>...</td>\n",
       "      <td>1</td>\n",
       "      <td>0</td>\n",
       "      <td>0</td>\n",
       "      <td>0</td>\n",
       "      <td>1</td>\n",
       "      <td>0</td>\n",
       "      <td>0</td>\n",
       "      <td>0</td>\n",
       "      <td>0</td>\n",
       "      <td>0</td>\n",
       "    </tr>\n",
       "    <tr>\n",
       "      <th>10027301</th>\n",
       "      <td>0.0</td>\n",
       "      <td>0.0</td>\n",
       "      <td>0.0</td>\n",
       "      <td>0.0</td>\n",
       "      <td>0.0</td>\n",
       "      <td>0.0</td>\n",
       "      <td>0.0</td>\n",
       "      <td>0.0</td>\n",
       "      <td>0.0</td>\n",
       "      <td>0.0</td>\n",
       "      <td>...</td>\n",
       "      <td>0</td>\n",
       "      <td>0</td>\n",
       "      <td>0</td>\n",
       "      <td>0</td>\n",
       "      <td>0</td>\n",
       "      <td>0</td>\n",
       "      <td>0</td>\n",
       "      <td>1</td>\n",
       "      <td>0</td>\n",
       "      <td>0</td>\n",
       "    </tr>\n",
       "    <tr>\n",
       "      <th>10051677</th>\n",
       "      <td>0.0</td>\n",
       "      <td>0.0</td>\n",
       "      <td>1.0</td>\n",
       "      <td>0.0</td>\n",
       "      <td>0.0</td>\n",
       "      <td>0.0</td>\n",
       "      <td>0.0</td>\n",
       "      <td>0.0</td>\n",
       "      <td>0.0</td>\n",
       "      <td>0.0</td>\n",
       "      <td>...</td>\n",
       "      <td>0</td>\n",
       "      <td>0</td>\n",
       "      <td>0</td>\n",
       "      <td>0</td>\n",
       "      <td>1</td>\n",
       "      <td>0</td>\n",
       "      <td>1</td>\n",
       "      <td>0</td>\n",
       "      <td>1</td>\n",
       "      <td>1</td>\n",
       "    </tr>\n",
       "  </tbody>\n",
       "</table>\n",
       "<p>5 rows × 208 columns</p>\n",
       "</div>"
      ],
      "text/plain": [
       "          action  anticipation  arousal  articulation  attention  audition  \\\n",
       "10022492     0.0           1.0      0.0           0.0        0.0       0.0   \n",
       "10022494     0.0           0.0      0.0           0.0        0.0       0.0   \n",
       "10022496     0.0           1.0      0.0           0.0        0.0       1.0   \n",
       "10027301     0.0           0.0      0.0           0.0        0.0       0.0   \n",
       "10051677     0.0           0.0      1.0           0.0        0.0       0.0   \n",
       "\n",
       "          auditory_perception  autobiographical_memory  cognitive  \\\n",
       "10022492                  0.0                      0.0        1.0   \n",
       "10022494                  0.0                      0.0        0.0   \n",
       "10022496                  0.0                      0.0        0.0   \n",
       "10027301                  0.0                      0.0        0.0   \n",
       "10051677                  0.0                      0.0        0.0   \n",
       "\n",
       "          cognitive_control  ...  \\\n",
       "10022492                0.0  ...   \n",
       "10022494                0.0  ...   \n",
       "10022496                0.0  ...   \n",
       "10027301                0.0  ...   \n",
       "10051677                0.0  ...   \n",
       "\n",
       "          right_superior_temporal_gyrus_posterior_division  \\\n",
       "10022492                                                 0   \n",
       "10022494                                                 1   \n",
       "10022496                                                 1   \n",
       "10027301                                                 0   \n",
       "10051677                                                 0   \n",
       "\n",
       "          right_supplementary_motor_cortex  right_supracalcarine_cortex  \\\n",
       "10022492                                 1                            0   \n",
       "10022494                                 1                            1   \n",
       "10022496                                 0                            0   \n",
       "10027301                                 0                            0   \n",
       "10051677                                 0                            0   \n",
       "\n",
       "          right_supramarginal_gyrus_anterior_division  \\\n",
       "10022492                                            1   \n",
       "10022494                                            1   \n",
       "10022496                                            0   \n",
       "10027301                                            0   \n",
       "10051677                                            0   \n",
       "\n",
       "          right_supramarginal_gyrus_posterior_division  \\\n",
       "10022492                                             0   \n",
       "10022494                                             0   \n",
       "10022496                                             1   \n",
       "10027301                                             0   \n",
       "10051677                                             1   \n",
       "\n",
       "          right_temporal_fusiform_cortex_anterior_division  \\\n",
       "10022492                                                 0   \n",
       "10022494                                                 0   \n",
       "10022496                                                 0   \n",
       "10027301                                                 0   \n",
       "10051677                                                 0   \n",
       "\n",
       "          right_temporal_fusiform_cortex_posterior_division  \\\n",
       "10022492                                                  0   \n",
       "10022494                                                  0   \n",
       "10022496                                                  0   \n",
       "10027301                                                  0   \n",
       "10051677                                                  1   \n",
       "\n",
       "          right_temporal_occipital_fusiform_cortex  right_temporal_pole  \\\n",
       "10022492                                         0                    0   \n",
       "10022494                                         1                    0   \n",
       "10022496                                         0                    0   \n",
       "10027301                                         1                    0   \n",
       "10051677                                         0                    1   \n",
       "\n",
       "          right_thalamus  \n",
       "10022492               1  \n",
       "10022494               0  \n",
       "10022496               0  \n",
       "10027301               0  \n",
       "10051677               1  \n",
       "\n",
       "[5 rows x 208 columns]"
      ]
     },
     "execution_count": 11,
     "metadata": {},
     "output_type": "execute_result"
    }
   ],
   "source": [
    "docs = dtm_words.copy()\n",
    "docs[structures] = act_structs.copy()\n",
    "docs.head()"
   ]
  },
  {
   "cell_type": "markdown",
   "metadata": {},
   "source": [
    "## Document splits"
   ]
  },
  {
   "cell_type": "code",
   "execution_count": 12,
   "metadata": {},
   "outputs": [
    {
     "name": "stdout",
     "output_type": "stream",
     "text": [
      "Discovery    N=12708\n",
      "Replication  N=5447\n"
     ]
    }
   ],
   "source": [
    "splits = {}\n",
    "splits[\"discovery\"] = [int(pmid.strip()) for pmid in open(\"../data/splits/train.txt\")]\n",
    "splits[\"replication\"] = [int(pmid.strip()) for pmid in open(\"../data/splits/validation.txt\")]\n",
    "splits[\"replication\"] += [int(pmid.strip()) for pmid in open(\"../data/splits/test.txt\")]\n",
    "for split, pmids in splits.items():\n",
    "    print(\"{:12s} N={}\".format(split.title(), len(pmids)))"
   ]
  },
  {
   "cell_type": "markdown",
   "metadata": {},
   "source": [
    "## Document assignments"
   ]
  },
  {
   "cell_type": "code",
   "execution_count": 13,
   "metadata": {},
   "outputs": [],
   "source": [
    "doc2dom_df = pd.read_csv(\"../partition/data/doc2dom_{}{}.csv\".format(framework, clf), \n",
    "                         header=None, index_col=0)\n",
    "doc2dom = {int(pmid): str(dom.values[0]) for pmid, dom in doc2dom_df.iterrows()}"
   ]
  },
  {
   "cell_type": "code",
   "execution_count": 14,
   "metadata": {},
   "outputs": [],
   "source": [
    "dom2docs = {dom: {split: [] for split in [\"discovery\", \"replication\"]} for dom in domains}\n",
    "for doc, dom in doc2dom.items():\n",
    "    for split, split_pmids in splits.items():\n",
    "        if doc in splits[split]:\n",
    "            dom2docs[dom][split].append(doc)"
   ]
  },
  {
   "cell_type": "markdown",
   "metadata": {},
   "source": [
    "# Compute similarity to archetype"
   ]
  },
  {
   "cell_type": "code",
   "execution_count": 15,
   "metadata": {},
   "outputs": [],
   "source": [
    "from scipy.spatial.distance import cdist"
   ]
  },
  {
   "cell_type": "markdown",
   "metadata": {},
   "source": [
    "## Observed values"
   ]
  },
  {
   "cell_type": "code",
   "execution_count": 16,
   "metadata": {},
   "outputs": [
    {
     "data": {
      "text/html": [
       "<div>\n",
       "<style scoped>\n",
       "    .dataframe tbody tr th:only-of-type {\n",
       "        vertical-align: middle;\n",
       "    }\n",
       "\n",
       "    .dataframe tbody tr th {\n",
       "        vertical-align: top;\n",
       "    }\n",
       "\n",
       "    .dataframe thead th {\n",
       "        text-align: right;\n",
       "    }\n",
       "</style>\n",
       "<table border=\"1\" class=\"dataframe\">\n",
       "  <thead>\n",
       "    <tr style=\"text-align: right;\">\n",
       "      <th></th>\n",
       "      <th>PMID</th>\n",
       "      <th>SPLIT</th>\n",
       "      <th>DOMAIN</th>\n",
       "      <th>OBSERVED</th>\n",
       "    </tr>\n",
       "  </thead>\n",
       "  <tbody>\n",
       "    <tr>\n",
       "      <th>0</th>\n",
       "      <td>8805836</td>\n",
       "      <td>discovery</td>\n",
       "      <td>MEMORY</td>\n",
       "      <td>0.235294</td>\n",
       "    </tr>\n",
       "    <tr>\n",
       "      <th>1</th>\n",
       "      <td>8893004</td>\n",
       "      <td>discovery</td>\n",
       "      <td>MEMORY</td>\n",
       "      <td>0.253968</td>\n",
       "    </tr>\n",
       "    <tr>\n",
       "      <th>2</th>\n",
       "      <td>9108115</td>\n",
       "      <td>discovery</td>\n",
       "      <td>MEMORY</td>\n",
       "      <td>0.318182</td>\n",
       "    </tr>\n",
       "    <tr>\n",
       "      <th>3</th>\n",
       "      <td>9412517</td>\n",
       "      <td>discovery</td>\n",
       "      <td>MEMORY</td>\n",
       "      <td>0.518519</td>\n",
       "    </tr>\n",
       "    <tr>\n",
       "      <th>4</th>\n",
       "      <td>9430507</td>\n",
       "      <td>discovery</td>\n",
       "      <td>MEMORY</td>\n",
       "      <td>0.181818</td>\n",
       "    </tr>\n",
       "  </tbody>\n",
       "</table>\n",
       "</div>"
      ],
      "text/plain": [
       "      PMID      SPLIT  DOMAIN  OBSERVED\n",
       "0  8805836  discovery  MEMORY  0.235294\n",
       "1  8893004  discovery  MEMORY  0.253968\n",
       "2  9108115  discovery  MEMORY  0.318182\n",
       "3  9412517  discovery  MEMORY  0.518519\n",
       "4  9430507  discovery  MEMORY  0.181818"
      ]
     },
     "execution_count": 16,
     "metadata": {},
     "output_type": "execute_result"
    }
   ],
   "source": [
    "pmid_list, split_list, dom_list, obs_list  = [], [], [], []\n",
    "\n",
    "for split, split_pmids in splits.items():\n",
    "    split_list += [split] * len(split_pmids)\n",
    "    \n",
    "    for dom in domains:\n",
    "        dom_pmids = dom2docs[dom][split]\n",
    "        dom_vecs = docs.loc[dom_pmids].values\n",
    "        dom_arche = archetypes[dom].values.reshape(1, archetypes.shape[0])\n",
    "        dom_sims = 1.0 - cdist(dom_vecs, dom_arche, metric=\"dice\")\n",
    "        \n",
    "        pmid_list += dom_pmids\n",
    "        dom_list += [dom] * len(dom_sims)\n",
    "        obs_list += list(dom_sims[:,0])\n",
    "\n",
    "df_obs = pd.DataFrame({\"PMID\": pmid_list, \"SPLIT\": split_list, \n",
    "                       \"DOMAIN\": dom_list, \"OBSERVED\": obs_list})\n",
    "df_obs.to_csv(\"data/arche_obs_{}{}.csv\".format(framework, clf))  \n",
    "df_obs.head()"
   ]
  },
  {
   "cell_type": "markdown",
   "metadata": {},
   "source": [
    "## Null distributions"
   ]
  },
  {
   "cell_type": "code",
   "execution_count": 17,
   "metadata": {},
   "outputs": [],
   "source": [
    "import os"
   ]
  },
  {
   "cell_type": "code",
   "execution_count": 18,
   "metadata": {},
   "outputs": [
    {
     "name": "stdout",
     "output_type": "stream",
     "text": [
      "Processing discovery split (N=12708 documents)\n",
      "Processing replication split (N=5447 documents)\n"
     ]
    }
   ],
   "source": [
    "df_null = {}\n",
    "for split, split_pmids in splits.items():\n",
    "    \n",
    "    print(\"Processing {} split (N={} documents)\".format(split, len(split_pmids)))\n",
    "    \n",
    "    file_null = \"data/arche_null_{}{}_{}_{}iter.csv\".format(framework, clf, split, n_iter)\n",
    "    if not os.path.isfile(file_null):\n",
    "        \n",
    "        df_null[split] = np.zeros((len(domains), n_iter))\n",
    "        for n in range(n_iter):\n",
    "            null = np.random.choice(range(len(docs.columns)), \n",
    "                                    size=len(docs.columns), replace=False)\n",
    "            for i, dom in enumerate(domains):\n",
    "                dom_pmids = dom2docs[dom][split]\n",
    "                dom_vecs = docs.loc[dom_pmids].values\n",
    "                dom_arche = archetypes.values[null,i].reshape(1, archetypes.shape[0])\n",
    "                df_null[split][i,n] = 1.0 - np.mean(cdist(dom_vecs, dom_arche, metric=\"dice\"))\n",
    "            if n % int(n_iter / 10.0) == 0:\n",
    "                print(\"----- Processed {} iterations\".format(n))\n",
    "                \n",
    "        df_null[split] = pd.DataFrame(df_null[split], index=domains, columns=range(n_iter))\n",
    "        df_null[split].to_csv(file_null)\n",
    "        print(\"\")\n",
    "    \n",
    "    else:\n",
    "        df_null[split] = pd.read_csv(file_null, index_col=0, header=0)"
   ]
  },
  {
   "cell_type": "markdown",
   "metadata": {},
   "source": [
    "## Interleave splits to facilitate plotting"
   ]
  },
  {
   "cell_type": "code",
   "execution_count": 19,
   "metadata": {},
   "outputs": [
    {
     "data": {
      "text/html": [
       "<div>\n",
       "<style scoped>\n",
       "    .dataframe tbody tr th:only-of-type {\n",
       "        vertical-align: middle;\n",
       "    }\n",
       "\n",
       "    .dataframe tbody tr th {\n",
       "        vertical-align: top;\n",
       "    }\n",
       "\n",
       "    .dataframe thead th {\n",
       "        text-align: right;\n",
       "    }\n",
       "</style>\n",
       "<table border=\"1\" class=\"dataframe\">\n",
       "  <thead>\n",
       "    <tr style=\"text-align: right;\">\n",
       "      <th></th>\n",
       "      <th>0</th>\n",
       "      <th>1</th>\n",
       "      <th>10</th>\n",
       "      <th>100</th>\n",
       "      <th>101</th>\n",
       "      <th>102</th>\n",
       "      <th>103</th>\n",
       "      <th>104</th>\n",
       "      <th>105</th>\n",
       "      <th>106</th>\n",
       "      <th>...</th>\n",
       "      <th>990</th>\n",
       "      <th>991</th>\n",
       "      <th>992</th>\n",
       "      <th>993</th>\n",
       "      <th>994</th>\n",
       "      <th>995</th>\n",
       "      <th>996</th>\n",
       "      <th>997</th>\n",
       "      <th>998</th>\n",
       "      <th>999</th>\n",
       "    </tr>\n",
       "  </thead>\n",
       "  <tbody>\n",
       "    <tr>\n",
       "      <th>MEMORY_discovery</th>\n",
       "      <td>0.156357</td>\n",
       "      <td>0.145251</td>\n",
       "      <td>0.129015</td>\n",
       "      <td>0.131658</td>\n",
       "      <td>0.143842</td>\n",
       "      <td>0.149398</td>\n",
       "      <td>0.166665</td>\n",
       "      <td>0.130532</td>\n",
       "      <td>0.139602</td>\n",
       "      <td>0.189635</td>\n",
       "      <td>...</td>\n",
       "      <td>0.160385</td>\n",
       "      <td>0.123463</td>\n",
       "      <td>0.147750</td>\n",
       "      <td>0.141946</td>\n",
       "      <td>0.127749</td>\n",
       "      <td>0.144753</td>\n",
       "      <td>0.158533</td>\n",
       "      <td>0.169200</td>\n",
       "      <td>0.152436</td>\n",
       "      <td>0.149413</td>\n",
       "    </tr>\n",
       "    <tr>\n",
       "      <th>MEMORY_replication</th>\n",
       "      <td>0.149268</td>\n",
       "      <td>0.171735</td>\n",
       "      <td>0.145222</td>\n",
       "      <td>0.134270</td>\n",
       "      <td>0.154248</td>\n",
       "      <td>0.128941</td>\n",
       "      <td>0.164006</td>\n",
       "      <td>0.133506</td>\n",
       "      <td>0.165337</td>\n",
       "      <td>0.139481</td>\n",
       "      <td>...</td>\n",
       "      <td>0.146308</td>\n",
       "      <td>0.129928</td>\n",
       "      <td>0.133521</td>\n",
       "      <td>0.159852</td>\n",
       "      <td>0.151238</td>\n",
       "      <td>0.129308</td>\n",
       "      <td>0.112633</td>\n",
       "      <td>0.147249</td>\n",
       "      <td>0.158536</td>\n",
       "      <td>0.168126</td>\n",
       "    </tr>\n",
       "    <tr>\n",
       "      <th>REWARD_discovery</th>\n",
       "      <td>0.088823</td>\n",
       "      <td>0.089246</td>\n",
       "      <td>0.081245</td>\n",
       "      <td>0.074108</td>\n",
       "      <td>0.082139</td>\n",
       "      <td>0.088722</td>\n",
       "      <td>0.108493</td>\n",
       "      <td>0.104912</td>\n",
       "      <td>0.124093</td>\n",
       "      <td>0.114198</td>\n",
       "      <td>...</td>\n",
       "      <td>0.085086</td>\n",
       "      <td>0.103314</td>\n",
       "      <td>0.081265</td>\n",
       "      <td>0.044272</td>\n",
       "      <td>0.052888</td>\n",
       "      <td>0.077936</td>\n",
       "      <td>0.115396</td>\n",
       "      <td>0.099426</td>\n",
       "      <td>0.080779</td>\n",
       "      <td>0.087683</td>\n",
       "    </tr>\n",
       "    <tr>\n",
       "      <th>REWARD_replication</th>\n",
       "      <td>0.064041</td>\n",
       "      <td>0.077539</td>\n",
       "      <td>0.095551</td>\n",
       "      <td>0.069041</td>\n",
       "      <td>0.092033</td>\n",
       "      <td>0.100155</td>\n",
       "      <td>0.113705</td>\n",
       "      <td>0.115332</td>\n",
       "      <td>0.104594</td>\n",
       "      <td>0.075677</td>\n",
       "      <td>...</td>\n",
       "      <td>0.053428</td>\n",
       "      <td>0.057128</td>\n",
       "      <td>0.122702</td>\n",
       "      <td>0.098479</td>\n",
       "      <td>0.089859</td>\n",
       "      <td>0.102483</td>\n",
       "      <td>0.072945</td>\n",
       "      <td>0.121984</td>\n",
       "      <td>0.086288</td>\n",
       "      <td>0.139247</td>\n",
       "    </tr>\n",
       "    <tr>\n",
       "      <th>COGNITION_discovery</th>\n",
       "      <td>0.160984</td>\n",
       "      <td>0.161413</td>\n",
       "      <td>0.134196</td>\n",
       "      <td>0.179478</td>\n",
       "      <td>0.183654</td>\n",
       "      <td>0.166687</td>\n",
       "      <td>0.166504</td>\n",
       "      <td>0.167163</td>\n",
       "      <td>0.200171</td>\n",
       "      <td>0.180243</td>\n",
       "      <td>...</td>\n",
       "      <td>0.170875</td>\n",
       "      <td>0.182013</td>\n",
       "      <td>0.174560</td>\n",
       "      <td>0.167191</td>\n",
       "      <td>0.179885</td>\n",
       "      <td>0.183891</td>\n",
       "      <td>0.152941</td>\n",
       "      <td>0.179395</td>\n",
       "      <td>0.158504</td>\n",
       "      <td>0.168812</td>\n",
       "    </tr>\n",
       "  </tbody>\n",
       "</table>\n",
       "<p>5 rows × 1000 columns</p>\n",
       "</div>"
      ],
      "text/plain": [
       "                            0         1        10       100       101  \\\n",
       "MEMORY_discovery     0.156357  0.145251  0.129015  0.131658  0.143842   \n",
       "MEMORY_replication   0.149268  0.171735  0.145222  0.134270  0.154248   \n",
       "REWARD_discovery     0.088823  0.089246  0.081245  0.074108  0.082139   \n",
       "REWARD_replication   0.064041  0.077539  0.095551  0.069041  0.092033   \n",
       "COGNITION_discovery  0.160984  0.161413  0.134196  0.179478  0.183654   \n",
       "\n",
       "                          102       103       104       105       106  ...  \\\n",
       "MEMORY_discovery     0.149398  0.166665  0.130532  0.139602  0.189635  ...   \n",
       "MEMORY_replication   0.128941  0.164006  0.133506  0.165337  0.139481  ...   \n",
       "REWARD_discovery     0.088722  0.108493  0.104912  0.124093  0.114198  ...   \n",
       "REWARD_replication   0.100155  0.113705  0.115332  0.104594  0.075677  ...   \n",
       "COGNITION_discovery  0.166687  0.166504  0.167163  0.200171  0.180243  ...   \n",
       "\n",
       "                          990       991       992       993       994  \\\n",
       "MEMORY_discovery     0.160385  0.123463  0.147750  0.141946  0.127749   \n",
       "MEMORY_replication   0.146308  0.129928  0.133521  0.159852  0.151238   \n",
       "REWARD_discovery     0.085086  0.103314  0.081265  0.044272  0.052888   \n",
       "REWARD_replication   0.053428  0.057128  0.122702  0.098479  0.089859   \n",
       "COGNITION_discovery  0.170875  0.182013  0.174560  0.167191  0.179885   \n",
       "\n",
       "                          995       996       997       998       999  \n",
       "MEMORY_discovery     0.144753  0.158533  0.169200  0.152436  0.149413  \n",
       "MEMORY_replication   0.129308  0.112633  0.147249  0.158536  0.168126  \n",
       "REWARD_discovery     0.077936  0.115396  0.099426  0.080779  0.087683  \n",
       "REWARD_replication   0.102483  0.072945  0.121984  0.086288  0.139247  \n",
       "COGNITION_discovery  0.183891  0.152941  0.179395  0.158504  0.168812  \n",
       "\n",
       "[5 rows x 1000 columns]"
      ]
     },
     "execution_count": 19,
     "metadata": {},
     "output_type": "execute_result"
    }
   ],
   "source": [
    "df_null_interleaved = pd.DataFrame()\n",
    "null_idx = []\n",
    "for dom in domains:\n",
    "    for split in [\"discovery\", \"replication\"]:\n",
    "        df_null_interleaved = df_null_interleaved.append(df_null[split].loc[dom])\n",
    "        null_idx.append(dom + \"_\" + split)\n",
    "df_null_interleaved.index = null_idx\n",
    "df_null_interleaved.head()"
   ]
  },
  {
   "cell_type": "markdown",
   "metadata": {},
   "source": [
    "## Bootstrap distributions"
   ]
  },
  {
   "cell_type": "code",
   "execution_count": 20,
   "metadata": {},
   "outputs": [
    {
     "name": "stdout",
     "output_type": "stream",
     "text": [
      "Processing discovery split (N=12708 documents)\n",
      "Processing replication split (N=5447 documents)\n"
     ]
    }
   ],
   "source": [
    "df_boot = {}\n",
    "for split, split_pmids in splits.items():\n",
    "    \n",
    "    print(\"Processing {} split (N={} documents)\".format(split, len(split_pmids)))\n",
    "    \n",
    "    file_boot = \"data/arche_boot_{}{}_{}_{}iter.csv\".format(framework, clf, split, n_iter)\n",
    "    if not os.path.isfile(file_boot):\n",
    "        \n",
    "        df_boot[split] = np.zeros((len(domains), n_iter))\n",
    "        for n in range(n_iter):\n",
    "            boot = np.random.choice(range(len(docs.columns)), \n",
    "                                    size=len(docs.columns), replace=True)\n",
    "            for i, dom in enumerate(domains):\n",
    "                dom_pmids = dom2docs[dom][split]\n",
    "                dom_vecs = docs.loc[dom_pmids].values[:,boot]\n",
    "                dom_arche = archetypes.values[boot,i].reshape(1, archetypes.shape[0])\n",
    "                df_boot[split][i,n] = 1.0 - np.mean(cdist(dom_vecs, dom_arche, metric=\"dice\"))\n",
    "            if n % int(n_iter / 10.0) == 0:\n",
    "                print(\"----- Processed {} iterations\".format(n))\n",
    "        \n",
    "        df_boot[split] = pd.DataFrame(df_boot[split], index=domains, columns=range(n_iter))\n",
    "        df_boot[split].to_csv(file_boot)\n",
    "        print(\"\")\n",
    "    \n",
    "    else:\n",
    "        df_boot[split] = pd.read_csv(file_boot, index_col=0, header=0)"
   ]
  },
  {
   "cell_type": "markdown",
   "metadata": {},
   "source": [
    "# Perform significance testing"
   ]
  },
  {
   "cell_type": "code",
   "execution_count": 21,
   "metadata": {},
   "outputs": [],
   "source": [
    "from statsmodels.stats import multitest"
   ]
  },
  {
   "cell_type": "code",
   "execution_count": 22,
   "metadata": {},
   "outputs": [
    {
     "name": "stdout",
     "output_type": "stream",
     "text": [
      "-----------------------------------------------------------------\n",
      "DISCOVERY\n",
      "-----------------------------------------------------------------\n",
      "              OBSERVED    P  FDR STARS\n",
      "MEMORY        0.337076  0.0  0.0     *\n",
      "REWARD        0.314098  0.0  0.0     *\n",
      "COGNITION     0.341398  0.0  0.0     *\n",
      "VISION        0.372662  0.0  0.0     *\n",
      "MANIPULATION  0.408542  0.0  0.0     *\n",
      "LANGUAGE      0.402371  0.0  0.0     *\n",
      "\n",
      "-----------------------------------------------------------------\n",
      "REPLICATION\n",
      "-----------------------------------------------------------------\n",
      "              OBSERVED    P  FDR STARS\n",
      "MEMORY        0.348391  0.0  0.0     *\n",
      "REWARD        0.316778  0.0  0.0     *\n",
      "COGNITION     0.341681  0.0  0.0     *\n",
      "VISION        0.376090  0.0  0.0     *\n",
      "MANIPULATION  0.404322  0.0  0.0     *\n",
      "LANGUAGE      0.402888  0.0  0.0     *\n",
      "\n"
     ]
    }
   ],
   "source": [
    "df_stat = {}\n",
    "\n",
    "for split, split_pmids in splits.items():\n",
    "    \n",
    "    df_stat[split] = pd.DataFrame(index=domains)\n",
    "    \n",
    "    pval = []\n",
    "    for dom in domains:   \n",
    "        dom_obs = df_obs.loc[(df_obs[\"SPLIT\"] == split) & (df_obs[\"DOMAIN\"] == dom), \"OBSERVED\"].mean()\n",
    "        df_stat[split].loc[dom, \"OBSERVED\"] = dom_obs\n",
    "        \n",
    "        dom_null = df_null[split].loc[dom].values\n",
    "        p = np.sum(dom_null >= dom_obs) / float(n_iter)\n",
    "        pval.append(p)\n",
    "        df_stat[split].loc[dom, \"P\"] = p\n",
    "    \n",
    "    df_stat[split][\"FDR\"] = multitest.multipletests(pval, method=\"fdr_bh\")[1]\n",
    "    \n",
    "    for dom in domains:\n",
    "        if df_stat[split].loc[dom, \"FDR\"] < alpha:\n",
    "            df_stat[split].loc[dom, \"STARS\"] = \"*\"\n",
    "        else:\n",
    "            df_stat[split].loc[dom, \"STARS\"] = \"\"\n",
    "    \n",
    "    df_stat[split] = df_stat[split].loc[domains, [\"OBSERVED\", \"P\", \"FDR\", \"STARS\"]]\n",
    "    df_stat[split].to_csv(\"data/arche_mean_{}{}_{}.csv\".format(framework, clf, split))\n",
    "    \n",
    "    print(\"-\" * 65 + \"\\n\" + split.upper() + \"\\n\" + \"-\" * 65)\n",
    "    print(df_stat[split])\n",
    "    print(\"\")"
   ]
  },
  {
   "cell_type": "markdown",
   "metadata": {},
   "source": [
    "# Plot results"
   ]
  },
  {
   "cell_type": "code",
   "execution_count": 23,
   "metadata": {},
   "outputs": [],
   "source": [
    "%matplotlib inline"
   ]
  },
  {
   "cell_type": "code",
   "execution_count": 24,
   "metadata": {},
   "outputs": [
    {
     "data": {
      "image/png": "[encoded data removed]",
      "text/plain": [
       "<Figure size 324x151.2 with 1 Axes>"
      ]
     },
     "metadata": {},
     "output_type": "display_data"
    }
   ],
   "source": [
    "utilities.plot_split_violins(framework, domains, df_obs, df_null_interleaved, df_stat, \n",
    "                             style.palettes[framework], metric=\"arche\", dx=dx, ds=ds, \n",
    "                             ylim=[-0.25,1], yticks=[-0.25,0,0.25,0.5,0.75,1], \n",
    "                             interval=0.999, alphas=[0], suffix=clf)"
   ]
  }
 ],
 "metadata": {
  "kernelspec": {
   "display_name": "Python [conda env:ontol] *",
   "language": "python",
   "name": "conda-env-ontol-py"
  },
  "language_info": {
   "codemirror_mode": {
    "name": "ipython",
    "version": 3
   },
   "file_extension": ".py",
   "mimetype": "text/x-python",
   "name": "python",
   "nbconvert_exporter": "python",
   "pygments_lexer": "ipython3",
   "version": "3.6.8"
  }
 },
 "nbformat": 4,
 "nbformat_minor": 2
}
