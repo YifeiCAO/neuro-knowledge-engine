{
 "cells": [
  {
   "cell_type": "markdown",
   "metadata": {},
   "source": [
    "# Introduction\n",
    "\n",
    "In a prior notebook, documents were partitioned by assigning them to the domain with the highest Dice similarity of their term and structure occurrences. The occurrences of terms and structures in each domain is what we refer to as the domain \"archetype.\" Here, we'll assess whether the observed similarity between documents and the archetype is greater than expected by chance. This would indicate that information in the framework generalizes well to individual documents.\n",
    "\n",
    "# Load the data"
   ]
  },
  {
   "cell_type": "code",
   "execution_count": 1,
   "metadata": {},
   "outputs": [],
   "source": [
    "import os\n",
    "import pandas as pd\n",
    "import numpy as np\n",
    "\n",
    "import sys\n",
    "sys.path.append(\"..\")\n",
    "import utilities\n",
    "from ontology import ontology\n",
    "from style import style"
   ]
  },
  {
   "cell_type": "code",
   "execution_count": 2,
   "metadata": {},
   "outputs": [],
   "source": [
    "version = 190325 # Document-term matrix version\n",
    "suffix = \"_logreg\" # Suffix for term lists\n",
    "clf = \"lr\" # Classifier used to generate the framework\n",
    "n_iter = 1000 # Iterations for null distribution\n",
    "circuit_counts = range(2, 51) # Range of k values"
   ]
  },
  {
   "cell_type": "markdown",
   "metadata": {},
   "source": [
    "## Brain activation coordinates"
   ]
  },
  {
   "cell_type": "code",
   "execution_count": 3,
   "metadata": {},
   "outputs": [
    {
     "name": "stdout",
     "output_type": "stream",
     "text": [
      "Document N=18155, Structure N=118\n"
     ]
    }
   ],
   "source": [
    "act_bin = utilities.load_coordinates()\n",
    "print(\"Document N={}, Structure N={}\".format(\n",
    "      act_bin.shape[0], act_bin.shape[1]))"
   ]
  },
  {
   "cell_type": "markdown",
   "metadata": {},
   "source": [
    "## Document-term matrix"
   ]
  },
  {
   "cell_type": "code",
   "execution_count": 4,
   "metadata": {},
   "outputs": [
    {
     "name": "stdout",
     "output_type": "stream",
     "text": [
      "Document N=18155, Term N=4107\n"
     ]
    }
   ],
   "source": [
    "dtm_bin = utilities.load_doc_term_matrix(version=version, binarize=True)\n",
    "print(\"Document N={}, Term N={}\".format(\n",
    "      dtm_bin.shape[0], dtm_bin.shape[1]))"
   ]
  },
  {
   "cell_type": "markdown",
   "metadata": {},
   "source": [
    "## Document splits"
   ]
  },
  {
   "cell_type": "code",
   "execution_count": 5,
   "metadata": {},
   "outputs": [
    {
     "name": "stdout",
     "output_type": "stream",
     "text": [
      "Train        N=12708\n",
      "Validation   N=3631\n",
      "Test         N=1816\n"
     ]
    }
   ],
   "source": [
    "splits = {}\n",
    "splits[\"train\"] = [int(pmid.strip()) for pmid in open(\"../data/splits/train.txt\")]\n",
    "splits[\"validation\"] = [int(pmid.strip()) for pmid in open(\"../data/splits/validation.txt\")]\n",
    "splits[\"test\"] = [int(pmid.strip()) for pmid in open(\"../data/splits/test.txt\")]\n",
    "for split, split_pmids in splits.items():\n",
    "    print(\"{:12s} N={}\".format(split.title(), len(split_pmids)))"
   ]
  },
  {
   "cell_type": "code",
   "execution_count": 6,
   "metadata": {},
   "outputs": [],
   "source": [
    "pmids = dtm_bin.index.intersection(act_bin.index)\n",
    "split_pmids = splits[split]"
   ]
  },
  {
   "cell_type": "markdown",
   "metadata": {},
   "source": [
    "# Index by PMID and sort by structure"
   ]
  },
  {
   "cell_type": "code",
   "execution_count": 7,
   "metadata": {},
   "outputs": [],
   "source": [
    "structures = sorted(list(set(act_bin.columns)))\n",
    "act_structs = act_bin.loc[pmids, structures]"
   ]
  },
  {
   "cell_type": "markdown",
   "metadata": {},
   "source": [
    "# Compute observed values"
   ]
  },
  {
   "cell_type": "code",
   "execution_count": 8,
   "metadata": {},
   "outputs": [],
   "source": [
    "from collections import OrderedDict\n",
    "from scipy.spatial.distance import cdist"
   ]
  },
  {
   "cell_type": "code",
   "execution_count": 9,
   "metadata": {},
   "outputs": [],
   "source": [
    "def load_kval_archetype_data(k):\n",
    "    \n",
    "    lists, circuits = ontology.load_ontology(k, path=\"../ontology/\", suffix=suffix)\n",
    "    domains = list(OrderedDict.fromkeys(lists[\"DOMAIN\"]))\n",
    "    \n",
    "    words = sorted(list(set(lists[\"TOKEN\"])))\n",
    "    dtm_words = dtm_bin.loc[pmids, words]\n",
    "    docs = dtm_words.copy()\n",
    "    docs[structures] = act_structs.copy()\n",
    "\n",
    "    archetypes = pd.DataFrame(0.0, index=words+structures, columns=domains)\n",
    "    for dom in domains:\n",
    "        for word in lists.loc[lists[\"DOMAIN\"] == dom, \"TOKEN\"]:\n",
    "            archetypes.loc[word, dom] = 1.0\n",
    "        for struct in circuits.loc[circuits[\"DOMAIN\"] == dom, \"STRUCTURE\"]:\n",
    "            archetypes.loc[struct, dom] = 1.0\n",
    "    archetypes[archetypes > 0.0] = 1.0\n",
    "\n",
    "    doc2dom_df = pd.read_csv(\"../partition/data/doc2dom_k{:02d}_{}.csv\".format(k, clf), \n",
    "                             header=None, index_col=0)\n",
    "    doc2dom = {int(pmid): str(dom.values[0]) for pmid, dom in doc2dom_df.iterrows()}\n",
    "    \n",
    "    dom2docs = {dom: {split: [] for split in [\"train\", \"validation\", \"test\"]} for dom in domains}\n",
    "    for doc, dom in doc2dom.items():\n",
    "        for split, split_pmids in splits.items():\n",
    "            if doc in splits[split]:\n",
    "                dom2docs[dom][split].append(doc)\n",
    "                \n",
    "    return domains, docs, archetypes, dom2docs"
   ]
  },
  {
   "cell_type": "code",
   "execution_count": 10,
   "metadata": {},
   "outputs": [
    {
     "name": "stderr",
     "output_type": "stream",
     "text": [
      "/anaconda3/envs/ontol/lib/python3.6/site-packages/ipykernel_launcher.py:35: RuntimeWarning: Mean of empty slice\n"
     ]
    }
   ],
   "source": [
    "means = {}\n",
    "means[split] = np.empty((len(circuit_counts),))\n",
    "\n",
    "for k_i, k in enumerate(circuit_counts):\n",
    "\n",
    "    file_obs = \"data/kvals/arche_obs_k{:02d}_{}.csv\".format(k, clf)\n",
    "    if not os.path.isfile(file_obs):\n",
    "        domains, docs, archetypes, dom2docs = load_kval_archetype_data(k)\n",
    "\n",
    "        pmid_list, split_list, dom_list, obs_list  = [], [], [], []\n",
    "\n",
    "        for split, split_pmids in splits.items():\n",
    "            split_list += [split] * len(split_pmids)\n",
    "\n",
    "            for dom in domains:\n",
    "                dom_pmids = dom2docs[dom][split]\n",
    "                dom_vecs = docs.loc[dom_pmids].values\n",
    "                dom_arche = archetypes[dom].values.reshape(1, archetypes.shape[0])\n",
    "                dom_sims = 1.0 - cdist(dom_vecs, dom_arche, metric=\"dice\")\n",
    "\n",
    "                pmid_list += dom_pmids\n",
    "                dom_list += [dom] * len(dom_sims)\n",
    "                obs_list += list(dom_sims[:,0])\n",
    "\n",
    "        df_obs = pd.DataFrame({\"PMID\": pmid_list, \"SPLIT\": split_list, \n",
    "                                   \"DOMAIN\": dom_list, \"OBSERVED\": obs_list})\n",
    "        df_obs.to_csv(file_obs, index=None)\n",
    "    \n",
    "    else:\n",
    "        df_obs = pd.read_csv(file_obs)\n",
    "    \n",
    "    dom_means = []\n",
    "    for dom in set(df_obs[\"DOMAIN\"]):\n",
    "        dom_vals = df_obs.loc[(df_obs[\"SPLIT\"] == split) & (df_obs[\"DOMAIN\"] == dom), \"OBSERVED\"]\n",
    "        dom_means.append(np.nanmean(dom_vals))\n",
    "    means[split][k_i] = np.nanmean(dom_means)"
   ]
  },
  {
   "cell_type": "markdown",
   "metadata": {},
   "source": [
    "## Null distributions"
   ]
  },
  {
   "cell_type": "code",
   "execution_count": 11,
   "metadata": {},
   "outputs": [],
   "source": [
    "nulls = {}\n",
    "nulls[split] = np.empty((len(circuit_counts), n_iter))\n",
    "\n",
    "for k_i, k in enumerate(circuit_counts):\n",
    "    \n",
    "    file_null = \"data/kvals/arche_null_k{:02d}_{}_{}iter.csv\".format(k, split, n_iter)\n",
    "    if not os.path.isfile(file_null):\n",
    "        \n",
    "        print(\"Processing k={:02d}\".format(k))\n",
    "        \n",
    "        domains, docs, archetypes, dom2docs = load_kval_archetype_data(k)\n",
    "        \n",
    "        df_null = np.zeros((len(domains), n_iter))\n",
    "        for n in range(n_iter):\n",
    "            null = np.random.choice(range(len(docs.columns)), \n",
    "                                    size=len(docs.columns), replace=False)\n",
    "            for i, dom in enumerate(domains):\n",
    "                dom_pmids = dom2docs[dom][split]\n",
    "                dom_vecs = docs.loc[dom_pmids].values\n",
    "                dom_arche = archetypes.values[null,i].reshape(1, archetypes.shape[0])\n",
    "                df_null[i,n] = 1.0 - np.mean(cdist(dom_vecs, dom_arche, metric=\"dice\"))\n",
    "                \n",
    "        df_null = pd.DataFrame(df_null, index=domains, columns=range(n_iter))\n",
    "        df_null.to_csv(file_null)\n",
    "    \n",
    "    else:\n",
    "        df_null = pd.read_csv(file_null, index_col=0, header=0)\n",
    "    \n",
    "    nulls[split][k_i,:] = np.mean(df_null, axis=0)"
   ]
  },
  {
   "cell_type": "markdown",
   "metadata": {},
   "source": [
    "# Bootstrap distributions"
   ]
  },
  {
   "cell_type": "code",
   "execution_count": 12,
   "metadata": {},
   "outputs": [],
   "source": [
    "boots = {}\n",
    "boots[split] = np.empty((len(circuit_counts), n_iter))\n",
    "\n",
    "for k_i, k in enumerate(circuit_counts):\n",
    "    \n",
    "    file_boot = \"data/kvals/arche_boot_k{:02d}_{}_{}iter.csv\".format(k, split, n_iter)\n",
    "    if not os.path.isfile(file_boot):\n",
    "        \n",
    "        print(\"Processing k={:02d}\".format(k))\n",
    "        \n",
    "        domains, docs, archetypes, dom2docs = load_kval_archetype_data(k)\n",
    "        \n",
    "        df_boot = np.zeros((len(domains), n_iter))\n",
    "        for n in range(n_iter):\n",
    "            boot = np.random.choice(range(len(docs.columns)), \n",
    "                                    size=len(docs.columns), replace=True)\n",
    "            for i, dom in enumerate(domains):\n",
    "                dom_pmids = dom2docs[dom][split]\n",
    "                dom_vecs = docs.loc[dom_pmids].values[:,boot]\n",
    "                dom_arche = archetypes.values[boot,i].reshape(1, archetypes.shape[0])\n",
    "                df_boot[i,n] = 1.0 - np.mean(cdist(dom_vecs, dom_arche, metric=\"dice\"))\n",
    "\n",
    "        df_boot = pd.DataFrame(df_boot, index=domains, columns=range(n_iter))\n",
    "        df_boot.to_csv(file_boot)\n",
    "    \n",
    "    else:\n",
    "        df_boot = pd.read_csv(file_boot, index_col=0, header=0)\n",
    "    \n",
    "    boots[split][k_i,:] = np.mean(df_boot, axis=0)"
   ]
  },
  {
   "cell_type": "markdown",
   "metadata": {},
   "source": [
    "# Plot results over k"
   ]
  },
  {
   "cell_type": "code",
   "execution_count": 13,
   "metadata": {},
   "outputs": [],
   "source": [
    "from matplotlib import rcParams\n",
    "%matplotlib inline"
   ]
  },
  {
   "cell_type": "code",
   "execution_count": 14,
   "metadata": {},
   "outputs": [],
   "source": [
    "rcParams[\"axes.linewidth\"] = 1.5"
   ]
  },
  {
   "cell_type": "code",
   "execution_count": 15,
   "metadata": {},
   "outputs": [
    {
     "data": {
      "image/png": "[encoded data removed]",
      "text/plain": [
       "<Figure size 288x216 with 1 Axes>"
      ]
     },
     "metadata": {
      "needs_background": "light"
     },
     "output_type": "display_data"
    }
   ],
   "source": [
    "utilities.plot_stats_by_k(means, nulls, boots, circuit_counts, metric=\"arche\",\n",
    "                          split=\"test\", op_k=6, clf=clf, interval=0.999, ylim=[-0.1,0.5], \n",
    "                          yticks=[-0.1,0,0.1,0.2,0.3,0.4,0.5])"
   ]
  },
  {
   "cell_type": "code",
   "execution_count": null,
   "metadata": {},
   "outputs": [],
   "source": []
  }
 ],
 "metadata": {
  "kernelspec": {
   "display_name": "Python [conda env:ontol] *",
   "language": "python",
   "name": "conda-env-ontol-py"
  },
  "language_info": {
   "codemirror_mode": {
    "name": "ipython",
    "version": 3
   },
   "file_extension": ".py",
   "mimetype": "text/x-python",
   "name": "python",
   "nbconvert_exporter": "python",
   "pygments_lexer": "ipython3",
   "version": "3.6.8"
  }
 },
 "nbformat": 4,
 "nbformat_minor": 2
}
