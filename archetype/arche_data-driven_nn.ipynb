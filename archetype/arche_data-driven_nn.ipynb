{
 "cells": [
  {
   "cell_type": "markdown",
   "metadata": {},
   "source": [
    "# Introduction\n",
    "\n",
    "In a prior notebook, documents were partitioned by assigning them to the domain with the highest Dice similarity of their term and structure occurrences. The occurrences of terms and structures in each domain is what we refer to as the domain \"archetype.\" Here, we'll assess whether the observed similarity between documents and the archetype is greater than expected by chance. This would indicate that information in the framework generalizes well to individual documents.\n",
    "\n",
    "# Load the data"
   ]
  },
  {
   "cell_type": "code",
   "execution_count": 1,
   "metadata": {},
   "outputs": [],
   "source": [
    "import pandas as pd\n",
    "import numpy as np\n",
    "\n",
    "import sys\n",
    "sys.path.append(\"..\")\n",
    "import utilities\n",
    "from style import style"
   ]
  },
  {
   "cell_type": "code",
   "execution_count": 2,
   "metadata": {},
   "outputs": [],
   "source": [
    "framework = \"data-driven\" \n",
    "version = 190325 # Document-term matrix version\n",
    "suffix = \"\" # Suffix for term lists\n",
    "clf = \"_nn\" # Classifier used to generate the framework\n",
    "n_iter = 1000 # Iterations for null distribution\n",
    "dx = [0.38, 0.37, 0.37, 0.37, 0.37, 0.36] # Nudges for plotted means\n",
    "ds = 0.11 # Nudges for plotted stars\n",
    "alpha = 0.001 # Significance level for statistical comparisons"
   ]
  },
  {
   "cell_type": "markdown",
   "metadata": {},
   "source": [
    "## Brain activation coordinates"
   ]
  },
  {
   "cell_type": "code",
   "execution_count": 3,
   "metadata": {},
   "outputs": [
    {
     "name": "stdout",
     "output_type": "stream",
     "text": [
      "Document N=18155, Structure N=118\n"
     ]
    }
   ],
   "source": [
    "act_bin = utilities.load_coordinates()\n",
    "print(\"Document N={}, Structure N={}\".format(\n",
    "      act_bin.shape[0], act_bin.shape[1]))"
   ]
  },
  {
   "cell_type": "markdown",
   "metadata": {},
   "source": [
    "## Document-term matrix"
   ]
  },
  {
   "cell_type": "code",
   "execution_count": 4,
   "metadata": {},
   "outputs": [
    {
     "name": "stdout",
     "output_type": "stream",
     "text": [
      "Document N=18155, Term N=4107\n"
     ]
    }
   ],
   "source": [
    "dtm_bin = utilities.load_doc_term_matrix(version=version, binarize=True)\n",
    "print(\"Document N={}, Term N={}\".format(\n",
    "      dtm_bin.shape[0], dtm_bin.shape[1]))"
   ]
  },
  {
   "cell_type": "markdown",
   "metadata": {},
   "source": [
    "## Domain archetypes"
   ]
  },
  {
   "cell_type": "code",
   "execution_count": 5,
   "metadata": {},
   "outputs": [],
   "source": [
    "from collections import OrderedDict"
   ]
  },
  {
   "cell_type": "code",
   "execution_count": 6,
   "metadata": {},
   "outputs": [],
   "source": [
    "lists, circuits = utilities.load_framework(framework, suffix=suffix, clf=clf)"
   ]
  },
  {
   "cell_type": "code",
   "execution_count": 7,
   "metadata": {},
   "outputs": [],
   "source": [
    "words = sorted(list(set(lists[\"TOKEN\"])))\n",
    "structures = sorted(list(set(act_bin.columns)))\n",
    "domains = list(OrderedDict.fromkeys(lists[\"DOMAIN\"]))"
   ]
  },
  {
   "cell_type": "code",
   "execution_count": 8,
   "metadata": {},
   "outputs": [
    {
     "name": "stdout",
     "output_type": "stream",
     "text": [
      "Term & Structure N=190, Domain N=6\n"
     ]
    }
   ],
   "source": [
    "archetypes = pd.DataFrame(0.0, index=words+structures, columns=domains)\n",
    "for dom in domains:\n",
    "    for word in lists.loc[lists[\"DOMAIN\"] == dom, \"TOKEN\"]:\n",
    "        archetypes.loc[word, dom] = 1.0\n",
    "    for struct in structures:\n",
    "        archetypes.loc[struct, dom] = circuits.loc[struct, dom]\n",
    "archetypes[archetypes > 0.0] = 1.0\n",
    "print(\"Term & Structure N={}, Domain N={}\".format(\n",
    "      archetypes.shape[0], archetypes.shape[1]))"
   ]
  },
  {
   "cell_type": "markdown",
   "metadata": {},
   "source": [
    "## Document structure-term vectors"
   ]
  },
  {
   "cell_type": "code",
   "execution_count": 9,
   "metadata": {},
   "outputs": [
    {
     "data": {
      "text/plain": [
       "18155"
      ]
     },
     "execution_count": 9,
     "metadata": {},
     "output_type": "execute_result"
    }
   ],
   "source": [
    "pmids = dtm_bin.index.intersection(act_bin.index)\n",
    "len(pmids)"
   ]
  },
  {
   "cell_type": "code",
   "execution_count": 10,
   "metadata": {},
   "outputs": [],
   "source": [
    "dtm_words = dtm_bin.loc[pmids, words]\n",
    "act_structs = act_bin.loc[pmids, structures]"
   ]
  },
  {
   "cell_type": "code",
   "execution_count": 11,
   "metadata": {},
   "outputs": [
    {
     "data": {
      "text/html": [
       "<div>\n",
       "<style scoped>\n",
       "    .dataframe tbody tr th:only-of-type {\n",
       "        vertical-align: middle;\n",
       "    }\n",
       "\n",
       "    .dataframe tbody tr th {\n",
       "        vertical-align: top;\n",
       "    }\n",
       "\n",
       "    .dataframe thead th {\n",
       "        text-align: right;\n",
       "    }\n",
       "</style>\n",
       "<table border=\"1\" class=\"dataframe\">\n",
       "  <thead>\n",
       "    <tr style=\"text-align: right;\">\n",
       "      <th></th>\n",
       "      <th>action</th>\n",
       "      <th>anticipation</th>\n",
       "      <th>arousal</th>\n",
       "      <th>articulation</th>\n",
       "      <th>attention</th>\n",
       "      <th>audition</th>\n",
       "      <th>auditory_perception</th>\n",
       "      <th>cognitive</th>\n",
       "      <th>cognitive_control</th>\n",
       "      <th>cognitive_process</th>\n",
       "      <th>...</th>\n",
       "      <th>right_superior_temporal_gyrus_posterior_division</th>\n",
       "      <th>right_supplementary_motor_cortex</th>\n",
       "      <th>right_supracalcarine_cortex</th>\n",
       "      <th>right_supramarginal_gyrus_anterior_division</th>\n",
       "      <th>right_supramarginal_gyrus_posterior_division</th>\n",
       "      <th>right_temporal_fusiform_cortex_anterior_division</th>\n",
       "      <th>right_temporal_fusiform_cortex_posterior_division</th>\n",
       "      <th>right_temporal_occipital_fusiform_cortex</th>\n",
       "      <th>right_temporal_pole</th>\n",
       "      <th>right_thalamus</th>\n",
       "    </tr>\n",
       "  </thead>\n",
       "  <tbody>\n",
       "    <tr>\n",
       "      <th>10022492</th>\n",
       "      <td>0.0</td>\n",
       "      <td>1.0</td>\n",
       "      <td>0.0</td>\n",
       "      <td>0.0</td>\n",
       "      <td>0.0</td>\n",
       "      <td>0.0</td>\n",
       "      <td>0.0</td>\n",
       "      <td>1.0</td>\n",
       "      <td>0.0</td>\n",
       "      <td>0.0</td>\n",
       "      <td>...</td>\n",
       "      <td>0</td>\n",
       "      <td>1</td>\n",
       "      <td>0</td>\n",
       "      <td>1</td>\n",
       "      <td>0</td>\n",
       "      <td>0</td>\n",
       "      <td>0</td>\n",
       "      <td>0</td>\n",
       "      <td>0</td>\n",
       "      <td>1</td>\n",
       "    </tr>\n",
       "    <tr>\n",
       "      <th>10022494</th>\n",
       "      <td>0.0</td>\n",
       "      <td>0.0</td>\n",
       "      <td>0.0</td>\n",
       "      <td>0.0</td>\n",
       "      <td>0.0</td>\n",
       "      <td>0.0</td>\n",
       "      <td>0.0</td>\n",
       "      <td>0.0</td>\n",
       "      <td>0.0</td>\n",
       "      <td>1.0</td>\n",
       "      <td>...</td>\n",
       "      <td>1</td>\n",
       "      <td>1</td>\n",
       "      <td>1</td>\n",
       "      <td>1</td>\n",
       "      <td>0</td>\n",
       "      <td>0</td>\n",
       "      <td>0</td>\n",
       "      <td>1</td>\n",
       "      <td>0</td>\n",
       "      <td>0</td>\n",
       "    </tr>\n",
       "    <tr>\n",
       "      <th>10022496</th>\n",
       "      <td>0.0</td>\n",
       "      <td>1.0</td>\n",
       "      <td>0.0</td>\n",
       "      <td>0.0</td>\n",
       "      <td>0.0</td>\n",
       "      <td>1.0</td>\n",
       "      <td>0.0</td>\n",
       "      <td>0.0</td>\n",
       "      <td>0.0</td>\n",
       "      <td>0.0</td>\n",
       "      <td>...</td>\n",
       "      <td>1</td>\n",
       "      <td>0</td>\n",
       "      <td>0</td>\n",
       "      <td>0</td>\n",
       "      <td>1</td>\n",
       "      <td>0</td>\n",
       "      <td>0</td>\n",
       "      <td>0</td>\n",
       "      <td>0</td>\n",
       "      <td>0</td>\n",
       "    </tr>\n",
       "    <tr>\n",
       "      <th>10027301</th>\n",
       "      <td>0.0</td>\n",
       "      <td>0.0</td>\n",
       "      <td>0.0</td>\n",
       "      <td>0.0</td>\n",
       "      <td>0.0</td>\n",
       "      <td>0.0</td>\n",
       "      <td>0.0</td>\n",
       "      <td>0.0</td>\n",
       "      <td>0.0</td>\n",
       "      <td>0.0</td>\n",
       "      <td>...</td>\n",
       "      <td>0</td>\n",
       "      <td>0</td>\n",
       "      <td>0</td>\n",
       "      <td>0</td>\n",
       "      <td>0</td>\n",
       "      <td>0</td>\n",
       "      <td>0</td>\n",
       "      <td>1</td>\n",
       "      <td>0</td>\n",
       "      <td>0</td>\n",
       "    </tr>\n",
       "    <tr>\n",
       "      <th>10051677</th>\n",
       "      <td>0.0</td>\n",
       "      <td>0.0</td>\n",
       "      <td>1.0</td>\n",
       "      <td>0.0</td>\n",
       "      <td>0.0</td>\n",
       "      <td>0.0</td>\n",
       "      <td>0.0</td>\n",
       "      <td>0.0</td>\n",
       "      <td>0.0</td>\n",
       "      <td>0.0</td>\n",
       "      <td>...</td>\n",
       "      <td>0</td>\n",
       "      <td>0</td>\n",
       "      <td>0</td>\n",
       "      <td>0</td>\n",
       "      <td>1</td>\n",
       "      <td>0</td>\n",
       "      <td>1</td>\n",
       "      <td>0</td>\n",
       "      <td>1</td>\n",
       "      <td>1</td>\n",
       "    </tr>\n",
       "  </tbody>\n",
       "</table>\n",
       "<p>5 rows × 190 columns</p>\n",
       "</div>"
      ],
      "text/plain": [
       "          action  anticipation  arousal  articulation  attention  audition  \\\n",
       "10022492     0.0           1.0      0.0           0.0        0.0       0.0   \n",
       "10022494     0.0           0.0      0.0           0.0        0.0       0.0   \n",
       "10022496     0.0           1.0      0.0           0.0        0.0       1.0   \n",
       "10027301     0.0           0.0      0.0           0.0        0.0       0.0   \n",
       "10051677     0.0           0.0      1.0           0.0        0.0       0.0   \n",
       "\n",
       "          auditory_perception  cognitive  cognitive_control  \\\n",
       "10022492                  0.0        1.0                0.0   \n",
       "10022494                  0.0        0.0                0.0   \n",
       "10022496                  0.0        0.0                0.0   \n",
       "10027301                  0.0        0.0                0.0   \n",
       "10051677                  0.0        0.0                0.0   \n",
       "\n",
       "          cognitive_process  ...  \\\n",
       "10022492                0.0  ...   \n",
       "10022494                1.0  ...   \n",
       "10022496                0.0  ...   \n",
       "10027301                0.0  ...   \n",
       "10051677                0.0  ...   \n",
       "\n",
       "          right_superior_temporal_gyrus_posterior_division  \\\n",
       "10022492                                                 0   \n",
       "10022494                                                 1   \n",
       "10022496                                                 1   \n",
       "10027301                                                 0   \n",
       "10051677                                                 0   \n",
       "\n",
       "          right_supplementary_motor_cortex  right_supracalcarine_cortex  \\\n",
       "10022492                                 1                            0   \n",
       "10022494                                 1                            1   \n",
       "10022496                                 0                            0   \n",
       "10027301                                 0                            0   \n",
       "10051677                                 0                            0   \n",
       "\n",
       "          right_supramarginal_gyrus_anterior_division  \\\n",
       "10022492                                            1   \n",
       "10022494                                            1   \n",
       "10022496                                            0   \n",
       "10027301                                            0   \n",
       "10051677                                            0   \n",
       "\n",
       "          right_supramarginal_gyrus_posterior_division  \\\n",
       "10022492                                             0   \n",
       "10022494                                             0   \n",
       "10022496                                             1   \n",
       "10027301                                             0   \n",
       "10051677                                             1   \n",
       "\n",
       "          right_temporal_fusiform_cortex_anterior_division  \\\n",
       "10022492                                                 0   \n",
       "10022494                                                 0   \n",
       "10022496                                                 0   \n",
       "10027301                                                 0   \n",
       "10051677                                                 0   \n",
       "\n",
       "          right_temporal_fusiform_cortex_posterior_division  \\\n",
       "10022492                                                  0   \n",
       "10022494                                                  0   \n",
       "10022496                                                  0   \n",
       "10027301                                                  0   \n",
       "10051677                                                  1   \n",
       "\n",
       "          right_temporal_occipital_fusiform_cortex  right_temporal_pole  \\\n",
       "10022492                                         0                    0   \n",
       "10022494                                         1                    0   \n",
       "10022496                                         0                    0   \n",
       "10027301                                         1                    0   \n",
       "10051677                                         0                    1   \n",
       "\n",
       "          right_thalamus  \n",
       "10022492               1  \n",
       "10022494               0  \n",
       "10022496               0  \n",
       "10027301               0  \n",
       "10051677               1  \n",
       "\n",
       "[5 rows x 190 columns]"
      ]
     },
     "execution_count": 11,
     "metadata": {},
     "output_type": "execute_result"
    }
   ],
   "source": [
    "docs = dtm_words.copy()\n",
    "docs[structures] = act_structs.copy()\n",
    "docs.head()"
   ]
  },
  {
   "cell_type": "markdown",
   "metadata": {},
   "source": [
    "## Document splits"
   ]
  },
  {
   "cell_type": "code",
   "execution_count": 12,
   "metadata": {},
   "outputs": [
    {
     "name": "stdout",
     "output_type": "stream",
     "text": [
      "Discovery    N=12708\n",
      "Replication  N=5447\n"
     ]
    }
   ],
   "source": [
    "splits = {}\n",
    "splits[\"discovery\"] = [int(pmid.strip()) for pmid in open(\"../data/splits/train.txt\")]\n",
    "splits[\"replication\"] = [int(pmid.strip()) for pmid in open(\"../data/splits/validation.txt\")]\n",
    "splits[\"replication\"] += [int(pmid.strip()) for pmid in open(\"../data/splits/test.txt\")]\n",
    "for split, pmids in splits.items():\n",
    "    print(\"{:12s} N={}\".format(split.title(), len(pmids)))"
   ]
  },
  {
   "cell_type": "markdown",
   "metadata": {},
   "source": [
    "## Document assignments"
   ]
  },
  {
   "cell_type": "code",
   "execution_count": 13,
   "metadata": {},
   "outputs": [],
   "source": [
    "doc2dom_df = pd.read_csv(\"../partition/data/doc2dom_{}{}.csv\".format(framework, clf), \n",
    "                         header=None, index_col=0)\n",
    "doc2dom = {int(pmid): str(dom.values[0]) for pmid, dom in doc2dom_df.iterrows()}"
   ]
  },
  {
   "cell_type": "code",
   "execution_count": 14,
   "metadata": {},
   "outputs": [],
   "source": [
    "dom2docs = {dom: {split: [] for split in [\"discovery\", \"replication\"]} for dom in domains}\n",
    "for doc, dom in doc2dom.items():\n",
    "    for split, split_pmids in splits.items():\n",
    "        if doc in splits[split]:\n",
    "            dom2docs[dom][split].append(doc)"
   ]
  },
  {
   "cell_type": "markdown",
   "metadata": {},
   "source": [
    "# Compute similarity to archetype"
   ]
  },
  {
   "cell_type": "code",
   "execution_count": 15,
   "metadata": {},
   "outputs": [],
   "source": [
    "from scipy.spatial.distance import cdist"
   ]
  },
  {
   "cell_type": "markdown",
   "metadata": {},
   "source": [
    "## Observed values"
   ]
  },
  {
   "cell_type": "code",
   "execution_count": 16,
   "metadata": {},
   "outputs": [
    {
     "data": {
      "text/html": [
       "<div>\n",
       "<style scoped>\n",
       "    .dataframe tbody tr th:only-of-type {\n",
       "        vertical-align: middle;\n",
       "    }\n",
       "\n",
       "    .dataframe tbody tr th {\n",
       "        vertical-align: top;\n",
       "    }\n",
       "\n",
       "    .dataframe thead th {\n",
       "        text-align: right;\n",
       "    }\n",
       "</style>\n",
       "<table border=\"1\" class=\"dataframe\">\n",
       "  <thead>\n",
       "    <tr style=\"text-align: right;\">\n",
       "      <th></th>\n",
       "      <th>PMID</th>\n",
       "      <th>SPLIT</th>\n",
       "      <th>DOMAIN</th>\n",
       "      <th>OBSERVED</th>\n",
       "    </tr>\n",
       "  </thead>\n",
       "  <tbody>\n",
       "    <tr>\n",
       "      <th>0</th>\n",
       "      <td>10195224</td>\n",
       "      <td>discovery</td>\n",
       "      <td>MEMORY</td>\n",
       "      <td>0.693878</td>\n",
       "    </tr>\n",
       "    <tr>\n",
       "      <th>1</th>\n",
       "      <td>10220229</td>\n",
       "      <td>discovery</td>\n",
       "      <td>MEMORY</td>\n",
       "      <td>0.256410</td>\n",
       "    </tr>\n",
       "    <tr>\n",
       "      <th>2</th>\n",
       "      <td>10355673</td>\n",
       "      <td>discovery</td>\n",
       "      <td>MEMORY</td>\n",
       "      <td>0.377358</td>\n",
       "    </tr>\n",
       "    <tr>\n",
       "      <th>3</th>\n",
       "      <td>10468630</td>\n",
       "      <td>discovery</td>\n",
       "      <td>MEMORY</td>\n",
       "      <td>0.434783</td>\n",
       "    </tr>\n",
       "    <tr>\n",
       "      <th>4</th>\n",
       "      <td>10594068</td>\n",
       "      <td>discovery</td>\n",
       "      <td>MEMORY</td>\n",
       "      <td>0.309859</td>\n",
       "    </tr>\n",
       "  </tbody>\n",
       "</table>\n",
       "</div>"
      ],
      "text/plain": [
       "       PMID      SPLIT  DOMAIN  OBSERVED\n",
       "0  10195224  discovery  MEMORY  0.693878\n",
       "1  10220229  discovery  MEMORY  0.256410\n",
       "2  10355673  discovery  MEMORY  0.377358\n",
       "3  10468630  discovery  MEMORY  0.434783\n",
       "4  10594068  discovery  MEMORY  0.309859"
      ]
     },
     "execution_count": 16,
     "metadata": {},
     "output_type": "execute_result"
    }
   ],
   "source": [
    "pmid_list, split_list, dom_list, obs_list  = [], [], [], []\n",
    "\n",
    "for split, split_pmids in splits.items():\n",
    "    split_list += [split] * len(split_pmids)\n",
    "    \n",
    "    for dom in domains:\n",
    "        dom_pmids = dom2docs[dom][split]\n",
    "        dom_vecs = docs.loc[dom_pmids].values\n",
    "        dom_arche = archetypes[dom].values.reshape(1, archetypes.shape[0])\n",
    "        dom_sims = 1.0 - cdist(dom_vecs, dom_arche, metric=\"dice\")\n",
    "        \n",
    "        pmid_list += dom_pmids\n",
    "        dom_list += [dom] * len(dom_sims)\n",
    "        obs_list += list(dom_sims[:,0])\n",
    "\n",
    "df_obs = pd.DataFrame({\"PMID\": pmid_list, \"SPLIT\": split_list, \n",
    "                       \"DOMAIN\": dom_list, \"OBSERVED\": obs_list})\n",
    "df_obs.to_csv(\"data/arche_obs_{}{}.csv\".format(framework, clf))  \n",
    "df_obs.head()"
   ]
  },
  {
   "cell_type": "markdown",
   "metadata": {},
   "source": [
    "## Null distributions"
   ]
  },
  {
   "cell_type": "code",
   "execution_count": 17,
   "metadata": {},
   "outputs": [],
   "source": [
    "import os"
   ]
  },
  {
   "cell_type": "code",
   "execution_count": 18,
   "metadata": {},
   "outputs": [
    {
     "name": "stdout",
     "output_type": "stream",
     "text": [
      "Processing discovery split (N=12708 documents)\n",
      "Processing replication split (N=5447 documents)\n"
     ]
    }
   ],
   "source": [
    "df_null = {}\n",
    "for split, split_pmids in splits.items():\n",
    "    \n",
    "    print(\"Processing {} split (N={} documents)\".format(split, len(split_pmids)))\n",
    "    \n",
    "    file_null = \"data/arche_null_{}{}_{}_{}iter.csv\".format(framework, clf, split, n_iter)\n",
    "    if not os.path.isfile(file_null):\n",
    "        \n",
    "        df_null[split] = np.zeros((len(domains), n_iter))\n",
    "        for n in range(n_iter):\n",
    "            null = np.random.choice(range(len(docs.columns)), \n",
    "                                    size=len(docs.columns), replace=False)\n",
    "            for i, dom in enumerate(domains):\n",
    "                dom_pmids = dom2docs[dom][split]\n",
    "                dom_vecs = docs.loc[dom_pmids].values\n",
    "                dom_arche = archetypes.values[null,i].reshape(1, archetypes.shape[0])\n",
    "                df_null[split][i,n] = 1.0 - np.mean(cdist(dom_vecs, dom_arche, metric=\"dice\"))\n",
    "            if n % int(n_iter / 10.0) == 0:\n",
    "                print(\"----- Processed {} iterations\".format(n))\n",
    "                \n",
    "        df_null[split] = pd.DataFrame(df_null[split], index=domains, columns=range(n_iter))\n",
    "        df_null[split].to_csv(file_null)\n",
    "        print(\"\")\n",
    "    \n",
    "    else:\n",
    "        df_null[split] = pd.read_csv(file_null, index_col=0, header=0)"
   ]
  },
  {
   "cell_type": "markdown",
   "metadata": {},
   "source": [
    "## Interleave splits to facilitate plotting"
   ]
  },
  {
   "cell_type": "code",
   "execution_count": 19,
   "metadata": {},
   "outputs": [
    {
     "data": {
      "text/html": [
       "<div>\n",
       "<style scoped>\n",
       "    .dataframe tbody tr th:only-of-type {\n",
       "        vertical-align: middle;\n",
       "    }\n",
       "\n",
       "    .dataframe tbody tr th {\n",
       "        vertical-align: top;\n",
       "    }\n",
       "\n",
       "    .dataframe thead th {\n",
       "        text-align: right;\n",
       "    }\n",
       "</style>\n",
       "<table border=\"1\" class=\"dataframe\">\n",
       "  <thead>\n",
       "    <tr style=\"text-align: right;\">\n",
       "      <th></th>\n",
       "      <th>0</th>\n",
       "      <th>1</th>\n",
       "      <th>10</th>\n",
       "      <th>100</th>\n",
       "      <th>101</th>\n",
       "      <th>102</th>\n",
       "      <th>103</th>\n",
       "      <th>104</th>\n",
       "      <th>105</th>\n",
       "      <th>106</th>\n",
       "      <th>...</th>\n",
       "      <th>990</th>\n",
       "      <th>991</th>\n",
       "      <th>992</th>\n",
       "      <th>993</th>\n",
       "      <th>994</th>\n",
       "      <th>995</th>\n",
       "      <th>996</th>\n",
       "      <th>997</th>\n",
       "      <th>998</th>\n",
       "      <th>999</th>\n",
       "    </tr>\n",
       "  </thead>\n",
       "  <tbody>\n",
       "    <tr>\n",
       "      <th>MEMORY_discovery</th>\n",
       "      <td>0.106056</td>\n",
       "      <td>0.131248</td>\n",
       "      <td>0.132349</td>\n",
       "      <td>0.122466</td>\n",
       "      <td>0.137169</td>\n",
       "      <td>0.162623</td>\n",
       "      <td>0.135038</td>\n",
       "      <td>0.096074</td>\n",
       "      <td>0.115331</td>\n",
       "      <td>0.153299</td>\n",
       "      <td>...</td>\n",
       "      <td>0.154838</td>\n",
       "      <td>0.105731</td>\n",
       "      <td>0.154559</td>\n",
       "      <td>0.143744</td>\n",
       "      <td>0.096745</td>\n",
       "      <td>0.120547</td>\n",
       "      <td>0.113793</td>\n",
       "      <td>0.165436</td>\n",
       "      <td>0.094233</td>\n",
       "      <td>0.111934</td>\n",
       "    </tr>\n",
       "    <tr>\n",
       "      <th>MEMORY_replication</th>\n",
       "      <td>0.137554</td>\n",
       "      <td>0.128472</td>\n",
       "      <td>0.129055</td>\n",
       "      <td>0.102271</td>\n",
       "      <td>0.111413</td>\n",
       "      <td>0.122891</td>\n",
       "      <td>0.122138</td>\n",
       "      <td>0.187442</td>\n",
       "      <td>0.097644</td>\n",
       "      <td>0.119157</td>\n",
       "      <td>...</td>\n",
       "      <td>0.108580</td>\n",
       "      <td>0.136902</td>\n",
       "      <td>0.195951</td>\n",
       "      <td>0.129816</td>\n",
       "      <td>0.165828</td>\n",
       "      <td>0.129348</td>\n",
       "      <td>0.092397</td>\n",
       "      <td>0.114573</td>\n",
       "      <td>0.122094</td>\n",
       "      <td>0.131707</td>\n",
       "    </tr>\n",
       "    <tr>\n",
       "      <th>REWARD_discovery</th>\n",
       "      <td>0.078094</td>\n",
       "      <td>0.089267</td>\n",
       "      <td>0.130938</td>\n",
       "      <td>0.093389</td>\n",
       "      <td>0.155995</td>\n",
       "      <td>0.070165</td>\n",
       "      <td>0.100845</td>\n",
       "      <td>0.116670</td>\n",
       "      <td>0.070369</td>\n",
       "      <td>0.119188</td>\n",
       "      <td>...</td>\n",
       "      <td>0.121854</td>\n",
       "      <td>0.069452</td>\n",
       "      <td>0.161907</td>\n",
       "      <td>0.044136</td>\n",
       "      <td>0.117919</td>\n",
       "      <td>0.122067</td>\n",
       "      <td>0.147182</td>\n",
       "      <td>0.137547</td>\n",
       "      <td>0.101171</td>\n",
       "      <td>0.085488</td>\n",
       "    </tr>\n",
       "    <tr>\n",
       "      <th>REWARD_replication</th>\n",
       "      <td>0.106705</td>\n",
       "      <td>0.088344</td>\n",
       "      <td>0.152779</td>\n",
       "      <td>0.133248</td>\n",
       "      <td>0.103798</td>\n",
       "      <td>0.080697</td>\n",
       "      <td>0.093174</td>\n",
       "      <td>0.108377</td>\n",
       "      <td>0.154400</td>\n",
       "      <td>0.136599</td>\n",
       "      <td>...</td>\n",
       "      <td>0.101564</td>\n",
       "      <td>0.114348</td>\n",
       "      <td>0.125393</td>\n",
       "      <td>0.094093</td>\n",
       "      <td>0.098181</td>\n",
       "      <td>0.158126</td>\n",
       "      <td>0.072368</td>\n",
       "      <td>0.129911</td>\n",
       "      <td>0.156402</td>\n",
       "      <td>0.078277</td>\n",
       "    </tr>\n",
       "    <tr>\n",
       "      <th>COGNITION_discovery</th>\n",
       "      <td>0.150903</td>\n",
       "      <td>0.158179</td>\n",
       "      <td>0.150194</td>\n",
       "      <td>0.159295</td>\n",
       "      <td>0.157923</td>\n",
       "      <td>0.174496</td>\n",
       "      <td>0.234862</td>\n",
       "      <td>0.134594</td>\n",
       "      <td>0.194833</td>\n",
       "      <td>0.146662</td>\n",
       "      <td>...</td>\n",
       "      <td>0.193302</td>\n",
       "      <td>0.177204</td>\n",
       "      <td>0.169311</td>\n",
       "      <td>0.158764</td>\n",
       "      <td>0.128875</td>\n",
       "      <td>0.151480</td>\n",
       "      <td>0.184675</td>\n",
       "      <td>0.142626</td>\n",
       "      <td>0.133837</td>\n",
       "      <td>0.154470</td>\n",
       "    </tr>\n",
       "  </tbody>\n",
       "</table>\n",
       "<p>5 rows × 1000 columns</p>\n",
       "</div>"
      ],
      "text/plain": [
       "                            0         1        10       100       101  \\\n",
       "MEMORY_discovery     0.106056  0.131248  0.132349  0.122466  0.137169   \n",
       "MEMORY_replication   0.137554  0.128472  0.129055  0.102271  0.111413   \n",
       "REWARD_discovery     0.078094  0.089267  0.130938  0.093389  0.155995   \n",
       "REWARD_replication   0.106705  0.088344  0.152779  0.133248  0.103798   \n",
       "COGNITION_discovery  0.150903  0.158179  0.150194  0.159295  0.157923   \n",
       "\n",
       "                          102       103       104       105       106  ...  \\\n",
       "MEMORY_discovery     0.162623  0.135038  0.096074  0.115331  0.153299  ...   \n",
       "MEMORY_replication   0.122891  0.122138  0.187442  0.097644  0.119157  ...   \n",
       "REWARD_discovery     0.070165  0.100845  0.116670  0.070369  0.119188  ...   \n",
       "REWARD_replication   0.080697  0.093174  0.108377  0.154400  0.136599  ...   \n",
       "COGNITION_discovery  0.174496  0.234862  0.134594  0.194833  0.146662  ...   \n",
       "\n",
       "                          990       991       992       993       994  \\\n",
       "MEMORY_discovery     0.154838  0.105731  0.154559  0.143744  0.096745   \n",
       "MEMORY_replication   0.108580  0.136902  0.195951  0.129816  0.165828   \n",
       "REWARD_discovery     0.121854  0.069452  0.161907  0.044136  0.117919   \n",
       "REWARD_replication   0.101564  0.114348  0.125393  0.094093  0.098181   \n",
       "COGNITION_discovery  0.193302  0.177204  0.169311  0.158764  0.128875   \n",
       "\n",
       "                          995       996       997       998       999  \n",
       "MEMORY_discovery     0.120547  0.113793  0.165436  0.094233  0.111934  \n",
       "MEMORY_replication   0.129348  0.092397  0.114573  0.122094  0.131707  \n",
       "REWARD_discovery     0.122067  0.147182  0.137547  0.101171  0.085488  \n",
       "REWARD_replication   0.158126  0.072368  0.129911  0.156402  0.078277  \n",
       "COGNITION_discovery  0.151480  0.184675  0.142626  0.133837  0.154470  \n",
       "\n",
       "[5 rows x 1000 columns]"
      ]
     },
     "execution_count": 19,
     "metadata": {},
     "output_type": "execute_result"
    }
   ],
   "source": [
    "df_null_interleaved = pd.DataFrame()\n",
    "null_idx = []\n",
    "for dom in domains:\n",
    "    for split in [\"discovery\", \"replication\"]:\n",
    "        df_null_interleaved = df_null_interleaved.append(df_null[split].loc[dom])\n",
    "        null_idx.append(dom + \"_\" + split)\n",
    "df_null_interleaved.index = null_idx\n",
    "df_null_interleaved.head()"
   ]
  },
  {
   "cell_type": "markdown",
   "metadata": {},
   "source": [
    "## Bootstrap distributions"
   ]
  },
  {
   "cell_type": "code",
   "execution_count": 20,
   "metadata": {},
   "outputs": [
    {
     "name": "stdout",
     "output_type": "stream",
     "text": [
      "Processing discovery split (N=12708 documents)\n",
      "Processing replication split (N=5447 documents)\n"
     ]
    }
   ],
   "source": [
    "df_boot = {}\n",
    "for split, split_pmids in splits.items():\n",
    "    \n",
    "    print(\"Processing {} split (N={} documents)\".format(split, len(split_pmids)))\n",
    "    \n",
    "    file_boot = \"data/arche_boot_{}{}_{}_{}iter.csv\".format(framework, clf, split, n_iter)\n",
    "    if not os.path.isfile(file_boot):\n",
    "        \n",
    "        df_boot[split] = np.zeros((len(domains), n_iter))\n",
    "        for n in range(n_iter):\n",
    "            boot = np.random.choice(range(len(docs.columns)), \n",
    "                                    size=len(docs.columns), replace=True)\n",
    "            for i, dom in enumerate(domains):\n",
    "                dom_pmids = dom2docs[dom][split]\n",
    "                dom_vecs = docs.loc[dom_pmids].values[:,boot]\n",
    "                dom_arche = archetypes.values[boot,i].reshape(1, archetypes.shape[0])\n",
    "                df_boot[split][i,n] = 1.0 - np.mean(cdist(dom_vecs, dom_arche, metric=\"dice\"))\n",
    "            if n % int(n_iter / 10.0) == 0:\n",
    "                print(\"----- Processed {} iterations\".format(n))\n",
    "        \n",
    "        df_boot[split] = pd.DataFrame(df_boot[split], index=domains, columns=range(n_iter))\n",
    "        df_boot[split].to_csv(file_boot)\n",
    "        print(\"\")\n",
    "    \n",
    "    else:\n",
    "        df_boot[split] = pd.read_csv(file_boot, index_col=0, header=0)"
   ]
  },
  {
   "cell_type": "markdown",
   "metadata": {},
   "source": [
    "# Perform significance testing"
   ]
  },
  {
   "cell_type": "code",
   "execution_count": 21,
   "metadata": {},
   "outputs": [],
   "source": [
    "from statsmodels.stats import multitest"
   ]
  },
  {
   "cell_type": "code",
   "execution_count": 22,
   "metadata": {},
   "outputs": [
    {
     "name": "stdout",
     "output_type": "stream",
     "text": [
      "-----------------------------------------------------------------\n",
      "DISCOVERY\n",
      "-----------------------------------------------------------------\n",
      "              OBSERVED    P  FDR STARS\n",
      "MEMORY        0.338104  0.0  0.0     *\n",
      "REWARD        0.322765  0.0  0.0     *\n",
      "COGNITION     0.356133  0.0  0.0     *\n",
      "VISION        0.387822  0.0  0.0     *\n",
      "MANIPULATION  0.413353  0.0  0.0     *\n",
      "LANGUAGE      0.400475  0.0  0.0     *\n",
      "\n",
      "-----------------------------------------------------------------\n",
      "REPLICATION\n",
      "-----------------------------------------------------------------\n",
      "              OBSERVED    P  FDR STARS\n",
      "MEMORY        0.353518  0.0  0.0     *\n",
      "REWARD        0.320048  0.0  0.0     *\n",
      "COGNITION     0.356939  0.0  0.0     *\n",
      "VISION        0.390347  0.0  0.0     *\n",
      "MANIPULATION  0.410212  0.0  0.0     *\n",
      "LANGUAGE      0.403984  0.0  0.0     *\n",
      "\n"
     ]
    }
   ],
   "source": [
    "df_stat = {}\n",
    "\n",
    "for split, split_pmids in splits.items():\n",
    "    \n",
    "    df_stat[split] = pd.DataFrame(index=domains)\n",
    "    \n",
    "    pval = []\n",
    "    for dom in domains:   \n",
    "        dom_obs = df_obs.loc[(df_obs[\"SPLIT\"] == split) & (df_obs[\"DOMAIN\"] == dom), \"OBSERVED\"].mean()\n",
    "        df_stat[split].loc[dom, \"OBSERVED\"] = dom_obs\n",
    "        \n",
    "        dom_null = df_null[split].loc[dom].values\n",
    "        p = np.sum(dom_null >= dom_obs) / float(n_iter)\n",
    "        pval.append(p)\n",
    "        df_stat[split].loc[dom, \"P\"] = p\n",
    "    \n",
    "    df_stat[split][\"FDR\"] = multitest.multipletests(pval, method=\"fdr_bh\")[1]\n",
    "    \n",
    "    for dom in domains:\n",
    "        if df_stat[split].loc[dom, \"FDR\"] < alpha:\n",
    "            df_stat[split].loc[dom, \"STARS\"] = \"*\"\n",
    "        else:\n",
    "            df_stat[split].loc[dom, \"STARS\"] = \"\"\n",
    "    \n",
    "    df_stat[split] = df_stat[split].loc[domains, [\"OBSERVED\", \"P\", \"FDR\", \"STARS\"]]\n",
    "    df_stat[split].to_csv(\"data/arche_mean_{}{}_{}.csv\".format(framework, clf, split))\n",
    "    \n",
    "    print(\"-\" * 65 + \"\\n\" + split.upper() + \"\\n\" + \"-\" * 65)\n",
    "    print(df_stat[split])\n",
    "    print(\"\")"
   ]
  },
  {
   "cell_type": "markdown",
   "metadata": {},
   "source": [
    "# Plot results"
   ]
  },
  {
   "cell_type": "code",
   "execution_count": 23,
   "metadata": {},
   "outputs": [],
   "source": [
    "%matplotlib inline"
   ]
  },
  {
   "cell_type": "code",
   "execution_count": 24,
   "metadata": {},
   "outputs": [
    {
     "data": {
      "image/png": "[encoded data removed]",
      "text/plain": [
       "<Figure size 266.4x151.2 with 1 Axes>"
      ]
     },
     "metadata": {},
     "output_type": "display_data"
    }
   ],
   "source": [
    "utilities.plot_split_violins(framework, domains, df_obs, df_null_interleaved, df_stat, \n",
    "                             style.palettes[framework], metric=\"arche\", dx=dx, ds=ds, \n",
    "                             ylim=[-0.25,1], yticks=[-0.25,0,0.25,0.5,0.75,1], \n",
    "                             interval=0.999, alphas=[0], suffix=clf, figsize=(3.7, 2.1))"
   ]
  },
  {
   "cell_type": "code",
   "execution_count": null,
   "metadata": {},
   "outputs": [],
   "source": []
  }
 ],
 "metadata": {
  "kernelspec": {
   "display_name": "Python [conda env:ontol] *",
   "language": "python",
   "name": "conda-env-ontol-py"
  },
  "language_info": {
   "codemirror_mode": {
    "name": "ipython",
    "version": 3
   },
   "file_extension": ".py",
   "mimetype": "text/x-python",
   "name": "python",
   "nbconvert_exporter": "python",
   "pygments_lexer": "ipython3",
   "version": "3.6.8"
  }
 },
 "nbformat": 4,
 "nbformat_minor": 2
}
