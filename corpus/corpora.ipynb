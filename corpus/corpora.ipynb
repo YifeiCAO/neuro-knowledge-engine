{
 "cells": [
  {
   "cell_type": "code",
   "execution_count": 1,
   "metadata": {},
   "outputs": [],
   "source": [
    "import os\n",
    "import pandas as pd\n",
    "import numpy as np"
   ]
  },
  {
   "cell_type": "markdown",
   "metadata": {},
   "source": [
    "# Corpus with coordinates\n",
    "\n",
    "## Number of documents"
   ]
  },
  {
   "cell_type": "code",
   "execution_count": 2,
   "metadata": {},
   "outputs": [
    {
     "data": {
      "text/html": [
       "<div>\n",
       "<style scoped>\n",
       "    .dataframe tbody tr th:only-of-type {\n",
       "        vertical-align: middle;\n",
       "    }\n",
       "\n",
       "    .dataframe tbody tr th {\n",
       "        vertical-align: top;\n",
       "    }\n",
       "\n",
       "    .dataframe thead th {\n",
       "        text-align: right;\n",
       "    }\n",
       "</style>\n",
       "<table border=\"1\" class=\"dataframe\">\n",
       "  <thead>\n",
       "    <tr style=\"text-align: right;\">\n",
       "      <th></th>\n",
       "      <th>PMID</th>\n",
       "      <th>DOI</th>\n",
       "      <th>KEY</th>\n",
       "      <th>SOURCE</th>\n",
       "      <th>AUTHORS</th>\n",
       "      <th>YEAR</th>\n",
       "      <th>MONTH</th>\n",
       "      <th>JOURNAL</th>\n",
       "      <th>TITLE</th>\n",
       "      <th>PAGES</th>\n",
       "      <th>VOLUME</th>\n",
       "      <th>ABSTRACT_URL</th>\n",
       "      <th>NUM_COORDINATES</th>\n",
       "      <th>MNI_COORDINATES</th>\n",
       "      <th>BRAINMAP_ID</th>\n",
       "      <th>BEHAVIORAL_DOMAIN</th>\n",
       "      <th>EXPERIMENT</th>\n",
       "      <th>DESCRIPTION</th>\n",
       "    </tr>\n",
       "  </thead>\n",
       "  <tbody>\n",
       "    <tr>\n",
       "      <th>0</th>\n",
       "      <td>1402966</td>\n",
       "      <td>NaN</td>\n",
       "      <td>Dolan R J, 1992</td>\n",
       "      <td>BrainMap</td>\n",
       "      <td>Dolan R J|Bench C J|Brown R G|Scott L C|Fristo...</td>\n",
       "      <td>1992.0</td>\n",
       "      <td>Sep</td>\n",
       "      <td>Journal of Neurology, Neurosurgery, and Psychi...</td>\n",
       "      <td>Regional cerebral blood flow abnormalities in ...</td>\n",
       "      <td>768-773</td>\n",
       "      <td>55</td>\n",
       "      <td>http://www.ncbi.nlm.nih.gov/entrez/query.fcgi?...</td>\n",
       "      <td>7.0</td>\n",
       "      <td>-7.66,51.87,-8.33;-5.51,56.46,-4.28;-5.48,58.9...</td>\n",
       "      <td>6030020.0</td>\n",
       "      <td>['Action.Rest', 'Action.Rest']</td>\n",
       "      <td>['Unimpaired &gt; Impaired', 'Impaired &gt; Unimpair...</td>\n",
       "      <td>Patients with depression who were cognitively ...</td>\n",
       "    </tr>\n",
       "  </tbody>\n",
       "</table>\n",
       "</div>"
      ],
      "text/plain": [
       "      PMID  DOI              KEY    SOURCE  \\\n",
       "0  1402966  NaN  Dolan R J, 1992  BrainMap   \n",
       "\n",
       "                                             AUTHORS    YEAR MONTH  \\\n",
       "0  Dolan R J|Bench C J|Brown R G|Scott L C|Fristo...  1992.0   Sep   \n",
       "\n",
       "                                             JOURNAL  \\\n",
       "0  Journal of Neurology, Neurosurgery, and Psychi...   \n",
       "\n",
       "                                               TITLE    PAGES VOLUME  \\\n",
       "0  Regional cerebral blood flow abnormalities in ...  768-773     55   \n",
       "\n",
       "                                        ABSTRACT_URL  NUM_COORDINATES  \\\n",
       "0  http://www.ncbi.nlm.nih.gov/entrez/query.fcgi?...              7.0   \n",
       "\n",
       "                                     MNI_COORDINATES  BRAINMAP_ID  \\\n",
       "0  -7.66,51.87,-8.33;-5.51,56.46,-4.28;-5.48,58.9...    6030020.0   \n",
       "\n",
       "                BEHAVIORAL_DOMAIN  \\\n",
       "0  ['Action.Rest', 'Action.Rest']   \n",
       "\n",
       "                                          EXPERIMENT  \\\n",
       "0  ['Unimpaired > Impaired', 'Impaired > Unimpair...   \n",
       "\n",
       "                                         DESCRIPTION  \n",
       "0  Patients with depression who were cognitively ...  "
      ]
     },
     "execution_count": 2,
     "metadata": {},
     "output_type": "execute_result"
    }
   ],
   "source": [
    "meta = pd.read_csv(\"../data/metadata.csv\", index_col=None, encoding=\"latin1\")\n",
    "meta = meta.dropna(subset=[\"PMID\"])\n",
    "meta[\"PMID\"] = meta[\"PMID\"].astype(int)\n",
    "meta.head(1)"
   ]
  },
  {
   "cell_type": "code",
   "execution_count": 3,
   "metadata": {},
   "outputs": [
    {
     "data": {
      "text/plain": [
       "18155"
      ]
     },
     "execution_count": 3,
     "metadata": {},
     "output_type": "execute_result"
    }
   ],
   "source": [
    "# All with coordinates\n",
    "coord = set(meta[\"PMID\"])\n",
    "len(coord)"
   ]
  },
  {
   "cell_type": "code",
   "execution_count": 4,
   "metadata": {},
   "outputs": [
    {
     "data": {
      "text/plain": [
       "12676"
      ]
     },
     "execution_count": 4,
     "metadata": {},
     "output_type": "execute_result"
    }
   ],
   "source": [
    "# Neurosynth\n",
    "ns = set(meta.loc[meta[\"SOURCE\"] == \"Neurosynth\", \"PMID\"])\n",
    "len(ns)"
   ]
  },
  {
   "cell_type": "code",
   "execution_count": 5,
   "metadata": {},
   "outputs": [
    {
     "data": {
      "text/plain": [
       "3346"
      ]
     },
     "execution_count": 5,
     "metadata": {},
     "output_type": "execute_result"
    }
   ],
   "source": [
    "# BrainMap\n",
    "bm = set(meta.loc[meta[\"SOURCE\"] == \"BrainMap\", \"PMID\"])\n",
    "len(bm)"
   ]
  },
  {
   "cell_type": "code",
   "execution_count": 6,
   "metadata": {},
   "outputs": [
    {
     "data": {
      "text/plain": [
       "2133"
      ]
     },
     "execution_count": 6,
     "metadata": {},
     "output_type": "execute_result"
    }
   ],
   "source": [
    "# ACE\n",
    "ace = set(meta.loc[meta[\"SOURCE\"] == \"ACE\", \"PMID\"])\n",
    "len(ace)"
   ]
  },
  {
   "cell_type": "code",
   "execution_count": 7,
   "metadata": {},
   "outputs": [
    {
     "data": {
      "text/plain": [
       "True"
      ]
     },
     "execution_count": 7,
     "metadata": {},
     "output_type": "execute_result"
    }
   ],
   "source": [
    "len(ns) + len(bm) + len(ace) == len(coord)"
   ]
  },
  {
   "cell_type": "markdown",
   "metadata": {},
   "source": [
    "## Number of words"
   ]
  },
  {
   "cell_type": "code",
   "execution_count": 8,
   "metadata": {},
   "outputs": [],
   "source": [
    "def compute_word_count(corpus):\n",
    "    word_counts = []\n",
    "    for pmid in corpus:\n",
    "        file = \"../../nlp/corpus/{}.txt\".format(pmid)\n",
    "        words = open(file, \"r\").read().replace(\"_\", \" \").split()\n",
    "        word_counts.append(len(words))\n",
    "    return word_counts"
   ]
  },
  {
   "cell_type": "code",
   "execution_count": 9,
   "metadata": {},
   "outputs": [
    {
     "data": {
      "text/plain": [
       "128170267"
      ]
     },
     "execution_count": 9,
     "metadata": {},
     "output_type": "execute_result"
    }
   ],
   "source": [
    "# Total word count\n",
    "coord_words = compute_word_count(coord)\n",
    "np.sum(coord_words)"
   ]
  },
  {
   "cell_type": "code",
   "execution_count": 10,
   "metadata": {},
   "outputs": [
    {
     "data": {
      "text/plain": [
       "7059.777857339576"
      ]
     },
     "execution_count": 10,
     "metadata": {},
     "output_type": "execute_result"
    }
   ],
   "source": [
    "np.mean(coord_words)"
   ]
  },
  {
   "cell_type": "code",
   "execution_count": 11,
   "metadata": {},
   "outputs": [
    {
     "data": {
      "text/plain": [
       "2203.8275671295714"
      ]
     },
     "execution_count": 11,
     "metadata": {},
     "output_type": "execute_result"
    }
   ],
   "source": [
    "np.std(coord_words)"
   ]
  },
  {
   "cell_type": "markdown",
   "metadata": {},
   "source": [
    "# General neuroimaging corpus\n",
    "\n",
    "## Number of documents"
   ]
  },
  {
   "cell_type": "code",
   "execution_count": 12,
   "metadata": {},
   "outputs": [
    {
     "data": {
      "text/plain": [
       "29828"
      ]
     },
     "execution_count": 12,
     "metadata": {},
     "output_type": "execute_result"
    }
   ],
   "source": [
    "gen = set([int(file.replace(\".txt\", \"\")) for file in os.listdir(\"../../nlp/corpus\") if not file.startswith(\".\")])\n",
    "gen = gen.intersection([int(pmid.strip()) for pmid in open(\"../../pubmed/query_190428/pmids.txt\").readlines()])\n",
    "gen = gen.union(coord)\n",
    "len(gen)"
   ]
  },
  {
   "cell_type": "code",
   "execution_count": 13,
   "metadata": {},
   "outputs": [
    {
     "data": {
      "text/plain": [
       "20423"
      ]
     },
     "execution_count": 13,
     "metadata": {},
     "output_type": "execute_result"
    }
   ],
   "source": [
    "gen_pm = [int(pmid.strip()) for pmid in open(\"../../pubmed/query_190428/pmids.txt\").readlines()]\n",
    "gen_pm = set(gen_pm).intersection(gen)\n",
    "len(gen_pm)"
   ]
  },
  {
   "cell_type": "code",
   "execution_count": 14,
   "metadata": {},
   "outputs": [
    {
     "data": {
      "text/plain": [
       "6146"
      ]
     },
     "execution_count": 14,
     "metadata": {},
     "output_type": "execute_result"
    }
   ],
   "source": [
    "# In Neurosynth and PubMed\n",
    "len(gen_pm.intersection(ns))"
   ]
  },
  {
   "cell_type": "code",
   "execution_count": 15,
   "metadata": {},
   "outputs": [
    {
     "data": {
      "text/plain": [
       "6530"
      ]
     },
     "execution_count": 15,
     "metadata": {},
     "output_type": "execute_result"
    }
   ],
   "source": [
    "# In Neurosynth but not PubMed\n",
    "len(ns.difference(gen_pm))"
   ]
  },
  {
   "cell_type": "code",
   "execution_count": 16,
   "metadata": {},
   "outputs": [
    {
     "data": {
      "text/plain": [
       "1706"
      ]
     },
     "execution_count": 16,
     "metadata": {},
     "output_type": "execute_result"
    }
   ],
   "source": [
    "# In BrainMap and PubMed\n",
    "len(gen_pm.intersection(bm))"
   ]
  },
  {
   "cell_type": "code",
   "execution_count": 17,
   "metadata": {},
   "outputs": [
    {
     "data": {
      "text/plain": [
       "1640"
      ]
     },
     "execution_count": 17,
     "metadata": {},
     "output_type": "execute_result"
    }
   ],
   "source": [
    "# In BrainMap but not PubMed\n",
    "len(bm.difference(gen_pm))"
   ]
  },
  {
   "cell_type": "code",
   "execution_count": 18,
   "metadata": {},
   "outputs": [
    {
     "data": {
      "text/plain": [
       "898"
      ]
     },
     "execution_count": 18,
     "metadata": {},
     "output_type": "execute_result"
    }
   ],
   "source": [
    "# In ACE and PubMed\n",
    "len(gen_pm.intersection(ace))"
   ]
  },
  {
   "cell_type": "code",
   "execution_count": 19,
   "metadata": {},
   "outputs": [
    {
     "data": {
      "text/plain": [
       "1235"
      ]
     },
     "execution_count": 19,
     "metadata": {},
     "output_type": "execute_result"
    }
   ],
   "source": [
    "# In ACE but not PubMed\n",
    "len(ace.difference(gen_pm))"
   ]
  },
  {
   "cell_type": "code",
   "execution_count": 20,
   "metadata": {},
   "outputs": [
    {
     "data": {
      "text/plain": [
       "11673"
      ]
     },
     "execution_count": 20,
     "metadata": {},
     "output_type": "execute_result"
    }
   ],
   "source": [
    "# Just in PubMed\n",
    "len(gen.difference(coord))"
   ]
  },
  {
   "cell_type": "markdown",
   "metadata": {},
   "source": [
    "## Number of words"
   ]
  },
  {
   "cell_type": "code",
   "execution_count": 21,
   "metadata": {},
   "outputs": [
    {
     "data": {
      "text/plain": [
       "203261251"
      ]
     },
     "execution_count": 21,
     "metadata": {},
     "output_type": "execute_result"
    }
   ],
   "source": [
    "gen_words = compute_word_count(gen)\n",
    "np.sum(gen_words)"
   ]
  },
  {
   "cell_type": "code",
   "execution_count": 22,
   "metadata": {},
   "outputs": [
    {
     "data": {
      "text/plain": [
       "6814.444515220598"
      ]
     },
     "execution_count": 22,
     "metadata": {},
     "output_type": "execute_result"
    }
   ],
   "source": [
    "np.mean(gen_words)"
   ]
  },
  {
   "cell_type": "code",
   "execution_count": 23,
   "metadata": {},
   "outputs": [
    {
     "data": {
      "text/plain": [
       "2548.5354720450955"
      ]
     },
     "execution_count": 23,
     "metadata": {},
     "output_type": "execute_result"
    }
   ],
   "source": [
    "np.std(gen_words)"
   ]
  },
  {
   "cell_type": "markdown",
   "metadata": {},
   "source": [
    "# Psychiatric neuroimaging corpus\n",
    "\n",
    "## Number of documents"
   ]
  },
  {
   "cell_type": "code",
   "execution_count": 24,
   "metadata": {},
   "outputs": [
    {
     "data": {
      "text/plain": [
       "26070"
      ]
     },
     "execution_count": 24,
     "metadata": {},
     "output_type": "execute_result"
    }
   ],
   "source": [
    "psy = set([int(file.replace(\".txt\", \"\")) for file in os.listdir(\"../../nlp/corpus\") if not file.startswith(\".\")])\n",
    "psy = set([int(file.replace(\".txt\", \"\")) for file in os.listdir(\"../../dsm/corpus\") if not file.startswith(\".\")])\n",
    "psy = psy.intersection([int(pmid.strip()) for pmid in open(\"../../dsm/query_190428/pmids.txt\").readlines()])\n",
    "psy = psy.union(coord)\n",
    "len(psy)"
   ]
  },
  {
   "cell_type": "code",
   "execution_count": 25,
   "metadata": {},
   "outputs": [
    {
     "data": {
      "text/plain": [
       "13954"
      ]
     },
     "execution_count": 25,
     "metadata": {},
     "output_type": "execute_result"
    }
   ],
   "source": [
    "psy_pm = [int(pmid.strip()) for pmid in open(\"../../dsm/query_190214/pmids.txt\").readlines()]\n",
    "psy_pm = set(psy_pm).intersection(psy)\n",
    "len(psy_pm)"
   ]
  },
  {
   "cell_type": "code",
   "execution_count": 26,
   "metadata": {},
   "outputs": [
    {
     "data": {
      "text/plain": [
       "3794"
      ]
     },
     "execution_count": 26,
     "metadata": {},
     "output_type": "execute_result"
    }
   ],
   "source": [
    "# In Neurosynth and PubMed\n",
    "len(psy_pm.intersection(ns))"
   ]
  },
  {
   "cell_type": "code",
   "execution_count": 27,
   "metadata": {},
   "outputs": [
    {
     "data": {
      "text/plain": [
       "8882"
      ]
     },
     "execution_count": 27,
     "metadata": {},
     "output_type": "execute_result"
    }
   ],
   "source": [
    "# In Neurosynth but not PubMed\n",
    "len(ns.difference(psy_pm))"
   ]
  },
  {
   "cell_type": "code",
   "execution_count": 28,
   "metadata": {},
   "outputs": [
    {
     "data": {
      "text/plain": [
       "1156"
      ]
     },
     "execution_count": 28,
     "metadata": {},
     "output_type": "execute_result"
    }
   ],
   "source": [
    "# In BrainMap and PubMed\n",
    "len(psy_pm.intersection(bm))"
   ]
  },
  {
   "cell_type": "code",
   "execution_count": 29,
   "metadata": {},
   "outputs": [
    {
     "data": {
      "text/plain": [
       "2190"
      ]
     },
     "execution_count": 29,
     "metadata": {},
     "output_type": "execute_result"
    }
   ],
   "source": [
    "# In BrainMap but not PubMed\n",
    "len(bm.difference(psy_pm))"
   ]
  },
  {
   "cell_type": "code",
   "execution_count": 30,
   "metadata": {},
   "outputs": [
    {
     "data": {
      "text/plain": [
       "1089"
      ]
     },
     "execution_count": 30,
     "metadata": {},
     "output_type": "execute_result"
    }
   ],
   "source": [
    "# In ACE and PubMEd\n",
    "len(psy_pm.intersection(ace))"
   ]
  },
  {
   "cell_type": "code",
   "execution_count": 31,
   "metadata": {},
   "outputs": [
    {
     "data": {
      "text/plain": [
       "1044"
      ]
     },
     "execution_count": 31,
     "metadata": {},
     "output_type": "execute_result"
    }
   ],
   "source": [
    "# In ACE but not PubMEd\n",
    "len(ace.difference(psy_pm))"
   ]
  },
  {
   "cell_type": "code",
   "execution_count": 32,
   "metadata": {},
   "outputs": [
    {
     "data": {
      "text/plain": [
       "7915"
      ]
     },
     "execution_count": 32,
     "metadata": {},
     "output_type": "execute_result"
    }
   ],
   "source": [
    "# Just from PubMed\n",
    "len(psy.difference(coord))"
   ]
  },
  {
   "cell_type": "markdown",
   "metadata": {},
   "source": [
    "# Corpus diameters"
   ]
  },
  {
   "cell_type": "code",
   "execution_count": 33,
   "metadata": {},
   "outputs": [],
   "source": [
    "from math import pi"
   ]
  },
  {
   "cell_type": "code",
   "execution_count": 34,
   "metadata": {},
   "outputs": [
    {
     "name": "stdout",
     "output_type": "stream",
     "text": [
      "Neurosynth                2.541\t(n = 12676)\n",
      "BrainMap                  1.305\t(n = 3346)\n",
      "ACE                       1.042\t(n = 2133)\n",
      "PubMed (General)          3.225\t(n = 20423)\n",
      "PubMed (Psychiatric)      2.666\t(n = 13954)\n"
     ]
    }
   ],
   "source": [
    "labels = [\"Neurosynth\", \"BrainMap\", \"ACE\", \"PubMed (General)\", \"PubMed (Psychiatric)\"]\n",
    "corpora = [ns, bm, ace, gen_pm, psy_pm]\n",
    "scalar = 2500.0\n",
    "for label, corpus in zip(labels, corpora):\n",
    "    area = len(corpus) / scalar\n",
    "    diameter = 2 * (area / pi) ** 0.5\n",
    "    print(\"{:22s} {:8.3f}\\t(n = {})\".format(label, diameter, len(corpus)))"
   ]
  }
 ],
 "metadata": {
  "kernelspec": {
   "display_name": "Python [conda env:ontol]",
   "language": "python",
   "name": "conda-env-ontol-py"
  },
  "language_info": {
   "codemirror_mode": {
    "name": "ipython",
    "version": 3
   },
   "file_extension": ".py",
   "mimetype": "text/x-python",
   "name": "python",
   "nbconvert_exporter": "python",
   "pygments_lexer": "ipython3",
   "version": "3.6.8"
  }
 },
 "nbformat": 4,
 "nbformat_minor": 2
}
