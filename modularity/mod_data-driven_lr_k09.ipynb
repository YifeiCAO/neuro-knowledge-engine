{
 "cells": [
  {
   "cell_type": "markdown",
   "metadata": {},
   "source": [
    "# Introduction\n",
    "\n",
    "In a prior notebook, documents were partitioned by assigning them to the domain with the highest Dice similarity of their term and structure occurrences. Here, we'll assess whether the observed modularity of the partitions is greater than expected by chance. Modularity will be measured by the ratio of dispersion between partitions to dispersion within partitions.\n",
    "\n",
    "# Load the data"
   ]
  },
  {
   "cell_type": "code",
   "execution_count": 1,
   "metadata": {},
   "outputs": [],
   "source": [
    "import pandas as pd\n",
    "import numpy as np\n",
    "np.random.seed(42)\n",
    "\n",
    "import sys\n",
    "sys.path.append(\"..\")\n",
    "import utilities\n",
    "from style import style"
   ]
  },
  {
   "cell_type": "code",
   "execution_count": 2,
   "metadata": {},
   "outputs": [],
   "source": [
    "framework = \"data-driven_k09\" \n",
    "version = 190325 # Document-term matrix version\n",
    "suffix = \"\" # Suffix for term lists\n",
    "clf = \"_lr\" # Suffix for data-driven classifiers\n",
    "n_iter = 1000 # Iterations for bootstrap and null\n",
    "dx = [0.34, 0.31, 0.37, 0.33, 0.31, 0.34, 0.32, 0.33, 0.34] # Nudges for plotted means\n",
    "alpha = 0.001 # Significance level for statistical comparisons"
   ]
  },
  {
   "cell_type": "markdown",
   "metadata": {},
   "source": [
    "## Brain activation coordinates"
   ]
  },
  {
   "cell_type": "code",
   "execution_count": 3,
   "metadata": {},
   "outputs": [
    {
     "name": "stdout",
     "output_type": "stream",
     "text": [
      "Document N=18155, Structure N=118\n"
     ]
    }
   ],
   "source": [
    "act_bin = utilities.load_coordinates()\n",
    "print(\"Document N={}, Structure N={}\".format(\n",
    "      act_bin.shape[0], act_bin.shape[1]))"
   ]
  },
  {
   "cell_type": "markdown",
   "metadata": {},
   "source": [
    "## Document-term matrix"
   ]
  },
  {
   "cell_type": "code",
   "execution_count": 4,
   "metadata": {},
   "outputs": [
    {
     "name": "stdout",
     "output_type": "stream",
     "text": [
      "Document N=18155, Term N=4107\n"
     ]
    }
   ],
   "source": [
    "dtm_bin = utilities.load_doc_term_matrix(version=version, binarize=True)\n",
    "print(\"Document N={}, Term N={}\".format(\n",
    "      dtm_bin.shape[0], dtm_bin.shape[1]))"
   ]
  },
  {
   "cell_type": "markdown",
   "metadata": {},
   "source": [
    "## Domain archetypes"
   ]
  },
  {
   "cell_type": "code",
   "execution_count": 5,
   "metadata": {},
   "outputs": [],
   "source": [
    "from collections import OrderedDict"
   ]
  },
  {
   "cell_type": "code",
   "execution_count": 6,
   "metadata": {},
   "outputs": [],
   "source": [
    "lists, circuits = utilities.load_framework(framework, suffix=suffix, clf=clf)"
   ]
  },
  {
   "cell_type": "code",
   "execution_count": 7,
   "metadata": {},
   "outputs": [],
   "source": [
    "words = sorted(list(set(lists[\"TOKEN\"])))\n",
    "structures = sorted(list(set(act_bin.columns)))\n",
    "domains = list(OrderedDict.fromkeys(lists[\"DOMAIN\"]))"
   ]
  },
  {
   "cell_type": "code",
   "execution_count": 8,
   "metadata": {},
   "outputs": [
    {
     "name": "stdout",
     "output_type": "stream",
     "text": [
      "Term & Structure N=224, Domain N=9\n"
     ]
    }
   ],
   "source": [
    "archetypes = pd.DataFrame(0.0, index=words+structures, columns=domains)\n",
    "for dom in domains:\n",
    "    for word in lists.loc[lists[\"DOMAIN\"] == dom, \"TOKEN\"]:\n",
    "        archetypes.loc[word, dom] = 1.0\n",
    "    for struct in structures:\n",
    "        archetypes.loc[struct, dom] = circuits.loc[struct, dom]\n",
    "archetypes[archetypes > 0.0] = 1.0\n",
    "print(\"Term & Structure N={}, Domain N={}\".format(\n",
    "      archetypes.shape[0], archetypes.shape[1]))"
   ]
  },
  {
   "cell_type": "markdown",
   "metadata": {},
   "source": [
    "## Document structure-term vectors"
   ]
  },
  {
   "cell_type": "code",
   "execution_count": 9,
   "metadata": {},
   "outputs": [
    {
     "data": {
      "text/plain": [
       "18155"
      ]
     },
     "execution_count": 9,
     "metadata": {},
     "output_type": "execute_result"
    }
   ],
   "source": [
    "pmids = dtm_bin.index.intersection(act_bin.index)\n",
    "len(pmids)"
   ]
  },
  {
   "cell_type": "code",
   "execution_count": 10,
   "metadata": {},
   "outputs": [],
   "source": [
    "dtm_words = dtm_bin.loc[pmids, words]\n",
    "act_structs = act_bin.loc[pmids, structures]"
   ]
  },
  {
   "cell_type": "code",
   "execution_count": 11,
   "metadata": {},
   "outputs": [
    {
     "data": {
      "text/html": [
       "<div>\n",
       "<style scoped>\n",
       "    .dataframe tbody tr th:only-of-type {\n",
       "        vertical-align: middle;\n",
       "    }\n",
       "\n",
       "    .dataframe tbody tr th {\n",
       "        vertical-align: top;\n",
       "    }\n",
       "\n",
       "    .dataframe thead th {\n",
       "        text-align: right;\n",
       "    }\n",
       "</style>\n",
       "<table border=\"1\" class=\"dataframe\">\n",
       "  <thead>\n",
       "    <tr style=\"text-align: right;\">\n",
       "      <th></th>\n",
       "      <th>action</th>\n",
       "      <th>anticipation</th>\n",
       "      <th>arousal</th>\n",
       "      <th>attention</th>\n",
       "      <th>auditory_perception</th>\n",
       "      <th>autobiographical_memory</th>\n",
       "      <th>cognition</th>\n",
       "      <th>cognitive</th>\n",
       "      <th>cognitive_control</th>\n",
       "      <th>cognitive_process</th>\n",
       "      <th>...</th>\n",
       "      <th>right_superior_temporal_gyrus_posterior_division</th>\n",
       "      <th>right_supplementary_motor_cortex</th>\n",
       "      <th>right_supracalcarine_cortex</th>\n",
       "      <th>right_supramarginal_gyrus_anterior_division</th>\n",
       "      <th>right_supramarginal_gyrus_posterior_division</th>\n",
       "      <th>right_temporal_fusiform_cortex_anterior_division</th>\n",
       "      <th>right_temporal_fusiform_cortex_posterior_division</th>\n",
       "      <th>right_temporal_occipital_fusiform_cortex</th>\n",
       "      <th>right_temporal_pole</th>\n",
       "      <th>right_thalamus</th>\n",
       "    </tr>\n",
       "  </thead>\n",
       "  <tbody>\n",
       "    <tr>\n",
       "      <th>10022492</th>\n",
       "      <td>0.0</td>\n",
       "      <td>1.0</td>\n",
       "      <td>0.0</td>\n",
       "      <td>0.0</td>\n",
       "      <td>0.0</td>\n",
       "      <td>0.0</td>\n",
       "      <td>0.0</td>\n",
       "      <td>1.0</td>\n",
       "      <td>0.0</td>\n",
       "      <td>0.0</td>\n",
       "      <td>...</td>\n",
       "      <td>0</td>\n",
       "      <td>1</td>\n",
       "      <td>0</td>\n",
       "      <td>1</td>\n",
       "      <td>0</td>\n",
       "      <td>0</td>\n",
       "      <td>0</td>\n",
       "      <td>0</td>\n",
       "      <td>0</td>\n",
       "      <td>1</td>\n",
       "    </tr>\n",
       "    <tr>\n",
       "      <th>10022494</th>\n",
       "      <td>0.0</td>\n",
       "      <td>0.0</td>\n",
       "      <td>0.0</td>\n",
       "      <td>0.0</td>\n",
       "      <td>0.0</td>\n",
       "      <td>0.0</td>\n",
       "      <td>0.0</td>\n",
       "      <td>0.0</td>\n",
       "      <td>0.0</td>\n",
       "      <td>1.0</td>\n",
       "      <td>...</td>\n",
       "      <td>1</td>\n",
       "      <td>1</td>\n",
       "      <td>1</td>\n",
       "      <td>1</td>\n",
       "      <td>0</td>\n",
       "      <td>0</td>\n",
       "      <td>0</td>\n",
       "      <td>1</td>\n",
       "      <td>0</td>\n",
       "      <td>0</td>\n",
       "    </tr>\n",
       "    <tr>\n",
       "      <th>10022496</th>\n",
       "      <td>0.0</td>\n",
       "      <td>1.0</td>\n",
       "      <td>0.0</td>\n",
       "      <td>0.0</td>\n",
       "      <td>0.0</td>\n",
       "      <td>0.0</td>\n",
       "      <td>0.0</td>\n",
       "      <td>0.0</td>\n",
       "      <td>0.0</td>\n",
       "      <td>0.0</td>\n",
       "      <td>...</td>\n",
       "      <td>1</td>\n",
       "      <td>0</td>\n",
       "      <td>0</td>\n",
       "      <td>0</td>\n",
       "      <td>1</td>\n",
       "      <td>0</td>\n",
       "      <td>0</td>\n",
       "      <td>0</td>\n",
       "      <td>0</td>\n",
       "      <td>0</td>\n",
       "    </tr>\n",
       "    <tr>\n",
       "      <th>10027301</th>\n",
       "      <td>0.0</td>\n",
       "      <td>0.0</td>\n",
       "      <td>0.0</td>\n",
       "      <td>0.0</td>\n",
       "      <td>0.0</td>\n",
       "      <td>0.0</td>\n",
       "      <td>1.0</td>\n",
       "      <td>0.0</td>\n",
       "      <td>0.0</td>\n",
       "      <td>0.0</td>\n",
       "      <td>...</td>\n",
       "      <td>0</td>\n",
       "      <td>0</td>\n",
       "      <td>0</td>\n",
       "      <td>0</td>\n",
       "      <td>0</td>\n",
       "      <td>0</td>\n",
       "      <td>0</td>\n",
       "      <td>1</td>\n",
       "      <td>0</td>\n",
       "      <td>0</td>\n",
       "    </tr>\n",
       "    <tr>\n",
       "      <th>10051677</th>\n",
       "      <td>0.0</td>\n",
       "      <td>0.0</td>\n",
       "      <td>1.0</td>\n",
       "      <td>0.0</td>\n",
       "      <td>0.0</td>\n",
       "      <td>0.0</td>\n",
       "      <td>0.0</td>\n",
       "      <td>0.0</td>\n",
       "      <td>0.0</td>\n",
       "      <td>0.0</td>\n",
       "      <td>...</td>\n",
       "      <td>0</td>\n",
       "      <td>0</td>\n",
       "      <td>0</td>\n",
       "      <td>0</td>\n",
       "      <td>1</td>\n",
       "      <td>0</td>\n",
       "      <td>1</td>\n",
       "      <td>0</td>\n",
       "      <td>1</td>\n",
       "      <td>1</td>\n",
       "    </tr>\n",
       "  </tbody>\n",
       "</table>\n",
       "<p>5 rows × 224 columns</p>\n",
       "</div>"
      ],
      "text/plain": [
       "          action  anticipation  arousal  attention  auditory_perception  \\\n",
       "10022492     0.0           1.0      0.0        0.0                  0.0   \n",
       "10022494     0.0           0.0      0.0        0.0                  0.0   \n",
       "10022496     0.0           1.0      0.0        0.0                  0.0   \n",
       "10027301     0.0           0.0      0.0        0.0                  0.0   \n",
       "10051677     0.0           0.0      1.0        0.0                  0.0   \n",
       "\n",
       "          autobiographical_memory  cognition  cognitive  cognitive_control  \\\n",
       "10022492                      0.0        0.0        1.0                0.0   \n",
       "10022494                      0.0        0.0        0.0                0.0   \n",
       "10022496                      0.0        0.0        0.0                0.0   \n",
       "10027301                      0.0        1.0        0.0                0.0   \n",
       "10051677                      0.0        0.0        0.0                0.0   \n",
       "\n",
       "          cognitive_process  ...  \\\n",
       "10022492                0.0  ...   \n",
       "10022494                1.0  ...   \n",
       "10022496                0.0  ...   \n",
       "10027301                0.0  ...   \n",
       "10051677                0.0  ...   \n",
       "\n",
       "          right_superior_temporal_gyrus_posterior_division  \\\n",
       "10022492                                                 0   \n",
       "10022494                                                 1   \n",
       "10022496                                                 1   \n",
       "10027301                                                 0   \n",
       "10051677                                                 0   \n",
       "\n",
       "          right_supplementary_motor_cortex  right_supracalcarine_cortex  \\\n",
       "10022492                                 1                            0   \n",
       "10022494                                 1                            1   \n",
       "10022496                                 0                            0   \n",
       "10027301                                 0                            0   \n",
       "10051677                                 0                            0   \n",
       "\n",
       "          right_supramarginal_gyrus_anterior_division  \\\n",
       "10022492                                            1   \n",
       "10022494                                            1   \n",
       "10022496                                            0   \n",
       "10027301                                            0   \n",
       "10051677                                            0   \n",
       "\n",
       "          right_supramarginal_gyrus_posterior_division  \\\n",
       "10022492                                             0   \n",
       "10022494                                             0   \n",
       "10022496                                             1   \n",
       "10027301                                             0   \n",
       "10051677                                             1   \n",
       "\n",
       "          right_temporal_fusiform_cortex_anterior_division  \\\n",
       "10022492                                                 0   \n",
       "10022494                                                 0   \n",
       "10022496                                                 0   \n",
       "10027301                                                 0   \n",
       "10051677                                                 0   \n",
       "\n",
       "          right_temporal_fusiform_cortex_posterior_division  \\\n",
       "10022492                                                  0   \n",
       "10022494                                                  0   \n",
       "10022496                                                  0   \n",
       "10027301                                                  0   \n",
       "10051677                                                  1   \n",
       "\n",
       "          right_temporal_occipital_fusiform_cortex  right_temporal_pole  \\\n",
       "10022492                                         0                    0   \n",
       "10022494                                         1                    0   \n",
       "10022496                                         0                    0   \n",
       "10027301                                         1                    0   \n",
       "10051677                                         0                    1   \n",
       "\n",
       "          right_thalamus  \n",
       "10022492               1  \n",
       "10022494               0  \n",
       "10022496               0  \n",
       "10027301               0  \n",
       "10051677               1  \n",
       "\n",
       "[5 rows x 224 columns]"
      ]
     },
     "execution_count": 11,
     "metadata": {},
     "output_type": "execute_result"
    }
   ],
   "source": [
    "docs = dtm_words.copy()\n",
    "docs[structures] = act_structs.copy()\n",
    "docs.head()"
   ]
  },
  {
   "cell_type": "markdown",
   "metadata": {},
   "source": [
    "## Document splits"
   ]
  },
  {
   "cell_type": "code",
   "execution_count": 12,
   "metadata": {},
   "outputs": [
    {
     "name": "stdout",
     "output_type": "stream",
     "text": [
      "Discovery    N=12708\n",
      "Replication  N=5447\n"
     ]
    }
   ],
   "source": [
    "splits = {}\n",
    "splits[\"discovery\"] = [int(pmid.strip()) for pmid in open(\"../data/splits/train.txt\")]\n",
    "splits[\"replication\"] = [int(pmid.strip()) for pmid in open(\"../data/splits/validation.txt\")]\n",
    "splits[\"replication\"] += [int(pmid.strip()) for pmid in open(\"../data/splits/test.txt\")]\n",
    "for split, pmids in splits.items():\n",
    "    print(\"{:12s} N={}\".format(split.title(), len(pmids)))"
   ]
  },
  {
   "cell_type": "markdown",
   "metadata": {},
   "source": [
    "## Document assignments"
   ]
  },
  {
   "cell_type": "code",
   "execution_count": 13,
   "metadata": {},
   "outputs": [],
   "source": [
    "doc2dom_df = pd.read_csv(\"../partition/data/doc2dom_{}{}.csv\".format(framework, clf), \n",
    "                         header=None, index_col=0)\n",
    "doc2dom = {int(pmid): str(dom.values[0]) for pmid, dom in doc2dom_df.iterrows()}"
   ]
  },
  {
   "cell_type": "code",
   "execution_count": 14,
   "metadata": {},
   "outputs": [],
   "source": [
    "dom2docs = {dom: {split: [] for split in [\"discovery\", \"replication\"]} for dom in domains}\n",
    "for doc, dom in doc2dom.items():\n",
    "    for split, split_pmids in splits.items():\n",
    "        if doc in splits[split]:\n",
    "            dom2docs[dom][split].append(doc)"
   ]
  },
  {
   "cell_type": "code",
   "execution_count": 15,
   "metadata": {},
   "outputs": [
    {
     "data": {
      "text/plain": [
       "[8656296, 8893004, 9108115, 9228523, 9412517]"
      ]
     },
     "execution_count": 15,
     "metadata": {},
     "output_type": "execute_result"
    }
   ],
   "source": [
    "sorted_pmids = {}\n",
    "for split, split_pmids in splits.items():\n",
    "    sorted_pmids[split] = []\n",
    "    for dom in domains:\n",
    "        sorted_pmids[split] += [pmid for pmid, sys in doc2dom.items() if sys == dom and pmid in split_pmids]\n",
    "sorted_pmids[\"discovery\"][:5]"
   ]
  },
  {
   "cell_type": "markdown",
   "metadata": {},
   "source": [
    "# Compute document distances\n",
    "\n",
    "Indexing by min:max will be faster in subsequent computations"
   ]
  },
  {
   "cell_type": "code",
   "execution_count": 16,
   "metadata": {},
   "outputs": [],
   "source": [
    "from scipy.spatial.distance import cdist"
   ]
  },
  {
   "cell_type": "code",
   "execution_count": 17,
   "metadata": {},
   "outputs": [],
   "source": [
    "doc_dists = {}\n",
    "for split in splits.keys():\n",
    "    ids = sorted_pmids[split]\n",
    "    doc_dists[split] = cdist(docs.loc[ids], docs.loc[ids], metric=\"dice\")\n",
    "    doc_dists[split] = pd.DataFrame(doc_dists[split], index=ids, columns=ids)"
   ]
  },
  {
   "cell_type": "markdown",
   "metadata": {},
   "source": [
    "## Compute domain min and max indices"
   ]
  },
  {
   "cell_type": "code",
   "execution_count": 18,
   "metadata": {},
   "outputs": [],
   "source": [
    "dom_idx = {}\n",
    "for split in splits.keys():\n",
    "    dom_idx[split] = {dom: {\"min\": 0, \"max\": 0} for dom in domains}\n",
    "    for dom in domains:\n",
    "        dom_pmids = dom2docs[dom][split]\n",
    "        dom_idx[split][dom][\"min\"] = sorted_pmids[split].index(dom_pmids[0])\n",
    "        dom_idx[split][dom][\"max\"] = sorted_pmids[split].index(dom_pmids[-1]) + 1"
   ]
  },
  {
   "cell_type": "markdown",
   "metadata": {},
   "source": [
    "# Compute domain modularity"
   ]
  },
  {
   "cell_type": "markdown",
   "metadata": {},
   "source": [
    "## Observed values\n",
    "\n",
    "### Distances internal and external to articles in each domain"
   ]
  },
  {
   "cell_type": "code",
   "execution_count": 19,
   "metadata": {},
   "outputs": [],
   "source": [
    "dists_int, dists_ext = {}, {}\n",
    "for split, split_pmids in splits.items():\n",
    "    \n",
    "    dists_int[split], dists_ext[split] = {}, {}\n",
    "    for dom in domains:\n",
    "        \n",
    "        dom_min, dom_max = dom_idx[split][dom][\"min\"], dom_idx[split][dom][\"max\"]\n",
    "        dom_dists = doc_dists[split].values[:,dom_min:dom_max][dom_min:dom_max,:]\n",
    "        dists_int[split][dom] = dom_dists\n",
    "        \n",
    "        other_dists_lower = doc_dists[split].values[:,dom_min:dom_max][:dom_min,:]\n",
    "        other_dists_upper = doc_dists[split].values[:,dom_min:dom_max][dom_max:,:]\n",
    "        other_dists = np.concatenate((other_dists_lower, other_dists_upper))\n",
    "        dists_ext[split][dom] = other_dists"
   ]
  },
  {
   "cell_type": "markdown",
   "metadata": {},
   "source": [
    "### Article-level ratio of external to internal distances"
   ]
  },
  {
   "cell_type": "code",
   "execution_count": 20,
   "metadata": {},
   "outputs": [
    {
     "data": {
      "text/html": [
       "<div>\n",
       "<style scoped>\n",
       "    .dataframe tbody tr th:only-of-type {\n",
       "        vertical-align: middle;\n",
       "    }\n",
       "\n",
       "    .dataframe tbody tr th {\n",
       "        vertical-align: top;\n",
       "    }\n",
       "\n",
       "    .dataframe thead th {\n",
       "        text-align: right;\n",
       "    }\n",
       "</style>\n",
       "<table border=\"1\" class=\"dataframe\">\n",
       "  <thead>\n",
       "    <tr style=\"text-align: right;\">\n",
       "      <th></th>\n",
       "      <th>PMID</th>\n",
       "      <th>SPLIT</th>\n",
       "      <th>DOMAIN</th>\n",
       "      <th>OBSERVED</th>\n",
       "    </tr>\n",
       "  </thead>\n",
       "  <tbody>\n",
       "    <tr>\n",
       "      <th>0</th>\n",
       "      <td>8656296</td>\n",
       "      <td>discovery</td>\n",
       "      <td>MEMORY</td>\n",
       "      <td>0.974930</td>\n",
       "    </tr>\n",
       "    <tr>\n",
       "      <th>1</th>\n",
       "      <td>8893004</td>\n",
       "      <td>discovery</td>\n",
       "      <td>MEMORY</td>\n",
       "      <td>1.022538</td>\n",
       "    </tr>\n",
       "    <tr>\n",
       "      <th>2</th>\n",
       "      <td>9108115</td>\n",
       "      <td>discovery</td>\n",
       "      <td>MEMORY</td>\n",
       "      <td>1.148152</td>\n",
       "    </tr>\n",
       "    <tr>\n",
       "      <th>3</th>\n",
       "      <td>9228523</td>\n",
       "      <td>discovery</td>\n",
       "      <td>MEMORY</td>\n",
       "      <td>1.023360</td>\n",
       "    </tr>\n",
       "    <tr>\n",
       "      <th>4</th>\n",
       "      <td>9412517</td>\n",
       "      <td>discovery</td>\n",
       "      <td>MEMORY</td>\n",
       "      <td>1.252286</td>\n",
       "    </tr>\n",
       "  </tbody>\n",
       "</table>\n",
       "</div>"
      ],
      "text/plain": [
       "      PMID      SPLIT  DOMAIN  OBSERVED\n",
       "0  8656296  discovery  MEMORY  0.974930\n",
       "1  8893004  discovery  MEMORY  1.022538\n",
       "2  9108115  discovery  MEMORY  1.148152\n",
       "3  9228523  discovery  MEMORY  1.023360\n",
       "4  9412517  discovery  MEMORY  1.252286"
      ]
     },
     "execution_count": 20,
     "metadata": {},
     "output_type": "execute_result"
    }
   ],
   "source": [
    "df_stat = {}\n",
    "pmid_list, split_list, dom_list, obs_list  = [], [], [], []\n",
    "\n",
    "for split, split_pmids in splits.items():\n",
    "    \n",
    "    df_stat[split] = pd.DataFrame(index=domains, columns=[\"OBSERVED\"])\n",
    "\n",
    "    for dom in domains:\n",
    "\n",
    "        mean_dist_int = np.mean(dists_int[split][dom], axis=0)\n",
    "        mean_dist_ext = np.mean(dists_ext[split][dom], axis=0)\n",
    "\n",
    "        df_stat[split].loc[dom, \"OBSERVED\"] = np.nanmean(mean_dist_ext / mean_dist_int)\n",
    "        \n",
    "        obs = mean_dist_ext / mean_dist_int\n",
    "        pmid_list += dom2docs[dom][split]\n",
    "        dom_list += [dom] * len(obs)\n",
    "        split_list += [split] * len(obs)\n",
    "        obs_list += list(obs)\n",
    "\n",
    "df_obs = pd.DataFrame({\"PMID\": pmid_list, \"SPLIT\": split_list, \n",
    "                       \"DOMAIN\": dom_list, \"OBSERVED\": obs_list})\n",
    "df_obs.to_csv(\"data/mod_obs_{}{}.csv\".format(framework, clf))    \n",
    "df_obs.head()"
   ]
  },
  {
   "cell_type": "code",
   "execution_count": 21,
   "metadata": {},
   "outputs": [
    {
     "name": "stdout",
     "output_type": "stream",
     "text": [
      "Discovery set modularity     1.1108\n",
      "Replication set modularity   1.1164\n"
     ]
    }
   ],
   "source": [
    "for split in splits.keys():\n",
    "    obs = df_stat[split][\"OBSERVED\"].mean()\n",
    "    print(\"{:28s} {:6.4f}\".format(split.title() + \" set modularity\", obs))"
   ]
  },
  {
   "cell_type": "markdown",
   "metadata": {},
   "source": [
    "## Null distributions"
   ]
  },
  {
   "cell_type": "code",
   "execution_count": 22,
   "metadata": {},
   "outputs": [],
   "source": [
    "import os"
   ]
  },
  {
   "cell_type": "code",
   "execution_count": 23,
   "metadata": {},
   "outputs": [
    {
     "name": "stdout",
     "output_type": "stream",
     "text": [
      "Processing discovery split (N=12708 documents)\n",
      "Processing replication split (N=5447 documents)\n"
     ]
    }
   ],
   "source": [
    "df_null = {}\n",
    "for split, split_pmids in splits.items():\n",
    "    \n",
    "    print(\"Processing {} split (N={} documents)\".format(split, len(split_pmids)))\n",
    "    \n",
    "    n_docs = len(split_pmids)\n",
    "    file_null = \"data/mod_null_{}{}_{}_{}iter.csv\".format(framework, clf, split, n_iter)\n",
    "    if not os.path.isfile(file_null):\n",
    "        \n",
    "        df_null[split] = np.empty((len(domains), n_iter))\n",
    "        for i, dom in enumerate(domains):\n",
    "            \n",
    "            print(\"----- Processing {}\".format(dom))\n",
    "            \n",
    "            n_dom_docs = dists_int[split][dom].shape[0]\n",
    "            dist_int_ext = np.concatenate((dists_int[split][dom], dists_ext[split][dom]))\n",
    "            for n in range(n_iter):\n",
    "                \n",
    "                null = np.random.choice(range(n_docs), size=n_docs, replace=False)\n",
    "                dist_int_ext_null = dist_int_ext[null,:]\n",
    "                \n",
    "                mean_dist_int = np.mean(dist_int_ext_null[:n_dom_docs,:], axis=0)\n",
    "                mean_dist_ext = np.mean(dist_int_ext_null[n_dom_docs:,:], axis=0)\n",
    "                \n",
    "                df_null[split][i,n] = np.nanmean(mean_dist_ext / mean_dist_int)\n",
    "\n",
    "        df_null[split] = pd.DataFrame(df_null[split], index=domains, columns=range(n_iter))\n",
    "        df_null[split].to_csv(file_null)\n",
    "        print(\"\")\n",
    "\n",
    "    else:\n",
    "        df_null[split] = pd.read_csv(file_null, index_col=0, header=0)"
   ]
  },
  {
   "cell_type": "markdown",
   "metadata": {},
   "source": [
    "### Interleave splits to facilitate plotting"
   ]
  },
  {
   "cell_type": "code",
   "execution_count": 24,
   "metadata": {},
   "outputs": [
    {
     "data": {
      "text/html": [
       "<div>\n",
       "<style scoped>\n",
       "    .dataframe tbody tr th:only-of-type {\n",
       "        vertical-align: middle;\n",
       "    }\n",
       "\n",
       "    .dataframe tbody tr th {\n",
       "        vertical-align: top;\n",
       "    }\n",
       "\n",
       "    .dataframe thead th {\n",
       "        text-align: right;\n",
       "    }\n",
       "</style>\n",
       "<table border=\"1\" class=\"dataframe\">\n",
       "  <thead>\n",
       "    <tr style=\"text-align: right;\">\n",
       "      <th></th>\n",
       "      <th>0</th>\n",
       "      <th>1</th>\n",
       "      <th>10</th>\n",
       "      <th>100</th>\n",
       "      <th>101</th>\n",
       "      <th>102</th>\n",
       "      <th>103</th>\n",
       "      <th>104</th>\n",
       "      <th>105</th>\n",
       "      <th>106</th>\n",
       "      <th>...</th>\n",
       "      <th>990</th>\n",
       "      <th>991</th>\n",
       "      <th>992</th>\n",
       "      <th>993</th>\n",
       "      <th>994</th>\n",
       "      <th>995</th>\n",
       "      <th>996</th>\n",
       "      <th>997</th>\n",
       "      <th>998</th>\n",
       "      <th>999</th>\n",
       "    </tr>\n",
       "  </thead>\n",
       "  <tbody>\n",
       "    <tr>\n",
       "      <th>MEMORY_discovery</th>\n",
       "      <td>1.007343</td>\n",
       "      <td>0.994295</td>\n",
       "      <td>1.000887</td>\n",
       "      <td>1.001137</td>\n",
       "      <td>1.002472</td>\n",
       "      <td>1.007050</td>\n",
       "      <td>0.999452</td>\n",
       "      <td>0.997399</td>\n",
       "      <td>1.000523</td>\n",
       "      <td>1.001701</td>\n",
       "      <td>...</td>\n",
       "      <td>1.000828</td>\n",
       "      <td>1.002656</td>\n",
       "      <td>0.998212</td>\n",
       "      <td>0.998490</td>\n",
       "      <td>0.992406</td>\n",
       "      <td>0.997644</td>\n",
       "      <td>0.997834</td>\n",
       "      <td>0.993609</td>\n",
       "      <td>1.003823</td>\n",
       "      <td>1.006310</td>\n",
       "    </tr>\n",
       "    <tr>\n",
       "      <th>MEMORY_replication</th>\n",
       "      <td>1.001712</td>\n",
       "      <td>0.990920</td>\n",
       "      <td>1.005529</td>\n",
       "      <td>1.011193</td>\n",
       "      <td>1.001975</td>\n",
       "      <td>0.993646</td>\n",
       "      <td>0.998138</td>\n",
       "      <td>1.001605</td>\n",
       "      <td>0.999684</td>\n",
       "      <td>0.998363</td>\n",
       "      <td>...</td>\n",
       "      <td>1.002511</td>\n",
       "      <td>0.995820</td>\n",
       "      <td>1.003931</td>\n",
       "      <td>1.003923</td>\n",
       "      <td>0.998044</td>\n",
       "      <td>1.005519</td>\n",
       "      <td>0.999785</td>\n",
       "      <td>1.001537</td>\n",
       "      <td>0.990765</td>\n",
       "      <td>0.999063</td>\n",
       "    </tr>\n",
       "    <tr>\n",
       "      <th>EPISODIC_MEMORY_discovery</th>\n",
       "      <td>0.999988</td>\n",
       "      <td>1.002606</td>\n",
       "      <td>1.005623</td>\n",
       "      <td>0.997578</td>\n",
       "      <td>0.994522</td>\n",
       "      <td>0.997324</td>\n",
       "      <td>0.998064</td>\n",
       "      <td>1.002130</td>\n",
       "      <td>0.993218</td>\n",
       "      <td>0.999465</td>\n",
       "      <td>...</td>\n",
       "      <td>0.997445</td>\n",
       "      <td>1.001879</td>\n",
       "      <td>0.995448</td>\n",
       "      <td>1.001021</td>\n",
       "      <td>1.003979</td>\n",
       "      <td>0.999049</td>\n",
       "      <td>0.997120</td>\n",
       "      <td>1.002367</td>\n",
       "      <td>1.000638</td>\n",
       "      <td>0.995348</td>\n",
       "    </tr>\n",
       "    <tr>\n",
       "      <th>EPISODIC_MEMORY_replication</th>\n",
       "      <td>1.003632</td>\n",
       "      <td>0.994486</td>\n",
       "      <td>1.014410</td>\n",
       "      <td>1.001076</td>\n",
       "      <td>1.000026</td>\n",
       "      <td>1.006842</td>\n",
       "      <td>1.013451</td>\n",
       "      <td>1.000449</td>\n",
       "      <td>0.995259</td>\n",
       "      <td>1.000227</td>\n",
       "      <td>...</td>\n",
       "      <td>0.995849</td>\n",
       "      <td>1.007656</td>\n",
       "      <td>1.003625</td>\n",
       "      <td>0.993719</td>\n",
       "      <td>1.007889</td>\n",
       "      <td>0.997251</td>\n",
       "      <td>0.990678</td>\n",
       "      <td>1.010482</td>\n",
       "      <td>1.003132</td>\n",
       "      <td>1.000563</td>\n",
       "    </tr>\n",
       "    <tr>\n",
       "      <th>REWARD_discovery</th>\n",
       "      <td>0.997531</td>\n",
       "      <td>0.997921</td>\n",
       "      <td>0.997194</td>\n",
       "      <td>1.000188</td>\n",
       "      <td>0.999192</td>\n",
       "      <td>1.004075</td>\n",
       "      <td>0.999480</td>\n",
       "      <td>0.995334</td>\n",
       "      <td>0.999679</td>\n",
       "      <td>0.998169</td>\n",
       "      <td>...</td>\n",
       "      <td>1.000274</td>\n",
       "      <td>1.000727</td>\n",
       "      <td>0.994932</td>\n",
       "      <td>1.000606</td>\n",
       "      <td>0.997539</td>\n",
       "      <td>0.998335</td>\n",
       "      <td>1.001711</td>\n",
       "      <td>0.996161</td>\n",
       "      <td>1.006271</td>\n",
       "      <td>0.995779</td>\n",
       "    </tr>\n",
       "  </tbody>\n",
       "</table>\n",
       "<p>5 rows × 1000 columns</p>\n",
       "</div>"
      ],
      "text/plain": [
       "                                    0         1        10       100       101  \\\n",
       "MEMORY_discovery             1.007343  0.994295  1.000887  1.001137  1.002472   \n",
       "MEMORY_replication           1.001712  0.990920  1.005529  1.011193  1.001975   \n",
       "EPISODIC_MEMORY_discovery    0.999988  1.002606  1.005623  0.997578  0.994522   \n",
       "EPISODIC_MEMORY_replication  1.003632  0.994486  1.014410  1.001076  1.000026   \n",
       "REWARD_discovery             0.997531  0.997921  0.997194  1.000188  0.999192   \n",
       "\n",
       "                                  102       103       104       105       106  \\\n",
       "MEMORY_discovery             1.007050  0.999452  0.997399  1.000523  1.001701   \n",
       "MEMORY_replication           0.993646  0.998138  1.001605  0.999684  0.998363   \n",
       "EPISODIC_MEMORY_discovery    0.997324  0.998064  1.002130  0.993218  0.999465   \n",
       "EPISODIC_MEMORY_replication  1.006842  1.013451  1.000449  0.995259  1.000227   \n",
       "REWARD_discovery             1.004075  0.999480  0.995334  0.999679  0.998169   \n",
       "\n",
       "                             ...       990       991       992       993  \\\n",
       "MEMORY_discovery             ...  1.000828  1.002656  0.998212  0.998490   \n",
       "MEMORY_replication           ...  1.002511  0.995820  1.003931  1.003923   \n",
       "EPISODIC_MEMORY_discovery    ...  0.997445  1.001879  0.995448  1.001021   \n",
       "EPISODIC_MEMORY_replication  ...  0.995849  1.007656  1.003625  0.993719   \n",
       "REWARD_discovery             ...  1.000274  1.000727  0.994932  1.000606   \n",
       "\n",
       "                                  994       995       996       997       998  \\\n",
       "MEMORY_discovery             0.992406  0.997644  0.997834  0.993609  1.003823   \n",
       "MEMORY_replication           0.998044  1.005519  0.999785  1.001537  0.990765   \n",
       "EPISODIC_MEMORY_discovery    1.003979  0.999049  0.997120  1.002367  1.000638   \n",
       "EPISODIC_MEMORY_replication  1.007889  0.997251  0.990678  1.010482  1.003132   \n",
       "REWARD_discovery             0.997539  0.998335  1.001711  0.996161  1.006271   \n",
       "\n",
       "                                  999  \n",
       "MEMORY_discovery             1.006310  \n",
       "MEMORY_replication           0.999063  \n",
       "EPISODIC_MEMORY_discovery    0.995348  \n",
       "EPISODIC_MEMORY_replication  1.000563  \n",
       "REWARD_discovery             0.995779  \n",
       "\n",
       "[5 rows x 1000 columns]"
      ]
     },
     "execution_count": 24,
     "metadata": {},
     "output_type": "execute_result"
    }
   ],
   "source": [
    "df_null_interleaved = pd.DataFrame()\n",
    "null_idx = []\n",
    "for dom in domains:\n",
    "    for split in [\"discovery\", \"replication\"]:\n",
    "        df_null_interleaved = df_null_interleaved.append(df_null[split].loc[dom])\n",
    "        null_idx.append(dom + \"_\" + split)\n",
    "df_null_interleaved.index = null_idx\n",
    "df_null_interleaved.head()"
   ]
  },
  {
   "cell_type": "markdown",
   "metadata": {},
   "source": [
    "## Bootstrap distributions"
   ]
  },
  {
   "cell_type": "code",
   "execution_count": 25,
   "metadata": {},
   "outputs": [
    {
     "name": "stdout",
     "output_type": "stream",
     "text": [
      "Processing discovery split (N=12708 documents)\n",
      "Processing replication split (N=5447 documents)\n"
     ]
    }
   ],
   "source": [
    "df_boot = {}\n",
    "for split, split_pmids in splits.items():\n",
    "    \n",
    "    print(\"Processing {} split (N={} documents)\".format(split, len(split_pmids)))\n",
    "\n",
    "    file_boot = \"data/mod_boot_{}{}_{}_{}iter.csv\".format(framework, clf, split, n_iter)\n",
    "    if not os.path.isfile(file_boot):\n",
    "        \n",
    "        df_boot[split] = np.empty((len(domains), n_iter))\n",
    "        for i, dom in enumerate(domains):\n",
    "            \n",
    "            print(\"----- Processing {}\".format(dom))\n",
    "            \n",
    "            n_docs = dists_int[split][dom].shape[0]\n",
    "            \n",
    "            for n in range(n_iter):\n",
    "                \n",
    "                boot = np.random.choice(range(n_docs), size=n_docs, replace=True)\n",
    "            \n",
    "                mean_dist_int = np.mean(dists_int[split][dom][:,boot], axis=0)\n",
    "                mean_dist_ext = np.mean(dists_ext[split][dom][:,boot], axis=0)\n",
    "                \n",
    "                df_boot[split][i,n] = np.nanmean(mean_dist_ext / mean_dist_int)\n",
    "\n",
    "        df_boot[split] = pd.DataFrame(df_boot[split], index=domains, columns=range(n_iter))\n",
    "        df_boot[split].to_csv(file_boot)\n",
    "        print(\"\")\n",
    "\n",
    "    else:\n",
    "        df_boot[split] = pd.read_csv(file_boot, index_col=0, header=0)"
   ]
  },
  {
   "cell_type": "markdown",
   "metadata": {},
   "source": [
    "# Perform significance testing"
   ]
  },
  {
   "cell_type": "code",
   "execution_count": 26,
   "metadata": {},
   "outputs": [],
   "source": [
    "from statsmodels.stats import multitest"
   ]
  },
  {
   "cell_type": "code",
   "execution_count": 27,
   "metadata": {},
   "outputs": [
    {
     "name": "stdout",
     "output_type": "stream",
     "text": [
      "-----------------------------------------------------------------\n",
      "DISCOVERY\n",
      "-----------------------------------------------------------------\n",
      "                OBSERVED    P  FDR STARS\n",
      "MEMORY           1.07278  0.0  0.0     *\n",
      "EPISODIC_MEMORY  1.08387  0.0  0.0     *\n",
      "REWARD           1.06572  0.0  0.0     *\n",
      "COGNITION        1.13924  0.0  0.0     *\n",
      "VISION           1.11482  0.0  0.0     *\n",
      "MANIPULATION     1.11054  0.0  0.0     *\n",
      "EXECUTION        1.07773  0.0  0.0     *\n",
      "HEARING          1.15852  0.0  0.0     *\n",
      "LANGUAGE          1.1744  0.0  0.0     *\n",
      "\n",
      "-----------------------------------------------------------------\n",
      "REPLICATION\n",
      "-----------------------------------------------------------------\n",
      "                OBSERVED    P  FDR STARS\n",
      "MEMORY           1.08402  0.0  0.0     *\n",
      "EPISODIC_MEMORY  1.07856  0.0  0.0     *\n",
      "REWARD           1.05603  0.0  0.0     *\n",
      "COGNITION        1.13966  0.0  0.0     *\n",
      "VISION           1.12078  0.0  0.0     *\n",
      "MANIPULATION     1.10458  0.0  0.0     *\n",
      "EXECUTION        1.11883  0.0  0.0     *\n",
      "HEARING          1.16814  0.0  0.0     *\n",
      "LANGUAGE          1.1772  0.0  0.0     *\n",
      "\n"
     ]
    }
   ],
   "source": [
    "for split in splits.keys():\n",
    "    \n",
    "    pval = []\n",
    "    for dom in domains:   \n",
    "        dom_null = df_null[split].loc[dom].values\n",
    "        dom_obs = float(df_stat[split].loc[dom, \"OBSERVED\"])\n",
    "        p = np.sum(dom_null >= dom_obs) / float(n_iter)\n",
    "        pval.append(p)\n",
    "        df_stat[split].loc[dom, \"P\"] = p\n",
    "    df_stat[split][\"FDR\"] = multitest.multipletests(pval, method=\"fdr_bh\")[1]\n",
    "    \n",
    "    for dom in domains:\n",
    "        if df_stat[split].loc[dom, \"FDR\"] < alpha:\n",
    "            df_stat[split].loc[dom, \"STARS\"] = \"*\"\n",
    "        else:\n",
    "            df_stat[split].loc[dom, \"STARS\"] = \"\"\n",
    "    df_stat[split] = df_stat[split].loc[domains, [\"OBSERVED\", \"P\", \"FDR\", \"STARS\"]]\n",
    "    df_stat[split].to_csv(\"data/mod_mean_{}{}_{}.csv\".format(framework, clf, split))\n",
    "    \n",
    "    print(\"-\" * 65 + \"\\n\" + split.upper() + \"\\n\" + \"-\" * 65)\n",
    "    print(df_stat[split])\n",
    "    print(\"\")"
   ]
  },
  {
   "cell_type": "markdown",
   "metadata": {},
   "source": [
    "# Plot results"
   ]
  },
  {
   "cell_type": "code",
   "execution_count": 28,
   "metadata": {},
   "outputs": [],
   "source": [
    "%matplotlib inline"
   ]
  },
  {
   "cell_type": "code",
   "execution_count": 29,
   "metadata": {},
   "outputs": [],
   "source": [
    "palette = style.palettes[\"data-driven\"] + style.palettes[\"dsm\"]"
   ]
  },
  {
   "cell_type": "code",
   "execution_count": 40,
   "metadata": {},
   "outputs": [
    {
     "data": {
      "image/png": "[encoded data removed]",
      "text/plain": [
       "<Figure size 252x151.2 with 1 Axes>"
      ]
     },
     "metadata": {},
     "output_type": "display_data"
    }
   ],
   "source": [
    "utilities.plot_split_violins(framework, domains, df_obs, df_null_interleaved, df_stat, \n",
    "                             palette, metric=\"mod\", dx=dx, figsize=(3.5, 2.1),\n",
    "                             ylim=[0.7,1.6], yticks=[0.7,1,1.3,1.6], \n",
    "                             interval=0.999, alphas=[0], suffix=clf)"
   ]
  },
  {
   "cell_type": "code",
   "execution_count": null,
   "metadata": {},
   "outputs": [],
   "source": []
  }
 ],
 "metadata": {
  "kernelspec": {
   "display_name": "Python [conda env:ontol]",
   "language": "python",
   "name": "conda-env-ontol-py"
  },
  "language_info": {
   "codemirror_mode": {
    "name": "ipython",
    "version": 3
   },
   "file_extension": ".py",
   "mimetype": "text/x-python",
   "name": "python",
   "nbconvert_exporter": "python",
   "pygments_lexer": "ipython3",
   "version": "3.6.8"
  }
 },
 "nbformat": 4,
 "nbformat_minor": 2
}
