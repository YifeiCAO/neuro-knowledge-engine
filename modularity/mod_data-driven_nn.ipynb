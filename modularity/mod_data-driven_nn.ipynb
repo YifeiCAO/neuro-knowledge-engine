{
 "cells": [
  {
   "cell_type": "markdown",
   "metadata": {},
   "source": [
    "# Introduction\n",
    "\n",
    "In a prior notebook, documents were partitioned by assigning them to the domain with the highest Dice similarity of their term and structure occurrences. Here, we'll assess whether the observed modularity of the partitions is greater than expected by chance. Modularity will be measured by the ratio of dispersion between partitions to dispersion within partitions.\n",
    "\n",
    "# Load the data"
   ]
  },
  {
   "cell_type": "code",
   "execution_count": 1,
   "metadata": {},
   "outputs": [],
   "source": [
    "import pandas as pd\n",
    "import numpy as np\n",
    "np.random.seed(42)\n",
    "\n",
    "import sys\n",
    "sys.path.append(\"..\")\n",
    "import utilities\n",
    "from style import style"
   ]
  },
  {
   "cell_type": "code",
   "execution_count": 2,
   "metadata": {},
   "outputs": [],
   "source": [
    "framework = \"data-driven\" \n",
    "version = 190325 # Document-term matrix version\n",
    "suffix = \"\" # Suffix for term lists\n",
    "clf = \"_nn\" # Suffix for data-driven classifiers\n",
    "n_iter = 1000 # Iterations for bootstrap and null\n",
    "dx = [0.34, 0.36, 0.37, 0.31, 0.34, 0.34] # Nudges for plotted means\n",
    "alpha = 0.001 # Significance level for statistical comparisons"
   ]
  },
  {
   "cell_type": "markdown",
   "metadata": {},
   "source": [
    "## Brain activation coordinates"
   ]
  },
  {
   "cell_type": "code",
   "execution_count": 3,
   "metadata": {},
   "outputs": [
    {
     "name": "stdout",
     "output_type": "stream",
     "text": [
      "Document N=18155, Structure N=118\n"
     ]
    }
   ],
   "source": [
    "act_bin = utilities.load_coordinates()\n",
    "print(\"Document N={}, Structure N={}\".format(\n",
    "      act_bin.shape[0], act_bin.shape[1]))"
   ]
  },
  {
   "cell_type": "markdown",
   "metadata": {},
   "source": [
    "## Document-term matrix"
   ]
  },
  {
   "cell_type": "code",
   "execution_count": 4,
   "metadata": {},
   "outputs": [
    {
     "name": "stdout",
     "output_type": "stream",
     "text": [
      "Document N=18155, Term N=4107\n"
     ]
    }
   ],
   "source": [
    "dtm_bin = utilities.load_doc_term_matrix(version=version, binarize=True)\n",
    "print(\"Document N={}, Term N={}\".format(\n",
    "      dtm_bin.shape[0], dtm_bin.shape[1]))"
   ]
  },
  {
   "cell_type": "markdown",
   "metadata": {},
   "source": [
    "## Domain archetypes"
   ]
  },
  {
   "cell_type": "code",
   "execution_count": 5,
   "metadata": {},
   "outputs": [],
   "source": [
    "from collections import OrderedDict"
   ]
  },
  {
   "cell_type": "code",
   "execution_count": 6,
   "metadata": {},
   "outputs": [],
   "source": [
    "lists, circuits = utilities.load_framework(framework, suffix=suffix, clf=clf)"
   ]
  },
  {
   "cell_type": "code",
   "execution_count": 7,
   "metadata": {},
   "outputs": [],
   "source": [
    "words = sorted(list(set(lists[\"TOKEN\"])))\n",
    "structures = sorted(list(set(act_bin.columns)))\n",
    "domains = list(OrderedDict.fromkeys(lists[\"DOMAIN\"]))"
   ]
  },
  {
   "cell_type": "code",
   "execution_count": 8,
   "metadata": {},
   "outputs": [
    {
     "name": "stdout",
     "output_type": "stream",
     "text": [
      "Term & Structure N=190, Domain N=6\n"
     ]
    }
   ],
   "source": [
    "archetypes = pd.DataFrame(0.0, index=words+structures, columns=domains)\n",
    "for dom in domains:\n",
    "    for word in lists.loc[lists[\"DOMAIN\"] == dom, \"TOKEN\"]:\n",
    "        archetypes.loc[word, dom] = 1.0\n",
    "    for struct in structures:\n",
    "        archetypes.loc[struct, dom] = circuits.loc[struct, dom]\n",
    "archetypes[archetypes > 0.0] = 1.0\n",
    "print(\"Term & Structure N={}, Domain N={}\".format(\n",
    "      archetypes.shape[0], archetypes.shape[1]))"
   ]
  },
  {
   "cell_type": "markdown",
   "metadata": {},
   "source": [
    "## Document structure-term vectors"
   ]
  },
  {
   "cell_type": "code",
   "execution_count": 9,
   "metadata": {},
   "outputs": [
    {
     "data": {
      "text/plain": [
       "18155"
      ]
     },
     "execution_count": 9,
     "metadata": {},
     "output_type": "execute_result"
    }
   ],
   "source": [
    "pmids = dtm_bin.index.intersection(act_bin.index)\n",
    "len(pmids)"
   ]
  },
  {
   "cell_type": "code",
   "execution_count": 10,
   "metadata": {},
   "outputs": [],
   "source": [
    "dtm_words = dtm_bin.loc[pmids, words]\n",
    "act_structs = act_bin.loc[pmids, structures]"
   ]
  },
  {
   "cell_type": "code",
   "execution_count": 11,
   "metadata": {},
   "outputs": [
    {
     "data": {
      "text/html": [
       "<div>\n",
       "<style scoped>\n",
       "    .dataframe tbody tr th:only-of-type {\n",
       "        vertical-align: middle;\n",
       "    }\n",
       "\n",
       "    .dataframe tbody tr th {\n",
       "        vertical-align: top;\n",
       "    }\n",
       "\n",
       "    .dataframe thead th {\n",
       "        text-align: right;\n",
       "    }\n",
       "</style>\n",
       "<table border=\"1\" class=\"dataframe\">\n",
       "  <thead>\n",
       "    <tr style=\"text-align: right;\">\n",
       "      <th></th>\n",
       "      <th>action</th>\n",
       "      <th>anticipation</th>\n",
       "      <th>arousal</th>\n",
       "      <th>articulation</th>\n",
       "      <th>attention</th>\n",
       "      <th>audition</th>\n",
       "      <th>auditory_perception</th>\n",
       "      <th>cognitive</th>\n",
       "      <th>cognitive_control</th>\n",
       "      <th>cognitive_process</th>\n",
       "      <th>...</th>\n",
       "      <th>right_superior_temporal_gyrus_posterior_division</th>\n",
       "      <th>right_supplementary_motor_cortex</th>\n",
       "      <th>right_supracalcarine_cortex</th>\n",
       "      <th>right_supramarginal_gyrus_anterior_division</th>\n",
       "      <th>right_supramarginal_gyrus_posterior_division</th>\n",
       "      <th>right_temporal_fusiform_cortex_anterior_division</th>\n",
       "      <th>right_temporal_fusiform_cortex_posterior_division</th>\n",
       "      <th>right_temporal_occipital_fusiform_cortex</th>\n",
       "      <th>right_temporal_pole</th>\n",
       "      <th>right_thalamus</th>\n",
       "    </tr>\n",
       "  </thead>\n",
       "  <tbody>\n",
       "    <tr>\n",
       "      <th>10022492</th>\n",
       "      <td>0.0</td>\n",
       "      <td>1.0</td>\n",
       "      <td>0.0</td>\n",
       "      <td>0.0</td>\n",
       "      <td>0.0</td>\n",
       "      <td>0.0</td>\n",
       "      <td>0.0</td>\n",
       "      <td>1.0</td>\n",
       "      <td>0.0</td>\n",
       "      <td>0.0</td>\n",
       "      <td>...</td>\n",
       "      <td>0</td>\n",
       "      <td>1</td>\n",
       "      <td>0</td>\n",
       "      <td>1</td>\n",
       "      <td>0</td>\n",
       "      <td>0</td>\n",
       "      <td>0</td>\n",
       "      <td>0</td>\n",
       "      <td>0</td>\n",
       "      <td>1</td>\n",
       "    </tr>\n",
       "    <tr>\n",
       "      <th>10022494</th>\n",
       "      <td>0.0</td>\n",
       "      <td>0.0</td>\n",
       "      <td>0.0</td>\n",
       "      <td>0.0</td>\n",
       "      <td>0.0</td>\n",
       "      <td>0.0</td>\n",
       "      <td>0.0</td>\n",
       "      <td>0.0</td>\n",
       "      <td>0.0</td>\n",
       "      <td>1.0</td>\n",
       "      <td>...</td>\n",
       "      <td>1</td>\n",
       "      <td>1</td>\n",
       "      <td>1</td>\n",
       "      <td>1</td>\n",
       "      <td>0</td>\n",
       "      <td>0</td>\n",
       "      <td>0</td>\n",
       "      <td>1</td>\n",
       "      <td>0</td>\n",
       "      <td>0</td>\n",
       "    </tr>\n",
       "    <tr>\n",
       "      <th>10022496</th>\n",
       "      <td>0.0</td>\n",
       "      <td>1.0</td>\n",
       "      <td>0.0</td>\n",
       "      <td>0.0</td>\n",
       "      <td>0.0</td>\n",
       "      <td>1.0</td>\n",
       "      <td>0.0</td>\n",
       "      <td>0.0</td>\n",
       "      <td>0.0</td>\n",
       "      <td>0.0</td>\n",
       "      <td>...</td>\n",
       "      <td>1</td>\n",
       "      <td>0</td>\n",
       "      <td>0</td>\n",
       "      <td>0</td>\n",
       "      <td>1</td>\n",
       "      <td>0</td>\n",
       "      <td>0</td>\n",
       "      <td>0</td>\n",
       "      <td>0</td>\n",
       "      <td>0</td>\n",
       "    </tr>\n",
       "    <tr>\n",
       "      <th>10027301</th>\n",
       "      <td>0.0</td>\n",
       "      <td>0.0</td>\n",
       "      <td>0.0</td>\n",
       "      <td>0.0</td>\n",
       "      <td>0.0</td>\n",
       "      <td>0.0</td>\n",
       "      <td>0.0</td>\n",
       "      <td>0.0</td>\n",
       "      <td>0.0</td>\n",
       "      <td>0.0</td>\n",
       "      <td>...</td>\n",
       "      <td>0</td>\n",
       "      <td>0</td>\n",
       "      <td>0</td>\n",
       "      <td>0</td>\n",
       "      <td>0</td>\n",
       "      <td>0</td>\n",
       "      <td>0</td>\n",
       "      <td>1</td>\n",
       "      <td>0</td>\n",
       "      <td>0</td>\n",
       "    </tr>\n",
       "    <tr>\n",
       "      <th>10051677</th>\n",
       "      <td>0.0</td>\n",
       "      <td>0.0</td>\n",
       "      <td>1.0</td>\n",
       "      <td>0.0</td>\n",
       "      <td>0.0</td>\n",
       "      <td>0.0</td>\n",
       "      <td>0.0</td>\n",
       "      <td>0.0</td>\n",
       "      <td>0.0</td>\n",
       "      <td>0.0</td>\n",
       "      <td>...</td>\n",
       "      <td>0</td>\n",
       "      <td>0</td>\n",
       "      <td>0</td>\n",
       "      <td>0</td>\n",
       "      <td>1</td>\n",
       "      <td>0</td>\n",
       "      <td>1</td>\n",
       "      <td>0</td>\n",
       "      <td>1</td>\n",
       "      <td>1</td>\n",
       "    </tr>\n",
       "  </tbody>\n",
       "</table>\n",
       "<p>5 rows × 190 columns</p>\n",
       "</div>"
      ],
      "text/plain": [
       "          action  anticipation  arousal  articulation  attention  audition  \\\n",
       "10022492     0.0           1.0      0.0           0.0        0.0       0.0   \n",
       "10022494     0.0           0.0      0.0           0.0        0.0       0.0   \n",
       "10022496     0.0           1.0      0.0           0.0        0.0       1.0   \n",
       "10027301     0.0           0.0      0.0           0.0        0.0       0.0   \n",
       "10051677     0.0           0.0      1.0           0.0        0.0       0.0   \n",
       "\n",
       "          auditory_perception  cognitive  cognitive_control  \\\n",
       "10022492                  0.0        1.0                0.0   \n",
       "10022494                  0.0        0.0                0.0   \n",
       "10022496                  0.0        0.0                0.0   \n",
       "10027301                  0.0        0.0                0.0   \n",
       "10051677                  0.0        0.0                0.0   \n",
       "\n",
       "          cognitive_process  ...  \\\n",
       "10022492                0.0  ...   \n",
       "10022494                1.0  ...   \n",
       "10022496                0.0  ...   \n",
       "10027301                0.0  ...   \n",
       "10051677                0.0  ...   \n",
       "\n",
       "          right_superior_temporal_gyrus_posterior_division  \\\n",
       "10022492                                                 0   \n",
       "10022494                                                 1   \n",
       "10022496                                                 1   \n",
       "10027301                                                 0   \n",
       "10051677                                                 0   \n",
       "\n",
       "          right_supplementary_motor_cortex  right_supracalcarine_cortex  \\\n",
       "10022492                                 1                            0   \n",
       "10022494                                 1                            1   \n",
       "10022496                                 0                            0   \n",
       "10027301                                 0                            0   \n",
       "10051677                                 0                            0   \n",
       "\n",
       "          right_supramarginal_gyrus_anterior_division  \\\n",
       "10022492                                            1   \n",
       "10022494                                            1   \n",
       "10022496                                            0   \n",
       "10027301                                            0   \n",
       "10051677                                            0   \n",
       "\n",
       "          right_supramarginal_gyrus_posterior_division  \\\n",
       "10022492                                             0   \n",
       "10022494                                             0   \n",
       "10022496                                             1   \n",
       "10027301                                             0   \n",
       "10051677                                             1   \n",
       "\n",
       "          right_temporal_fusiform_cortex_anterior_division  \\\n",
       "10022492                                                 0   \n",
       "10022494                                                 0   \n",
       "10022496                                                 0   \n",
       "10027301                                                 0   \n",
       "10051677                                                 0   \n",
       "\n",
       "          right_temporal_fusiform_cortex_posterior_division  \\\n",
       "10022492                                                  0   \n",
       "10022494                                                  0   \n",
       "10022496                                                  0   \n",
       "10027301                                                  0   \n",
       "10051677                                                  1   \n",
       "\n",
       "          right_temporal_occipital_fusiform_cortex  right_temporal_pole  \\\n",
       "10022492                                         0                    0   \n",
       "10022494                                         1                    0   \n",
       "10022496                                         0                    0   \n",
       "10027301                                         1                    0   \n",
       "10051677                                         0                    1   \n",
       "\n",
       "          right_thalamus  \n",
       "10022492               1  \n",
       "10022494               0  \n",
       "10022496               0  \n",
       "10027301               0  \n",
       "10051677               1  \n",
       "\n",
       "[5 rows x 190 columns]"
      ]
     },
     "execution_count": 11,
     "metadata": {},
     "output_type": "execute_result"
    }
   ],
   "source": [
    "docs = dtm_words.copy()\n",
    "docs[structures] = act_structs.copy()\n",
    "docs.head()"
   ]
  },
  {
   "cell_type": "markdown",
   "metadata": {},
   "source": [
    "## Document splits"
   ]
  },
  {
   "cell_type": "code",
   "execution_count": 12,
   "metadata": {},
   "outputs": [
    {
     "name": "stdout",
     "output_type": "stream",
     "text": [
      "Discovery    N=12708\n",
      "Replication  N=5447\n"
     ]
    }
   ],
   "source": [
    "splits = {}\n",
    "splits[\"discovery\"] = [int(pmid.strip()) for pmid in open(\"../data/splits/train.txt\")]\n",
    "splits[\"replication\"] = [int(pmid.strip()) for pmid in open(\"../data/splits/validation.txt\")]\n",
    "splits[\"replication\"] += [int(pmid.strip()) for pmid in open(\"../data/splits/test.txt\")]\n",
    "for split, pmids in splits.items():\n",
    "    print(\"{:12s} N={}\".format(split.title(), len(pmids)))"
   ]
  },
  {
   "cell_type": "markdown",
   "metadata": {},
   "source": [
    "## Document assignments"
   ]
  },
  {
   "cell_type": "code",
   "execution_count": 13,
   "metadata": {},
   "outputs": [],
   "source": [
    "doc2dom_df = pd.read_csv(\"../partition/data/doc2dom_{}{}.csv\".format(framework, clf), \n",
    "                         header=None, index_col=0)\n",
    "doc2dom = {int(pmid): str(dom.values[0]) for pmid, dom in doc2dom_df.iterrows()}"
   ]
  },
  {
   "cell_type": "code",
   "execution_count": 14,
   "metadata": {},
   "outputs": [],
   "source": [
    "dom2docs = {dom: {split: [] for split in [\"discovery\", \"replication\"]} for dom in domains}\n",
    "for doc, dom in doc2dom.items():\n",
    "    for split, split_pmids in splits.items():\n",
    "        if doc in splits[split]:\n",
    "            dom2docs[dom][split].append(doc)"
   ]
  },
  {
   "cell_type": "code",
   "execution_count": 15,
   "metadata": {},
   "outputs": [
    {
     "data": {
      "text/plain": [
       "[10195224, 10220229, 10355673, 10468630, 10594068]"
      ]
     },
     "execution_count": 15,
     "metadata": {},
     "output_type": "execute_result"
    }
   ],
   "source": [
    "sorted_pmids = {}\n",
    "for split, split_pmids in splits.items():\n",
    "    sorted_pmids[split] = []\n",
    "    for dom in domains:\n",
    "        sorted_pmids[split] += [pmid for pmid, sys in doc2dom.items() if sys == dom and pmid in split_pmids]\n",
    "sorted_pmids[\"discovery\"][:5]"
   ]
  },
  {
   "cell_type": "markdown",
   "metadata": {},
   "source": [
    "# Compute document distances\n",
    "\n",
    "Indexing by min:max will be faster in subsequent computations"
   ]
  },
  {
   "cell_type": "code",
   "execution_count": 16,
   "metadata": {},
   "outputs": [],
   "source": [
    "from scipy.spatial.distance import cdist"
   ]
  },
  {
   "cell_type": "code",
   "execution_count": 17,
   "metadata": {},
   "outputs": [],
   "source": [
    "doc_dists = {}\n",
    "for split in splits.keys():\n",
    "    ids = sorted_pmids[split]\n",
    "    doc_dists[split] = cdist(docs.loc[ids], docs.loc[ids], metric=\"dice\")\n",
    "    doc_dists[split] = pd.DataFrame(doc_dists[split], index=ids, columns=ids)"
   ]
  },
  {
   "cell_type": "markdown",
   "metadata": {},
   "source": [
    "## Compute domain min and max indices"
   ]
  },
  {
   "cell_type": "code",
   "execution_count": 18,
   "metadata": {},
   "outputs": [],
   "source": [
    "dom_idx = {}\n",
    "for split in splits.keys():\n",
    "    dom_idx[split] = {dom: {\"min\": 0, \"max\": 0} for dom in domains}\n",
    "    for dom in domains:\n",
    "        dom_pmids = dom2docs[dom][split]\n",
    "        dom_idx[split][dom][\"min\"] = sorted_pmids[split].index(dom_pmids[0])\n",
    "        dom_idx[split][dom][\"max\"] = sorted_pmids[split].index(dom_pmids[-1]) + 1"
   ]
  },
  {
   "cell_type": "markdown",
   "metadata": {},
   "source": [
    "# Compute domain modularity"
   ]
  },
  {
   "cell_type": "markdown",
   "metadata": {},
   "source": [
    "## Observed values\n",
    "\n",
    "### Distances internal and external to articles in each domain"
   ]
  },
  {
   "cell_type": "code",
   "execution_count": 19,
   "metadata": {},
   "outputs": [],
   "source": [
    "dists_int, dists_ext = {}, {}\n",
    "for split, split_pmids in splits.items():\n",
    "    \n",
    "    dists_int[split], dists_ext[split] = {}, {}\n",
    "    for dom in domains:\n",
    "        \n",
    "        dom_min, dom_max = dom_idx[split][dom][\"min\"], dom_idx[split][dom][\"max\"]\n",
    "        dom_dists = doc_dists[split].values[:,dom_min:dom_max][dom_min:dom_max,:]\n",
    "        dists_int[split][dom] = dom_dists\n",
    "        \n",
    "        other_dists_lower = doc_dists[split].values[:,dom_min:dom_max][:dom_min,:]\n",
    "        other_dists_upper = doc_dists[split].values[:,dom_min:dom_max][dom_max:,:]\n",
    "        other_dists = np.concatenate((other_dists_lower, other_dists_upper))\n",
    "        dists_ext[split][dom] = other_dists"
   ]
  },
  {
   "cell_type": "markdown",
   "metadata": {},
   "source": [
    "### Article-level ratio of external to internal distances"
   ]
  },
  {
   "cell_type": "code",
   "execution_count": 20,
   "metadata": {},
   "outputs": [
    {
     "data": {
      "text/html": [
       "<div>\n",
       "<style scoped>\n",
       "    .dataframe tbody tr th:only-of-type {\n",
       "        vertical-align: middle;\n",
       "    }\n",
       "\n",
       "    .dataframe tbody tr th {\n",
       "        vertical-align: top;\n",
       "    }\n",
       "\n",
       "    .dataframe thead th {\n",
       "        text-align: right;\n",
       "    }\n",
       "</style>\n",
       "<table border=\"1\" class=\"dataframe\">\n",
       "  <thead>\n",
       "    <tr style=\"text-align: right;\">\n",
       "      <th></th>\n",
       "      <th>PMID</th>\n",
       "      <th>SPLIT</th>\n",
       "      <th>DOMAIN</th>\n",
       "      <th>OBSERVED</th>\n",
       "    </tr>\n",
       "  </thead>\n",
       "  <tbody>\n",
       "    <tr>\n",
       "      <th>0</th>\n",
       "      <td>10195224</td>\n",
       "      <td>discovery</td>\n",
       "      <td>MEMORY</td>\n",
       "      <td>1.323744</td>\n",
       "    </tr>\n",
       "    <tr>\n",
       "      <th>1</th>\n",
       "      <td>10220229</td>\n",
       "      <td>discovery</td>\n",
       "      <td>MEMORY</td>\n",
       "      <td>1.046946</td>\n",
       "    </tr>\n",
       "    <tr>\n",
       "      <th>2</th>\n",
       "      <td>10355673</td>\n",
       "      <td>discovery</td>\n",
       "      <td>MEMORY</td>\n",
       "      <td>1.078658</td>\n",
       "    </tr>\n",
       "    <tr>\n",
       "      <th>3</th>\n",
       "      <td>10468630</td>\n",
       "      <td>discovery</td>\n",
       "      <td>MEMORY</td>\n",
       "      <td>1.142971</td>\n",
       "    </tr>\n",
       "    <tr>\n",
       "      <th>4</th>\n",
       "      <td>10594068</td>\n",
       "      <td>discovery</td>\n",
       "      <td>MEMORY</td>\n",
       "      <td>1.004198</td>\n",
       "    </tr>\n",
       "  </tbody>\n",
       "</table>\n",
       "</div>"
      ],
      "text/plain": [
       "       PMID      SPLIT  DOMAIN  OBSERVED\n",
       "0  10195224  discovery  MEMORY  1.323744\n",
       "1  10220229  discovery  MEMORY  1.046946\n",
       "2  10355673  discovery  MEMORY  1.078658\n",
       "3  10468630  discovery  MEMORY  1.142971\n",
       "4  10594068  discovery  MEMORY  1.004198"
      ]
     },
     "execution_count": 20,
     "metadata": {},
     "output_type": "execute_result"
    }
   ],
   "source": [
    "df_stat = {}\n",
    "pmid_list, split_list, dom_list, obs_list  = [], [], [], []\n",
    "\n",
    "for split, split_pmids in splits.items():\n",
    "    \n",
    "    df_stat[split] = pd.DataFrame(index=domains, columns=[\"OBSERVED\"])\n",
    "\n",
    "    for dom in domains:\n",
    "\n",
    "        mean_dist_int = np.mean(dists_int[split][dom], axis=0)\n",
    "        mean_dist_ext = np.mean(dists_ext[split][dom], axis=0)\n",
    "\n",
    "        df_stat[split].loc[dom, \"OBSERVED\"] = np.nanmean(mean_dist_ext / mean_dist_int)\n",
    "        \n",
    "        obs = mean_dist_ext / mean_dist_int\n",
    "        pmid_list += dom2docs[dom][split]\n",
    "        dom_list += [dom] * len(obs)\n",
    "        split_list += [split] * len(obs)\n",
    "        obs_list += list(obs)\n",
    "\n",
    "df_obs = pd.DataFrame({\"PMID\": pmid_list, \"SPLIT\": split_list, \n",
    "                       \"DOMAIN\": dom_list, \"OBSERVED\": obs_list})\n",
    "df_obs.to_csv(\"data/mod_obs_{}{}.csv\".format(framework, clf))    \n",
    "df_obs.head()"
   ]
  },
  {
   "cell_type": "code",
   "execution_count": 21,
   "metadata": {},
   "outputs": [
    {
     "name": "stdout",
     "output_type": "stream",
     "text": [
      "Discovery set modularity     1.1008\n",
      "Replication set modularity   1.1036\n"
     ]
    }
   ],
   "source": [
    "for split in splits.keys():\n",
    "    obs = df_stat[split][\"OBSERVED\"].mean()\n",
    "    print(\"{:28s} {:6.4f}\".format(split.title() + \" set modularity\", obs))"
   ]
  },
  {
   "cell_type": "markdown",
   "metadata": {},
   "source": [
    "## Null distributions"
   ]
  },
  {
   "cell_type": "code",
   "execution_count": 22,
   "metadata": {},
   "outputs": [],
   "source": [
    "import os"
   ]
  },
  {
   "cell_type": "code",
   "execution_count": 23,
   "metadata": {},
   "outputs": [
    {
     "name": "stdout",
     "output_type": "stream",
     "text": [
      "Processing discovery split (N=12708 documents)\n",
      "Processing replication split (N=5447 documents)\n"
     ]
    }
   ],
   "source": [
    "df_null = {}\n",
    "for split, split_pmids in splits.items():\n",
    "    \n",
    "    print(\"Processing {} split (N={} documents)\".format(split, len(split_pmids)))\n",
    "    \n",
    "    n_docs = len(split_pmids)\n",
    "    file_null = \"data/mod_null_{}{}_{}_{}iter.csv\".format(framework, clf, split, n_iter)\n",
    "    if not os.path.isfile(file_null):\n",
    "        \n",
    "        df_null[split] = np.empty((len(domains), n_iter))\n",
    "        for i, dom in enumerate(domains):\n",
    "            \n",
    "            print(\"----- Processing {}\".format(dom))\n",
    "            \n",
    "            n_dom_docs = dists_int[split][dom].shape[0]\n",
    "            dist_int_ext = np.concatenate((dists_int[split][dom], dists_ext[split][dom]))\n",
    "            for n in range(n_iter):\n",
    "                \n",
    "                null = np.random.choice(range(n_docs), size=n_docs, replace=False)\n",
    "                dist_int_ext_null = dist_int_ext[null,:]\n",
    "                \n",
    "                mean_dist_int = np.mean(dist_int_ext_null[:n_dom_docs,:], axis=0)\n",
    "                mean_dist_ext = np.mean(dist_int_ext_null[n_dom_docs:,:], axis=0)\n",
    "                \n",
    "                df_null[split][i,n] = np.nanmean(mean_dist_ext / mean_dist_int)\n",
    "\n",
    "        df_null[split] = pd.DataFrame(df_null[split], index=domains, columns=range(n_iter))\n",
    "        df_null[split].to_csv(file_null)\n",
    "        print(\"\")\n",
    "\n",
    "    else:\n",
    "        df_null[split] = pd.read_csv(file_null, index_col=0, header=0)"
   ]
  },
  {
   "cell_type": "markdown",
   "metadata": {},
   "source": [
    "### Interleave splits to facilitate plotting"
   ]
  },
  {
   "cell_type": "code",
   "execution_count": 24,
   "metadata": {},
   "outputs": [
    {
     "data": {
      "text/html": [
       "<div>\n",
       "<style scoped>\n",
       "    .dataframe tbody tr th:only-of-type {\n",
       "        vertical-align: middle;\n",
       "    }\n",
       "\n",
       "    .dataframe tbody tr th {\n",
       "        vertical-align: top;\n",
       "    }\n",
       "\n",
       "    .dataframe thead th {\n",
       "        text-align: right;\n",
       "    }\n",
       "</style>\n",
       "<table border=\"1\" class=\"dataframe\">\n",
       "  <thead>\n",
       "    <tr style=\"text-align: right;\">\n",
       "      <th></th>\n",
       "      <th>0</th>\n",
       "      <th>1</th>\n",
       "      <th>10</th>\n",
       "      <th>100</th>\n",
       "      <th>101</th>\n",
       "      <th>102</th>\n",
       "      <th>103</th>\n",
       "      <th>104</th>\n",
       "      <th>105</th>\n",
       "      <th>106</th>\n",
       "      <th>...</th>\n",
       "      <th>990</th>\n",
       "      <th>991</th>\n",
       "      <th>992</th>\n",
       "      <th>993</th>\n",
       "      <th>994</th>\n",
       "      <th>995</th>\n",
       "      <th>996</th>\n",
       "      <th>997</th>\n",
       "      <th>998</th>\n",
       "      <th>999</th>\n",
       "    </tr>\n",
       "  </thead>\n",
       "  <tbody>\n",
       "    <tr>\n",
       "      <th>MEMORY_discovery</th>\n",
       "      <td>0.999804</td>\n",
       "      <td>1.001859</td>\n",
       "      <td>1.003823</td>\n",
       "      <td>1.000766</td>\n",
       "      <td>1.000259</td>\n",
       "      <td>0.998790</td>\n",
       "      <td>1.002327</td>\n",
       "      <td>1.000321</td>\n",
       "      <td>0.989782</td>\n",
       "      <td>1.000225</td>\n",
       "      <td>...</td>\n",
       "      <td>1.000211</td>\n",
       "      <td>1.002958</td>\n",
       "      <td>0.995873</td>\n",
       "      <td>0.998557</td>\n",
       "      <td>0.998570</td>\n",
       "      <td>0.998520</td>\n",
       "      <td>1.000643</td>\n",
       "      <td>0.995142</td>\n",
       "      <td>1.002591</td>\n",
       "      <td>1.000540</td>\n",
       "    </tr>\n",
       "    <tr>\n",
       "      <th>MEMORY_replication</th>\n",
       "      <td>0.996697</td>\n",
       "      <td>1.000040</td>\n",
       "      <td>0.997177</td>\n",
       "      <td>1.000172</td>\n",
       "      <td>1.003380</td>\n",
       "      <td>1.004080</td>\n",
       "      <td>1.006237</td>\n",
       "      <td>0.996739</td>\n",
       "      <td>0.998030</td>\n",
       "      <td>0.996563</td>\n",
       "      <td>...</td>\n",
       "      <td>1.003568</td>\n",
       "      <td>0.996028</td>\n",
       "      <td>1.000078</td>\n",
       "      <td>0.996639</td>\n",
       "      <td>0.995189</td>\n",
       "      <td>0.991402</td>\n",
       "      <td>0.999054</td>\n",
       "      <td>0.995172</td>\n",
       "      <td>0.998332</td>\n",
       "      <td>0.995508</td>\n",
       "    </tr>\n",
       "    <tr>\n",
       "      <th>REWARD_discovery</th>\n",
       "      <td>0.998860</td>\n",
       "      <td>0.995150</td>\n",
       "      <td>1.003490</td>\n",
       "      <td>1.002830</td>\n",
       "      <td>1.002531</td>\n",
       "      <td>0.998282</td>\n",
       "      <td>0.999829</td>\n",
       "      <td>0.996180</td>\n",
       "      <td>1.003280</td>\n",
       "      <td>0.998213</td>\n",
       "      <td>...</td>\n",
       "      <td>0.996344</td>\n",
       "      <td>0.997376</td>\n",
       "      <td>0.994281</td>\n",
       "      <td>1.001220</td>\n",
       "      <td>1.002322</td>\n",
       "      <td>1.001450</td>\n",
       "      <td>1.006066</td>\n",
       "      <td>1.000441</td>\n",
       "      <td>0.999972</td>\n",
       "      <td>1.001460</td>\n",
       "    </tr>\n",
       "    <tr>\n",
       "      <th>REWARD_replication</th>\n",
       "      <td>0.994222</td>\n",
       "      <td>1.006434</td>\n",
       "      <td>0.996412</td>\n",
       "      <td>0.997874</td>\n",
       "      <td>1.001143</td>\n",
       "      <td>1.010375</td>\n",
       "      <td>1.006328</td>\n",
       "      <td>1.000036</td>\n",
       "      <td>1.004884</td>\n",
       "      <td>1.006778</td>\n",
       "      <td>...</td>\n",
       "      <td>0.997902</td>\n",
       "      <td>0.994038</td>\n",
       "      <td>1.002361</td>\n",
       "      <td>0.996311</td>\n",
       "      <td>1.001472</td>\n",
       "      <td>0.996456</td>\n",
       "      <td>1.005092</td>\n",
       "      <td>1.003820</td>\n",
       "      <td>1.007084</td>\n",
       "      <td>1.003313</td>\n",
       "    </tr>\n",
       "    <tr>\n",
       "      <th>COGNITION_discovery</th>\n",
       "      <td>1.002751</td>\n",
       "      <td>0.997645</td>\n",
       "      <td>1.000112</td>\n",
       "      <td>0.994068</td>\n",
       "      <td>1.004077</td>\n",
       "      <td>0.996920</td>\n",
       "      <td>1.001037</td>\n",
       "      <td>0.998028</td>\n",
       "      <td>1.000163</td>\n",
       "      <td>0.998903</td>\n",
       "      <td>...</td>\n",
       "      <td>1.000172</td>\n",
       "      <td>0.998874</td>\n",
       "      <td>1.000154</td>\n",
       "      <td>1.000985</td>\n",
       "      <td>0.996442</td>\n",
       "      <td>1.003651</td>\n",
       "      <td>1.004839</td>\n",
       "      <td>0.997628</td>\n",
       "      <td>1.000827</td>\n",
       "      <td>0.998100</td>\n",
       "    </tr>\n",
       "  </tbody>\n",
       "</table>\n",
       "<p>5 rows × 1000 columns</p>\n",
       "</div>"
      ],
      "text/plain": [
       "                            0         1        10       100       101  \\\n",
       "MEMORY_discovery     0.999804  1.001859  1.003823  1.000766  1.000259   \n",
       "MEMORY_replication   0.996697  1.000040  0.997177  1.000172  1.003380   \n",
       "REWARD_discovery     0.998860  0.995150  1.003490  1.002830  1.002531   \n",
       "REWARD_replication   0.994222  1.006434  0.996412  0.997874  1.001143   \n",
       "COGNITION_discovery  1.002751  0.997645  1.000112  0.994068  1.004077   \n",
       "\n",
       "                          102       103       104       105       106  ...  \\\n",
       "MEMORY_discovery     0.998790  1.002327  1.000321  0.989782  1.000225  ...   \n",
       "MEMORY_replication   1.004080  1.006237  0.996739  0.998030  0.996563  ...   \n",
       "REWARD_discovery     0.998282  0.999829  0.996180  1.003280  0.998213  ...   \n",
       "REWARD_replication   1.010375  1.006328  1.000036  1.004884  1.006778  ...   \n",
       "COGNITION_discovery  0.996920  1.001037  0.998028  1.000163  0.998903  ...   \n",
       "\n",
       "                          990       991       992       993       994  \\\n",
       "MEMORY_discovery     1.000211  1.002958  0.995873  0.998557  0.998570   \n",
       "MEMORY_replication   1.003568  0.996028  1.000078  0.996639  0.995189   \n",
       "REWARD_discovery     0.996344  0.997376  0.994281  1.001220  1.002322   \n",
       "REWARD_replication   0.997902  0.994038  1.002361  0.996311  1.001472   \n",
       "COGNITION_discovery  1.000172  0.998874  1.000154  1.000985  0.996442   \n",
       "\n",
       "                          995       996       997       998       999  \n",
       "MEMORY_discovery     0.998520  1.000643  0.995142  1.002591  1.000540  \n",
       "MEMORY_replication   0.991402  0.999054  0.995172  0.998332  0.995508  \n",
       "REWARD_discovery     1.001450  1.006066  1.000441  0.999972  1.001460  \n",
       "REWARD_replication   0.996456  1.005092  1.003820  1.007084  1.003313  \n",
       "COGNITION_discovery  1.003651  1.004839  0.997628  1.000827  0.998100  \n",
       "\n",
       "[5 rows x 1000 columns]"
      ]
     },
     "execution_count": 24,
     "metadata": {},
     "output_type": "execute_result"
    }
   ],
   "source": [
    "df_null_interleaved = pd.DataFrame()\n",
    "null_idx = []\n",
    "for dom in domains:\n",
    "    for split in [\"discovery\", \"replication\"]:\n",
    "        df_null_interleaved = df_null_interleaved.append(df_null[split].loc[dom])\n",
    "        null_idx.append(dom + \"_\" + split)\n",
    "df_null_interleaved.index = null_idx\n",
    "df_null_interleaved.head()"
   ]
  },
  {
   "cell_type": "markdown",
   "metadata": {},
   "source": [
    "## Bootstrap distributions"
   ]
  },
  {
   "cell_type": "code",
   "execution_count": 25,
   "metadata": {},
   "outputs": [
    {
     "name": "stdout",
     "output_type": "stream",
     "text": [
      "Processing discovery split (N=12708 documents)\n",
      "Processing replication split (N=5447 documents)\n"
     ]
    }
   ],
   "source": [
    "df_boot = {}\n",
    "for split, split_pmids in splits.items():\n",
    "    \n",
    "    print(\"Processing {} split (N={} documents)\".format(split, len(split_pmids)))\n",
    "\n",
    "    file_boot = \"data/mod_boot_{}{}_{}_{}iter.csv\".format(framework, clf, split, n_iter)\n",
    "    if not os.path.isfile(file_boot):\n",
    "        \n",
    "        df_boot[split] = np.empty((len(domains), n_iter))\n",
    "        for i, dom in enumerate(domains):\n",
    "            \n",
    "            print(\"----- Processing {}\".format(dom))\n",
    "            \n",
    "            n_docs = dists_int[split][dom].shape[0]\n",
    "            \n",
    "            for n in range(n_iter):\n",
    "                \n",
    "                boot = np.random.choice(range(n_docs), size=n_docs, replace=True)\n",
    "            \n",
    "                mean_dist_int = np.mean(dists_int[split][dom][:,boot], axis=0)\n",
    "                mean_dist_ext = np.mean(dists_ext[split][dom][:,boot], axis=0)\n",
    "                \n",
    "                df_boot[split][i,n] = np.nanmean(mean_dist_ext / mean_dist_int)\n",
    "\n",
    "        df_boot[split] = pd.DataFrame(df_boot[split], index=domains, columns=range(n_iter))\n",
    "        df_boot[split].to_csv(file_boot)\n",
    "        print(\"\")\n",
    "\n",
    "    else:\n",
    "        df_boot[split] = pd.read_csv(file_boot, index_col=0, header=0)"
   ]
  },
  {
   "cell_type": "markdown",
   "metadata": {},
   "source": [
    "# Perform significance testing"
   ]
  },
  {
   "cell_type": "code",
   "execution_count": 26,
   "metadata": {},
   "outputs": [],
   "source": [
    "from statsmodels.stats import multitest"
   ]
  },
  {
   "cell_type": "code",
   "execution_count": 27,
   "metadata": {},
   "outputs": [
    {
     "name": "stdout",
     "output_type": "stream",
     "text": [
      "-----------------------------------------------------------------\n",
      "DISCOVERY\n",
      "-----------------------------------------------------------------\n",
      "             OBSERVED    P  FDR STARS\n",
      "MEMORY        1.06866  0.0  0.0     *\n",
      "REWARD        1.06649  0.0  0.0     *\n",
      "COGNITION     1.02714  0.0  0.0     *\n",
      "VISION        1.10487  0.0  0.0     *\n",
      "MANIPULATION  1.19402  0.0  0.0     *\n",
      "LANGUAGE      1.14371  0.0  0.0     *\n",
      "\n",
      "-----------------------------------------------------------------\n",
      "REPLICATION\n",
      "-----------------------------------------------------------------\n",
      "             OBSERVED    P  FDR STARS\n",
      "MEMORY        1.09097  0.0  0.0     *\n",
      "REWARD        1.05985  0.0  0.0     *\n",
      "COGNITION     1.02968  0.0  0.0     *\n",
      "VISION        1.10755  0.0  0.0     *\n",
      "MANIPULATION  1.18872  0.0  0.0     *\n",
      "LANGUAGE       1.1449  0.0  0.0     *\n",
      "\n"
     ]
    }
   ],
   "source": [
    "for split in splits.keys():\n",
    "    \n",
    "    pval = []\n",
    "    for dom in domains:   \n",
    "        dom_null = df_null[split].loc[dom].values\n",
    "        dom_obs = float(df_stat[split].loc[dom, \"OBSERVED\"])\n",
    "        p = np.sum(dom_null >= dom_obs) / float(n_iter)\n",
    "        pval.append(p)\n",
    "        df_stat[split].loc[dom, \"P\"] = p\n",
    "    df_stat[split][\"FDR\"] = multitest.multipletests(pval, method=\"fdr_bh\")[1]\n",
    "    \n",
    "    for dom in domains:\n",
    "        if df_stat[split].loc[dom, \"FDR\"] < alpha:\n",
    "            df_stat[split].loc[dom, \"STARS\"] = \"*\"\n",
    "        else:\n",
    "            df_stat[split].loc[dom, \"STARS\"] = \"\"\n",
    "    df_stat[split] = df_stat[split].loc[domains, [\"OBSERVED\", \"P\", \"FDR\", \"STARS\"]]\n",
    "    df_stat[split].to_csv(\"data/mod_mean_{}{}_{}.csv\".format(framework, clf, split))\n",
    "    \n",
    "    print(\"-\" * 65 + \"\\n\" + split.upper() + \"\\n\" + \"-\" * 65)\n",
    "    print(df_stat[split])\n",
    "    print(\"\")"
   ]
  },
  {
   "cell_type": "markdown",
   "metadata": {},
   "source": [
    "# Plot results"
   ]
  },
  {
   "cell_type": "code",
   "execution_count": 28,
   "metadata": {},
   "outputs": [],
   "source": [
    "%matplotlib inline"
   ]
  },
  {
   "cell_type": "code",
   "execution_count": 29,
   "metadata": {},
   "outputs": [
    {
     "data": {
      "image/png": "[encoded data removed]",
      "text/plain": [
       "<Figure size 266.4x151.2 with 1 Axes>"
      ]
     },
     "metadata": {},
     "output_type": "display_data"
    }
   ],
   "source": [
    "utilities.plot_split_violins(framework, domains, df_obs, df_null_interleaved, df_stat, \n",
    "                             style.palettes[framework], metric=\"mod\", dx=dx, \n",
    "                             ylim=[0.75,1.75], yticks=[0.75,1,1.25,1.5,1.75], \n",
    "                             interval=0.999, alphas=[0], suffix=clf, figsize=(3.7, 2.1))"
   ]
  },
  {
   "cell_type": "code",
   "execution_count": null,
   "metadata": {},
   "outputs": [],
   "source": []
  }
 ],
 "metadata": {
  "kernelspec": {
   "display_name": "Python [conda env:ontol] *",
   "language": "python",
   "name": "conda-env-ontol-py"
  },
  "language_info": {
   "codemirror_mode": {
    "name": "ipython",
    "version": 3
   },
   "file_extension": ".py",
   "mimetype": "text/x-python",
   "name": "python",
   "nbconvert_exporter": "python",
   "pygments_lexer": "ipython3",
   "version": "3.6.8"
  }
 },
 "nbformat": 4,
 "nbformat_minor": 2
}
