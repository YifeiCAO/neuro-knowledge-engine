{
 "cells": [
  {
   "cell_type": "markdown",
   "metadata": {},
   "source": [
    "# Introduction\n",
    "\n",
    "In a prior notebook, documents were partitioned by assigning them to the domain with the highest Dice similarity of their term and structure occurrences. Here, we'll assess whether the observed modularity of the partitions is greater than expected by chance. Modularity will be measured by the ratio of dispersion between partitions to dispersion within partitions.\n",
    "\n",
    "# Load the data"
   ]
  },
  {
   "cell_type": "code",
   "execution_count": 1,
   "metadata": {},
   "outputs": [],
   "source": [
    "import pandas as pd\n",
    "import numpy as np\n",
    "np.random.seed(42)\n",
    "\n",
    "import sys\n",
    "sys.path.append(\"..\")\n",
    "import utilities, modularity"
   ]
  },
  {
   "cell_type": "code",
   "execution_count": 2,
   "metadata": {},
   "outputs": [],
   "source": [
    "framework = \"data-driven\" \n",
    "version = 190325 # Document-term matrix version\n",
    "classifier_suffix = \"_nn\" # Suffix for data-driven classifiers\n",
    "n_iter = 1000 # Iterations for bootstrap and null\n",
    "dx = [0.36, 0.35, 0.38, 0.38, 0.34, 0.35] # Nudges for plotted means\n",
    "ds = 0.09 # Nudges for plotted stars\n",
    "alpha = 0.001 # Significance level for statistical comparisons"
   ]
  },
  {
   "cell_type": "markdown",
   "metadata": {},
   "source": [
    "## Brain activation coordinates"
   ]
  },
  {
   "cell_type": "code",
   "execution_count": 3,
   "metadata": {},
   "outputs": [
    {
     "name": "stdout",
     "output_type": "stream",
     "text": [
      "Document N=18155, Structure N=114\n"
     ]
    }
   ],
   "source": [
    "act_bin = utilities.load_coordinates()\n",
    "print(\"Document N={}, Structure N={}\".format(\n",
    "      act_bin.shape[0], act_bin.shape[1]))"
   ]
  },
  {
   "cell_type": "markdown",
   "metadata": {},
   "source": [
    "## Document-term matrix"
   ]
  },
  {
   "cell_type": "code",
   "execution_count": 4,
   "metadata": {},
   "outputs": [
    {
     "name": "stdout",
     "output_type": "stream",
     "text": [
      "Document N=18155, Term N=4107\n"
     ]
    }
   ],
   "source": [
    "dtm_bin = utilities.load_doc_term_matrix(version=version, binarize=True)\n",
    "print(\"Document N={}, Term N={}\".format(\n",
    "      dtm_bin.shape[0], dtm_bin.shape[1]))"
   ]
  },
  {
   "cell_type": "markdown",
   "metadata": {},
   "source": [
    "## Domain archetypes"
   ]
  },
  {
   "cell_type": "code",
   "execution_count": 5,
   "metadata": {},
   "outputs": [],
   "source": [
    "from collections import OrderedDict"
   ]
  },
  {
   "cell_type": "code",
   "execution_count": 6,
   "metadata": {},
   "outputs": [],
   "source": [
    "lists, circuits = utilities.load_framework(framework, suffix=utilities.suffix[framework], circuit_suffix=\"_nn\")"
   ]
  },
  {
   "cell_type": "code",
   "execution_count": 7,
   "metadata": {},
   "outputs": [],
   "source": [
    "words = sorted(list(set(lists[\"TOKEN\"])))\n",
    "structures = sorted(list(set(act_bin.columns)))\n",
    "domains = list(OrderedDict.fromkeys(lists[\"DOMAIN\"]))"
   ]
  },
  {
   "cell_type": "code",
   "execution_count": 8,
   "metadata": {},
   "outputs": [
    {
     "name": "stdout",
     "output_type": "stream",
     "text": [
      "Term & Structure N=175, Domain N=6\n"
     ]
    }
   ],
   "source": [
    "archetypes = pd.DataFrame(0.0, index=words+structures, columns=domains)\n",
    "for dom in domains:\n",
    "    for word in lists.loc[lists[\"DOMAIN\"] == dom, \"TOKEN\"]:\n",
    "        archetypes.loc[word, dom] = 1.0\n",
    "    for struct in structures:\n",
    "        archetypes.loc[struct, dom] = circuits.loc[struct, dom]\n",
    "archetypes[archetypes > 0.0] = 1.0\n",
    "print(\"Term & Structure N={}, Domain N={}\".format(\n",
    "      archetypes.shape[0], archetypes.shape[1]))"
   ]
  },
  {
   "cell_type": "markdown",
   "metadata": {},
   "source": [
    "## Document structure-term vectors"
   ]
  },
  {
   "cell_type": "code",
   "execution_count": 9,
   "metadata": {},
   "outputs": [
    {
     "data": {
      "text/plain": [
       "18155"
      ]
     },
     "execution_count": 9,
     "metadata": {},
     "output_type": "execute_result"
    }
   ],
   "source": [
    "pmids = dtm_bin.index.intersection(act_bin.index)\n",
    "len(pmids)"
   ]
  },
  {
   "cell_type": "code",
   "execution_count": 10,
   "metadata": {},
   "outputs": [],
   "source": [
    "dtm_words = dtm_bin.loc[pmids, words]\n",
    "act_structs = act_bin.loc[pmids, structures]"
   ]
  },
  {
   "cell_type": "code",
   "execution_count": 11,
   "metadata": {},
   "outputs": [
    {
     "data": {
      "text/html": [
       "<div>\n",
       "<style scoped>\n",
       "    .dataframe tbody tr th:only-of-type {\n",
       "        vertical-align: middle;\n",
       "    }\n",
       "\n",
       "    .dataframe tbody tr th {\n",
       "        vertical-align: top;\n",
       "    }\n",
       "\n",
       "    .dataframe thead th {\n",
       "        text-align: right;\n",
       "    }\n",
       "</style>\n",
       "<table border=\"1\" class=\"dataframe\">\n",
       "  <thead>\n",
       "    <tr style=\"text-align: right;\">\n",
       "      <th></th>\n",
       "      <th>action</th>\n",
       "      <th>anticipation</th>\n",
       "      <th>arousal</th>\n",
       "      <th>attention</th>\n",
       "      <th>cognitive_control</th>\n",
       "      <th>decision_making</th>\n",
       "      <th>declarative_memory</th>\n",
       "      <th>emotion</th>\n",
       "      <th>emotional_memory</th>\n",
       "      <th>encoding</th>\n",
       "      <th>...</th>\n",
       "      <th>right_superior_temporal_gyrus_posterior_division</th>\n",
       "      <th>right_supplementary_motor_cortex</th>\n",
       "      <th>right_supracalcarine_cortex</th>\n",
       "      <th>right_supramarginal_gyrus_anterior_division</th>\n",
       "      <th>right_supramarginal_gyrus_posterior_division</th>\n",
       "      <th>right_temporal_fusiform_cortex_anterior_division</th>\n",
       "      <th>right_temporal_fusiform_cortex_posterior_division</th>\n",
       "      <th>right_temporal_occipital_fusiform_cortex</th>\n",
       "      <th>right_temporal_pole</th>\n",
       "      <th>right_thalamus</th>\n",
       "    </tr>\n",
       "  </thead>\n",
       "  <tbody>\n",
       "    <tr>\n",
       "      <th>10022492</th>\n",
       "      <td>0.0</td>\n",
       "      <td>1.0</td>\n",
       "      <td>0.0</td>\n",
       "      <td>0.0</td>\n",
       "      <td>0.0</td>\n",
       "      <td>0.0</td>\n",
       "      <td>0.0</td>\n",
       "      <td>0.0</td>\n",
       "      <td>0.0</td>\n",
       "      <td>0.0</td>\n",
       "      <td>...</td>\n",
       "      <td>0</td>\n",
       "      <td>1</td>\n",
       "      <td>0</td>\n",
       "      <td>1</td>\n",
       "      <td>0</td>\n",
       "      <td>0</td>\n",
       "      <td>0</td>\n",
       "      <td>0</td>\n",
       "      <td>0</td>\n",
       "      <td>1</td>\n",
       "    </tr>\n",
       "    <tr>\n",
       "      <th>10022494</th>\n",
       "      <td>0.0</td>\n",
       "      <td>0.0</td>\n",
       "      <td>0.0</td>\n",
       "      <td>0.0</td>\n",
       "      <td>0.0</td>\n",
       "      <td>0.0</td>\n",
       "      <td>0.0</td>\n",
       "      <td>0.0</td>\n",
       "      <td>0.0</td>\n",
       "      <td>0.0</td>\n",
       "      <td>...</td>\n",
       "      <td>1</td>\n",
       "      <td>1</td>\n",
       "      <td>1</td>\n",
       "      <td>1</td>\n",
       "      <td>0</td>\n",
       "      <td>0</td>\n",
       "      <td>0</td>\n",
       "      <td>1</td>\n",
       "      <td>0</td>\n",
       "      <td>0</td>\n",
       "    </tr>\n",
       "    <tr>\n",
       "      <th>10022496</th>\n",
       "      <td>0.0</td>\n",
       "      <td>1.0</td>\n",
       "      <td>0.0</td>\n",
       "      <td>0.0</td>\n",
       "      <td>0.0</td>\n",
       "      <td>0.0</td>\n",
       "      <td>0.0</td>\n",
       "      <td>0.0</td>\n",
       "      <td>0.0</td>\n",
       "      <td>0.0</td>\n",
       "      <td>...</td>\n",
       "      <td>1</td>\n",
       "      <td>0</td>\n",
       "      <td>0</td>\n",
       "      <td>0</td>\n",
       "      <td>1</td>\n",
       "      <td>0</td>\n",
       "      <td>0</td>\n",
       "      <td>0</td>\n",
       "      <td>0</td>\n",
       "      <td>0</td>\n",
       "    </tr>\n",
       "    <tr>\n",
       "      <th>10027301</th>\n",
       "      <td>0.0</td>\n",
       "      <td>0.0</td>\n",
       "      <td>0.0</td>\n",
       "      <td>0.0</td>\n",
       "      <td>0.0</td>\n",
       "      <td>0.0</td>\n",
       "      <td>0.0</td>\n",
       "      <td>0.0</td>\n",
       "      <td>0.0</td>\n",
       "      <td>0.0</td>\n",
       "      <td>...</td>\n",
       "      <td>0</td>\n",
       "      <td>0</td>\n",
       "      <td>0</td>\n",
       "      <td>0</td>\n",
       "      <td>0</td>\n",
       "      <td>0</td>\n",
       "      <td>0</td>\n",
       "      <td>1</td>\n",
       "      <td>0</td>\n",
       "      <td>0</td>\n",
       "    </tr>\n",
       "    <tr>\n",
       "      <th>10051677</th>\n",
       "      <td>0.0</td>\n",
       "      <td>0.0</td>\n",
       "      <td>1.0</td>\n",
       "      <td>0.0</td>\n",
       "      <td>0.0</td>\n",
       "      <td>0.0</td>\n",
       "      <td>0.0</td>\n",
       "      <td>0.0</td>\n",
       "      <td>0.0</td>\n",
       "      <td>0.0</td>\n",
       "      <td>...</td>\n",
       "      <td>0</td>\n",
       "      <td>0</td>\n",
       "      <td>0</td>\n",
       "      <td>0</td>\n",
       "      <td>1</td>\n",
       "      <td>0</td>\n",
       "      <td>1</td>\n",
       "      <td>0</td>\n",
       "      <td>1</td>\n",
       "      <td>1</td>\n",
       "    </tr>\n",
       "  </tbody>\n",
       "</table>\n",
       "<p>5 rows × 175 columns</p>\n",
       "</div>"
      ],
      "text/plain": [
       "          action  anticipation  arousal  attention  cognitive_control  \\\n",
       "10022492     0.0           1.0      0.0        0.0                0.0   \n",
       "10022494     0.0           0.0      0.0        0.0                0.0   \n",
       "10022496     0.0           1.0      0.0        0.0                0.0   \n",
       "10027301     0.0           0.0      0.0        0.0                0.0   \n",
       "10051677     0.0           0.0      1.0        0.0                0.0   \n",
       "\n",
       "          decision_making  declarative_memory  emotion  emotional_memory  \\\n",
       "10022492              0.0                 0.0      0.0               0.0   \n",
       "10022494              0.0                 0.0      0.0               0.0   \n",
       "10022496              0.0                 0.0      0.0               0.0   \n",
       "10027301              0.0                 0.0      0.0               0.0   \n",
       "10051677              0.0                 0.0      0.0               0.0   \n",
       "\n",
       "          encoding  ...  right_superior_temporal_gyrus_posterior_division  \\\n",
       "10022492       0.0  ...                                                 0   \n",
       "10022494       0.0  ...                                                 1   \n",
       "10022496       0.0  ...                                                 1   \n",
       "10027301       0.0  ...                                                 0   \n",
       "10051677       0.0  ...                                                 0   \n",
       "\n",
       "          right_supplementary_motor_cortex  right_supracalcarine_cortex  \\\n",
       "10022492                                 1                            0   \n",
       "10022494                                 1                            1   \n",
       "10022496                                 0                            0   \n",
       "10027301                                 0                            0   \n",
       "10051677                                 0                            0   \n",
       "\n",
       "          right_supramarginal_gyrus_anterior_division  \\\n",
       "10022492                                            1   \n",
       "10022494                                            1   \n",
       "10022496                                            0   \n",
       "10027301                                            0   \n",
       "10051677                                            0   \n",
       "\n",
       "          right_supramarginal_gyrus_posterior_division  \\\n",
       "10022492                                             0   \n",
       "10022494                                             0   \n",
       "10022496                                             1   \n",
       "10027301                                             0   \n",
       "10051677                                             1   \n",
       "\n",
       "          right_temporal_fusiform_cortex_anterior_division  \\\n",
       "10022492                                                 0   \n",
       "10022494                                                 0   \n",
       "10022496                                                 0   \n",
       "10027301                                                 0   \n",
       "10051677                                                 0   \n",
       "\n",
       "          right_temporal_fusiform_cortex_posterior_division  \\\n",
       "10022492                                                  0   \n",
       "10022494                                                  0   \n",
       "10022496                                                  0   \n",
       "10027301                                                  0   \n",
       "10051677                                                  1   \n",
       "\n",
       "          right_temporal_occipital_fusiform_cortex  right_temporal_pole  \\\n",
       "10022492                                         0                    0   \n",
       "10022494                                         1                    0   \n",
       "10022496                                         0                    0   \n",
       "10027301                                         1                    0   \n",
       "10051677                                         0                    1   \n",
       "\n",
       "          right_thalamus  \n",
       "10022492               1  \n",
       "10022494               0  \n",
       "10022496               0  \n",
       "10027301               0  \n",
       "10051677               1  \n",
       "\n",
       "[5 rows x 175 columns]"
      ]
     },
     "execution_count": 11,
     "metadata": {},
     "output_type": "execute_result"
    }
   ],
   "source": [
    "docs = dtm_words.copy()\n",
    "docs[structures] = act_structs.copy()\n",
    "docs.head()"
   ]
  },
  {
   "cell_type": "markdown",
   "metadata": {},
   "source": [
    "## Dice distances"
   ]
  },
  {
   "cell_type": "code",
   "execution_count": 12,
   "metadata": {},
   "outputs": [],
   "source": [
    "from scipy.spatial.distance import cdist"
   ]
  },
  {
   "cell_type": "code",
   "execution_count": 13,
   "metadata": {},
   "outputs": [],
   "source": [
    "doc_dists = cdist(docs, docs, metric=\"dice\")\n",
    "doc_dists = pd.DataFrame(doc_dists, index=pmids, columns=pmids)"
   ]
  },
  {
   "cell_type": "markdown",
   "metadata": {},
   "source": [
    "## Document assignments"
   ]
  },
  {
   "cell_type": "code",
   "execution_count": 14,
   "metadata": {},
   "outputs": [],
   "source": [
    "doc2dom_df = pd.read_csv(\"../partition/data/doc2dom_{}_nn.csv\".format(framework), \n",
    "                         header=None, index_col=0)\n",
    "doc2dom = {int(pmid): int(dom) for pmid, dom in doc2dom_df.iterrows()}"
   ]
  },
  {
   "cell_type": "code",
   "execution_count": 15,
   "metadata": {},
   "outputs": [],
   "source": [
    "dom2docs = {dom: [] for dom in domains}\n",
    "for doc, dom in doc2dom.items():\n",
    "    dom2docs[domains[dom-1]].append(doc)"
   ]
  },
  {
   "cell_type": "code",
   "execution_count": 16,
   "metadata": {},
   "outputs": [],
   "source": [
    "sorted_pmids = []\n",
    "for dom in range(len(domains)):\n",
    "    sorted_pmids += [pmid for pmid, sys in doc2dom.items() if sys == dom + 1]"
   ]
  },
  {
   "cell_type": "markdown",
   "metadata": {},
   "source": [
    "# Sort distances\n",
    "\n",
    "Indexing by min:max will be faster in subsequent computations\n",
    "\n",
    "## Reorder by domain PMIDs"
   ]
  },
  {
   "cell_type": "code",
   "execution_count": 17,
   "metadata": {},
   "outputs": [],
   "source": [
    "doc_dists = doc_dists[sorted_pmids].loc[sorted_pmids]"
   ]
  },
  {
   "cell_type": "markdown",
   "metadata": {},
   "source": [
    "## Compute domain min and max indices"
   ]
  },
  {
   "cell_type": "code",
   "execution_count": 18,
   "metadata": {},
   "outputs": [],
   "source": [
    "dom_idx = {dom: {\"min\": 0, \"max\": 0} for dom in domains}\n",
    "for dom in domains:\n",
    "    dom_pmids = dom2docs[dom]\n",
    "    dom_idx[dom][\"min\"] = sorted_pmids.index(dom_pmids[0])\n",
    "    dom_idx[dom][\"max\"] = sorted_pmids.index(dom_pmids[-1]) + 1"
   ]
  },
  {
   "cell_type": "markdown",
   "metadata": {},
   "source": [
    "# Compute domain modularity"
   ]
  },
  {
   "cell_type": "markdown",
   "metadata": {},
   "source": [
    "## Observed values"
   ]
  },
  {
   "cell_type": "code",
   "execution_count": 19,
   "metadata": {},
   "outputs": [
    {
     "data": {
      "text/html": [
       "<div>\n",
       "<style scoped>\n",
       "    .dataframe tbody tr th:only-of-type {\n",
       "        vertical-align: middle;\n",
       "    }\n",
       "\n",
       "    .dataframe tbody tr th {\n",
       "        vertical-align: top;\n",
       "    }\n",
       "\n",
       "    .dataframe thead th {\n",
       "        text-align: right;\n",
       "    }\n",
       "</style>\n",
       "<table border=\"1\" class=\"dataframe\">\n",
       "  <thead>\n",
       "    <tr style=\"text-align: right;\">\n",
       "      <th></th>\n",
       "      <th>OBSERVED</th>\n",
       "    </tr>\n",
       "  </thead>\n",
       "  <tbody>\n",
       "    <tr>\n",
       "      <th>MEMORY</th>\n",
       "      <td>1.06232</td>\n",
       "    </tr>\n",
       "    <tr>\n",
       "      <th>REWARD</th>\n",
       "      <td>1.1067</td>\n",
       "    </tr>\n",
       "    <tr>\n",
       "      <th>REACTION_TIME</th>\n",
       "      <td>1.03997</td>\n",
       "    </tr>\n",
       "    <tr>\n",
       "      <th>MANIPULATION</th>\n",
       "      <td>1.15778</td>\n",
       "    </tr>\n",
       "    <tr>\n",
       "      <th>VISION</th>\n",
       "      <td>1.10032</td>\n",
       "    </tr>\n",
       "    <tr>\n",
       "      <th>LANGUAGE</th>\n",
       "      <td>1.13541</td>\n",
       "    </tr>\n",
       "  </tbody>\n",
       "</table>\n",
       "</div>"
      ],
      "text/plain": [
       "              OBSERVED\n",
       "MEMORY         1.06232\n",
       "REWARD          1.1067\n",
       "REACTION_TIME  1.03997\n",
       "MANIPULATION   1.15778\n",
       "VISION         1.10032\n",
       "LANGUAGE       1.13541"
      ]
     },
     "execution_count": 19,
     "metadata": {},
     "output_type": "execute_result"
    }
   ],
   "source": [
    "dists_int, dists_ext = {}, {}\n",
    "df_obs = pd.DataFrame(index=domains, columns=pmids)\n",
    "df = pd.DataFrame(index=domains, columns=[\"OBSERVED\"])\n",
    "\n",
    "for dom in domains:\n",
    "    \n",
    "    dom_min, dom_max = dom_idx[dom][\"min\"], dom_idx[dom][\"max\"]\n",
    "    dom_dists = doc_dists.values[:,dom_min:dom_max][dom_min:dom_max,:]\n",
    "    dists_int[dom] = dom_dists.ravel()\n",
    "    dist_int = np.nanmean(dom_dists)\n",
    "    doc_dists_int = np.mean(dom_dists, axis=0)\n",
    "    \n",
    "    other_dists_lower = doc_dists.values[:,dom_min:dom_max][:dom_min,:]\n",
    "    other_dists_upper = doc_dists.values[:,dom_min:dom_max][dom_max:,:]\n",
    "    other_dists = np.concatenate((other_dists_lower, other_dists_upper))\n",
    "    dists_ext[dom] = other_dists.ravel()\n",
    "    dist_ext = np.nanmean(other_dists)\n",
    "    doc_dists_ext = np.mean(other_dists, axis=0)\n",
    "    \n",
    "    df.loc[dom, \"OBSERVED\"] = dist_ext / dist_int\n",
    "    df_obs.loc[dom, dom2docs[dom]] = doc_dists_ext / doc_dists_int\n",
    "    \n",
    "df.to_csv(\"data/mod_obs_{}_nn.csv\".format(framework))\n",
    "df.head(6)"
   ]
  },
  {
   "cell_type": "code",
   "execution_count": 20,
   "metadata": {},
   "outputs": [
    {
     "data": {
      "text/plain": [
       "1.100418105423778"
      ]
     },
     "execution_count": 20,
     "metadata": {},
     "output_type": "execute_result"
    }
   ],
   "source": [
    "df[\"OBSERVED\"].mean()"
   ]
  },
  {
   "cell_type": "markdown",
   "metadata": {},
   "source": [
    "## Null distributions"
   ]
  },
  {
   "cell_type": "code",
   "execution_count": 21,
   "metadata": {},
   "outputs": [],
   "source": [
    "import os"
   ]
  },
  {
   "cell_type": "code",
   "execution_count": 22,
   "metadata": {},
   "outputs": [
    {
     "name": "stdout",
     "output_type": "stream",
     "text": [
      "Processed 0 iterations\n",
      "Processed 100 iterations\n",
      "Processed 200 iterations\n",
      "Processed 300 iterations\n",
      "Processed 400 iterations\n",
      "Processed 500 iterations\n",
      "Processed 600 iterations\n",
      "Processed 700 iterations\n",
      "Processed 800 iterations\n",
      "Processed 900 iterations\n"
     ]
    }
   ],
   "source": [
    "null_dists = doc_dists.values.copy()\n",
    "file_null = \"data/mod_null_{}_nn_{}iter.csv\".format(framework, n_iter)\n",
    "if not os.path.isfile(file_null):\n",
    "    \n",
    "    df_null = np.empty((len(domains), n_iter))\n",
    "    \n",
    "    for n in range(n_iter):\n",
    "        np.random.shuffle(null_dists)\n",
    "        \n",
    "        for i, dom in enumerate(domains):\n",
    "            \n",
    "            dom_min, dom_max = dom_idx[dom][\"min\"], dom_idx[dom][\"max\"]\n",
    "            dom_dists = null_dists[:,dom_min:dom_max][dom_min:dom_max,:]\n",
    "            dist_int = np.nanmean(dom_dists)\n",
    "\n",
    "            other_dists_lower = null_dists[:,dom_min:dom_max][:dom_min,:]\n",
    "            other_dists_upper = null_dists[:,dom_min:dom_max][dom_max:,:]\n",
    "            other_dists = np.concatenate((other_dists_lower, other_dists_upper))\n",
    "            dist_ext = np.nanmean(other_dists)\n",
    "            \n",
    "            df_null[i,n] = dist_ext / dist_int\n",
    "            \n",
    "        if n % int(n_iter / 10.0) == 0:\n",
    "            print(\"Processed {} iterations\".format(n))\n",
    "    \n",
    "    df_null = pd.DataFrame(df_null, index=domains, columns=range(n_iter))\n",
    "    df_null.to_csv(file_null)\n",
    "\n",
    "else:\n",
    "    df_null = pd.read_csv(file_null, index_col=0, header=0)"
   ]
  },
  {
   "cell_type": "markdown",
   "metadata": {},
   "source": [
    "## Bootstrap distributions"
   ]
  },
  {
   "cell_type": "code",
   "execution_count": 23,
   "metadata": {},
   "outputs": [
    {
     "name": "stdout",
     "output_type": "stream",
     "text": [
      "Processed 0 iterations\n",
      "Processed 100 iterations\n",
      "Processed 200 iterations\n",
      "Processed 300 iterations\n",
      "Processed 400 iterations\n",
      "Processed 500 iterations\n",
      "Processed 600 iterations\n",
      "Processed 700 iterations\n",
      "Processed 800 iterations\n",
      "Processed 900 iterations\n"
     ]
    }
   ],
   "source": [
    "file_boot = \"data/mod_boot_{}_nn_{}iter.csv\".format(framework, n_iter)\n",
    "if not os.path.isfile(file_boot):\n",
    "    df_boot = np.empty((len(domains), n_iter))\n",
    "    \n",
    "    for n in range(n_iter):\n",
    "        for i, dom in enumerate(domains):\n",
    "            \n",
    "            boot_int = np.random.choice(dists_int[dom], size=len(dists_int[dom]), replace=True)\n",
    "            dist_int = np.nanmean(boot_int)\n",
    "            \n",
    "            boot_ext = np.random.choice(dists_ext[dom], size=len(dists_ext[dom]), replace=True)\n",
    "            dist_ext = np.nanmean(boot_ext)\n",
    "            \n",
    "            df_boot[i,n] = dist_ext / dist_int\n",
    "            \n",
    "        if n % int(n_iter / 10.0) == 0:\n",
    "            print(\"Processed {} iterations\".format(n))\n",
    "            \n",
    "    df_boot = pd.DataFrame(df_boot, index=domains, columns=range(n_iter))\n",
    "    df_boot.to_csv(file_boot)\n",
    "\n",
    "else:\n",
    "    df_boot = pd.read_csv(file_boot, index_col=0, header=0)"
   ]
  },
  {
   "cell_type": "markdown",
   "metadata": {},
   "source": [
    "# Perform significance testing"
   ]
  },
  {
   "cell_type": "code",
   "execution_count": 24,
   "metadata": {},
   "outputs": [],
   "source": [
    "from statsmodels.stats import multitest"
   ]
  },
  {
   "cell_type": "code",
   "execution_count": 25,
   "metadata": {},
   "outputs": [
    {
     "data": {
      "text/html": [
       "<div>\n",
       "<style scoped>\n",
       "    .dataframe tbody tr th:only-of-type {\n",
       "        vertical-align: middle;\n",
       "    }\n",
       "\n",
       "    .dataframe tbody tr th {\n",
       "        vertical-align: top;\n",
       "    }\n",
       "\n",
       "    .dataframe thead th {\n",
       "        text-align: right;\n",
       "    }\n",
       "</style>\n",
       "<table border=\"1\" class=\"dataframe\">\n",
       "  <thead>\n",
       "    <tr style=\"text-align: right;\">\n",
       "      <th></th>\n",
       "      <th>OBSERVED</th>\n",
       "      <th>P</th>\n",
       "      <th>FDR</th>\n",
       "      <th>STARS</th>\n",
       "    </tr>\n",
       "  </thead>\n",
       "  <tbody>\n",
       "    <tr>\n",
       "      <th>MEMORY</th>\n",
       "      <td>1.06232</td>\n",
       "      <td>0.0</td>\n",
       "      <td>0.0</td>\n",
       "      <td>*</td>\n",
       "    </tr>\n",
       "    <tr>\n",
       "      <th>REWARD</th>\n",
       "      <td>1.1067</td>\n",
       "      <td>0.0</td>\n",
       "      <td>0.0</td>\n",
       "      <td>*</td>\n",
       "    </tr>\n",
       "    <tr>\n",
       "      <th>REACTION_TIME</th>\n",
       "      <td>1.03997</td>\n",
       "      <td>0.0</td>\n",
       "      <td>0.0</td>\n",
       "      <td>*</td>\n",
       "    </tr>\n",
       "    <tr>\n",
       "      <th>MANIPULATION</th>\n",
       "      <td>1.15778</td>\n",
       "      <td>0.0</td>\n",
       "      <td>0.0</td>\n",
       "      <td>*</td>\n",
       "    </tr>\n",
       "    <tr>\n",
       "      <th>VISION</th>\n",
       "      <td>1.10032</td>\n",
       "      <td>0.0</td>\n",
       "      <td>0.0</td>\n",
       "      <td>*</td>\n",
       "    </tr>\n",
       "    <tr>\n",
       "      <th>LANGUAGE</th>\n",
       "      <td>1.13541</td>\n",
       "      <td>0.0</td>\n",
       "      <td>0.0</td>\n",
       "      <td>*</td>\n",
       "    </tr>\n",
       "  </tbody>\n",
       "</table>\n",
       "</div>"
      ],
      "text/plain": [
       "              OBSERVED    P  FDR STARS\n",
       "MEMORY         1.06232  0.0  0.0     *\n",
       "REWARD          1.1067  0.0  0.0     *\n",
       "REACTION_TIME  1.03997  0.0  0.0     *\n",
       "MANIPULATION   1.15778  0.0  0.0     *\n",
       "VISION         1.10032  0.0  0.0     *\n",
       "LANGUAGE       1.13541  0.0  0.0     *"
      ]
     },
     "execution_count": 25,
     "metadata": {},
     "output_type": "execute_result"
    }
   ],
   "source": [
    "pval = []\n",
    "for dom in domains:   \n",
    "    dom_null = df_null.loc[dom].values\n",
    "    dom_obs = float(df.loc[dom, \"OBSERVED\"])\n",
    "    p = np.sum(dom_null >= dom_obs) / float(n_iter)\n",
    "    pval.append(p)\n",
    "    df.loc[dom, \"P\"] = p\n",
    "df[\"FDR\"] = multitest.multipletests(pval, method=\"fdr_bh\")[1]\n",
    "for dom in domains:\n",
    "    if df.loc[dom, \"FDR\"] < alpha:\n",
    "        df.loc[dom, \"STARS\"] = \"*\"\n",
    "    else:\n",
    "        df.loc[dom, \"STARS\"] = \"\"\n",
    "df = df.loc[domains, [\"OBSERVED\", \"P\", \"FDR\", \"STARS\"]]\n",
    "df"
   ]
  },
  {
   "cell_type": "markdown",
   "metadata": {},
   "source": [
    "# Plot results"
   ]
  },
  {
   "cell_type": "code",
   "execution_count": 26,
   "metadata": {},
   "outputs": [],
   "source": [
    "%matplotlib inline"
   ]
  },
  {
   "cell_type": "code",
   "execution_count": 27,
   "metadata": {},
   "outputs": [],
   "source": [
    "palette = utilities.palettes[framework]"
   ]
  },
  {
   "cell_type": "code",
   "execution_count": 28,
   "metadata": {},
   "outputs": [
    {
     "data": {
      "image/png": "[encoded data removed]",
      "text/plain": [
       "<Figure size 324x151.2 with 1 Axes>"
      ]
     },
     "metadata": {
      "needs_background": "light"
     },
     "output_type": "display_data"
    }
   ],
   "source": [
    "modularity.plot_violins(framework + \"_nn\", domains, df, df_null, df_obs, palette, \n",
    "                        dx=dx, ds=ds, alphas=[0], interval=0.999,\n",
    "                        ylim=[0.75,1.75], yticks=[0.75,1,1.25,1.5,1.75], \n",
    "                        suffix=classifier_suffix)"
   ]
  },
  {
   "cell_type": "code",
   "execution_count": null,
   "metadata": {},
   "outputs": [],
   "source": []
  }
 ],
 "metadata": {
  "kernelspec": {
   "display_name": "Python (Ontol)",
   "language": "python",
   "name": "ontol"
  },
  "language_info": {
   "codemirror_mode": {
    "name": "ipython",
    "version": 3
   },
   "file_extension": ".py",
   "mimetype": "text/x-python",
   "name": "python",
   "nbconvert_exporter": "python",
   "pygments_lexer": "ipython3",
   "version": "3.6.8"
  }
 },
 "nbformat": 4,
 "nbformat_minor": 2
}
