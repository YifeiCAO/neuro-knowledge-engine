{
 "cells": [
  {
   "cell_type": "markdown",
   "metadata": {},
   "source": [
    "# Introduction\n",
    "\n",
    "This notebook compares the test set performance of classifiers using term list scores based on the data-driven, RDoC, and DSM frameworks.\n",
    "\n",
    "# Load the data"
   ]
  },
  {
   "cell_type": "code",
   "execution_count": 1,
   "metadata": {},
   "outputs": [],
   "source": [
    "import pandas as pd\n",
    "import numpy as np\n",
    "np.random.seed(42)\n",
    "\n",
    "import sys\n",
    "sys.path.append(\"..\")\n",
    "import utilities"
   ]
  },
  {
   "cell_type": "markdown",
   "metadata": {},
   "source": [
    "## Input parameters"
   ]
  },
  {
   "cell_type": "code",
   "execution_count": 2,
   "metadata": {},
   "outputs": [],
   "source": [
    "metric = \"mod\" # Variable being compared between frameworks\n",
    "n_iter = 1000 # Number of iterations for bootstrap distributions\n",
    "frameworks = [\"data-driven_k08\", \"data-driven\", \"rdoc\", \"dsm\"]\n",
    "clfs = [\"_lr\", \"_lr\", \"\", \"\"]\n",
    "list_suffixes = [\"\", \"\", \"_opsim\", \"_opsim\"]\n",
    "splits = [\"discovery\", \"replication\"]\n",
    "suffix = \"lr\""
   ]
  },
  {
   "cell_type": "markdown",
   "metadata": {},
   "source": [
    "## Framework contents"
   ]
  },
  {
   "cell_type": "code",
   "execution_count": 3,
   "metadata": {},
   "outputs": [],
   "source": [
    "lists, circuits = {}, {}\n",
    "for fw, clf, list_suffix in zip(frameworks, clfs, list_suffixes):\n",
    "    lists[fw], circuits[fw] = utilities.load_framework(fw, suffix=list_suffix, clf=clf)"
   ]
  },
  {
   "cell_type": "markdown",
   "metadata": {},
   "source": [
    "## Observed values"
   ]
  },
  {
   "cell_type": "code",
   "execution_count": 4,
   "metadata": {},
   "outputs": [],
   "source": [
    "obs = {}\n",
    "for fw, clf in zip(frameworks, clfs):\n",
    "    obs[fw] = pd.read_csv(\"data/{}_obs_{}{}.csv\".format(metric, fw, clf), \n",
    "                                index_col=0, header=0)"
   ]
  },
  {
   "cell_type": "code",
   "execution_count": 5,
   "metadata": {},
   "outputs": [
    {
     "data": {
      "text/plain": [
       "1.1262201849556965"
      ]
     },
     "execution_count": 5,
     "metadata": {},
     "output_type": "execute_result"
    }
   ],
   "source": [
    "obs[\"data-driven_k08\"].loc[obs[\"data-driven_k08\"][\"SPLIT\"] == \"discovery\"][\"OBSERVED\"].mean()"
   ]
  },
  {
   "cell_type": "code",
   "execution_count": 6,
   "metadata": {},
   "outputs": [
    {
     "data": {
      "text/plain": [
       "1.1238086112402854"
      ]
     },
     "execution_count": 6,
     "metadata": {},
     "output_type": "execute_result"
    }
   ],
   "source": [
    "obs[\"data-driven_k08\"].loc[obs[\"data-driven_k08\"][\"SPLIT\"] == \"replication\"][\"OBSERVED\"].mean()"
   ]
  },
  {
   "cell_type": "markdown",
   "metadata": {},
   "source": [
    "## Bootstrap distributions"
   ]
  },
  {
   "cell_type": "code",
   "execution_count": 7,
   "metadata": {},
   "outputs": [],
   "source": [
    "boot, mean = {}, {}\n",
    "for split in splits:\n",
    "    boot[split], mean[split] = {}, {}\n",
    "    for fw, clf in zip(frameworks, clfs):\n",
    "        boot[split][fw] = pd.read_csv(\"data/{}_boot_{}{}_{}_{}iter.csv\".format(metric, fw, clf, split, n_iter), \n",
    "                                index_col=0, header=0)\n",
    "        mean[split][fw] = pd.read_csv(\"data/{}_mean_{}{}_{}.csv\".format(metric, fw, clf, split), \n",
    "                                index_col=0, header=0)"
   ]
  },
  {
   "cell_type": "code",
   "execution_count": 8,
   "metadata": {},
   "outputs": [
    {
     "data": {
      "text/html": [
       "<div>\n",
       "<style scoped>\n",
       "    .dataframe tbody tr th:only-of-type {\n",
       "        vertical-align: middle;\n",
       "    }\n",
       "\n",
       "    .dataframe tbody tr th {\n",
       "        vertical-align: top;\n",
       "    }\n",
       "\n",
       "    .dataframe thead th {\n",
       "        text-align: right;\n",
       "    }\n",
       "</style>\n",
       "<table border=\"1\" class=\"dataframe\">\n",
       "  <thead>\n",
       "    <tr style=\"text-align: right;\">\n",
       "      <th></th>\n",
       "      <th>0</th>\n",
       "      <th>1</th>\n",
       "      <th>2</th>\n",
       "      <th>3</th>\n",
       "      <th>4</th>\n",
       "      <th>5</th>\n",
       "      <th>6</th>\n",
       "      <th>7</th>\n",
       "      <th>8</th>\n",
       "      <th>9</th>\n",
       "      <th>...</th>\n",
       "      <th>990</th>\n",
       "      <th>991</th>\n",
       "      <th>992</th>\n",
       "      <th>993</th>\n",
       "      <th>994</th>\n",
       "      <th>995</th>\n",
       "      <th>996</th>\n",
       "      <th>997</th>\n",
       "      <th>998</th>\n",
       "      <th>999</th>\n",
       "    </tr>\n",
       "  </thead>\n",
       "  <tbody>\n",
       "    <tr>\n",
       "      <th>MEMORY</th>\n",
       "      <td>1.133967</td>\n",
       "      <td>1.125464</td>\n",
       "      <td>1.132936</td>\n",
       "      <td>1.136567</td>\n",
       "      <td>1.132965</td>\n",
       "      <td>1.132877</td>\n",
       "      <td>1.123142</td>\n",
       "      <td>1.139524</td>\n",
       "      <td>1.134523</td>\n",
       "      <td>1.133837</td>\n",
       "      <td>...</td>\n",
       "      <td>1.138006</td>\n",
       "      <td>1.139329</td>\n",
       "      <td>1.131046</td>\n",
       "      <td>1.128907</td>\n",
       "      <td>1.129654</td>\n",
       "      <td>1.131547</td>\n",
       "      <td>1.128489</td>\n",
       "      <td>1.130935</td>\n",
       "      <td>1.127810</td>\n",
       "      <td>1.130618</td>\n",
       "    </tr>\n",
       "    <tr>\n",
       "      <th>EMOTION</th>\n",
       "      <td>1.098426</td>\n",
       "      <td>1.093291</td>\n",
       "      <td>1.091083</td>\n",
       "      <td>1.095623</td>\n",
       "      <td>1.099124</td>\n",
       "      <td>1.093410</td>\n",
       "      <td>1.091833</td>\n",
       "      <td>1.101716</td>\n",
       "      <td>1.094737</td>\n",
       "      <td>1.099247</td>\n",
       "      <td>...</td>\n",
       "      <td>1.099527</td>\n",
       "      <td>1.093204</td>\n",
       "      <td>1.098758</td>\n",
       "      <td>1.097486</td>\n",
       "      <td>1.092460</td>\n",
       "      <td>1.097507</td>\n",
       "      <td>1.093404</td>\n",
       "      <td>1.096892</td>\n",
       "      <td>1.100595</td>\n",
       "      <td>1.088896</td>\n",
       "    </tr>\n",
       "    <tr>\n",
       "      <th>REWARD</th>\n",
       "      <td>1.098227</td>\n",
       "      <td>1.092478</td>\n",
       "      <td>1.099919</td>\n",
       "      <td>1.100046</td>\n",
       "      <td>1.092308</td>\n",
       "      <td>1.103549</td>\n",
       "      <td>1.096610</td>\n",
       "      <td>1.104123</td>\n",
       "      <td>1.110140</td>\n",
       "      <td>1.101268</td>\n",
       "      <td>...</td>\n",
       "      <td>1.092861</td>\n",
       "      <td>1.095397</td>\n",
       "      <td>1.091190</td>\n",
       "      <td>1.097021</td>\n",
       "      <td>1.098835</td>\n",
       "      <td>1.107211</td>\n",
       "      <td>1.102741</td>\n",
       "      <td>1.100285</td>\n",
       "      <td>1.101991</td>\n",
       "      <td>1.105076</td>\n",
       "    </tr>\n",
       "    <tr>\n",
       "      <th>COGNITION</th>\n",
       "      <td>1.037791</td>\n",
       "      <td>1.037920</td>\n",
       "      <td>1.039230</td>\n",
       "      <td>1.038085</td>\n",
       "      <td>1.039751</td>\n",
       "      <td>1.039232</td>\n",
       "      <td>1.039673</td>\n",
       "      <td>1.037501</td>\n",
       "      <td>1.038906</td>\n",
       "      <td>1.037818</td>\n",
       "      <td>...</td>\n",
       "      <td>1.038505</td>\n",
       "      <td>1.038105</td>\n",
       "      <td>1.038028</td>\n",
       "      <td>1.039010</td>\n",
       "      <td>1.038204</td>\n",
       "      <td>1.039146</td>\n",
       "      <td>1.037146</td>\n",
       "      <td>1.037953</td>\n",
       "      <td>1.038110</td>\n",
       "      <td>1.039468</td>\n",
       "    </tr>\n",
       "    <tr>\n",
       "      <th>VISION</th>\n",
       "      <td>1.107795</td>\n",
       "      <td>1.108107</td>\n",
       "      <td>1.104711</td>\n",
       "      <td>1.106386</td>\n",
       "      <td>1.106120</td>\n",
       "      <td>1.104797</td>\n",
       "      <td>1.105637</td>\n",
       "      <td>1.108842</td>\n",
       "      <td>1.106726</td>\n",
       "      <td>1.106491</td>\n",
       "      <td>...</td>\n",
       "      <td>1.107817</td>\n",
       "      <td>1.105633</td>\n",
       "      <td>1.108516</td>\n",
       "      <td>1.111819</td>\n",
       "      <td>1.107315</td>\n",
       "      <td>1.107682</td>\n",
       "      <td>1.107971</td>\n",
       "      <td>1.107207</td>\n",
       "      <td>1.110113</td>\n",
       "      <td>1.107176</td>\n",
       "    </tr>\n",
       "    <tr>\n",
       "      <th>MANIPULATION</th>\n",
       "      <td>1.189365</td>\n",
       "      <td>1.190294</td>\n",
       "      <td>1.189211</td>\n",
       "      <td>1.189794</td>\n",
       "      <td>1.189279</td>\n",
       "      <td>1.189430</td>\n",
       "      <td>1.189090</td>\n",
       "      <td>1.189533</td>\n",
       "      <td>1.189807</td>\n",
       "      <td>1.190079</td>\n",
       "      <td>...</td>\n",
       "      <td>1.189656</td>\n",
       "      <td>1.191695</td>\n",
       "      <td>1.191256</td>\n",
       "      <td>1.188494</td>\n",
       "      <td>1.190557</td>\n",
       "      <td>1.191163</td>\n",
       "      <td>1.190637</td>\n",
       "      <td>1.189221</td>\n",
       "      <td>1.189776</td>\n",
       "      <td>1.189796</td>\n",
       "    </tr>\n",
       "    <tr>\n",
       "      <th>LANGUAGE</th>\n",
       "      <td>1.131988</td>\n",
       "      <td>1.136235</td>\n",
       "      <td>1.138715</td>\n",
       "      <td>1.137630</td>\n",
       "      <td>1.138571</td>\n",
       "      <td>1.138373</td>\n",
       "      <td>1.140158</td>\n",
       "      <td>1.136912</td>\n",
       "      <td>1.138900</td>\n",
       "      <td>1.144834</td>\n",
       "      <td>...</td>\n",
       "      <td>1.133209</td>\n",
       "      <td>1.133075</td>\n",
       "      <td>1.141569</td>\n",
       "      <td>1.136630</td>\n",
       "      <td>1.138670</td>\n",
       "      <td>1.130794</td>\n",
       "      <td>1.137917</td>\n",
       "      <td>1.140072</td>\n",
       "      <td>1.134767</td>\n",
       "      <td>1.131435</td>\n",
       "    </tr>\n",
       "    <tr>\n",
       "      <th>HEARING</th>\n",
       "      <td>1.153798</td>\n",
       "      <td>1.164413</td>\n",
       "      <td>1.156360</td>\n",
       "      <td>1.159130</td>\n",
       "      <td>1.161793</td>\n",
       "      <td>1.168421</td>\n",
       "      <td>1.161406</td>\n",
       "      <td>1.168292</td>\n",
       "      <td>1.159459</td>\n",
       "      <td>1.159859</td>\n",
       "      <td>...</td>\n",
       "      <td>1.160464</td>\n",
       "      <td>1.155621</td>\n",
       "      <td>1.160137</td>\n",
       "      <td>1.156977</td>\n",
       "      <td>1.165089</td>\n",
       "      <td>1.161035</td>\n",
       "      <td>1.161500</td>\n",
       "      <td>1.164355</td>\n",
       "      <td>1.157348</td>\n",
       "      <td>1.159326</td>\n",
       "    </tr>\n",
       "  </tbody>\n",
       "</table>\n",
       "<p>8 rows × 1000 columns</p>\n",
       "</div>"
      ],
      "text/plain": [
       "                     0         1         2         3         4         5  \\\n",
       "MEMORY        1.133967  1.125464  1.132936  1.136567  1.132965  1.132877   \n",
       "EMOTION       1.098426  1.093291  1.091083  1.095623  1.099124  1.093410   \n",
       "REWARD        1.098227  1.092478  1.099919  1.100046  1.092308  1.103549   \n",
       "COGNITION     1.037791  1.037920  1.039230  1.038085  1.039751  1.039232   \n",
       "VISION        1.107795  1.108107  1.104711  1.106386  1.106120  1.104797   \n",
       "MANIPULATION  1.189365  1.190294  1.189211  1.189794  1.189279  1.189430   \n",
       "LANGUAGE      1.131988  1.136235  1.138715  1.137630  1.138571  1.138373   \n",
       "HEARING       1.153798  1.164413  1.156360  1.159130  1.161793  1.168421   \n",
       "\n",
       "                     6         7         8         9  ...       990       991  \\\n",
       "MEMORY        1.123142  1.139524  1.134523  1.133837  ...  1.138006  1.139329   \n",
       "EMOTION       1.091833  1.101716  1.094737  1.099247  ...  1.099527  1.093204   \n",
       "REWARD        1.096610  1.104123  1.110140  1.101268  ...  1.092861  1.095397   \n",
       "COGNITION     1.039673  1.037501  1.038906  1.037818  ...  1.038505  1.038105   \n",
       "VISION        1.105637  1.108842  1.106726  1.106491  ...  1.107817  1.105633   \n",
       "MANIPULATION  1.189090  1.189533  1.189807  1.190079  ...  1.189656  1.191695   \n",
       "LANGUAGE      1.140158  1.136912  1.138900  1.144834  ...  1.133209  1.133075   \n",
       "HEARING       1.161406  1.168292  1.159459  1.159859  ...  1.160464  1.155621   \n",
       "\n",
       "                   992       993       994       995       996       997  \\\n",
       "MEMORY        1.131046  1.128907  1.129654  1.131547  1.128489  1.130935   \n",
       "EMOTION       1.098758  1.097486  1.092460  1.097507  1.093404  1.096892   \n",
       "REWARD        1.091190  1.097021  1.098835  1.107211  1.102741  1.100285   \n",
       "COGNITION     1.038028  1.039010  1.038204  1.039146  1.037146  1.037953   \n",
       "VISION        1.108516  1.111819  1.107315  1.107682  1.107971  1.107207   \n",
       "MANIPULATION  1.191256  1.188494  1.190557  1.191163  1.190637  1.189221   \n",
       "LANGUAGE      1.141569  1.136630  1.138670  1.130794  1.137917  1.140072   \n",
       "HEARING       1.160137  1.156977  1.165089  1.161035  1.161500  1.164355   \n",
       "\n",
       "                   998       999  \n",
       "MEMORY        1.127810  1.130618  \n",
       "EMOTION       1.100595  1.088896  \n",
       "REWARD        1.101991  1.105076  \n",
       "COGNITION     1.038110  1.039468  \n",
       "VISION        1.110113  1.107176  \n",
       "MANIPULATION  1.189776  1.189796  \n",
       "LANGUAGE      1.134767  1.131435  \n",
       "HEARING       1.157348  1.159326  \n",
       "\n",
       "[8 rows x 1000 columns]"
      ]
     },
     "execution_count": 8,
     "metadata": {},
     "output_type": "execute_result"
    }
   ],
   "source": [
    "boot[\"discovery\"][\"data-driven_k08\"]"
   ]
  },
  {
   "cell_type": "markdown",
   "metadata": {},
   "source": [
    "# Perform comparison tests\n",
    "\n",
    "Is the mean of fw<sub>i</sub> greater than the mean of fw<sub>j</sub>?"
   ]
  },
  {
   "cell_type": "code",
   "execution_count": 9,
   "metadata": {},
   "outputs": [],
   "source": [
    "from statsmodels.stats.multitest import multipletests"
   ]
  },
  {
   "cell_type": "code",
   "execution_count": 10,
   "metadata": {},
   "outputs": [
    {
     "name": "stdout",
     "output_type": "stream",
     "text": [
      "-----------------------------------------------------------------\n",
      "DISCOVERY\n",
      "-----------------------------------------------------------------\n",
      "                 data-driven_k08  data-driven  rdoc       dsm\n",
      "data-driven_k08              1.0          0.0   0.0  0.000000\n",
      "data-driven                  1.0          1.0   0.0  0.002667\n",
      "rdoc                         1.0          1.0   1.0  1.000000\n",
      "dsm                          1.0          1.0   0.0  1.000000\n",
      "\n",
      "-----------------------------------------------------------------\n",
      "REPLICATION\n",
      "-----------------------------------------------------------------\n",
      "                 data-driven_k08  data-driven  rdoc  dsm\n",
      "data-driven_k08              1.0          0.0   0.0  0.0\n",
      "data-driven                  1.0          1.0   0.0  1.0\n",
      "rdoc                         1.0          1.0   1.0  1.0\n",
      "dsm                          1.0          1.0   0.0  1.0\n",
      "\n"
     ]
    }
   ],
   "source": [
    "p, fdr = {}, {}\n",
    "for split in splits:\n",
    "    p[split] = np.empty((len(frameworks), len(frameworks)))\n",
    "    for i, fw_i in enumerate(frameworks):\n",
    "        for j, fw_j in enumerate(frameworks):\n",
    "            boot_i = np.mean(boot[split][fw_i], axis=0)\n",
    "            boot_j = np.mean(boot[split][fw_j], axis=0)\n",
    "            p[split][i,j] = np.sum((boot_i - boot_j) <= 0.0) / float(n_iter)\n",
    "\n",
    "    fdr[split] = multipletests(p[split].ravel(), method=\"fdr_bh\")[1].reshape(p[split].shape)\n",
    "    fdr[split] = pd.DataFrame(fdr[split], index=frameworks, columns=frameworks)\n",
    "    \n",
    "    print(\"-\" * 65 + \"\\n\" + split.upper() + \"\\n\" + \"-\" * 65)\n",
    "    print(fdr[split])\n",
    "    print(\"\")"
   ]
  },
  {
   "cell_type": "code",
   "execution_count": 11,
   "metadata": {},
   "outputs": [
    {
     "name": "stdout",
     "output_type": "stream",
     "text": [
      "-----------------------------------------------------------------\n",
      "DISCOVERY\n",
      "-----------------------------------------------------------------\n",
      "                  data-driven_k08       data-driven            rdoc  \\\n",
      "data-driven_k08     0.000, 0.000     0.015, 0.026 *  0.054, 0.063 *   \n",
      "data-driven      -0.026, -0.015 *     0.000, 0.000   0.035, 0.042 *   \n",
      "rdoc             -0.063, -0.054 *  -0.042, -0.035 *   0.000, 0.000    \n",
      "dsm              -0.031, -0.020 *    -0.011, 0.000   0.027, 0.039 *   \n",
      "\n",
      "                              dsm  \n",
      "data-driven_k08    0.020, 0.031 *  \n",
      "data-driven        -0.000, 0.011   \n",
      "rdoc             -0.039, -0.027 *  \n",
      "dsm                 0.000, 0.000   \n",
      "\n",
      "-----------------------------------------------------------------\n",
      "REPLICATION\n",
      "-----------------------------------------------------------------\n",
      "                  data-driven_k08       data-driven            rdoc  \\\n",
      "data-driven_k08     0.000, 0.000     0.016, 0.033 *  0.053, 0.069 *   \n",
      "data-driven      -0.033, -0.016 *     0.000, 0.000   0.031, 0.044 *   \n",
      "rdoc             -0.069, -0.053 *  -0.044, -0.031 *   0.000, 0.000    \n",
      "dsm              -0.037, -0.015 *    -0.009, 0.010   0.029, 0.045 *   \n",
      "\n",
      "                              dsm  \n",
      "data-driven_k08    0.015, 0.037 *  \n",
      "data-driven        -0.010, 0.009   \n",
      "rdoc             -0.045, -0.029 *  \n",
      "dsm                 0.000, 0.000   \n",
      "\n"
     ]
    }
   ],
   "source": [
    "interval = 0.999\n",
    "tail = (1.0 - interval) / 2.0 # Two-sided test\n",
    "idx_lower = int(n_iter * tail)\n",
    "idx_upper = int(n_iter * (1.0 - tail))\n",
    "\n",
    "CI = {}\n",
    "for split in splits:\n",
    "    CI[split] = {}\n",
    "    CI[split] = pd.DataFrame(\"\", index=frameworks, columns=frameworks)\n",
    "    for i, fw_i in enumerate(frameworks):\n",
    "        for j, fw_j in enumerate(frameworks):\n",
    "            boot_i = np.mean(boot[split][fw_i], axis=0)\n",
    "            boot_j = np.mean(boot[split][fw_j], axis=0)\n",
    "            boot_dif = np.sort(boot_i - boot_j)\n",
    "            CI_lower = boot_dif[idx_lower]\n",
    "            CI_upper = boot_dif[idx_upper]\n",
    "            CI_sig = \"\"\n",
    "            if (CI_lower > 0 and CI_upper > 0) or (CI_lower < 0 and CI_upper < 0):\n",
    "                CI_sig = \"*\"\n",
    "            CI[split].loc[fw_i,fw_j] = \"{:.3f}, {:.3f} {}\".format(CI_lower, CI_upper, CI_sig)\n",
    "    \n",
    "    print(\"-\" * 65 + \"\\n\" + split.upper() + \"\\n\" + \"-\" * 65)\n",
    "    print(CI[split])\n",
    "    print(\"\")"
   ]
  },
  {
   "cell_type": "markdown",
   "metadata": {},
   "source": [
    "# Plot evaluation metrics"
   ]
  },
  {
   "cell_type": "code",
   "execution_count": 12,
   "metadata": {},
   "outputs": [],
   "source": [
    "%matplotlib inline"
   ]
  },
  {
   "cell_type": "code",
   "execution_count": 13,
   "metadata": {
    "scrolled": false
   },
   "outputs": [
    {
     "data": {
      "image/png": "[encoded data removed]",
      "text/plain": [
       "<Figure size 86.4x151.2 with 1 Axes>"
      ]
     },
     "metadata": {
      "needs_background": "light"
     },
     "output_type": "display_data"
    },
    {
     "data": {
      "image/png": "[encoded data removed]",
      "text/plain": [
       "<Figure size 86.4x151.2 with 1 Axes>"
      ]
     },
     "metadata": {
      "needs_background": "light"
     },
     "output_type": "display_data"
    }
   ],
   "source": [
    "for split in splits:\n",
    "    utilities.plot_framework_comparison(boot[split], obs, mean[split], metric=metric, w=1.2,\n",
    "                                        n_iter=n_iter, suffix=\"k09_\" + suffix + \"_\" + split, \n",
    "                                        ylim=[0.7,1.6], yticks=[0.7,1,1.3,1.6])"
   ]
  },
  {
   "cell_type": "code",
   "execution_count": null,
   "metadata": {},
   "outputs": [],
   "source": []
  }
 ],
 "metadata": {
  "kernelspec": {
   "display_name": "Python [conda env:ontol]",
   "language": "python",
   "name": "conda-env-ontol-py"
  },
  "language_info": {
   "codemirror_mode": {
    "name": "ipython",
    "version": 3
   },
   "file_extension": ".py",
   "mimetype": "text/x-python",
   "name": "python",
   "nbconvert_exporter": "python",
   "pygments_lexer": "ipython3",
   "version": "3.6.8"
  }
 },
 "nbformat": 4,
 "nbformat_minor": 2
}
