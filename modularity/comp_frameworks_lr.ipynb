{
 "cells": [
  {
   "cell_type": "markdown",
   "metadata": {},
   "source": [
    "# Introduction\n",
    "\n",
    "This notebook compares the modularity of the data-driven, RDoC, and DSM frameworks.\n",
    "\n",
    "# Load the data"
   ]
  },
  {
   "cell_type": "code",
   "execution_count": 1,
   "metadata": {},
   "outputs": [],
   "source": [
    "import pandas as pd\n",
    "import numpy as np\n",
    "np.random.seed(42)\n",
    "\n",
    "import sys\n",
    "sys.path.append(\"..\")\n",
    "import utilities"
   ]
  },
  {
   "cell_type": "markdown",
   "metadata": {},
   "source": [
    "## Input parameters"
   ]
  },
  {
   "cell_type": "code",
   "execution_count": 2,
   "metadata": {},
   "outputs": [],
   "source": [
    "metric = \"mod\" # Variable being compared between frameworks\n",
    "n_iter = 1000 # Number of iterations for bootstrap distributions\n",
    "frameworks = [\"data-driven\", \"rdoc\", \"dsm\"]\n",
    "clfs = [\"_lr\", \"\", \"\"]\n",
    "splits = [\"discovery\", \"replication\"]\n",
    "suffix = \"lr\""
   ]
  },
  {
   "cell_type": "markdown",
   "metadata": {},
   "source": [
    "## Framework contents"
   ]
  },
  {
   "cell_type": "code",
   "execution_count": 3,
   "metadata": {},
   "outputs": [],
   "source": [
    "lists, circuits = {}, {}\n",
    "for fw, clf in zip(frameworks, clfs):\n",
    "    lists[fw], circuits[fw] = utilities.load_framework(fw, suffix=utilities.suffix[fw], clf=clf)"
   ]
  },
  {
   "cell_type": "markdown",
   "metadata": {},
   "source": [
    "## Observed values"
   ]
  },
  {
   "cell_type": "code",
   "execution_count": 4,
   "metadata": {},
   "outputs": [],
   "source": [
    "obs = {}\n",
    "for fw, clf in zip(frameworks, clfs):\n",
    "    obs[fw] = pd.read_csv(\"data/{}_obs_{}{}.csv\".format(metric, fw, clf), \n",
    "                                index_col=0, header=0)"
   ]
  },
  {
   "cell_type": "code",
   "execution_count": 5,
   "metadata": {},
   "outputs": [
    {
     "data": {
      "text/plain": [
       "1.12402000717127"
      ]
     },
     "execution_count": 5,
     "metadata": {},
     "output_type": "execute_result"
    }
   ],
   "source": [
    "obs[\"data-driven\"].loc[obs[\"data-driven\"][\"SPLIT\"] == \"discovery\"][\"OBSERVED\"].mean()"
   ]
  },
  {
   "cell_type": "code",
   "execution_count": 6,
   "metadata": {},
   "outputs": [
    {
     "data": {
      "text/plain": [
       "1.1209118329061538"
      ]
     },
     "execution_count": 6,
     "metadata": {},
     "output_type": "execute_result"
    }
   ],
   "source": [
    "obs[\"data-driven\"].loc[obs[\"data-driven\"][\"SPLIT\"] == \"replication\"][\"OBSERVED\"].mean()"
   ]
  },
  {
   "cell_type": "markdown",
   "metadata": {},
   "source": [
    "## Bootstrap distributions"
   ]
  },
  {
   "cell_type": "code",
   "execution_count": 7,
   "metadata": {},
   "outputs": [],
   "source": [
    "boot, mean = {}, {}\n",
    "for split in splits:\n",
    "    boot[split], mean[split] = {}, {}\n",
    "    for fw, clf in zip(frameworks, clfs):\n",
    "        boot[split][fw] = pd.read_csv(\"data/{}_boot_{}{}_{}_{}iter.csv\".format(metric, fw, clf, split, n_iter), \n",
    "                                index_col=0, header=0)\n",
    "        mean[split][fw] = pd.read_csv(\"data/{}_mean_{}{}_{}.csv\".format(metric, fw, clf, split), \n",
    "                                index_col=0, header=0)"
   ]
  },
  {
   "cell_type": "markdown",
   "metadata": {},
   "source": [
    "# Perform comparison tests\n",
    "\n",
    "Is the mean of fw<sub>i</sub> greater than the mean of fw<sub>j</sub>?"
   ]
  },
  {
   "cell_type": "code",
   "execution_count": 8,
   "metadata": {},
   "outputs": [],
   "source": [
    "from statsmodels.stats.multitest import multipletests"
   ]
  },
  {
   "cell_type": "code",
   "execution_count": 9,
   "metadata": {},
   "outputs": [
    {
     "name": "stdout",
     "output_type": "stream",
     "text": [
      "-----------------------------------------------------------------\n",
      "DISCOVERY\n",
      "-----------------------------------------------------------------\n",
      "             data-driven  rdoc    dsm\n",
      "data-driven          1.0   0.0  0.003\n",
      "rdoc                 1.0   1.0  1.000\n",
      "dsm                  1.0   0.0  1.000\n",
      "\n",
      "-----------------------------------------------------------------\n",
      "REPLICATION\n",
      "-----------------------------------------------------------------\n",
      "             data-driven  rdoc  dsm\n",
      "data-driven          1.0   0.0  1.0\n",
      "rdoc                 1.0   1.0  1.0\n",
      "dsm                  1.0   0.0  1.0\n",
      "\n"
     ]
    }
   ],
   "source": [
    "p, fdr = {}, {}\n",
    "for split in splits:\n",
    "    p[split] = np.empty((len(frameworks), len(frameworks)))\n",
    "    for i, fw_i in enumerate(frameworks):\n",
    "        for j, fw_j in enumerate(frameworks):\n",
    "            boot_i = np.mean(boot[split][fw_i], axis=0)\n",
    "            boot_j = np.mean(boot[split][fw_j], axis=0)\n",
    "            p[split][i,j] = np.sum((boot_i - boot_j) <= 0.0) / float(n_iter)\n",
    "\n",
    "    fdr[split] = multipletests(p[split].ravel(), method=\"fdr_bh\")[1].reshape(p[split].shape)\n",
    "    fdr[split] = pd.DataFrame(fdr[split], index=frameworks, columns=frameworks)\n",
    "    \n",
    "    print(\"-\" * 65 + \"\\n\" + split.upper() + \"\\n\" + \"-\" * 65)\n",
    "    print(fdr[split])\n",
    "    print(\"\")"
   ]
  },
  {
   "cell_type": "code",
   "execution_count": 10,
   "metadata": {},
   "outputs": [
    {
     "name": "stdout",
     "output_type": "stream",
     "text": [
      "-----------------------------------------------------------------\n",
      "DISCOVERY\n",
      "-----------------------------------------------------------------\n",
      "                  data-driven            rdoc               dsm\n",
      "data-driven     0.000, 0.000   0.035, 0.042 *    -0.000, 0.011 \n",
      "rdoc         -0.042, -0.035 *   0.000, 0.000   -0.039, -0.027 *\n",
      "dsm            -0.011, 0.000   0.027, 0.039 *     0.000, 0.000 \n",
      "\n",
      "-----------------------------------------------------------------\n",
      "REPLICATION\n",
      "-----------------------------------------------------------------\n",
      "                  data-driven            rdoc               dsm\n",
      "data-driven     0.000, 0.000   0.031, 0.044 *    -0.010, 0.009 \n",
      "rdoc         -0.044, -0.031 *   0.000, 0.000   -0.045, -0.029 *\n",
      "dsm            -0.009, 0.010   0.029, 0.045 *     0.000, 0.000 \n",
      "\n"
     ]
    }
   ],
   "source": [
    "interval = 0.999\n",
    "tail = (1.0 - interval) / 2.0 # Two-sided test\n",
    "idx_lower = int(n_iter * tail)\n",
    "idx_upper = int(n_iter * (1.0 - tail))\n",
    "\n",
    "CI = {}\n",
    "for split in splits:\n",
    "    CI[split] = {}\n",
    "    CI[split] = pd.DataFrame(\"\", index=frameworks, columns=frameworks)\n",
    "    for i, fw_i in enumerate(frameworks):\n",
    "        for j, fw_j in enumerate(frameworks):\n",
    "            boot_i = np.mean(boot[split][fw_i], axis=0)\n",
    "            boot_j = np.mean(boot[split][fw_j], axis=0)\n",
    "            boot_dif = np.sort(boot_i - boot_j)\n",
    "            CI_lower = boot_dif[idx_lower]\n",
    "            CI_upper = boot_dif[idx_upper]\n",
    "            CI_sig = \"\"\n",
    "            if (CI_lower > 0 and CI_upper > 0) or (CI_lower < 0 and CI_upper < 0):\n",
    "                CI_sig = \"*\"\n",
    "            CI[split].loc[fw_i,fw_j] = \"{:.3f}, {:.3f} {}\".format(CI_lower, CI_upper, CI_sig)\n",
    "    \n",
    "    print(\"-\" * 65 + \"\\n\" + split.upper() + \"\\n\" + \"-\" * 65)\n",
    "    print(CI[split])\n",
    "    print(\"\")"
   ]
  },
  {
   "cell_type": "markdown",
   "metadata": {},
   "source": [
    "# Plot evaluation metrics"
   ]
  },
  {
   "cell_type": "code",
   "execution_count": 11,
   "metadata": {},
   "outputs": [],
   "source": [
    "%matplotlib inline"
   ]
  },
  {
   "cell_type": "code",
   "execution_count": 12,
   "metadata": {
    "scrolled": false
   },
   "outputs": [
    {
     "data": {
      "image/png": "[encoded data removed]",
      "text/plain": [
       "<Figure size 90x151.2 with 1 Axes>"
      ]
     },
     "metadata": {
      "needs_background": "light"
     },
     "output_type": "display_data"
    },
    {
     "data": {
      "image/png": "[encoded data removed]",
      "text/plain": [
       "<Figure size 90x151.2 with 1 Axes>"
      ]
     },
     "metadata": {
      "needs_background": "light"
     },
     "output_type": "display_data"
    }
   ],
   "source": [
    "for split in splits:\n",
    "    utilities.plot_framework_comparison(boot[split], obs, mean[split], metric=metric, \n",
    "                                        n_iter=n_iter, suffix=suffix + \"_\" + split, \n",
    "                                        ylim=[1,1.15], yticks=[1,1.05,1.1,1.15])"
   ]
  },
  {
   "cell_type": "code",
   "execution_count": null,
   "metadata": {},
   "outputs": [],
   "source": []
  }
 ],
 "metadata": {
  "kernelspec": {
   "display_name": "Python [conda env:ontol]",
   "language": "python",
   "name": "conda-env-ontol-py"
  },
  "language_info": {
   "codemirror_mode": {
    "name": "ipython",
    "version": 3
   },
   "file_extension": ".py",
   "mimetype": "text/x-python",
   "name": "python",
   "nbconvert_exporter": "python",
   "pygments_lexer": "ipython3",
   "version": "3.6.8"
  }
 },
 "nbformat": 4,
 "nbformat_minor": 2
}
