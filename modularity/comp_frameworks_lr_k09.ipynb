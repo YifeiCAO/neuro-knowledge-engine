{
 "cells": [
  {
   "cell_type": "markdown",
   "metadata": {},
   "source": [
    "# Introduction\n",
    "\n",
    "This notebook compares the test set performance of classifiers using term list scores based on the data-driven, RDoC, and DSM frameworks.\n",
    "\n",
    "# Load the data"
   ]
  },
  {
   "cell_type": "code",
   "execution_count": 1,
   "metadata": {},
   "outputs": [],
   "source": [
    "import pandas as pd\n",
    "import numpy as np\n",
    "np.random.seed(42)\n",
    "\n",
    "import sys\n",
    "sys.path.append(\"..\")\n",
    "import utilities"
   ]
  },
  {
   "cell_type": "markdown",
   "metadata": {},
   "source": [
    "## Input parameters"
   ]
  },
  {
   "cell_type": "code",
   "execution_count": 2,
   "metadata": {},
   "outputs": [],
   "source": [
    "metric = \"mod\" # Variable being compared between frameworks\n",
    "n_iter = 1000 # Number of iterations for bootstrap distributions\n",
    "frameworks = [\"data-driven_k09\", \"data-driven\", \"rdoc\", \"dsm\"]\n",
    "clfs = [\"_lr\", \"_lr\", \"\", \"\"]\n",
    "list_suffixes = [\"\", \"\", \"_opsim\", \"_opsim\"]\n",
    "splits = [\"discovery\", \"replication\"]\n",
    "suffix = \"lr\""
   ]
  },
  {
   "cell_type": "markdown",
   "metadata": {},
   "source": [
    "## Framework contents"
   ]
  },
  {
   "cell_type": "code",
   "execution_count": 3,
   "metadata": {},
   "outputs": [],
   "source": [
    "lists, circuits = {}, {}\n",
    "for fw, clf in zip(frameworks, clfs):\n",
    "    lists[fw], circuits[fw] = utilities.load_framework(fw, suffix=utilities.suffix[fw], clf=clf)"
   ]
  },
  {
   "cell_type": "markdown",
   "metadata": {},
   "source": [
    "## Observed values"
   ]
  },
  {
   "cell_type": "code",
   "execution_count": 4,
   "metadata": {},
   "outputs": [],
   "source": [
    "obs = {}\n",
    "for fw, clf in zip(frameworks, clfs):\n",
    "    obs[fw] = pd.read_csv(\"data/{}_obs_{}{}.csv\".format(metric, fw, clf), \n",
    "                                index_col=0, header=0)"
   ]
  },
  {
   "cell_type": "markdown",
   "metadata": {},
   "source": [
    "## Bootstrap distributions"
   ]
  },
  {
   "cell_type": "code",
   "execution_count": 5,
   "metadata": {},
   "outputs": [],
   "source": [
    "boot, mean = {}, {}\n",
    "for split in splits:\n",
    "    boot[split], mean[split] = {}, {}\n",
    "    for fw, clf in zip(frameworks, clfs):\n",
    "        boot[split][fw] = pd.read_csv(\"data/{}_boot_{}{}_{}_{}iter.csv\".format(metric, fw, clf, split, n_iter), \n",
    "                                index_col=0, header=0)\n",
    "        mean[split][fw] = pd.read_csv(\"data/{}_mean_{}{}_{}.csv\".format(metric, fw, clf, split), \n",
    "                                index_col=0, header=0)"
   ]
  },
  {
   "cell_type": "code",
   "execution_count": 6,
   "metadata": {},
   "outputs": [
    {
     "data": {
      "text/html": [
       "<div>\n",
       "<style scoped>\n",
       "    .dataframe tbody tr th:only-of-type {\n",
       "        vertical-align: middle;\n",
       "    }\n",
       "\n",
       "    .dataframe tbody tr th {\n",
       "        vertical-align: top;\n",
       "    }\n",
       "\n",
       "    .dataframe thead th {\n",
       "        text-align: right;\n",
       "    }\n",
       "</style>\n",
       "<table border=\"1\" class=\"dataframe\">\n",
       "  <thead>\n",
       "    <tr style=\"text-align: right;\">\n",
       "      <th></th>\n",
       "      <th>0</th>\n",
       "      <th>1</th>\n",
       "      <th>2</th>\n",
       "      <th>3</th>\n",
       "      <th>4</th>\n",
       "      <th>5</th>\n",
       "      <th>6</th>\n",
       "      <th>7</th>\n",
       "      <th>8</th>\n",
       "      <th>9</th>\n",
       "      <th>...</th>\n",
       "      <th>990</th>\n",
       "      <th>991</th>\n",
       "      <th>992</th>\n",
       "      <th>993</th>\n",
       "      <th>994</th>\n",
       "      <th>995</th>\n",
       "      <th>996</th>\n",
       "      <th>997</th>\n",
       "      <th>998</th>\n",
       "      <th>999</th>\n",
       "    </tr>\n",
       "  </thead>\n",
       "  <tbody>\n",
       "    <tr>\n",
       "      <th>MEMORY</th>\n",
       "      <td>1.073690</td>\n",
       "      <td>1.074990</td>\n",
       "      <td>1.076656</td>\n",
       "      <td>1.076418</td>\n",
       "      <td>1.070583</td>\n",
       "      <td>1.075860</td>\n",
       "      <td>1.078341</td>\n",
       "      <td>1.076031</td>\n",
       "      <td>1.073119</td>\n",
       "      <td>1.071688</td>\n",
       "      <td>...</td>\n",
       "      <td>1.071116</td>\n",
       "      <td>1.075837</td>\n",
       "      <td>1.069963</td>\n",
       "      <td>1.071952</td>\n",
       "      <td>1.075298</td>\n",
       "      <td>1.070079</td>\n",
       "      <td>1.073283</td>\n",
       "      <td>1.073722</td>\n",
       "      <td>1.072040</td>\n",
       "      <td>1.074922</td>\n",
       "    </tr>\n",
       "    <tr>\n",
       "      <th>EPISODIC_MEMORY</th>\n",
       "      <td>1.083361</td>\n",
       "      <td>1.085861</td>\n",
       "      <td>1.083865</td>\n",
       "      <td>1.086703</td>\n",
       "      <td>1.081574</td>\n",
       "      <td>1.083425</td>\n",
       "      <td>1.082822</td>\n",
       "      <td>1.078703</td>\n",
       "      <td>1.081174</td>\n",
       "      <td>1.077366</td>\n",
       "      <td>...</td>\n",
       "      <td>1.081495</td>\n",
       "      <td>1.083883</td>\n",
       "      <td>1.085299</td>\n",
       "      <td>1.084275</td>\n",
       "      <td>1.086408</td>\n",
       "      <td>1.084854</td>\n",
       "      <td>1.082788</td>\n",
       "      <td>1.089195</td>\n",
       "      <td>1.082739</td>\n",
       "      <td>1.082357</td>\n",
       "    </tr>\n",
       "    <tr>\n",
       "      <th>REWARD</th>\n",
       "      <td>1.065549</td>\n",
       "      <td>1.063766</td>\n",
       "      <td>1.064293</td>\n",
       "      <td>1.065501</td>\n",
       "      <td>1.061572</td>\n",
       "      <td>1.068098</td>\n",
       "      <td>1.061687</td>\n",
       "      <td>1.071066</td>\n",
       "      <td>1.065702</td>\n",
       "      <td>1.069424</td>\n",
       "      <td>...</td>\n",
       "      <td>1.062365</td>\n",
       "      <td>1.065782</td>\n",
       "      <td>1.068144</td>\n",
       "      <td>1.061639</td>\n",
       "      <td>1.062184</td>\n",
       "      <td>1.070446</td>\n",
       "      <td>1.063817</td>\n",
       "      <td>1.066548</td>\n",
       "      <td>1.060702</td>\n",
       "      <td>1.067925</td>\n",
       "    </tr>\n",
       "    <tr>\n",
       "      <th>COGNITION</th>\n",
       "      <td>1.139410</td>\n",
       "      <td>1.139112</td>\n",
       "      <td>1.139736</td>\n",
       "      <td>1.139511</td>\n",
       "      <td>1.139323</td>\n",
       "      <td>1.138519</td>\n",
       "      <td>1.139844</td>\n",
       "      <td>1.138923</td>\n",
       "      <td>1.138866</td>\n",
       "      <td>1.138197</td>\n",
       "      <td>...</td>\n",
       "      <td>1.138808</td>\n",
       "      <td>1.140094</td>\n",
       "      <td>1.140900</td>\n",
       "      <td>1.138927</td>\n",
       "      <td>1.138602</td>\n",
       "      <td>1.139584</td>\n",
       "      <td>1.139777</td>\n",
       "      <td>1.139767</td>\n",
       "      <td>1.139327</td>\n",
       "      <td>1.139809</td>\n",
       "    </tr>\n",
       "    <tr>\n",
       "      <th>VISION</th>\n",
       "      <td>1.117775</td>\n",
       "      <td>1.113958</td>\n",
       "      <td>1.113961</td>\n",
       "      <td>1.113970</td>\n",
       "      <td>1.114983</td>\n",
       "      <td>1.109580</td>\n",
       "      <td>1.113811</td>\n",
       "      <td>1.116084</td>\n",
       "      <td>1.114103</td>\n",
       "      <td>1.113102</td>\n",
       "      <td>...</td>\n",
       "      <td>1.117772</td>\n",
       "      <td>1.113624</td>\n",
       "      <td>1.111524</td>\n",
       "      <td>1.113960</td>\n",
       "      <td>1.114800</td>\n",
       "      <td>1.109280</td>\n",
       "      <td>1.114083</td>\n",
       "      <td>1.113934</td>\n",
       "      <td>1.118181</td>\n",
       "      <td>1.115218</td>\n",
       "    </tr>\n",
       "    <tr>\n",
       "      <th>MANIPULATION</th>\n",
       "      <td>1.110656</td>\n",
       "      <td>1.111590</td>\n",
       "      <td>1.109723</td>\n",
       "      <td>1.110074</td>\n",
       "      <td>1.110554</td>\n",
       "      <td>1.111267</td>\n",
       "      <td>1.109870</td>\n",
       "      <td>1.109942</td>\n",
       "      <td>1.109329</td>\n",
       "      <td>1.111008</td>\n",
       "      <td>...</td>\n",
       "      <td>1.113243</td>\n",
       "      <td>1.109629</td>\n",
       "      <td>1.111952</td>\n",
       "      <td>1.111252</td>\n",
       "      <td>1.109760</td>\n",
       "      <td>1.110118</td>\n",
       "      <td>1.109556</td>\n",
       "      <td>1.112441</td>\n",
       "      <td>1.110085</td>\n",
       "      <td>1.109615</td>\n",
       "    </tr>\n",
       "    <tr>\n",
       "      <th>EXECUTION</th>\n",
       "      <td>1.069861</td>\n",
       "      <td>1.072008</td>\n",
       "      <td>1.077516</td>\n",
       "      <td>1.083780</td>\n",
       "      <td>1.075656</td>\n",
       "      <td>1.067215</td>\n",
       "      <td>1.085047</td>\n",
       "      <td>1.078690</td>\n",
       "      <td>1.081667</td>\n",
       "      <td>1.069014</td>\n",
       "      <td>...</td>\n",
       "      <td>1.080074</td>\n",
       "      <td>1.077913</td>\n",
       "      <td>1.078941</td>\n",
       "      <td>1.079933</td>\n",
       "      <td>1.071501</td>\n",
       "      <td>1.076157</td>\n",
       "      <td>1.078172</td>\n",
       "      <td>1.073197</td>\n",
       "      <td>1.070472</td>\n",
       "      <td>1.084794</td>\n",
       "    </tr>\n",
       "    <tr>\n",
       "      <th>HEARING</th>\n",
       "      <td>1.157933</td>\n",
       "      <td>1.159528</td>\n",
       "      <td>1.161959</td>\n",
       "      <td>1.157640</td>\n",
       "      <td>1.164370</td>\n",
       "      <td>1.160069</td>\n",
       "      <td>1.160279</td>\n",
       "      <td>1.155458</td>\n",
       "      <td>1.160248</td>\n",
       "      <td>1.152969</td>\n",
       "      <td>...</td>\n",
       "      <td>1.157527</td>\n",
       "      <td>1.154470</td>\n",
       "      <td>1.162054</td>\n",
       "      <td>1.157238</td>\n",
       "      <td>1.157903</td>\n",
       "      <td>1.152537</td>\n",
       "      <td>1.153232</td>\n",
       "      <td>1.163436</td>\n",
       "      <td>1.158916</td>\n",
       "      <td>1.156438</td>\n",
       "    </tr>\n",
       "    <tr>\n",
       "      <th>LANGUAGE</th>\n",
       "      <td>1.172396</td>\n",
       "      <td>1.177534</td>\n",
       "      <td>1.176290</td>\n",
       "      <td>1.179030</td>\n",
       "      <td>1.175661</td>\n",
       "      <td>1.176050</td>\n",
       "      <td>1.181170</td>\n",
       "      <td>1.181087</td>\n",
       "      <td>1.174815</td>\n",
       "      <td>1.177099</td>\n",
       "      <td>...</td>\n",
       "      <td>1.163048</td>\n",
       "      <td>1.172611</td>\n",
       "      <td>1.175460</td>\n",
       "      <td>1.173576</td>\n",
       "      <td>1.177703</td>\n",
       "      <td>1.171612</td>\n",
       "      <td>1.173381</td>\n",
       "      <td>1.178663</td>\n",
       "      <td>1.175762</td>\n",
       "      <td>1.177033</td>\n",
       "    </tr>\n",
       "  </tbody>\n",
       "</table>\n",
       "<p>9 rows × 1000 columns</p>\n",
       "</div>"
      ],
      "text/plain": [
       "                        0         1         2         3         4         5  \\\n",
       "MEMORY           1.073690  1.074990  1.076656  1.076418  1.070583  1.075860   \n",
       "EPISODIC_MEMORY  1.083361  1.085861  1.083865  1.086703  1.081574  1.083425   \n",
       "REWARD           1.065549  1.063766  1.064293  1.065501  1.061572  1.068098   \n",
       "COGNITION        1.139410  1.139112  1.139736  1.139511  1.139323  1.138519   \n",
       "VISION           1.117775  1.113958  1.113961  1.113970  1.114983  1.109580   \n",
       "MANIPULATION     1.110656  1.111590  1.109723  1.110074  1.110554  1.111267   \n",
       "EXECUTION        1.069861  1.072008  1.077516  1.083780  1.075656  1.067215   \n",
       "HEARING          1.157933  1.159528  1.161959  1.157640  1.164370  1.160069   \n",
       "LANGUAGE         1.172396  1.177534  1.176290  1.179030  1.175661  1.176050   \n",
       "\n",
       "                        6         7         8         9  ...       990  \\\n",
       "MEMORY           1.078341  1.076031  1.073119  1.071688  ...  1.071116   \n",
       "EPISODIC_MEMORY  1.082822  1.078703  1.081174  1.077366  ...  1.081495   \n",
       "REWARD           1.061687  1.071066  1.065702  1.069424  ...  1.062365   \n",
       "COGNITION        1.139844  1.138923  1.138866  1.138197  ...  1.138808   \n",
       "VISION           1.113811  1.116084  1.114103  1.113102  ...  1.117772   \n",
       "MANIPULATION     1.109870  1.109942  1.109329  1.111008  ...  1.113243   \n",
       "EXECUTION        1.085047  1.078690  1.081667  1.069014  ...  1.080074   \n",
       "HEARING          1.160279  1.155458  1.160248  1.152969  ...  1.157527   \n",
       "LANGUAGE         1.181170  1.181087  1.174815  1.177099  ...  1.163048   \n",
       "\n",
       "                      991       992       993       994       995       996  \\\n",
       "MEMORY           1.075837  1.069963  1.071952  1.075298  1.070079  1.073283   \n",
       "EPISODIC_MEMORY  1.083883  1.085299  1.084275  1.086408  1.084854  1.082788   \n",
       "REWARD           1.065782  1.068144  1.061639  1.062184  1.070446  1.063817   \n",
       "COGNITION        1.140094  1.140900  1.138927  1.138602  1.139584  1.139777   \n",
       "VISION           1.113624  1.111524  1.113960  1.114800  1.109280  1.114083   \n",
       "MANIPULATION     1.109629  1.111952  1.111252  1.109760  1.110118  1.109556   \n",
       "EXECUTION        1.077913  1.078941  1.079933  1.071501  1.076157  1.078172   \n",
       "HEARING          1.154470  1.162054  1.157238  1.157903  1.152537  1.153232   \n",
       "LANGUAGE         1.172611  1.175460  1.173576  1.177703  1.171612  1.173381   \n",
       "\n",
       "                      997       998       999  \n",
       "MEMORY           1.073722  1.072040  1.074922  \n",
       "EPISODIC_MEMORY  1.089195  1.082739  1.082357  \n",
       "REWARD           1.066548  1.060702  1.067925  \n",
       "COGNITION        1.139767  1.139327  1.139809  \n",
       "VISION           1.113934  1.118181  1.115218  \n",
       "MANIPULATION     1.112441  1.110085  1.109615  \n",
       "EXECUTION        1.073197  1.070472  1.084794  \n",
       "HEARING          1.163436  1.158916  1.156438  \n",
       "LANGUAGE         1.178663  1.175762  1.177033  \n",
       "\n",
       "[9 rows x 1000 columns]"
      ]
     },
     "execution_count": 6,
     "metadata": {},
     "output_type": "execute_result"
    }
   ],
   "source": [
    "boot[\"discovery\"][\"data-driven_k09\"]"
   ]
  },
  {
   "cell_type": "markdown",
   "metadata": {},
   "source": [
    "# Perform comparison tests\n",
    "\n",
    "Is the mean of fw<sub>i</sub> greater than the mean of fw<sub>j</sub>?"
   ]
  },
  {
   "cell_type": "code",
   "execution_count": 7,
   "metadata": {},
   "outputs": [],
   "source": [
    "from statsmodels.stats.multitest import multipletests"
   ]
  },
  {
   "cell_type": "code",
   "execution_count": 8,
   "metadata": {},
   "outputs": [
    {
     "name": "stdout",
     "output_type": "stream",
     "text": [
      "-----------------------------------------------------------------\n",
      "DISCOVERY\n",
      "-----------------------------------------------------------------\n",
      "                 data-driven_k09  data-driven  rdoc       dsm\n",
      "data-driven_k09              1.0          0.0   0.0  0.000000\n",
      "data-driven                  1.0          1.0   0.0  0.002667\n",
      "rdoc                         1.0          1.0   1.0  1.000000\n",
      "dsm                          1.0          1.0   0.0  1.000000\n",
      "\n",
      "-----------------------------------------------------------------\n",
      "REPLICATION\n",
      "-----------------------------------------------------------------\n",
      "                 data-driven_k09  data-driven  rdoc  dsm\n",
      "data-driven_k09              1.0          0.0   0.0  0.0\n",
      "data-driven                  1.0          1.0   0.0  1.0\n",
      "rdoc                         1.0          1.0   1.0  1.0\n",
      "dsm                          1.0          1.0   0.0  1.0\n",
      "\n"
     ]
    }
   ],
   "source": [
    "p, fdr = {}, {}\n",
    "for split in splits:\n",
    "    p[split] = np.empty((len(frameworks), len(frameworks)))\n",
    "    for i, fw_i in enumerate(frameworks):\n",
    "        for j, fw_j in enumerate(frameworks):\n",
    "            boot_i = np.mean(boot[split][fw_i], axis=0)\n",
    "            boot_j = np.mean(boot[split][fw_j], axis=0)\n",
    "            p[split][i,j] = np.sum((boot_i - boot_j) <= 0.0) / float(n_iter)\n",
    "\n",
    "    fdr[split] = multipletests(p[split].ravel(), method=\"fdr_bh\")[1].reshape(p[split].shape)\n",
    "    fdr[split] = pd.DataFrame(fdr[split], index=frameworks, columns=frameworks)\n",
    "    \n",
    "    print(\"-\" * 65 + \"\\n\" + split.upper() + \"\\n\" + \"-\" * 65)\n",
    "    print(fdr[split])\n",
    "    print(\"\")"
   ]
  },
  {
   "cell_type": "markdown",
   "metadata": {},
   "source": [
    "# Plot evaluation metrics"
   ]
  },
  {
   "cell_type": "code",
   "execution_count": 9,
   "metadata": {},
   "outputs": [],
   "source": [
    "%matplotlib inline"
   ]
  },
  {
   "cell_type": "code",
   "execution_count": 10,
   "metadata": {
    "scrolled": false
   },
   "outputs": [
    {
     "data": {
      "image/png": "[encoded data removed]",
      "text/plain": [
       "<Figure size 86.4x151.2 with 1 Axes>"
      ]
     },
     "metadata": {
      "needs_background": "light"
     },
     "output_type": "display_data"
    },
    {
     "data": {
      "image/png": "[encoded data removed]",
      "text/plain": [
       "<Figure size 86.4x151.2 with 1 Axes>"
      ]
     },
     "metadata": {
      "needs_background": "light"
     },
     "output_type": "display_data"
    }
   ],
   "source": [
    "for split in splits:\n",
    "    utilities.plot_framework_comparison(boot[split], obs, mean[split], metric=metric, w=1.2,\n",
    "                                        n_iter=n_iter, suffix=\"k09_\" + suffix + \"_\" + split, \n",
    "                                        ylim=[0.7,1.6], yticks=[0.7,1,1.3,1.6])"
   ]
  },
  {
   "cell_type": "code",
   "execution_count": null,
   "metadata": {},
   "outputs": [],
   "source": []
  }
 ],
 "metadata": {
  "kernelspec": {
   "display_name": "Python [conda env:ontol] *",
   "language": "python",
   "name": "conda-env-ontol-py"
  },
  "language_info": {
   "codemirror_mode": {
    "name": "ipython",
    "version": 3
   },
   "file_extension": ".py",
   "mimetype": "text/x-python",
   "name": "python",
   "nbconvert_exporter": "python",
   "pygments_lexer": "ipython3",
   "version": "3.6.8"
  }
 },
 "nbformat": 4,
 "nbformat_minor": 2
}
