{
 "cells": [
  {
   "cell_type": "markdown",
   "metadata": {},
   "source": [
    "# Introduction\n",
    "\n",
    "In a prior notebook, documents were partitioned by assigning them to the domain with the highest Dice similarity of their term and structure occurrences. Here, we'll assess whether the observed modularity of the partitions is greater than expected by chance. Modularity will be measured by the ratio of dispersion between partitions to dispersion within partitions.\n",
    "\n",
    "# Load the data"
   ]
  },
  {
   "cell_type": "code",
   "execution_count": 1,
   "metadata": {},
   "outputs": [],
   "source": [
    "import pandas as pd\n",
    "import numpy as np\n",
    "np.random.seed(42)\n",
    "\n",
    "import sys\n",
    "sys.path.append(\"..\")\n",
    "import utilities\n",
    "from style import style"
   ]
  },
  {
   "cell_type": "code",
   "execution_count": 2,
   "metadata": {},
   "outputs": [],
   "source": [
    "framework = \"rdoc\" \n",
    "version = 190325 # Document-term matrix version\n",
    "suffix = \"_opsim\" # Suffix for term lists\n",
    "clf = \"\" # Suffix for data-driven classifiers\n",
    "n_iter = 1000 # Iterations for bootstrap and null\n",
    "dx = [0.3, 0.34, 0.35, 0.35, 0.35, 0.34] # Nudges for plotted means\n",
    "alpha = 0.001 # Significance level for statistical comparisons"
   ]
  },
  {
   "cell_type": "markdown",
   "metadata": {},
   "source": [
    "## Brain activation coordinates"
   ]
  },
  {
   "cell_type": "code",
   "execution_count": 3,
   "metadata": {},
   "outputs": [
    {
     "name": "stdout",
     "output_type": "stream",
     "text": [
      "Document N=18155, Structure N=118\n"
     ]
    }
   ],
   "source": [
    "act_bin = utilities.load_coordinates()\n",
    "print(\"Document N={}, Structure N={}\".format(\n",
    "      act_bin.shape[0], act_bin.shape[1]))"
   ]
  },
  {
   "cell_type": "markdown",
   "metadata": {},
   "source": [
    "## Document-term matrix"
   ]
  },
  {
   "cell_type": "code",
   "execution_count": 4,
   "metadata": {},
   "outputs": [
    {
     "name": "stdout",
     "output_type": "stream",
     "text": [
      "Document N=18155, Term N=4107\n"
     ]
    }
   ],
   "source": [
    "dtm_bin = utilities.load_doc_term_matrix(version=version, binarize=True)\n",
    "print(\"Document N={}, Term N={}\".format(\n",
    "      dtm_bin.shape[0], dtm_bin.shape[1]))"
   ]
  },
  {
   "cell_type": "markdown",
   "metadata": {},
   "source": [
    "## Domain archetypes"
   ]
  },
  {
   "cell_type": "code",
   "execution_count": 5,
   "metadata": {},
   "outputs": [],
   "source": [
    "from collections import OrderedDict"
   ]
  },
  {
   "cell_type": "code",
   "execution_count": 6,
   "metadata": {},
   "outputs": [],
   "source": [
    "lists, circuits = utilities.load_framework(framework, suffix=suffix, clf=clf)"
   ]
  },
  {
   "cell_type": "code",
   "execution_count": 7,
   "metadata": {},
   "outputs": [],
   "source": [
    "words = sorted(list(set(lists[\"TOKEN\"])))\n",
    "structures = sorted(list(set(act_bin.columns)))\n",
    "domains = list(OrderedDict.fromkeys(lists[\"DOMAIN\"]))"
   ]
  },
  {
   "cell_type": "code",
   "execution_count": 8,
   "metadata": {},
   "outputs": [
    {
     "name": "stdout",
     "output_type": "stream",
     "text": [
      "Term & Structure N=244, Domain N=6\n"
     ]
    }
   ],
   "source": [
    "archetypes = pd.DataFrame(0.0, index=words+structures, columns=domains)\n",
    "for dom in domains:\n",
    "    for word in lists.loc[lists[\"DOMAIN\"] == dom, \"TOKEN\"]:\n",
    "        archetypes.loc[word, dom] = 1.0\n",
    "    for struct in structures:\n",
    "        archetypes.loc[struct, dom] = circuits.loc[struct, dom]\n",
    "archetypes[archetypes > 0.0] = 1.0\n",
    "print(\"Term & Structure N={}, Domain N={}\".format(\n",
    "      archetypes.shape[0], archetypes.shape[1]))"
   ]
  },
  {
   "cell_type": "markdown",
   "metadata": {},
   "source": [
    "## Document structure-term vectors"
   ]
  },
  {
   "cell_type": "code",
   "execution_count": 9,
   "metadata": {},
   "outputs": [
    {
     "data": {
      "text/plain": [
       "18155"
      ]
     },
     "execution_count": 9,
     "metadata": {},
     "output_type": "execute_result"
    }
   ],
   "source": [
    "pmids = dtm_bin.index.intersection(act_bin.index)\n",
    "len(pmids)"
   ]
  },
  {
   "cell_type": "code",
   "execution_count": 10,
   "metadata": {},
   "outputs": [],
   "source": [
    "dtm_words = dtm_bin.loc[pmids, words]\n",
    "act_structs = act_bin.loc[pmids, structures]"
   ]
  },
  {
   "cell_type": "code",
   "execution_count": 11,
   "metadata": {},
   "outputs": [
    {
     "data": {
      "text/html": [
       "<div>\n",
       "<style scoped>\n",
       "    .dataframe tbody tr th:only-of-type {\n",
       "        vertical-align: middle;\n",
       "    }\n",
       "\n",
       "    .dataframe tbody tr th {\n",
       "        vertical-align: top;\n",
       "    }\n",
       "\n",
       "    .dataframe thead th {\n",
       "        text-align: right;\n",
       "    }\n",
       "</style>\n",
       "<table border=\"1\" class=\"dataframe\">\n",
       "  <thead>\n",
       "    <tr style=\"text-align: right;\">\n",
       "      <th></th>\n",
       "      <th>action</th>\n",
       "      <th>affective_state</th>\n",
       "      <th>aggression</th>\n",
       "      <th>alertness</th>\n",
       "      <th>alexithymia</th>\n",
       "      <th>anger</th>\n",
       "      <th>anticipation</th>\n",
       "      <th>anxiety</th>\n",
       "      <th>arousal</th>\n",
       "      <th>attachment</th>\n",
       "      <th>...</th>\n",
       "      <th>right_superior_temporal_gyrus_posterior_division</th>\n",
       "      <th>right_supplementary_motor_cortex</th>\n",
       "      <th>right_supracalcarine_cortex</th>\n",
       "      <th>right_supramarginal_gyrus_anterior_division</th>\n",
       "      <th>right_supramarginal_gyrus_posterior_division</th>\n",
       "      <th>right_temporal_fusiform_cortex_anterior_division</th>\n",
       "      <th>right_temporal_fusiform_cortex_posterior_division</th>\n",
       "      <th>right_temporal_occipital_fusiform_cortex</th>\n",
       "      <th>right_temporal_pole</th>\n",
       "      <th>right_thalamus</th>\n",
       "    </tr>\n",
       "  </thead>\n",
       "  <tbody>\n",
       "    <tr>\n",
       "      <th>10022492</th>\n",
       "      <td>0.0</td>\n",
       "      <td>0.0</td>\n",
       "      <td>0.0</td>\n",
       "      <td>0.0</td>\n",
       "      <td>0.0</td>\n",
       "      <td>0.0</td>\n",
       "      <td>1.0</td>\n",
       "      <td>0.0</td>\n",
       "      <td>0.0</td>\n",
       "      <td>0.0</td>\n",
       "      <td>...</td>\n",
       "      <td>0</td>\n",
       "      <td>1</td>\n",
       "      <td>0</td>\n",
       "      <td>1</td>\n",
       "      <td>0</td>\n",
       "      <td>0</td>\n",
       "      <td>0</td>\n",
       "      <td>0</td>\n",
       "      <td>0</td>\n",
       "      <td>1</td>\n",
       "    </tr>\n",
       "    <tr>\n",
       "      <th>10022494</th>\n",
       "      <td>0.0</td>\n",
       "      <td>0.0</td>\n",
       "      <td>0.0</td>\n",
       "      <td>0.0</td>\n",
       "      <td>0.0</td>\n",
       "      <td>0.0</td>\n",
       "      <td>0.0</td>\n",
       "      <td>0.0</td>\n",
       "      <td>0.0</td>\n",
       "      <td>0.0</td>\n",
       "      <td>...</td>\n",
       "      <td>1</td>\n",
       "      <td>1</td>\n",
       "      <td>1</td>\n",
       "      <td>1</td>\n",
       "      <td>0</td>\n",
       "      <td>0</td>\n",
       "      <td>0</td>\n",
       "      <td>1</td>\n",
       "      <td>0</td>\n",
       "      <td>0</td>\n",
       "    </tr>\n",
       "    <tr>\n",
       "      <th>10022496</th>\n",
       "      <td>0.0</td>\n",
       "      <td>0.0</td>\n",
       "      <td>0.0</td>\n",
       "      <td>0.0</td>\n",
       "      <td>0.0</td>\n",
       "      <td>0.0</td>\n",
       "      <td>1.0</td>\n",
       "      <td>0.0</td>\n",
       "      <td>0.0</td>\n",
       "      <td>0.0</td>\n",
       "      <td>...</td>\n",
       "      <td>1</td>\n",
       "      <td>0</td>\n",
       "      <td>0</td>\n",
       "      <td>0</td>\n",
       "      <td>1</td>\n",
       "      <td>0</td>\n",
       "      <td>0</td>\n",
       "      <td>0</td>\n",
       "      <td>0</td>\n",
       "      <td>0</td>\n",
       "    </tr>\n",
       "    <tr>\n",
       "      <th>10027301</th>\n",
       "      <td>0.0</td>\n",
       "      <td>0.0</td>\n",
       "      <td>0.0</td>\n",
       "      <td>0.0</td>\n",
       "      <td>0.0</td>\n",
       "      <td>0.0</td>\n",
       "      <td>0.0</td>\n",
       "      <td>0.0</td>\n",
       "      <td>0.0</td>\n",
       "      <td>0.0</td>\n",
       "      <td>...</td>\n",
       "      <td>0</td>\n",
       "      <td>0</td>\n",
       "      <td>0</td>\n",
       "      <td>0</td>\n",
       "      <td>0</td>\n",
       "      <td>0</td>\n",
       "      <td>0</td>\n",
       "      <td>1</td>\n",
       "      <td>0</td>\n",
       "      <td>0</td>\n",
       "    </tr>\n",
       "    <tr>\n",
       "      <th>10051677</th>\n",
       "      <td>0.0</td>\n",
       "      <td>0.0</td>\n",
       "      <td>0.0</td>\n",
       "      <td>0.0</td>\n",
       "      <td>0.0</td>\n",
       "      <td>0.0</td>\n",
       "      <td>0.0</td>\n",
       "      <td>0.0</td>\n",
       "      <td>1.0</td>\n",
       "      <td>0.0</td>\n",
       "      <td>...</td>\n",
       "      <td>0</td>\n",
       "      <td>0</td>\n",
       "      <td>0</td>\n",
       "      <td>0</td>\n",
       "      <td>1</td>\n",
       "      <td>0</td>\n",
       "      <td>1</td>\n",
       "      <td>0</td>\n",
       "      <td>1</td>\n",
       "      <td>1</td>\n",
       "    </tr>\n",
       "  </tbody>\n",
       "</table>\n",
       "<p>5 rows × 244 columns</p>\n",
       "</div>"
      ],
      "text/plain": [
       "          action  affective_state  aggression  alertness  alexithymia  anger  \\\n",
       "10022492     0.0              0.0         0.0        0.0          0.0    0.0   \n",
       "10022494     0.0              0.0         0.0        0.0          0.0    0.0   \n",
       "10022496     0.0              0.0         0.0        0.0          0.0    0.0   \n",
       "10027301     0.0              0.0         0.0        0.0          0.0    0.0   \n",
       "10051677     0.0              0.0         0.0        0.0          0.0    0.0   \n",
       "\n",
       "          anticipation  anxiety  arousal  attachment  ...  \\\n",
       "10022492           1.0      0.0      0.0         0.0  ...   \n",
       "10022494           0.0      0.0      0.0         0.0  ...   \n",
       "10022496           1.0      0.0      0.0         0.0  ...   \n",
       "10027301           0.0      0.0      0.0         0.0  ...   \n",
       "10051677           0.0      0.0      1.0         0.0  ...   \n",
       "\n",
       "          right_superior_temporal_gyrus_posterior_division  \\\n",
       "10022492                                                 0   \n",
       "10022494                                                 1   \n",
       "10022496                                                 1   \n",
       "10027301                                                 0   \n",
       "10051677                                                 0   \n",
       "\n",
       "          right_supplementary_motor_cortex  right_supracalcarine_cortex  \\\n",
       "10022492                                 1                            0   \n",
       "10022494                                 1                            1   \n",
       "10022496                                 0                            0   \n",
       "10027301                                 0                            0   \n",
       "10051677                                 0                            0   \n",
       "\n",
       "          right_supramarginal_gyrus_anterior_division  \\\n",
       "10022492                                            1   \n",
       "10022494                                            1   \n",
       "10022496                                            0   \n",
       "10027301                                            0   \n",
       "10051677                                            0   \n",
       "\n",
       "          right_supramarginal_gyrus_posterior_division  \\\n",
       "10022492                                             0   \n",
       "10022494                                             0   \n",
       "10022496                                             1   \n",
       "10027301                                             0   \n",
       "10051677                                             1   \n",
       "\n",
       "          right_temporal_fusiform_cortex_anterior_division  \\\n",
       "10022492                                                 0   \n",
       "10022494                                                 0   \n",
       "10022496                                                 0   \n",
       "10027301                                                 0   \n",
       "10051677                                                 0   \n",
       "\n",
       "          right_temporal_fusiform_cortex_posterior_division  \\\n",
       "10022492                                                  0   \n",
       "10022494                                                  0   \n",
       "10022496                                                  0   \n",
       "10027301                                                  0   \n",
       "10051677                                                  1   \n",
       "\n",
       "          right_temporal_occipital_fusiform_cortex  right_temporal_pole  \\\n",
       "10022492                                         0                    0   \n",
       "10022494                                         1                    0   \n",
       "10022496                                         0                    0   \n",
       "10027301                                         1                    0   \n",
       "10051677                                         0                    1   \n",
       "\n",
       "          right_thalamus  \n",
       "10022492               1  \n",
       "10022494               0  \n",
       "10022496               0  \n",
       "10027301               0  \n",
       "10051677               1  \n",
       "\n",
       "[5 rows x 244 columns]"
      ]
     },
     "execution_count": 11,
     "metadata": {},
     "output_type": "execute_result"
    }
   ],
   "source": [
    "docs = dtm_words.copy()\n",
    "docs[structures] = act_structs.copy()\n",
    "docs.head()"
   ]
  },
  {
   "cell_type": "markdown",
   "metadata": {},
   "source": [
    "## Document splits"
   ]
  },
  {
   "cell_type": "code",
   "execution_count": 12,
   "metadata": {},
   "outputs": [
    {
     "name": "stdout",
     "output_type": "stream",
     "text": [
      "Discovery    N=12708\n",
      "Replication  N=5447\n"
     ]
    }
   ],
   "source": [
    "splits = {}\n",
    "splits[\"discovery\"] = [int(pmid.strip()) for pmid in open(\"../data/splits/train.txt\")]\n",
    "splits[\"replication\"] = [int(pmid.strip()) for pmid in open(\"../data/splits/validation.txt\")]\n",
    "splits[\"replication\"] += [int(pmid.strip()) for pmid in open(\"../data/splits/test.txt\")]\n",
    "for split, pmids in splits.items():\n",
    "    print(\"{:12s} N={}\".format(split.title(), len(pmids)))"
   ]
  },
  {
   "cell_type": "markdown",
   "metadata": {},
   "source": [
    "## Document assignments"
   ]
  },
  {
   "cell_type": "code",
   "execution_count": 13,
   "metadata": {},
   "outputs": [],
   "source": [
    "doc2dom_df = pd.read_csv(\"../partition/data/doc2dom_{}{}.csv\".format(framework, clf), \n",
    "                         header=None, index_col=0)\n",
    "doc2dom = {int(pmid): str(dom.values[0]) for pmid, dom in doc2dom_df.iterrows()}"
   ]
  },
  {
   "cell_type": "code",
   "execution_count": 14,
   "metadata": {},
   "outputs": [],
   "source": [
    "dom2docs = {dom: {split: [] for split in [\"discovery\", \"replication\"]} for dom in domains}\n",
    "for doc, dom in doc2dom.items():\n",
    "    for split, split_pmids in splits.items():\n",
    "        if doc in splits[split]:\n",
    "            dom2docs[dom][split].append(doc)"
   ]
  },
  {
   "cell_type": "code",
   "execution_count": 15,
   "metadata": {},
   "outputs": [
    {
     "data": {
      "text/plain": [
       "[10200303, 10204547, 10208571, 10220461, 10318979]"
      ]
     },
     "execution_count": 15,
     "metadata": {},
     "output_type": "execute_result"
    }
   ],
   "source": [
    "sorted_pmids = {}\n",
    "for split, split_pmids in splits.items():\n",
    "    sorted_pmids[split] = []\n",
    "    for dom in domains:\n",
    "        sorted_pmids[split] += [pmid for pmid, sys in doc2dom.items() if sys == dom and pmid in split_pmids]\n",
    "sorted_pmids[\"discovery\"][:5]"
   ]
  },
  {
   "cell_type": "markdown",
   "metadata": {},
   "source": [
    "# Compute document distances\n",
    "\n",
    "Indexing by min:max will be faster in subsequent computations"
   ]
  },
  {
   "cell_type": "code",
   "execution_count": 16,
   "metadata": {},
   "outputs": [],
   "source": [
    "from scipy.spatial.distance import cdist"
   ]
  },
  {
   "cell_type": "code",
   "execution_count": 17,
   "metadata": {},
   "outputs": [],
   "source": [
    "doc_dists = {}\n",
    "for split in splits.keys():\n",
    "    ids = sorted_pmids[split]\n",
    "    doc_dists[split] = cdist(docs.loc[ids], docs.loc[ids], metric=\"dice\")\n",
    "    doc_dists[split] = pd.DataFrame(doc_dists[split], index=ids, columns=ids)"
   ]
  },
  {
   "cell_type": "markdown",
   "metadata": {},
   "source": [
    "## Compute domain min and max indices"
   ]
  },
  {
   "cell_type": "code",
   "execution_count": 18,
   "metadata": {},
   "outputs": [],
   "source": [
    "dom_idx = {}\n",
    "for split in splits.keys():\n",
    "    dom_idx[split] = {dom: {\"min\": 0, \"max\": 0} for dom in domains}\n",
    "    for dom in domains:\n",
    "        dom_pmids = dom2docs[dom][split]\n",
    "        dom_idx[split][dom][\"min\"] = sorted_pmids[split].index(dom_pmids[0])\n",
    "        dom_idx[split][dom][\"max\"] = sorted_pmids[split].index(dom_pmids[-1]) + 1"
   ]
  },
  {
   "cell_type": "markdown",
   "metadata": {},
   "source": [
    "# Compute domain modularity"
   ]
  },
  {
   "cell_type": "markdown",
   "metadata": {},
   "source": [
    "## Observed values\n",
    "\n",
    "### Distances internal and external to articles in each domain"
   ]
  },
  {
   "cell_type": "code",
   "execution_count": 19,
   "metadata": {},
   "outputs": [],
   "source": [
    "dists_int, dists_ext = {}, {}\n",
    "for split, split_pmids in splits.items():\n",
    "    \n",
    "    dists_int[split], dists_ext[split] = {}, {}\n",
    "    for dom in domains:\n",
    "        \n",
    "        dom_min, dom_max = dom_idx[split][dom][\"min\"], dom_idx[split][dom][\"max\"]\n",
    "        dom_dists = doc_dists[split].values[:,dom_min:dom_max][dom_min:dom_max,:]\n",
    "        dists_int[split][dom] = dom_dists\n",
    "        \n",
    "        other_dists_lower = doc_dists[split].values[:,dom_min:dom_max][:dom_min,:]\n",
    "        other_dists_upper = doc_dists[split].values[:,dom_min:dom_max][dom_max:,:]\n",
    "        other_dists = np.concatenate((other_dists_lower, other_dists_upper))\n",
    "        dists_ext[split][dom] = other_dists"
   ]
  },
  {
   "cell_type": "markdown",
   "metadata": {},
   "source": [
    "### Article-level ratio of external to internal distances"
   ]
  },
  {
   "cell_type": "code",
   "execution_count": 20,
   "metadata": {},
   "outputs": [
    {
     "data": {
      "text/html": [
       "<div>\n",
       "<style scoped>\n",
       "    .dataframe tbody tr th:only-of-type {\n",
       "        vertical-align: middle;\n",
       "    }\n",
       "\n",
       "    .dataframe tbody tr th {\n",
       "        vertical-align: top;\n",
       "    }\n",
       "\n",
       "    .dataframe thead th {\n",
       "        text-align: right;\n",
       "    }\n",
       "</style>\n",
       "<table border=\"1\" class=\"dataframe\">\n",
       "  <thead>\n",
       "    <tr style=\"text-align: right;\">\n",
       "      <th></th>\n",
       "      <th>PMID</th>\n",
       "      <th>SPLIT</th>\n",
       "      <th>DOMAIN</th>\n",
       "      <th>OBSERVED</th>\n",
       "    </tr>\n",
       "  </thead>\n",
       "  <tbody>\n",
       "    <tr>\n",
       "      <th>0</th>\n",
       "      <td>10200303</td>\n",
       "      <td>discovery</td>\n",
       "      <td>NEGATIVE_VALENCE</td>\n",
       "      <td>1.073048</td>\n",
       "    </tr>\n",
       "    <tr>\n",
       "      <th>1</th>\n",
       "      <td>10204547</td>\n",
       "      <td>discovery</td>\n",
       "      <td>NEGATIVE_VALENCE</td>\n",
       "      <td>1.089648</td>\n",
       "    </tr>\n",
       "    <tr>\n",
       "      <th>2</th>\n",
       "      <td>10208571</td>\n",
       "      <td>discovery</td>\n",
       "      <td>NEGATIVE_VALENCE</td>\n",
       "      <td>1.132456</td>\n",
       "    </tr>\n",
       "    <tr>\n",
       "      <th>3</th>\n",
       "      <td>10220461</td>\n",
       "      <td>discovery</td>\n",
       "      <td>NEGATIVE_VALENCE</td>\n",
       "      <td>1.113526</td>\n",
       "    </tr>\n",
       "    <tr>\n",
       "      <th>4</th>\n",
       "      <td>10318979</td>\n",
       "      <td>discovery</td>\n",
       "      <td>NEGATIVE_VALENCE</td>\n",
       "      <td>1.050713</td>\n",
       "    </tr>\n",
       "  </tbody>\n",
       "</table>\n",
       "</div>"
      ],
      "text/plain": [
       "       PMID      SPLIT            DOMAIN  OBSERVED\n",
       "0  10200303  discovery  NEGATIVE_VALENCE  1.073048\n",
       "1  10204547  discovery  NEGATIVE_VALENCE  1.089648\n",
       "2  10208571  discovery  NEGATIVE_VALENCE  1.132456\n",
       "3  10220461  discovery  NEGATIVE_VALENCE  1.113526\n",
       "4  10318979  discovery  NEGATIVE_VALENCE  1.050713"
      ]
     },
     "execution_count": 20,
     "metadata": {},
     "output_type": "execute_result"
    }
   ],
   "source": [
    "df_stat = {}\n",
    "pmid_list, split_list, dom_list, obs_list  = [], [], [], []\n",
    "\n",
    "for split, split_pmids in splits.items():\n",
    "    \n",
    "    df_stat[split] = pd.DataFrame(index=domains, columns=[\"OBSERVED\"])\n",
    "\n",
    "    for dom in domains:\n",
    "\n",
    "        mean_dist_int = np.mean(dists_int[split][dom], axis=0)\n",
    "        mean_dist_ext = np.mean(dists_ext[split][dom], axis=0)\n",
    "\n",
    "        df_stat[split].loc[dom, \"OBSERVED\"] = np.nanmean(mean_dist_ext / mean_dist_int)\n",
    "        \n",
    "        obs = mean_dist_ext / mean_dist_int\n",
    "        pmid_list += dom2docs[dom][split]\n",
    "        dom_list += [dom] * len(obs)\n",
    "        split_list += [split] * len(obs)\n",
    "        obs_list += list(obs)\n",
    "\n",
    "df_obs = pd.DataFrame({\"PMID\": pmid_list, \"SPLIT\": split_list, \n",
    "                       \"DOMAIN\": dom_list, \"OBSERVED\": obs_list})\n",
    "df_obs.to_csv(\"data/mod_obs_{}{}.csv\".format(framework, clf))    \n",
    "df_obs.head()"
   ]
  },
  {
   "cell_type": "code",
   "execution_count": 21,
   "metadata": {},
   "outputs": [
    {
     "name": "stdout",
     "output_type": "stream",
     "text": [
      "Discovery set modularity     1.0615\n",
      "Replication set modularity   1.0639\n"
     ]
    }
   ],
   "source": [
    "for split in splits.keys():\n",
    "    obs = df_stat[split][\"OBSERVED\"].mean()\n",
    "    print(\"{:28s} {:6.4f}\".format(split.title() + \" set modularity\", obs))"
   ]
  },
  {
   "cell_type": "markdown",
   "metadata": {},
   "source": [
    "## Null distributions"
   ]
  },
  {
   "cell_type": "code",
   "execution_count": 22,
   "metadata": {},
   "outputs": [],
   "source": [
    "import os"
   ]
  },
  {
   "cell_type": "code",
   "execution_count": 23,
   "metadata": {},
   "outputs": [
    {
     "name": "stdout",
     "output_type": "stream",
     "text": [
      "Processing discovery split (N=12708 documents)\n",
      "Processing replication split (N=5447 documents)\n"
     ]
    }
   ],
   "source": [
    "df_null = {}\n",
    "for split, split_pmids in splits.items():\n",
    "    \n",
    "    print(\"Processing {} split (N={} documents)\".format(split, len(split_pmids)))\n",
    "    \n",
    "    n_docs = len(split_pmids)\n",
    "    file_null = \"data/mod_null_{}{}_{}_{}iter.csv\".format(framework, clf, split, n_iter)\n",
    "    if not os.path.isfile(file_null):\n",
    "        \n",
    "        df_null[split] = np.empty((len(domains), n_iter))\n",
    "        for i, dom in enumerate(domains):\n",
    "            \n",
    "            print(\"----- Processing {}\".format(dom))\n",
    "            \n",
    "            n_dom_docs = dists_int[split][dom].shape[0]\n",
    "            dist_int_ext = np.concatenate((dists_int[split][dom], dists_ext[split][dom]))\n",
    "            for n in range(n_iter):\n",
    "                \n",
    "                null = np.random.choice(range(n_docs), size=n_docs, replace=False)\n",
    "                dist_int_ext_null = dist_int_ext[null,:]\n",
    "                \n",
    "                mean_dist_int = np.mean(dist_int_ext_null[:n_dom_docs,:], axis=0)\n",
    "                mean_dist_ext = np.mean(dist_int_ext_null[n_dom_docs:,:], axis=0)\n",
    "                \n",
    "                df_null[split][i,n] = np.nanmean(mean_dist_ext / mean_dist_int)\n",
    "\n",
    "        df_null[split] = pd.DataFrame(df_null[split], index=domains, columns=range(n_iter))\n",
    "        df_null[split].to_csv(file_null)\n",
    "        print(\"\")\n",
    "\n",
    "    else:\n",
    "        df_null[split] = pd.read_csv(file_null, index_col=0, header=0)"
   ]
  },
  {
   "cell_type": "markdown",
   "metadata": {},
   "source": [
    "### Interleave splits to facilitate plotting"
   ]
  },
  {
   "cell_type": "code",
   "execution_count": 24,
   "metadata": {},
   "outputs": [
    {
     "data": {
      "text/html": [
       "<div>\n",
       "<style scoped>\n",
       "    .dataframe tbody tr th:only-of-type {\n",
       "        vertical-align: middle;\n",
       "    }\n",
       "\n",
       "    .dataframe tbody tr th {\n",
       "        vertical-align: top;\n",
       "    }\n",
       "\n",
       "    .dataframe thead th {\n",
       "        text-align: right;\n",
       "    }\n",
       "</style>\n",
       "<table border=\"1\" class=\"dataframe\">\n",
       "  <thead>\n",
       "    <tr style=\"text-align: right;\">\n",
       "      <th></th>\n",
       "      <th>0</th>\n",
       "      <th>1</th>\n",
       "      <th>10</th>\n",
       "      <th>100</th>\n",
       "      <th>101</th>\n",
       "      <th>102</th>\n",
       "      <th>103</th>\n",
       "      <th>104</th>\n",
       "      <th>105</th>\n",
       "      <th>106</th>\n",
       "      <th>...</th>\n",
       "      <th>990</th>\n",
       "      <th>991</th>\n",
       "      <th>992</th>\n",
       "      <th>993</th>\n",
       "      <th>994</th>\n",
       "      <th>995</th>\n",
       "      <th>996</th>\n",
       "      <th>997</th>\n",
       "      <th>998</th>\n",
       "      <th>999</th>\n",
       "    </tr>\n",
       "  </thead>\n",
       "  <tbody>\n",
       "    <tr>\n",
       "      <th>NEGATIVE_VALENCE_discovery</th>\n",
       "      <td>1.003757</td>\n",
       "      <td>1.000237</td>\n",
       "      <td>1.004577</td>\n",
       "      <td>0.997162</td>\n",
       "      <td>0.993977</td>\n",
       "      <td>1.000556</td>\n",
       "      <td>0.996987</td>\n",
       "      <td>1.000381</td>\n",
       "      <td>0.997572</td>\n",
       "      <td>1.000706</td>\n",
       "      <td>...</td>\n",
       "      <td>0.997992</td>\n",
       "      <td>0.997373</td>\n",
       "      <td>0.995514</td>\n",
       "      <td>1.006411</td>\n",
       "      <td>1.000775</td>\n",
       "      <td>0.994242</td>\n",
       "      <td>0.993626</td>\n",
       "      <td>1.000622</td>\n",
       "      <td>0.999896</td>\n",
       "      <td>1.001518</td>\n",
       "    </tr>\n",
       "    <tr>\n",
       "      <th>NEGATIVE_VALENCE_replication</th>\n",
       "      <td>1.000934</td>\n",
       "      <td>0.999642</td>\n",
       "      <td>1.005828</td>\n",
       "      <td>0.999222</td>\n",
       "      <td>1.002690</td>\n",
       "      <td>0.999810</td>\n",
       "      <td>1.005198</td>\n",
       "      <td>1.006601</td>\n",
       "      <td>1.002047</td>\n",
       "      <td>0.993860</td>\n",
       "      <td>...</td>\n",
       "      <td>0.996593</td>\n",
       "      <td>1.001454</td>\n",
       "      <td>1.009474</td>\n",
       "      <td>0.995967</td>\n",
       "      <td>0.996425</td>\n",
       "      <td>0.988044</td>\n",
       "      <td>1.008236</td>\n",
       "      <td>1.009572</td>\n",
       "      <td>0.987512</td>\n",
       "      <td>0.995681</td>\n",
       "    </tr>\n",
       "    <tr>\n",
       "      <th>POSITIVE_VALENCE_discovery</th>\n",
       "      <td>1.000643</td>\n",
       "      <td>0.996872</td>\n",
       "      <td>1.002244</td>\n",
       "      <td>0.997714</td>\n",
       "      <td>1.003378</td>\n",
       "      <td>1.001307</td>\n",
       "      <td>0.996897</td>\n",
       "      <td>1.001046</td>\n",
       "      <td>0.997693</td>\n",
       "      <td>0.999997</td>\n",
       "      <td>...</td>\n",
       "      <td>1.002507</td>\n",
       "      <td>1.002053</td>\n",
       "      <td>1.002912</td>\n",
       "      <td>1.002637</td>\n",
       "      <td>0.999821</td>\n",
       "      <td>0.999421</td>\n",
       "      <td>0.997294</td>\n",
       "      <td>1.002185</td>\n",
       "      <td>0.995341</td>\n",
       "      <td>0.997139</td>\n",
       "    </tr>\n",
       "    <tr>\n",
       "      <th>POSITIVE_VALENCE_replication</th>\n",
       "      <td>1.003470</td>\n",
       "      <td>1.001166</td>\n",
       "      <td>0.998503</td>\n",
       "      <td>0.993957</td>\n",
       "      <td>1.003741</td>\n",
       "      <td>1.007703</td>\n",
       "      <td>1.001256</td>\n",
       "      <td>0.991681</td>\n",
       "      <td>1.000056</td>\n",
       "      <td>0.997937</td>\n",
       "      <td>...</td>\n",
       "      <td>1.001763</td>\n",
       "      <td>1.002311</td>\n",
       "      <td>1.003041</td>\n",
       "      <td>1.005180</td>\n",
       "      <td>0.998857</td>\n",
       "      <td>1.000020</td>\n",
       "      <td>1.003253</td>\n",
       "      <td>0.998662</td>\n",
       "      <td>0.995899</td>\n",
       "      <td>1.002721</td>\n",
       "    </tr>\n",
       "    <tr>\n",
       "      <th>AROUSAL_REGULATION_discovery</th>\n",
       "      <td>1.005823</td>\n",
       "      <td>1.003582</td>\n",
       "      <td>0.999196</td>\n",
       "      <td>0.999494</td>\n",
       "      <td>1.003391</td>\n",
       "      <td>0.998910</td>\n",
       "      <td>0.989817</td>\n",
       "      <td>1.002849</td>\n",
       "      <td>1.003489</td>\n",
       "      <td>0.999737</td>\n",
       "      <td>...</td>\n",
       "      <td>1.001508</td>\n",
       "      <td>1.005269</td>\n",
       "      <td>1.001802</td>\n",
       "      <td>1.000508</td>\n",
       "      <td>0.996365</td>\n",
       "      <td>1.003473</td>\n",
       "      <td>1.002942</td>\n",
       "      <td>1.000025</td>\n",
       "      <td>0.999254</td>\n",
       "      <td>0.998834</td>\n",
       "    </tr>\n",
       "  </tbody>\n",
       "</table>\n",
       "<p>5 rows × 1000 columns</p>\n",
       "</div>"
      ],
      "text/plain": [
       "                                     0         1        10       100  \\\n",
       "NEGATIVE_VALENCE_discovery    1.003757  1.000237  1.004577  0.997162   \n",
       "NEGATIVE_VALENCE_replication  1.000934  0.999642  1.005828  0.999222   \n",
       "POSITIVE_VALENCE_discovery    1.000643  0.996872  1.002244  0.997714   \n",
       "POSITIVE_VALENCE_replication  1.003470  1.001166  0.998503  0.993957   \n",
       "AROUSAL_REGULATION_discovery  1.005823  1.003582  0.999196  0.999494   \n",
       "\n",
       "                                   101       102       103       104  \\\n",
       "NEGATIVE_VALENCE_discovery    0.993977  1.000556  0.996987  1.000381   \n",
       "NEGATIVE_VALENCE_replication  1.002690  0.999810  1.005198  1.006601   \n",
       "POSITIVE_VALENCE_discovery    1.003378  1.001307  0.996897  1.001046   \n",
       "POSITIVE_VALENCE_replication  1.003741  1.007703  1.001256  0.991681   \n",
       "AROUSAL_REGULATION_discovery  1.003391  0.998910  0.989817  1.002849   \n",
       "\n",
       "                                   105       106  ...       990       991  \\\n",
       "NEGATIVE_VALENCE_discovery    0.997572  1.000706  ...  0.997992  0.997373   \n",
       "NEGATIVE_VALENCE_replication  1.002047  0.993860  ...  0.996593  1.001454   \n",
       "POSITIVE_VALENCE_discovery    0.997693  0.999997  ...  1.002507  1.002053   \n",
       "POSITIVE_VALENCE_replication  1.000056  0.997937  ...  1.001763  1.002311   \n",
       "AROUSAL_REGULATION_discovery  1.003489  0.999737  ...  1.001508  1.005269   \n",
       "\n",
       "                                   992       993       994       995  \\\n",
       "NEGATIVE_VALENCE_discovery    0.995514  1.006411  1.000775  0.994242   \n",
       "NEGATIVE_VALENCE_replication  1.009474  0.995967  0.996425  0.988044   \n",
       "POSITIVE_VALENCE_discovery    1.002912  1.002637  0.999821  0.999421   \n",
       "POSITIVE_VALENCE_replication  1.003041  1.005180  0.998857  1.000020   \n",
       "AROUSAL_REGULATION_discovery  1.001802  1.000508  0.996365  1.003473   \n",
       "\n",
       "                                   996       997       998       999  \n",
       "NEGATIVE_VALENCE_discovery    0.993626  1.000622  0.999896  1.001518  \n",
       "NEGATIVE_VALENCE_replication  1.008236  1.009572  0.987512  0.995681  \n",
       "POSITIVE_VALENCE_discovery    0.997294  1.002185  0.995341  0.997139  \n",
       "POSITIVE_VALENCE_replication  1.003253  0.998662  0.995899  1.002721  \n",
       "AROUSAL_REGULATION_discovery  1.002942  1.000025  0.999254  0.998834  \n",
       "\n",
       "[5 rows x 1000 columns]"
      ]
     },
     "execution_count": 24,
     "metadata": {},
     "output_type": "execute_result"
    }
   ],
   "source": [
    "df_null_interleaved = pd.DataFrame()\n",
    "null_idx = []\n",
    "for dom in domains:\n",
    "    for split in [\"discovery\", \"replication\"]:\n",
    "        df_null_interleaved = df_null_interleaved.append(df_null[split].loc[dom])\n",
    "        null_idx.append(dom + \"_\" + split)\n",
    "df_null_interleaved.index = null_idx\n",
    "df_null_interleaved.head()"
   ]
  },
  {
   "cell_type": "markdown",
   "metadata": {},
   "source": [
    "## Bootstrap distributions"
   ]
  },
  {
   "cell_type": "code",
   "execution_count": 25,
   "metadata": {},
   "outputs": [
    {
     "name": "stdout",
     "output_type": "stream",
     "text": [
      "Processing discovery split (N=12708 documents)\n",
      "Processing replication split (N=5447 documents)\n"
     ]
    }
   ],
   "source": [
    "df_boot = {}\n",
    "for split, split_pmids in splits.items():\n",
    "    \n",
    "    print(\"Processing {} split (N={} documents)\".format(split, len(split_pmids)))\n",
    "\n",
    "    file_boot = \"data/mod_boot_{}{}_{}_{}iter.csv\".format(framework, clf, split, n_iter)\n",
    "    if not os.path.isfile(file_boot):\n",
    "        \n",
    "        df_boot[split] = np.empty((len(domains), n_iter))\n",
    "        for i, dom in enumerate(domains):\n",
    "            \n",
    "            print(\"----- Processing {}\".format(dom))\n",
    "            \n",
    "            n_docs = dists_int[split][dom].shape[0]\n",
    "            \n",
    "            for n in range(n_iter):\n",
    "                \n",
    "                boot = np.random.choice(range(n_docs), size=n_docs, replace=True)\n",
    "            \n",
    "                mean_dist_int = np.mean(dists_int[split][dom][:,boot], axis=0)\n",
    "                mean_dist_ext = np.mean(dists_ext[split][dom][:,boot], axis=0)\n",
    "                \n",
    "                df_boot[split][i,n] = np.nanmean(mean_dist_ext / mean_dist_int)\n",
    "\n",
    "        df_boot[split] = pd.DataFrame(df_boot[split], index=domains, columns=range(n_iter))\n",
    "        df_boot[split].to_csv(file_boot)\n",
    "        print(\"\")\n",
    "\n",
    "    else:\n",
    "        df_boot[split] = pd.read_csv(file_boot, index_col=0, header=0)"
   ]
  },
  {
   "cell_type": "markdown",
   "metadata": {},
   "source": [
    "# Perform significance testing"
   ]
  },
  {
   "cell_type": "code",
   "execution_count": 26,
   "metadata": {},
   "outputs": [],
   "source": [
    "from statsmodels.stats import multitest"
   ]
  },
  {
   "cell_type": "code",
   "execution_count": 27,
   "metadata": {},
   "outputs": [
    {
     "name": "stdout",
     "output_type": "stream",
     "text": [
      "-----------------------------------------------------------------\n",
      "DISCOVERY\n",
      "-----------------------------------------------------------------\n",
      "                     OBSERVED    P  FDR STARS\n",
      "NEGATIVE_VALENCE      1.05357  0.0  0.0     *\n",
      "POSITIVE_VALENCE      1.04449  0.0  0.0     *\n",
      "AROUSAL_REGULATION    1.02436  0.0  0.0     *\n",
      "SOCIAL_PROCESSES       1.0493  0.0  0.0     *\n",
      "COGNITIVE_SYSTEMS     1.12087  0.0  0.0     *\n",
      "SENSORIMOTOR_SYSTEMS  1.07647  0.0  0.0     *\n",
      "\n",
      "-----------------------------------------------------------------\n",
      "REPLICATION\n",
      "-----------------------------------------------------------------\n",
      "                     OBSERVED    P  FDR STARS\n",
      "NEGATIVE_VALENCE      1.04873  0.0  0.0     *\n",
      "POSITIVE_VALENCE      1.04922  0.0  0.0     *\n",
      "AROUSAL_REGULATION    1.03545  0.0  0.0     *\n",
      "SOCIAL_PROCESSES      1.05686  0.0  0.0     *\n",
      "COGNITIVE_SYSTEMS      1.1245  0.0  0.0     *\n",
      "SENSORIMOTOR_SYSTEMS  1.06877  0.0  0.0     *\n",
      "\n"
     ]
    }
   ],
   "source": [
    "for split in splits.keys():\n",
    "    \n",
    "    pval = []\n",
    "    for dom in domains:   \n",
    "        dom_null = df_null[split].loc[dom].values\n",
    "        dom_obs = float(df_stat[split].loc[dom, \"OBSERVED\"])\n",
    "        p = np.sum(dom_null >= dom_obs) / float(n_iter)\n",
    "        pval.append(p)\n",
    "        df_stat[split].loc[dom, \"P\"] = p\n",
    "    df_stat[split][\"FDR\"] = multitest.multipletests(pval, method=\"fdr_bh\")[1]\n",
    "    \n",
    "    for dom in domains:\n",
    "        if df_stat[split].loc[dom, \"FDR\"] < alpha:\n",
    "            df_stat[split].loc[dom, \"STARS\"] = \"*\"\n",
    "        else:\n",
    "            df_stat[split].loc[dom, \"STARS\"] = \"\"\n",
    "    df_stat[split] = df_stat[split].loc[domains, [\"OBSERVED\", \"P\", \"FDR\", \"STARS\"]]\n",
    "    df_stat[split].to_csv(\"data/mod_mean_{}{}_{}.csv\".format(framework, clf, split))\n",
    "    \n",
    "    print(\"-\" * 65 + \"\\n\" + split.upper() + \"\\n\" + \"-\" * 65)\n",
    "    print(df_stat[split])\n",
    "    print(\"\")"
   ]
  },
  {
   "cell_type": "markdown",
   "metadata": {},
   "source": [
    "# Plot results"
   ]
  },
  {
   "cell_type": "code",
   "execution_count": 28,
   "metadata": {},
   "outputs": [],
   "source": [
    "%matplotlib inline"
   ]
  },
  {
   "cell_type": "code",
   "execution_count": 29,
   "metadata": {},
   "outputs": [
    {
     "data": {
      "image/png": "[encoded data removed]",
      "text/plain": [
       "<Figure size 324x151.2 with 1 Axes>"
      ]
     },
     "metadata": {},
     "output_type": "display_data"
    }
   ],
   "source": [
    "utilities.plot_split_violins(framework, domains, df_obs, df_null_interleaved, df_stat, \n",
    "                             style.palettes[framework], metric=\"mod\", dx=dx, \n",
    "                             ylim=[0.75,1.75], yticks=[0.75,1,1.25,1.5,1.75], \n",
    "                             interval=0.999, alphas=[0], suffix=clf)"
   ]
  },
  {
   "cell_type": "code",
   "execution_count": null,
   "metadata": {},
   "outputs": [],
   "source": []
  }
 ],
 "metadata": {
  "kernelspec": {
   "display_name": "Python [conda env:ontol] *",
   "language": "python",
   "name": "conda-env-ontol-py"
  },
  "language_info": {
   "codemirror_mode": {
    "name": "ipython",
    "version": 3
   },
   "file_extension": ".py",
   "mimetype": "text/x-python",
   "name": "python",
   "nbconvert_exporter": "python",
   "pygments_lexer": "ipython3",
   "version": "3.6.8"
  }
 },
 "nbformat": 4,
 "nbformat_minor": 2
}
