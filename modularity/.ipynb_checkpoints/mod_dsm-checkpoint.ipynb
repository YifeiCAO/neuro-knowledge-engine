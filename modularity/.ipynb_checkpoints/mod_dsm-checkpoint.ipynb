{
 "cells": [
  {
   "cell_type": "markdown",
   "metadata": {},
   "source": [
    "# Introduction\n",
    "\n",
    "In a prior notebook, documents were partitioned by assigning them to the domain with the highest Dice similarity of their term and structure occurrences. Here, we'll assess whether the observed modularity of the partitions is greater than expected by chance. Modularity will be measured by the ratio of dispersion between partitions to dispersion within partitions.\n",
    "\n",
    "# Load the data"
   ]
  },
  {
   "cell_type": "code",
   "execution_count": 1,
   "metadata": {},
   "outputs": [],
   "source": [
    "import pandas as pd\n",
    "import numpy as np\n",
    "np.random.seed(42)\n",
    "\n",
    "import sys\n",
    "sys.path.append(\"..\")\n",
    "import utilities\n",
    "from style import style"
   ]
  },
  {
   "cell_type": "code",
   "execution_count": 2,
   "metadata": {},
   "outputs": [],
   "source": [
    "framework = \"dsm\" \n",
    "version = 190325 # Document-term matrix version\n",
    "suffix = \"_opsim\" # Suffix for term lists\n",
    "clf = \"\" # Suffix for data-driven classifiers\n",
    "n_iter = 1000 # Iterations for bootstrap and null\n",
    "dx = [0.34, 0.36, 0.38, 0.33, 0.34, 0.34, 0.3, 0.3, 0.3] # Nudges for plotted means\n",
    "alpha = 0.001 # Significance level for statistical comparisons"
   ]
  },
  {
   "cell_type": "markdown",
   "metadata": {},
   "source": [
    "## Brain activation coordinates"
   ]
  },
  {
   "cell_type": "code",
   "execution_count": 3,
   "metadata": {},
   "outputs": [
    {
     "name": "stdout",
     "output_type": "stream",
     "text": [
      "Document N=18155, Structure N=118\n"
     ]
    }
   ],
   "source": [
    "act_bin = utilities.load_coordinates()\n",
    "print(\"Document N={}, Structure N={}\".format(\n",
    "      act_bin.shape[0], act_bin.shape[1]))"
   ]
  },
  {
   "cell_type": "markdown",
   "metadata": {},
   "source": [
    "## Document-term matrix"
   ]
  },
  {
   "cell_type": "code",
   "execution_count": 4,
   "metadata": {},
   "outputs": [
    {
     "name": "stdout",
     "output_type": "stream",
     "text": [
      "Document N=18155, Term N=4107\n"
     ]
    }
   ],
   "source": [
    "dtm_bin = utilities.load_doc_term_matrix(version=version, binarize=True)\n",
    "print(\"Document N={}, Term N={}\".format(\n",
    "      dtm_bin.shape[0], dtm_bin.shape[1]))"
   ]
  },
  {
   "cell_type": "markdown",
   "metadata": {},
   "source": [
    "## Domain archetypes"
   ]
  },
  {
   "cell_type": "code",
   "execution_count": 5,
   "metadata": {},
   "outputs": [],
   "source": [
    "from collections import OrderedDict"
   ]
  },
  {
   "cell_type": "code",
   "execution_count": 6,
   "metadata": {},
   "outputs": [],
   "source": [
    "lists, circuits = utilities.load_framework(framework, suffix=suffix, clf=clf)"
   ]
  },
  {
   "cell_type": "code",
   "execution_count": 7,
   "metadata": {},
   "outputs": [],
   "source": [
    "words = sorted(list(set(lists[\"TOKEN\"])))\n",
    "structures = sorted(list(set(act_bin.columns)))\n",
    "domains = list(OrderedDict.fromkeys(lists[\"DOMAIN\"]))"
   ]
  },
  {
   "cell_type": "code",
   "execution_count": 8,
   "metadata": {},
   "outputs": [
    {
     "name": "stdout",
     "output_type": "stream",
     "text": [
      "Term & Structure N=200, Domain N=9\n"
     ]
    }
   ],
   "source": [
    "archetypes = pd.DataFrame(0.0, index=words+structures, columns=domains)\n",
    "for dom in domains:\n",
    "    for word in lists.loc[lists[\"DOMAIN\"] == dom, \"TOKEN\"]:\n",
    "        archetypes.loc[word, dom] = 1.0\n",
    "    for struct in structures:\n",
    "        archetypes.loc[struct, dom] = circuits.loc[struct, dom]\n",
    "archetypes[archetypes > 0.0] = 1.0\n",
    "print(\"Term & Structure N={}, Domain N={}\".format(\n",
    "      archetypes.shape[0], archetypes.shape[1]))"
   ]
  },
  {
   "cell_type": "markdown",
   "metadata": {},
   "source": [
    "## Document structure-term vectors"
   ]
  },
  {
   "cell_type": "code",
   "execution_count": 9,
   "metadata": {},
   "outputs": [
    {
     "data": {
      "text/plain": [
       "18155"
      ]
     },
     "execution_count": 9,
     "metadata": {},
     "output_type": "execute_result"
    }
   ],
   "source": [
    "pmids = dtm_bin.index.intersection(act_bin.index)\n",
    "len(pmids)"
   ]
  },
  {
   "cell_type": "code",
   "execution_count": 10,
   "metadata": {},
   "outputs": [],
   "source": [
    "dtm_words = dtm_bin.loc[pmids, words]\n",
    "act_structs = act_bin.loc[pmids, structures]"
   ]
  },
  {
   "cell_type": "code",
   "execution_count": 11,
   "metadata": {},
   "outputs": [
    {
     "data": {
      "text/html": [
       "<div>\n",
       "<style scoped>\n",
       "    .dataframe tbody tr th:only-of-type {\n",
       "        vertical-align: middle;\n",
       "    }\n",
       "\n",
       "    .dataframe tbody tr th {\n",
       "        vertical-align: top;\n",
       "    }\n",
       "\n",
       "    .dataframe thead th {\n",
       "        text-align: right;\n",
       "    }\n",
       "</style>\n",
       "<table border=\"1\" class=\"dataframe\">\n",
       "  <thead>\n",
       "    <tr style=\"text-align: right;\">\n",
       "      <th></th>\n",
       "      <th>acute_stress_disorder</th>\n",
       "      <th>adhd</th>\n",
       "      <th>adjustment_disorder</th>\n",
       "      <th>agoraphobia</th>\n",
       "      <th>alcohol_abuse</th>\n",
       "      <th>alcohol_use_disorder</th>\n",
       "      <th>alcohol_withdrawal</th>\n",
       "      <th>anxiety_disorder</th>\n",
       "      <th>aspergers_syndrome</th>\n",
       "      <th>attention_deficit_hyperactivity_disorder</th>\n",
       "      <th>...</th>\n",
       "      <th>right_superior_temporal_gyrus_posterior_division</th>\n",
       "      <th>right_supplementary_motor_cortex</th>\n",
       "      <th>right_supracalcarine_cortex</th>\n",
       "      <th>right_supramarginal_gyrus_anterior_division</th>\n",
       "      <th>right_supramarginal_gyrus_posterior_division</th>\n",
       "      <th>right_temporal_fusiform_cortex_anterior_division</th>\n",
       "      <th>right_temporal_fusiform_cortex_posterior_division</th>\n",
       "      <th>right_temporal_occipital_fusiform_cortex</th>\n",
       "      <th>right_temporal_pole</th>\n",
       "      <th>right_thalamus</th>\n",
       "    </tr>\n",
       "  </thead>\n",
       "  <tbody>\n",
       "    <tr>\n",
       "      <th>10022492</th>\n",
       "      <td>0.0</td>\n",
       "      <td>0.0</td>\n",
       "      <td>0.0</td>\n",
       "      <td>0.0</td>\n",
       "      <td>0.0</td>\n",
       "      <td>0.0</td>\n",
       "      <td>0.0</td>\n",
       "      <td>0.0</td>\n",
       "      <td>0.0</td>\n",
       "      <td>0.0</td>\n",
       "      <td>...</td>\n",
       "      <td>0</td>\n",
       "      <td>1</td>\n",
       "      <td>0</td>\n",
       "      <td>1</td>\n",
       "      <td>0</td>\n",
       "      <td>0</td>\n",
       "      <td>0</td>\n",
       "      <td>0</td>\n",
       "      <td>0</td>\n",
       "      <td>1</td>\n",
       "    </tr>\n",
       "    <tr>\n",
       "      <th>10022494</th>\n",
       "      <td>0.0</td>\n",
       "      <td>0.0</td>\n",
       "      <td>0.0</td>\n",
       "      <td>0.0</td>\n",
       "      <td>0.0</td>\n",
       "      <td>0.0</td>\n",
       "      <td>0.0</td>\n",
       "      <td>0.0</td>\n",
       "      <td>0.0</td>\n",
       "      <td>0.0</td>\n",
       "      <td>...</td>\n",
       "      <td>1</td>\n",
       "      <td>1</td>\n",
       "      <td>1</td>\n",
       "      <td>1</td>\n",
       "      <td>0</td>\n",
       "      <td>0</td>\n",
       "      <td>0</td>\n",
       "      <td>1</td>\n",
       "      <td>0</td>\n",
       "      <td>0</td>\n",
       "    </tr>\n",
       "    <tr>\n",
       "      <th>10022496</th>\n",
       "      <td>0.0</td>\n",
       "      <td>0.0</td>\n",
       "      <td>0.0</td>\n",
       "      <td>0.0</td>\n",
       "      <td>0.0</td>\n",
       "      <td>0.0</td>\n",
       "      <td>0.0</td>\n",
       "      <td>0.0</td>\n",
       "      <td>0.0</td>\n",
       "      <td>0.0</td>\n",
       "      <td>...</td>\n",
       "      <td>1</td>\n",
       "      <td>0</td>\n",
       "      <td>0</td>\n",
       "      <td>0</td>\n",
       "      <td>1</td>\n",
       "      <td>0</td>\n",
       "      <td>0</td>\n",
       "      <td>0</td>\n",
       "      <td>0</td>\n",
       "      <td>0</td>\n",
       "    </tr>\n",
       "    <tr>\n",
       "      <th>10027301</th>\n",
       "      <td>0.0</td>\n",
       "      <td>0.0</td>\n",
       "      <td>0.0</td>\n",
       "      <td>0.0</td>\n",
       "      <td>0.0</td>\n",
       "      <td>0.0</td>\n",
       "      <td>0.0</td>\n",
       "      <td>0.0</td>\n",
       "      <td>0.0</td>\n",
       "      <td>0.0</td>\n",
       "      <td>...</td>\n",
       "      <td>0</td>\n",
       "      <td>0</td>\n",
       "      <td>0</td>\n",
       "      <td>0</td>\n",
       "      <td>0</td>\n",
       "      <td>0</td>\n",
       "      <td>0</td>\n",
       "      <td>1</td>\n",
       "      <td>0</td>\n",
       "      <td>0</td>\n",
       "    </tr>\n",
       "    <tr>\n",
       "      <th>10051677</th>\n",
       "      <td>0.0</td>\n",
       "      <td>0.0</td>\n",
       "      <td>0.0</td>\n",
       "      <td>0.0</td>\n",
       "      <td>0.0</td>\n",
       "      <td>0.0</td>\n",
       "      <td>0.0</td>\n",
       "      <td>0.0</td>\n",
       "      <td>0.0</td>\n",
       "      <td>0.0</td>\n",
       "      <td>...</td>\n",
       "      <td>0</td>\n",
       "      <td>0</td>\n",
       "      <td>0</td>\n",
       "      <td>0</td>\n",
       "      <td>1</td>\n",
       "      <td>0</td>\n",
       "      <td>1</td>\n",
       "      <td>0</td>\n",
       "      <td>1</td>\n",
       "      <td>1</td>\n",
       "    </tr>\n",
       "  </tbody>\n",
       "</table>\n",
       "<p>5 rows × 200 columns</p>\n",
       "</div>"
      ],
      "text/plain": [
       "          acute_stress_disorder  adhd  adjustment_disorder  agoraphobia  \\\n",
       "10022492                    0.0   0.0                  0.0          0.0   \n",
       "10022494                    0.0   0.0                  0.0          0.0   \n",
       "10022496                    0.0   0.0                  0.0          0.0   \n",
       "10027301                    0.0   0.0                  0.0          0.0   \n",
       "10051677                    0.0   0.0                  0.0          0.0   \n",
       "\n",
       "          alcohol_abuse  alcohol_use_disorder  alcohol_withdrawal  \\\n",
       "10022492            0.0                   0.0                 0.0   \n",
       "10022494            0.0                   0.0                 0.0   \n",
       "10022496            0.0                   0.0                 0.0   \n",
       "10027301            0.0                   0.0                 0.0   \n",
       "10051677            0.0                   0.0                 0.0   \n",
       "\n",
       "          anxiety_disorder  aspergers_syndrome  \\\n",
       "10022492               0.0                 0.0   \n",
       "10022494               0.0                 0.0   \n",
       "10022496               0.0                 0.0   \n",
       "10027301               0.0                 0.0   \n",
       "10051677               0.0                 0.0   \n",
       "\n",
       "          attention_deficit_hyperactivity_disorder  ...  \\\n",
       "10022492                                       0.0  ...   \n",
       "10022494                                       0.0  ...   \n",
       "10022496                                       0.0  ...   \n",
       "10027301                                       0.0  ...   \n",
       "10051677                                       0.0  ...   \n",
       "\n",
       "          right_superior_temporal_gyrus_posterior_division  \\\n",
       "10022492                                                 0   \n",
       "10022494                                                 1   \n",
       "10022496                                                 1   \n",
       "10027301                                                 0   \n",
       "10051677                                                 0   \n",
       "\n",
       "          right_supplementary_motor_cortex  right_supracalcarine_cortex  \\\n",
       "10022492                                 1                            0   \n",
       "10022494                                 1                            1   \n",
       "10022496                                 0                            0   \n",
       "10027301                                 0                            0   \n",
       "10051677                                 0                            0   \n",
       "\n",
       "          right_supramarginal_gyrus_anterior_division  \\\n",
       "10022492                                            1   \n",
       "10022494                                            1   \n",
       "10022496                                            0   \n",
       "10027301                                            0   \n",
       "10051677                                            0   \n",
       "\n",
       "          right_supramarginal_gyrus_posterior_division  \\\n",
       "10022492                                             0   \n",
       "10022494                                             0   \n",
       "10022496                                             1   \n",
       "10027301                                             0   \n",
       "10051677                                             1   \n",
       "\n",
       "          right_temporal_fusiform_cortex_anterior_division  \\\n",
       "10022492                                                 0   \n",
       "10022494                                                 0   \n",
       "10022496                                                 0   \n",
       "10027301                                                 0   \n",
       "10051677                                                 0   \n",
       "\n",
       "          right_temporal_fusiform_cortex_posterior_division  \\\n",
       "10022492                                                  0   \n",
       "10022494                                                  0   \n",
       "10022496                                                  0   \n",
       "10027301                                                  0   \n",
       "10051677                                                  1   \n",
       "\n",
       "          right_temporal_occipital_fusiform_cortex  right_temporal_pole  \\\n",
       "10022492                                         0                    0   \n",
       "10022494                                         1                    0   \n",
       "10022496                                         0                    0   \n",
       "10027301                                         1                    0   \n",
       "10051677                                         0                    1   \n",
       "\n",
       "          right_thalamus  \n",
       "10022492               1  \n",
       "10022494               0  \n",
       "10022496               0  \n",
       "10027301               0  \n",
       "10051677               1  \n",
       "\n",
       "[5 rows x 200 columns]"
      ]
     },
     "execution_count": 11,
     "metadata": {},
     "output_type": "execute_result"
    }
   ],
   "source": [
    "docs = dtm_words.copy()\n",
    "docs[structures] = act_structs.copy()\n",
    "docs.head()"
   ]
  },
  {
   "cell_type": "markdown",
   "metadata": {},
   "source": [
    "## Document splits"
   ]
  },
  {
   "cell_type": "code",
   "execution_count": 12,
   "metadata": {},
   "outputs": [
    {
     "name": "stdout",
     "output_type": "stream",
     "text": [
      "Discovery    N=12708\n",
      "Replication  N=5447\n"
     ]
    }
   ],
   "source": [
    "splits = {}\n",
    "splits[\"discovery\"] = [int(pmid.strip()) for pmid in open(\"../data/splits/train.txt\")]\n",
    "splits[\"replication\"] = [int(pmid.strip()) for pmid in open(\"../data/splits/validation.txt\")]\n",
    "splits[\"replication\"] += [int(pmid.strip()) for pmid in open(\"../data/splits/test.txt\")]\n",
    "for split, pmids in splits.items():\n",
    "    print(\"{:12s} N={}\".format(split.title(), len(pmids)))"
   ]
  },
  {
   "cell_type": "markdown",
   "metadata": {},
   "source": [
    "## Document assignments"
   ]
  },
  {
   "cell_type": "code",
   "execution_count": 13,
   "metadata": {},
   "outputs": [],
   "source": [
    "doc2dom_df = pd.read_csv(\"../partition/data/doc2dom_{}{}.csv\".format(framework, clf), \n",
    "                         header=None, index_col=0)\n",
    "doc2dom = {int(pmid): str(dom.values[0]) for pmid, dom in doc2dom_df.iterrows()}"
   ]
  },
  {
   "cell_type": "code",
   "execution_count": 14,
   "metadata": {},
   "outputs": [],
   "source": [
    "dom2docs = {dom: {split: [] for split in [\"discovery\", \"replication\"]} for dom in domains}\n",
    "for doc, dom in doc2dom.items():\n",
    "    for split, split_pmids in splits.items():\n",
    "        if doc in splits[split]:\n",
    "            dom2docs[dom][split].append(doc)"
   ]
  },
  {
   "cell_type": "code",
   "execution_count": 15,
   "metadata": {},
   "outputs": [
    {
     "data": {
      "text/plain": [
       "[10327898, 10327899, 10459395, 10651872, 10974961]"
      ]
     },
     "execution_count": 15,
     "metadata": {},
     "output_type": "execute_result"
    }
   ],
   "source": [
    "sorted_pmids = {}\n",
    "for split, split_pmids in splits.items():\n",
    "    sorted_pmids[split] = []\n",
    "    for dom in domains:\n",
    "        sorted_pmids[split] += [pmid for pmid, sys in doc2dom.items() if sys == dom and pmid in split_pmids]\n",
    "sorted_pmids[\"discovery\"][:5]"
   ]
  },
  {
   "cell_type": "markdown",
   "metadata": {},
   "source": [
    "# Compute document distances\n",
    "\n",
    "Indexing by min:max will be faster in subsequent computations"
   ]
  },
  {
   "cell_type": "code",
   "execution_count": 16,
   "metadata": {},
   "outputs": [],
   "source": [
    "from scipy.spatial.distance import cdist"
   ]
  },
  {
   "cell_type": "code",
   "execution_count": 17,
   "metadata": {},
   "outputs": [],
   "source": [
    "doc_dists = {}\n",
    "for split in splits.keys():\n",
    "    ids = sorted_pmids[split]\n",
    "    doc_dists[split] = cdist(docs.loc[ids], docs.loc[ids], metric=\"dice\")\n",
    "    doc_dists[split] = pd.DataFrame(doc_dists[split], index=ids, columns=ids)"
   ]
  },
  {
   "cell_type": "markdown",
   "metadata": {},
   "source": [
    "## Compute domain min and max indices"
   ]
  },
  {
   "cell_type": "code",
   "execution_count": 18,
   "metadata": {},
   "outputs": [],
   "source": [
    "dom_idx = {}\n",
    "for split in splits.keys():\n",
    "    dom_idx[split] = {dom: {\"min\": 0, \"max\": 0} for dom in domains}\n",
    "    for dom in domains:\n",
    "        dom_pmids = dom2docs[dom][split]\n",
    "        dom_idx[split][dom][\"min\"] = sorted_pmids[split].index(dom_pmids[0])\n",
    "        dom_idx[split][dom][\"max\"] = sorted_pmids[split].index(dom_pmids[-1]) + 1"
   ]
  },
  {
   "cell_type": "markdown",
   "metadata": {},
   "source": [
    "# Compute domain modularity"
   ]
  },
  {
   "cell_type": "markdown",
   "metadata": {},
   "source": [
    "## Observed values\n",
    "\n",
    "### Distances internal and external to articles in each domain"
   ]
  },
  {
   "cell_type": "code",
   "execution_count": 19,
   "metadata": {},
   "outputs": [],
   "source": [
    "dists_int, dists_ext = {}, {}\n",
    "for split, split_pmids in splits.items():\n",
    "    \n",
    "    dists_int[split], dists_ext[split] = {}, {}\n",
    "    for dom in domains:\n",
    "        \n",
    "        dom_min, dom_max = dom_idx[split][dom][\"min\"], dom_idx[split][dom][\"max\"]\n",
    "        dom_dists = doc_dists[split].values[:,dom_min:dom_max][dom_min:dom_max,:]\n",
    "        dists_int[split][dom] = dom_dists\n",
    "        \n",
    "        other_dists_lower = doc_dists[split].values[:,dom_min:dom_max][:dom_min,:]\n",
    "        other_dists_upper = doc_dists[split].values[:,dom_min:dom_max][dom_max:,:]\n",
    "        other_dists = np.concatenate((other_dists_lower, other_dists_upper))\n",
    "        dists_ext[split][dom] = other_dists"
   ]
  },
  {
   "cell_type": "markdown",
   "metadata": {},
   "source": [
    "### Article-level ratio of external to internal distances"
   ]
  },
  {
   "cell_type": "code",
   "execution_count": 20,
   "metadata": {},
   "outputs": [
    {
     "data": {
      "text/html": [
       "<div>\n",
       "<style scoped>\n",
       "    .dataframe tbody tr th:only-of-type {\n",
       "        vertical-align: middle;\n",
       "    }\n",
       "\n",
       "    .dataframe tbody tr th {\n",
       "        vertical-align: top;\n",
       "    }\n",
       "\n",
       "    .dataframe thead th {\n",
       "        text-align: right;\n",
       "    }\n",
       "</style>\n",
       "<table border=\"1\" class=\"dataframe\">\n",
       "  <thead>\n",
       "    <tr style=\"text-align: right;\">\n",
       "      <th></th>\n",
       "      <th>PMID</th>\n",
       "      <th>SPLIT</th>\n",
       "      <th>DOMAIN</th>\n",
       "      <th>OBSERVED</th>\n",
       "    </tr>\n",
       "  </thead>\n",
       "  <tbody>\n",
       "    <tr>\n",
       "      <th>0</th>\n",
       "      <td>10327898</td>\n",
       "      <td>discovery</td>\n",
       "      <td>DEPRESSIVE</td>\n",
       "      <td>0.936868</td>\n",
       "    </tr>\n",
       "    <tr>\n",
       "      <th>1</th>\n",
       "      <td>10327899</td>\n",
       "      <td>discovery</td>\n",
       "      <td>DEPRESSIVE</td>\n",
       "      <td>0.995147</td>\n",
       "    </tr>\n",
       "    <tr>\n",
       "      <th>2</th>\n",
       "      <td>10459395</td>\n",
       "      <td>discovery</td>\n",
       "      <td>DEPRESSIVE</td>\n",
       "      <td>1.062384</td>\n",
       "    </tr>\n",
       "    <tr>\n",
       "      <th>3</th>\n",
       "      <td>10651872</td>\n",
       "      <td>discovery</td>\n",
       "      <td>DEPRESSIVE</td>\n",
       "      <td>1.005353</td>\n",
       "    </tr>\n",
       "    <tr>\n",
       "      <th>4</th>\n",
       "      <td>10974961</td>\n",
       "      <td>discovery</td>\n",
       "      <td>DEPRESSIVE</td>\n",
       "      <td>1.271579</td>\n",
       "    </tr>\n",
       "  </tbody>\n",
       "</table>\n",
       "</div>"
      ],
      "text/plain": [
       "       PMID      SPLIT      DOMAIN  OBSERVED\n",
       "0  10327898  discovery  DEPRESSIVE  0.936868\n",
       "1  10327899  discovery  DEPRESSIVE  0.995147\n",
       "2  10459395  discovery  DEPRESSIVE  1.062384\n",
       "3  10651872  discovery  DEPRESSIVE  1.005353\n",
       "4  10974961  discovery  DEPRESSIVE  1.271579"
      ]
     },
     "execution_count": 20,
     "metadata": {},
     "output_type": "execute_result"
    }
   ],
   "source": [
    "df_stat = {}\n",
    "pmid_list, split_list, dom_list, obs_list  = [], [], [], []\n",
    "\n",
    "for split, split_pmids in splits.items():\n",
    "    \n",
    "    df_stat[split] = pd.DataFrame(index=domains, columns=[\"OBSERVED\"])\n",
    "\n",
    "    for dom in domains:\n",
    "\n",
    "        mean_dist_int = np.mean(dists_int[split][dom], axis=0)\n",
    "        mean_dist_ext = np.mean(dists_ext[split][dom], axis=0)\n",
    "\n",
    "        df_stat[split].loc[dom, \"OBSERVED\"] = np.nanmean(mean_dist_ext / mean_dist_int)\n",
    "        \n",
    "        obs = mean_dist_ext / mean_dist_int\n",
    "        pmid_list += dom2docs[dom][split]\n",
    "        dom_list += [dom] * len(obs)\n",
    "        split_list += [split] * len(obs)\n",
    "        obs_list += list(obs)\n",
    "\n",
    "df_obs = pd.DataFrame({\"PMID\": pmid_list, \"SPLIT\": split_list, \n",
    "                       \"DOMAIN\": dom_list, \"OBSERVED\": obs_list})\n",
    "df_obs.to_csv(\"data/mod_obs_{}{}.csv\".format(framework, clf))    \n",
    "df_obs.head()"
   ]
  },
  {
   "cell_type": "code",
   "execution_count": 21,
   "metadata": {},
   "outputs": [
    {
     "name": "stdout",
     "output_type": "stream",
     "text": [
      "Discovery set modularity     1.0945\n",
      "Replication set modularity   1.1000\n"
     ]
    }
   ],
   "source": [
    "for split in splits.keys():\n",
    "    obs = df_stat[split][\"OBSERVED\"].mean()\n",
    "    print(\"{:28s} {:6.4f}\".format(split.title() + \" set modularity\", obs))"
   ]
  },
  {
   "cell_type": "markdown",
   "metadata": {},
   "source": [
    "## Null distributions"
   ]
  },
  {
   "cell_type": "code",
   "execution_count": 22,
   "metadata": {},
   "outputs": [],
   "source": [
    "import os"
   ]
  },
  {
   "cell_type": "code",
   "execution_count": 23,
   "metadata": {},
   "outputs": [
    {
     "name": "stdout",
     "output_type": "stream",
     "text": [
      "Processing discovery split (N=12708 documents)\n",
      "----- Processing DEPRESSIVE\n",
      "----- Processing ANXIETY\n",
      "----- Processing TRAUMA_STRESSOR\n",
      "----- Processing OBSESSIVE_COMPULSIVE\n",
      "----- Processing DISRUPTIVE\n",
      "----- Processing SUBSTANCE\n",
      "----- Processing DEVELOPMENTAL\n",
      "----- Processing PSYCHOTIC\n",
      "----- Processing BIPOLAR\n",
      "\n",
      "Processing replication split (N=5447 documents)\n",
      "----- Processing DEPRESSIVE\n",
      "----- Processing ANXIETY\n",
      "----- Processing TRAUMA_STRESSOR\n",
      "----- Processing OBSESSIVE_COMPULSIVE\n",
      "----- Processing DISRUPTIVE\n",
      "----- Processing SUBSTANCE\n",
      "----- Processing DEVELOPMENTAL\n",
      "----- Processing PSYCHOTIC\n",
      "----- Processing BIPOLAR\n",
      "\n"
     ]
    }
   ],
   "source": [
    "df_null = {}\n",
    "for split, split_pmids in splits.items():\n",
    "    \n",
    "    print(\"Processing {} split (N={} documents)\".format(split, len(split_pmids)))\n",
    "    \n",
    "    n_docs = len(split_pmids)\n",
    "    file_null = \"data/mod_null_{}{}_{}_{}iter.csv\".format(framework, clf, split, n_iter)\n",
    "    if not os.path.isfile(file_null):\n",
    "        \n",
    "        df_null[split] = np.empty((len(domains), n_iter))\n",
    "        for i, dom in enumerate(domains):\n",
    "            \n",
    "            print(\"----- Processing {}\".format(dom))\n",
    "            \n",
    "            n_dom_docs = dists_int[split][dom].shape[0]\n",
    "            dist_int_ext = np.concatenate((dists_int[split][dom], dists_ext[split][dom]))\n",
    "            for n in range(n_iter):\n",
    "                \n",
    "                null = np.random.choice(range(n_docs), size=n_docs, replace=False)\n",
    "                dist_int_ext_null = dist_int_ext[null,:]\n",
    "                \n",
    "                mean_dist_int = np.mean(dist_int_ext_null[:n_dom_docs,:], axis=0)\n",
    "                mean_dist_ext = np.mean(dist_int_ext_null[n_dom_docs:,:], axis=0)\n",
    "                \n",
    "                df_null[split][i,n] = np.nanmean(mean_dist_ext / mean_dist_int)\n",
    "\n",
    "        df_null[split] = pd.DataFrame(df_null[split], index=domains, columns=range(n_iter))\n",
    "        df_null[split].to_csv(file_null)\n",
    "        print(\"\")\n",
    "\n",
    "    else:\n",
    "        df_null[split] = pd.read_csv(file_null, index_col=0, header=0)"
   ]
  },
  {
   "cell_type": "markdown",
   "metadata": {},
   "source": [
    "### Interleave splits to facilitate plotting"
   ]
  },
  {
   "cell_type": "code",
   "execution_count": 24,
   "metadata": {},
   "outputs": [
    {
     "data": {
      "text/html": [
       "<div>\n",
       "<style scoped>\n",
       "    .dataframe tbody tr th:only-of-type {\n",
       "        vertical-align: middle;\n",
       "    }\n",
       "\n",
       "    .dataframe tbody tr th {\n",
       "        vertical-align: top;\n",
       "    }\n",
       "\n",
       "    .dataframe thead th {\n",
       "        text-align: right;\n",
       "    }\n",
       "</style>\n",
       "<table border=\"1\" class=\"dataframe\">\n",
       "  <thead>\n",
       "    <tr style=\"text-align: right;\">\n",
       "      <th></th>\n",
       "      <th>0</th>\n",
       "      <th>1</th>\n",
       "      <th>2</th>\n",
       "      <th>3</th>\n",
       "      <th>4</th>\n",
       "      <th>5</th>\n",
       "      <th>6</th>\n",
       "      <th>7</th>\n",
       "      <th>8</th>\n",
       "      <th>9</th>\n",
       "      <th>...</th>\n",
       "      <th>990</th>\n",
       "      <th>991</th>\n",
       "      <th>992</th>\n",
       "      <th>993</th>\n",
       "      <th>994</th>\n",
       "      <th>995</th>\n",
       "      <th>996</th>\n",
       "      <th>997</th>\n",
       "      <th>998</th>\n",
       "      <th>999</th>\n",
       "    </tr>\n",
       "  </thead>\n",
       "  <tbody>\n",
       "    <tr>\n",
       "      <th>DEPRESSIVE_discovery</th>\n",
       "      <td>1.002022</td>\n",
       "      <td>1.002026</td>\n",
       "      <td>1.007384</td>\n",
       "      <td>1.000677</td>\n",
       "      <td>0.999125</td>\n",
       "      <td>1.001000</td>\n",
       "      <td>0.998580</td>\n",
       "      <td>0.993941</td>\n",
       "      <td>0.998431</td>\n",
       "      <td>1.001760</td>\n",
       "      <td>...</td>\n",
       "      <td>1.002624</td>\n",
       "      <td>0.997295</td>\n",
       "      <td>1.000731</td>\n",
       "      <td>0.998569</td>\n",
       "      <td>1.002498</td>\n",
       "      <td>1.002288</td>\n",
       "      <td>1.000812</td>\n",
       "      <td>0.995496</td>\n",
       "      <td>1.005898</td>\n",
       "      <td>0.998359</td>\n",
       "    </tr>\n",
       "    <tr>\n",
       "      <th>DEPRESSIVE_replication</th>\n",
       "      <td>0.995691</td>\n",
       "      <td>1.004955</td>\n",
       "      <td>0.998113</td>\n",
       "      <td>0.997559</td>\n",
       "      <td>1.000528</td>\n",
       "      <td>0.993071</td>\n",
       "      <td>0.997630</td>\n",
       "      <td>0.996082</td>\n",
       "      <td>0.994902</td>\n",
       "      <td>0.994615</td>\n",
       "      <td>...</td>\n",
       "      <td>1.004506</td>\n",
       "      <td>1.001793</td>\n",
       "      <td>0.999718</td>\n",
       "      <td>1.000379</td>\n",
       "      <td>1.005164</td>\n",
       "      <td>0.996904</td>\n",
       "      <td>1.001482</td>\n",
       "      <td>0.998104</td>\n",
       "      <td>0.996934</td>\n",
       "      <td>1.005346</td>\n",
       "    </tr>\n",
       "    <tr>\n",
       "      <th>ANXIETY_discovery</th>\n",
       "      <td>0.996028</td>\n",
       "      <td>0.997302</td>\n",
       "      <td>1.002091</td>\n",
       "      <td>1.001284</td>\n",
       "      <td>1.003186</td>\n",
       "      <td>1.001728</td>\n",
       "      <td>0.993653</td>\n",
       "      <td>0.996033</td>\n",
       "      <td>0.995961</td>\n",
       "      <td>1.002381</td>\n",
       "      <td>...</td>\n",
       "      <td>0.994679</td>\n",
       "      <td>1.002838</td>\n",
       "      <td>0.998771</td>\n",
       "      <td>0.995188</td>\n",
       "      <td>1.001816</td>\n",
       "      <td>1.004611</td>\n",
       "      <td>1.003331</td>\n",
       "      <td>1.002371</td>\n",
       "      <td>1.000172</td>\n",
       "      <td>1.002503</td>\n",
       "    </tr>\n",
       "    <tr>\n",
       "      <th>ANXIETY_replication</th>\n",
       "      <td>1.002476</td>\n",
       "      <td>1.004215</td>\n",
       "      <td>1.002529</td>\n",
       "      <td>1.010347</td>\n",
       "      <td>0.991367</td>\n",
       "      <td>1.004295</td>\n",
       "      <td>0.998851</td>\n",
       "      <td>1.007055</td>\n",
       "      <td>0.994012</td>\n",
       "      <td>0.999724</td>\n",
       "      <td>...</td>\n",
       "      <td>0.991315</td>\n",
       "      <td>0.994193</td>\n",
       "      <td>1.007378</td>\n",
       "      <td>1.001678</td>\n",
       "      <td>0.998749</td>\n",
       "      <td>1.003074</td>\n",
       "      <td>0.994106</td>\n",
       "      <td>1.002058</td>\n",
       "      <td>1.002621</td>\n",
       "      <td>0.995098</td>\n",
       "    </tr>\n",
       "    <tr>\n",
       "      <th>TRAUMA_STRESSOR_discovery</th>\n",
       "      <td>0.995683</td>\n",
       "      <td>0.997490</td>\n",
       "      <td>0.999426</td>\n",
       "      <td>1.000526</td>\n",
       "      <td>0.998143</td>\n",
       "      <td>1.003102</td>\n",
       "      <td>0.995765</td>\n",
       "      <td>0.998593</td>\n",
       "      <td>1.004808</td>\n",
       "      <td>1.005366</td>\n",
       "      <td>...</td>\n",
       "      <td>0.998951</td>\n",
       "      <td>1.000947</td>\n",
       "      <td>0.996411</td>\n",
       "      <td>0.996377</td>\n",
       "      <td>1.003821</td>\n",
       "      <td>0.996006</td>\n",
       "      <td>1.002419</td>\n",
       "      <td>0.996129</td>\n",
       "      <td>1.001955</td>\n",
       "      <td>0.996167</td>\n",
       "    </tr>\n",
       "  </tbody>\n",
       "</table>\n",
       "<p>5 rows × 1000 columns</p>\n",
       "</div>"
      ],
      "text/plain": [
       "                                0         1         2         3         4    \\\n",
       "DEPRESSIVE_discovery       1.002022  1.002026  1.007384  1.000677  0.999125   \n",
       "DEPRESSIVE_replication     0.995691  1.004955  0.998113  0.997559  1.000528   \n",
       "ANXIETY_discovery          0.996028  0.997302  1.002091  1.001284  1.003186   \n",
       "ANXIETY_replication        1.002476  1.004215  1.002529  1.010347  0.991367   \n",
       "TRAUMA_STRESSOR_discovery  0.995683  0.997490  0.999426  1.000526  0.998143   \n",
       "\n",
       "                                5         6         7         8         9    \\\n",
       "DEPRESSIVE_discovery       1.001000  0.998580  0.993941  0.998431  1.001760   \n",
       "DEPRESSIVE_replication     0.993071  0.997630  0.996082  0.994902  0.994615   \n",
       "ANXIETY_discovery          1.001728  0.993653  0.996033  0.995961  1.002381   \n",
       "ANXIETY_replication        1.004295  0.998851  1.007055  0.994012  0.999724   \n",
       "TRAUMA_STRESSOR_discovery  1.003102  0.995765  0.998593  1.004808  1.005366   \n",
       "\n",
       "                           ...       990       991       992       993  \\\n",
       "DEPRESSIVE_discovery       ...  1.002624  0.997295  1.000731  0.998569   \n",
       "DEPRESSIVE_replication     ...  1.004506  1.001793  0.999718  1.000379   \n",
       "ANXIETY_discovery          ...  0.994679  1.002838  0.998771  0.995188   \n",
       "ANXIETY_replication        ...  0.991315  0.994193  1.007378  1.001678   \n",
       "TRAUMA_STRESSOR_discovery  ...  0.998951  1.000947  0.996411  0.996377   \n",
       "\n",
       "                                994       995       996       997       998  \\\n",
       "DEPRESSIVE_discovery       1.002498  1.002288  1.000812  0.995496  1.005898   \n",
       "DEPRESSIVE_replication     1.005164  0.996904  1.001482  0.998104  0.996934   \n",
       "ANXIETY_discovery          1.001816  1.004611  1.003331  1.002371  1.000172   \n",
       "ANXIETY_replication        0.998749  1.003074  0.994106  1.002058  1.002621   \n",
       "TRAUMA_STRESSOR_discovery  1.003821  0.996006  1.002419  0.996129  1.001955   \n",
       "\n",
       "                                999  \n",
       "DEPRESSIVE_discovery       0.998359  \n",
       "DEPRESSIVE_replication     1.005346  \n",
       "ANXIETY_discovery          1.002503  \n",
       "ANXIETY_replication        0.995098  \n",
       "TRAUMA_STRESSOR_discovery  0.996167  \n",
       "\n",
       "[5 rows x 1000 columns]"
      ]
     },
     "execution_count": 24,
     "metadata": {},
     "output_type": "execute_result"
    }
   ],
   "source": [
    "df_null_interleaved = pd.DataFrame()\n",
    "null_idx = []\n",
    "for dom in domains:\n",
    "    for split in [\"discovery\", \"replication\"]:\n",
    "        df_null_interleaved = df_null_interleaved.append(df_null[split].loc[dom])\n",
    "        null_idx.append(dom + \"_\" + split)\n",
    "df_null_interleaved.index = null_idx\n",
    "df_null_interleaved.head()"
   ]
  },
  {
   "cell_type": "markdown",
   "metadata": {},
   "source": [
    "## Bootstrap distributions"
   ]
  },
  {
   "cell_type": "code",
   "execution_count": 25,
   "metadata": {},
   "outputs": [
    {
     "name": "stdout",
     "output_type": "stream",
     "text": [
      "Processing discovery split (N=12708 documents)\n",
      "----- Processing DEPRESSIVE\n",
      "----- Processing ANXIETY\n",
      "----- Processing TRAUMA_STRESSOR\n",
      "----- Processing OBSESSIVE_COMPULSIVE\n",
      "----- Processing DISRUPTIVE\n",
      "----- Processing SUBSTANCE\n",
      "----- Processing DEVELOPMENTAL\n",
      "----- Processing PSYCHOTIC\n",
      "----- Processing BIPOLAR\n",
      "\n",
      "Processing replication split (N=5447 documents)\n",
      "----- Processing DEPRESSIVE\n",
      "----- Processing ANXIETY\n",
      "----- Processing TRAUMA_STRESSOR\n",
      "----- Processing OBSESSIVE_COMPULSIVE\n",
      "----- Processing DISRUPTIVE\n",
      "----- Processing SUBSTANCE\n",
      "----- Processing DEVELOPMENTAL\n",
      "----- Processing PSYCHOTIC\n",
      "----- Processing BIPOLAR\n",
      "\n"
     ]
    }
   ],
   "source": [
    "df_boot = {}\n",
    "for split, split_pmids in splits.items():\n",
    "    \n",
    "    print(\"Processing {} split (N={} documents)\".format(split, len(split_pmids)))\n",
    "\n",
    "    file_boot = \"data/mod_boot_{}{}_{}_{}iter.csv\".format(framework, clf, split, n_iter)\n",
    "    if not os.path.isfile(file_boot):\n",
    "        \n",
    "        df_boot[split] = np.empty((len(domains), n_iter))\n",
    "        for i, dom in enumerate(domains):\n",
    "            \n",
    "            print(\"----- Processing {}\".format(dom))\n",
    "            \n",
    "            n_docs = dists_int[split][dom].shape[0]\n",
    "            \n",
    "            for n in range(n_iter):\n",
    "                \n",
    "                boot = np.random.choice(range(n_docs), size=n_docs, replace=True)\n",
    "            \n",
    "                mean_dist_int = np.mean(dists_int[split][dom][:,boot], axis=0)\n",
    "                mean_dist_ext = np.mean(dists_ext[split][dom][:,boot], axis=0)\n",
    "                \n",
    "                df_boot[split][i,n] = np.nanmean(mean_dist_ext / mean_dist_int)\n",
    "\n",
    "        df_boot[split] = pd.DataFrame(df_boot[split], index=domains, columns=range(n_iter))\n",
    "        df_boot[split].to_csv(file_boot)\n",
    "        print(\"\")\n",
    "\n",
    "    else:\n",
    "        df_boot[split] = pd.read_csv(file_boot, index_col=0, header=0)"
   ]
  },
  {
   "cell_type": "markdown",
   "metadata": {},
   "source": [
    "# Perform significance testing"
   ]
  },
  {
   "cell_type": "code",
   "execution_count": 26,
   "metadata": {},
   "outputs": [],
   "source": [
    "from statsmodels.stats import multitest"
   ]
  },
  {
   "cell_type": "code",
   "execution_count": 27,
   "metadata": {},
   "outputs": [
    {
     "name": "stdout",
     "output_type": "stream",
     "text": [
      "-----------------------------------------------------------------\n",
      "DISCOVERY\n",
      "-----------------------------------------------------------------\n",
      "                     OBSERVED    P  FDR STARS\n",
      "DEPRESSIVE            1.09586  0.0  0.0     *\n",
      "ANXIETY                1.0648  0.0  0.0     *\n",
      "TRAUMA_STRESSOR       1.08992  0.0  0.0     *\n",
      "OBSESSIVE_COMPULSIVE  1.04279  0.0  0.0     *\n",
      "DISRUPTIVE            1.10416  0.0  0.0     *\n",
      "SUBSTANCE             1.06634  0.0  0.0     *\n",
      "DEVELOPMENTAL         1.32304  0.0  0.0     *\n",
      "PSYCHOTIC             1.05468  0.0  0.0     *\n",
      "BIPOLAR               1.00898  0.0  0.0     *\n",
      "\n",
      "-----------------------------------------------------------------\n",
      "REPLICATION\n",
      "-----------------------------------------------------------------\n",
      "                     OBSERVED    P  FDR STARS\n",
      "DEPRESSIVE            1.10319  0.0  0.0     *\n",
      "ANXIETY               1.06626  0.0  0.0     *\n",
      "TRAUMA_STRESSOR       1.10592  0.0  0.0     *\n",
      "OBSESSIVE_COMPULSIVE  1.06378  0.0  0.0     *\n",
      "DISRUPTIVE            1.09403  0.0  0.0     *\n",
      "SUBSTANCE             1.07032  0.0  0.0     *\n",
      "DEVELOPMENTAL         1.31774  0.0  0.0     *\n",
      "PSYCHOTIC             1.05881  0.0  0.0     *\n",
      "BIPOLAR               1.02012  0.0  0.0     *\n",
      "\n"
     ]
    }
   ],
   "source": [
    "for split in splits.keys():\n",
    "    \n",
    "    pval = []\n",
    "    for dom in domains:   \n",
    "        dom_null = df_null[split].loc[dom].values\n",
    "        dom_obs = float(df_stat[split].loc[dom, \"OBSERVED\"])\n",
    "        p = np.sum(dom_null >= dom_obs) / float(n_iter)\n",
    "        pval.append(p)\n",
    "        df_stat[split].loc[dom, \"P\"] = p\n",
    "    df_stat[split][\"FDR\"] = multitest.multipletests(pval, method=\"fdr_bh\")[1]\n",
    "    \n",
    "    for dom in domains:\n",
    "        if df_stat[split].loc[dom, \"FDR\"] < alpha:\n",
    "            df_stat[split].loc[dom, \"STARS\"] = \"*\"\n",
    "        else:\n",
    "            df_stat[split].loc[dom, \"STARS\"] = \"\"\n",
    "    df_stat[split] = df_stat[split].loc[domains, [\"OBSERVED\", \"P\", \"FDR\", \"STARS\"]]\n",
    "    df_stat[split].to_csv(\"data/mod_mean_{}{}_{}.csv\".format(framework, clf, split))\n",
    "    \n",
    "    print(\"-\" * 65 + \"\\n\" + split.upper() + \"\\n\" + \"-\" * 65)\n",
    "    print(df_stat[split])\n",
    "    print(\"\")"
   ]
  },
  {
   "cell_type": "markdown",
   "metadata": {},
   "source": [
    "# Plot results"
   ]
  },
  {
   "cell_type": "code",
   "execution_count": 28,
   "metadata": {},
   "outputs": [],
   "source": [
    "%matplotlib inline"
   ]
  },
  {
   "cell_type": "code",
   "execution_count": 29,
   "metadata": {},
   "outputs": [
    {
     "data": {
      "image/png": "[encoded data removed]",
      "text/plain": [
       "<Figure size 324x151.2 with 1 Axes>"
      ]
     },
     "metadata": {},
     "output_type": "display_data"
    }
   ],
   "source": [
    "utilities.plot_split_violins(framework, domains, df_obs, df_null_interleaved, df_stat, \n",
    "                             style.palettes[framework], metric=\"mod\", dx=dx, \n",
    "                             ylim=[0.75,1.75], yticks=[0.75,1,1.25,1.5,1.75], \n",
    "                             interval=0.999, alphas=[0], suffix=clf)"
   ]
  },
  {
   "cell_type": "code",
   "execution_count": null,
   "metadata": {},
   "outputs": [],
   "source": []
  }
 ],
 "metadata": {
  "kernelspec": {
   "display_name": "Python [conda env:ontol] *",
   "language": "python",
   "name": "conda-env-ontol-py"
  },
  "language_info": {
   "codemirror_mode": {
    "name": "ipython",
    "version": 3
   },
   "file_extension": ".py",
   "mimetype": "text/x-python",
   "name": "python",
   "nbconvert_exporter": "python",
   "pygments_lexer": "ipython3",
   "version": "3.6.8"
  }
 },
 "nbformat": 4,
 "nbformat_minor": 2
}
