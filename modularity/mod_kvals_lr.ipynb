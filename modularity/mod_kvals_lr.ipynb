{
 "cells": [
  {
   "cell_type": "markdown",
   "metadata": {},
   "source": [
    "# Introduction\n",
    "\n",
    "In a prior notebook, documents were partitioned by assigning them to the domain with the highest Dice similarity of their term and structure occurrences. The occurrences of terms and structures in each domain is what we refer to as the domain \"archetype.\" Here, we'll assess whether the observed similarity between documents and the archetype is greater than expected by chance. This would indicate that information in the framework generalizes well to individual documents.\n",
    "\n",
    "# Load the data"
   ]
  },
  {
   "cell_type": "code",
   "execution_count": 1,
   "metadata": {},
   "outputs": [],
   "source": [
    "import os\n",
    "import pandas as pd\n",
    "import numpy as np\n",
    "\n",
    "import sys\n",
    "sys.path.append(\"..\")\n",
    "import utilities\n",
    "from ontology import ontology\n",
    "from style import style"
   ]
  },
  {
   "cell_type": "code",
   "execution_count": 2,
   "metadata": {},
   "outputs": [],
   "source": [
    "version = 190325 # Document-term matrix version\n",
    "suffix = \"_logreg\" # Suffix for term lists\n",
    "clf = \"lr\" # Classifier used to generate the framework\n",
    "n_iter = 1000 # Iterations for null distribution\n",
    "circuit_counts = range(2, 51) # Range of k values\n",
    "split = \"test\""
   ]
  },
  {
   "cell_type": "markdown",
   "metadata": {},
   "source": [
    "## Brain activation coordinates"
   ]
  },
  {
   "cell_type": "code",
   "execution_count": 3,
   "metadata": {},
   "outputs": [
    {
     "name": "stdout",
     "output_type": "stream",
     "text": [
      "Document N=18155, Structure N=118\n"
     ]
    }
   ],
   "source": [
    "act_bin = utilities.load_coordinates()\n",
    "print(\"Document N={}, Structure N={}\".format(\n",
    "      act_bin.shape[0], act_bin.shape[1]))"
   ]
  },
  {
   "cell_type": "markdown",
   "metadata": {},
   "source": [
    "## Document-term matrix"
   ]
  },
  {
   "cell_type": "code",
   "execution_count": 4,
   "metadata": {},
   "outputs": [
    {
     "name": "stdout",
     "output_type": "stream",
     "text": [
      "Document N=18155, Term N=4107\n"
     ]
    }
   ],
   "source": [
    "dtm_bin = utilities.load_doc_term_matrix(version=version, binarize=True)\n",
    "print(\"Document N={}, Term N={}\".format(\n",
    "      dtm_bin.shape[0], dtm_bin.shape[1]))"
   ]
  },
  {
   "cell_type": "markdown",
   "metadata": {},
   "source": [
    "## Document splits"
   ]
  },
  {
   "cell_type": "code",
   "execution_count": 5,
   "metadata": {},
   "outputs": [
    {
     "name": "stdout",
     "output_type": "stream",
     "text": [
      "Train        N=12708\n",
      "Validation   N=3631\n",
      "Test         N=1816\n"
     ]
    }
   ],
   "source": [
    "splits = {}\n",
    "splits[\"train\"] = [int(pmid.strip()) for pmid in open(\"../data/splits/train.txt\")]\n",
    "splits[\"validation\"] = [int(pmid.strip()) for pmid in open(\"../data/splits/validation.txt\")]\n",
    "splits[\"test\"] = [int(pmid.strip()) for pmid in open(\"../data/splits/test.txt\")]\n",
    "for split, split_pmids in splits.items():\n",
    "    print(\"{:12s} N={}\".format(split.title(), len(split_pmids)))"
   ]
  },
  {
   "cell_type": "code",
   "execution_count": 6,
   "metadata": {},
   "outputs": [],
   "source": [
    "pmids = dtm_bin.index.intersection(act_bin.index)\n",
    "split_pmids = splits[split]"
   ]
  },
  {
   "cell_type": "markdown",
   "metadata": {},
   "source": [
    "## Document assignments and distances\n",
    "\n",
    "Indexing by min:max will be faster in subsequent computations"
   ]
  },
  {
   "cell_type": "code",
   "execution_count": 7,
   "metadata": {},
   "outputs": [],
   "source": [
    "from collections import OrderedDict\n",
    "from scipy.spatial.distance import cdist"
   ]
  },
  {
   "cell_type": "code",
   "execution_count": 8,
   "metadata": {},
   "outputs": [],
   "source": [
    "def load_doc2dom(k, clf=\"lr\"):\n",
    "    doc2dom_df = pd.read_csv(\"../partition/data/doc2dom_k{:02d}_{}.csv\".format(k, clf), \n",
    "                             header=None, index_col=0)\n",
    "    doc2dom = {int(pmid): str(dom.values[0]) for pmid, dom in doc2dom_df.iterrows()}\n",
    "    return doc2dom\n",
    "\n",
    "def load_dom2docs(k, domains, splits, clf=\"lr\"):\n",
    "    doc2dom = load_doc2dom(k, clf=clf)\n",
    "    dom2docs = {dom: {split: [] for split, _ in splits.items()} for dom in domains}\n",
    "    for doc, dom in doc2dom.items():\n",
    "        for split, split_pmids in splits.items():\n",
    "            if doc in splits[split]:\n",
    "                dom2docs[dom][split].append(doc)\n",
    "    return dom2docs"
   ]
  },
  {
   "cell_type": "code",
   "execution_count": 9,
   "metadata": {},
   "outputs": [
    {
     "name": "stdout",
     "output_type": "stream",
     "text": [
      "Processing k=02\n",
      "Processing k=03\n",
      "Processing k=04\n",
      "Processing k=05\n",
      "Processing k=06\n",
      "Processing k=07\n",
      "Processing k=08\n",
      "Processing k=09\n",
      "Processing k=10\n",
      "Processing k=11\n",
      "Processing k=12\n",
      "Processing k=13\n",
      "Processing k=14\n",
      "Processing k=15\n",
      "Processing k=16\n",
      "Processing k=17\n",
      "Processing k=18\n",
      "Processing k=19\n",
      "Processing k=20\n",
      "Processing k=21\n",
      "Processing k=22\n",
      "Processing k=23\n",
      "Processing k=24\n",
      "Processing k=25\n",
      "Processing k=26\n",
      "Processing k=27\n",
      "Processing k=28\n",
      "Processing k=29\n",
      "Processing k=30\n",
      "Processing k=31\n",
      "Processing k=32\n",
      "Processing k=33\n",
      "Processing k=34\n",
      "Processing k=35\n",
      "Processing k=36\n",
      "Processing k=37\n",
      "Processing k=38\n",
      "Processing k=39\n",
      "Processing k=40\n",
      "Processing k=41\n",
      "Processing k=42\n",
      "Processing k=43\n",
      "Processing k=44\n",
      "Processing k=45\n",
      "Processing k=46\n",
      "Processing k=47\n",
      "Processing k=48\n",
      "Processing k=49\n",
      "Processing k=50\n"
     ]
    }
   ],
   "source": [
    "sorted_pmids, doc_dists, dom_idx = {}, {}, {}\n",
    "for k in circuit_counts:\n",
    "    \n",
    "    print(\"Processing k={:02d}\".format(k))\n",
    "    \n",
    "    sorted_pmids[k], doc_dists[k], dom_idx[k] = {}, {}, {}\n",
    "    \n",
    "    lists, circuits = ontology.load_ontology(k, path=\"../ontology/\", suffix=suffix)\n",
    "    words = sorted(list(set(lists[\"TOKEN\"])))\n",
    "    structures = sorted(list(set(act_bin.columns)))\n",
    "    domains = list(OrderedDict.fromkeys(lists[\"DOMAIN\"]))\n",
    "    \n",
    "    dtm_words = dtm_bin.loc[pmids, words]\n",
    "    act_structs = act_bin.loc[pmids, structures]\n",
    "    docs = dtm_words.copy()\n",
    "    docs[structures] = act_structs.copy()\n",
    "    \n",
    "    doc2dom = load_doc2dom(k, clf=clf)\n",
    "    dom2docs = load_dom2docs(k, domains, splits, clf=clf)\n",
    "    \n",
    "    \n",
    "    ids = []\n",
    "    for dom in domains:\n",
    "        ids += [pmid for pmid, sys in doc2dom.items() if sys == dom and pmid in split_pmids]\n",
    "    sorted_pmids[k][split] = ids\n",
    "\n",
    "    doc_dists[k][split] = pd.DataFrame(cdist(docs.loc[ids], docs.loc[ids], metric=\"dice\"),\n",
    "                                       index=ids, columns=ids)\n",
    "\n",
    "    dom_idx[k][split] = {}\n",
    "    for dom in domains:\n",
    "        dom_idx[k][split][dom] = {}\n",
    "        dom_pmids = dom2docs[dom][split]\n",
    "        if len(dom_pmids) > 0:\n",
    "            dom_idx[k][split][dom][\"min\"] = sorted_pmids[k][split].index(dom_pmids[0])\n",
    "            dom_idx[k][split][dom][\"max\"] = sorted_pmids[k][split].index(dom_pmids[-1]) + 1\n",
    "        else:\n",
    "            dom_idx[k][split][dom][\"min\"] = 0\n",
    "            dom_idx[k][split][dom][\"max\"] = 0"
   ]
  },
  {
   "cell_type": "markdown",
   "metadata": {},
   "source": [
    "# Index by PMID and sort by structure"
   ]
  },
  {
   "cell_type": "code",
   "execution_count": 10,
   "metadata": {},
   "outputs": [],
   "source": [
    "structures = sorted(list(set(act_bin.columns)))\n",
    "act_structs = act_bin.loc[pmids, structures]"
   ]
  },
  {
   "cell_type": "markdown",
   "metadata": {},
   "source": [
    "# Compute domain modularity\n",
    "\n",
    "## Observed values\n",
    "\n",
    "## Distances internal and external to articles in each domain"
   ]
  },
  {
   "cell_type": "code",
   "execution_count": 11,
   "metadata": {},
   "outputs": [],
   "source": [
    "dists_int, dists_ext = {}, {}\n",
    "\n",
    "for k in circuit_counts:\n",
    "    \n",
    "    lists, circuits = ontology.load_ontology(k, path=\"../ontology/\", suffix=suffix)\n",
    "    domains = list(OrderedDict.fromkeys(lists[\"DOMAIN\"]))\n",
    "    \n",
    "    dists_int[k], dists_ext[k] = {}, {}\n",
    "    dists_int[k][split], dists_ext[k][split] = {}, {}\n",
    "    for dom in domains:\n",
    "\n",
    "        dom_min, dom_max = dom_idx[k][split][dom][\"min\"], dom_idx[k][split][dom][\"max\"]\n",
    "        dom_dists = doc_dists[k][split].values[:,dom_min:dom_max][dom_min:dom_max,:]\n",
    "        dists_int[k][split][dom] = dom_dists\n",
    "\n",
    "        other_dists_lower = doc_dists[k][split].values[:,dom_min:dom_max][:dom_min,:]\n",
    "        other_dists_upper = doc_dists[k][split].values[:,dom_min:dom_max][dom_max:,:]\n",
    "        other_dists = np.concatenate((other_dists_lower, other_dists_upper))\n",
    "        dists_ext[k][split][dom] = other_dists"
   ]
  },
  {
   "cell_type": "markdown",
   "metadata": {},
   "source": [
    "### Domain-averaged ratio of external to internal distances"
   ]
  },
  {
   "cell_type": "code",
   "execution_count": 12,
   "metadata": {},
   "outputs": [
    {
     "name": "stdout",
     "output_type": "stream",
     "text": [
      "Processing k=02\n",
      "Processing k=03\n",
      "Processing k=04\n",
      "Processing k=05\n",
      "Processing k=06\n",
      "Processing k=07\n",
      "Processing k=08\n",
      "Processing k=09\n",
      "Processing k=10\n",
      "Processing k=11\n",
      "Processing k=12\n",
      "Processing k=13\n",
      "Processing k=14\n"
     ]
    },
    {
     "name": "stderr",
     "output_type": "stream",
     "text": [
      "/anaconda3/envs/ontol/lib/python3.6/site-packages/ipykernel_launcher.py:23: RuntimeWarning: divide by zero encountered in true_divide\n",
      "/anaconda3/envs/ontol/lib/python3.6/site-packages/ipykernel_launcher.py:41: RuntimeWarning: Mean of empty slice\n"
     ]
    },
    {
     "name": "stdout",
     "output_type": "stream",
     "text": [
      "Processing k=15\n",
      "Processing k=16\n",
      "Processing k=17\n",
      "Processing k=18\n",
      "Processing k=19\n",
      "Processing k=20\n",
      "Processing k=21\n",
      "Processing k=22\n",
      "Processing k=23\n",
      "Processing k=24\n",
      "Processing k=25\n",
      "Processing k=26\n",
      "Processing k=27\n",
      "Processing k=28\n",
      "Processing k=29\n",
      "Processing k=30\n",
      "Processing k=31\n",
      "Processing k=32\n",
      "Processing k=33\n",
      "Processing k=34\n",
      "Processing k=35\n",
      "Processing k=36\n",
      "Processing k=37\n",
      "Processing k=38\n",
      "Processing k=39\n",
      "Processing k=40\n",
      "Processing k=41\n",
      "Processing k=42\n",
      "Processing k=43\n",
      "Processing k=44\n",
      "Processing k=45\n",
      "Processing k=46\n",
      "Processing k=47\n",
      "Processing k=48\n",
      "Processing k=49\n",
      "Processing k=50\n"
     ]
    }
   ],
   "source": [
    "means = {}\n",
    "means[split] = np.empty((len(circuit_counts),))\n",
    "\n",
    "for k_i, k in enumerate(circuit_counts):\n",
    "    \n",
    "    file_obs = \"data/kvals/mod_obs_k{:02d}_{}.csv\".format(k, clf)\n",
    "    if not os.path.isfile(file_obs):\n",
    "        \n",
    "        print(\"Processing k={:02d}\".format(k))\n",
    "    \n",
    "        lists, circuits = ontology.load_ontology(k, path=\"../ontology/\", suffix=suffix)\n",
    "        domains = list(OrderedDict.fromkeys(lists[\"DOMAIN\"]))\n",
    "        dom2docs = load_dom2docs(k, domains, splits, clf=clf)\n",
    "                \n",
    "        pmid_list, split_list, dom_list, obs_list  = [], [], [], []\n",
    "        for dom in domains:\n",
    "            \n",
    "            n_dom_docs = dists_int[k][split][dom].shape[0]\n",
    "            if n_dom_docs > 0:\n",
    "\n",
    "                mean_dist_int = np.nanmean(dists_int[k][split][dom], axis=0)\n",
    "                mean_dist_ext = np.nanmean(dists_ext[k][split][dom], axis=0)\n",
    "                ratio = mean_dist_ext / mean_dist_int\n",
    "                ratio[ratio == np.inf] = np.nan \n",
    "            \n",
    "                pmid_list += dom2docs[dom][split]\n",
    "                dom_list += [dom] * len(ratio)\n",
    "                split_list += [split] * len(ratio)\n",
    "                obs_list += list(ratio)\n",
    "\n",
    "        df_obs = pd.DataFrame({\"PMID\": pmid_list, \"SPLIT\": split_list, \n",
    "                               \"DOMAIN\": dom_list, \"OBSERVED\": obs_list})\n",
    "        df_obs.to_csv(file_obs, index=None)  \n",
    "    \n",
    "    else:\n",
    "        df_obs = pd.read_csv(file_obs)\n",
    "    \n",
    "    dom_means = []\n",
    "    for dom in set(df_obs[\"DOMAIN\"]):\n",
    "        dom_vals = df_obs.loc[(df_obs[\"SPLIT\"] == split) & (df_obs[\"DOMAIN\"] == dom), \"OBSERVED\"]\n",
    "        dom_means.append(np.nanmean(dom_vals))\n",
    "    means[split][k_i] = np.nanmean(dom_means)"
   ]
  },
  {
   "cell_type": "markdown",
   "metadata": {},
   "source": [
    "## Null distributions"
   ]
  },
  {
   "cell_type": "code",
   "execution_count": 13,
   "metadata": {},
   "outputs": [
    {
     "name": "stdout",
     "output_type": "stream",
     "text": [
      "Processing k=02\n",
      "Processing k=03\n",
      "Processing k=04\n",
      "Processing k=05\n",
      "Processing k=06\n",
      "Processing k=07\n",
      "Processing k=08\n",
      "Processing k=09\n",
      "Processing k=10\n",
      "Processing k=11\n",
      "Processing k=12\n",
      "Processing k=13\n",
      "Processing k=14\n",
      "Processing k=15\n",
      "Processing k=16\n",
      "Processing k=17\n",
      "Processing k=18\n",
      "Processing k=19\n",
      "Processing k=20\n",
      "Processing k=21\n"
     ]
    },
    {
     "name": "stderr",
     "output_type": "stream",
     "text": [
      "/anaconda3/envs/ontol/lib/python3.6/site-packages/ipykernel_launcher.py:28: RuntimeWarning: divide by zero encountered in true_divide\n",
      "/anaconda3/envs/ontol/lib/python3.6/site-packages/ipykernel_launcher.py:31: RuntimeWarning: Mean of empty slice\n"
     ]
    },
    {
     "name": "stdout",
     "output_type": "stream",
     "text": [
      "Processing k=22\n",
      "Processing k=23\n",
      "Processing k=24\n",
      "Processing k=25\n",
      "Processing k=26\n",
      "Processing k=27\n",
      "Processing k=28\n",
      "Processing k=29\n",
      "Processing k=30\n",
      "Processing k=31\n",
      "Processing k=32\n",
      "Processing k=33\n",
      "Processing k=34\n",
      "Processing k=35\n",
      "Processing k=36\n",
      "Processing k=37\n",
      "Processing k=38\n",
      "Processing k=39\n",
      "Processing k=40\n",
      "Processing k=41\n",
      "Processing k=42\n",
      "Processing k=43\n",
      "Processing k=44\n",
      "Processing k=45\n",
      "Processing k=46\n",
      "Processing k=47\n",
      "Processing k=48\n",
      "Processing k=49\n",
      "Processing k=50\n"
     ]
    }
   ],
   "source": [
    "nulls = {}\n",
    "nulls[split] = np.empty((len(circuit_counts), n_iter))\n",
    "\n",
    "for k_i, k in enumerate(circuit_counts):\n",
    "    \n",
    "    file_null = \"data/kvals/mod_null_k{:02d}_{}_{}iter.csv\".format(k, split, n_iter)\n",
    "    if not os.path.isfile(file_null):\n",
    "        \n",
    "        print(\"Processing k={:02d}\".format(k))\n",
    "    \n",
    "        lists, circuits = ontology.load_ontology(k, path=\"../ontology/\", suffix=suffix)\n",
    "        domains = list(OrderedDict.fromkeys(lists[\"DOMAIN\"]))\n",
    "        \n",
    "        n_docs = len(split_pmids)\n",
    "        df_null = np.empty((len(domains), n_iter))\n",
    "        for i, dom in enumerate(domains):\n",
    "            \n",
    "            n_dom_docs = dists_int[k][split][dom].shape[0]\n",
    "            if n_dom_docs > 0:\n",
    "                dist_int_ext = np.concatenate((dists_int[k][split][dom], dists_ext[k][split][dom]))\n",
    "                for n in range(n_iter):\n",
    "\n",
    "                    null = np.random.choice(range(n_docs), size=n_docs, replace=False)\n",
    "                    dist_int_ext_null = dist_int_ext[null,:]\n",
    "\n",
    "                    mean_dist_int = np.nanmean(dist_int_ext_null[:n_dom_docs,:], axis=0)\n",
    "                    mean_dist_ext = np.nanmean(dist_int_ext_null[n_dom_docs:,:], axis=0)\n",
    "                    ratio = mean_dist_ext / mean_dist_int\n",
    "                    ratio[ratio == np.inf] = np.nan \n",
    "\n",
    "                    df_null[i,n] = np.nanmean(ratio)\n",
    "            else:\n",
    "                df_null[i,:] = np.nan\n",
    "\n",
    "        df_null = pd.DataFrame(df_null, index=domains, columns=range(n_iter))\n",
    "        df_null.to_csv(file_null)\n",
    "    \n",
    "    else:\n",
    "        df_null = pd.read_csv(file_null, index_col=0, header=0)\n",
    "    \n",
    "    nulls[split][k_i,:] = np.nanmean(df_null, axis=0)"
   ]
  },
  {
   "cell_type": "markdown",
   "metadata": {},
   "source": [
    "## Bootstrap distributions"
   ]
  },
  {
   "cell_type": "code",
   "execution_count": 14,
   "metadata": {},
   "outputs": [
    {
     "name": "stdout",
     "output_type": "stream",
     "text": [
      "Processing k=02\n",
      "Processing k=03\n",
      "Processing k=04\n",
      "Processing k=05\n",
      "Processing k=06\n",
      "Processing k=07\n",
      "Processing k=08\n",
      "Processing k=09\n",
      "Processing k=10\n",
      "Processing k=11\n",
      "Processing k=12\n",
      "Processing k=13\n",
      "Processing k=14\n"
     ]
    },
    {
     "name": "stderr",
     "output_type": "stream",
     "text": [
      "/anaconda3/envs/ontol/lib/python3.6/site-packages/ipykernel_launcher.py:25: RuntimeWarning: divide by zero encountered in true_divide\n",
      "/anaconda3/envs/ontol/lib/python3.6/site-packages/ipykernel_launcher.py:28: RuntimeWarning: Mean of empty slice\n"
     ]
    },
    {
     "name": "stdout",
     "output_type": "stream",
     "text": [
      "Processing k=15\n",
      "Processing k=16\n",
      "Processing k=17\n",
      "Processing k=18\n",
      "Processing k=19\n",
      "Processing k=20\n",
      "Processing k=21\n",
      "Processing k=22\n",
      "Processing k=23\n",
      "Processing k=24\n",
      "Processing k=25\n",
      "Processing k=26\n",
      "Processing k=27\n",
      "Processing k=28\n",
      "Processing k=29\n",
      "Processing k=30\n",
      "Processing k=31\n",
      "Processing k=32\n",
      "Processing k=33\n",
      "Processing k=34\n",
      "Processing k=35\n",
      "Processing k=36\n",
      "Processing k=37\n",
      "Processing k=38\n",
      "Processing k=39\n",
      "Processing k=40\n",
      "Processing k=41\n",
      "Processing k=42\n",
      "Processing k=43\n",
      "Processing k=44\n",
      "Processing k=45\n",
      "Processing k=46\n",
      "Processing k=47\n",
      "Processing k=48\n",
      "Processing k=49\n",
      "Processing k=50\n"
     ]
    }
   ],
   "source": [
    "boots = {}\n",
    "boots[split] = np.empty((len(circuit_counts), n_iter))\n",
    "\n",
    "for k_i, k in enumerate(circuit_counts):\n",
    "    \n",
    "    file_boot = \"data/kvals/mod_boot_k{:02d}_{}_{}iter.csv\".format(k, split, n_iter)\n",
    "    if not os.path.isfile(file_boot):\n",
    "        \n",
    "        print(\"Processing k={:02d}\".format(k))\n",
    "        \n",
    "        lists, circuits = ontology.load_ontology(k, path=\"../ontology/\", suffix=suffix)\n",
    "        domains = list(OrderedDict.fromkeys(lists[\"DOMAIN\"]))\n",
    "        \n",
    "        df_boot = np.empty((len(domains), n_iter))\n",
    "        for i, dom in enumerate(domains):\n",
    "            \n",
    "            n_dom_docs = dists_int[k][split][dom].shape[0]\n",
    "            if n_dom_docs > 0:\n",
    "                for n in range(n_iter):\n",
    "\n",
    "                    boot = np.random.choice(range(n_dom_docs), size=n_dom_docs, replace=True)\n",
    "\n",
    "                    mean_dist_int = np.nanmean(dists_int[k][split][dom][:,boot], axis=0)\n",
    "                    mean_dist_ext = np.nanmean(dists_ext[k][split][dom][:,boot], axis=0)\n",
    "                    ratio = mean_dist_ext / mean_dist_int\n",
    "                    ratio[ratio == np.inf] = np.nan \n",
    "                    \n",
    "                    df_boot[i,n] = np.nanmean(ratio)\n",
    "            else:\n",
    "                df_boot[i,:] = np.nan\n",
    "\n",
    "        df_boot = pd.DataFrame(df_boot, index=domains, columns=range(n_iter))\n",
    "        df_boot.to_csv(file_boot)\n",
    "    \n",
    "    else:\n",
    "        df_boot = pd.read_csv(file_boot, index_col=0, header=0)\n",
    "    \n",
    "    boots[split][k_i,:] = np.nanmean(df_boot, axis=0)"
   ]
  },
  {
   "cell_type": "markdown",
   "metadata": {},
   "source": [
    "# Plot results over k"
   ]
  },
  {
   "cell_type": "code",
   "execution_count": 15,
   "metadata": {},
   "outputs": [],
   "source": [
    "from matplotlib import rcParams\n",
    "%matplotlib inline"
   ]
  },
  {
   "cell_type": "code",
   "execution_count": 16,
   "metadata": {},
   "outputs": [],
   "source": [
    "rcParams[\"axes.linewidth\"] = 1.5"
   ]
  },
  {
   "cell_type": "code",
   "execution_count": 17,
   "metadata": {},
   "outputs": [
    {
     "data": {
      "image/png": "[encoded data removed]",
      "text/plain": [
       "<Figure size 288x216 with 1 Axes>"
      ]
     },
     "metadata": {
      "needs_background": "light"
     },
     "output_type": "display_data"
    }
   ],
   "source": [
    "utilities.plot_stats_by_k(means, nulls, boots, circuit_counts, metric=\"mod\",\n",
    "                          split=\"test\", op_k=6, clf=clf, interval=0.999, \n",
    "                          ylim=[0.8,1.4], yticks=[0.8, 0.9,1,1.1,1.2,1.3,1.4])"
   ]
  },
  {
   "cell_type": "code",
   "execution_count": null,
   "metadata": {},
   "outputs": [],
   "source": []
  }
 ],
 "metadata": {
  "kernelspec": {
   "display_name": "Python [conda env:ontol] *",
   "language": "python",
   "name": "conda-env-ontol-py"
  },
  "language_info": {
   "codemirror_mode": {
    "name": "ipython",
    "version": 3
   },
   "file_extension": ".py",
   "mimetype": "text/x-python",
   "name": "python",
   "nbconvert_exporter": "python",
   "pygments_lexer": "ipython3",
   "version": "3.6.8"
  }
 },
 "nbformat": 4,
 "nbformat_minor": 2
}
