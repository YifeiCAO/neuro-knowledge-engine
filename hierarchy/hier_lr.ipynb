{
 "cells": [
  {
   "cell_type": "code",
   "execution_count": 1,
   "metadata": {},
   "outputs": [],
   "source": [
    "import sys\n",
    "sys.path.append(\"..\")\n",
    "import style, utilities\n",
    "from ontology import ontology"
   ]
  },
  {
   "cell_type": "markdown",
   "metadata": {},
   "source": [
    "# Load the data\n",
    "\n",
    "## Document-term matrix"
   ]
  },
  {
   "cell_type": "code",
   "execution_count": 2,
   "metadata": {},
   "outputs": [
    {
     "data": {
      "text/plain": [
       "2208"
      ]
     },
     "execution_count": 2,
     "metadata": {},
     "output_type": "execute_result"
    }
   ],
   "source": [
    "lexicon = utilities.load_lexicon([\"cogneuro\"])\n",
    "len(lexicon)"
   ]
  },
  {
   "cell_type": "code",
   "execution_count": 3,
   "metadata": {},
   "outputs": [
    {
     "data": {
      "text/plain": [
       "1683"
      ]
     },
     "execution_count": 3,
     "metadata": {},
     "output_type": "execute_result"
    }
   ],
   "source": [
    "version = 190325\n",
    "dtm_bin = utilities.load_doc_term_matrix(version=version, binarize=True)\n",
    "lexicon = sorted(list(set(lexicon).intersection(dtm_bin.columns)))\n",
    "len(lexicon)"
   ]
  },
  {
   "cell_type": "code",
   "execution_count": 4,
   "metadata": {},
   "outputs": [
    {
     "name": "stdout",
     "output_type": "stream",
     "text": [
      "Document N=18155, Term N=1683\n"
     ]
    }
   ],
   "source": [
    "dtm_bin = dtm_bin[lexicon]\n",
    "print(\"Document N={}, Term N={}\".format(\n",
    "      dtm_bin.shape[0], dtm_bin.shape[1]))"
   ]
  },
  {
   "cell_type": "markdown",
   "metadata": {},
   "source": [
    "## Brain activation coordinates"
   ]
  },
  {
   "cell_type": "code",
   "execution_count": 5,
   "metadata": {},
   "outputs": [
    {
     "name": "stdout",
     "output_type": "stream",
     "text": [
      "Document N=18155, Structure N=118\n"
     ]
    }
   ],
   "source": [
    "act_bin = utilities.load_coordinates()\n",
    "print(\"Document N={}, Structure N={}\".format(\n",
    "      act_bin.shape[0], act_bin.shape[1]))"
   ]
  },
  {
   "cell_type": "code",
   "execution_count": 6,
   "metadata": {},
   "outputs": [],
   "source": [
    "structures = list(act_bin.columns)"
   ]
  },
  {
   "cell_type": "markdown",
   "metadata": {},
   "source": [
    "## Data-driven domains"
   ]
  },
  {
   "cell_type": "code",
   "execution_count": 7,
   "metadata": {},
   "outputs": [],
   "source": [
    "from collections import OrderedDict\n",
    "import pandas as pd"
   ]
  },
  {
   "cell_type": "code",
   "execution_count": 8,
   "metadata": {},
   "outputs": [
    {
     "data": {
      "text/plain": [
       "[6, 12]"
      ]
     },
     "execution_count": 8,
     "metadata": {},
     "output_type": "execute_result"
    }
   ],
   "source": [
    "domain_range = [6, 12, 24]\n",
    "domain_difs = [domain_range[i] - domain_range[i-1] for i in range(1, len(domain_range))]\n",
    "domain_difs"
   ]
  },
  {
   "cell_type": "code",
   "execution_count": 9,
   "metadata": {},
   "outputs": [],
   "source": [
    "path = \"../ontology/\"\n",
    "suffix = \"_logreg\"\n",
    "domains = {}\n",
    "\n",
    "for k in domain_range:\n",
    "    lists, circuit = ontology.load_ontology(k, path=path, suffix=suffix)\n",
    "    domains[k] = {\"lists\": lists, \"circuit\": circuit}"
   ]
  },
  {
   "cell_type": "markdown",
   "metadata": {},
   "source": [
    "# Re-index k=6 domains"
   ]
  },
  {
   "cell_type": "code",
   "execution_count": 10,
   "metadata": {},
   "outputs": [
    {
     "data": {
      "text/plain": [
       "['VISION', 'LANGUAGE', 'MANIPULATION', 'REWARD', 'COGNITION', 'MEMORY']"
      ]
     },
     "execution_count": 10,
     "metadata": {},
     "output_type": "execute_result"
    }
   ],
   "source": [
    "list(OrderedDict.fromkeys(domains[6][\"lists\"][\"DOMAIN\"]))"
   ]
  },
  {
   "cell_type": "code",
   "execution_count": 11,
   "metadata": {},
   "outputs": [],
   "source": [
    "old2new = {1:4, 2:6, 3:5, 4:2, 5:3, 6:1}"
   ]
  },
  {
   "cell_type": "code",
   "execution_count": 12,
   "metadata": {},
   "outputs": [
    {
     "data": {
      "text/plain": [
       "['MEMORY', 'REWARD', 'COGNITION', 'VISION', 'MANIPULATION', 'LANGUAGE']"
      ]
     },
     "execution_count": 12,
     "metadata": {},
     "output_type": "execute_result"
    }
   ],
   "source": [
    "domains[6][\"lists\"][\"CLUSTER\"] = [old2new[old] for old in domains[6][\"lists\"][\"CLUSTER\"]]\n",
    "domains[6][\"lists\"] = domains[6][\"lists\"].sort_values(\"CLUSTER\")\n",
    "list(OrderedDict.fromkeys(domains[6][\"lists\"][\"DOMAIN\"]))"
   ]
  },
  {
   "cell_type": "code",
   "execution_count": 13,
   "metadata": {},
   "outputs": [
    {
     "data": {
      "text/plain": [
       "['MEMORY', 'REWARD', 'COGNITION', 'VISION', 'MANIPULATION', 'LANGUAGE']"
      ]
     },
     "execution_count": 13,
     "metadata": {},
     "output_type": "execute_result"
    }
   ],
   "source": [
    "domains[6][\"circuit\"][\"CLUSTER\"] = [old2new[old] for old in domains[6][\"circuit\"][\"CLUSTER\"]]\n",
    "domains[6][\"circuit\"] = domains[6][\"circuit\"].sort_values(\"CLUSTER\")\n",
    "list(OrderedDict.fromkeys(domains[6][\"circuit\"][\"DOMAIN\"]))"
   ]
  },
  {
   "cell_type": "markdown",
   "metadata": {},
   "source": [
    "# Compute domain similarity\n",
    "\n",
    "## Observed values\n",
    "\n",
    "Similarity between pairs <i>k</i> = 2 and 3, 3 and 4, etc."
   ]
  },
  {
   "cell_type": "code",
   "execution_count": 14,
   "metadata": {},
   "outputs": [],
   "source": [
    "import numpy as np\n",
    "np.random.seed(42)\n",
    "from scipy.spatial.distance import dice, cdist"
   ]
  },
  {
   "cell_type": "code",
   "execution_count": 15,
   "metadata": {},
   "outputs": [],
   "source": [
    "def load_system(k, domain, terms, structures):\n",
    "    \n",
    "    lists = domains[k][\"lists\"]\n",
    "    circuit = domains[k][\"circuit\"]\n",
    "    \n",
    "    systems = pd.Series(0, index=terms+structures)\n",
    "    systems.loc[list(lists.loc[lists[\"DOMAIN\"] == domain, \"TOKEN\"])] = 1\n",
    "    systems.loc[list(circuit.loc[circuit[\"DOMAIN\"] == domain, \"STRUCTURE\"])] = 1\n",
    "    \n",
    "    return systems"
   ]
  },
  {
   "cell_type": "code",
   "execution_count": 16,
   "metadata": {
    "scrolled": false
   },
   "outputs": [],
   "source": [
    "def compute_sim_obs(k, dw):\n",
    "    \n",
    "    domains_ki = list(OrderedDict.fromkeys(domains[k][\"lists\"][\"DOMAIN\"]))\n",
    "    domains_kj = list(OrderedDict.fromkeys(domains[k+dw][\"lists\"][\"DOMAIN\"]))\n",
    "    \n",
    "    terms = sorted(list(set(domains[k][\"lists\"][\"TOKEN\"]).union(domains[k+dw][\"lists\"][\"TOKEN\"])))\n",
    "    systems_ki = {domain: load_system(k, domain, terms, structures) for domain in domains_ki}\n",
    "    systems_kj = {domain: load_system(k+dw, domain, terms, structures) for domain in domains_kj}\n",
    "    \n",
    "    sims = pd.DataFrame(index=domains_ki, columns=domains_kj)\n",
    "    for di in domains_ki:\n",
    "        for dj in domains_kj:\n",
    "            sims.loc[di, dj] = 1.0 - dice(systems_ki[di], systems_kj[dj])\n",
    "            \n",
    "    return sims"
   ]
  },
  {
   "cell_type": "code",
   "execution_count": 17,
   "metadata": {},
   "outputs": [
    {
     "data": {
      "text/html": [
       "<div>\n",
       "<style scoped>\n",
       "    .dataframe tbody tr th:only-of-type {\n",
       "        vertical-align: middle;\n",
       "    }\n",
       "\n",
       "    .dataframe tbody tr th {\n",
       "        vertical-align: top;\n",
       "    }\n",
       "\n",
       "    .dataframe thead th {\n",
       "        text-align: right;\n",
       "    }\n",
       "</style>\n",
       "<table border=\"1\" class=\"dataframe\">\n",
       "  <thead>\n",
       "    <tr style=\"text-align: right;\">\n",
       "      <th></th>\n",
       "      <th>HEARING</th>\n",
       "      <th>REACTION_TIME</th>\n",
       "      <th>MEMORY</th>\n",
       "      <th>EPISODIC_MEMORY</th>\n",
       "      <th>LANGUAGE</th>\n",
       "      <th>VISION</th>\n",
       "      <th>EXECUTION</th>\n",
       "      <th>MANIPULATION</th>\n",
       "      <th>REWARD</th>\n",
       "      <th>ANTICIPATION</th>\n",
       "      <th>REPRESENTATION</th>\n",
       "      <th>EMOTION</th>\n",
       "    </tr>\n",
       "  </thead>\n",
       "  <tbody>\n",
       "    <tr>\n",
       "      <th>MEMORY</th>\n",
       "      <td>0</td>\n",
       "      <td>0.109589</td>\n",
       "      <td>0.666667</td>\n",
       "      <td>0.285714</td>\n",
       "      <td>0</td>\n",
       "      <td>0.0983607</td>\n",
       "      <td>0</td>\n",
       "      <td>0.030303</td>\n",
       "      <td>0.0344828</td>\n",
       "      <td>0</td>\n",
       "      <td>0</td>\n",
       "      <td>0.588235</td>\n",
       "    </tr>\n",
       "    <tr>\n",
       "      <th>REWARD</th>\n",
       "      <td>0</td>\n",
       "      <td>0.271186</td>\n",
       "      <td>0</td>\n",
       "      <td>0</td>\n",
       "      <td>0</td>\n",
       "      <td>0</td>\n",
       "      <td>0</td>\n",
       "      <td>0</td>\n",
       "      <td>0.409091</td>\n",
       "      <td>0.722222</td>\n",
       "      <td>0</td>\n",
       "      <td>0</td>\n",
       "    </tr>\n",
       "    <tr>\n",
       "      <th>COGNITION</th>\n",
       "      <td>0</td>\n",
       "      <td>0.592593</td>\n",
       "      <td>0.103896</td>\n",
       "      <td>0.128205</td>\n",
       "      <td>0.03125</td>\n",
       "      <td>0</td>\n",
       "      <td>0</td>\n",
       "      <td>0.378378</td>\n",
       "      <td>0.0909091</td>\n",
       "      <td>0.0344828</td>\n",
       "      <td>0.0555556</td>\n",
       "      <td>0.135593</td>\n",
       "    </tr>\n",
       "    <tr>\n",
       "      <th>VISION</th>\n",
       "      <td>0</td>\n",
       "      <td>0</td>\n",
       "      <td>0.24</td>\n",
       "      <td>0.421053</td>\n",
       "      <td>0.0322581</td>\n",
       "      <td>0.686567</td>\n",
       "      <td>0</td>\n",
       "      <td>0.0833333</td>\n",
       "      <td>0</td>\n",
       "      <td>0</td>\n",
       "      <td>0</td>\n",
       "      <td>0.0350877</td>\n",
       "    </tr>\n",
       "    <tr>\n",
       "      <th>MANIPULATION</th>\n",
       "      <td>0</td>\n",
       "      <td>0.075</td>\n",
       "      <td>0</td>\n",
       "      <td>0.0779221</td>\n",
       "      <td>0</td>\n",
       "      <td>0</td>\n",
       "      <td>0.327273</td>\n",
       "      <td>0.219178</td>\n",
       "      <td>0</td>\n",
       "      <td>0</td>\n",
       "      <td>0.732394</td>\n",
       "      <td>0</td>\n",
       "    </tr>\n",
       "    <tr>\n",
       "      <th>LANGUAGE</th>\n",
       "      <td>0.636364</td>\n",
       "      <td>0</td>\n",
       "      <td>0</td>\n",
       "      <td>0</td>\n",
       "      <td>0.603175</td>\n",
       "      <td>0</td>\n",
       "      <td>0</td>\n",
       "      <td>0.164384</td>\n",
       "      <td>0</td>\n",
       "      <td>0</td>\n",
       "      <td>0</td>\n",
       "      <td>0</td>\n",
       "    </tr>\n",
       "  </tbody>\n",
       "</table>\n",
       "</div>"
      ],
      "text/plain": [
       "               HEARING REACTION_TIME    MEMORY EPISODIC_MEMORY   LANGUAGE  \\\n",
       "MEMORY               0      0.109589  0.666667        0.285714          0   \n",
       "REWARD               0      0.271186         0               0          0   \n",
       "COGNITION            0      0.592593  0.103896        0.128205    0.03125   \n",
       "VISION               0             0      0.24        0.421053  0.0322581   \n",
       "MANIPULATION         0         0.075         0       0.0779221          0   \n",
       "LANGUAGE      0.636364             0         0               0   0.603175   \n",
       "\n",
       "                 VISION EXECUTION MANIPULATION     REWARD ANTICIPATION  \\\n",
       "MEMORY        0.0983607         0     0.030303  0.0344828            0   \n",
       "REWARD                0         0            0   0.409091     0.722222   \n",
       "COGNITION             0         0     0.378378  0.0909091    0.0344828   \n",
       "VISION         0.686567         0    0.0833333          0            0   \n",
       "MANIPULATION          0  0.327273     0.219178          0            0   \n",
       "LANGUAGE              0         0     0.164384          0            0   \n",
       "\n",
       "             REPRESENTATION    EMOTION  \n",
       "MEMORY                    0   0.588235  \n",
       "REWARD                    0          0  \n",
       "COGNITION         0.0555556   0.135593  \n",
       "VISION                    0  0.0350877  \n",
       "MANIPULATION       0.732394          0  \n",
       "LANGUAGE                  0          0  "
      ]
     },
     "execution_count": 17,
     "metadata": {},
     "output_type": "execute_result"
    }
   ],
   "source": [
    "sims = {k: compute_sim_obs(k, dw) for k, dw in zip(domain_range[:-1], domain_difs)}\n",
    "sims[6]"
   ]
  },
  {
   "cell_type": "markdown",
   "metadata": {},
   "source": [
    "## Null distributions"
   ]
  },
  {
   "cell_type": "code",
   "execution_count": 18,
   "metadata": {},
   "outputs": [],
   "source": [
    "def compute_sim_null(k, dw, n_iter=1000):\n",
    "    \n",
    "    print(\"Processing k={}\".format(k))\n",
    "    \n",
    "    domains_ki = list(OrderedDict.fromkeys(domains[k][\"lists\"][\"DOMAIN\"]))\n",
    "    domains_kj = list(OrderedDict.fromkeys(domains[k+dw][\"lists\"][\"DOMAIN\"]))\n",
    "    \n",
    "    terms = sorted(list(set(domains[k][\"lists\"][\"TOKEN\"]).union(domains[k+dw][\"lists\"][\"TOKEN\"])))\n",
    "    systems_ki = {domain: load_system(k, domain, terms, structures) for domain in domains_ki}\n",
    "    systems_kj = {domain: load_system(k+dw, domain, terms, structures) for domain in domains_kj}\n",
    "    \n",
    "    sims_null_k = np.empty((k, k+dw, n_iter))\n",
    "    for n in range(n_iter):\n",
    "        null = np.random.choice(terms+structures, size=len(terms+structures), replace=False)\n",
    "        for i, di in enumerate(domains_ki):\n",
    "            for j, dj in enumerate(domains_kj):\n",
    "                sims_null_k[i, j, n] = 1.0 - dice(systems_ki[di], systems_kj[dj].loc[null])\n",
    "    \n",
    "    return sims_null_k"
   ]
  },
  {
   "cell_type": "code",
   "execution_count": 19,
   "metadata": {},
   "outputs": [
    {
     "name": "stdout",
     "output_type": "stream",
     "text": [
      "Processing k=6\n",
      "Processing k=12\n"
     ]
    }
   ],
   "source": [
    "sims_null = {k: compute_sim_null(k, dw) for k, dw in zip(domain_range[:-1], domain_difs)}"
   ]
  },
  {
   "cell_type": "markdown",
   "metadata": {},
   "source": [
    "## False discovery rates"
   ]
  },
  {
   "cell_type": "code",
   "execution_count": 20,
   "metadata": {},
   "outputs": [],
   "source": [
    "from statsmodels.stats.multitest import multipletests"
   ]
  },
  {
   "cell_type": "code",
   "execution_count": 21,
   "metadata": {},
   "outputs": [],
   "source": [
    "def compute_sim_fdr(sims, sims_null):\n",
    "    \n",
    "    n_iter = sims_null.shape[2]\n",
    "    \n",
    "    domains_ki = sims.index\n",
    "    domains_kj = sims.columns\n",
    "    \n",
    "    pvals = pd.DataFrame(index=domains_ki, columns=domains_kj)\n",
    "    for i, di in enumerate(domains_ki):\n",
    "        for j, dj in enumerate(domains_kj):\n",
    "            sims_null[i,j,:]\n",
    "            pvals.loc[di,dj] = np.sum(sims_null[i,j,:] > sims.loc[di,dj]) / float(n_iter)\n",
    "    \n",
    "    fdrs = multipletests(pvals.values.ravel(), method=\"fdr_bh\")[1]\n",
    "    fdrs = np.reshape(fdrs, pvals.shape)\n",
    "    fdrs = pd.DataFrame(fdrs, index=domains_ki, columns=domains_kj)\n",
    "    \n",
    "    return fdrs"
   ]
  },
  {
   "cell_type": "code",
   "execution_count": 22,
   "metadata": {},
   "outputs": [
    {
     "data": {
      "text/html": [
       "<div>\n",
       "<style scoped>\n",
       "    .dataframe tbody tr th:only-of-type {\n",
       "        vertical-align: middle;\n",
       "    }\n",
       "\n",
       "    .dataframe tbody tr th {\n",
       "        vertical-align: top;\n",
       "    }\n",
       "\n",
       "    .dataframe thead th {\n",
       "        text-align: right;\n",
       "    }\n",
       "</style>\n",
       "<table border=\"1\" class=\"dataframe\">\n",
       "  <thead>\n",
       "    <tr style=\"text-align: right;\">\n",
       "      <th></th>\n",
       "      <th>HEARING</th>\n",
       "      <th>REACTION_TIME</th>\n",
       "      <th>MEMORY</th>\n",
       "      <th>EPISODIC_MEMORY</th>\n",
       "      <th>LANGUAGE</th>\n",
       "      <th>VISION</th>\n",
       "      <th>EXECUTION</th>\n",
       "      <th>MANIPULATION</th>\n",
       "      <th>REWARD</th>\n",
       "      <th>ANTICIPATION</th>\n",
       "      <th>REPRESENTATION</th>\n",
       "      <th>EMOTION</th>\n",
       "    </tr>\n",
       "  </thead>\n",
       "  <tbody>\n",
       "    <tr>\n",
       "      <th>MEMORY</th>\n",
       "      <td>1</td>\n",
       "      <td>1</td>\n",
       "      <td>0</td>\n",
       "      <td>0.0154286</td>\n",
       "      <td>1</td>\n",
       "      <td>1</td>\n",
       "      <td>1</td>\n",
       "      <td>1</td>\n",
       "      <td>1</td>\n",
       "      <td>1</td>\n",
       "      <td>1</td>\n",
       "      <td>0</td>\n",
       "    </tr>\n",
       "    <tr>\n",
       "      <th>REWARD</th>\n",
       "      <td>1</td>\n",
       "      <td>0.00553846</td>\n",
       "      <td>1</td>\n",
       "      <td>1</td>\n",
       "      <td>1</td>\n",
       "      <td>1</td>\n",
       "      <td>1</td>\n",
       "      <td>1</td>\n",
       "      <td>0</td>\n",
       "      <td>0</td>\n",
       "      <td>1</td>\n",
       "      <td>1</td>\n",
       "    </tr>\n",
       "    <tr>\n",
       "      <th>COGNITION</th>\n",
       "      <td>1</td>\n",
       "      <td>0</td>\n",
       "      <td>1</td>\n",
       "      <td>1</td>\n",
       "      <td>1</td>\n",
       "      <td>1</td>\n",
       "      <td>1</td>\n",
       "      <td>0</td>\n",
       "      <td>1</td>\n",
       "      <td>1</td>\n",
       "      <td>1</td>\n",
       "      <td>0.436235</td>\n",
       "    </tr>\n",
       "    <tr>\n",
       "      <th>VISION</th>\n",
       "      <td>1</td>\n",
       "      <td>1</td>\n",
       "      <td>0.168</td>\n",
       "      <td>0</td>\n",
       "      <td>1</td>\n",
       "      <td>0</td>\n",
       "      <td>1</td>\n",
       "      <td>1</td>\n",
       "      <td>1</td>\n",
       "      <td>1</td>\n",
       "      <td>1</td>\n",
       "      <td>1</td>\n",
       "    </tr>\n",
       "    <tr>\n",
       "      <th>MANIPULATION</th>\n",
       "      <td>1</td>\n",
       "      <td>1</td>\n",
       "      <td>1</td>\n",
       "      <td>1</td>\n",
       "      <td>1</td>\n",
       "      <td>1</td>\n",
       "      <td>0</td>\n",
       "      <td>0.1845</td>\n",
       "      <td>1</td>\n",
       "      <td>1</td>\n",
       "      <td>0</td>\n",
       "      <td>1</td>\n",
       "    </tr>\n",
       "    <tr>\n",
       "      <th>LANGUAGE</th>\n",
       "      <td>0</td>\n",
       "      <td>1</td>\n",
       "      <td>1</td>\n",
       "      <td>1</td>\n",
       "      <td>0</td>\n",
       "      <td>1</td>\n",
       "      <td>1</td>\n",
       "      <td>0.936</td>\n",
       "      <td>1</td>\n",
       "      <td>1</td>\n",
       "      <td>1</td>\n",
       "      <td>1</td>\n",
       "    </tr>\n",
       "  </tbody>\n",
       "</table>\n",
       "</div>"
      ],
      "text/plain": [
       "             HEARING REACTION_TIME MEMORY EPISODIC_MEMORY LANGUAGE VISION  \\\n",
       "MEMORY             1             1      0       0.0154286        1      1   \n",
       "REWARD             1    0.00553846      1               1        1      1   \n",
       "COGNITION          1             0      1               1        1      1   \n",
       "VISION             1             1  0.168               0        1      0   \n",
       "MANIPULATION       1             1      1               1        1      1   \n",
       "LANGUAGE           0             1      1               1        0      1   \n",
       "\n",
       "             EXECUTION MANIPULATION REWARD ANTICIPATION REPRESENTATION  \\\n",
       "MEMORY               1            1      1            1              1   \n",
       "REWARD               1            1      0            0              1   \n",
       "COGNITION            1            0      1            1              1   \n",
       "VISION               1            1      1            1              1   \n",
       "MANIPULATION         0       0.1845      1            1              0   \n",
       "LANGUAGE             1        0.936      1            1              1   \n",
       "\n",
       "               EMOTION  \n",
       "MEMORY               0  \n",
       "REWARD               1  \n",
       "COGNITION     0.436235  \n",
       "VISION               1  \n",
       "MANIPULATION         1  \n",
       "LANGUAGE             1  "
      ]
     },
     "execution_count": 22,
     "metadata": {},
     "output_type": "execute_result"
    }
   ],
   "source": [
    "fdrs = {k: compute_sim_fdr(sims[k], sims_null[k]) for k in domain_range[:-1]}\n",
    "fdrs[6]"
   ]
  },
  {
   "cell_type": "markdown",
   "metadata": {},
   "source": [
    "# Build the hierarchy"
   ]
  },
  {
   "cell_type": "code",
   "execution_count": 23,
   "metadata": {},
   "outputs": [],
   "source": [
    "import networkx as nx\n",
    "from style import style"
   ]
  },
  {
   "cell_type": "code",
   "execution_count": 24,
   "metadata": {},
   "outputs": [
    {
     "data": {
      "text/html": [
       "<div>\n",
       "<style scoped>\n",
       "    .dataframe tbody tr th:only-of-type {\n",
       "        vertical-align: middle;\n",
       "    }\n",
       "\n",
       "    .dataframe tbody tr th {\n",
       "        vertical-align: top;\n",
       "    }\n",
       "\n",
       "    .dataframe thead th {\n",
       "        text-align: right;\n",
       "    }\n",
       "</style>\n",
       "<table border=\"1\" class=\"dataframe\">\n",
       "  <thead>\n",
       "    <tr style=\"text-align: right;\">\n",
       "      <th></th>\n",
       "      <th>node</th>\n",
       "      <th>name</th>\n",
       "      <th>image</th>\n",
       "    </tr>\n",
       "  </thead>\n",
       "  <tbody>\n",
       "    <tr>\n",
       "      <th>0</th>\n",
       "      <td>1</td>\n",
       "      <td>MEMORY</td>\n",
       "      <td>figures/k06/MEMORY</td>\n",
       "    </tr>\n",
       "    <tr>\n",
       "      <th>1</th>\n",
       "      <td>2</td>\n",
       "      <td>REWARD</td>\n",
       "      <td>figures/k06/REWARD</td>\n",
       "    </tr>\n",
       "    <tr>\n",
       "      <th>2</th>\n",
       "      <td>3</td>\n",
       "      <td>COGNITION</td>\n",
       "      <td>figures/k06/COGNITION</td>\n",
       "    </tr>\n",
       "    <tr>\n",
       "      <th>3</th>\n",
       "      <td>4</td>\n",
       "      <td>VISION</td>\n",
       "      <td>figures/k06/VISION</td>\n",
       "    </tr>\n",
       "    <tr>\n",
       "      <th>4</th>\n",
       "      <td>5</td>\n",
       "      <td>MANIPULATION</td>\n",
       "      <td>figures/k06/MANIPULATION</td>\n",
       "    </tr>\n",
       "    <tr>\n",
       "      <th>5</th>\n",
       "      <td>6</td>\n",
       "      <td>LANGUAGE</td>\n",
       "      <td>figures/k06/LANGUAGE</td>\n",
       "    </tr>\n",
       "    <tr>\n",
       "      <th>6</th>\n",
       "      <td>7</td>\n",
       "      <td>HEARING</td>\n",
       "      <td>figures/k12/HEARING</td>\n",
       "    </tr>\n",
       "    <tr>\n",
       "      <th>7</th>\n",
       "      <td>8</td>\n",
       "      <td>REACTION_TIME</td>\n",
       "      <td>figures/k12/REACTION_TIME</td>\n",
       "    </tr>\n",
       "    <tr>\n",
       "      <th>8</th>\n",
       "      <td>9</td>\n",
       "      <td>MEMORY</td>\n",
       "      <td>figures/k12/MEMORY</td>\n",
       "    </tr>\n",
       "    <tr>\n",
       "      <th>9</th>\n",
       "      <td>10</td>\n",
       "      <td>EPISODIC_MEMORY</td>\n",
       "      <td>figures/k12/EPISODIC_MEMORY</td>\n",
       "    </tr>\n",
       "  </tbody>\n",
       "</table>\n",
       "</div>"
      ],
      "text/plain": [
       "  node             name                        image\n",
       "0    1           MEMORY           figures/k06/MEMORY\n",
       "1    2           REWARD           figures/k06/REWARD\n",
       "2    3        COGNITION        figures/k06/COGNITION\n",
       "3    4           VISION           figures/k06/VISION\n",
       "4    5     MANIPULATION     figures/k06/MANIPULATION\n",
       "5    6         LANGUAGE         figures/k06/LANGUAGE\n",
       "6    7          HEARING          figures/k12/HEARING\n",
       "7    8    REACTION_TIME    figures/k12/REACTION_TIME\n",
       "8    9           MEMORY           figures/k12/MEMORY\n",
       "9   10  EPISODIC_MEMORY  figures/k12/EPISODIC_MEMORY"
      ]
     },
     "execution_count": 24,
     "metadata": {},
     "output_type": "execute_result"
    }
   ],
   "source": [
    "id = 1\n",
    "id2node, id2k, id2image = {}, {}, {}\n",
    "node2id = {k: {} for k in domain_range}\n",
    "nodes = pd.DataFrame(columns=[\"node\", \"name\"])\n",
    "for k in domain_range:\n",
    "    names = list(OrderedDict.fromkeys(domains[k][\"lists\"][\"DOMAIN\"]))\n",
    "    for domain in names:\n",
    "        image = \"figures/k{:02d}/{}\".format(k, domain)\n",
    "        node2id[k][domain] = id\n",
    "        id2k[id] = k\n",
    "        id2node[id] = domain\n",
    "        id2image[id] = image\n",
    "        nodes = nodes.append({\"node\": id,\n",
    "                              \"name\": domain, \n",
    "                              \"image\": image}, \n",
    "                             ignore_index=True)\n",
    "        id += 1\n",
    "nodes.head(10)"
   ]
  },
  {
   "cell_type": "code",
   "execution_count": 25,
   "metadata": {},
   "outputs": [
    {
     "data": {
      "text/html": [
       "<div>\n",
       "<style scoped>\n",
       "    .dataframe tbody tr th:only-of-type {\n",
       "        vertical-align: middle;\n",
       "    }\n",
       "\n",
       "    .dataframe tbody tr th {\n",
       "        vertical-align: top;\n",
       "    }\n",
       "\n",
       "    .dataframe thead th {\n",
       "        text-align: right;\n",
       "    }\n",
       "</style>\n",
       "<table border=\"1\" class=\"dataframe\">\n",
       "  <thead>\n",
       "    <tr style=\"text-align: right;\">\n",
       "      <th></th>\n",
       "      <th>source</th>\n",
       "      <th>source_name</th>\n",
       "      <th>target</th>\n",
       "      <th>target_name</th>\n",
       "      <th>weight</th>\n",
       "    </tr>\n",
       "  </thead>\n",
       "  <tbody>\n",
       "    <tr>\n",
       "      <th>0</th>\n",
       "      <td>1</td>\n",
       "      <td>MEMORY</td>\n",
       "      <td>9</td>\n",
       "      <td>MEMORY</td>\n",
       "      <td>0.666667</td>\n",
       "    </tr>\n",
       "    <tr>\n",
       "      <th>1</th>\n",
       "      <td>1</td>\n",
       "      <td>MEMORY</td>\n",
       "      <td>18</td>\n",
       "      <td>EMOTION</td>\n",
       "      <td>0.588235</td>\n",
       "    </tr>\n",
       "    <tr>\n",
       "      <th>2</th>\n",
       "      <td>2</td>\n",
       "      <td>REWARD</td>\n",
       "      <td>15</td>\n",
       "      <td>REWARD</td>\n",
       "      <td>0.409091</td>\n",
       "    </tr>\n",
       "    <tr>\n",
       "      <th>3</th>\n",
       "      <td>2</td>\n",
       "      <td>REWARD</td>\n",
       "      <td>16</td>\n",
       "      <td>ANTICIPATION</td>\n",
       "      <td>0.722222</td>\n",
       "    </tr>\n",
       "    <tr>\n",
       "      <th>4</th>\n",
       "      <td>3</td>\n",
       "      <td>COGNITION</td>\n",
       "      <td>8</td>\n",
       "      <td>REACTION_TIME</td>\n",
       "      <td>0.592593</td>\n",
       "    </tr>\n",
       "    <tr>\n",
       "      <th>5</th>\n",
       "      <td>3</td>\n",
       "      <td>COGNITION</td>\n",
       "      <td>14</td>\n",
       "      <td>MANIPULATION</td>\n",
       "      <td>0.378378</td>\n",
       "    </tr>\n",
       "    <tr>\n",
       "      <th>6</th>\n",
       "      <td>4</td>\n",
       "      <td>VISION</td>\n",
       "      <td>10</td>\n",
       "      <td>EPISODIC_MEMORY</td>\n",
       "      <td>0.421053</td>\n",
       "    </tr>\n",
       "    <tr>\n",
       "      <th>7</th>\n",
       "      <td>4</td>\n",
       "      <td>VISION</td>\n",
       "      <td>12</td>\n",
       "      <td>VISION</td>\n",
       "      <td>0.686567</td>\n",
       "    </tr>\n",
       "    <tr>\n",
       "      <th>8</th>\n",
       "      <td>5</td>\n",
       "      <td>MANIPULATION</td>\n",
       "      <td>13</td>\n",
       "      <td>EXECUTION</td>\n",
       "      <td>0.327273</td>\n",
       "    </tr>\n",
       "    <tr>\n",
       "      <th>9</th>\n",
       "      <td>5</td>\n",
       "      <td>MANIPULATION</td>\n",
       "      <td>17</td>\n",
       "      <td>REPRESENTATION</td>\n",
       "      <td>0.732394</td>\n",
       "    </tr>\n",
       "  </tbody>\n",
       "</table>\n",
       "</div>"
      ],
      "text/plain": [
       "  source   source_name target      target_name    weight\n",
       "0      1        MEMORY      9           MEMORY  0.666667\n",
       "1      1        MEMORY     18          EMOTION  0.588235\n",
       "2      2        REWARD     15           REWARD  0.409091\n",
       "3      2        REWARD     16     ANTICIPATION  0.722222\n",
       "4      3     COGNITION      8    REACTION_TIME  0.592593\n",
       "5      3     COGNITION     14     MANIPULATION  0.378378\n",
       "6      4        VISION     10  EPISODIC_MEMORY  0.421053\n",
       "7      4        VISION     12           VISION  0.686567\n",
       "8      5  MANIPULATION     13        EXECUTION  0.327273\n",
       "9      5  MANIPULATION     17   REPRESENTATION  0.732394"
      ]
     },
     "execution_count": 25,
     "metadata": {},
     "output_type": "execute_result"
    }
   ],
   "source": [
    "columns = [\"source\", \"source_name\", \"target\", \"target_name\", \"weight\"]\n",
    "edges = pd.DataFrame(columns=columns)\n",
    "for k, dw in zip(domain_range[:-1], domain_difs):\n",
    "    for source in sims[k].index:\n",
    "        for target in sims[k].columns:\n",
    "            weight = sims[k].loc[source, target]\n",
    "            fdr = fdrs[k].loc[source, target]\n",
    "            if weight == max(sims[k][target]) and weight > 0 and fdr < 0.001:\n",
    "                edges = edges.append({\"source\": node2id[k][source], \n",
    "                                      \"source_name\": source,\n",
    "                                      \"target\": node2id[k+dw][target], \n",
    "                                      \"target_name\": target,\n",
    "                                      \"weight\": weight}, \n",
    "                                     ignore_index=True)\n",
    "edges.head(10)"
   ]
  },
  {
   "cell_type": "code",
   "execution_count": 26,
   "metadata": {},
   "outputs": [],
   "source": [
    "G = nx.from_pandas_edgelist(edges, \"source\", \"target\", \"weight\", \n",
    "                            create_using=nx.DiGraph())"
   ]
  },
  {
   "cell_type": "code",
   "execution_count": 27,
   "metadata": {},
   "outputs": [],
   "source": [
    "trees = []\n",
    "for i in range(1, domain_range[0]+1):\n",
    "    g = nx.bfs_tree(G,i)\n",
    "    for id in g._node.keys():\n",
    "        g._node[id][\"name\"] = id2node[id]\n",
    "        g._node[id][\"image\"] = id2image[id]\n",
    "        g._node[id][\"color\"] = style.palettes[\"data-driven\"][i-1]\n",
    "        g._node[id][\"weight\"] = 0\n",
    "        if id in list(edges[\"target\"]):\n",
    "            g._node[id][\"weight\"] = float(edges.loc[edges[\"target\"] == id, \"weight\"].values[0])\n",
    "    trees.append((g, i))\n",
    "tree = nx.join(trees)"
   ]
  },
  {
   "cell_type": "code",
   "execution_count": 28,
   "metadata": {
    "scrolled": false
   },
   "outputs": [
    {
     "data": {
      "text/plain": [
       "{'id': 0,\n",
       " 'children': [{'name': 'MEMORY',\n",
       "   'image': 'figures/k06/MEMORY',\n",
       "   'color': '#5B81BD',\n",
       "   'weight': 0,\n",
       "   'id': 1,\n",
       "   'children': [{'name': 'MEMORY',\n",
       "     'image': 'figures/k12/MEMORY',\n",
       "     'color': '#5B81BD',\n",
       "     'weight': 0.6666666666666667,\n",
       "     'id': 2,\n",
       "     'children': [{'name': 'MEMORY',\n",
       "       'image': 'figures/k24/MEMORY',\n",
       "       'color': '#5B81BD',\n",
       "       'weight': 0.5098039215686274,\n",
       "       'id': 4},\n",
       "      {'name': 'EPISODIC_MEMORY',\n",
       "       'image': 'figures/k24/EPISODIC_MEMORY',\n",
       "       'color': '#5B81BD',\n",
       "       'weight': 0.7540983606557377,\n",
       "       'id': 5}]},\n",
       "    {'name': 'EMOTION',\n",
       "     'image': 'figures/k12/EMOTION',\n",
       "     'color': '#5B81BD',\n",
       "     'weight': 0.5882352941176471,\n",
       "     'id': 3,\n",
       "     'children': [{'name': 'EMOTION',\n",
       "       'image': 'figures/k24/EMOTION',\n",
       "       'color': '#5B81BD',\n",
       "       'weight': 0.5641025641025641,\n",
       "       'id': 6},\n",
       "      {'name': 'RECALL',\n",
       "       'image': 'figures/k24/RECALL',\n",
       "       'color': '#5B81BD',\n",
       "       'weight': 0.6046511627906976,\n",
       "       'id': 7}]}]},\n",
       "  {'name': 'REWARD',\n",
       "   'image': 'figures/k06/REWARD',\n",
       "   'color': '#C16137',\n",
       "   'weight': 0,\n",
       "   'id': 8,\n",
       "   'children': [{'name': 'REWARD',\n",
       "     'image': 'figures/k12/REWARD',\n",
       "     'color': '#C16137',\n",
       "     'weight': 0.40909090909090906,\n",
       "     'id': 9,\n",
       "     'children': [{'name': 'REWARD',\n",
       "       'image': 'figures/k24/REWARD',\n",
       "       'color': '#C16137',\n",
       "       'weight': 0.926829268292683,\n",
       "       'id': 11},\n",
       "      {'name': 'DECISION_MAKING',\n",
       "       'image': 'figures/k24/DECISION_MAKING',\n",
       "       'color': '#C16137',\n",
       "       'weight': 0.6111111111111112,\n",
       "       'id': 12},\n",
       "      {'name': 'LOSS',\n",
       "       'image': 'figures/k24/LOSS',\n",
       "       'color': '#C16137',\n",
       "       'weight': 0.7,\n",
       "       'id': 13}]},\n",
       "    {'name': 'ANTICIPATION',\n",
       "     'image': 'figures/k12/ANTICIPATION',\n",
       "     'color': '#C16137',\n",
       "     'weight': 0.7222222222222222,\n",
       "     'id': 10,\n",
       "     'children': [{'name': 'FEEDBACK',\n",
       "       'image': 'figures/k24/FEEDBACK',\n",
       "       'color': '#C16137',\n",
       "       'weight': 0.6896551724137931,\n",
       "       'id': 14}]}]},\n",
       "  {'name': 'COGNITION',\n",
       "   'image': 'figures/k06/COGNITION',\n",
       "   'color': '#DCC447',\n",
       "   'weight': 0,\n",
       "   'id': 15,\n",
       "   'children': [{'name': 'REACTION_TIME',\n",
       "     'image': 'figures/k12/REACTION_TIME',\n",
       "     'color': '#DCC447',\n",
       "     'weight': 0.5925925925925926,\n",
       "     'id': 16,\n",
       "     'children': [{'name': 'MANIPULATION',\n",
       "       'image': 'figures/k24/MANIPULATION',\n",
       "       'color': '#DCC447',\n",
       "       'weight': 0.5373134328358209,\n",
       "       'id': 18},\n",
       "      {'name': 'THOUGHT',\n",
       "       'image': 'figures/k24/THOUGHT',\n",
       "       'color': '#DCC447',\n",
       "       'weight': 0.3846153846153846,\n",
       "       'id': 19},\n",
       "      {'name': 'ANTICIPATION',\n",
       "       'image': 'figures/k24/ANTICIPATION',\n",
       "       'color': '#DCC447',\n",
       "       'weight': 0.29166666666666663,\n",
       "       'id': 20}]},\n",
       "    {'name': 'MANIPULATION',\n",
       "     'image': 'figures/k12/MANIPULATION',\n",
       "     'color': '#DCC447',\n",
       "     'weight': 0.3783783783783784,\n",
       "     'id': 17,\n",
       "     'children': [{'name': 'COGNITION',\n",
       "       'image': 'figures/k24/COGNITION',\n",
       "       'color': '#DCC447',\n",
       "       'weight': 0.43333333333333335,\n",
       "       'id': 21}]}]},\n",
       "  {'name': 'VISION',\n",
       "   'image': 'figures/k06/VISION',\n",
       "   'color': '#924DA0',\n",
       "   'weight': 0,\n",
       "   'id': 22,\n",
       "   'children': [{'name': 'EPISODIC_MEMORY',\n",
       "     'image': 'figures/k12/EPISODIC_MEMORY',\n",
       "     'color': '#924DA0',\n",
       "     'weight': 0.42105263157894735,\n",
       "     'id': 23,\n",
       "     'children': [{'name': 'ENCODING',\n",
       "       'image': 'figures/k24/ENCODING',\n",
       "       'color': '#924DA0',\n",
       "       'weight': 0.7741935483870968,\n",
       "       'id': 25},\n",
       "      {'name': 'RETRIEVAL',\n",
       "       'image': 'figures/k24/RETRIEVAL',\n",
       "       'color': '#924DA0',\n",
       "       'weight': 0.49122807017543857,\n",
       "       'id': 26}]},\n",
       "    {'name': 'VISION',\n",
       "     'image': 'figures/k12/VISION',\n",
       "     'color': '#924DA0',\n",
       "     'weight': 0.6865671641791045,\n",
       "     'id': 24,\n",
       "     'children': [{'name': 'VISION',\n",
       "       'image': 'figures/k24/VISION',\n",
       "       'color': '#924DA0',\n",
       "       'weight': 0.6,\n",
       "       'id': 27},\n",
       "      {'name': 'WORD',\n",
       "       'image': 'figures/k24/WORD',\n",
       "       'color': '#924DA0',\n",
       "       'weight': 0.5490196078431373,\n",
       "       'id': 28}]}]},\n",
       "  {'name': 'MANIPULATION',\n",
       "   'image': 'figures/k06/MANIPULATION',\n",
       "   'color': '#43A971',\n",
       "   'weight': 0,\n",
       "   'id': 29,\n",
       "   'children': [{'name': 'EXECUTION',\n",
       "     'image': 'figures/k12/EXECUTION',\n",
       "     'color': '#43A971',\n",
       "     'weight': 0.32727272727272727,\n",
       "     'id': 30,\n",
       "     'children': [{'name': 'EXECUTION',\n",
       "       'image': 'figures/k24/EXECUTION',\n",
       "       'color': '#43A971',\n",
       "       'weight': 1.0,\n",
       "       'id': 32}]},\n",
       "    {'name': 'REPRESENTATION',\n",
       "     'image': 'figures/k12/REPRESENTATION',\n",
       "     'color': '#43A971',\n",
       "     'weight': 0.7323943661971831,\n",
       "     'id': 31,\n",
       "     'children': [{'name': 'REPRESENTATION',\n",
       "       'image': 'figures/k24/REPRESENTATION',\n",
       "       'color': '#43A971',\n",
       "       'weight': 0.9056603773584906,\n",
       "       'id': 33}]}]},\n",
       "  {'name': 'LANGUAGE',\n",
       "   'image': 'figures/k06/LANGUAGE',\n",
       "   'color': '#D19A17',\n",
       "   'weight': 0,\n",
       "   'id': 34,\n",
       "   'children': [{'name': 'HEARING',\n",
       "     'image': 'figures/k12/HEARING',\n",
       "     'color': '#D19A17',\n",
       "     'weight': 0.6363636363636364,\n",
       "     'id': 35,\n",
       "     'children': [{'name': 'LANGUAGE',\n",
       "       'image': 'figures/k24/LANGUAGE',\n",
       "       'color': '#D19A17',\n",
       "       'weight': 0.64,\n",
       "       'id': 37},\n",
       "      {'name': 'PERCEPTION',\n",
       "       'image': 'figures/k24/PERCEPTION',\n",
       "       'color': '#D19A17',\n",
       "       'weight': 0.75,\n",
       "       'id': 38}]},\n",
       "    {'name': 'LANGUAGE',\n",
       "     'image': 'figures/k12/LANGUAGE',\n",
       "     'color': '#D19A17',\n",
       "     'weight': 0.6031746031746033,\n",
       "     'id': 36,\n",
       "     'children': [{'name': 'MEANING',\n",
       "       'image': 'figures/k24/MEANING',\n",
       "       'color': '#D19A17',\n",
       "       'weight': 0.6666666666666667,\n",
       "       'id': 39},\n",
       "      {'name': 'SPEECH',\n",
       "       'image': 'figures/k24/SPEECH',\n",
       "       'color': '#D19A17',\n",
       "       'weight': 0.6046511627906976,\n",
       "       'id': 40},\n",
       "      {'name': 'SOCIAL_COGNITION',\n",
       "       'image': 'figures/k24/SOCIAL_COGNITION',\n",
       "       'color': '#D19A17',\n",
       "       'weight': 0.34042553191489366,\n",
       "       'id': 41}]}]}]}"
      ]
     },
     "execution_count": 28,
     "metadata": {},
     "output_type": "execute_result"
    }
   ],
   "source": [
    "hierarchy = [nx.readwrite.json_graph.tree_data(tree, root=0)]\n",
    "hierarchy[0]"
   ]
  },
  {
   "cell_type": "code",
   "execution_count": 29,
   "metadata": {},
   "outputs": [],
   "source": [
    "text = str(hierarchy).replace(\"'\", '\"')\n",
    "with open(\"hierarchy.json\", \"w+\") as outfile:\n",
    "    outfile.write(text)"
   ]
  },
  {
   "cell_type": "markdown",
   "metadata": {},
   "source": [
    "# Plot node images"
   ]
  },
  {
   "cell_type": "code",
   "execution_count": 30,
   "metadata": {},
   "outputs": [
    {
     "name": "stderr",
     "output_type": "stream",
     "text": [
      "/anaconda3/envs/ontol/lib/python3.6/site-packages/sklearn/externals/joblib/__init__.py:15: DeprecationWarning: sklearn.externals.joblib is deprecated in 0.21 and will be removed in 0.23. Please import this functionality directly from joblib, which can be installed with: pip install joblib. If this warning is raised when loading pickled models, you may need to re-serialize those models with scikit-learn 0.21+.\n",
      "  warnings.warn(msg, category=DeprecationWarning)\n"
     ]
    }
   ],
   "source": [
    "import os\n",
    "from nilearn import image, plotting\n",
    "%matplotlib inline"
   ]
  },
  {
   "cell_type": "markdown",
   "metadata": {},
   "source": [
    "## Brain slices"
   ]
  },
  {
   "cell_type": "code",
   "execution_count": 31,
   "metadata": {},
   "outputs": [],
   "source": [
    "atlas = utilities.load_atlas()"
   ]
  },
  {
   "cell_type": "code",
   "execution_count": 32,
   "metadata": {},
   "outputs": [],
   "source": [
    "colors = style.palettes[\"data-driven\"]\n",
    "cmaps = [style.make_cmap(color) for color in colors]"
   ]
  },
  {
   "cell_type": "code",
   "execution_count": 33,
   "metadata": {},
   "outputs": [],
   "source": [
    "node2color_id = {k: {} for k in domain_range}\n",
    "for i in range(1, domain_range[0]+1):\n",
    "    g = nx.bfs_tree(G,i)\n",
    "    for id in g._node.keys():\n",
    "        k = id2k[id]\n",
    "        node = id2node[id]\n",
    "        node2color_id[k][node] = i-1"
   ]
  },
  {
   "cell_type": "code",
   "execution_count": 34,
   "metadata": {},
   "outputs": [],
   "source": [
    "def map_domain(data, domain, atlas, path, cmap=cmaps[0], suffix=\"\", plane=\"z\", \n",
    "               cbar=False, annotate=False, vmin=None, vmax=None, print_fig=True):\n",
    "\n",
    "    stat_map = image.copy_img(atlas).get_data()\n",
    "    for i, value in enumerate(data):\n",
    "        stat_map[stat_map == i+1] = value\n",
    "    stat_map = image.new_img_like(atlas, stat_map)\n",
    "    display = plotting.plot_stat_map(stat_map,\n",
    "                                     cut_coords=1,\n",
    "                                     display_mode=plane, \n",
    "                                     symmetric_cbar=False, colorbar=cbar,\n",
    "                                     cmap=cmap, threshold=vmin, \n",
    "                                     vmax=vmax, alpha=0.5,\n",
    "                                     annotate=annotate, draw_cross=False)\n",
    "    if print_fig:\n",
    "        plotting.show()\n",
    "    file_name = \"{}/{}{}.png\".format(path, domain, suffix)\n",
    "    display.savefig(file_name, dpi=250)\n",
    "    utilities.transparent_background(file_name)\n",
    "    display.close()"
   ]
  },
  {
   "cell_type": "code",
   "execution_count": 35,
   "metadata": {
    "scrolled": false
   },
   "outputs": [
    {
     "name": "stderr",
     "output_type": "stream",
     "text": [
      "/anaconda3/envs/ontol/lib/python3.6/site-packages/nilearn/plotting/displays.py:1582: MatplotlibDeprecationWarning: Adding an axes using the same arguments as a previous axes currently reuses the earlier instance.  In a future version, a new instance will always be created and returned.  Meanwhile, this warning can be suppressed, and the future behavior ensured, by passing a unique label to each axes instance.\n",
      "  fraction * (x1 - x0), y1 - y0])\n"
     ]
    }
   ],
   "source": [
    "for k in domain_range:\n",
    "    \n",
    "    path = \"figures/k{:02}\".format(k)\n",
    "    if not os.path.exists(path):\n",
    "        os.makedirs(path)\n",
    "    \n",
    "    lists = domains[k][\"lists\"]\n",
    "    circuit = domains[k][\"circuit\"]\n",
    "    names = list(OrderedDict.fromkeys(circuit[\"DOMAIN\"]))\n",
    "    \n",
    "    scores = utilities.score_lists(lists, dtm_bin, label_var=\"DOMAIN\").loc[act_bin.index]\n",
    "    pmi = ontology.compute_cooccurrences(act_bin, scores, positive=True)\n",
    "    pmi = ontology.threshold_pmi_by_circuits(pmi, circuit)\n",
    "    vmaxs = [round(v, 2) for v in pmi.max()]\n",
    "    \n",
    "    for i, name in enumerate(names):\n",
    "        if name in node2color_id[k].keys():\n",
    "            map_domain(pmi[name], name, atlas, path, \n",
    "                       cmap=cmaps[node2color_id[k][name]], suffix=\"_z\", plane=\"z\", cbar=False, \n",
    "                       vmin=0.0, vmax=vmaxs[i], print_fig=False, annotate=False)"
   ]
  },
  {
   "cell_type": "markdown",
   "metadata": {},
   "source": [
    "## Word clouds"
   ]
  },
  {
   "cell_type": "code",
   "execution_count": 36,
   "metadata": {},
   "outputs": [],
   "source": [
    "from wordcloud import WordCloud\n",
    "import matplotlib.pyplot as plt"
   ]
  },
  {
   "cell_type": "code",
   "execution_count": 37,
   "metadata": {},
   "outputs": [],
   "source": [
    "for k in domain_range:\n",
    "    nodes = node2color_id[k].keys()\n",
    "    lists = domains[k][\"lists\"]\n",
    "    colors = [style.palettes[\"data-driven\"][node2color_id[k][node]] for node in nodes]\n",
    "    ontology.plot_wordclouds(\"figures/k{:02d}\".format(k), nodes, lists, metric=\"R\", \n",
    "                             path=\"\", suffix=\"\".format(k), palette=colors,\n",
    "                             height=300, width=600, min_font_size=0, max_font_size=50,\n",
    "                             brightness_offset=0.15, darkness_offset=-0.35, n_offsets=25,\n",
    "                             font=\"../style/Avenir.ttf\", print_fig=False)"
   ]
  },
  {
   "cell_type": "code",
   "execution_count": null,
   "metadata": {},
   "outputs": [],
   "source": []
  }
 ],
 "metadata": {
  "kernelspec": {
   "display_name": "Python [conda env:ontol] *",
   "language": "python",
   "name": "conda-env-ontol-py"
  },
  "language_info": {
   "codemirror_mode": {
    "name": "ipython",
    "version": 3
   },
   "file_extension": ".py",
   "mimetype": "text/x-python",
   "name": "python",
   "nbconvert_exporter": "python",
   "pygments_lexer": "ipython3",
   "version": "3.6.8"
  }
 },
 "nbformat": 4,
 "nbformat_minor": 2
}
